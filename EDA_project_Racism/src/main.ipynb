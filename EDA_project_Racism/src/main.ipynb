{
 "metadata": {
  "language_info": {
   "codemirror_mode": {
    "name": "ipython",
    "version": 3
   },
   "file_extension": ".py",
   "mimetype": "text/x-python",
   "name": "python",
   "nbconvert_exporter": "python",
   "pygments_lexer": "ipython3",
   "version": "3.9.0-final"
  },
  "orig_nbformat": 2,
  "kernelspec": {
   "name": "python3",
   "display_name": "Python 3.9.0 64-bit",
   "metadata": {
    "interpreter": {
     "hash": "cf88cdeb52cfbd9b7891bd0104565f5c75083759e3ad4e400c6eab5e28be6642"
    }
   }
  }
 },
 "nbformat": 4,
 "nbformat_minor": 2,
 "cells": [
  {
   "source": [
    "# Racism and Fatal Police Shooting in the US\n",
    "\n",
    "---------------------"
   ],
   "cell_type": "markdown",
   "metadata": {}
  },
  {
   "source": [
    "![Racism](../resources/foto_racism.jpg)"
   ],
   "cell_type": "markdown",
   "metadata": {}
  },
  {
   "source": [
    "## 1.Introduction\n",
    "\n",
    "For my personal EDA project, I have chosen a very controversial topic that has been in national televisions all around the world and protests have been spreading around the globe.  The topic as such is:  Racism and fatal police Shooting in the US.\n",
    "We often hear that police in the US, have a tendency to act strong against non-white people, specially black people.  Therefore, my goal is to prove if this is true by means of data.\n",
    "\n",
    "The data I have collected has been from kaggle but the original data was gathered by a journalist from the Washington Post.  The data was collected from 2015 to 2017.\n",
    "\n",
    "To achieve my goal, the main data I took into acount was the share of the different races (specially black race) and the states where there were more police brutality\n",
    "\n",
    "-------------------\n",
    "\n",
    "### Columns Information\n",
    "\n",
    "The main information in the columns I have used are:\n",
    "\n",
    "- Age - Age of the people being killed by the police\t\n",
    "- Gender - Gender of the people beeing killed by police\n",
    "- Race - Types of races studied: White, black, Hispanic, Asian, Native American\t\n",
    "- City - Cities with more fatal police shooting\n",
    "- State\t- States with more fatal police shooting\n",
    "- Threat_Level - Real threat caused by the suspects\t\n",
    "- year - 2015,2016,2017\n",
    "- Share of the race = Ratio of the different races killed\n",
    "- Percent_Completed_Hs =  Percentage of people that have finished High School\n",
    "- Poverty_Rate = Poverty Rate of cities and states\n",
    "\n",
    "-------------------\n",
    "\n",
    "### Hypothesis\n",
    "\n",
    "- The percentage of Fatal police Shooting in the US is higher within black population in comparison with other races\n",
    "\n"
   ],
   "cell_type": "markdown",
   "metadata": {}
  },
  {
   "cell_type": "code",
   "execution_count": 1,
   "metadata": {},
   "outputs": [],
   "source": [
    "root_path = os.path.dirname(os.getcwd())\n",
    "sys.path.append(root_path)\n",
    "sys.path = list(set(sys.path)) \n",
    "\n",
    "import pandas as pd\n",
    "import numpy as np\n",
    "import sys \n",
    "import os \n",
    "from datetime import datetime"
   ]
  },
  {
   "cell_type": "code",
   "execution_count": 2,
   "metadata": {},
   "outputs": [],
   "source": [
    "from src.utils.visualization_tb import *\n",
    "from src.utils.folders_tb import *\n",
    "from src.utils.mining_data_tb import *"
   ]
  },
  {
   "source": [
    "## 2.Data Wrangling"
   ],
   "cell_type": "markdown",
   "metadata": {}
  },
  {
   "cell_type": "code",
   "execution_count": 3,
   "metadata": {},
   "outputs": [],
   "source": [
    "race_type = pd.read_csv(root_path + \"\\\\documentation\\\\Fatal_police_shooting\\ShareRaceByCity.csv\",encoding= 'unicode_escape')\n",
    "police_killings = pd.read_csv(root_path + \"\\\\documentation\\\\Fatal_police_shooting\\\\PoliceKillingsUS.csv\",encoding= 'unicode_escape')\n",
    "high_school = pd.read_csv(root_path + \"\\\\documentation\\\\Fatal_police_shooting\\\\PercentOver25CompletedHighSchool.csv\",encoding= 'unicode_escape')\n",
    "poverty_rate = pd.read_csv(root_path + \"\\\\documentation\\\\Fatal_police_shooting\\\\PercentagePeopleBelowPovertyLevel.csv\",encoding= 'unicode_escape')"
   ]
  },
  {
   "source": [
    "## 3.Glimpse of Data"
   ],
   "cell_type": "markdown",
   "metadata": {}
  },
  {
   "cell_type": "code",
   "execution_count": 4,
   "metadata": {},
   "outputs": [
    {
     "output_type": "execute_result",
     "data": {
      "text/plain": [
       "   id              name      date manner_of_death armed   age gender race  \\\n",
       "0   3        Tim Elliot  02/01/15            shot   gun  53.0      M    A   \n",
       "1   4  Lewis Lee Lembke  02/01/15            shot   gun  47.0      M    W   \n",
       "\n",
       "      city state  signs_of_mental_illness threat_level         flee  \\\n",
       "0  Shelton    WA                     True       attack  Not fleeing   \n",
       "1    Aloha    OR                    False       attack  Not fleeing   \n",
       "\n",
       "   body_camera  \n",
       "0        False  \n",
       "1        False  "
      ],
      "text/html": "<div>\n<style scoped>\n    .dataframe tbody tr th:only-of-type {\n        vertical-align: middle;\n    }\n\n    .dataframe tbody tr th {\n        vertical-align: top;\n    }\n\n    .dataframe thead th {\n        text-align: right;\n    }\n</style>\n<table border=\"1\" class=\"dataframe\">\n  <thead>\n    <tr style=\"text-align: right;\">\n      <th></th>\n      <th>id</th>\n      <th>name</th>\n      <th>date</th>\n      <th>manner_of_death</th>\n      <th>armed</th>\n      <th>age</th>\n      <th>gender</th>\n      <th>race</th>\n      <th>city</th>\n      <th>state</th>\n      <th>signs_of_mental_illness</th>\n      <th>threat_level</th>\n      <th>flee</th>\n      <th>body_camera</th>\n    </tr>\n  </thead>\n  <tbody>\n    <tr>\n      <th>0</th>\n      <td>3</td>\n      <td>Tim Elliot</td>\n      <td>02/01/15</td>\n      <td>shot</td>\n      <td>gun</td>\n      <td>53.0</td>\n      <td>M</td>\n      <td>A</td>\n      <td>Shelton</td>\n      <td>WA</td>\n      <td>True</td>\n      <td>attack</td>\n      <td>Not fleeing</td>\n      <td>False</td>\n    </tr>\n    <tr>\n      <th>1</th>\n      <td>4</td>\n      <td>Lewis Lee Lembke</td>\n      <td>02/01/15</td>\n      <td>shot</td>\n      <td>gun</td>\n      <td>47.0</td>\n      <td>M</td>\n      <td>W</td>\n      <td>Aloha</td>\n      <td>OR</td>\n      <td>False</td>\n      <td>attack</td>\n      <td>Not fleeing</td>\n      <td>False</td>\n    </tr>\n  </tbody>\n</table>\n</div>"
     },
     "metadata": {},
     "execution_count": 4
    }
   ],
   "source": [
    "police_killings.head(2)"
   ]
  },
  {
   "cell_type": "code",
   "execution_count": 5,
   "metadata": {},
   "outputs": [
    {
     "output_type": "execute_result",
     "data": {
      "text/plain": [
       "  Geographic area            City share_white share_black  \\\n",
       "0              AL      Abanda CDP        67.2        30.2   \n",
       "1              AL  Abbeville city        54.4        41.4   \n",
       "\n",
       "  share_native_american share_asian share_hispanic  \n",
       "0                     0           0            1.6  \n",
       "1                   0.1           1            3.1  "
      ],
      "text/html": "<div>\n<style scoped>\n    .dataframe tbody tr th:only-of-type {\n        vertical-align: middle;\n    }\n\n    .dataframe tbody tr th {\n        vertical-align: top;\n    }\n\n    .dataframe thead th {\n        text-align: right;\n    }\n</style>\n<table border=\"1\" class=\"dataframe\">\n  <thead>\n    <tr style=\"text-align: right;\">\n      <th></th>\n      <th>Geographic area</th>\n      <th>City</th>\n      <th>share_white</th>\n      <th>share_black</th>\n      <th>share_native_american</th>\n      <th>share_asian</th>\n      <th>share_hispanic</th>\n    </tr>\n  </thead>\n  <tbody>\n    <tr>\n      <th>0</th>\n      <td>AL</td>\n      <td>Abanda CDP</td>\n      <td>67.2</td>\n      <td>30.2</td>\n      <td>0</td>\n      <td>0</td>\n      <td>1.6</td>\n    </tr>\n    <tr>\n      <th>1</th>\n      <td>AL</td>\n      <td>Abbeville city</td>\n      <td>54.4</td>\n      <td>41.4</td>\n      <td>0.1</td>\n      <td>1</td>\n      <td>3.1</td>\n    </tr>\n  </tbody>\n</table>\n</div>"
     },
     "metadata": {},
     "execution_count": 5
    }
   ],
   "source": [
    "race_type.head(2)"
   ]
  },
  {
   "cell_type": "code",
   "execution_count": 6,
   "metadata": {},
   "outputs": [
    {
     "output_type": "execute_result",
     "data": {
      "text/plain": [
       "  Geographic Area            City percent_completed_hs\n",
       "0              AL      Abanda CDP                 21.2\n",
       "1              AL  Abbeville city                 69.1"
      ],
      "text/html": "<div>\n<style scoped>\n    .dataframe tbody tr th:only-of-type {\n        vertical-align: middle;\n    }\n\n    .dataframe tbody tr th {\n        vertical-align: top;\n    }\n\n    .dataframe thead th {\n        text-align: right;\n    }\n</style>\n<table border=\"1\" class=\"dataframe\">\n  <thead>\n    <tr style=\"text-align: right;\">\n      <th></th>\n      <th>Geographic Area</th>\n      <th>City</th>\n      <th>percent_completed_hs</th>\n    </tr>\n  </thead>\n  <tbody>\n    <tr>\n      <th>0</th>\n      <td>AL</td>\n      <td>Abanda CDP</td>\n      <td>21.2</td>\n    </tr>\n    <tr>\n      <th>1</th>\n      <td>AL</td>\n      <td>Abbeville city</td>\n      <td>69.1</td>\n    </tr>\n  </tbody>\n</table>\n</div>"
     },
     "metadata": {},
     "execution_count": 6
    }
   ],
   "source": [
    "high_school.head(2)"
   ]
  },
  {
   "cell_type": "code",
   "execution_count": 7,
   "metadata": {},
   "outputs": [
    {
     "output_type": "execute_result",
     "data": {
      "text/plain": [
       "  Geographic Area            City poverty_rate\n",
       "0              AL      Abanda CDP         78.8\n",
       "1              AL  Abbeville city         29.1"
      ],
      "text/html": "<div>\n<style scoped>\n    .dataframe tbody tr th:only-of-type {\n        vertical-align: middle;\n    }\n\n    .dataframe tbody tr th {\n        vertical-align: top;\n    }\n\n    .dataframe thead th {\n        text-align: right;\n    }\n</style>\n<table border=\"1\" class=\"dataframe\">\n  <thead>\n    <tr style=\"text-align: right;\">\n      <th></th>\n      <th>Geographic Area</th>\n      <th>City</th>\n      <th>poverty_rate</th>\n    </tr>\n  </thead>\n  <tbody>\n    <tr>\n      <th>0</th>\n      <td>AL</td>\n      <td>Abanda CDP</td>\n      <td>78.8</td>\n    </tr>\n    <tr>\n      <th>1</th>\n      <td>AL</td>\n      <td>Abbeville city</td>\n      <td>29.1</td>\n    </tr>\n  </tbody>\n</table>\n</div>"
     },
     "metadata": {},
     "execution_count": 7
    }
   ],
   "source": [
    "poverty_rate.head(2)"
   ]
  },
  {
   "source": [
    "## 4. Data Cleaning\n",
    "The goal of data cleaning is to have all the data ready to use in our analysis.  To do so, all the dataframes will be cleaned in order to merge them into a final dataframe which will we used for the analysis.  Our final dataframe will be called kill_and_social\n",
    "\n",
    "#### Changes made to be able to merge the dataframes:\n",
    "\n",
    "#### 4.1 Capitalizing first letter of every word in the column names"
   ],
   "cell_type": "markdown",
   "metadata": {}
  },
  {
   "cell_type": "code",
   "execution_count": 8,
   "metadata": {},
   "outputs": [],
   "source": [
    "#2.1 Capitalizing first letter of every word in the column names so i can merge with same format of column names\n",
    "police_killings = capitalize_first_letter_column(df=police_killings)\n",
    "race_type = capitalize_first_letter_column(df=race_type)\n",
    "high_school = capitalize_first_letter_column(df=high_school)\n",
    "poverty_rate = capitalize_first_letter_column(df=poverty_rate)"
   ]
  },
  {
   "source": [
    "#### 4.2 Merging dataframes"
   ],
   "cell_type": "markdown",
   "metadata": {}
  },
  {
   "cell_type": "code",
   "execution_count": 9,
   "metadata": {},
   "outputs": [],
   "source": [
    "#merging the inicial dataframes that have social data\n",
    "social_info = merging_dataframes(df=race_type,df1=high_school,df2=poverty_rate)"
   ]
  },
  {
   "source": [
    "#### 4.3 Renaming Columns"
   ],
   "cell_type": "markdown",
   "metadata": {}
  },
  {
   "cell_type": "code",
   "execution_count": 10,
   "metadata": {},
   "outputs": [],
   "source": [
    "#Renaming columns to be able to merge\n",
    "social_info = renaming_cols(df=social_info)"
   ]
  },
  {
   "source": [
    "#### 4.4 Cleaning each Dataframe\n",
    " At this point we have 2 dataframes.  \n",
    " We will proceed to analyse and clean them\n",
    "\n",
    "These are the dataframes names:\n",
    "\n",
    "- police_killings\n",
    "- social_info\n",
    "\n",
    "This is the final dataframe we will get by merging the above 2 dataframes:\n",
    "\n",
    "- kill_and_social"
   ],
   "cell_type": "markdown",
   "metadata": {}
  },
  {
   "source": [
    "### Dataframe cleaning - police_killings:"
   ],
   "cell_type": "markdown",
   "metadata": {}
  },
  {
   "cell_type": "code",
   "execution_count": 11,
   "metadata": {},
   "outputs": [
    {
     "output_type": "stream",
     "name": "stdout",
     "text": [
      "<class 'pandas.core.frame.DataFrame'>\nRangeIndex: 2535 entries, 0 to 2534\nData columns (total 14 columns):\n #   Column                   Non-Null Count  Dtype  \n---  ------                   --------------  -----  \n 0   Id                       2535 non-null   int64  \n 1   Name                     2535 non-null   object \n 2   Date                     2535 non-null   object \n 3   Manner_Of_Death          2535 non-null   object \n 4   Armed                    2526 non-null   object \n 5   Age                      2458 non-null   float64\n 6   Gender                   2535 non-null   object \n 7   Race                     2340 non-null   object \n 8   City                     2535 non-null   object \n 9   State                    2535 non-null   object \n 10  Signs_Of_Mental_Illness  2535 non-null   bool   \n 11  Threat_Level             2535 non-null   object \n 12  Flee                     2470 non-null   object \n 13  Body_Camera              2535 non-null   bool   \ndtypes: bool(2), float64(1), int64(1), object(10)\nmemory usage: 242.7+ KB\n"
     ]
    }
   ],
   "source": [
    "police_killings.info()"
   ]
  },
  {
   "cell_type": "code",
   "execution_count": 12,
   "metadata": {},
   "outputs": [],
   "source": [
    "#Dropping unnecessary columns\n",
    "police_killings = drop_columns_killing_df(police_killings)"
   ]
  },
  {
   "cell_type": "code",
   "execution_count": 13,
   "metadata": {},
   "outputs": [],
   "source": [
    "#Transforming column Date to a datatime and extracting the year from the datatime and adding it as a new column\n",
    "polic_killings = changing_dates(police_killings)"
   ]
  },
  {
   "cell_type": "code",
   "execution_count": 14,
   "metadata": {},
   "outputs": [],
   "source": [
    "#Transforming race name abreviations to the full word in order to have a better understanding of the results\n",
    "police_killings = renaming_row_race_values(police_killings)"
   ]
  },
  {
   "cell_type": "code",
   "execution_count": 15,
   "metadata": {},
   "outputs": [
    {
     "output_type": "execute_result",
     "data": {
      "text/plain": [
       "Name                 0\n",
       "Date                 0\n",
       "Manner_Of_Death      0\n",
       "Armed                9\n",
       "Age                 77\n",
       "Gender               0\n",
       "Race               195\n",
       "City                 0\n",
       "State                0\n",
       "Threat_Level         0\n",
       "year                 0\n",
       "dtype: int64"
      ]
     },
     "metadata": {},
     "execution_count": 15
    }
   ],
   "source": [
    "#Checking if there are missing values\n",
    "counting_nulls(df=police_killings)"
   ]
  },
  {
   "cell_type": "code",
   "execution_count": 16,
   "metadata": {},
   "outputs": [
    {
     "output_type": "execute_result",
     "data": {
      "text/plain": [
       "Name               0.000000\n",
       "Date               0.000000\n",
       "Manner_Of_Death    0.000000\n",
       "Armed              0.355030\n",
       "Age                3.037475\n",
       "Gender             0.000000\n",
       "Race               7.692308\n",
       "City               0.000000\n",
       "State              0.000000\n",
       "Threat_Level       0.000000\n",
       "year               0.000000\n",
       "dtype: float64"
      ]
     },
     "metadata": {},
     "execution_count": 16
    }
   ],
   "source": [
    "#Gathering missing values percentage in relation with the full dataframe so we can make decisions in what to do with those values/rows\n",
    "percent_missing_values(df=police_killings)"
   ]
  },
  {
   "cell_type": "code",
   "execution_count": 17,
   "metadata": {},
   "outputs": [],
   "source": [
    "#Dropping rows where values are NaN.  \n",
    "#Race is our core subject so if there aren´t values,those rows are not necessary\n",
    "#Porcentage of NaN values in Armed column is insignificant so we proceed to delete them\n",
    "police_killings = drop_nan_rows(df=police_killings,df_column=police_killings[\"Race\"])\n",
    "police_killings = drop_nan_rows(df=police_killings,df_column=police_killings[\"Armed\"])"
   ]
  },
  {
   "cell_type": "code",
   "execution_count": 18,
   "metadata": {},
   "outputs": [],
   "source": [
    "#Missing age values are completed with the mean value\n",
    "age_complete(df_column=police_killings[\"Age\"])"
   ]
  },
  {
   "cell_type": "code",
   "execution_count": 19,
   "metadata": {},
   "outputs": [
    {
     "output_type": "stream",
     "name": "stdout",
     "text": [
      "<class 'pandas.core.frame.DataFrame'>\nInt64Index: 2334 entries, 0 to 2534\nData columns (total 11 columns):\n #   Column           Non-Null Count  Dtype         \n---  ------           --------------  -----         \n 0   Name             2334 non-null   object        \n 1   Date             2334 non-null   datetime64[ns]\n 2   Manner_Of_Death  2334 non-null   object        \n 3   Armed            2334 non-null   object        \n 4   Age              2334 non-null   float64       \n 5   Gender           2334 non-null   object        \n 6   Race             2334 non-null   object        \n 7   City             2334 non-null   object        \n 8   State            2334 non-null   object        \n 9   Threat_Level     2334 non-null   object        \n 10  year             2334 non-null   int64         \ndtypes: datetime64[ns](1), float64(1), int64(1), object(8)\nmemory usage: 218.8+ KB\n"
     ]
    }
   ],
   "source": [
    "#We have a clean dataframe ready to use\n",
    "police_killings.info()"
   ]
  },
  {
   "source": [
    "### Dataframe Cleaning : social_info"
   ],
   "cell_type": "markdown",
   "metadata": {}
  },
  {
   "cell_type": "code",
   "execution_count": 20,
   "metadata": {},
   "outputs": [
    {
     "output_type": "stream",
     "name": "stdout",
     "text": [
      "<class 'pandas.core.frame.DataFrame'>\nInt64Index: 29122 entries, 0 to 29121\nData columns (total 9 columns):\n #   Column                 Non-Null Count  Dtype \n---  ------                 --------------  ----- \n 0   State                  29122 non-null  object\n 1   City                   29122 non-null  object\n 2   Share_White            29122 non-null  object\n 3   Share_Black            29122 non-null  object\n 4   Share_Native_American  29122 non-null  object\n 5   Share_Asian            29122 non-null  object\n 6   Share_Hispanic         29122 non-null  object\n 7   Percent_Completed_Hs   29122 non-null  object\n 8   Poverty_Rate           29122 non-null  object\ndtypes: object(9)\nmemory usage: 2.2+ MB\n"
     ]
    }
   ],
   "source": [
    "#Dataframe with all the race population ratio\n",
    "social_info.info()"
   ]
  },
  {
   "cell_type": "code",
   "execution_count": 21,
   "metadata": {},
   "outputs": [
    {
     "output_type": "execute_result",
     "data": {
      "text/plain": [
       "State                    0\n",
       "City                     0\n",
       "Share_White              0\n",
       "Share_Black              0\n",
       "Share_Native_American    0\n",
       "Share_Asian              0\n",
       "Share_Hispanic           0\n",
       "Percent_Completed_Hs     0\n",
       "Poverty_Rate             0\n",
       "dtype: int64"
      ]
     },
     "metadata": {},
     "execution_count": 21
    }
   ],
   "source": [
    "#Identifying missing values\n",
    "counting_nulls(df=social_info)"
   ]
  },
  {
   "cell_type": "code",
   "execution_count": 22,
   "metadata": {},
   "outputs": [],
   "source": [
    "#Deleting unnecesary strings and transforming numeric columns to type float\n",
    "social_info = pasando_a_nans(social_info)"
   ]
  },
  {
   "cell_type": "code",
   "execution_count": 23,
   "metadata": {},
   "outputs": [
    {
     "output_type": "stream",
     "name": "stdout",
     "text": [
      "<class 'pandas.core.frame.DataFrame'>\nInt64Index: 29122 entries, 0 to 29121\nData columns (total 9 columns):\n #   Column                 Non-Null Count  Dtype  \n---  ------                 --------------  -----  \n 0   State                  29122 non-null  object \n 1   City                   29122 non-null  object \n 2   Share_White            29103 non-null  float64\n 3   Share_Black            29103 non-null  float64\n 4   Share_Native_American  29103 non-null  float64\n 5   Share_Asian            29103 non-null  float64\n 6   Share_Hispanic         29103 non-null  float64\n 7   Percent_Completed_Hs   28931 non-null  float64\n 8   Poverty_Rate           28927 non-null  float64\ndtypes: float64(7), object(2)\nmemory usage: 2.2+ MB\n"
     ]
    }
   ],
   "source": [
    "#Missing value issues in this dataframe will be solved when we merge this dataframe with the one before (police_killings)\n",
    "social_info.info()"
   ]
  },
  {
   "source": [
    "#### Final Dataframe Cleaning : kill_and_social"
   ],
   "cell_type": "markdown",
   "metadata": {}
  },
  {
   "cell_type": "code",
   "execution_count": 24,
   "metadata": {},
   "outputs": [],
   "source": [
    "#Merging both dataframes and solving social_info missing values issue to create the final dataframe which will be used for our visualizations\n",
    "kill_and_social = merge_kill_social(df=social_info,df2=police_killings)"
   ]
  },
  {
   "cell_type": "code",
   "execution_count": 25,
   "metadata": {},
   "outputs": [],
   "source": [
    "#Transforming Year column from float to int\n",
    "kill_and_social['year'] = kill_and_social['year'].astype(int)"
   ]
  },
  {
   "cell_type": "code",
   "execution_count": 26,
   "metadata": {},
   "outputs": [
    {
     "output_type": "stream",
     "name": "stdout",
     "text": [
      "<class 'pandas.core.frame.DataFrame'>\nInt64Index: 1998 entries, 0 to 2342\nData columns (total 18 columns):\n #   Column                 Non-Null Count  Dtype         \n---  ------                 --------------  -----         \n 0   Name                   1998 non-null   object        \n 1   Date                   1998 non-null   datetime64[ns]\n 2   Manner_Of_Death        1998 non-null   object        \n 3   Armed                  1998 non-null   object        \n 4   Age                    1998 non-null   float64       \n 5   Gender                 1998 non-null   object        \n 6   Race                   1998 non-null   object        \n 7   City                   1998 non-null   object        \n 8   State                  1998 non-null   object        \n 9   Threat_Level           1998 non-null   object        \n 10  year                   1998 non-null   int32         \n 11  Share_White            1998 non-null   float64       \n 12  Share_Black            1998 non-null   float64       \n 13  Share_Native_American  1998 non-null   float64       \n 14  Share_Asian            1998 non-null   float64       \n 15  Share_Hispanic         1998 non-null   float64       \n 16  Percent_Completed_Hs   1998 non-null   float64       \n 17  Poverty_Rate           1998 non-null   float64       \ndtypes: datetime64[ns](1), float64(8), int32(1), object(8)\nmemory usage: 288.8+ KB\n"
     ]
    }
   ],
   "source": [
    "#Dataframe cleaned to be used in our analysis and visualization\n",
    "kill_and_social.info()"
   ]
  },
  {
   "cell_type": "code",
   "execution_count": 27,
   "metadata": {},
   "outputs": [
    {
     "output_type": "execute_result",
     "data": {
      "text/plain": [
       "                   Name       Date   Manner_Of_Death    Armed   Age Gender  \\\n",
       "0            Tim Elliot 2015-02-01              shot      gun  53.0      M   \n",
       "1      Lewis Lee Lembke 2015-02-01              shot      gun  47.0      M   \n",
       "2  Phyllis Ilene Jepsen 2015-02-10              shot    knife  55.0      F   \n",
       "3    John Paul Quintero 2015-03-01  shot and Tasered  unarmed  23.0      M   \n",
       "4       Nicholas Garner 2015-08-22              shot  vehicle  26.0      M   \n",
       "\n",
       "       Race     City State Threat_Level  year  Share_White  Share_Black  \\\n",
       "0     Asian  Shelton    WA       attack  2015         78.9          0.8   \n",
       "1     White    Aloha    OR       attack  2015         70.9          2.6   \n",
       "2     White    Aloha    OR        other  2015         70.9          2.6   \n",
       "3  Hispanic  Wichita    KS        other  2015         71.9         11.5   \n",
       "4     White  Wichita    KS       attack  2015         71.9         11.5   \n",
       "\n",
       "   Share_Native_American  Share_Asian  Share_Hispanic  Percent_Completed_Hs  \\\n",
       "0                    3.7          1.1            19.2                  80.1   \n",
       "1                    1.0          8.9            21.1                  88.1   \n",
       "2                    1.0          8.9            21.1                  88.1   \n",
       "3                    1.2          4.8            15.3                  87.5   \n",
       "4                    1.2          4.8            15.3                  87.5   \n",
       "\n",
       "   Poverty_Rate  \n",
       "0          28.6  \n",
       "1          14.9  \n",
       "2          14.9  \n",
       "3          17.3  \n",
       "4          17.3  "
      ],
      "text/html": "<div>\n<style scoped>\n    .dataframe tbody tr th:only-of-type {\n        vertical-align: middle;\n    }\n\n    .dataframe tbody tr th {\n        vertical-align: top;\n    }\n\n    .dataframe thead th {\n        text-align: right;\n    }\n</style>\n<table border=\"1\" class=\"dataframe\">\n  <thead>\n    <tr style=\"text-align: right;\">\n      <th></th>\n      <th>Name</th>\n      <th>Date</th>\n      <th>Manner_Of_Death</th>\n      <th>Armed</th>\n      <th>Age</th>\n      <th>Gender</th>\n      <th>Race</th>\n      <th>City</th>\n      <th>State</th>\n      <th>Threat_Level</th>\n      <th>year</th>\n      <th>Share_White</th>\n      <th>Share_Black</th>\n      <th>Share_Native_American</th>\n      <th>Share_Asian</th>\n      <th>Share_Hispanic</th>\n      <th>Percent_Completed_Hs</th>\n      <th>Poverty_Rate</th>\n    </tr>\n  </thead>\n  <tbody>\n    <tr>\n      <th>0</th>\n      <td>Tim Elliot</td>\n      <td>2015-02-01</td>\n      <td>shot</td>\n      <td>gun</td>\n      <td>53.0</td>\n      <td>M</td>\n      <td>Asian</td>\n      <td>Shelton</td>\n      <td>WA</td>\n      <td>attack</td>\n      <td>2015</td>\n      <td>78.9</td>\n      <td>0.8</td>\n      <td>3.7</td>\n      <td>1.1</td>\n      <td>19.2</td>\n      <td>80.1</td>\n      <td>28.6</td>\n    </tr>\n    <tr>\n      <th>1</th>\n      <td>Lewis Lee Lembke</td>\n      <td>2015-02-01</td>\n      <td>shot</td>\n      <td>gun</td>\n      <td>47.0</td>\n      <td>M</td>\n      <td>White</td>\n      <td>Aloha</td>\n      <td>OR</td>\n      <td>attack</td>\n      <td>2015</td>\n      <td>70.9</td>\n      <td>2.6</td>\n      <td>1.0</td>\n      <td>8.9</td>\n      <td>21.1</td>\n      <td>88.1</td>\n      <td>14.9</td>\n    </tr>\n    <tr>\n      <th>2</th>\n      <td>Phyllis Ilene Jepsen</td>\n      <td>2015-02-10</td>\n      <td>shot</td>\n      <td>knife</td>\n      <td>55.0</td>\n      <td>F</td>\n      <td>White</td>\n      <td>Aloha</td>\n      <td>OR</td>\n      <td>other</td>\n      <td>2015</td>\n      <td>70.9</td>\n      <td>2.6</td>\n      <td>1.0</td>\n      <td>8.9</td>\n      <td>21.1</td>\n      <td>88.1</td>\n      <td>14.9</td>\n    </tr>\n    <tr>\n      <th>3</th>\n      <td>John Paul Quintero</td>\n      <td>2015-03-01</td>\n      <td>shot and Tasered</td>\n      <td>unarmed</td>\n      <td>23.0</td>\n      <td>M</td>\n      <td>Hispanic</td>\n      <td>Wichita</td>\n      <td>KS</td>\n      <td>other</td>\n      <td>2015</td>\n      <td>71.9</td>\n      <td>11.5</td>\n      <td>1.2</td>\n      <td>4.8</td>\n      <td>15.3</td>\n      <td>87.5</td>\n      <td>17.3</td>\n    </tr>\n    <tr>\n      <th>4</th>\n      <td>Nicholas Garner</td>\n      <td>2015-08-22</td>\n      <td>shot</td>\n      <td>vehicle</td>\n      <td>26.0</td>\n      <td>M</td>\n      <td>White</td>\n      <td>Wichita</td>\n      <td>KS</td>\n      <td>attack</td>\n      <td>2015</td>\n      <td>71.9</td>\n      <td>11.5</td>\n      <td>1.2</td>\n      <td>4.8</td>\n      <td>15.3</td>\n      <td>87.5</td>\n      <td>17.3</td>\n    </tr>\n  </tbody>\n</table>\n</div>"
     },
     "metadata": {},
     "execution_count": 27
    }
   ],
   "source": [
    "#Final representation of the dataframe we will be using\n",
    "kill_and_social.head(5)"
   ]
  },
  {
   "source": [
    "## 5. Visualization"
   ],
   "cell_type": "markdown",
   "metadata": {}
  },
  {
   "source": [
    "#### Total deaths caused by Police Shootings:\n",
    "Looking at the bar chart, we can se that Fatal Police Shooting in the US has decreased during the years.  Infact, in 2017 there were aproximately half of the cases there were in 2015"
   ],
   "cell_type": "markdown",
   "metadata": {}
  },
  {
   "cell_type": "code",
   "execution_count": 28,
   "metadata": {},
   "outputs": [
    {
     "output_type": "display_data",
     "data": {
      "text/plain": "<Figure size 432x288 with 1 Axes>",
      "image/svg+xml": "<?xml version=\"1.0\" encoding=\"utf-8\" standalone=\"no\"?>\r\n<!DOCTYPE svg PUBLIC \"-//W3C//DTD SVG 1.1//EN\"\r\n  \"http://www.w3.org/Graphics/SVG/1.1/DTD/svg11.dtd\">\r\n<!-- Created with matplotlib (https://matplotlib.org/) -->\r\n<svg height=\"277.414688pt\" version=\"1.1\" viewBox=\"0 0 386.028125 277.414688\" width=\"386.028125pt\" xmlns=\"http://www.w3.org/2000/svg\" xmlns:xlink=\"http://www.w3.org/1999/xlink\">\r\n <metadata>\r\n  <rdf:RDF xmlns:cc=\"http://creativecommons.org/ns#\" xmlns:dc=\"http://purl.org/dc/elements/1.1/\" xmlns:rdf=\"http://www.w3.org/1999/02/22-rdf-syntax-ns#\">\r\n   <cc:Work>\r\n    <dc:type rdf:resource=\"http://purl.org/dc/dcmitype/StillImage\"/>\r\n    <dc:date>2021-01-10T16:58:23.277428</dc:date>\r\n    <dc:format>image/svg+xml</dc:format>\r\n    <dc:creator>\r\n     <cc:Agent>\r\n      <dc:title>Matplotlib v3.3.3, https://matplotlib.org/</dc:title>\r\n     </cc:Agent>\r\n    </dc:creator>\r\n   </cc:Work>\r\n  </rdf:RDF>\r\n </metadata>\r\n <defs>\r\n  <style type=\"text/css\">*{stroke-linecap:butt;stroke-linejoin:round;}</style>\r\n </defs>\r\n <g id=\"figure_1\">\r\n  <g id=\"patch_1\">\r\n   <path d=\"M 0 277.414688 \r\nL 386.028125 277.414688 \r\nL 386.028125 0 \r\nL 0 0 \r\nz\r\n\" style=\"fill:none;\"/>\r\n  </g>\r\n  <g id=\"axes_1\">\r\n   <g id=\"patch_2\">\r\n    <path d=\"M 44.028125 239.375625 \r\nL 378.828125 239.375625 \r\nL 378.828125 21.935625 \r\nL 44.028125 21.935625 \r\nz\r\n\" style=\"fill:#ffffff;\"/>\r\n   </g>\r\n   <g id=\"matplotlib.axis_1\">\r\n    <g id=\"xtick_1\">\r\n     <g id=\"text_1\">\r\n      <!-- 2015 -->\r\n      <g style=\"fill:#262626;\" transform=\"translate(88.70625 253.533438)scale(0.1 -0.1)\">\r\n       <defs>\r\n        <path d=\"M 50.34375 8.453125 \r\nL 50.34375 0 \r\nL 3.03125 0 \r\nQ 2.9375 3.171875 4.046875 6.109375 \r\nQ 5.859375 10.9375 9.828125 15.625 \r\nQ 13.8125 20.3125 21.34375 26.46875 \r\nQ 33.015625 36.03125 37.109375 41.625 \r\nQ 41.21875 47.21875 41.21875 52.203125 \r\nQ 41.21875 57.421875 37.46875 61 \r\nQ 33.734375 64.59375 27.734375 64.59375 \r\nQ 21.390625 64.59375 17.578125 60.78125 \r\nQ 13.765625 56.984375 13.71875 50.25 \r\nL 4.6875 51.171875 \r\nQ 5.609375 61.28125 11.65625 66.578125 \r\nQ 17.71875 71.875 27.9375 71.875 \r\nQ 38.234375 71.875 44.234375 66.15625 \r\nQ 50.25 60.453125 50.25 52 \r\nQ 50.25 47.703125 48.484375 43.546875 \r\nQ 46.734375 39.40625 42.65625 34.8125 \r\nQ 38.578125 30.21875 29.109375 22.21875 \r\nQ 21.1875 15.578125 18.9375 13.203125 \r\nQ 16.703125 10.84375 15.234375 8.453125 \r\nz\r\n\" id=\"ArialMT-50\"/>\r\n        <path d=\"M 4.15625 35.296875 \r\nQ 4.15625 48 6.765625 55.734375 \r\nQ 9.375 63.484375 14.515625 67.671875 \r\nQ 19.671875 71.875 27.484375 71.875 \r\nQ 33.25 71.875 37.59375 69.546875 \r\nQ 41.9375 67.234375 44.765625 62.859375 \r\nQ 47.609375 58.5 49.21875 52.21875 \r\nQ 50.828125 45.953125 50.828125 35.296875 \r\nQ 50.828125 22.703125 48.234375 14.96875 \r\nQ 45.65625 7.234375 40.5 3 \r\nQ 35.359375 -1.21875 27.484375 -1.21875 \r\nQ 17.140625 -1.21875 11.234375 6.203125 \r\nQ 4.15625 15.140625 4.15625 35.296875 \r\nz\r\nM 13.1875 35.296875 \r\nQ 13.1875 17.671875 17.3125 11.828125 \r\nQ 21.4375 6 27.484375 6 \r\nQ 33.546875 6 37.671875 11.859375 \r\nQ 41.796875 17.71875 41.796875 35.296875 \r\nQ 41.796875 52.984375 37.671875 58.78125 \r\nQ 33.546875 64.59375 27.390625 64.59375 \r\nQ 21.34375 64.59375 17.71875 59.46875 \r\nQ 13.1875 52.9375 13.1875 35.296875 \r\nz\r\n\" id=\"ArialMT-48\"/>\r\n        <path d=\"M 37.25 0 \r\nL 28.46875 0 \r\nL 28.46875 56 \r\nQ 25.296875 52.984375 20.140625 49.953125 \r\nQ 14.984375 46.921875 10.890625 45.40625 \r\nL 10.890625 53.90625 \r\nQ 18.265625 57.375 23.78125 62.296875 \r\nQ 29.296875 67.234375 31.59375 71.875 \r\nL 37.25 71.875 \r\nz\r\n\" id=\"ArialMT-49\"/>\r\n        <path d=\"M 4.15625 18.75 \r\nL 13.375 19.53125 \r\nQ 14.40625 12.796875 18.140625 9.390625 \r\nQ 21.875 6 27.15625 6 \r\nQ 33.5 6 37.890625 10.78125 \r\nQ 42.28125 15.578125 42.28125 23.484375 \r\nQ 42.28125 31 38.0625 35.34375 \r\nQ 33.84375 39.703125 27 39.703125 \r\nQ 22.75 39.703125 19.328125 37.765625 \r\nQ 15.921875 35.84375 13.96875 32.765625 \r\nL 5.71875 33.84375 \r\nL 12.640625 70.609375 \r\nL 48.25 70.609375 \r\nL 48.25 62.203125 \r\nL 19.671875 62.203125 \r\nL 15.828125 42.96875 \r\nQ 22.265625 47.46875 29.34375 47.46875 \r\nQ 38.71875 47.46875 45.15625 40.96875 \r\nQ 51.609375 34.46875 51.609375 24.265625 \r\nQ 51.609375 14.546875 45.953125 7.46875 \r\nQ 39.0625 -1.21875 27.15625 -1.21875 \r\nQ 17.390625 -1.21875 11.203125 4.25 \r\nQ 5.03125 9.71875 4.15625 18.75 \r\nz\r\n\" id=\"ArialMT-53\"/>\r\n       </defs>\r\n       <use xlink:href=\"#ArialMT-50\"/>\r\n       <use x=\"55.615234\" xlink:href=\"#ArialMT-48\"/>\r\n       <use x=\"111.230469\" xlink:href=\"#ArialMT-49\"/>\r\n       <use x=\"166.845703\" xlink:href=\"#ArialMT-53\"/>\r\n      </g>\r\n     </g>\r\n    </g>\r\n    <g id=\"xtick_2\">\r\n     <g id=\"text_2\">\r\n      <!-- 2016 -->\r\n      <g style=\"fill:#262626;\" transform=\"translate(200.30625 253.533438)scale(0.1 -0.1)\">\r\n       <defs>\r\n        <path d=\"M 49.75 54.046875 \r\nL 41.015625 53.375 \r\nQ 39.84375 58.546875 37.703125 60.890625 \r\nQ 34.125 64.65625 28.90625 64.65625 \r\nQ 24.703125 64.65625 21.53125 62.3125 \r\nQ 17.390625 59.28125 14.984375 53.46875 \r\nQ 12.59375 47.65625 12.5 36.921875 \r\nQ 15.671875 41.75 20.265625 44.09375 \r\nQ 24.859375 46.4375 29.890625 46.4375 \r\nQ 38.671875 46.4375 44.84375 39.96875 \r\nQ 51.03125 33.5 51.03125 23.25 \r\nQ 51.03125 16.5 48.125 10.71875 \r\nQ 45.21875 4.9375 40.140625 1.859375 \r\nQ 35.0625 -1.21875 28.609375 -1.21875 \r\nQ 17.625 -1.21875 10.6875 6.859375 \r\nQ 3.765625 14.9375 3.765625 33.5 \r\nQ 3.765625 54.25 11.421875 63.671875 \r\nQ 18.109375 71.875 29.4375 71.875 \r\nQ 37.890625 71.875 43.28125 67.140625 \r\nQ 48.6875 62.40625 49.75 54.046875 \r\nz\r\nM 13.875 23.1875 \r\nQ 13.875 18.65625 15.796875 14.5 \r\nQ 17.71875 10.359375 21.1875 8.171875 \r\nQ 24.65625 6 28.46875 6 \r\nQ 34.03125 6 38.03125 10.484375 \r\nQ 42.046875 14.984375 42.046875 22.703125 \r\nQ 42.046875 30.125 38.078125 34.390625 \r\nQ 34.125 38.671875 28.125 38.671875 \r\nQ 22.171875 38.671875 18.015625 34.390625 \r\nQ 13.875 30.125 13.875 23.1875 \r\nz\r\n\" id=\"ArialMT-54\"/>\r\n       </defs>\r\n       <use xlink:href=\"#ArialMT-50\"/>\r\n       <use x=\"55.615234\" xlink:href=\"#ArialMT-48\"/>\r\n       <use x=\"111.230469\" xlink:href=\"#ArialMT-49\"/>\r\n       <use x=\"166.845703\" xlink:href=\"#ArialMT-54\"/>\r\n      </g>\r\n     </g>\r\n    </g>\r\n    <g id=\"xtick_3\">\r\n     <g id=\"text_3\">\r\n      <!-- 2017 -->\r\n      <g style=\"fill:#262626;\" transform=\"translate(311.90625 253.533438)scale(0.1 -0.1)\">\r\n       <defs>\r\n        <path d=\"M 4.734375 62.203125 \r\nL 4.734375 70.65625 \r\nL 51.078125 70.65625 \r\nL 51.078125 63.8125 \r\nQ 44.234375 56.546875 37.515625 44.484375 \r\nQ 30.8125 32.421875 27.15625 19.671875 \r\nQ 24.515625 10.6875 23.78125 0 \r\nL 14.75 0 \r\nQ 14.890625 8.453125 18.0625 20.40625 \r\nQ 21.234375 32.375 27.171875 43.484375 \r\nQ 33.109375 54.59375 39.796875 62.203125 \r\nz\r\n\" id=\"ArialMT-55\"/>\r\n       </defs>\r\n       <use xlink:href=\"#ArialMT-50\"/>\r\n       <use x=\"55.615234\" xlink:href=\"#ArialMT-48\"/>\r\n       <use x=\"111.230469\" xlink:href=\"#ArialMT-49\"/>\r\n       <use x=\"166.845703\" xlink:href=\"#ArialMT-55\"/>\r\n      </g>\r\n     </g>\r\n    </g>\r\n    <g id=\"text_4\">\r\n     <!-- Year -->\r\n     <g style=\"fill:#262626;\" transform=\"translate(200.551563 267.377187)scale(0.1 -0.1)\">\r\n      <defs>\r\n       <path d=\"M 57.234375 62.453125 \r\nQ 56.0625 60.59375 54.109375 56.734375 \r\nL 45.703125 35.984375 \r\nQ 40.828125 24.3125 36.53125 15.578125 \r\nL 30.421875 4.6875 \r\nL 27.828125 -0.59375 \r\nQ 26.21875 -3.421875 23.484375 -3.421875 \r\nQ 21.578125 -3.421875 20.015625 -2 \r\nQ 18.453125 -0.59375 18.453125 1.515625 \r\nQ 18.453125 3.171875 23.046875 11.921875 \r\nL 29.046875 22.90625 \r\nQ 20.3125 34.1875 17.71875 40.671875 \r\nQ 15.53125 46.1875 10.40625 53.90625 \r\nQ 3.375 64.453125 2.15625 66.65625 \r\nQ 1.421875 67.96875 1.421875 69.28125 \r\nQ 1.421875 71.390625 2.953125 72.828125 \r\nQ 4.5 74.265625 6.453125 74.265625 \r\nQ 8.84375 74.265625 10.453125 71.96875 \r\nL 14.359375 65.921875 \r\nQ 19.53125 58.25 21.1875 55.46875 \r\nQ 24.859375 49.46875 26.90625 44.34375 \r\nQ 28.515625 40.28125 33.796875 33.25 \r\nL 44.96875 60.5 \r\nQ 46.875 63.875 50.25 70.90625 \r\nQ 51.609375 74.21875 54.78125 74.21875 \r\nQ 56.734375 74.21875 58.265625 72.84375 \r\nQ 59.8125 71.484375 59.8125 69.34375 \r\nQ 59.8125 67.09375 57.234375 62.453125 \r\nz\r\n\" id=\"ComicSansMS-89\"/>\r\n       <path d=\"M 29.59375 -2.25 \r\nQ 18.5625 -2.25 11.71875 3.265625 \r\nQ 4.25 9.375 4.25 20.359375 \r\nQ 4.25 33.0625 10.40625 41.65625 \r\nQ 17.09375 51.03125 28.265625 51.03125 \r\nQ 36.375 51.03125 41.5 48.296875 \r\nQ 47.796875 44.921875 47.796875 37.9375 \r\nQ 47.796875 33.0625 42.28125 29.046875 \r\nQ 39.84375 27.296875 31.9375 23.578125 \r\nL 13.28125 14.75 \r\nQ 16.015625 10.6875 20.09375 8.640625 \r\nQ 24.171875 6.59375 29.59375 6.59375 \r\nQ 32.953125 6.59375 37.5 7.859375 \r\nQ 43.265625 9.46875 44.921875 12.078125 \r\nQ 46.578125 14.703125 48.484375 14.703125 \r\nQ 50.203125 14.703125 51.53125 13.40625 \r\nQ 52.875 12.109375 52.875 10.40625 \r\nQ 52.875 4.984375 44.140625 1.078125 \r\nQ 36.671875 -2.25 29.59375 -2.25 \r\nz\r\nM 28.265625 42.234375 \r\nQ 22.3125 42.234375 18.359375 37.625 \r\nQ 14.40625 33.015625 12.453125 23.734375 \r\nL 27.4375 30.859375 \r\nQ 36.28125 35.15625 40.046875 38.328125 \r\nQ 35.84375 42.234375 28.265625 42.234375 \r\nz\r\n\" id=\"ComicSansMS-101\"/>\r\n       <path d=\"M 44.921875 -3.21875 \r\nQ 44 -3.21875 41.546875 -1.078125 \r\nQ 39.359375 0.921875 38.28125 2.484375 \r\nQ 33.59375 -0.046875 30.03125 -1.34375 \r\nQ 26.46875 -2.640625 24.078125 -2.640625 \r\nQ 12.640625 -2.640625 7.421875 3.8125 \r\nQ 2.484375 9.859375 2.484375 22.359375 \r\nQ 2.484375 34.1875 10.609375 42.578125 \r\nQ 18.75 50.984375 30.03125 50.984375 \r\nQ 34.28125 50.984375 39.546875 48.78125 \r\nQ 46.1875 46.046875 46.1875 42.1875 \r\nQ 46.1875 40.875 45.21875 39.84375 \r\nQ 44.734375 37.984375 44.453125 33.734375 \r\nQ 44.1875 29.5 44.140625 22.859375 \r\nQ 44.09375 16.796875 44.96875 13.28125 \r\nQ 45.453125 11.140625 48.046875 4.6875 \r\nQ 48.390625 3.8125 49.171875 2.09375 \r\nL 49.46875 1.265625 \r\nQ 49.46875 -0.6875 48.09375 -1.953125 \r\nQ 46.734375 -3.21875 44.921875 -3.21875 \r\nz\r\nM 34.765625 30.71875 \r\nQ 34.765625 32.8125 35.03125 35.28125 \r\nQ 35.296875 37.75 35.84375 40.53125 \r\nQ 34.03125 41.453125 32.734375 41.890625 \r\nQ 31.453125 42.328125 30.671875 42.328125 \r\nQ 23.09375 42.328125 17.59375 36.15625 \r\nQ 12.109375 29.984375 12.109375 21.921875 \r\nQ 12.109375 13.921875 14.9375 9.90625 \r\nQ 17.78125 5.90625 23.4375 5.90625 \r\nQ 28.125 5.90625 31.390625 7.625 \r\nQ 33.15625 8.546875 36.328125 11.328125 \r\nQ 34.765625 24.265625 34.765625 30.71875 \r\nz\r\n\" id=\"ComicSansMS-97\"/>\r\n       <path d=\"M 44.78125 36.078125 \r\nQ 44.4375 29.984375 39.890625 29.984375 \r\nQ 35.6875 29.984375 35.6875 34.8125 \r\nQ 35.6875 35.75 35.546875 38.234375 \r\nL 35.40625 42.328125 \r\nQ 27.6875 41.40625 23.046875 37.984375 \r\nQ 18.703125 34.8125 15.828125 28.421875 \r\nL 15.921875 1.65625 \r\nQ 15.921875 -3.265625 11.078125 -3.265625 \r\nQ 6.78125 -3.265625 6.78125 1.65625 \r\nL 6.78125 35.9375 \r\nQ 6.78125 37.546875 6.90625 40.765625 \r\nQ 7.03125 44 7.03125 45.609375 \r\nQ 7.03125 50.53125 11.328125 50.53125 \r\nQ 16.109375 50.53125 16.15625 42.4375 \r\nQ 25.53125 51.46875 36.96875 51.46875 \r\nQ 40.921875 51.46875 42.875 48.484375 \r\nQ 44.828125 45.515625 44.828125 39.5 \r\nQ 44.828125 36.96875 44.78125 36.078125 \r\nz\r\n\" id=\"ComicSansMS-114\"/>\r\n      </defs>\r\n      <use xlink:href=\"#ComicSansMS-89\"/>\r\n      <use x=\"63.525391\" xlink:href=\"#ComicSansMS-101\"/>\r\n      <use x=\"118.310547\" xlink:href=\"#ComicSansMS-97\"/>\r\n      <use x=\"169.482422\" xlink:href=\"#ComicSansMS-114\"/>\r\n     </g>\r\n    </g>\r\n   </g>\r\n   <g id=\"matplotlib.axis_2\">\r\n    <g id=\"ytick_1\">\r\n     <g id=\"line2d_1\">\r\n      <path clip-path=\"url(#p53bd36f303)\" d=\"M 44.028125 239.375625 \r\nL 378.828125 239.375625 \r\n\" style=\"fill:none;stroke:#cccccc;stroke-linecap:round;stroke-width:0.8;\"/>\r\n     </g>\r\n     <g id=\"text_5\">\r\n      <!-- 0 -->\r\n      <g style=\"fill:#262626;\" transform=\"translate(31.467188 242.954531)scale(0.1 -0.1)\">\r\n       <use xlink:href=\"#ArialMT-48\"/>\r\n      </g>\r\n     </g>\r\n    </g>\r\n    <g id=\"ytick_2\">\r\n     <g id=\"line2d_2\">\r\n      <path clip-path=\"url(#p53bd36f303)\" d=\"M 44.028125 214.15203 \r\nL 378.828125 214.15203 \r\n\" style=\"fill:none;stroke:#cccccc;stroke-linecap:round;stroke-width:0.8;\"/>\r\n     </g>\r\n     <g id=\"text_6\">\r\n      <!-- 100 -->\r\n      <g style=\"fill:#262626;\" transform=\"translate(20.345313 217.730936)scale(0.1 -0.1)\">\r\n       <use xlink:href=\"#ArialMT-49\"/>\r\n       <use x=\"55.615234\" xlink:href=\"#ArialMT-48\"/>\r\n       <use x=\"111.230469\" xlink:href=\"#ArialMT-48\"/>\r\n      </g>\r\n     </g>\r\n    </g>\r\n    <g id=\"ytick_3\">\r\n     <g id=\"line2d_3\">\r\n      <path clip-path=\"url(#p53bd36f303)\" d=\"M 44.028125 188.928435 \r\nL 378.828125 188.928435 \r\n\" style=\"fill:none;stroke:#cccccc;stroke-linecap:round;stroke-width:0.8;\"/>\r\n     </g>\r\n     <g id=\"text_7\">\r\n      <!-- 200 -->\r\n      <g style=\"fill:#262626;\" transform=\"translate(20.345313 192.507341)scale(0.1 -0.1)\">\r\n       <use xlink:href=\"#ArialMT-50\"/>\r\n       <use x=\"55.615234\" xlink:href=\"#ArialMT-48\"/>\r\n       <use x=\"111.230469\" xlink:href=\"#ArialMT-48\"/>\r\n      </g>\r\n     </g>\r\n    </g>\r\n    <g id=\"ytick_4\">\r\n     <g id=\"line2d_4\">\r\n      <path clip-path=\"url(#p53bd36f303)\" d=\"M 44.028125 163.70484 \r\nL 378.828125 163.70484 \r\n\" style=\"fill:none;stroke:#cccccc;stroke-linecap:round;stroke-width:0.8;\"/>\r\n     </g>\r\n     <g id=\"text_8\">\r\n      <!-- 300 -->\r\n      <g style=\"fill:#262626;\" transform=\"translate(20.345313 167.283746)scale(0.1 -0.1)\">\r\n       <defs>\r\n        <path d=\"M 4.203125 18.890625 \r\nL 12.984375 20.0625 \r\nQ 14.5 12.59375 18.140625 9.296875 \r\nQ 21.78125 6 27 6 \r\nQ 33.203125 6 37.46875 10.296875 \r\nQ 41.75 14.59375 41.75 20.953125 \r\nQ 41.75 27 37.796875 30.921875 \r\nQ 33.84375 34.859375 27.734375 34.859375 \r\nQ 25.25 34.859375 21.53125 33.890625 \r\nL 22.515625 41.609375 \r\nQ 23.390625 41.5 23.921875 41.5 \r\nQ 29.546875 41.5 34.03125 44.421875 \r\nQ 38.53125 47.359375 38.53125 53.46875 \r\nQ 38.53125 58.296875 35.25 61.46875 \r\nQ 31.984375 64.65625 26.8125 64.65625 \r\nQ 21.6875 64.65625 18.265625 61.421875 \r\nQ 14.84375 58.203125 13.875 51.765625 \r\nL 5.078125 53.328125 \r\nQ 6.6875 62.15625 12.390625 67.015625 \r\nQ 18.109375 71.875 26.609375 71.875 \r\nQ 32.46875 71.875 37.390625 69.359375 \r\nQ 42.328125 66.84375 44.9375 62.5 \r\nQ 47.5625 58.15625 47.5625 53.265625 \r\nQ 47.5625 48.640625 45.0625 44.828125 \r\nQ 42.578125 41.015625 37.703125 38.765625 \r\nQ 44.046875 37.3125 47.5625 32.6875 \r\nQ 51.078125 28.078125 51.078125 21.140625 \r\nQ 51.078125 11.765625 44.234375 5.25 \r\nQ 37.40625 -1.265625 26.953125 -1.265625 \r\nQ 17.53125 -1.265625 11.296875 4.34375 \r\nQ 5.078125 9.96875 4.203125 18.890625 \r\nz\r\n\" id=\"ArialMT-51\"/>\r\n       </defs>\r\n       <use xlink:href=\"#ArialMT-51\"/>\r\n       <use x=\"55.615234\" xlink:href=\"#ArialMT-48\"/>\r\n       <use x=\"111.230469\" xlink:href=\"#ArialMT-48\"/>\r\n      </g>\r\n     </g>\r\n    </g>\r\n    <g id=\"ytick_5\">\r\n     <g id=\"line2d_5\">\r\n      <path clip-path=\"url(#p53bd36f303)\" d=\"M 44.028125 138.481245 \r\nL 378.828125 138.481245 \r\n\" style=\"fill:none;stroke:#cccccc;stroke-linecap:round;stroke-width:0.8;\"/>\r\n     </g>\r\n     <g id=\"text_9\">\r\n      <!-- 400 -->\r\n      <g style=\"fill:#262626;\" transform=\"translate(20.345313 142.060152)scale(0.1 -0.1)\">\r\n       <defs>\r\n        <path d=\"M 32.328125 0 \r\nL 32.328125 17.140625 \r\nL 1.265625 17.140625 \r\nL 1.265625 25.203125 \r\nL 33.9375 71.578125 \r\nL 41.109375 71.578125 \r\nL 41.109375 25.203125 \r\nL 50.78125 25.203125 \r\nL 50.78125 17.140625 \r\nL 41.109375 17.140625 \r\nL 41.109375 0 \r\nz\r\nM 32.328125 25.203125 \r\nL 32.328125 57.46875 \r\nL 9.90625 25.203125 \r\nz\r\n\" id=\"ArialMT-52\"/>\r\n       </defs>\r\n       <use xlink:href=\"#ArialMT-52\"/>\r\n       <use x=\"55.615234\" xlink:href=\"#ArialMT-48\"/>\r\n       <use x=\"111.230469\" xlink:href=\"#ArialMT-48\"/>\r\n      </g>\r\n     </g>\r\n    </g>\r\n    <g id=\"ytick_6\">\r\n     <g id=\"line2d_6\">\r\n      <path clip-path=\"url(#p53bd36f303)\" d=\"M 44.028125 113.25765 \r\nL 378.828125 113.25765 \r\n\" style=\"fill:none;stroke:#cccccc;stroke-linecap:round;stroke-width:0.8;\"/>\r\n     </g>\r\n     <g id=\"text_10\">\r\n      <!-- 500 -->\r\n      <g style=\"fill:#262626;\" transform=\"translate(20.345313 116.836557)scale(0.1 -0.1)\">\r\n       <use xlink:href=\"#ArialMT-53\"/>\r\n       <use x=\"55.615234\" xlink:href=\"#ArialMT-48\"/>\r\n       <use x=\"111.230469\" xlink:href=\"#ArialMT-48\"/>\r\n      </g>\r\n     </g>\r\n    </g>\r\n    <g id=\"ytick_7\">\r\n     <g id=\"line2d_7\">\r\n      <path clip-path=\"url(#p53bd36f303)\" d=\"M 44.028125 88.034055 \r\nL 378.828125 88.034055 \r\n\" style=\"fill:none;stroke:#cccccc;stroke-linecap:round;stroke-width:0.8;\"/>\r\n     </g>\r\n     <g id=\"text_11\">\r\n      <!-- 600 -->\r\n      <g style=\"fill:#262626;\" transform=\"translate(20.345313 91.612962)scale(0.1 -0.1)\">\r\n       <use xlink:href=\"#ArialMT-54\"/>\r\n       <use x=\"55.615234\" xlink:href=\"#ArialMT-48\"/>\r\n       <use x=\"111.230469\" xlink:href=\"#ArialMT-48\"/>\r\n      </g>\r\n     </g>\r\n    </g>\r\n    <g id=\"ytick_8\">\r\n     <g id=\"line2d_8\">\r\n      <path clip-path=\"url(#p53bd36f303)\" d=\"M 44.028125 62.810461 \r\nL 378.828125 62.810461 \r\n\" style=\"fill:none;stroke:#cccccc;stroke-linecap:round;stroke-width:0.8;\"/>\r\n     </g>\r\n     <g id=\"text_12\">\r\n      <!-- 700 -->\r\n      <g style=\"fill:#262626;\" transform=\"translate(20.345313 66.389367)scale(0.1 -0.1)\">\r\n       <use xlink:href=\"#ArialMT-55\"/>\r\n       <use x=\"55.615234\" xlink:href=\"#ArialMT-48\"/>\r\n       <use x=\"111.230469\" xlink:href=\"#ArialMT-48\"/>\r\n      </g>\r\n     </g>\r\n    </g>\r\n    <g id=\"ytick_9\">\r\n     <g id=\"line2d_9\">\r\n      <path clip-path=\"url(#p53bd36f303)\" d=\"M 44.028125 37.586866 \r\nL 378.828125 37.586866 \r\n\" style=\"fill:none;stroke:#cccccc;stroke-linecap:round;stroke-width:0.8;\"/>\r\n     </g>\r\n     <g id=\"text_13\">\r\n      <!-- 800 -->\r\n      <g style=\"fill:#262626;\" transform=\"translate(20.345313 41.165772)scale(0.1 -0.1)\">\r\n       <defs>\r\n        <path d=\"M 17.671875 38.8125 \r\nQ 12.203125 40.828125 9.5625 44.53125 \r\nQ 6.9375 48.25 6.9375 53.421875 \r\nQ 6.9375 61.234375 12.546875 66.546875 \r\nQ 18.171875 71.875 27.484375 71.875 \r\nQ 36.859375 71.875 42.578125 66.421875 \r\nQ 48.296875 60.984375 48.296875 53.171875 \r\nQ 48.296875 48.1875 45.671875 44.5 \r\nQ 43.0625 40.828125 37.75 38.8125 \r\nQ 44.34375 36.671875 47.78125 31.875 \r\nQ 51.21875 27.09375 51.21875 20.453125 \r\nQ 51.21875 11.28125 44.71875 5.03125 \r\nQ 38.234375 -1.21875 27.640625 -1.21875 \r\nQ 17.046875 -1.21875 10.546875 5.046875 \r\nQ 4.046875 11.328125 4.046875 20.703125 \r\nQ 4.046875 27.6875 7.59375 32.390625 \r\nQ 11.140625 37.109375 17.671875 38.8125 \r\nz\r\nM 15.921875 53.71875 \r\nQ 15.921875 48.640625 19.1875 45.40625 \r\nQ 22.46875 42.1875 27.6875 42.1875 \r\nQ 32.765625 42.1875 36.015625 45.375 \r\nQ 39.265625 48.578125 39.265625 53.21875 \r\nQ 39.265625 58.0625 35.90625 61.359375 \r\nQ 32.5625 64.65625 27.59375 64.65625 \r\nQ 22.5625 64.65625 19.234375 61.421875 \r\nQ 15.921875 58.203125 15.921875 53.71875 \r\nz\r\nM 13.09375 20.65625 \r\nQ 13.09375 16.890625 14.875 13.375 \r\nQ 16.65625 9.859375 20.171875 7.921875 \r\nQ 23.6875 6 27.734375 6 \r\nQ 34.03125 6 38.125 10.046875 \r\nQ 42.234375 14.109375 42.234375 20.359375 \r\nQ 42.234375 26.703125 38.015625 30.859375 \r\nQ 33.796875 35.015625 27.4375 35.015625 \r\nQ 21.234375 35.015625 17.15625 30.90625 \r\nQ 13.09375 26.8125 13.09375 20.65625 \r\nz\r\n\" id=\"ArialMT-56\"/>\r\n       </defs>\r\n       <use xlink:href=\"#ArialMT-56\"/>\r\n       <use x=\"55.615234\" xlink:href=\"#ArialMT-48\"/>\r\n       <use x=\"111.230469\" xlink:href=\"#ArialMT-48\"/>\r\n      </g>\r\n     </g>\r\n    </g>\r\n    <g id=\"text_14\">\r\n     <!-- People killed -->\r\n     <g style=\"fill:#262626;\" transform=\"translate(14.357813 159.006406)rotate(-90)scale(0.1 -0.1)\">\r\n      <defs>\r\n       <path d=\"M 7.71875 0 \r\nL 7.71875 71.578125 \r\nL 34.71875 71.578125 \r\nQ 41.84375 71.578125 45.609375 70.90625 \r\nQ 50.875 70.015625 54.4375 67.546875 \r\nQ 58.015625 65.09375 60.1875 60.640625 \r\nQ 62.359375 56.203125 62.359375 50.875 \r\nQ 62.359375 41.75 56.546875 35.421875 \r\nQ 50.734375 29.109375 35.546875 29.109375 \r\nL 17.1875 29.109375 \r\nL 17.1875 0 \r\nz\r\nM 17.1875 37.546875 \r\nL 35.6875 37.546875 \r\nQ 44.875 37.546875 48.734375 40.96875 \r\nQ 52.59375 44.390625 52.59375 50.59375 \r\nQ 52.59375 55.078125 50.3125 58.265625 \r\nQ 48.046875 61.46875 44.34375 62.5 \r\nQ 41.9375 63.140625 35.5 63.140625 \r\nL 17.1875 63.140625 \r\nz\r\n\" id=\"ArialMT-80\"/>\r\n       <path d=\"M 42.09375 16.703125 \r\nL 51.171875 15.578125 \r\nQ 49.03125 7.625 43.21875 3.21875 \r\nQ 37.40625 -1.171875 28.375 -1.171875 \r\nQ 17 -1.171875 10.328125 5.828125 \r\nQ 3.65625 12.84375 3.65625 25.484375 \r\nQ 3.65625 38.578125 10.390625 45.796875 \r\nQ 17.140625 53.03125 27.875 53.03125 \r\nQ 38.28125 53.03125 44.875 45.953125 \r\nQ 51.46875 38.875 51.46875 26.03125 \r\nQ 51.46875 25.25 51.421875 23.6875 \r\nL 12.75 23.6875 \r\nQ 13.234375 15.140625 17.578125 10.59375 \r\nQ 21.921875 6.0625 28.421875 6.0625 \r\nQ 33.25 6.0625 36.671875 8.59375 \r\nQ 40.09375 11.140625 42.09375 16.703125 \r\nz\r\nM 13.234375 30.90625 \r\nL 42.1875 30.90625 \r\nQ 41.609375 37.453125 38.875 40.71875 \r\nQ 34.671875 45.796875 27.984375 45.796875 \r\nQ 21.921875 45.796875 17.796875 41.75 \r\nQ 13.671875 37.703125 13.234375 30.90625 \r\nz\r\n\" id=\"ArialMT-101\"/>\r\n       <path d=\"M 3.328125 25.921875 \r\nQ 3.328125 40.328125 11.328125 47.265625 \r\nQ 18.015625 53.03125 27.640625 53.03125 \r\nQ 38.328125 53.03125 45.109375 46.015625 \r\nQ 51.90625 39.015625 51.90625 26.65625 \r\nQ 51.90625 16.65625 48.90625 10.90625 \r\nQ 45.90625 5.171875 40.15625 2 \r\nQ 34.421875 -1.171875 27.640625 -1.171875 \r\nQ 16.75 -1.171875 10.03125 5.8125 \r\nQ 3.328125 12.796875 3.328125 25.921875 \r\nz\r\nM 12.359375 25.921875 \r\nQ 12.359375 15.96875 16.703125 11.015625 \r\nQ 21.046875 6.0625 27.640625 6.0625 \r\nQ 34.1875 6.0625 38.53125 11.03125 \r\nQ 42.875 16.015625 42.875 26.21875 \r\nQ 42.875 35.84375 38.5 40.796875 \r\nQ 34.125 45.75 27.640625 45.75 \r\nQ 21.046875 45.75 16.703125 40.8125 \r\nQ 12.359375 35.890625 12.359375 25.921875 \r\nz\r\n\" id=\"ArialMT-111\"/>\r\n       <path d=\"M 6.59375 -19.875 \r\nL 6.59375 51.859375 \r\nL 14.59375 51.859375 \r\nL 14.59375 45.125 \r\nQ 17.4375 49.078125 21 51.046875 \r\nQ 24.5625 53.03125 29.640625 53.03125 \r\nQ 36.28125 53.03125 41.359375 49.609375 \r\nQ 46.4375 46.1875 49.015625 39.953125 \r\nQ 51.609375 33.734375 51.609375 26.3125 \r\nQ 51.609375 18.359375 48.75 11.984375 \r\nQ 45.90625 5.609375 40.453125 2.21875 \r\nQ 35.015625 -1.171875 29 -1.171875 \r\nQ 24.609375 -1.171875 21.109375 0.6875 \r\nQ 17.625 2.546875 15.375 5.375 \r\nL 15.375 -19.875 \r\nz\r\nM 14.546875 25.640625 \r\nQ 14.546875 15.625 18.59375 10.84375 \r\nQ 22.65625 6.0625 28.421875 6.0625 \r\nQ 34.28125 6.0625 38.453125 11.015625 \r\nQ 42.625 15.96875 42.625 26.375 \r\nQ 42.625 36.28125 38.546875 41.203125 \r\nQ 34.46875 46.140625 28.8125 46.140625 \r\nQ 23.1875 46.140625 18.859375 40.890625 \r\nQ 14.546875 35.640625 14.546875 25.640625 \r\nz\r\n\" id=\"ArialMT-112\"/>\r\n       <path d=\"M 6.390625 0 \r\nL 6.390625 71.578125 \r\nL 15.1875 71.578125 \r\nL 15.1875 0 \r\nz\r\n\" id=\"ArialMT-108\"/>\r\n       <path id=\"ArialMT-32\"/>\r\n       <path d=\"M 6.640625 0 \r\nL 6.640625 71.578125 \r\nL 15.4375 71.578125 \r\nL 15.4375 30.765625 \r\nL 36.234375 51.859375 \r\nL 47.609375 51.859375 \r\nL 27.78125 32.625 \r\nL 49.609375 0 \r\nL 38.765625 0 \r\nL 21.625 26.515625 \r\nL 15.4375 20.5625 \r\nL 15.4375 0 \r\nz\r\n\" id=\"ArialMT-107\"/>\r\n       <path d=\"M 6.640625 61.46875 \r\nL 6.640625 71.578125 \r\nL 15.4375 71.578125 \r\nL 15.4375 61.46875 \r\nz\r\nM 6.640625 0 \r\nL 6.640625 51.859375 \r\nL 15.4375 51.859375 \r\nL 15.4375 0 \r\nz\r\n\" id=\"ArialMT-105\"/>\r\n       <path d=\"M 40.234375 0 \r\nL 40.234375 6.546875 \r\nQ 35.296875 -1.171875 25.734375 -1.171875 \r\nQ 19.53125 -1.171875 14.328125 2.25 \r\nQ 9.125 5.671875 6.265625 11.796875 \r\nQ 3.421875 17.921875 3.421875 25.875 \r\nQ 3.421875 33.640625 6 39.96875 \r\nQ 8.59375 46.296875 13.765625 49.65625 \r\nQ 18.953125 53.03125 25.34375 53.03125 \r\nQ 30.03125 53.03125 33.6875 51.046875 \r\nQ 37.359375 49.078125 39.65625 45.90625 \r\nL 39.65625 71.578125 \r\nL 48.390625 71.578125 \r\nL 48.390625 0 \r\nz\r\nM 12.453125 25.875 \r\nQ 12.453125 15.921875 16.640625 10.984375 \r\nQ 20.84375 6.0625 26.5625 6.0625 \r\nQ 32.328125 6.0625 36.34375 10.765625 \r\nQ 40.375 15.484375 40.375 25.140625 \r\nQ 40.375 35.796875 36.265625 40.765625 \r\nQ 32.171875 45.75 26.171875 45.75 \r\nQ 20.3125 45.75 16.375 40.96875 \r\nQ 12.453125 36.1875 12.453125 25.875 \r\nz\r\n\" id=\"ArialMT-100\"/>\r\n      </defs>\r\n      <use xlink:href=\"#ArialMT-80\"/>\r\n      <use x=\"66.699219\" xlink:href=\"#ArialMT-101\"/>\r\n      <use x=\"122.314453\" xlink:href=\"#ArialMT-111\"/>\r\n      <use x=\"177.929688\" xlink:href=\"#ArialMT-112\"/>\r\n      <use x=\"233.544922\" xlink:href=\"#ArialMT-108\"/>\r\n      <use x=\"255.761719\" xlink:href=\"#ArialMT-101\"/>\r\n      <use x=\"311.376953\" xlink:href=\"#ArialMT-32\"/>\r\n      <use x=\"339.160156\" xlink:href=\"#ArialMT-107\"/>\r\n      <use x=\"389.160156\" xlink:href=\"#ArialMT-105\"/>\r\n      <use x=\"411.376953\" xlink:href=\"#ArialMT-108\"/>\r\n      <use x=\"433.59375\" xlink:href=\"#ArialMT-108\"/>\r\n      <use x=\"455.810547\" xlink:href=\"#ArialMT-101\"/>\r\n      <use x=\"511.425781\" xlink:href=\"#ArialMT-100\"/>\r\n     </g>\r\n    </g>\r\n   </g>\r\n   <g id=\"patch_3\">\r\n    <path clip-path=\"url(#p53bd36f303)\" d=\"M 55.188125 239.375625 \r\nL 144.468125 239.375625 \r\nL 144.468125 32.289911 \r\nL 55.188125 32.289911 \r\nz\r\n\" style=\"fill:#3274a1;stroke:#ffffff;stroke-linejoin:miter;\"/>\r\n   </g>\r\n   <g id=\"patch_4\">\r\n    <path clip-path=\"url(#p53bd36f303)\" d=\"M 166.788125 239.375625 \r\nL 256.068125 239.375625 \r\nL 256.068125 45.40618 \r\nL 166.788125 45.40618 \r\nz\r\n\" style=\"fill:#e1812c;stroke:#ffffff;stroke-linejoin:miter;\"/>\r\n   </g>\r\n   <g id=\"patch_5\">\r\n    <path clip-path=\"url(#p53bd36f303)\" d=\"M 278.388125 239.375625 \r\nL 367.668125 239.375625 \r\nL 367.668125 136.463358 \r\nL 278.388125 136.463358 \r\nz\r\n\" style=\"fill:#3a923a;stroke:#ffffff;stroke-linejoin:miter;\"/>\r\n   </g>\r\n   <g id=\"line2d_10\">\r\n    <path clip-path=\"url(#p53bd36f303)\" d=\"M 0 0 \r\n\" style=\"fill:none;stroke:#424242;stroke-linecap:round;stroke-width:2.7;\"/>\r\n   </g>\r\n   <g id=\"line2d_11\">\r\n    <path clip-path=\"url(#p53bd36f303)\" d=\"M 0 0 \r\n\" style=\"fill:none;stroke:#424242;stroke-linecap:round;stroke-width:2.7;\"/>\r\n   </g>\r\n   <g id=\"line2d_12\">\r\n    <path clip-path=\"url(#p53bd36f303)\" d=\"M 0 0 \r\n\" style=\"fill:none;stroke:#424242;stroke-linecap:round;stroke-width:2.7;\"/>\r\n   </g>\r\n   <g id=\"patch_6\">\r\n    <path d=\"M 44.028125 239.375625 \r\nL 44.028125 21.935625 \r\n\" style=\"fill:none;stroke:#cccccc;stroke-linecap:square;stroke-linejoin:miter;stroke-width:0.8;\"/>\r\n   </g>\r\n   <g id=\"patch_7\">\r\n    <path d=\"M 378.828125 239.375625 \r\nL 378.828125 21.935625 \r\n\" style=\"fill:none;stroke:#cccccc;stroke-linecap:square;stroke-linejoin:miter;stroke-width:0.8;\"/>\r\n   </g>\r\n   <g id=\"patch_8\">\r\n    <path d=\"M 44.028125 239.375625 \r\nL 378.828125 239.375625 \r\n\" style=\"fill:none;stroke:#cccccc;stroke-linecap:square;stroke-linejoin:miter;stroke-width:0.8;\"/>\r\n   </g>\r\n   <g id=\"patch_9\">\r\n    <path d=\"M 44.028125 21.935625 \r\nL 378.828125 21.935625 \r\n\" style=\"fill:none;stroke:#cccccc;stroke-linecap:square;stroke-linejoin:miter;stroke-width:0.8;\"/>\r\n   </g>\r\n   <g id=\"text_15\">\r\n    <!-- Total Fatal Police Shooting in the US -->\r\n    <g style=\"fill:#262626;\" transform=\"translate(107.20625 15.935625)scale(0.12 -0.12)\">\r\n     <defs>\r\n      <path d=\"M 23.390625 0 \r\nL 23.390625 59.46875 \r\nL 2.15625 59.46875 \r\nL 2.15625 71.578125 \r\nL 59.03125 71.578125 \r\nL 59.03125 59.46875 \r\nL 37.84375 59.46875 \r\nL 37.84375 0 \r\nz\r\n\" id=\"Arial-BoldMT-84\"/>\r\n      <path d=\"M 4 26.65625 \r\nQ 4 33.5 7.375 39.890625 \r\nQ 10.75 46.296875 16.921875 49.65625 \r\nQ 23.09375 53.03125 30.71875 53.03125 \r\nQ 42.484375 53.03125 50 45.390625 \r\nQ 57.515625 37.75 57.515625 26.078125 \r\nQ 57.515625 14.3125 49.921875 6.5625 \r\nQ 42.328125 -1.171875 30.8125 -1.171875 \r\nQ 23.6875 -1.171875 17.21875 2.046875 \r\nQ 10.75 5.28125 7.375 11.5 \r\nQ 4 17.71875 4 26.65625 \r\nz\r\nM 18.0625 25.921875 \r\nQ 18.0625 18.21875 21.71875 14.109375 \r\nQ 25.390625 10.015625 30.765625 10.015625 \r\nQ 36.140625 10.015625 39.765625 14.109375 \r\nQ 43.40625 18.21875 43.40625 26.03125 \r\nQ 43.40625 33.640625 39.765625 37.734375 \r\nQ 36.140625 41.84375 30.765625 41.84375 \r\nQ 25.390625 41.84375 21.71875 37.734375 \r\nQ 18.0625 33.640625 18.0625 25.921875 \r\nz\r\n\" id=\"Arial-BoldMT-111\"/>\r\n      <path d=\"M 30.953125 51.859375 \r\nL 30.953125 40.921875 \r\nL 21.578125 40.921875 \r\nL 21.578125 20.015625 \r\nQ 21.578125 13.671875 21.84375 12.625 \r\nQ 22.125 11.578125 23.078125 10.890625 \r\nQ 24.03125 10.203125 25.390625 10.203125 \r\nQ 27.296875 10.203125 30.90625 11.53125 \r\nL 32.078125 0.875 \r\nQ 27.296875 -1.171875 21.234375 -1.171875 \r\nQ 17.53125 -1.171875 14.546875 0.0625 \r\nQ 11.578125 1.3125 10.1875 3.296875 \r\nQ 8.796875 5.28125 8.25 8.640625 \r\nQ 7.8125 11.03125 7.8125 18.3125 \r\nL 7.8125 40.921875 \r\nL 1.515625 40.921875 \r\nL 1.515625 51.859375 \r\nL 7.8125 51.859375 \r\nL 7.8125 62.15625 \r\nL 21.578125 70.171875 \r\nL 21.578125 51.859375 \r\nz\r\n\" id=\"Arial-BoldMT-116\"/>\r\n      <path d=\"M 17.4375 36.03125 \r\nL 4.984375 38.28125 \r\nQ 7.078125 45.796875 12.203125 49.40625 \r\nQ 17.328125 53.03125 27.4375 53.03125 \r\nQ 36.625 53.03125 41.109375 50.859375 \r\nQ 45.609375 48.6875 47.4375 45.34375 \r\nQ 49.265625 42 49.265625 33.0625 \r\nL 49.125 17.046875 \r\nQ 49.125 10.203125 49.78125 6.953125 \r\nQ 50.4375 3.71875 52.25 0 \r\nL 38.671875 0 \r\nQ 38.140625 1.375 37.359375 4.046875 \r\nQ 37.015625 5.28125 36.859375 5.671875 \r\nQ 33.34375 2.25 29.34375 0.53125 \r\nQ 25.34375 -1.171875 20.796875 -1.171875 \r\nQ 12.796875 -1.171875 8.171875 3.171875 \r\nQ 3.5625 7.515625 3.5625 14.15625 \r\nQ 3.5625 18.5625 5.65625 22 \r\nQ 7.765625 25.4375 11.546875 27.265625 \r\nQ 15.328125 29.109375 22.46875 30.46875 \r\nQ 32.078125 32.28125 35.796875 33.84375 \r\nL 35.796875 35.203125 \r\nQ 35.796875 39.15625 33.84375 40.84375 \r\nQ 31.890625 42.53125 26.46875 42.53125 \r\nQ 22.796875 42.53125 20.75 41.09375 \r\nQ 18.703125 39.65625 17.4375 36.03125 \r\nz\r\nM 35.796875 24.90625 \r\nQ 33.15625 24.03125 27.4375 22.796875 \r\nQ 21.734375 21.578125 19.96875 20.40625 \r\nQ 17.28125 18.5 17.28125 15.578125 \r\nQ 17.28125 12.703125 19.421875 10.59375 \r\nQ 21.578125 8.5 24.90625 8.5 \r\nQ 28.609375 8.5 31.984375 10.9375 \r\nQ 34.46875 12.796875 35.25 15.484375 \r\nQ 35.796875 17.234375 35.796875 22.171875 \r\nz\r\n\" id=\"Arial-BoldMT-97\"/>\r\n      <path d=\"M 7.171875 0 \r\nL 7.171875 71.578125 \r\nL 20.90625 71.578125 \r\nL 20.90625 0 \r\nz\r\n\" id=\"Arial-BoldMT-108\"/>\r\n      <path id=\"Arial-BoldMT-32\"/>\r\n      <path d=\"M 7.375 0 \r\nL 7.375 71.578125 \r\nL 56.453125 71.578125 \r\nL 56.453125 59.46875 \r\nL 21.828125 59.46875 \r\nL 21.828125 42.53125 \r\nL 51.703125 42.53125 \r\nL 51.703125 30.421875 \r\nL 21.828125 30.421875 \r\nL 21.828125 0 \r\nz\r\n\" id=\"Arial-BoldMT-70\"/>\r\n      <path d=\"M 7.28125 0 \r\nL 7.28125 71.578125 \r\nL 30.46875 71.578125 \r\nQ 43.65625 71.578125 47.65625 70.515625 \r\nQ 53.8125 68.890625 57.953125 63.5 \r\nQ 62.109375 58.109375 62.109375 49.5625 \r\nQ 62.109375 42.96875 59.71875 38.46875 \r\nQ 57.328125 33.984375 53.640625 31.421875 \r\nQ 49.953125 28.859375 46.140625 28.03125 \r\nQ 40.96875 27 31.15625 27 \r\nL 21.734375 27 \r\nL 21.734375 0 \r\nz\r\nM 21.734375 59.46875 \r\nL 21.734375 39.15625 \r\nL 29.640625 39.15625 \r\nQ 38.1875 39.15625 41.0625 40.28125 \r\nQ 43.953125 41.40625 45.578125 43.796875 \r\nQ 47.21875 46.1875 47.21875 49.359375 \r\nQ 47.21875 53.265625 44.921875 55.796875 \r\nQ 42.625 58.34375 39.109375 58.984375 \r\nQ 36.53125 59.46875 28.71875 59.46875 \r\nz\r\n\" id=\"Arial-BoldMT-80\"/>\r\n      <path d=\"M 7.171875 58.890625 \r\nL 7.171875 71.578125 \r\nL 20.90625 71.578125 \r\nL 20.90625 58.890625 \r\nz\r\nM 7.171875 0 \r\nL 7.171875 51.859375 \r\nL 20.90625 51.859375 \r\nL 20.90625 0 \r\nz\r\n\" id=\"Arial-BoldMT-105\"/>\r\n      <path d=\"M 52.390625 36.53125 \r\nL 38.875 34.078125 \r\nQ 38.1875 38.140625 35.765625 40.1875 \r\nQ 33.34375 42.234375 29.5 42.234375 \r\nQ 24.359375 42.234375 21.3125 38.6875 \r\nQ 18.265625 35.15625 18.265625 26.859375 \r\nQ 18.265625 17.625 21.359375 13.8125 \r\nQ 24.46875 10.015625 29.6875 10.015625 \r\nQ 33.59375 10.015625 36.078125 12.234375 \r\nQ 38.578125 14.453125 39.59375 19.875 \r\nL 53.078125 17.578125 \r\nQ 50.984375 8.296875 45.015625 3.5625 \r\nQ 39.0625 -1.171875 29.046875 -1.171875 \r\nQ 17.671875 -1.171875 10.90625 6 \r\nQ 4.15625 13.1875 4.15625 25.875 \r\nQ 4.15625 38.71875 10.9375 45.875 \r\nQ 17.71875 53.03125 29.296875 53.03125 \r\nQ 38.765625 53.03125 44.359375 48.953125 \r\nQ 49.953125 44.875 52.390625 36.53125 \r\nz\r\n\" id=\"Arial-BoldMT-99\"/>\r\n      <path d=\"M 37.203125 16.5 \r\nL 50.875 14.203125 \r\nQ 48.25 6.6875 42.546875 2.75 \r\nQ 36.859375 -1.171875 28.328125 -1.171875 \r\nQ 14.796875 -1.171875 8.296875 7.671875 \r\nQ 3.171875 14.75 3.171875 25.53125 \r\nQ 3.171875 38.421875 9.90625 45.71875 \r\nQ 16.65625 53.03125 26.953125 53.03125 \r\nQ 38.53125 53.03125 45.21875 45.390625 \r\nQ 51.90625 37.75 51.609375 21.96875 \r\nL 17.234375 21.96875 \r\nQ 17.390625 15.875 20.5625 12.46875 \r\nQ 23.734375 9.078125 28.46875 9.078125 \r\nQ 31.6875 9.078125 33.875 10.828125 \r\nQ 36.078125 12.59375 37.203125 16.5 \r\nz\r\nM 37.984375 30.375 \r\nQ 37.84375 36.328125 34.90625 39.421875 \r\nQ 31.984375 42.53125 27.78125 42.53125 \r\nQ 23.296875 42.53125 20.359375 39.265625 \r\nQ 17.4375 35.984375 17.484375 30.375 \r\nz\r\n\" id=\"Arial-BoldMT-101\"/>\r\n      <path d=\"M 3.609375 23.296875 \r\nL 17.671875 24.65625 \r\nQ 18.953125 17.578125 22.828125 14.25 \r\nQ 26.703125 10.9375 33.296875 10.9375 \r\nQ 40.28125 10.9375 43.8125 13.890625 \r\nQ 47.359375 16.84375 47.359375 20.796875 \r\nQ 47.359375 23.34375 45.875 25.125 \r\nQ 44.390625 26.90625 40.671875 28.21875 \r\nQ 38.140625 29.109375 29.109375 31.34375 \r\nQ 17.484375 34.234375 12.796875 38.421875 \r\nQ 6.203125 44.34375 6.203125 52.828125 \r\nQ 6.203125 58.296875 9.296875 63.0625 \r\nQ 12.40625 67.828125 18.234375 70.3125 \r\nQ 24.078125 72.796875 32.328125 72.796875 \r\nQ 45.796875 72.796875 52.609375 66.890625 \r\nQ 59.421875 60.984375 59.765625 51.125 \r\nL 45.3125 50.484375 \r\nQ 44.390625 56 41.328125 58.421875 \r\nQ 38.28125 60.84375 32.171875 60.84375 \r\nQ 25.875 60.84375 22.3125 58.25 \r\nQ 20.015625 56.59375 20.015625 53.8125 \r\nQ 20.015625 51.265625 22.171875 49.46875 \r\nQ 24.90625 47.171875 35.453125 44.671875 \r\nQ 46 42.1875 51.046875 39.515625 \r\nQ 56.109375 36.859375 58.953125 32.25 \r\nQ 61.8125 27.640625 61.8125 20.84375 \r\nQ 61.8125 14.703125 58.390625 9.328125 \r\nQ 54.984375 3.953125 48.734375 1.34375 \r\nQ 42.484375 -1.265625 33.15625 -1.265625 \r\nQ 19.578125 -1.265625 12.296875 5 \r\nQ 5.03125 11.28125 3.609375 23.296875 \r\nz\r\n\" id=\"Arial-BoldMT-83\"/>\r\n      <path d=\"M 20.84375 71.578125 \r\nL 20.84375 45.265625 \r\nQ 27.484375 53.03125 36.71875 53.03125 \r\nQ 41.453125 53.03125 45.265625 51.265625 \r\nQ 49.078125 49.515625 51 46.78125 \r\nQ 52.9375 44.046875 53.640625 40.71875 \r\nQ 54.34375 37.40625 54.34375 30.421875 \r\nL 54.34375 0 \r\nL 40.625 0 \r\nL 40.625 27.390625 \r\nQ 40.625 35.546875 39.84375 37.734375 \r\nQ 39.0625 39.9375 37.078125 41.234375 \r\nQ 35.109375 42.53125 32.125 42.53125 \r\nQ 28.71875 42.53125 26.03125 40.859375 \r\nQ 23.34375 39.203125 22.09375 35.859375 \r\nQ 20.84375 32.515625 20.84375 25.984375 \r\nL 20.84375 0 \r\nL 7.125 0 \r\nL 7.125 71.578125 \r\nz\r\n\" id=\"Arial-BoldMT-104\"/>\r\n      <path d=\"M 54.34375 0 \r\nL 40.625 0 \r\nL 40.625 26.46875 \r\nQ 40.625 34.859375 39.75 37.328125 \r\nQ 38.875 39.796875 36.890625 41.15625 \r\nQ 34.90625 42.53125 32.125 42.53125 \r\nQ 28.5625 42.53125 25.734375 40.578125 \r\nQ 22.90625 38.625 21.84375 35.390625 \r\nQ 20.796875 32.171875 20.796875 23.484375 \r\nL 20.796875 0 \r\nL 7.078125 0 \r\nL 7.078125 51.859375 \r\nL 19.828125 51.859375 \r\nL 19.828125 44.234375 \r\nQ 26.609375 53.03125 36.921875 53.03125 \r\nQ 41.453125 53.03125 45.203125 51.390625 \r\nQ 48.96875 49.75 50.890625 47.203125 \r\nQ 52.828125 44.671875 53.578125 41.453125 \r\nQ 54.34375 38.234375 54.34375 32.234375 \r\nz\r\n\" id=\"Arial-BoldMT-110\"/>\r\n      <path d=\"M 5.90625 -3.421875 \r\nL 21.578125 -5.328125 \r\nQ 21.96875 -8.0625 23.390625 -9.078125 \r\nQ 25.34375 -10.546875 29.546875 -10.546875 \r\nQ 34.90625 -10.546875 37.59375 -8.9375 \r\nQ 39.40625 -7.859375 40.328125 -5.46875 \r\nQ 40.96875 -3.765625 40.96875 0.828125 \r\nL 40.96875 8.40625 \r\nQ 34.8125 0 25.4375 0 \r\nQ 14.984375 0 8.890625 8.84375 \r\nQ 4.109375 15.828125 4.109375 26.21875 \r\nQ 4.109375 39.265625 10.375 46.140625 \r\nQ 16.65625 53.03125 25.984375 53.03125 \r\nQ 35.59375 53.03125 41.84375 44.578125 \r\nL 41.84375 51.859375 \r\nL 54.6875 51.859375 \r\nL 54.6875 5.328125 \r\nQ 54.6875 -3.859375 53.171875 -8.390625 \r\nQ 51.65625 -12.9375 48.921875 -15.515625 \r\nQ 46.1875 -18.109375 41.625 -19.578125 \r\nQ 37.0625 -21.046875 30.078125 -21.046875 \r\nQ 16.890625 -21.046875 11.375 -16.53125 \r\nQ 5.859375 -12.015625 5.859375 -5.078125 \r\nQ 5.859375 -4.390625 5.90625 -3.421875 \r\nz\r\nM 18.171875 27 \r\nQ 18.171875 18.75 21.359375 14.90625 \r\nQ 24.5625 11.078125 29.25 11.078125 \r\nQ 34.28125 11.078125 37.75 15.015625 \r\nQ 41.21875 18.953125 41.21875 26.65625 \r\nQ 41.21875 34.71875 37.890625 38.625 \r\nQ 34.578125 42.53125 29.5 42.53125 \r\nQ 24.5625 42.53125 21.359375 38.6875 \r\nQ 18.171875 34.859375 18.171875 27 \r\nz\r\n\" id=\"Arial-BoldMT-103\"/>\r\n      <path d=\"M 7.171875 71.578125 \r\nL 21.625 71.578125 \r\nL 21.625 32.8125 \r\nQ 21.625 23.578125 22.171875 20.84375 \r\nQ 23.09375 16.453125 26.578125 13.796875 \r\nQ 30.078125 11.140625 36.140625 11.140625 \r\nQ 42.28125 11.140625 45.40625 13.640625 \r\nQ 48.53125 16.15625 49.171875 19.8125 \r\nQ 49.8125 23.484375 49.8125 31.984375 \r\nL 49.8125 71.578125 \r\nL 64.265625 71.578125 \r\nL 64.265625 33.984375 \r\nQ 64.265625 21.09375 63.09375 15.765625 \r\nQ 61.921875 10.453125 58.765625 6.78125 \r\nQ 55.609375 3.125 50.328125 0.953125 \r\nQ 45.0625 -1.21875 36.578125 -1.21875 \r\nQ 26.3125 -1.21875 21.015625 1.140625 \r\nQ 15.71875 3.515625 12.640625 7.296875 \r\nQ 9.578125 11.078125 8.59375 15.234375 \r\nQ 7.171875 21.390625 7.171875 33.40625 \r\nz\r\n\" id=\"Arial-BoldMT-85\"/>\r\n     </defs>\r\n     <use xlink:href=\"#Arial-BoldMT-84\"/>\r\n     <use x=\"53.708984\" xlink:href=\"#Arial-BoldMT-111\"/>\r\n     <use x=\"114.792969\" xlink:href=\"#Arial-BoldMT-116\"/>\r\n     <use x=\"148.09375\" xlink:href=\"#Arial-BoldMT-97\"/>\r\n     <use x=\"203.708984\" xlink:href=\"#Arial-BoldMT-108\"/>\r\n     <use x=\"231.492188\" xlink:href=\"#Arial-BoldMT-32\"/>\r\n     <use x=\"259.275391\" xlink:href=\"#Arial-BoldMT-70\"/>\r\n     <use x=\"320.359375\" xlink:href=\"#Arial-BoldMT-97\"/>\r\n     <use x=\"375.974609\" xlink:href=\"#Arial-BoldMT-116\"/>\r\n     <use x=\"409.275391\" xlink:href=\"#Arial-BoldMT-97\"/>\r\n     <use x=\"464.890625\" xlink:href=\"#Arial-BoldMT-108\"/>\r\n     <use x=\"492.673828\" xlink:href=\"#Arial-BoldMT-32\"/>\r\n     <use x=\"520.457031\" xlink:href=\"#Arial-BoldMT-80\"/>\r\n     <use x=\"587.15625\" xlink:href=\"#Arial-BoldMT-111\"/>\r\n     <use x=\"648.240234\" xlink:href=\"#Arial-BoldMT-108\"/>\r\n     <use x=\"676.023438\" xlink:href=\"#Arial-BoldMT-105\"/>\r\n     <use x=\"703.806641\" xlink:href=\"#Arial-BoldMT-99\"/>\r\n     <use x=\"759.421875\" xlink:href=\"#Arial-BoldMT-101\"/>\r\n     <use x=\"815.037109\" xlink:href=\"#Arial-BoldMT-32\"/>\r\n     <use x=\"842.820312\" xlink:href=\"#Arial-BoldMT-83\"/>\r\n     <use x=\"909.519531\" xlink:href=\"#Arial-BoldMT-104\"/>\r\n     <use x=\"970.603516\" xlink:href=\"#Arial-BoldMT-111\"/>\r\n     <use x=\"1031.6875\" xlink:href=\"#Arial-BoldMT-111\"/>\r\n     <use x=\"1092.771484\" xlink:href=\"#Arial-BoldMT-116\"/>\r\n     <use x=\"1126.072266\" xlink:href=\"#Arial-BoldMT-105\"/>\r\n     <use x=\"1153.855469\" xlink:href=\"#Arial-BoldMT-110\"/>\r\n     <use x=\"1214.939453\" xlink:href=\"#Arial-BoldMT-103\"/>\r\n     <use x=\"1276.023438\" xlink:href=\"#Arial-BoldMT-32\"/>\r\n     <use x=\"1303.806641\" xlink:href=\"#Arial-BoldMT-105\"/>\r\n     <use x=\"1331.589844\" xlink:href=\"#Arial-BoldMT-110\"/>\r\n     <use x=\"1392.673828\" xlink:href=\"#Arial-BoldMT-32\"/>\r\n     <use x=\"1420.457031\" xlink:href=\"#Arial-BoldMT-116\"/>\r\n     <use x=\"1453.757812\" xlink:href=\"#Arial-BoldMT-104\"/>\r\n     <use x=\"1514.841797\" xlink:href=\"#Arial-BoldMT-101\"/>\r\n     <use x=\"1570.457031\" xlink:href=\"#Arial-BoldMT-32\"/>\r\n     <use x=\"1598.240234\" xlink:href=\"#Arial-BoldMT-85\"/>\r\n     <use x=\"1670.457031\" xlink:href=\"#Arial-BoldMT-83\"/>\r\n    </g>\r\n   </g>\r\n  </g>\r\n </g>\r\n <defs>\r\n  <clipPath id=\"p53bd36f303\">\r\n   <rect height=\"217.44\" width=\"334.8\" x=\"44.028125\" y=\"21.935625\"/>\r\n  </clipPath>\r\n </defs>\r\n</svg>\r\n",
      "image/png": "[encoded data removed]"
     },
     "metadata": {
      "needs_background": "light"
     }
    }
   ],
   "source": [
    "total_deaths_year(df=kill_and_social)"
   ]
  },
  {
   "source": [
    "#### Manner of death:\n",
    "As we can see on the pie chart, police shot the suspects in a 93.2% and also used the taser in a 6.8% of the occasions\n"
   ],
   "cell_type": "markdown",
   "metadata": {}
  },
  {
   "cell_type": "code",
   "execution_count": 29,
   "metadata": {},
   "outputs": [
    {
     "output_type": "display_data",
     "data": {
      "text/plain": "<Figure size 432x288 with 1 Axes>",
      "image/svg+xml": "<?xml version=\"1.0\" encoding=\"utf-8\" standalone=\"no\"?>\r\n<!DOCTYPE svg PUBLIC \"-//W3C//DTD SVG 1.1//EN\"\r\n  \"http://www.w3.org/Graphics/SVG/1.1/DTD/svg11.dtd\">\r\n<!-- Created with matplotlib (https://matplotlib.org/) -->\r\n<svg height=\"246.429375pt\" version=\"1.1\" viewBox=\"0 0 300.162274 246.429375\" width=\"300.162274pt\" xmlns=\"http://www.w3.org/2000/svg\" xmlns:xlink=\"http://www.w3.org/1999/xlink\">\r\n <metadata>\r\n  <rdf:RDF xmlns:cc=\"http://creativecommons.org/ns#\" xmlns:dc=\"http://purl.org/dc/elements/1.1/\" xmlns:rdf=\"http://www.w3.org/1999/02/22-rdf-syntax-ns#\">\r\n   <cc:Work>\r\n    <dc:type rdf:resource=\"http://purl.org/dc/dcmitype/StillImage\"/>\r\n    <dc:date>2021-01-10T16:58:23.526481</dc:date>\r\n    <dc:format>image/svg+xml</dc:format>\r\n    <dc:creator>\r\n     <cc:Agent>\r\n      <dc:title>Matplotlib v3.3.3, https://matplotlib.org/</dc:title>\r\n     </cc:Agent>\r\n    </dc:creator>\r\n   </cc:Work>\r\n  </rdf:RDF>\r\n </metadata>\r\n <defs>\r\n  <style type=\"text/css\">*{stroke-linecap:butt;stroke-linejoin:round;}</style>\r\n </defs>\r\n <g id=\"figure_1\">\r\n  <g id=\"patch_1\">\r\n   <path d=\"M 0 246.429375 \r\nL 300.162274 246.429375 \r\nL 300.162274 0 \r\nL 0 0 \r\nz\r\n\" style=\"fill:#ffffff;\"/>\r\n  </g>\r\n  <g id=\"axes_1\">\r\n   <g id=\"matplotlib.axis_1\"/>\r\n   <g id=\"matplotlib.axis_2\"/>\r\n   <g id=\"patch_2\">\r\n    <path d=\"M 208.240731 130.509375 \r\nC 208.240731 119.86969 206.288419 109.319754 202.480964 99.384656 \r\nC 198.673509 89.449558 193.075145 80.296907 185.964514 72.382249 \r\nC 178.853882 64.467592 170.350943 57.92445 160.878902 53.078489 \r\nC 151.406861 48.232529 141.125518 45.165502 130.546592 44.030062 \r\nC 119.967667 42.894621 109.269631 43.709922 98.984946 46.435385 \r\nC 88.700261 49.160848 79.002435 53.750494 70.374146 59.975887 \r\nC 61.745857 66.20128 54.332669 73.957395 48.503549 82.858195 \r\nC 42.674429 91.758996 38.527718 101.654322 36.269805 112.051664 \r\nC 34.011892 122.449006 33.68087 133.172956 35.293213 143.689763 \r\nC 36.905556 154.206571 40.434065 164.338812 45.703117 173.582186 \r\nC 50.97217 182.825561 57.892876 191.024128 66.120778 197.769832 \r\nC 74.348681 204.515535 83.744971 209.69457 93.841979 213.049167 \r\nC 103.938987 216.403764 114.566371 217.877329 125.195186 217.396521 \r\nC 135.824001 216.915712 146.274935 214.488641 156.027824 210.236108 \r\nC 165.780713 205.983575 174.671022 199.977321 182.256265 192.516289 \r\nC 189.841507 185.055258 195.993715 176.26532 200.406683 166.583966 \r\nL 121.264731 130.509375 \r\nL 208.240731 130.509375 \r\nz\r\n\" style=\"fill:#3434eb;stroke:#ffffff;stroke-linejoin:miter;\"/>\r\n   </g>\r\n   <g id=\"patch_3\">\r\n    <path d=\"M 200.406683 166.583966 \r\nC 202.980552 160.937303 204.942725 155.031357 206.259656 148.967092 \r\nC 207.576587 142.902828 208.24073 136.714999 208.240731 130.509387 \r\nL 121.264731 130.509375 \r\nL 200.406683 166.583966 \r\nz\r\n\" style=\"fill:#eb34c9;stroke:#ffffff;stroke-linejoin:miter;\"/>\r\n   </g>\r\n   <g id=\"text_1\">\r\n    <!-- Shot -->\r\n    <g style=\"fill:#262626;\" transform=\"translate(7.2 112.791049)scale(0.1 -0.1)\">\r\n     <defs>\r\n      <path d=\"M 4.5 23 \r\nL 13.421875 23.78125 \r\nQ 14.0625 18.40625 16.375 14.96875 \r\nQ 18.703125 11.53125 23.578125 9.40625 \r\nQ 28.46875 7.28125 34.578125 7.28125 \r\nQ 39.984375 7.28125 44.140625 8.890625 \r\nQ 48.296875 10.5 50.3125 13.296875 \r\nQ 52.34375 16.109375 52.34375 19.4375 \r\nQ 52.34375 22.796875 50.390625 25.3125 \r\nQ 48.4375 27.828125 43.953125 29.546875 \r\nQ 41.0625 30.671875 31.203125 33.03125 \r\nQ 21.34375 35.40625 17.390625 37.5 \r\nQ 12.25 40.1875 9.734375 44.15625 \r\nQ 7.234375 48.140625 7.234375 53.078125 \r\nQ 7.234375 58.5 10.296875 63.203125 \r\nQ 13.375 67.921875 19.28125 70.359375 \r\nQ 25.203125 72.796875 32.421875 72.796875 \r\nQ 40.375 72.796875 46.453125 70.234375 \r\nQ 52.546875 67.671875 55.8125 62.6875 \r\nQ 59.078125 57.71875 59.328125 51.421875 \r\nL 50.25 50.734375 \r\nQ 49.515625 57.515625 45.28125 60.984375 \r\nQ 41.0625 64.453125 32.8125 64.453125 \r\nQ 24.21875 64.453125 20.28125 61.296875 \r\nQ 16.359375 58.15625 16.359375 53.71875 \r\nQ 16.359375 49.859375 19.140625 47.359375 \r\nQ 21.875 44.875 33.421875 42.265625 \r\nQ 44.96875 39.65625 49.265625 37.703125 \r\nQ 55.515625 34.8125 58.484375 30.390625 \r\nQ 61.46875 25.984375 61.46875 20.21875 \r\nQ 61.46875 14.5 58.203125 9.4375 \r\nQ 54.9375 4.390625 48.796875 1.578125 \r\nQ 42.671875 -1.21875 35.015625 -1.21875 \r\nQ 25.296875 -1.21875 18.71875 1.609375 \r\nQ 12.15625 4.4375 8.421875 10.125 \r\nQ 4.6875 15.828125 4.5 23 \r\nz\r\n\" id=\"ArialMT-83\"/>\r\n      <path d=\"M 6.59375 0 \r\nL 6.59375 71.578125 \r\nL 15.375 71.578125 \r\nL 15.375 45.90625 \r\nQ 21.53125 53.03125 30.90625 53.03125 \r\nQ 36.671875 53.03125 40.921875 50.75 \r\nQ 45.171875 48.484375 47 44.484375 \r\nQ 48.828125 40.484375 48.828125 32.859375 \r\nL 48.828125 0 \r\nL 40.046875 0 \r\nL 40.046875 32.859375 \r\nQ 40.046875 39.453125 37.1875 42.453125 \r\nQ 34.328125 45.453125 29.109375 45.453125 \r\nQ 25.203125 45.453125 21.75 43.421875 \r\nQ 18.3125 41.40625 16.84375 37.9375 \r\nQ 15.375 34.46875 15.375 28.375 \r\nL 15.375 0 \r\nz\r\n\" id=\"ArialMT-104\"/>\r\n      <path d=\"M 3.328125 25.921875 \r\nQ 3.328125 40.328125 11.328125 47.265625 \r\nQ 18.015625 53.03125 27.640625 53.03125 \r\nQ 38.328125 53.03125 45.109375 46.015625 \r\nQ 51.90625 39.015625 51.90625 26.65625 \r\nQ 51.90625 16.65625 48.90625 10.90625 \r\nQ 45.90625 5.171875 40.15625 2 \r\nQ 34.421875 -1.171875 27.640625 -1.171875 \r\nQ 16.75 -1.171875 10.03125 5.8125 \r\nQ 3.328125 12.796875 3.328125 25.921875 \r\nz\r\nM 12.359375 25.921875 \r\nQ 12.359375 15.96875 16.703125 11.015625 \r\nQ 21.046875 6.0625 27.640625 6.0625 \r\nQ 34.1875 6.0625 38.53125 11.03125 \r\nQ 42.875 16.015625 42.875 26.21875 \r\nQ 42.875 35.84375 38.5 40.796875 \r\nQ 34.125 45.75 27.640625 45.75 \r\nQ 21.046875 45.75 16.703125 40.8125 \r\nQ 12.359375 35.890625 12.359375 25.921875 \r\nz\r\n\" id=\"ArialMT-111\"/>\r\n      <path d=\"M 25.78125 7.859375 \r\nL 27.046875 0.09375 \r\nQ 23.34375 -0.6875 20.40625 -0.6875 \r\nQ 15.625 -0.6875 12.984375 0.828125 \r\nQ 10.359375 2.34375 9.28125 4.8125 \r\nQ 8.203125 7.28125 8.203125 15.1875 \r\nL 8.203125 45.015625 \r\nL 1.765625 45.015625 \r\nL 1.765625 51.859375 \r\nL 8.203125 51.859375 \r\nL 8.203125 64.703125 \r\nL 16.9375 69.96875 \r\nL 16.9375 51.859375 \r\nL 25.78125 51.859375 \r\nL 25.78125 45.015625 \r\nL 16.9375 45.015625 \r\nL 16.9375 14.703125 \r\nQ 16.9375 10.9375 17.40625 9.859375 \r\nQ 17.875 8.796875 18.921875 8.15625 \r\nQ 19.96875 7.515625 21.921875 7.515625 \r\nQ 23.390625 7.515625 25.78125 7.859375 \r\nz\r\n\" id=\"ArialMT-116\"/>\r\n     </defs>\r\n     <use xlink:href=\"#ArialMT-83\"/>\r\n     <use x=\"66.699219\" xlink:href=\"#ArialMT-104\"/>\r\n     <use x=\"122.314453\" xlink:href=\"#ArialMT-111\"/>\r\n     <use x=\"177.929688\" xlink:href=\"#ArialMT-116\"/>\r\n    </g>\r\n   </g>\r\n   <g id=\"text_2\">\r\n    <!-- 93.2 % -->\r\n    <g style=\"fill:#262626;\" transform=\"translate(54.702151 122.019904)scale(0.1 -0.1)\">\r\n     <defs>\r\n      <path d=\"M 5.46875 16.546875 \r\nL 13.921875 17.328125 \r\nQ 14.984375 11.375 18.015625 8.6875 \r\nQ 21.046875 6 25.78125 6 \r\nQ 29.828125 6 32.875 7.859375 \r\nQ 35.9375 9.71875 37.890625 12.8125 \r\nQ 39.84375 15.921875 41.15625 21.1875 \r\nQ 42.484375 26.46875 42.484375 31.9375 \r\nQ 42.484375 32.515625 42.4375 33.6875 \r\nQ 39.796875 29.5 35.234375 26.875 \r\nQ 30.671875 24.265625 25.34375 24.265625 \r\nQ 16.453125 24.265625 10.296875 30.703125 \r\nQ 4.15625 37.15625 4.15625 47.703125 \r\nQ 4.15625 58.59375 10.578125 65.234375 \r\nQ 17 71.875 26.65625 71.875 \r\nQ 33.640625 71.875 39.421875 68.109375 \r\nQ 45.21875 64.359375 48.21875 57.390625 \r\nQ 51.21875 50.4375 51.21875 37.25 \r\nQ 51.21875 23.53125 48.234375 15.40625 \r\nQ 45.265625 7.28125 39.375 3.03125 \r\nQ 33.5 -1.21875 25.59375 -1.21875 \r\nQ 17.1875 -1.21875 11.859375 3.4375 \r\nQ 6.546875 8.109375 5.46875 16.546875 \r\nz\r\nM 41.453125 48.140625 \r\nQ 41.453125 55.71875 37.421875 60.15625 \r\nQ 33.40625 64.59375 27.734375 64.59375 \r\nQ 21.875 64.59375 17.53125 59.8125 \r\nQ 13.1875 55.03125 13.1875 47.40625 \r\nQ 13.1875 40.578125 17.3125 36.296875 \r\nQ 21.4375 32.03125 27.484375 32.03125 \r\nQ 33.59375 32.03125 37.515625 36.296875 \r\nQ 41.453125 40.578125 41.453125 48.140625 \r\nz\r\n\" id=\"ArialMT-57\"/>\r\n      <path d=\"M 4.203125 18.890625 \r\nL 12.984375 20.0625 \r\nQ 14.5 12.59375 18.140625 9.296875 \r\nQ 21.78125 6 27 6 \r\nQ 33.203125 6 37.46875 10.296875 \r\nQ 41.75 14.59375 41.75 20.953125 \r\nQ 41.75 27 37.796875 30.921875 \r\nQ 33.84375 34.859375 27.734375 34.859375 \r\nQ 25.25 34.859375 21.53125 33.890625 \r\nL 22.515625 41.609375 \r\nQ 23.390625 41.5 23.921875 41.5 \r\nQ 29.546875 41.5 34.03125 44.421875 \r\nQ 38.53125 47.359375 38.53125 53.46875 \r\nQ 38.53125 58.296875 35.25 61.46875 \r\nQ 31.984375 64.65625 26.8125 64.65625 \r\nQ 21.6875 64.65625 18.265625 61.421875 \r\nQ 14.84375 58.203125 13.875 51.765625 \r\nL 5.078125 53.328125 \r\nQ 6.6875 62.15625 12.390625 67.015625 \r\nQ 18.109375 71.875 26.609375 71.875 \r\nQ 32.46875 71.875 37.390625 69.359375 \r\nQ 42.328125 66.84375 44.9375 62.5 \r\nQ 47.5625 58.15625 47.5625 53.265625 \r\nQ 47.5625 48.640625 45.0625 44.828125 \r\nQ 42.578125 41.015625 37.703125 38.765625 \r\nQ 44.046875 37.3125 47.5625 32.6875 \r\nQ 51.078125 28.078125 51.078125 21.140625 \r\nQ 51.078125 11.765625 44.234375 5.25 \r\nQ 37.40625 -1.265625 26.953125 -1.265625 \r\nQ 17.53125 -1.265625 11.296875 4.34375 \r\nQ 5.078125 9.96875 4.203125 18.890625 \r\nz\r\n\" id=\"ArialMT-51\"/>\r\n      <path d=\"M 9.078125 0 \r\nL 9.078125 10.015625 \r\nL 19.09375 10.015625 \r\nL 19.09375 0 \r\nz\r\n\" id=\"ArialMT-46\"/>\r\n      <path d=\"M 50.34375 8.453125 \r\nL 50.34375 0 \r\nL 3.03125 0 \r\nQ 2.9375 3.171875 4.046875 6.109375 \r\nQ 5.859375 10.9375 9.828125 15.625 \r\nQ 13.8125 20.3125 21.34375 26.46875 \r\nQ 33.015625 36.03125 37.109375 41.625 \r\nQ 41.21875 47.21875 41.21875 52.203125 \r\nQ 41.21875 57.421875 37.46875 61 \r\nQ 33.734375 64.59375 27.734375 64.59375 \r\nQ 21.390625 64.59375 17.578125 60.78125 \r\nQ 13.765625 56.984375 13.71875 50.25 \r\nL 4.6875 51.171875 \r\nQ 5.609375 61.28125 11.65625 66.578125 \r\nQ 17.71875 71.875 27.9375 71.875 \r\nQ 38.234375 71.875 44.234375 66.15625 \r\nQ 50.25 60.453125 50.25 52 \r\nQ 50.25 47.703125 48.484375 43.546875 \r\nQ 46.734375 39.40625 42.65625 34.8125 \r\nQ 38.578125 30.21875 29.109375 22.21875 \r\nQ 21.1875 15.578125 18.9375 13.203125 \r\nQ 16.703125 10.84375 15.234375 8.453125 \r\nz\r\n\" id=\"ArialMT-50\"/>\r\n      <path id=\"ArialMT-32\"/>\r\n      <path d=\"M 5.8125 54.390625 \r\nQ 5.8125 62.0625 9.671875 67.421875 \r\nQ 13.53125 72.796875 20.84375 72.796875 \r\nQ 27.59375 72.796875 32 67.984375 \r\nQ 36.421875 63.1875 36.421875 53.859375 \r\nQ 36.421875 44.78125 31.953125 39.875 \r\nQ 27.484375 34.96875 20.953125 34.96875 \r\nQ 14.453125 34.96875 10.125 39.796875 \r\nQ 5.8125 44.625 5.8125 54.390625 \r\nz\r\nM 21.09375 66.75 \r\nQ 17.828125 66.75 15.65625 63.90625 \r\nQ 13.484375 61.078125 13.484375 53.515625 \r\nQ 13.484375 46.625 15.671875 43.8125 \r\nQ 17.875 41.015625 21.09375 41.015625 \r\nQ 24.421875 41.015625 26.59375 43.84375 \r\nQ 28.765625 46.6875 28.765625 54.203125 \r\nQ 28.765625 61.140625 26.5625 63.9375 \r\nQ 24.359375 66.75 21.09375 66.75 \r\nz\r\nM 21.140625 -2.640625 \r\nL 60.296875 72.796875 \r\nL 67.4375 72.796875 \r\nL 28.421875 -2.640625 \r\nz\r\nM 52.09375 16.796875 \r\nQ 52.09375 24.515625 55.953125 29.859375 \r\nQ 59.8125 35.203125 67.1875 35.203125 \r\nQ 73.921875 35.203125 78.34375 30.390625 \r\nQ 82.765625 25.59375 82.765625 16.265625 \r\nQ 82.765625 7.171875 78.296875 2.265625 \r\nQ 73.828125 -2.640625 67.234375 -2.640625 \r\nQ 60.75 -2.640625 56.421875 2.21875 \r\nQ 52.09375 7.078125 52.09375 16.796875 \r\nz\r\nM 67.4375 29.15625 \r\nQ 64.109375 29.15625 61.9375 26.3125 \r\nQ 59.765625 23.484375 59.765625 15.921875 \r\nQ 59.765625 9.078125 61.953125 6.25 \r\nQ 64.15625 3.421875 67.390625 3.421875 \r\nQ 70.75 3.421875 72.921875 6.25 \r\nQ 75.09375 9.078125 75.09375 16.609375 \r\nQ 75.09375 23.53125 72.890625 26.34375 \r\nQ 70.703125 29.15625 67.4375 29.15625 \r\nz\r\n\" id=\"ArialMT-37\"/>\r\n     </defs>\r\n     <use xlink:href=\"#ArialMT-57\"/>\r\n     <use x=\"55.615234\" xlink:href=\"#ArialMT-51\"/>\r\n     <use x=\"111.230469\" xlink:href=\"#ArialMT-46\"/>\r\n     <use x=\"139.013672\" xlink:href=\"#ArialMT-50\"/>\r\n     <use x=\"194.628906\" xlink:href=\"#ArialMT-32\"/>\r\n     <use x=\"222.412109\" xlink:href=\"#ArialMT-37\"/>\r\n    </g>\r\n   </g>\r\n   <g id=\"text_3\">\r\n    <!-- Shot and Tasered -->\r\n    <g style=\"fill:#262626;\" transform=\"translate(214.759149 153.39802)scale(0.1 -0.1)\">\r\n     <defs>\r\n      <path d=\"M 40.4375 6.390625 \r\nQ 35.546875 2.25 31.03125 0.53125 \r\nQ 26.515625 -1.171875 21.34375 -1.171875 \r\nQ 12.796875 -1.171875 8.203125 3 \r\nQ 3.609375 7.171875 3.609375 13.671875 \r\nQ 3.609375 17.484375 5.34375 20.625 \r\nQ 7.078125 23.78125 9.890625 25.6875 \r\nQ 12.703125 27.59375 16.21875 28.5625 \r\nQ 18.796875 29.25 24.03125 29.890625 \r\nQ 34.671875 31.15625 39.703125 32.90625 \r\nQ 39.75 34.71875 39.75 35.203125 \r\nQ 39.75 40.578125 37.25 42.78125 \r\nQ 33.890625 45.75 27.25 45.75 \r\nQ 21.046875 45.75 18.09375 43.578125 \r\nQ 15.140625 41.40625 13.71875 35.890625 \r\nL 5.125 37.0625 \r\nQ 6.296875 42.578125 8.984375 45.96875 \r\nQ 11.671875 49.359375 16.75 51.1875 \r\nQ 21.828125 53.03125 28.515625 53.03125 \r\nQ 35.15625 53.03125 39.296875 51.46875 \r\nQ 43.453125 49.90625 45.40625 47.53125 \r\nQ 47.359375 45.171875 48.140625 41.546875 \r\nQ 48.578125 39.3125 48.578125 33.453125 \r\nL 48.578125 21.734375 \r\nQ 48.578125 9.46875 49.140625 6.21875 \r\nQ 49.703125 2.984375 51.375 0 \r\nL 42.1875 0 \r\nQ 40.828125 2.734375 40.4375 6.390625 \r\nz\r\nM 39.703125 26.03125 \r\nQ 34.90625 24.078125 25.34375 22.703125 \r\nQ 19.921875 21.921875 17.671875 20.9375 \r\nQ 15.4375 19.96875 14.203125 18.09375 \r\nQ 12.984375 16.21875 12.984375 13.921875 \r\nQ 12.984375 10.40625 15.640625 8.0625 \r\nQ 18.3125 5.71875 23.4375 5.71875 \r\nQ 28.515625 5.71875 32.46875 7.9375 \r\nQ 36.421875 10.15625 38.28125 14.015625 \r\nQ 39.703125 17 39.703125 22.796875 \r\nz\r\n\" id=\"ArialMT-97\"/>\r\n      <path d=\"M 6.59375 0 \r\nL 6.59375 51.859375 \r\nL 14.5 51.859375 \r\nL 14.5 44.484375 \r\nQ 20.21875 53.03125 31 53.03125 \r\nQ 35.6875 53.03125 39.625 51.34375 \r\nQ 43.5625 49.65625 45.515625 46.921875 \r\nQ 47.46875 44.1875 48.25 40.4375 \r\nQ 48.734375 37.984375 48.734375 31.890625 \r\nL 48.734375 0 \r\nL 39.9375 0 \r\nL 39.9375 31.546875 \r\nQ 39.9375 36.921875 38.90625 39.578125 \r\nQ 37.890625 42.234375 35.28125 43.8125 \r\nQ 32.671875 45.40625 29.15625 45.40625 \r\nQ 23.53125 45.40625 19.453125 41.84375 \r\nQ 15.375 38.28125 15.375 28.328125 \r\nL 15.375 0 \r\nz\r\n\" id=\"ArialMT-110\"/>\r\n      <path d=\"M 40.234375 0 \r\nL 40.234375 6.546875 \r\nQ 35.296875 -1.171875 25.734375 -1.171875 \r\nQ 19.53125 -1.171875 14.328125 2.25 \r\nQ 9.125 5.671875 6.265625 11.796875 \r\nQ 3.421875 17.921875 3.421875 25.875 \r\nQ 3.421875 33.640625 6 39.96875 \r\nQ 8.59375 46.296875 13.765625 49.65625 \r\nQ 18.953125 53.03125 25.34375 53.03125 \r\nQ 30.03125 53.03125 33.6875 51.046875 \r\nQ 37.359375 49.078125 39.65625 45.90625 \r\nL 39.65625 71.578125 \r\nL 48.390625 71.578125 \r\nL 48.390625 0 \r\nz\r\nM 12.453125 25.875 \r\nQ 12.453125 15.921875 16.640625 10.984375 \r\nQ 20.84375 6.0625 26.5625 6.0625 \r\nQ 32.328125 6.0625 36.34375 10.765625 \r\nQ 40.375 15.484375 40.375 25.140625 \r\nQ 40.375 35.796875 36.265625 40.765625 \r\nQ 32.171875 45.75 26.171875 45.75 \r\nQ 20.3125 45.75 16.375 40.96875 \r\nQ 12.453125 36.1875 12.453125 25.875 \r\nz\r\n\" id=\"ArialMT-100\"/>\r\n      <path d=\"M 25.921875 0 \r\nL 25.921875 63.140625 \r\nL 2.34375 63.140625 \r\nL 2.34375 71.578125 \r\nL 59.078125 71.578125 \r\nL 59.078125 63.140625 \r\nL 35.40625 63.140625 \r\nL 35.40625 0 \r\nz\r\n\" id=\"ArialMT-84\"/>\r\n      <path d=\"M 3.078125 15.484375 \r\nL 11.765625 16.84375 \r\nQ 12.5 11.625 15.84375 8.84375 \r\nQ 19.1875 6.0625 25.203125 6.0625 \r\nQ 31.25 6.0625 34.171875 8.515625 \r\nQ 37.109375 10.984375 37.109375 14.3125 \r\nQ 37.109375 17.28125 34.515625 19 \r\nQ 32.71875 20.171875 25.53125 21.96875 \r\nQ 15.875 24.421875 12.140625 26.203125 \r\nQ 8.40625 27.984375 6.46875 31.125 \r\nQ 4.546875 34.28125 4.546875 38.09375 \r\nQ 4.546875 41.546875 6.125 44.5 \r\nQ 7.71875 47.46875 10.453125 49.421875 \r\nQ 12.5 50.921875 16.03125 51.96875 \r\nQ 19.578125 53.03125 23.640625 53.03125 \r\nQ 29.734375 53.03125 34.34375 51.265625 \r\nQ 38.96875 49.515625 41.15625 46.5 \r\nQ 43.359375 43.5 44.1875 38.484375 \r\nL 35.59375 37.3125 \r\nQ 35.015625 41.3125 32.203125 43.546875 \r\nQ 29.390625 45.796875 24.265625 45.796875 \r\nQ 18.21875 45.796875 15.625 43.796875 \r\nQ 13.03125 41.796875 13.03125 39.109375 \r\nQ 13.03125 37.40625 14.109375 36.03125 \r\nQ 15.1875 34.625 17.484375 33.6875 \r\nQ 18.796875 33.203125 25.25 31.453125 \r\nQ 34.578125 28.953125 38.25 27.359375 \r\nQ 41.9375 25.78125 44.03125 22.75 \r\nQ 46.140625 19.734375 46.140625 15.234375 \r\nQ 46.140625 10.84375 43.578125 6.953125 \r\nQ 41.015625 3.078125 36.171875 0.953125 \r\nQ 31.34375 -1.171875 25.25 -1.171875 \r\nQ 15.140625 -1.171875 9.84375 3.03125 \r\nQ 4.546875 7.234375 3.078125 15.484375 \r\nz\r\n\" id=\"ArialMT-115\"/>\r\n      <path d=\"M 42.09375 16.703125 \r\nL 51.171875 15.578125 \r\nQ 49.03125 7.625 43.21875 3.21875 \r\nQ 37.40625 -1.171875 28.375 -1.171875 \r\nQ 17 -1.171875 10.328125 5.828125 \r\nQ 3.65625 12.84375 3.65625 25.484375 \r\nQ 3.65625 38.578125 10.390625 45.796875 \r\nQ 17.140625 53.03125 27.875 53.03125 \r\nQ 38.28125 53.03125 44.875 45.953125 \r\nQ 51.46875 38.875 51.46875 26.03125 \r\nQ 51.46875 25.25 51.421875 23.6875 \r\nL 12.75 23.6875 \r\nQ 13.234375 15.140625 17.578125 10.59375 \r\nQ 21.921875 6.0625 28.421875 6.0625 \r\nQ 33.25 6.0625 36.671875 8.59375 \r\nQ 40.09375 11.140625 42.09375 16.703125 \r\nz\r\nM 13.234375 30.90625 \r\nL 42.1875 30.90625 \r\nQ 41.609375 37.453125 38.875 40.71875 \r\nQ 34.671875 45.796875 27.984375 45.796875 \r\nQ 21.921875 45.796875 17.796875 41.75 \r\nQ 13.671875 37.703125 13.234375 30.90625 \r\nz\r\n\" id=\"ArialMT-101\"/>\r\n      <path d=\"M 6.5 0 \r\nL 6.5 51.859375 \r\nL 14.40625 51.859375 \r\nL 14.40625 44 \r\nQ 17.4375 49.515625 20 51.265625 \r\nQ 22.5625 53.03125 25.640625 53.03125 \r\nQ 30.078125 53.03125 34.671875 50.203125 \r\nL 31.640625 42.046875 \r\nQ 28.421875 43.953125 25.203125 43.953125 \r\nQ 22.3125 43.953125 20.015625 42.21875 \r\nQ 17.71875 40.484375 16.75 37.40625 \r\nQ 15.28125 32.71875 15.28125 27.15625 \r\nL 15.28125 0 \r\nz\r\n\" id=\"ArialMT-114\"/>\r\n     </defs>\r\n     <use xlink:href=\"#ArialMT-83\"/>\r\n     <use x=\"66.699219\" xlink:href=\"#ArialMT-104\"/>\r\n     <use x=\"122.314453\" xlink:href=\"#ArialMT-111\"/>\r\n     <use x=\"177.929688\" xlink:href=\"#ArialMT-116\"/>\r\n     <use x=\"205.712891\" xlink:href=\"#ArialMT-32\"/>\r\n     <use x=\"233.496094\" xlink:href=\"#ArialMT-97\"/>\r\n     <use x=\"289.111328\" xlink:href=\"#ArialMT-110\"/>\r\n     <use x=\"344.726562\" xlink:href=\"#ArialMT-100\"/>\r\n     <use x=\"400.341797\" xlink:href=\"#ArialMT-32\"/>\r\n     <use x=\"426.375\" xlink:href=\"#ArialMT-84\"/>\r\n     <use x=\"476.333984\" xlink:href=\"#ArialMT-97\"/>\r\n     <use x=\"531.949219\" xlink:href=\"#ArialMT-115\"/>\r\n     <use x=\"581.949219\" xlink:href=\"#ArialMT-101\"/>\r\n     <use x=\"637.564453\" xlink:href=\"#ArialMT-114\"/>\r\n     <use x=\"670.865234\" xlink:href=\"#ArialMT-101\"/>\r\n     <use x=\"726.480469\" xlink:href=\"#ArialMT-100\"/>\r\n    </g>\r\n   </g>\r\n   <g id=\"text_4\">\r\n    <!-- 6.8 % -->\r\n    <g style=\"fill:#262626;\" transform=\"translate(159.47653 144.169162)scale(0.1 -0.1)\">\r\n     <defs>\r\n      <path d=\"M 49.75 54.046875 \r\nL 41.015625 53.375 \r\nQ 39.84375 58.546875 37.703125 60.890625 \r\nQ 34.125 64.65625 28.90625 64.65625 \r\nQ 24.703125 64.65625 21.53125 62.3125 \r\nQ 17.390625 59.28125 14.984375 53.46875 \r\nQ 12.59375 47.65625 12.5 36.921875 \r\nQ 15.671875 41.75 20.265625 44.09375 \r\nQ 24.859375 46.4375 29.890625 46.4375 \r\nQ 38.671875 46.4375 44.84375 39.96875 \r\nQ 51.03125 33.5 51.03125 23.25 \r\nQ 51.03125 16.5 48.125 10.71875 \r\nQ 45.21875 4.9375 40.140625 1.859375 \r\nQ 35.0625 -1.21875 28.609375 -1.21875 \r\nQ 17.625 -1.21875 10.6875 6.859375 \r\nQ 3.765625 14.9375 3.765625 33.5 \r\nQ 3.765625 54.25 11.421875 63.671875 \r\nQ 18.109375 71.875 29.4375 71.875 \r\nQ 37.890625 71.875 43.28125 67.140625 \r\nQ 48.6875 62.40625 49.75 54.046875 \r\nz\r\nM 13.875 23.1875 \r\nQ 13.875 18.65625 15.796875 14.5 \r\nQ 17.71875 10.359375 21.1875 8.171875 \r\nQ 24.65625 6 28.46875 6 \r\nQ 34.03125 6 38.03125 10.484375 \r\nQ 42.046875 14.984375 42.046875 22.703125 \r\nQ 42.046875 30.125 38.078125 34.390625 \r\nQ 34.125 38.671875 28.125 38.671875 \r\nQ 22.171875 38.671875 18.015625 34.390625 \r\nQ 13.875 30.125 13.875 23.1875 \r\nz\r\n\" id=\"ArialMT-54\"/>\r\n      <path d=\"M 17.671875 38.8125 \r\nQ 12.203125 40.828125 9.5625 44.53125 \r\nQ 6.9375 48.25 6.9375 53.421875 \r\nQ 6.9375 61.234375 12.546875 66.546875 \r\nQ 18.171875 71.875 27.484375 71.875 \r\nQ 36.859375 71.875 42.578125 66.421875 \r\nQ 48.296875 60.984375 48.296875 53.171875 \r\nQ 48.296875 48.1875 45.671875 44.5 \r\nQ 43.0625 40.828125 37.75 38.8125 \r\nQ 44.34375 36.671875 47.78125 31.875 \r\nQ 51.21875 27.09375 51.21875 20.453125 \r\nQ 51.21875 11.28125 44.71875 5.03125 \r\nQ 38.234375 -1.21875 27.640625 -1.21875 \r\nQ 17.046875 -1.21875 10.546875 5.046875 \r\nQ 4.046875 11.328125 4.046875 20.703125 \r\nQ 4.046875 27.6875 7.59375 32.390625 \r\nQ 11.140625 37.109375 17.671875 38.8125 \r\nz\r\nM 15.921875 53.71875 \r\nQ 15.921875 48.640625 19.1875 45.40625 \r\nQ 22.46875 42.1875 27.6875 42.1875 \r\nQ 32.765625 42.1875 36.015625 45.375 \r\nQ 39.265625 48.578125 39.265625 53.21875 \r\nQ 39.265625 58.0625 35.90625 61.359375 \r\nQ 32.5625 64.65625 27.59375 64.65625 \r\nQ 22.5625 64.65625 19.234375 61.421875 \r\nQ 15.921875 58.203125 15.921875 53.71875 \r\nz\r\nM 13.09375 20.65625 \r\nQ 13.09375 16.890625 14.875 13.375 \r\nQ 16.65625 9.859375 20.171875 7.921875 \r\nQ 23.6875 6 27.734375 6 \r\nQ 34.03125 6 38.125 10.046875 \r\nQ 42.234375 14.109375 42.234375 20.359375 \r\nQ 42.234375 26.703125 38.015625 30.859375 \r\nQ 33.796875 35.015625 27.4375 35.015625 \r\nQ 21.234375 35.015625 17.15625 30.90625 \r\nQ 13.09375 26.8125 13.09375 20.65625 \r\nz\r\n\" id=\"ArialMT-56\"/>\r\n     </defs>\r\n     <use xlink:href=\"#ArialMT-54\"/>\r\n     <use x=\"55.615234\" xlink:href=\"#ArialMT-46\"/>\r\n     <use x=\"83.398438\" xlink:href=\"#ArialMT-56\"/>\r\n     <use x=\"139.013672\" xlink:href=\"#ArialMT-32\"/>\r\n     <use x=\"166.796875\" xlink:href=\"#ArialMT-37\"/>\r\n    </g>\r\n   </g>\r\n   <g id=\"text_5\">\r\n    <!-- Manner Of Death -->\r\n    <g style=\"fill:#262626;\" transform=\"translate(75.245669 15.789375)scale(0.12 -0.12)\">\r\n     <defs>\r\n      <path d=\"M 7.421875 0 \r\nL 7.421875 71.578125 \r\nL 21.6875 71.578125 \r\nL 38.625 20.90625 \r\nQ 40.96875 13.8125 42.046875 10.296875 \r\nQ 43.265625 14.203125 45.84375 21.78125 \r\nL 62.984375 71.578125 \r\nL 75.734375 71.578125 \r\nL 75.734375 0 \r\nL 66.609375 0 \r\nL 66.609375 59.90625 \r\nL 45.796875 0 \r\nL 37.25 0 \r\nL 16.546875 60.9375 \r\nL 16.546875 0 \r\nz\r\n\" id=\"ArialMT-77\"/>\r\n      <path d=\"M 4.828125 34.859375 \r\nQ 4.828125 52.6875 14.390625 62.765625 \r\nQ 23.96875 72.859375 39.109375 72.859375 \r\nQ 49.03125 72.859375 56.984375 68.109375 \r\nQ 64.9375 63.375 69.109375 54.90625 \r\nQ 73.296875 46.4375 73.296875 35.6875 \r\nQ 73.296875 24.8125 68.890625 16.21875 \r\nQ 64.5 7.625 56.4375 3.203125 \r\nQ 48.390625 -1.21875 39.0625 -1.21875 \r\nQ 28.953125 -1.21875 20.984375 3.65625 \r\nQ 13.03125 8.546875 8.921875 16.984375 \r\nQ 4.828125 25.4375 4.828125 34.859375 \r\nz\r\nM 14.59375 34.71875 \r\nQ 14.59375 21.78125 21.546875 14.328125 \r\nQ 28.515625 6.890625 39.015625 6.890625 \r\nQ 49.703125 6.890625 56.609375 14.40625 \r\nQ 63.53125 21.921875 63.53125 35.75 \r\nQ 63.53125 44.484375 60.578125 51 \r\nQ 57.625 57.515625 51.921875 61.109375 \r\nQ 46.234375 64.703125 39.15625 64.703125 \r\nQ 29.109375 64.703125 21.84375 57.78125 \r\nQ 14.59375 50.875 14.59375 34.71875 \r\nz\r\n\" id=\"ArialMT-79\"/>\r\n      <path d=\"M 8.6875 0 \r\nL 8.6875 45.015625 \r\nL 0.921875 45.015625 \r\nL 0.921875 51.859375 \r\nL 8.6875 51.859375 \r\nL 8.6875 57.375 \r\nQ 8.6875 62.59375 9.625 65.140625 \r\nQ 10.890625 68.5625 14.078125 70.671875 \r\nQ 17.28125 72.796875 23.046875 72.796875 \r\nQ 26.765625 72.796875 31.25 71.921875 \r\nL 29.9375 64.265625 \r\nQ 27.203125 64.75 24.75 64.75 \r\nQ 20.75 64.75 19.09375 63.03125 \r\nQ 17.4375 61.328125 17.4375 56.640625 \r\nL 17.4375 51.859375 \r\nL 27.546875 51.859375 \r\nL 27.546875 45.015625 \r\nL 17.4375 45.015625 \r\nL 17.4375 0 \r\nz\r\n\" id=\"ArialMT-102\"/>\r\n      <path d=\"M 7.71875 0 \r\nL 7.71875 71.578125 \r\nL 32.375 71.578125 \r\nQ 40.71875 71.578125 45.125 70.5625 \r\nQ 51.265625 69.140625 55.609375 65.4375 \r\nQ 61.28125 60.640625 64.078125 53.1875 \r\nQ 66.890625 45.75 66.890625 36.1875 \r\nQ 66.890625 28.03125 64.984375 21.734375 \r\nQ 63.09375 15.4375 60.109375 11.296875 \r\nQ 57.125 7.171875 53.578125 4.796875 \r\nQ 50.046875 2.4375 45.046875 1.21875 \r\nQ 40.046875 0 33.546875 0 \r\nz\r\nM 17.1875 8.453125 \r\nL 32.46875 8.453125 \r\nQ 39.546875 8.453125 43.578125 9.765625 \r\nQ 47.609375 11.078125 50 13.484375 \r\nQ 53.375 16.84375 55.25 22.53125 \r\nQ 57.125 28.21875 57.125 36.328125 \r\nQ 57.125 47.5625 53.4375 53.59375 \r\nQ 49.75 59.625 44.484375 61.671875 \r\nQ 40.671875 63.140625 32.234375 63.140625 \r\nL 17.1875 63.140625 \r\nz\r\n\" id=\"ArialMT-68\"/>\r\n     </defs>\r\n     <use xlink:href=\"#ArialMT-77\"/>\r\n     <use x=\"83.300781\" xlink:href=\"#ArialMT-97\"/>\r\n     <use x=\"138.916016\" xlink:href=\"#ArialMT-110\"/>\r\n     <use x=\"194.53125\" xlink:href=\"#ArialMT-110\"/>\r\n     <use x=\"250.146484\" xlink:href=\"#ArialMT-101\"/>\r\n     <use x=\"305.761719\" xlink:href=\"#ArialMT-114\"/>\r\n     <use x=\"339.0625\" xlink:href=\"#ArialMT-32\"/>\r\n     <use x=\"366.845703\" xlink:href=\"#ArialMT-79\"/>\r\n     <use x=\"444.628906\" xlink:href=\"#ArialMT-102\"/>\r\n     <use x=\"472.412109\" xlink:href=\"#ArialMT-32\"/>\r\n     <use x=\"500.195312\" xlink:href=\"#ArialMT-68\"/>\r\n     <use x=\"572.412109\" xlink:href=\"#ArialMT-101\"/>\r\n     <use x=\"628.027344\" xlink:href=\"#ArialMT-97\"/>\r\n     <use x=\"683.642578\" xlink:href=\"#ArialMT-116\"/>\r\n     <use x=\"711.425781\" xlink:href=\"#ArialMT-104\"/>\r\n    </g>\r\n   </g>\r\n  </g>\r\n </g>\r\n</svg>\r\n",
      "image/png": "[encoded data removed]"
     },
     "metadata": {}
    }
   ],
   "source": [
    "shot_or_tasered(df=kill_and_social)"
   ]
  },
  {
   "source": [
    "#### Weapon Carried at the moment of death:\n",
    "\n",
    "Suspects carried all kind of weapons as shown below.  However, guns were the ones they carried the most followed by knifes."
   ],
   "cell_type": "markdown",
   "metadata": {}
  },
  {
   "cell_type": "code",
   "execution_count": 30,
   "metadata": {},
   "outputs": [
    {
     "output_type": "display_data",
     "data": {
      "application/vnd.plotly.v1+json": {
       "config": {
        "plotlyServerURL": "https://plot.ly"
       },
       "data": [
        {
         "alignmentgroup": "True",
         "hovertemplate": "Armed=%{y}<br>Total amount=%{x}<extra></extra>",
         "legendgroup": "gun",
         "marker": {
          "color": "#f0f921"
         },
         "name": "gun",
         "offsetgroup": "gun",
         "orientation": "h",
         "showlegend": true,
         "textposition": "auto",
         "type": "bar",
         "x": [
          1105
         ],
         "xaxis": "x",
         "y": [
          "gun"
         ],
         "yaxis": "y"
        },
        {
         "alignmentgroup": "True",
         "hovertemplate": "Armed=%{y}<br>Total amount=%{x}<extra></extra>",
         "legendgroup": "knife",
         "marker": {
          "color": "#fdca26"
         },
         "name": "knife",
         "offsetgroup": "knife",
         "orientation": "h",
         "showlegend": true,
         "textposition": "auto",
         "type": "bar",
         "x": [
          289
         ],
         "xaxis": "x",
         "y": [
          "knife"
         ],
         "yaxis": "y"
        },
        {
         "alignmentgroup": "True",
         "hovertemplate": "Armed=%{y}<br>Total amount=%{x}<extra></extra>",
         "legendgroup": "unarmed",
         "marker": {
          "color": "#fb9f3a"
         },
         "name": "unarmed",
         "offsetgroup": "unarmed",
         "orientation": "h",
         "showlegend": true,
         "textposition": "auto",
         "type": "bar",
         "x": [
          152
         ],
         "xaxis": "x",
         "y": [
          "unarmed"
         ],
         "yaxis": "y"
        },
        {
         "alignmentgroup": "True",
         "hovertemplate": "Armed=%{y}<br>Total amount=%{x}<extra></extra>",
         "legendgroup": "vehicle",
         "marker": {
          "color": "#ed7953"
         },
         "name": "vehicle",
         "offsetgroup": "vehicle",
         "orientation": "h",
         "showlegend": true,
         "textposition": "auto",
         "type": "bar",
         "x": [
          145
         ],
         "xaxis": "x",
         "y": [
          "vehicle"
         ],
         "yaxis": "y"
        },
        {
         "alignmentgroup": "True",
         "hovertemplate": "Armed=%{y}<br>Total amount=%{x}<extra></extra>",
         "legendgroup": "undetermined",
         "marker": {
          "color": "#d8576b"
         },
         "name": "undetermined",
         "offsetgroup": "undetermined",
         "orientation": "h",
         "showlegend": true,
         "textposition": "auto",
         "type": "bar",
         "x": [
          89
         ],
         "xaxis": "x",
         "y": [
          "undetermined"
         ],
         "yaxis": "y"
        },
        {
         "alignmentgroup": "True",
         "hovertemplate": "Armed=%{y}<br>Total amount=%{x}<extra></extra>",
         "legendgroup": "toy weapon",
         "marker": {
          "color": "#bd3786"
         },
         "name": "toy weapon",
         "offsetgroup": "toy weapon",
         "orientation": "h",
         "showlegend": true,
         "textposition": "auto",
         "type": "bar",
         "x": [
          87
         ],
         "xaxis": "x",
         "y": [
          "toy weapon"
         ],
         "yaxis": "y"
        },
        {
         "alignmentgroup": "True",
         "hovertemplate": "Armed=%{y}<br>Total amount=%{x}<extra></extra>",
         "legendgroup": "machete",
         "marker": {
          "color": "#9c179e"
         },
         "name": "machete",
         "offsetgroup": "machete",
         "orientation": "h",
         "showlegend": true,
         "textposition": "auto",
         "type": "bar",
         "x": [
          16
         ],
         "xaxis": "x",
         "y": [
          "machete"
         ],
         "yaxis": "y"
        },
        {
         "alignmentgroup": "True",
         "hovertemplate": "Armed=%{y}<br>Total amount=%{x}<extra></extra>",
         "legendgroup": "unknown weapon",
         "marker": {
          "color": "#7201a8"
         },
         "name": "unknown weapon",
         "offsetgroup": "unknown weapon",
         "orientation": "h",
         "showlegend": true,
         "textposition": "auto",
         "type": "bar",
         "x": [
          10
         ],
         "xaxis": "x",
         "y": [
          "unknown weapon"
         ],
         "yaxis": "y"
        },
        {
         "alignmentgroup": "True",
         "hovertemplate": "Armed=%{y}<br>Total amount=%{x}<extra></extra>",
         "legendgroup": "sword",
         "marker": {
          "color": "#46039f"
         },
         "name": "sword",
         "offsetgroup": "sword",
         "orientation": "h",
         "showlegend": true,
         "textposition": "auto",
         "type": "bar",
         "x": [
          7
         ],
         "xaxis": "x",
         "y": [
          "sword"
         ],
         "yaxis": "y"
        },
        {
         "alignmentgroup": "True",
         "hovertemplate": "Armed=%{y}<br>Total amount=%{x}<extra></extra>",
         "legendgroup": "Taser",
         "marker": {
          "color": "#0d0887"
         },
         "name": "Taser",
         "offsetgroup": "Taser",
         "orientation": "h",
         "showlegend": true,
         "textposition": "auto",
         "type": "bar",
         "x": [
          6
         ],
         "xaxis": "x",
         "y": [
          "Taser"
         ],
         "yaxis": "y"
        }
       ],
       "layout": {
        "barmode": "relative",
        "legend": {
         "title": {
          "text": "Armed"
         },
         "tracegroupgap": 0
        },
        "template": {
         "data": {
          "bar": [
           {
            "error_x": {
             "color": "#2a3f5f"
            },
            "error_y": {
             "color": "#2a3f5f"
            },
            "marker": {
             "line": {
              "color": "#E5ECF6",
              "width": 0.5
             }
            },
            "type": "bar"
           }
          ],
          "barpolar": [
           {
            "marker": {
             "line": {
              "color": "#E5ECF6",
              "width": 0.5
             }
            },
            "type": "barpolar"
           }
          ],
          "carpet": [
           {
            "aaxis": {
             "endlinecolor": "#2a3f5f",
             "gridcolor": "white",
             "linecolor": "white",
             "minorgridcolor": "white",
             "startlinecolor": "#2a3f5f"
            },
            "baxis": {
             "endlinecolor": "#2a3f5f",
             "gridcolor": "white",
             "linecolor": "white",
             "minorgridcolor": "white",
             "startlinecolor": "#2a3f5f"
            },
            "type": "carpet"
           }
          ],
          "choropleth": [
           {
            "colorbar": {
             "outlinewidth": 0,
             "ticks": ""
            },
            "type": "choropleth"
           }
          ],
          "contour": [
           {
            "colorbar": {
             "outlinewidth": 0,
             "ticks": ""
            },
            "colorscale": [
             [
              0,
              "#0d0887"
             ],
             [
              0.1111111111111111,
              "#46039f"
             ],
             [
              0.2222222222222222,
              "#7201a8"
             ],
             [
              0.3333333333333333,
              "#9c179e"
             ],
             [
              0.4444444444444444,
              "#bd3786"
             ],
             [
              0.5555555555555556,
              "#d8576b"
             ],
             [
              0.6666666666666666,
              "#ed7953"
             ],
             [
              0.7777777777777778,
              "#fb9f3a"
             ],
             [
              0.8888888888888888,
              "#fdca26"
             ],
             [
              1,
              "#f0f921"
             ]
            ],
            "type": "contour"
           }
          ],
          "contourcarpet": [
           {
            "colorbar": {
             "outlinewidth": 0,
             "ticks": ""
            },
            "type": "contourcarpet"
           }
          ],
          "heatmap": [
           {
            "colorbar": {
             "outlinewidth": 0,
             "ticks": ""
            },
            "colorscale": [
             [
              0,
              "#0d0887"
             ],
             [
              0.1111111111111111,
              "#46039f"
             ],
             [
              0.2222222222222222,
              "#7201a8"
             ],
             [
              0.3333333333333333,
              "#9c179e"
             ],
             [
              0.4444444444444444,
              "#bd3786"
             ],
             [
              0.5555555555555556,
              "#d8576b"
             ],
             [
              0.6666666666666666,
              "#ed7953"
             ],
             [
              0.7777777777777778,
              "#fb9f3a"
             ],
             [
              0.8888888888888888,
              "#fdca26"
             ],
             [
              1,
              "#f0f921"
             ]
            ],
            "type": "heatmap"
           }
          ],
          "heatmapgl": [
           {
            "colorbar": {
             "outlinewidth": 0,
             "ticks": ""
            },
            "colorscale": [
             [
              0,
              "#0d0887"
             ],
             [
              0.1111111111111111,
              "#46039f"
             ],
             [
              0.2222222222222222,
              "#7201a8"
             ],
             [
              0.3333333333333333,
              "#9c179e"
             ],
             [
              0.4444444444444444,
              "#bd3786"
             ],
             [
              0.5555555555555556,
              "#d8576b"
             ],
             [
              0.6666666666666666,
              "#ed7953"
             ],
             [
              0.7777777777777778,
              "#fb9f3a"
             ],
             [
              0.8888888888888888,
              "#fdca26"
             ],
             [
              1,
              "#f0f921"
             ]
            ],
            "type": "heatmapgl"
           }
          ],
          "histogram": [
           {
            "marker": {
             "colorbar": {
              "outlinewidth": 0,
              "ticks": ""
             }
            },
            "type": "histogram"
           }
          ],
          "histogram2d": [
           {
            "colorbar": {
             "outlinewidth": 0,
             "ticks": ""
            },
            "colorscale": [
             [
              0,
              "#0d0887"
             ],
             [
              0.1111111111111111,
              "#46039f"
             ],
             [
              0.2222222222222222,
              "#7201a8"
             ],
             [
              0.3333333333333333,
              "#9c179e"
             ],
             [
              0.4444444444444444,
              "#bd3786"
             ],
             [
              0.5555555555555556,
              "#d8576b"
             ],
             [
              0.6666666666666666,
              "#ed7953"
             ],
             [
              0.7777777777777778,
              "#fb9f3a"
             ],
             [
              0.8888888888888888,
              "#fdca26"
             ],
             [
              1,
              "#f0f921"
             ]
            ],
            "type": "histogram2d"
           }
          ],
          "histogram2dcontour": [
           {
            "colorbar": {
             "outlinewidth": 0,
             "ticks": ""
            },
            "colorscale": [
             [
              0,
              "#0d0887"
             ],
             [
              0.1111111111111111,
              "#46039f"
             ],
             [
              0.2222222222222222,
              "#7201a8"
             ],
             [
              0.3333333333333333,
              "#9c179e"
             ],
             [
              0.4444444444444444,
              "#bd3786"
             ],
             [
              0.5555555555555556,
              "#d8576b"
             ],
             [
              0.6666666666666666,
              "#ed7953"
             ],
             [
              0.7777777777777778,
              "#fb9f3a"
             ],
             [
              0.8888888888888888,
              "#fdca26"
             ],
             [
              1,
              "#f0f921"
             ]
            ],
            "type": "histogram2dcontour"
           }
          ],
          "mesh3d": [
           {
            "colorbar": {
             "outlinewidth": 0,
             "ticks": ""
            },
            "type": "mesh3d"
           }
          ],
          "parcoords": [
           {
            "line": {
             "colorbar": {
              "outlinewidth": 0,
              "ticks": ""
             }
            },
            "type": "parcoords"
           }
          ],
          "pie": [
           {
            "automargin": true,
            "type": "pie"
           }
          ],
          "scatter": [
           {
            "marker": {
             "colorbar": {
              "outlinewidth": 0,
              "ticks": ""
             }
            },
            "type": "scatter"
           }
          ],
          "scatter3d": [
           {
            "line": {
             "colorbar": {
              "outlinewidth": 0,
              "ticks": ""
             }
            },
            "marker": {
             "colorbar": {
              "outlinewidth": 0,
              "ticks": ""
             }
            },
            "type": "scatter3d"
           }
          ],
          "scattercarpet": [
           {
            "marker": {
             "colorbar": {
              "outlinewidth": 0,
              "ticks": ""
             }
            },
            "type": "scattercarpet"
           }
          ],
          "scattergeo": [
           {
            "marker": {
             "colorbar": {
              "outlinewidth": 0,
              "ticks": ""
             }
            },
            "type": "scattergeo"
           }
          ],
          "scattergl": [
           {
            "marker": {
             "colorbar": {
              "outlinewidth": 0,
              "ticks": ""
             }
            },
            "type": "scattergl"
           }
          ],
          "scattermapbox": [
           {
            "marker": {
             "colorbar": {
              "outlinewidth": 0,
              "ticks": ""
             }
            },
            "type": "scattermapbox"
           }
          ],
          "scatterpolar": [
           {
            "marker": {
             "colorbar": {
              "outlinewidth": 0,
              "ticks": ""
             }
            },
            "type": "scatterpolar"
           }
          ],
          "scatterpolargl": [
           {
            "marker": {
             "colorbar": {
              "outlinewidth": 0,
              "ticks": ""
             }
            },
            "type": "scatterpolargl"
           }
          ],
          "scatterternary": [
           {
            "marker": {
             "colorbar": {
              "outlinewidth": 0,
              "ticks": ""
             }
            },
            "type": "scatterternary"
           }
          ],
          "surface": [
           {
            "colorbar": {
             "outlinewidth": 0,
             "ticks": ""
            },
            "colorscale": [
             [
              0,
              "#0d0887"
             ],
             [
              0.1111111111111111,
              "#46039f"
             ],
             [
              0.2222222222222222,
              "#7201a8"
             ],
             [
              0.3333333333333333,
              "#9c179e"
             ],
             [
              0.4444444444444444,
              "#bd3786"
             ],
             [
              0.5555555555555556,
              "#d8576b"
             ],
             [
              0.6666666666666666,
              "#ed7953"
             ],
             [
              0.7777777777777778,
              "#fb9f3a"
             ],
             [
              0.8888888888888888,
              "#fdca26"
             ],
             [
              1,
              "#f0f921"
             ]
            ],
            "type": "surface"
           }
          ],
          "table": [
           {
            "cells": {
             "fill": {
              "color": "#EBF0F8"
             },
             "line": {
              "color": "white"
             }
            },
            "header": {
             "fill": {
              "color": "#C8D4E3"
             },
             "line": {
              "color": "white"
             }
            },
            "type": "table"
           }
          ]
         },
         "layout": {
          "annotationdefaults": {
           "arrowcolor": "#2a3f5f",
           "arrowhead": 0,
           "arrowwidth": 1
          },
          "autotypenumbers": "strict",
          "coloraxis": {
           "colorbar": {
            "outlinewidth": 0,
            "ticks": ""
           }
          },
          "colorscale": {
           "diverging": [
            [
             0,
             "#8e0152"
            ],
            [
             0.1,
             "#c51b7d"
            ],
            [
             0.2,
             "#de77ae"
            ],
            [
             0.3,
             "#f1b6da"
            ],
            [
             0.4,
             "#fde0ef"
            ],
            [
             0.5,
             "#f7f7f7"
            ],
            [
             0.6,
             "#e6f5d0"
            ],
            [
             0.7,
             "#b8e186"
            ],
            [
             0.8,
             "#7fbc41"
            ],
            [
             0.9,
             "#4d9221"
            ],
            [
             1,
             "#276419"
            ]
           ],
           "sequential": [
            [
             0,
             "#0d0887"
            ],
            [
             0.1111111111111111,
             "#46039f"
            ],
            [
             0.2222222222222222,
             "#7201a8"
            ],
            [
             0.3333333333333333,
             "#9c179e"
            ],
            [
             0.4444444444444444,
             "#bd3786"
            ],
            [
             0.5555555555555556,
             "#d8576b"
            ],
            [
             0.6666666666666666,
             "#ed7953"
            ],
            [
             0.7777777777777778,
             "#fb9f3a"
            ],
            [
             0.8888888888888888,
             "#fdca26"
            ],
            [
             1,
             "#f0f921"
            ]
           ],
           "sequentialminus": [
            [
             0,
             "#0d0887"
            ],
            [
             0.1111111111111111,
             "#46039f"
            ],
            [
             0.2222222222222222,
             "#7201a8"
            ],
            [
             0.3333333333333333,
             "#9c179e"
            ],
            [
             0.4444444444444444,
             "#bd3786"
            ],
            [
             0.5555555555555556,
             "#d8576b"
            ],
            [
             0.6666666666666666,
             "#ed7953"
            ],
            [
             0.7777777777777778,
             "#fb9f3a"
            ],
            [
             0.8888888888888888,
             "#fdca26"
            ],
            [
             1,
             "#f0f921"
            ]
           ]
          },
          "colorway": [
           "#636efa",
           "#EF553B",
           "#00cc96",
           "#ab63fa",
           "#FFA15A",
           "#19d3f3",
           "#FF6692",
           "#B6E880",
           "#FF97FF",
           "#FECB52"
          ],
          "font": {
           "color": "#2a3f5f"
          },
          "geo": {
           "bgcolor": "white",
           "lakecolor": "white",
           "landcolor": "#E5ECF6",
           "showlakes": true,
           "showland": true,
           "subunitcolor": "white"
          },
          "hoverlabel": {
           "align": "left"
          },
          "hovermode": "closest",
          "mapbox": {
           "style": "light"
          },
          "paper_bgcolor": "white",
          "plot_bgcolor": "#E5ECF6",
          "polar": {
           "angularaxis": {
            "gridcolor": "white",
            "linecolor": "white",
            "ticks": ""
           },
           "bgcolor": "#E5ECF6",
           "radialaxis": {
            "gridcolor": "white",
            "linecolor": "white",
            "ticks": ""
           }
          },
          "scene": {
           "xaxis": {
            "backgroundcolor": "#E5ECF6",
            "gridcolor": "white",
            "gridwidth": 2,
            "linecolor": "white",
            "showbackground": true,
            "ticks": "",
            "zerolinecolor": "white"
           },
           "yaxis": {
            "backgroundcolor": "#E5ECF6",
            "gridcolor": "white",
            "gridwidth": 2,
            "linecolor": "white",
            "showbackground": true,
            "ticks": "",
            "zerolinecolor": "white"
           },
           "zaxis": {
            "backgroundcolor": "#E5ECF6",
            "gridcolor": "white",
            "gridwidth": 2,
            "linecolor": "white",
            "showbackground": true,
            "ticks": "",
            "zerolinecolor": "white"
           }
          },
          "shapedefaults": {
           "line": {
            "color": "#2a3f5f"
           }
          },
          "ternary": {
           "aaxis": {
            "gridcolor": "white",
            "linecolor": "white",
            "ticks": ""
           },
           "baxis": {
            "gridcolor": "white",
            "linecolor": "white",
            "ticks": ""
           },
           "bgcolor": "#E5ECF6",
           "caxis": {
            "gridcolor": "white",
            "linecolor": "white",
            "ticks": ""
           }
          },
          "title": {
           "x": 0.05
          },
          "xaxis": {
           "automargin": true,
           "gridcolor": "white",
           "linecolor": "white",
           "ticks": "",
           "title": {
            "standoff": 15
           },
           "zerolinecolor": "white",
           "zerolinewidth": 2
          },
          "yaxis": {
           "automargin": true,
           "gridcolor": "white",
           "linecolor": "white",
           "ticks": "",
           "title": {
            "standoff": 15
           },
           "zerolinecolor": "white",
           "zerolinewidth": 2
          }
         }
        },
        "title": {
         "text": "Weapon carried at the moment they were killed"
        },
        "xaxis": {
         "anchor": "y",
         "domain": [
          0,
          1
         ],
         "title": {
          "text": "Total amount"
         }
        },
        "yaxis": {
         "anchor": "x",
         "categoryarray": [
          "Taser",
          "sword",
          "unknown weapon",
          "machete",
          "toy weapon",
          "undetermined",
          "vehicle",
          "unarmed",
          "knife",
          "gun"
         ],
         "categoryorder": "array",
         "domain": [
          0,
          1
         ],
         "title": {
          "text": "Armed"
         }
        }
       }
      }
     },
     "metadata": {}
    }
   ],
   "source": [
    "weapon_carried(df=kill_and_social)"
   ]
  },
  {
   "source": [
    "#### Age of the people killed:\n",
    "\n",
    "As shown in the histogram bellow, suspect from all ages were shot by police but we can clearly see that ages from 22 to 37 are the ones with more cases, overcoming 100 cases per age value"
   ],
   "cell_type": "markdown",
   "metadata": {}
  },
  {
   "cell_type": "code",
   "execution_count": 31,
   "metadata": {},
   "outputs": [
    {
     "output_type": "display_data",
     "data": {
      "application/vnd.plotly.v1+json": {
       "config": {
        "plotlyServerURL": "https://plot.ly"
       },
       "data": [
        {
         "alignmentgroup": "True",
         "bingroup": "x",
         "hovertemplate": "variable=Age<br>value=%{x}<br>count=%{y}<extra></extra>",
         "legendgroup": "Age",
         "marker": {
          "color": "lightskyblue",
          "line": {
           "color": "midnightblue",
           "width": 1.5
          }
         },
         "name": "Age",
         "offsetgroup": "Age",
         "orientation": "v",
         "showlegend": true,
         "type": "histogram",
         "x": [
          53,
          47,
          55,
          23,
          26,
          18,
          25,
          32,
          21,
          24,
          27,
          25,
          26,
          45,
          29,
          26,
          26,
          59,
          39,
          37,
          18,
          22,
          24,
          35,
          34,
          25,
          35,
          28,
          28,
          35,
          30,
          31,
          41,
          33,
          42,
          25,
          36.28763557483731,
          50,
          23,
          30,
          23,
          25,
          13,
          20,
          18,
          53,
          38,
          32,
          30,
          28,
          29,
          37,
          63,
          21,
          60,
          33,
          22,
          26,
          28,
          42,
          48,
          31,
          18,
          36,
          49,
          71,
          33,
          22,
          22,
          22,
          43,
          22,
          33,
          39,
          23,
          41,
          29,
          25,
          34,
          44,
          33,
          31,
          19,
          21,
          23,
          24,
          31,
          58,
          21,
          43,
          24,
          28,
          30,
          33,
          29,
          29,
          34,
          26,
          75,
          68,
          33,
          34,
          27,
          51,
          23,
          36,
          34,
          15,
          29,
          34,
          25,
          30,
          44,
          59,
          32,
          45,
          39,
          37,
          25,
          25,
          35,
          24,
          36,
          41,
          48,
          45,
          21,
          24,
          43,
          25,
          39,
          35,
          29,
          38,
          41,
          30,
          29,
          39,
          37,
          53,
          35,
          26,
          16,
          29,
          33,
          28,
          28,
          31,
          18,
          14,
          18,
          18,
          16,
          23,
          33,
          20,
          32,
          50,
          70,
          35,
          28,
          29,
          36.28763557483731,
          27,
          40,
          31,
          30,
          30,
          53,
          43,
          53,
          32,
          42,
          24,
          40,
          36,
          29,
          27,
          34,
          36,
          19,
          23,
          18,
          61,
          52,
          15,
          38,
          19,
          21,
          63,
          50,
          21,
          27,
          31,
          54,
          25,
          17,
          23,
          61,
          27,
          31,
          35,
          25,
          60,
          17,
          25,
          29,
          35,
          34,
          26,
          47,
          30,
          20,
          24,
          29,
          56,
          45,
          26,
          32,
          18,
          43,
          33,
          18,
          18,
          39,
          26,
          48,
          32,
          33,
          17,
          35,
          28,
          35,
          32,
          33,
          40,
          21,
          23,
          68,
          24,
          34,
          26,
          29,
          51,
          43,
          68,
          46,
          45,
          41,
          39,
          36,
          26,
          27,
          43,
          20,
          38,
          22,
          26,
          31,
          25,
          32,
          26,
          38,
          27,
          25,
          24,
          27,
          34,
          47,
          29,
          39,
          39,
          26,
          32,
          33,
          44,
          31,
          25,
          26,
          42,
          31,
          25,
          48,
          42,
          32,
          30,
          31,
          36.28763557483731,
          35,
          41,
          49,
          18,
          63,
          35,
          20,
          25,
          57,
          39,
          37,
          20,
          29,
          30,
          24,
          25,
          38,
          46,
          37,
          23,
          25,
          32,
          16,
          17,
          42,
          38,
          29,
          37,
          45,
          28,
          64,
          37,
          23,
          28,
          25,
          26,
          29,
          43,
          20,
          37,
          28,
          28,
          25,
          34,
          19,
          51,
          36,
          31,
          19,
          32,
          32,
          59,
          31,
          25,
          27,
          40,
          83,
          42,
          20,
          26,
          22,
          43,
          42,
          21,
          38,
          24,
          26,
          74,
          52,
          59,
          57,
          41,
          45,
          59,
          42,
          24,
          36,
          37,
          21,
          28,
          35,
          45,
          23,
          57,
          22,
          29,
          40,
          45,
          45,
          18,
          24,
          46,
          23,
          32,
          34,
          27,
          28,
          49,
          26,
          24,
          56,
          21,
          30,
          35,
          62,
          27,
          37,
          16,
          51,
          30,
          55,
          25,
          24,
          34,
          45,
          56,
          24,
          31,
          30,
          23,
          44,
          50,
          20,
          18,
          30,
          33,
          41,
          18,
          29,
          43,
          18,
          28,
          25,
          31,
          22,
          38,
          40,
          77,
          34,
          20,
          50,
          39,
          43,
          47,
          37,
          41,
          16,
          30,
          43,
          54,
          36,
          24,
          57,
          50,
          55,
          32,
          48,
          45,
          23,
          31,
          22,
          30,
          41,
          62,
          27,
          31,
          42,
          32,
          53,
          49,
          34,
          27,
          39,
          30,
          35,
          33,
          18,
          24,
          28,
          29,
          40,
          36,
          33,
          33,
          30,
          31,
          25,
          29,
          26,
          36.28763557483731,
          26,
          34,
          28,
          51,
          41,
          40,
          25,
          26,
          39,
          58,
          45,
          38,
          49,
          23,
          32,
          19,
          34,
          36,
          36,
          34,
          29,
          22,
          19,
          41,
          35,
          43,
          30,
          22,
          30,
          29,
          58,
          46,
          30,
          15,
          27,
          25,
          18,
          34,
          22,
          24,
          32,
          31,
          46,
          22,
          48,
          37,
          29,
          48,
          35,
          23,
          37,
          17,
          32,
          64,
          18,
          33,
          30,
          31,
          35,
          53,
          34,
          41,
          54,
          53,
          37,
          25,
          25,
          35,
          21,
          62,
          34,
          36,
          63,
          21,
          31,
          29,
          47,
          41,
          59,
          21,
          37,
          47,
          43,
          18,
          25,
          68,
          27,
          36,
          47,
          32,
          41,
          23,
          65,
          29,
          60,
          28,
          41,
          36.28763557483731,
          32,
          27,
          36,
          23,
          33,
          34,
          30,
          33,
          24,
          48,
          55,
          37,
          37,
          53,
          26,
          20,
          22,
          42,
          40,
          50,
          38,
          49,
          27,
          24,
          47,
          36,
          23,
          47,
          29,
          23,
          42,
          45,
          37,
          73,
          27,
          47,
          45,
          49,
          63,
          25,
          25,
          17,
          21,
          23,
          16,
          28,
          23,
          36,
          34,
          22,
          29,
          22,
          57,
          25,
          28,
          20,
          31,
          60,
          21,
          21,
          19,
          19,
          37,
          21,
          36,
          29,
          51,
          52,
          17,
          24,
          21,
          24,
          24,
          38,
          29,
          18,
          23,
          27,
          53,
          56,
          39,
          27,
          21,
          40,
          26,
          42,
          41,
          44,
          29,
          33,
          31,
          49,
          49,
          27,
          37,
          32,
          63,
          36,
          44,
          43,
          43,
          56,
          40,
          42,
          58,
          72,
          34,
          18,
          29,
          47,
          27,
          38,
          17,
          38,
          50,
          43,
          34,
          56,
          31,
          33,
          34,
          56,
          25,
          48,
          42,
          28,
          28,
          28,
          23,
          42,
          22,
          29,
          28,
          21,
          38,
          45,
          66,
          32,
          27,
          26,
          31,
          22,
          46,
          22,
          51,
          42,
          31,
          15,
          28,
          51,
          25,
          37,
          22,
          50,
          21,
          47,
          82,
          41,
          20,
          52,
          47,
          18,
          23,
          27,
          25,
          29,
          33,
          31,
          55,
          19,
          29,
          29,
          21,
          16,
          26,
          50,
          18,
          26,
          19,
          37,
          33,
          34,
          25,
          55,
          17,
          23,
          45,
          40,
          44,
          25,
          38,
          35,
          37,
          41,
          59,
          56,
          51,
          39,
          19,
          20,
          28,
          39,
          21,
          21,
          27,
          36.28763557483731,
          37,
          36.28763557483731,
          46,
          63,
          20,
          25,
          58,
          45,
          20,
          25,
          54,
          19,
          46,
          58,
          27,
          26,
          33,
          33,
          47,
          26,
          24,
          22,
          27,
          53,
          42,
          34,
          60,
          54,
          39,
          30,
          33,
          22,
          15,
          52,
          36,
          30,
          34,
          36,
          32,
          46,
          48,
          18,
          38,
          38,
          21,
          26,
          35,
          58,
          31,
          47,
          40,
          32,
          38,
          34,
          28,
          28,
          53,
          40,
          37,
          41,
          45,
          18,
          37,
          54,
          28,
          35,
          17,
          44,
          24,
          29,
          52,
          52,
          38,
          29,
          39,
          24,
          22,
          32,
          47,
          40,
          52,
          36,
          34,
          45,
          62,
          24,
          24,
          33,
          60,
          32,
          31,
          40,
          18,
          47,
          23,
          26,
          51,
          46,
          50,
          31,
          30,
          49,
          27,
          30,
          32,
          39,
          32,
          53,
          42,
          19,
          27,
          36,
          58,
          69,
          69,
          30,
          45,
          22,
          21,
          45,
          37,
          25,
          40,
          55,
          17,
          46,
          62,
          36,
          62,
          35,
          22,
          28,
          59,
          40,
          43,
          48,
          49,
          45,
          50,
          24,
          24,
          45,
          48,
          60,
          35,
          35,
          56,
          20,
          57,
          22,
          55,
          49,
          41,
          30,
          36,
          41,
          61,
          30,
          40,
          45,
          28,
          55,
          34,
          19,
          45,
          16,
          21,
          35,
          49,
          52,
          24,
          45,
          27,
          46,
          45,
          33,
          24,
          38,
          40,
          23,
          35,
          36,
          28,
          19,
          58,
          43,
          42,
          31,
          39,
          37,
          25,
          35,
          42,
          22,
          59,
          44,
          51,
          50,
          17,
          20,
          31,
          36,
          36,
          27,
          50,
          20,
          24,
          25,
          23,
          33,
          57,
          41,
          20,
          25,
          29,
          25,
          35,
          41,
          24,
          46,
          24,
          26,
          23,
          29,
          27,
          35,
          46,
          44,
          19,
          30,
          50,
          24,
          22,
          38,
          65,
          35,
          47,
          24,
          35,
          25,
          27,
          19,
          52,
          25,
          32,
          31,
          28,
          51,
          30,
          34,
          35,
          25,
          31,
          32,
          55,
          47,
          44,
          44,
          30,
          50,
          59,
          33,
          28,
          38,
          19,
          45,
          59,
          22,
          28,
          37,
          28,
          34,
          36,
          36,
          29,
          53,
          48,
          47,
          37,
          34,
          33,
          35,
          26,
          31,
          51,
          20,
          34,
          29,
          23,
          42,
          19,
          51,
          23,
          36.28763557483731,
          53,
          25,
          24,
          46,
          45,
          33,
          41,
          24,
          27,
          34,
          48,
          24,
          50,
          37,
          27,
          26,
          30,
          43,
          30,
          76,
          47,
          37,
          44,
          50,
          57,
          30,
          31,
          39,
          37,
          64,
          36,
          53,
          30,
          31,
          53,
          22,
          27,
          40,
          28,
          33,
          61,
          20,
          45,
          48,
          33,
          76,
          47,
          36,
          45,
          70,
          37,
          49,
          21,
          34,
          31,
          24,
          35,
          28,
          19,
          33,
          23,
          21,
          59,
          32,
          41,
          31,
          33,
          24,
          44,
          23,
          39,
          67,
          29,
          25,
          28,
          29,
          21,
          27,
          36.28763557483731,
          31,
          50,
          36.28763557483731,
          47,
          46,
          23,
          56,
          64,
          27,
          23,
          21,
          34,
          33,
          35,
          28,
          60,
          21,
          17,
          21,
          27,
          61,
          45,
          23,
          43,
          64,
          40,
          46,
          44,
          53,
          37,
          28,
          28,
          26,
          29,
          31,
          54,
          27,
          51,
          50,
          18,
          46,
          19,
          49,
          23,
          55,
          43,
          36.28763557483731,
          31,
          27,
          30,
          46,
          18,
          38,
          71,
          57,
          31,
          35,
          27,
          33,
          45,
          22,
          24,
          39,
          53,
          42,
          28,
          38,
          31,
          40,
          30,
          21,
          25,
          35,
          21,
          47,
          43,
          36,
          17,
          34,
          34,
          31,
          30,
          28,
          36,
          45,
          18,
          27,
          53,
          46,
          22,
          25,
          57,
          35,
          29,
          18,
          62,
          29,
          29,
          33,
          63,
          25,
          40,
          39,
          56,
          49,
          20,
          62,
          6,
          18,
          20,
          30,
          36,
          48,
          34,
          26,
          25,
          34,
          36,
          22,
          57,
          43,
          32,
          24,
          50,
          40,
          21,
          58,
          24,
          45,
          38,
          22,
          36.28763557483731,
          29,
          38,
          24,
          25,
          49,
          23,
          45,
          37,
          50,
          22,
          53,
          31,
          23,
          18,
          36,
          24,
          29,
          45,
          48,
          60,
          46,
          48,
          36,
          66,
          54,
          28,
          36,
          21,
          32,
          52,
          56,
          19,
          33,
          51,
          36.28763557483731,
          25,
          27,
          22,
          32,
          32,
          74,
          58,
          24,
          30,
          17,
          48,
          36.28763557483731,
          30,
          56,
          76,
          29,
          26,
          35,
          31,
          36,
          24,
          23,
          31,
          38,
          36,
          52,
          28,
          50,
          36.28763557483731,
          37,
          37,
          29,
          39,
          47,
          52,
          56,
          28,
          32,
          50,
          37,
          27,
          45,
          56,
          58,
          25,
          25,
          30,
          43,
          29,
          60,
          40,
          39,
          26,
          24,
          25,
          38,
          19,
          38,
          29,
          55,
          40,
          33,
          39,
          55,
          52,
          27,
          40,
          30,
          30,
          41,
          17,
          27,
          46,
          25,
          30,
          32,
          53,
          31,
          54,
          22,
          38,
          29,
          25,
          36,
          30,
          55,
          36,
          36,
          52,
          35,
          32,
          41,
          29,
          24,
          50,
          68,
          52,
          39,
          48,
          30,
          25,
          35,
          25,
          31,
          31,
          32,
          38,
          22,
          36,
          46,
          16,
          22,
          56,
          19,
          38,
          18,
          35,
          41,
          24,
          24,
          37,
          36,
          36,
          34,
          22,
          23,
          42,
          49,
          41,
          37,
          23,
          51,
          46,
          23,
          43,
          25,
          45,
          16,
          26,
          38,
          43,
          25,
          34,
          38,
          38,
          48,
          60,
          24,
          23,
          61,
          16,
          39,
          25,
          33,
          51,
          24,
          29,
          39,
          36,
          34,
          27,
          18,
          33,
          51,
          44,
          50,
          52,
          65,
          48,
          69,
          48,
          25,
          59,
          40,
          27,
          30,
          38,
          20,
          52,
          26,
          54,
          38,
          41,
          52,
          31,
          28,
          18,
          52,
          48,
          18,
          33,
          60,
          28,
          53,
          44,
          21,
          30,
          49,
          18,
          33,
          48,
          42,
          55,
          28,
          36,
          52,
          37,
          39,
          20,
          40,
          36,
          36.28763557483731,
          29,
          33,
          29,
          25,
          23,
          29,
          28,
          36.28763557483731,
          34,
          63,
          23,
          44,
          38,
          31,
          26,
          32,
          27,
          35,
          22,
          19,
          25,
          53,
          38,
          70,
          36,
          31,
          21,
          51,
          33,
          36,
          34,
          35,
          25,
          21,
          52,
          50,
          27,
          37,
          31,
          23,
          61,
          33,
          18,
          80,
          47,
          22,
          38,
          23,
          36.28763557483731,
          20,
          19,
          24,
          44,
          31,
          36.28763557483731,
          36,
          37,
          50,
          42,
          26,
          31,
          59,
          36,
          27,
          28,
          32,
          25,
          30,
          37,
          63,
          35,
          50,
          40,
          30,
          19,
          49,
          24,
          32,
          65,
          37,
          33,
          63,
          40,
          41,
          41,
          44,
          63,
          39,
          50,
          36,
          29,
          50,
          33,
          17,
          20,
          41,
          27,
          31,
          32,
          59,
          32,
          38,
          22,
          31,
          51,
          31,
          26,
          59,
          20,
          69,
          64,
          45,
          54,
          59,
          33,
          24,
          36,
          16,
          29,
          32,
          53,
          45,
          40,
          36,
          19,
          38,
          31,
          54,
          34,
          24,
          53,
          37,
          59,
          36.28763557483731,
          38,
          25,
          70,
          55,
          35,
          38,
          64,
          69,
          25,
          29,
          42,
          55,
          22,
          46,
          46,
          22,
          25,
          23,
          23,
          41,
          33,
          25,
          52,
          32,
          46,
          54,
          22,
          18,
          18,
          23,
          37,
          32,
          37,
          36,
          26,
          35,
          49,
          17,
          21,
          27,
          26,
          30,
          22,
          46,
          38,
          20,
          32,
          39,
          28,
          34,
          38,
          21,
          45,
          38,
          37,
          25,
          36,
          24,
          37,
          37,
          45,
          39,
          31,
          23,
          26,
          49,
          43,
          36,
          56,
          34,
          43,
          26,
          36,
          41,
          37,
          35,
          25,
          15,
          27,
          45,
          23,
          20,
          50,
          59,
          41,
          33,
          55,
          29,
          31,
          83,
          33,
          26,
          29,
          47,
          49,
          31,
          32,
          36,
          30,
          36.28763557483731,
          35,
          36,
          53,
          39,
          44,
          24,
          31,
          32,
          60,
          48,
          44,
          37,
          52,
          46,
          25,
          27,
          24,
          19,
          53,
          48,
          30,
          61,
          71,
          33,
          42,
          35,
          21,
          53,
          51,
          64,
          45,
          20,
          41,
          23,
          25,
          26,
          42,
          41,
          50,
          44,
          41,
          20,
          26,
          29,
          36,
          43,
          32,
          29,
          39,
          16,
          40,
          19,
          28,
          25,
          44,
          44,
          57,
          33,
          52,
          27,
          25,
          34,
          32,
          37,
          54,
          41,
          50,
          59,
          25,
          25,
          17,
          36.28763557483731,
          50,
          36,
          31,
          18,
          57,
          41,
          22,
          38,
          23,
          56,
          45,
          41,
          50,
          52,
          51,
          29,
          34,
          45,
          23,
          33,
          26,
          53,
          35,
          33,
          55,
          21,
          35,
          22,
          46,
          33,
          27,
          38,
          41,
          25,
          33,
          30,
          23,
          39,
          36.28763557483731,
          66,
          27,
          40,
          33,
          34,
          32,
          25,
          50,
          26,
          36.28763557483731,
          41,
          29,
          40,
          51,
          28,
          23,
          56,
          36,
          43,
          34,
          59,
          59,
          21,
          19,
          42,
          27,
          42,
          18,
          26,
          53,
          56,
          51,
          28,
          36,
          73,
          59,
          28,
          45,
          27,
          46,
          19,
          39,
          49,
          33,
          36,
          28,
          44,
          25,
          35,
          24,
          33,
          56,
          47,
          33,
          32,
          25,
          43,
          39,
          20,
          25,
          15,
          18,
          67,
          26,
          16,
          39,
          34,
          46,
          37,
          48,
          24,
          38,
          33,
          36.28763557483731,
          65,
          24,
          59,
          30,
          22,
          20,
          24,
          17,
          51,
          29,
          34,
          27,
          66,
          35,
          75,
          58,
          53,
          60,
          45,
          63,
          35,
          24,
          36,
          66,
          54,
          41,
          32,
          64,
          40,
          50,
          33,
          37,
          36,
          45,
          51,
          50,
          47,
          55,
          32,
          52,
          49,
          16,
          39,
          36.28763557483731,
          28
         ],
         "xaxis": "x",
         "yaxis": "y"
        }
       ],
       "layout": {
        "barmode": "relative",
        "legend": {
         "title": {
          "text": "variable"
         },
         "tracegroupgap": 0
        },
        "margin": {
         "t": 60
        },
        "showlegend": false,
        "template": {
         "data": {
          "bar": [
           {
            "error_x": {
             "color": "#2a3f5f"
            },
            "error_y": {
             "color": "#2a3f5f"
            },
            "marker": {
             "line": {
              "color": "#E5ECF6",
              "width": 0.5
             }
            },
            "type": "bar"
           }
          ],
          "barpolar": [
           {
            "marker": {
             "line": {
              "color": "#E5ECF6",
              "width": 0.5
             }
            },
            "type": "barpolar"
           }
          ],
          "carpet": [
           {
            "aaxis": {
             "endlinecolor": "#2a3f5f",
             "gridcolor": "white",
             "linecolor": "white",
             "minorgridcolor": "white",
             "startlinecolor": "#2a3f5f"
            },
            "baxis": {
             "endlinecolor": "#2a3f5f",
             "gridcolor": "white",
             "linecolor": "white",
             "minorgridcolor": "white",
             "startlinecolor": "#2a3f5f"
            },
            "type": "carpet"
           }
          ],
          "choropleth": [
           {
            "colorbar": {
             "outlinewidth": 0,
             "ticks": ""
            },
            "type": "choropleth"
           }
          ],
          "contour": [
           {
            "colorbar": {
             "outlinewidth": 0,
             "ticks": ""
            },
            "colorscale": [
             [
              0,
              "#0d0887"
             ],
             [
              0.1111111111111111,
              "#46039f"
             ],
             [
              0.2222222222222222,
              "#7201a8"
             ],
             [
              0.3333333333333333,
              "#9c179e"
             ],
             [
              0.4444444444444444,
              "#bd3786"
             ],
             [
              0.5555555555555556,
              "#d8576b"
             ],
             [
              0.6666666666666666,
              "#ed7953"
             ],
             [
              0.7777777777777778,
              "#fb9f3a"
             ],
             [
              0.8888888888888888,
              "#fdca26"
             ],
             [
              1,
              "#f0f921"
             ]
            ],
            "type": "contour"
           }
          ],
          "contourcarpet": [
           {
            "colorbar": {
             "outlinewidth": 0,
             "ticks": ""
            },
            "type": "contourcarpet"
           }
          ],
          "heatmap": [
           {
            "colorbar": {
             "outlinewidth": 0,
             "ticks": ""
            },
            "colorscale": [
             [
              0,
              "#0d0887"
             ],
             [
              0.1111111111111111,
              "#46039f"
             ],
             [
              0.2222222222222222,
              "#7201a8"
             ],
             [
              0.3333333333333333,
              "#9c179e"
             ],
             [
              0.4444444444444444,
              "#bd3786"
             ],
             [
              0.5555555555555556,
              "#d8576b"
             ],
             [
              0.6666666666666666,
              "#ed7953"
             ],
             [
              0.7777777777777778,
              "#fb9f3a"
             ],
             [
              0.8888888888888888,
              "#fdca26"
             ],
             [
              1,
              "#f0f921"
             ]
            ],
            "type": "heatmap"
           }
          ],
          "heatmapgl": [
           {
            "colorbar": {
             "outlinewidth": 0,
             "ticks": ""
            },
            "colorscale": [
             [
              0,
              "#0d0887"
             ],
             [
              0.1111111111111111,
              "#46039f"
             ],
             [
              0.2222222222222222,
              "#7201a8"
             ],
             [
              0.3333333333333333,
              "#9c179e"
             ],
             [
              0.4444444444444444,
              "#bd3786"
             ],
             [
              0.5555555555555556,
              "#d8576b"
             ],
             [
              0.6666666666666666,
              "#ed7953"
             ],
             [
              0.7777777777777778,
              "#fb9f3a"
             ],
             [
              0.8888888888888888,
              "#fdca26"
             ],
             [
              1,
              "#f0f921"
             ]
            ],
            "type": "heatmapgl"
           }
          ],
          "histogram": [
           {
            "marker": {
             "colorbar": {
              "outlinewidth": 0,
              "ticks": ""
             }
            },
            "type": "histogram"
           }
          ],
          "histogram2d": [
           {
            "colorbar": {
             "outlinewidth": 0,
             "ticks": ""
            },
            "colorscale": [
             [
              0,
              "#0d0887"
             ],
             [
              0.1111111111111111,
              "#46039f"
             ],
             [
              0.2222222222222222,
              "#7201a8"
             ],
             [
              0.3333333333333333,
              "#9c179e"
             ],
             [
              0.4444444444444444,
              "#bd3786"
             ],
             [
              0.5555555555555556,
              "#d8576b"
             ],
             [
              0.6666666666666666,
              "#ed7953"
             ],
             [
              0.7777777777777778,
              "#fb9f3a"
             ],
             [
              0.8888888888888888,
              "#fdca26"
             ],
             [
              1,
              "#f0f921"
             ]
            ],
            "type": "histogram2d"
           }
          ],
          "histogram2dcontour": [
           {
            "colorbar": {
             "outlinewidth": 0,
             "ticks": ""
            },
            "colorscale": [
             [
              0,
              "#0d0887"
             ],
             [
              0.1111111111111111,
              "#46039f"
             ],
             [
              0.2222222222222222,
              "#7201a8"
             ],
             [
              0.3333333333333333,
              "#9c179e"
             ],
             [
              0.4444444444444444,
              "#bd3786"
             ],
             [
              0.5555555555555556,
              "#d8576b"
             ],
             [
              0.6666666666666666,
              "#ed7953"
             ],
             [
              0.7777777777777778,
              "#fb9f3a"
             ],
             [
              0.8888888888888888,
              "#fdca26"
             ],
             [
              1,
              "#f0f921"
             ]
            ],
            "type": "histogram2dcontour"
           }
          ],
          "mesh3d": [
           {
            "colorbar": {
             "outlinewidth": 0,
             "ticks": ""
            },
            "type": "mesh3d"
           }
          ],
          "parcoords": [
           {
            "line": {
             "colorbar": {
              "outlinewidth": 0,
              "ticks": ""
             }
            },
            "type": "parcoords"
           }
          ],
          "pie": [
           {
            "automargin": true,
            "type": "pie"
           }
          ],
          "scatter": [
           {
            "marker": {
             "colorbar": {
              "outlinewidth": 0,
              "ticks": ""
             }
            },
            "type": "scatter"
           }
          ],
          "scatter3d": [
           {
            "line": {
             "colorbar": {
              "outlinewidth": 0,
              "ticks": ""
             }
            },
            "marker": {
             "colorbar": {
              "outlinewidth": 0,
              "ticks": ""
             }
            },
            "type": "scatter3d"
           }
          ],
          "scattercarpet": [
           {
            "marker": {
             "colorbar": {
              "outlinewidth": 0,
              "ticks": ""
             }
            },
            "type": "scattercarpet"
           }
          ],
          "scattergeo": [
           {
            "marker": {
             "colorbar": {
              "outlinewidth": 0,
              "ticks": ""
             }
            },
            "type": "scattergeo"
           }
          ],
          "scattergl": [
           {
            "marker": {
             "colorbar": {
              "outlinewidth": 0,
              "ticks": ""
             }
            },
            "type": "scattergl"
           }
          ],
          "scattermapbox": [
           {
            "marker": {
             "colorbar": {
              "outlinewidth": 0,
              "ticks": ""
             }
            },
            "type": "scattermapbox"
           }
          ],
          "scatterpolar": [
           {
            "marker": {
             "colorbar": {
              "outlinewidth": 0,
              "ticks": ""
             }
            },
            "type": "scatterpolar"
           }
          ],
          "scatterpolargl": [
           {
            "marker": {
             "colorbar": {
              "outlinewidth": 0,
              "ticks": ""
             }
            },
            "type": "scatterpolargl"
           }
          ],
          "scatterternary": [
           {
            "marker": {
             "colorbar": {
              "outlinewidth": 0,
              "ticks": ""
             }
            },
            "type": "scatterternary"
           }
          ],
          "surface": [
           {
            "colorbar": {
             "outlinewidth": 0,
             "ticks": ""
            },
            "colorscale": [
             [
              0,
              "#0d0887"
             ],
             [
              0.1111111111111111,
              "#46039f"
             ],
             [
              0.2222222222222222,
              "#7201a8"
             ],
             [
              0.3333333333333333,
              "#9c179e"
             ],
             [
              0.4444444444444444,
              "#bd3786"
             ],
             [
              0.5555555555555556,
              "#d8576b"
             ],
             [
              0.6666666666666666,
              "#ed7953"
             ],
             [
              0.7777777777777778,
              "#fb9f3a"
             ],
             [
              0.8888888888888888,
              "#fdca26"
             ],
             [
              1,
              "#f0f921"
             ]
            ],
            "type": "surface"
           }
          ],
          "table": [
           {
            "cells": {
             "fill": {
              "color": "#EBF0F8"
             },
             "line": {
              "color": "white"
             }
            },
            "header": {
             "fill": {
              "color": "#C8D4E3"
             },
             "line": {
              "color": "white"
             }
            },
            "type": "table"
           }
          ]
         },
         "layout": {
          "annotationdefaults": {
           "arrowcolor": "#2a3f5f",
           "arrowhead": 0,
           "arrowwidth": 1
          },
          "autotypenumbers": "strict",
          "coloraxis": {
           "colorbar": {
            "outlinewidth": 0,
            "ticks": ""
           }
          },
          "colorscale": {
           "diverging": [
            [
             0,
             "#8e0152"
            ],
            [
             0.1,
             "#c51b7d"
            ],
            [
             0.2,
             "#de77ae"
            ],
            [
             0.3,
             "#f1b6da"
            ],
            [
             0.4,
             "#fde0ef"
            ],
            [
             0.5,
             "#f7f7f7"
            ],
            [
             0.6,
             "#e6f5d0"
            ],
            [
             0.7,
             "#b8e186"
            ],
            [
             0.8,
             "#7fbc41"
            ],
            [
             0.9,
             "#4d9221"
            ],
            [
             1,
             "#276419"
            ]
           ],
           "sequential": [
            [
             0,
             "#0d0887"
            ],
            [
             0.1111111111111111,
             "#46039f"
            ],
            [
             0.2222222222222222,
             "#7201a8"
            ],
            [
             0.3333333333333333,
             "#9c179e"
            ],
            [
             0.4444444444444444,
             "#bd3786"
            ],
            [
             0.5555555555555556,
             "#d8576b"
            ],
            [
             0.6666666666666666,
             "#ed7953"
            ],
            [
             0.7777777777777778,
             "#fb9f3a"
            ],
            [
             0.8888888888888888,
             "#fdca26"
            ],
            [
             1,
             "#f0f921"
            ]
           ],
           "sequentialminus": [
            [
             0,
             "#0d0887"
            ],
            [
             0.1111111111111111,
             "#46039f"
            ],
            [
             0.2222222222222222,
             "#7201a8"
            ],
            [
             0.3333333333333333,
             "#9c179e"
            ],
            [
             0.4444444444444444,
             "#bd3786"
            ],
            [
             0.5555555555555556,
             "#d8576b"
            ],
            [
             0.6666666666666666,
             "#ed7953"
            ],
            [
             0.7777777777777778,
             "#fb9f3a"
            ],
            [
             0.8888888888888888,
             "#fdca26"
            ],
            [
             1,
             "#f0f921"
            ]
           ]
          },
          "colorway": [
           "#636efa",
           "#EF553B",
           "#00cc96",
           "#ab63fa",
           "#FFA15A",
           "#19d3f3",
           "#FF6692",
           "#B6E880",
           "#FF97FF",
           "#FECB52"
          ],
          "font": {
           "color": "#2a3f5f"
          },
          "geo": {
           "bgcolor": "white",
           "lakecolor": "white",
           "landcolor": "#E5ECF6",
           "showlakes": true,
           "showland": true,
           "subunitcolor": "white"
          },
          "hoverlabel": {
           "align": "left"
          },
          "hovermode": "closest",
          "mapbox": {
           "style": "light"
          },
          "paper_bgcolor": "white",
          "plot_bgcolor": "#E5ECF6",
          "polar": {
           "angularaxis": {
            "gridcolor": "white",
            "linecolor": "white",
            "ticks": ""
           },
           "bgcolor": "#E5ECF6",
           "radialaxis": {
            "gridcolor": "white",
            "linecolor": "white",
            "ticks": ""
           }
          },
          "scene": {
           "xaxis": {
            "backgroundcolor": "#E5ECF6",
            "gridcolor": "white",
            "gridwidth": 2,
            "linecolor": "white",
            "showbackground": true,
            "ticks": "",
            "zerolinecolor": "white"
           },
           "yaxis": {
            "backgroundcolor": "#E5ECF6",
            "gridcolor": "white",
            "gridwidth": 2,
            "linecolor": "white",
            "showbackground": true,
            "ticks": "",
            "zerolinecolor": "white"
           },
           "zaxis": {
            "backgroundcolor": "#E5ECF6",
            "gridcolor": "white",
            "gridwidth": 2,
            "linecolor": "white",
            "showbackground": true,
            "ticks": "",
            "zerolinecolor": "white"
           }
          },
          "shapedefaults": {
           "line": {
            "color": "#2a3f5f"
           }
          },
          "ternary": {
           "aaxis": {
            "gridcolor": "white",
            "linecolor": "white",
            "ticks": ""
           },
           "baxis": {
            "gridcolor": "white",
            "linecolor": "white",
            "ticks": ""
           },
           "bgcolor": "#E5ECF6",
           "caxis": {
            "gridcolor": "white",
            "linecolor": "white",
            "ticks": ""
           }
          },
          "title": {
           "x": 0.05
          },
          "xaxis": {
           "automargin": true,
           "gridcolor": "white",
           "linecolor": "white",
           "ticks": "",
           "title": {
            "standoff": 15
           },
           "zerolinecolor": "white",
           "zerolinewidth": 2
          },
          "yaxis": {
           "automargin": true,
           "gridcolor": "white",
           "linecolor": "white",
           "ticks": "",
           "title": {
            "standoff": 15
           },
           "zerolinecolor": "white",
           "zerolinewidth": 2
          }
         }
        },
        "title": {
         "text": "Deaths by age"
        },
        "width": 550,
        "xaxis": {
         "anchor": "y",
         "domain": [
          0,
          1
         ],
         "title": {
          "text": "Age"
         }
        },
        "yaxis": {
         "anchor": "x",
         "domain": [
          0,
          1
         ],
         "title": {
          "text": "Number of People"
         }
        }
       }
      }
     },
     "metadata": {}
    }
   ],
   "source": [
    "age_distribution(df=kill_and_social)"
   ]
  },
  {
   "source": [
    "#### Gender percentage killed by Police:\n",
    "\n",
    "We can clearly see here that fatal police shooting in the US is focused almost entirely on male suspects (95.5% of the cases)"
   ],
   "cell_type": "markdown",
   "metadata": {}
  },
  {
   "cell_type": "code",
   "execution_count": 32,
   "metadata": {},
   "outputs": [
    {
     "output_type": "display_data",
     "data": {
      "application/vnd.plotly.v1+json": {
       "config": {
        "plotlyServerURL": "https://plot.ly"
       },
       "data": [
        {
         "domain": {
          "x": [
           0,
           1
          ],
          "y": [
           0,
           1
          ]
         },
         "hovertemplate": "Gender=%{label}<extra></extra>",
         "labels": [
          "M",
          "M",
          "F",
          "M",
          "M",
          "M",
          "M",
          "M",
          "M",
          "F",
          "M",
          "M",
          "M",
          "M",
          "F",
          "M",
          "M",
          "M",
          "M",
          "M",
          "M",
          "M",
          "M",
          "M",
          "F",
          "M",
          "M",
          "M",
          "M",
          "M",
          "M",
          "M",
          "M",
          "M",
          "M",
          "M",
          "M",
          "M",
          "M",
          "M",
          "M",
          "M",
          "M",
          "M",
          "M",
          "M",
          "M",
          "M",
          "M",
          "M",
          "F",
          "M",
          "M",
          "M",
          "M",
          "M",
          "M",
          "M",
          "M",
          "M",
          "M",
          "M",
          "M",
          "M",
          "M",
          "M",
          "M",
          "M",
          "M",
          "M",
          "M",
          "M",
          "M",
          "M",
          "M",
          "M",
          "M",
          "M",
          "M",
          "M",
          "M",
          "M",
          "M",
          "M",
          "M",
          "F",
          "M",
          "M",
          "M",
          "M",
          "M",
          "M",
          "M",
          "M",
          "M",
          "M",
          "M",
          "M",
          "M",
          "M",
          "F",
          "M",
          "M",
          "M",
          "M",
          "M",
          "M",
          "M",
          "M",
          "M",
          "M",
          "M",
          "M",
          "M",
          "M",
          "M",
          "M",
          "M",
          "M",
          "M",
          "M",
          "M",
          "M",
          "M",
          "M",
          "M",
          "M",
          "M",
          "M",
          "M",
          "M",
          "M",
          "M",
          "M",
          "M",
          "F",
          "M",
          "M",
          "F",
          "M",
          "M",
          "M",
          "M",
          "M",
          "M",
          "M",
          "M",
          "M",
          "M",
          "M",
          "M",
          "M",
          "M",
          "M",
          "M",
          "M",
          "M",
          "M",
          "M",
          "M",
          "M",
          "M",
          "M",
          "M",
          "M",
          "M",
          "M",
          "M",
          "M",
          "M",
          "M",
          "M",
          "M",
          "M",
          "M",
          "M",
          "M",
          "M",
          "M",
          "M",
          "M",
          "M",
          "M",
          "F",
          "M",
          "M",
          "M",
          "M",
          "M",
          "M",
          "F",
          "M",
          "M",
          "M",
          "M",
          "M",
          "F",
          "M",
          "M",
          "M",
          "F",
          "M",
          "M",
          "M",
          "M",
          "M",
          "M",
          "M",
          "M",
          "F",
          "M",
          "F",
          "M",
          "M",
          "M",
          "M",
          "M",
          "M",
          "M",
          "M",
          "M",
          "M",
          "M",
          "M",
          "M",
          "M",
          "M",
          "M",
          "M",
          "F",
          "M",
          "M",
          "M",
          "M",
          "M",
          "M",
          "M",
          "M",
          "M",
          "M",
          "M",
          "M",
          "M",
          "M",
          "M",
          "M",
          "M",
          "M",
          "M",
          "M",
          "F",
          "M",
          "M",
          "M",
          "M",
          "M",
          "M",
          "M",
          "M",
          "M",
          "M",
          "M",
          "M",
          "M",
          "M",
          "M",
          "F",
          "M",
          "M",
          "M",
          "F",
          "M",
          "M",
          "M",
          "M",
          "M",
          "M",
          "M",
          "M",
          "M",
          "M",
          "M",
          "M",
          "M",
          "M",
          "M",
          "M",
          "M",
          "M",
          "M",
          "M",
          "M",
          "M",
          "M",
          "M",
          "M",
          "M",
          "M",
          "M",
          "M",
          "M",
          "M",
          "M",
          "M",
          "M",
          "M",
          "M",
          "M",
          "M",
          "M",
          "M",
          "M",
          "M",
          "F",
          "M",
          "M",
          "M",
          "M",
          "M",
          "M",
          "M",
          "M",
          "M",
          "F",
          "M",
          "M",
          "M",
          "M",
          "M",
          "M",
          "M",
          "M",
          "M",
          "M",
          "M",
          "M",
          "M",
          "M",
          "M",
          "M",
          "M",
          "M",
          "M",
          "M",
          "M",
          "M",
          "M",
          "M",
          "M",
          "M",
          "M",
          "M",
          "M",
          "M",
          "M",
          "M",
          "M",
          "M",
          "M",
          "M",
          "M",
          "M",
          "M",
          "M",
          "M",
          "M",
          "F",
          "M",
          "M",
          "M",
          "M",
          "M",
          "M",
          "M",
          "M",
          "M",
          "M",
          "M",
          "M",
          "M",
          "M",
          "M",
          "M",
          "F",
          "M",
          "M",
          "M",
          "M",
          "M",
          "M",
          "M",
          "M",
          "M",
          "M",
          "M",
          "M",
          "M",
          "M",
          "M",
          "M",
          "M",
          "M",
          "M",
          "M",
          "M",
          "M",
          "M",
          "M",
          "M",
          "M",
          "F",
          "M",
          "M",
          "M",
          "M",
          "M",
          "M",
          "M",
          "M",
          "M",
          "M",
          "M",
          "M",
          "M",
          "F",
          "M",
          "M",
          "M",
          "M",
          "M",
          "M",
          "M",
          "M",
          "M",
          "M",
          "M",
          "M",
          "M",
          "M",
          "M",
          "M",
          "F",
          "M",
          "M",
          "F",
          "M",
          "M",
          "M",
          "M",
          "M",
          "M",
          "M",
          "M",
          "M",
          "M",
          "M",
          "M",
          "M",
          "F",
          "M",
          "M",
          "M",
          "M",
          "M",
          "M",
          "M",
          "F",
          "M",
          "M",
          "M",
          "M",
          "M",
          "M",
          "M",
          "M",
          "M",
          "M",
          "M",
          "M",
          "M",
          "M",
          "M",
          "M",
          "M",
          "M",
          "M",
          "M",
          "M",
          "M",
          "M",
          "M",
          "M",
          "M",
          "M",
          "M",
          "M",
          "M",
          "M",
          "M",
          "M",
          "M",
          "M",
          "M",
          "F",
          "M",
          "M",
          "M",
          "M",
          "M",
          "M",
          "M",
          "M",
          "M",
          "F",
          "M",
          "M",
          "M",
          "M",
          "M",
          "M",
          "M",
          "M",
          "M",
          "M",
          "M",
          "M",
          "M",
          "M",
          "M",
          "M",
          "M",
          "M",
          "M",
          "M",
          "M",
          "M",
          "F",
          "M",
          "M",
          "M",
          "M",
          "M",
          "M",
          "M",
          "F",
          "M",
          "F",
          "M",
          "M",
          "M",
          "M",
          "M",
          "M",
          "M",
          "M",
          "F",
          "M",
          "M",
          "M",
          "M",
          "M",
          "M",
          "M",
          "M",
          "M",
          "M",
          "M",
          "M",
          "M",
          "M",
          "M",
          "M",
          "M",
          "M",
          "M",
          "M",
          "M",
          "M",
          "M",
          "M",
          "M",
          "M",
          "M",
          "M",
          "M",
          "M",
          "M",
          "M",
          "M",
          "M",
          "M",
          "M",
          "M",
          "M",
          "M",
          "M",
          "M",
          "M",
          "M",
          "M",
          "M",
          "M",
          "M",
          "M",
          "M",
          "M",
          "M",
          "M",
          "M",
          "M",
          "M",
          "M",
          "M",
          "F",
          "M",
          "M",
          "M",
          "F",
          "M",
          "M",
          "M",
          "M",
          "M",
          "M",
          "M",
          "M",
          "M",
          "M",
          "M",
          "M",
          "M",
          "M",
          "M",
          "M",
          "M",
          "M",
          "M",
          "M",
          "M",
          "M",
          "M",
          "M",
          "M",
          "M",
          "M",
          "M",
          "M",
          "M",
          "M",
          "M",
          "M",
          "M",
          "M",
          "M",
          "F",
          "M",
          "M",
          "M",
          "M",
          "M",
          "F",
          "M",
          "M",
          "M",
          "M",
          "M",
          "M",
          "M",
          "M",
          "F",
          "M",
          "M",
          "M",
          "M",
          "M",
          "M",
          "M",
          "M",
          "M",
          "M",
          "M",
          "M",
          "M",
          "M",
          "M",
          "M",
          "M",
          "M",
          "M",
          "M",
          "M",
          "M",
          "M",
          "M",
          "M",
          "M",
          "M",
          "M",
          "M",
          "M",
          "M",
          "M",
          "M",
          "M",
          "M",
          "M",
          "M",
          "M",
          "M",
          "M",
          "M",
          "M",
          "M",
          "M",
          "M",
          "M",
          "M",
          "M",
          "M",
          "M",
          "M",
          "M",
          "M",
          "M",
          "M",
          "M",
          "M",
          "M",
          "M",
          "M",
          "M",
          "M",
          "M",
          "M",
          "M",
          "M",
          "M",
          "M",
          "M",
          "M",
          "M",
          "M",
          "M",
          "M",
          "F",
          "M",
          "M",
          "M",
          "M",
          "M",
          "M",
          "M",
          "M",
          "M",
          "M",
          "M",
          "M",
          "M",
          "M",
          "F",
          "M",
          "M",
          "M",
          "M",
          "M",
          "M",
          "M",
          "M",
          "M",
          "M",
          "M",
          "M",
          "M",
          "M",
          "M",
          "M",
          "M",
          "M",
          "M",
          "M",
          "M",
          "M",
          "F",
          "F",
          "F",
          "M",
          "M",
          "M",
          "M",
          "M",
          "M",
          "M",
          "M",
          "M",
          "M",
          "M",
          "M",
          "M",
          "M",
          "M",
          "M",
          "M",
          "M",
          "M",
          "M",
          "M",
          "M",
          "M",
          "M",
          "M",
          "M",
          "M",
          "M",
          "M",
          "M",
          "M",
          "M",
          "M",
          "M",
          "M",
          "M",
          "M",
          "M",
          "M",
          "M",
          "M",
          "M",
          "M",
          "M",
          "M",
          "M",
          "M",
          "M",
          "F",
          "M",
          "M",
          "M",
          "M",
          "M",
          "M",
          "M",
          "M",
          "M",
          "M",
          "M",
          "M",
          "M",
          "M",
          "M",
          "M",
          "M",
          "M",
          "M",
          "M",
          "M",
          "M",
          "F",
          "M",
          "M",
          "M",
          "M",
          "M",
          "M",
          "M",
          "M",
          "M",
          "M",
          "M",
          "M",
          "M",
          "M",
          "M",
          "M",
          "M",
          "M",
          "M",
          "M",
          "M",
          "M",
          "M",
          "M",
          "M",
          "M",
          "M",
          "M",
          "M",
          "M",
          "M",
          "M",
          "M",
          "M",
          "M",
          "M",
          "M",
          "M",
          "M",
          "M",
          "M",
          "M",
          "M",
          "M",
          "M",
          "M",
          "M",
          "M",
          "M",
          "F",
          "M",
          "M",
          "M",
          "M",
          "M",
          "M",
          "M",
          "M",
          "F",
          "M",
          "M",
          "M",
          "M",
          "M",
          "M",
          "M",
          "M",
          "M",
          "M",
          "M",
          "M",
          "M",
          "M",
          "M",
          "M",
          "M",
          "M",
          "M",
          "M",
          "M",
          "M",
          "M",
          "M",
          "M",
          "M",
          "M",
          "M",
          "M",
          "M",
          "M",
          "M",
          "M",
          "M",
          "M",
          "M",
          "M",
          "M",
          "M",
          "M",
          "M",
          "M",
          "M",
          "M",
          "M",
          "M",
          "M",
          "M",
          "M",
          "M",
          "M",
          "M",
          "M",
          "M",
          "M",
          "M",
          "M",
          "M",
          "M",
          "M",
          "M",
          "M",
          "M",
          "M",
          "M",
          "M",
          "M",
          "M",
          "M",
          "M",
          "M",
          "M",
          "M",
          "M",
          "M",
          "M",
          "M",
          "M",
          "M",
          "M",
          "M",
          "M",
          "M",
          "M",
          "M",
          "M",
          "M",
          "M",
          "M",
          "M",
          "M",
          "M",
          "M",
          "M",
          "M",
          "F",
          "M",
          "M",
          "M",
          "M",
          "M",
          "M",
          "M",
          "M",
          "M",
          "M",
          "M",
          "M",
          "M",
          "M",
          "M",
          "M",
          "M",
          "M",
          "M",
          "M",
          "F",
          "M",
          "M",
          "M",
          "M",
          "M",
          "M",
          "F",
          "M",
          "M",
          "M",
          "M",
          "M",
          "M",
          "M",
          "M",
          "M",
          "M",
          "M",
          "M",
          "M",
          "M",
          "M",
          "M",
          "M",
          "M",
          "M",
          "M",
          "M",
          "M",
          "M",
          "M",
          "M",
          "M",
          "M",
          "M",
          "M",
          "M",
          "M",
          "M",
          "M",
          "F",
          "M",
          "M",
          "M",
          "M",
          "M",
          "M",
          "M",
          "M",
          "M",
          "M",
          "M",
          "M",
          "M",
          "M",
          "M",
          "M",
          "M",
          "M",
          "M",
          "M",
          "M",
          "M",
          "M",
          "M",
          "M",
          "M",
          "M",
          "M",
          "M",
          "M",
          "M",
          "M",
          "M",
          "M",
          "M",
          "M",
          "M",
          "M",
          "M",
          "M",
          "M",
          "M",
          "M",
          "M",
          "M",
          "M",
          "M",
          "M",
          "M",
          "M",
          "M",
          "M",
          "M",
          "M",
          "M",
          "M",
          "M",
          "M",
          "M",
          "F",
          "M",
          "M",
          "M",
          "M",
          "M",
          "M",
          "M",
          "M",
          "M",
          "M",
          "M",
          "M",
          "M",
          "M",
          "M",
          "M",
          "M",
          "M",
          "M",
          "M",
          "M",
          "M",
          "M",
          "M",
          "M",
          "M",
          "M",
          "M",
          "M",
          "M",
          "F",
          "M",
          "M",
          "M",
          "M",
          "M",
          "M",
          "M",
          "M",
          "M",
          "M",
          "M",
          "M",
          "M",
          "M",
          "M",
          "M",
          "M",
          "M",
          "M",
          "M",
          "M",
          "M",
          "M",
          "M",
          "M",
          "M",
          "M",
          "M",
          "M",
          "M",
          "M",
          "M",
          "M",
          "M",
          "M",
          "M",
          "M",
          "M",
          "M",
          "M",
          "F",
          "M",
          "M",
          "M",
          "M",
          "M",
          "M",
          "M",
          "M",
          "M",
          "M",
          "M",
          "M",
          "F",
          "M",
          "M",
          "M",
          "M",
          "M",
          "M",
          "M",
          "M",
          "M",
          "M",
          "M",
          "M",
          "M",
          "M",
          "M",
          "M",
          "M",
          "M",
          "M",
          "M",
          "M",
          "M",
          "M",
          "M",
          "M",
          "M",
          "M",
          "M",
          "M",
          "M",
          "M",
          "M",
          "M",
          "M",
          "M",
          "M",
          "M",
          "M",
          "M",
          "M",
          "M",
          "M",
          "M",
          "M",
          "M",
          "M",
          "M",
          "F",
          "M",
          "M",
          "M",
          "M",
          "M",
          "M",
          "M",
          "M",
          "M",
          "M",
          "M",
          "M",
          "F",
          "M",
          "M",
          "M",
          "M",
          "M",
          "M",
          "M",
          "M",
          "M",
          "M",
          "M",
          "M",
          "M",
          "M",
          "F",
          "M",
          "M",
          "M",
          "M",
          "M",
          "M",
          "M",
          "M",
          "M",
          "M",
          "M",
          "M",
          "M",
          "M",
          "M",
          "M",
          "M",
          "M",
          "M",
          "M",
          "M",
          "M",
          "M",
          "M",
          "M",
          "M",
          "M",
          "M",
          "M",
          "F",
          "M",
          "M",
          "M",
          "M",
          "M",
          "M",
          "M",
          "M",
          "M",
          "M",
          "M",
          "M",
          "M",
          "M",
          "M",
          "F",
          "M",
          "M",
          "M",
          "M",
          "M",
          "M",
          "M",
          "M",
          "F",
          "M",
          "M",
          "M",
          "M",
          "M",
          "M",
          "M",
          "M",
          "M",
          "M",
          "M",
          "M",
          "M",
          "F",
          "M",
          "M",
          "M",
          "F",
          "M",
          "M",
          "M",
          "M",
          "M",
          "M",
          "M",
          "M",
          "F",
          "M",
          "M",
          "M",
          "M",
          "M",
          "M",
          "M",
          "M",
          "M",
          "M",
          "M",
          "M",
          "M",
          "M",
          "F",
          "M",
          "M",
          "M",
          "M",
          "M",
          "M",
          "M",
          "M",
          "M",
          "M",
          "M",
          "M",
          "M",
          "M",
          "M",
          "M",
          "M",
          "M",
          "M",
          "M",
          "F",
          "M",
          "M",
          "M",
          "M",
          "M",
          "M",
          "M",
          "M",
          "M",
          "M",
          "M",
          "M",
          "M",
          "F",
          "M",
          "F",
          "M",
          "M",
          "F",
          "M",
          "M",
          "M",
          "M",
          "M",
          "M",
          "M",
          "M",
          "M",
          "M",
          "M",
          "M",
          "M",
          "M",
          "M",
          "M",
          "M",
          "M",
          "M",
          "M",
          "M",
          "M",
          "M",
          "M",
          "M",
          "M",
          "M",
          "M",
          "M",
          "F",
          "M",
          "M",
          "M",
          "M",
          "M",
          "M",
          "M",
          "M",
          "M",
          "M",
          "M",
          "M",
          "M",
          "M",
          "M",
          "M",
          "M",
          "M",
          "M",
          "M",
          "F",
          "M",
          "M",
          "M",
          "M",
          "F",
          "M",
          "M",
          "M",
          "M",
          "M",
          "M",
          "M",
          "F",
          "M",
          "M",
          "M",
          "M",
          "M",
          "M",
          "M",
          "M",
          "M",
          "M",
          "M",
          "M",
          "M",
          "M",
          "M",
          "M",
          "M",
          "F",
          "M",
          "M",
          "M",
          "M",
          "M",
          "M",
          "M",
          "M",
          "M",
          "M",
          "M",
          "M",
          "M",
          "M",
          "M",
          "M",
          "M",
          "M",
          "M",
          "M",
          "M",
          "M",
          "M",
          "M",
          "M",
          "M",
          "M",
          "M",
          "M",
          "M",
          "M",
          "M",
          "M",
          "M",
          "M",
          "M",
          "M",
          "M",
          "M",
          "M",
          "M",
          "M",
          "M",
          "M",
          "M",
          "M",
          "M",
          "M",
          "M",
          "M",
          "M",
          "M",
          "M",
          "M",
          "M",
          "M",
          "M",
          "M",
          "M",
          "M",
          "M",
          "M",
          "M",
          "M",
          "M",
          "M",
          "M",
          "M",
          "M",
          "M",
          "M",
          "M",
          "M",
          "M",
          "M",
          "M",
          "M",
          "M",
          "F",
          "M",
          "M",
          "M",
          "M",
          "M",
          "M",
          "M",
          "M",
          "M",
          "M",
          "M",
          "M",
          "M",
          "M",
          "M",
          "M",
          "M",
          "F",
          "M",
          "M",
          "M",
          "M",
          "M",
          "M",
          "M",
          "M",
          "M",
          "M",
          "M",
          "M",
          "M",
          "M",
          "M",
          "M",
          "M",
          "M",
          "M",
          "M",
          "M",
          "M",
          "M",
          "M",
          "M",
          "M",
          "M",
          "M",
          "M",
          "M",
          "M",
          "M",
          "M",
          "M",
          "M",
          "M",
          "M",
          "M",
          "M",
          "M",
          "F",
          "M",
          "M",
          "M",
          "M",
          "M",
          "M",
          "M",
          "M",
          "M",
          "M",
          "M",
          "M",
          "M",
          "M",
          "M",
          "M",
          "M",
          "M",
          "M",
          "M",
          "M",
          "M",
          "M",
          "M",
          "M",
          "M",
          "M",
          "M",
          "M",
          "F",
          "F",
          "M",
          "M",
          "M",
          "M",
          "M",
          "M",
          "M",
          "M",
          "M",
          "M",
          "M",
          "M",
          "M",
          "M",
          "M",
          "M",
          "M",
          "M",
          "M",
          "M",
          "M",
          "M",
          "M",
          "M",
          "M",
          "M",
          "M",
          "M",
          "M",
          "M",
          "M",
          "M",
          "M",
          "M",
          "M",
          "M",
          "M",
          "M",
          "M",
          "M",
          "M",
          "M",
          "M",
          "M",
          "M",
          "M",
          "F",
          "F",
          "M",
          "M",
          "M",
          "M",
          "M",
          "M",
          "M",
          "M",
          "M",
          "M",
          "M",
          "M",
          "M",
          "M",
          "M",
          "M",
          "M",
          "M",
          "M",
          "M",
          "M",
          "M",
          "M",
          "M",
          "M",
          "M",
          "M",
          "M",
          "M",
          "M",
          "M",
          "M",
          "M",
          "M",
          "M",
          "M",
          "M",
          "M",
          "M",
          "M",
          "M",
          "F",
          "M",
          "M",
          "M",
          "M",
          "M",
          "M",
          "M",
          "M",
          "M",
          "M",
          "M",
          "M",
          "M",
          "F",
          "M",
          "M",
          "M",
          "F",
          "M",
          "M",
          "M",
          "M",
          "M",
          "M",
          "M",
          "M",
          "M",
          "M",
          "M",
          "M",
          "M",
          "M",
          "M",
          "M",
          "M",
          "M",
          "M",
          "M",
          "M",
          "M",
          "M",
          "M",
          "M",
          "M",
          "M",
          "M",
          "M",
          "M",
          "M",
          "M",
          "M",
          "M",
          "M",
          "M",
          "M",
          "M",
          "M",
          "M",
          "M",
          "M",
          "M",
          "M",
          "M",
          "M",
          "M",
          "M",
          "M",
          "M",
          "M",
          "M",
          "M",
          "M",
          "M",
          "M",
          "M",
          "M",
          "M",
          "M",
          "M",
          "M",
          "M",
          "M",
          "M",
          "M",
          "M",
          "M",
          "M",
          "M",
          "M",
          "M",
          "M",
          "M",
          "M",
          "M",
          "M",
          "M",
          "M",
          "M",
          "M",
          "M",
          "M",
          "M",
          "M",
          "M",
          "M",
          "M",
          "M",
          "M",
          "M",
          "M",
          "M",
          "M",
          "M",
          "M",
          "M",
          "M",
          "M",
          "M",
          "M",
          "M",
          "M",
          "M",
          "M",
          "M",
          "M",
          "M",
          "F",
          "M",
          "F",
          "M",
          "M",
          "M",
          "M",
          "M",
          "M",
          "M",
          "M",
          "M",
          "M",
          "M",
          "M",
          "M",
          "M",
          "M",
          "M",
          "M",
          "M",
          "M",
          "M",
          "M",
          "M",
          "M",
          "M",
          "M",
          "M",
          "M",
          "M",
          "M",
          "M",
          "M",
          "M",
          "M",
          "M",
          "M",
          "M",
          "M",
          "M",
          "M",
          "M",
          "M",
          "M",
          "M",
          "M",
          "M",
          "M",
          "M",
          "M",
          "M",
          "M",
          "M",
          "M",
          "M",
          "M",
          "M",
          "M",
          "M",
          "M",
          "M",
          "M",
          "M",
          "M",
          "M",
          "M",
          "M",
          "M",
          "M",
          "M",
          "M",
          "M",
          "M",
          "M",
          "M",
          "M",
          "M",
          "M",
          "M",
          "M",
          "M",
          "M",
          "M",
          "M",
          "M",
          "M",
          "M",
          "M",
          "F",
          "M",
          "M",
          "M",
          "M",
          "M",
          "M",
          "M",
          "M",
          "M"
         ],
         "legendgroup": "",
         "name": "",
         "showlegend": true,
         "type": "pie"
        }
       ],
       "layout": {
        "legend": {
         "tracegroupgap": 0
        },
        "piecolorway": [
         "rgb(103,0,31)",
         "rgb(178,24,43)",
         "rgb(214,96,77)",
         "rgb(244,165,130)",
         "rgb(253,219,199)",
         "rgb(247,247,247)",
         "rgb(209,229,240)",
         "rgb(146,197,222)",
         "rgb(67,147,195)",
         "rgb(33,102,172)",
         "rgb(5,48,97)"
        ],
        "template": {
         "data": {
          "bar": [
           {
            "error_x": {
             "color": "#2a3f5f"
            },
            "error_y": {
             "color": "#2a3f5f"
            },
            "marker": {
             "line": {
              "color": "#E5ECF6",
              "width": 0.5
             }
            },
            "type": "bar"
           }
          ],
          "barpolar": [
           {
            "marker": {
             "line": {
              "color": "#E5ECF6",
              "width": 0.5
             }
            },
            "type": "barpolar"
           }
          ],
          "carpet": [
           {
            "aaxis": {
             "endlinecolor": "#2a3f5f",
             "gridcolor": "white",
             "linecolor": "white",
             "minorgridcolor": "white",
             "startlinecolor": "#2a3f5f"
            },
            "baxis": {
             "endlinecolor": "#2a3f5f",
             "gridcolor": "white",
             "linecolor": "white",
             "minorgridcolor": "white",
             "startlinecolor": "#2a3f5f"
            },
            "type": "carpet"
           }
          ],
          "choropleth": [
           {
            "colorbar": {
             "outlinewidth": 0,
             "ticks": ""
            },
            "type": "choropleth"
           }
          ],
          "contour": [
           {
            "colorbar": {
             "outlinewidth": 0,
             "ticks": ""
            },
            "colorscale": [
             [
              0,
              "#0d0887"
             ],
             [
              0.1111111111111111,
              "#46039f"
             ],
             [
              0.2222222222222222,
              "#7201a8"
             ],
             [
              0.3333333333333333,
              "#9c179e"
             ],
             [
              0.4444444444444444,
              "#bd3786"
             ],
             [
              0.5555555555555556,
              "#d8576b"
             ],
             [
              0.6666666666666666,
              "#ed7953"
             ],
             [
              0.7777777777777778,
              "#fb9f3a"
             ],
             [
              0.8888888888888888,
              "#fdca26"
             ],
             [
              1,
              "#f0f921"
             ]
            ],
            "type": "contour"
           }
          ],
          "contourcarpet": [
           {
            "colorbar": {
             "outlinewidth": 0,
             "ticks": ""
            },
            "type": "contourcarpet"
           }
          ],
          "heatmap": [
           {
            "colorbar": {
             "outlinewidth": 0,
             "ticks": ""
            },
            "colorscale": [
             [
              0,
              "#0d0887"
             ],
             [
              0.1111111111111111,
              "#46039f"
             ],
             [
              0.2222222222222222,
              "#7201a8"
             ],
             [
              0.3333333333333333,
              "#9c179e"
             ],
             [
              0.4444444444444444,
              "#bd3786"
             ],
             [
              0.5555555555555556,
              "#d8576b"
             ],
             [
              0.6666666666666666,
              "#ed7953"
             ],
             [
              0.7777777777777778,
              "#fb9f3a"
             ],
             [
              0.8888888888888888,
              "#fdca26"
             ],
             [
              1,
              "#f0f921"
             ]
            ],
            "type": "heatmap"
           }
          ],
          "heatmapgl": [
           {
            "colorbar": {
             "outlinewidth": 0,
             "ticks": ""
            },
            "colorscale": [
             [
              0,
              "#0d0887"
             ],
             [
              0.1111111111111111,
              "#46039f"
             ],
             [
              0.2222222222222222,
              "#7201a8"
             ],
             [
              0.3333333333333333,
              "#9c179e"
             ],
             [
              0.4444444444444444,
              "#bd3786"
             ],
             [
              0.5555555555555556,
              "#d8576b"
             ],
             [
              0.6666666666666666,
              "#ed7953"
             ],
             [
              0.7777777777777778,
              "#fb9f3a"
             ],
             [
              0.8888888888888888,
              "#fdca26"
             ],
             [
              1,
              "#f0f921"
             ]
            ],
            "type": "heatmapgl"
           }
          ],
          "histogram": [
           {
            "marker": {
             "colorbar": {
              "outlinewidth": 0,
              "ticks": ""
             }
            },
            "type": "histogram"
           }
          ],
          "histogram2d": [
           {
            "colorbar": {
             "outlinewidth": 0,
             "ticks": ""
            },
            "colorscale": [
             [
              0,
              "#0d0887"
             ],
             [
              0.1111111111111111,
              "#46039f"
             ],
             [
              0.2222222222222222,
              "#7201a8"
             ],
             [
              0.3333333333333333,
              "#9c179e"
             ],
             [
              0.4444444444444444,
              "#bd3786"
             ],
             [
              0.5555555555555556,
              "#d8576b"
             ],
             [
              0.6666666666666666,
              "#ed7953"
             ],
             [
              0.7777777777777778,
              "#fb9f3a"
             ],
             [
              0.8888888888888888,
              "#fdca26"
             ],
             [
              1,
              "#f0f921"
             ]
            ],
            "type": "histogram2d"
           }
          ],
          "histogram2dcontour": [
           {
            "colorbar": {
             "outlinewidth": 0,
             "ticks": ""
            },
            "colorscale": [
             [
              0,
              "#0d0887"
             ],
             [
              0.1111111111111111,
              "#46039f"
             ],
             [
              0.2222222222222222,
              "#7201a8"
             ],
             [
              0.3333333333333333,
              "#9c179e"
             ],
             [
              0.4444444444444444,
              "#bd3786"
             ],
             [
              0.5555555555555556,
              "#d8576b"
             ],
             [
              0.6666666666666666,
              "#ed7953"
             ],
             [
              0.7777777777777778,
              "#fb9f3a"
             ],
             [
              0.8888888888888888,
              "#fdca26"
             ],
             [
              1,
              "#f0f921"
             ]
            ],
            "type": "histogram2dcontour"
           }
          ],
          "mesh3d": [
           {
            "colorbar": {
             "outlinewidth": 0,
             "ticks": ""
            },
            "type": "mesh3d"
           }
          ],
          "parcoords": [
           {
            "line": {
             "colorbar": {
              "outlinewidth": 0,
              "ticks": ""
             }
            },
            "type": "parcoords"
           }
          ],
          "pie": [
           {
            "automargin": true,
            "type": "pie"
           }
          ],
          "scatter": [
           {
            "marker": {
             "colorbar": {
              "outlinewidth": 0,
              "ticks": ""
             }
            },
            "type": "scatter"
           }
          ],
          "scatter3d": [
           {
            "line": {
             "colorbar": {
              "outlinewidth": 0,
              "ticks": ""
             }
            },
            "marker": {
             "colorbar": {
              "outlinewidth": 0,
              "ticks": ""
             }
            },
            "type": "scatter3d"
           }
          ],
          "scattercarpet": [
           {
            "marker": {
             "colorbar": {
              "outlinewidth": 0,
              "ticks": ""
             }
            },
            "type": "scattercarpet"
           }
          ],
          "scattergeo": [
           {
            "marker": {
             "colorbar": {
              "outlinewidth": 0,
              "ticks": ""
             }
            },
            "type": "scattergeo"
           }
          ],
          "scattergl": [
           {
            "marker": {
             "colorbar": {
              "outlinewidth": 0,
              "ticks": ""
             }
            },
            "type": "scattergl"
           }
          ],
          "scattermapbox": [
           {
            "marker": {
             "colorbar": {
              "outlinewidth": 0,
              "ticks": ""
             }
            },
            "type": "scattermapbox"
           }
          ],
          "scatterpolar": [
           {
            "marker": {
             "colorbar": {
              "outlinewidth": 0,
              "ticks": ""
             }
            },
            "type": "scatterpolar"
           }
          ],
          "scatterpolargl": [
           {
            "marker": {
             "colorbar": {
              "outlinewidth": 0,
              "ticks": ""
             }
            },
            "type": "scatterpolargl"
           }
          ],
          "scatterternary": [
           {
            "marker": {
             "colorbar": {
              "outlinewidth": 0,
              "ticks": ""
             }
            },
            "type": "scatterternary"
           }
          ],
          "surface": [
           {
            "colorbar": {
             "outlinewidth": 0,
             "ticks": ""
            },
            "colorscale": [
             [
              0,
              "#0d0887"
             ],
             [
              0.1111111111111111,
              "#46039f"
             ],
             [
              0.2222222222222222,
              "#7201a8"
             ],
             [
              0.3333333333333333,
              "#9c179e"
             ],
             [
              0.4444444444444444,
              "#bd3786"
             ],
             [
              0.5555555555555556,
              "#d8576b"
             ],
             [
              0.6666666666666666,
              "#ed7953"
             ],
             [
              0.7777777777777778,
              "#fb9f3a"
             ],
             [
              0.8888888888888888,
              "#fdca26"
             ],
             [
              1,
              "#f0f921"
             ]
            ],
            "type": "surface"
           }
          ],
          "table": [
           {
            "cells": {
             "fill": {
              "color": "#EBF0F8"
             },
             "line": {
              "color": "white"
             }
            },
            "header": {
             "fill": {
              "color": "#C8D4E3"
             },
             "line": {
              "color": "white"
             }
            },
            "type": "table"
           }
          ]
         },
         "layout": {
          "annotationdefaults": {
           "arrowcolor": "#2a3f5f",
           "arrowhead": 0,
           "arrowwidth": 1
          },
          "autotypenumbers": "strict",
          "coloraxis": {
           "colorbar": {
            "outlinewidth": 0,
            "ticks": ""
           }
          },
          "colorscale": {
           "diverging": [
            [
             0,
             "#8e0152"
            ],
            [
             0.1,
             "#c51b7d"
            ],
            [
             0.2,
             "#de77ae"
            ],
            [
             0.3,
             "#f1b6da"
            ],
            [
             0.4,
             "#fde0ef"
            ],
            [
             0.5,
             "#f7f7f7"
            ],
            [
             0.6,
             "#e6f5d0"
            ],
            [
             0.7,
             "#b8e186"
            ],
            [
             0.8,
             "#7fbc41"
            ],
            [
             0.9,
             "#4d9221"
            ],
            [
             1,
             "#276419"
            ]
           ],
           "sequential": [
            [
             0,
             "#0d0887"
            ],
            [
             0.1111111111111111,
             "#46039f"
            ],
            [
             0.2222222222222222,
             "#7201a8"
            ],
            [
             0.3333333333333333,
             "#9c179e"
            ],
            [
             0.4444444444444444,
             "#bd3786"
            ],
            [
             0.5555555555555556,
             "#d8576b"
            ],
            [
             0.6666666666666666,
             "#ed7953"
            ],
            [
             0.7777777777777778,
             "#fb9f3a"
            ],
            [
             0.8888888888888888,
             "#fdca26"
            ],
            [
             1,
             "#f0f921"
            ]
           ],
           "sequentialminus": [
            [
             0,
             "#0d0887"
            ],
            [
             0.1111111111111111,
             "#46039f"
            ],
            [
             0.2222222222222222,
             "#7201a8"
            ],
            [
             0.3333333333333333,
             "#9c179e"
            ],
            [
             0.4444444444444444,
             "#bd3786"
            ],
            [
             0.5555555555555556,
             "#d8576b"
            ],
            [
             0.6666666666666666,
             "#ed7953"
            ],
            [
             0.7777777777777778,
             "#fb9f3a"
            ],
            [
             0.8888888888888888,
             "#fdca26"
            ],
            [
             1,
             "#f0f921"
            ]
           ]
          },
          "colorway": [
           "#636efa",
           "#EF553B",
           "#00cc96",
           "#ab63fa",
           "#FFA15A",
           "#19d3f3",
           "#FF6692",
           "#B6E880",
           "#FF97FF",
           "#FECB52"
          ],
          "font": {
           "color": "#2a3f5f"
          },
          "geo": {
           "bgcolor": "white",
           "lakecolor": "white",
           "landcolor": "#E5ECF6",
           "showlakes": true,
           "showland": true,
           "subunitcolor": "white"
          },
          "hoverlabel": {
           "align": "left"
          },
          "hovermode": "closest",
          "mapbox": {
           "style": "light"
          },
          "paper_bgcolor": "white",
          "plot_bgcolor": "#E5ECF6",
          "polar": {
           "angularaxis": {
            "gridcolor": "white",
            "linecolor": "white",
            "ticks": ""
           },
           "bgcolor": "#E5ECF6",
           "radialaxis": {
            "gridcolor": "white",
            "linecolor": "white",
            "ticks": ""
           }
          },
          "scene": {
           "xaxis": {
            "backgroundcolor": "#E5ECF6",
            "gridcolor": "white",
            "gridwidth": 2,
            "linecolor": "white",
            "showbackground": true,
            "ticks": "",
            "zerolinecolor": "white"
           },
           "yaxis": {
            "backgroundcolor": "#E5ECF6",
            "gridcolor": "white",
            "gridwidth": 2,
            "linecolor": "white",
            "showbackground": true,
            "ticks": "",
            "zerolinecolor": "white"
           },
           "zaxis": {
            "backgroundcolor": "#E5ECF6",
            "gridcolor": "white",
            "gridwidth": 2,
            "linecolor": "white",
            "showbackground": true,
            "ticks": "",
            "zerolinecolor": "white"
           }
          },
          "shapedefaults": {
           "line": {
            "color": "#2a3f5f"
           }
          },
          "ternary": {
           "aaxis": {
            "gridcolor": "white",
            "linecolor": "white",
            "ticks": ""
           },
           "baxis": {
            "gridcolor": "white",
            "linecolor": "white",
            "ticks": ""
           },
           "bgcolor": "#E5ECF6",
           "caxis": {
            "gridcolor": "white",
            "linecolor": "white",
            "ticks": ""
           }
          },
          "title": {
           "x": 0.05
          },
          "xaxis": {
           "automargin": true,
           "gridcolor": "white",
           "linecolor": "white",
           "ticks": "",
           "title": {
            "standoff": 15
           },
           "zerolinecolor": "white",
           "zerolinewidth": 2
          },
          "yaxis": {
           "automargin": true,
           "gridcolor": "white",
           "linecolor": "white",
           "ticks": "",
           "title": {
            "standoff": 15
           },
           "zerolinecolor": "white",
           "zerolinewidth": 2
          }
         }
        },
        "title": {
         "text": "% of Male vs Female killed by police"
        }
       }
      }
     },
     "metadata": {}
    }
   ],
   "source": [
    "gender_killed(df=kill_and_social)"
   ]
  },
  {
   "source": [
    "#### Top cities with more police shooting:\n",
    "\n",
    "Top 5 cities with more casualties caused by police shooting in the US.  Los Angeles (California) is the one with most cases followed by Phoenix(Arizona)"
   ],
   "cell_type": "markdown",
   "metadata": {}
  },
  {
   "cell_type": "code",
   "execution_count": 33,
   "metadata": {},
   "outputs": [
    {
     "output_type": "display_data",
     "data": {
      "text/plain": "<Figure size 576x288 with 1 Axes>",
      "image/svg+xml": "<?xml version=\"1.0\" encoding=\"utf-8\" standalone=\"no\"?>\r\n<!DOCTYPE svg PUBLIC \"-//W3C//DTD SVG 1.1//EN\"\r\n  \"http://www.w3.org/Graphics/SVG/1.1/DTD/svg11.dtd\">\r\n<!-- Created with matplotlib (https://matplotlib.org/) -->\r\n<svg height=\"279.984219pt\" version=\"1.1\" viewBox=\"0 0 492.067187 279.984219\" width=\"492.067187pt\" xmlns=\"http://www.w3.org/2000/svg\" xmlns:xlink=\"http://www.w3.org/1999/xlink\">\r\n <metadata>\r\n  <rdf:RDF xmlns:cc=\"http://creativecommons.org/ns#\" xmlns:dc=\"http://purl.org/dc/elements/1.1/\" xmlns:rdf=\"http://www.w3.org/1999/02/22-rdf-syntax-ns#\">\r\n   <cc:Work>\r\n    <dc:type rdf:resource=\"http://purl.org/dc/dcmitype/StillImage\"/>\r\n    <dc:date>2021-01-10T16:58:25.008395</dc:date>\r\n    <dc:format>image/svg+xml</dc:format>\r\n    <dc:creator>\r\n     <cc:Agent>\r\n      <dc:title>Matplotlib v3.3.3, https://matplotlib.org/</dc:title>\r\n     </cc:Agent>\r\n    </dc:creator>\r\n   </cc:Work>\r\n  </rdf:RDF>\r\n </metadata>\r\n <defs>\r\n  <style type=\"text/css\">*{stroke-linecap:butt;stroke-linejoin:round;}</style>\r\n </defs>\r\n <g id=\"figure_1\">\r\n  <g id=\"patch_1\">\r\n   <path d=\"M 0 279.984219 \r\nL 492.067187 279.984219 \r\nL 492.067187 0 \r\nL 0 0 \r\nz\r\n\" style=\"fill:#ffffff;\"/>\r\n  </g>\r\n  <g id=\"axes_1\">\r\n   <g id=\"patch_2\">\r\n    <path d=\"M 38.467188 243.015469 \r\nL 484.867188 243.015469 \r\nL 484.867188 25.575469 \r\nL 38.467188 25.575469 \r\nz\r\n\" style=\"fill:#ffffff;\"/>\r\n   </g>\r\n   <g id=\"matplotlib.axis_1\">\r\n    <g id=\"xtick_1\">\r\n     <g id=\"text_1\">\r\n      <!-- Los Angeles -->\r\n      <g style=\"fill:#262626;\" transform=\"translate(55.864219 257.173281)scale(0.1 -0.1)\">\r\n       <defs>\r\n        <path d=\"M 7.328125 0 \r\nL 7.328125 71.578125 \r\nL 16.796875 71.578125 \r\nL 16.796875 8.453125 \r\nL 52.046875 8.453125 \r\nL 52.046875 0 \r\nz\r\n\" id=\"ArialMT-76\"/>\r\n        <path d=\"M 3.328125 25.921875 \r\nQ 3.328125 40.328125 11.328125 47.265625 \r\nQ 18.015625 53.03125 27.640625 53.03125 \r\nQ 38.328125 53.03125 45.109375 46.015625 \r\nQ 51.90625 39.015625 51.90625 26.65625 \r\nQ 51.90625 16.65625 48.90625 10.90625 \r\nQ 45.90625 5.171875 40.15625 2 \r\nQ 34.421875 -1.171875 27.640625 -1.171875 \r\nQ 16.75 -1.171875 10.03125 5.8125 \r\nQ 3.328125 12.796875 3.328125 25.921875 \r\nz\r\nM 12.359375 25.921875 \r\nQ 12.359375 15.96875 16.703125 11.015625 \r\nQ 21.046875 6.0625 27.640625 6.0625 \r\nQ 34.1875 6.0625 38.53125 11.03125 \r\nQ 42.875 16.015625 42.875 26.21875 \r\nQ 42.875 35.84375 38.5 40.796875 \r\nQ 34.125 45.75 27.640625 45.75 \r\nQ 21.046875 45.75 16.703125 40.8125 \r\nQ 12.359375 35.890625 12.359375 25.921875 \r\nz\r\n\" id=\"ArialMT-111\"/>\r\n        <path d=\"M 3.078125 15.484375 \r\nL 11.765625 16.84375 \r\nQ 12.5 11.625 15.84375 8.84375 \r\nQ 19.1875 6.0625 25.203125 6.0625 \r\nQ 31.25 6.0625 34.171875 8.515625 \r\nQ 37.109375 10.984375 37.109375 14.3125 \r\nQ 37.109375 17.28125 34.515625 19 \r\nQ 32.71875 20.171875 25.53125 21.96875 \r\nQ 15.875 24.421875 12.140625 26.203125 \r\nQ 8.40625 27.984375 6.46875 31.125 \r\nQ 4.546875 34.28125 4.546875 38.09375 \r\nQ 4.546875 41.546875 6.125 44.5 \r\nQ 7.71875 47.46875 10.453125 49.421875 \r\nQ 12.5 50.921875 16.03125 51.96875 \r\nQ 19.578125 53.03125 23.640625 53.03125 \r\nQ 29.734375 53.03125 34.34375 51.265625 \r\nQ 38.96875 49.515625 41.15625 46.5 \r\nQ 43.359375 43.5 44.1875 38.484375 \r\nL 35.59375 37.3125 \r\nQ 35.015625 41.3125 32.203125 43.546875 \r\nQ 29.390625 45.796875 24.265625 45.796875 \r\nQ 18.21875 45.796875 15.625 43.796875 \r\nQ 13.03125 41.796875 13.03125 39.109375 \r\nQ 13.03125 37.40625 14.109375 36.03125 \r\nQ 15.1875 34.625 17.484375 33.6875 \r\nQ 18.796875 33.203125 25.25 31.453125 \r\nQ 34.578125 28.953125 38.25 27.359375 \r\nQ 41.9375 25.78125 44.03125 22.75 \r\nQ 46.140625 19.734375 46.140625 15.234375 \r\nQ 46.140625 10.84375 43.578125 6.953125 \r\nQ 41.015625 3.078125 36.171875 0.953125 \r\nQ 31.34375 -1.171875 25.25 -1.171875 \r\nQ 15.140625 -1.171875 9.84375 3.03125 \r\nQ 4.546875 7.234375 3.078125 15.484375 \r\nz\r\n\" id=\"ArialMT-115\"/>\r\n        <path id=\"ArialMT-32\"/>\r\n        <path d=\"M -0.140625 0 \r\nL 27.34375 71.578125 \r\nL 37.546875 71.578125 \r\nL 66.84375 0 \r\nL 56.0625 0 \r\nL 47.703125 21.6875 \r\nL 17.78125 21.6875 \r\nL 9.90625 0 \r\nz\r\nM 20.515625 29.390625 \r\nL 44.78125 29.390625 \r\nL 37.3125 49.21875 \r\nQ 33.890625 58.25 32.234375 64.0625 \r\nQ 30.859375 57.171875 28.375 50.390625 \r\nz\r\n\" id=\"ArialMT-65\"/>\r\n        <path d=\"M 6.59375 0 \r\nL 6.59375 51.859375 \r\nL 14.5 51.859375 \r\nL 14.5 44.484375 \r\nQ 20.21875 53.03125 31 53.03125 \r\nQ 35.6875 53.03125 39.625 51.34375 \r\nQ 43.5625 49.65625 45.515625 46.921875 \r\nQ 47.46875 44.1875 48.25 40.4375 \r\nQ 48.734375 37.984375 48.734375 31.890625 \r\nL 48.734375 0 \r\nL 39.9375 0 \r\nL 39.9375 31.546875 \r\nQ 39.9375 36.921875 38.90625 39.578125 \r\nQ 37.890625 42.234375 35.28125 43.8125 \r\nQ 32.671875 45.40625 29.15625 45.40625 \r\nQ 23.53125 45.40625 19.453125 41.84375 \r\nQ 15.375 38.28125 15.375 28.328125 \r\nL 15.375 0 \r\nz\r\n\" id=\"ArialMT-110\"/>\r\n        <path d=\"M 4.984375 -4.296875 \r\nL 13.53125 -5.5625 \r\nQ 14.0625 -9.515625 16.5 -11.328125 \r\nQ 19.78125 -13.765625 25.4375 -13.765625 \r\nQ 31.546875 -13.765625 34.859375 -11.328125 \r\nQ 38.1875 -8.890625 39.359375 -4.5 \r\nQ 40.046875 -1.8125 39.984375 6.78125 \r\nQ 34.234375 0 25.640625 0 \r\nQ 14.9375 0 9.078125 7.71875 \r\nQ 3.21875 15.4375 3.21875 26.21875 \r\nQ 3.21875 33.640625 5.90625 39.90625 \r\nQ 8.59375 46.1875 13.6875 49.609375 \r\nQ 18.796875 53.03125 25.6875 53.03125 \r\nQ 34.859375 53.03125 40.828125 45.609375 \r\nL 40.828125 51.859375 \r\nL 48.921875 51.859375 \r\nL 48.921875 7.03125 \r\nQ 48.921875 -5.078125 46.453125 -10.125 \r\nQ 44 -15.1875 38.640625 -18.109375 \r\nQ 33.296875 -21.046875 25.484375 -21.046875 \r\nQ 16.21875 -21.046875 10.5 -16.875 \r\nQ 4.78125 -12.703125 4.984375 -4.296875 \r\nz\r\nM 12.25 26.859375 \r\nQ 12.25 16.65625 16.296875 11.96875 \r\nQ 20.359375 7.28125 26.46875 7.28125 \r\nQ 32.515625 7.28125 36.609375 11.9375 \r\nQ 40.71875 16.609375 40.71875 26.5625 \r\nQ 40.71875 36.078125 36.5 40.90625 \r\nQ 32.28125 45.75 26.3125 45.75 \r\nQ 20.453125 45.75 16.34375 40.984375 \r\nQ 12.25 36.234375 12.25 26.859375 \r\nz\r\n\" id=\"ArialMT-103\"/>\r\n        <path d=\"M 42.09375 16.703125 \r\nL 51.171875 15.578125 \r\nQ 49.03125 7.625 43.21875 3.21875 \r\nQ 37.40625 -1.171875 28.375 -1.171875 \r\nQ 17 -1.171875 10.328125 5.828125 \r\nQ 3.65625 12.84375 3.65625 25.484375 \r\nQ 3.65625 38.578125 10.390625 45.796875 \r\nQ 17.140625 53.03125 27.875 53.03125 \r\nQ 38.28125 53.03125 44.875 45.953125 \r\nQ 51.46875 38.875 51.46875 26.03125 \r\nQ 51.46875 25.25 51.421875 23.6875 \r\nL 12.75 23.6875 \r\nQ 13.234375 15.140625 17.578125 10.59375 \r\nQ 21.921875 6.0625 28.421875 6.0625 \r\nQ 33.25 6.0625 36.671875 8.59375 \r\nQ 40.09375 11.140625 42.09375 16.703125 \r\nz\r\nM 13.234375 30.90625 \r\nL 42.1875 30.90625 \r\nQ 41.609375 37.453125 38.875 40.71875 \r\nQ 34.671875 45.796875 27.984375 45.796875 \r\nQ 21.921875 45.796875 17.796875 41.75 \r\nQ 13.671875 37.703125 13.234375 30.90625 \r\nz\r\n\" id=\"ArialMT-101\"/>\r\n        <path d=\"M 6.390625 0 \r\nL 6.390625 71.578125 \r\nL 15.1875 71.578125 \r\nL 15.1875 0 \r\nz\r\n\" id=\"ArialMT-108\"/>\r\n       </defs>\r\n       <use xlink:href=\"#ArialMT-76\"/>\r\n       <use x=\"55.615234\" xlink:href=\"#ArialMT-111\"/>\r\n       <use x=\"111.230469\" xlink:href=\"#ArialMT-115\"/>\r\n       <use x=\"161.230469\" xlink:href=\"#ArialMT-32\"/>\r\n       <use x=\"183.513672\" xlink:href=\"#ArialMT-65\"/>\r\n       <use x=\"250.212891\" xlink:href=\"#ArialMT-110\"/>\r\n       <use x=\"305.828125\" xlink:href=\"#ArialMT-103\"/>\r\n       <use x=\"361.443359\" xlink:href=\"#ArialMT-101\"/>\r\n       <use x=\"417.058594\" xlink:href=\"#ArialMT-108\"/>\r\n       <use x=\"439.275391\" xlink:href=\"#ArialMT-101\"/>\r\n       <use x=\"494.890625\" xlink:href=\"#ArialMT-115\"/>\r\n      </g>\r\n     </g>\r\n    </g>\r\n    <g id=\"xtick_2\">\r\n     <g id=\"text_2\">\r\n      <!-- Phoenix -->\r\n      <g style=\"fill:#262626;\" transform=\"translate(154.319219 257.173281)scale(0.1 -0.1)\">\r\n       <defs>\r\n        <path d=\"M 7.71875 0 \r\nL 7.71875 71.578125 \r\nL 34.71875 71.578125 \r\nQ 41.84375 71.578125 45.609375 70.90625 \r\nQ 50.875 70.015625 54.4375 67.546875 \r\nQ 58.015625 65.09375 60.1875 60.640625 \r\nQ 62.359375 56.203125 62.359375 50.875 \r\nQ 62.359375 41.75 56.546875 35.421875 \r\nQ 50.734375 29.109375 35.546875 29.109375 \r\nL 17.1875 29.109375 \r\nL 17.1875 0 \r\nz\r\nM 17.1875 37.546875 \r\nL 35.6875 37.546875 \r\nQ 44.875 37.546875 48.734375 40.96875 \r\nQ 52.59375 44.390625 52.59375 50.59375 \r\nQ 52.59375 55.078125 50.3125 58.265625 \r\nQ 48.046875 61.46875 44.34375 62.5 \r\nQ 41.9375 63.140625 35.5 63.140625 \r\nL 17.1875 63.140625 \r\nz\r\n\" id=\"ArialMT-80\"/>\r\n        <path d=\"M 6.59375 0 \r\nL 6.59375 71.578125 \r\nL 15.375 71.578125 \r\nL 15.375 45.90625 \r\nQ 21.53125 53.03125 30.90625 53.03125 \r\nQ 36.671875 53.03125 40.921875 50.75 \r\nQ 45.171875 48.484375 47 44.484375 \r\nQ 48.828125 40.484375 48.828125 32.859375 \r\nL 48.828125 0 \r\nL 40.046875 0 \r\nL 40.046875 32.859375 \r\nQ 40.046875 39.453125 37.1875 42.453125 \r\nQ 34.328125 45.453125 29.109375 45.453125 \r\nQ 25.203125 45.453125 21.75 43.421875 \r\nQ 18.3125 41.40625 16.84375 37.9375 \r\nQ 15.375 34.46875 15.375 28.375 \r\nL 15.375 0 \r\nz\r\n\" id=\"ArialMT-104\"/>\r\n        <path d=\"M 6.640625 61.46875 \r\nL 6.640625 71.578125 \r\nL 15.4375 71.578125 \r\nL 15.4375 61.46875 \r\nz\r\nM 6.640625 0 \r\nL 6.640625 51.859375 \r\nL 15.4375 51.859375 \r\nL 15.4375 0 \r\nz\r\n\" id=\"ArialMT-105\"/>\r\n        <path d=\"M 0.734375 0 \r\nL 19.671875 26.953125 \r\nL 2.15625 51.859375 \r\nL 13.140625 51.859375 \r\nL 21.09375 39.703125 \r\nQ 23.34375 36.234375 24.703125 33.890625 \r\nQ 26.859375 37.109375 28.65625 39.59375 \r\nL 37.40625 51.859375 \r\nL 47.90625 51.859375 \r\nL 29.984375 27.4375 \r\nL 49.265625 0 \r\nL 38.484375 0 \r\nL 27.828125 16.109375 \r\nL 25 20.453125 \r\nL 11.375 0 \r\nz\r\n\" id=\"ArialMT-120\"/>\r\n       </defs>\r\n       <use xlink:href=\"#ArialMT-80\"/>\r\n       <use x=\"66.699219\" xlink:href=\"#ArialMT-104\"/>\r\n       <use x=\"122.314453\" xlink:href=\"#ArialMT-111\"/>\r\n       <use x=\"177.929688\" xlink:href=\"#ArialMT-101\"/>\r\n       <use x=\"233.544922\" xlink:href=\"#ArialMT-110\"/>\r\n       <use x=\"289.160156\" xlink:href=\"#ArialMT-105\"/>\r\n       <use x=\"311.376953\" xlink:href=\"#ArialMT-120\"/>\r\n      </g>\r\n     </g>\r\n    </g>\r\n    <g id=\"xtick_3\">\r\n     <g id=\"text_3\">\r\n      <!-- Houston -->\r\n      <g style=\"fill:#262626;\" transform=\"translate(243.045313 257.173281)scale(0.1 -0.1)\">\r\n       <defs>\r\n        <path d=\"M 8.015625 0 \r\nL 8.015625 71.578125 \r\nL 17.484375 71.578125 \r\nL 17.484375 42.1875 \r\nL 54.6875 42.1875 \r\nL 54.6875 71.578125 \r\nL 64.15625 71.578125 \r\nL 64.15625 0 \r\nL 54.6875 0 \r\nL 54.6875 33.734375 \r\nL 17.484375 33.734375 \r\nL 17.484375 0 \r\nz\r\n\" id=\"ArialMT-72\"/>\r\n        <path d=\"M 40.578125 0 \r\nL 40.578125 7.625 \r\nQ 34.515625 -1.171875 24.125 -1.171875 \r\nQ 19.53125 -1.171875 15.546875 0.578125 \r\nQ 11.578125 2.34375 9.640625 5 \r\nQ 7.71875 7.671875 6.9375 11.53125 \r\nQ 6.390625 14.109375 6.390625 19.734375 \r\nL 6.390625 51.859375 \r\nL 15.1875 51.859375 \r\nL 15.1875 23.09375 \r\nQ 15.1875 16.21875 15.71875 13.8125 \r\nQ 16.546875 10.359375 19.234375 8.375 \r\nQ 21.921875 6.390625 25.875 6.390625 \r\nQ 29.828125 6.390625 33.296875 8.421875 \r\nQ 36.765625 10.453125 38.203125 13.9375 \r\nQ 39.65625 17.4375 39.65625 24.078125 \r\nL 39.65625 51.859375 \r\nL 48.4375 51.859375 \r\nL 48.4375 0 \r\nz\r\n\" id=\"ArialMT-117\"/>\r\n        <path d=\"M 25.78125 7.859375 \r\nL 27.046875 0.09375 \r\nQ 23.34375 -0.6875 20.40625 -0.6875 \r\nQ 15.625 -0.6875 12.984375 0.828125 \r\nQ 10.359375 2.34375 9.28125 4.8125 \r\nQ 8.203125 7.28125 8.203125 15.1875 \r\nL 8.203125 45.015625 \r\nL 1.765625 45.015625 \r\nL 1.765625 51.859375 \r\nL 8.203125 51.859375 \r\nL 8.203125 64.703125 \r\nL 16.9375 69.96875 \r\nL 16.9375 51.859375 \r\nL 25.78125 51.859375 \r\nL 25.78125 45.015625 \r\nL 16.9375 45.015625 \r\nL 16.9375 14.703125 \r\nQ 16.9375 10.9375 17.40625 9.859375 \r\nQ 17.875 8.796875 18.921875 8.15625 \r\nQ 19.96875 7.515625 21.921875 7.515625 \r\nQ 23.390625 7.515625 25.78125 7.859375 \r\nz\r\n\" id=\"ArialMT-116\"/>\r\n       </defs>\r\n       <use xlink:href=\"#ArialMT-72\"/>\r\n       <use x=\"72.216797\" xlink:href=\"#ArialMT-111\"/>\r\n       <use x=\"127.832031\" xlink:href=\"#ArialMT-117\"/>\r\n       <use x=\"183.447266\" xlink:href=\"#ArialMT-115\"/>\r\n       <use x=\"233.447266\" xlink:href=\"#ArialMT-116\"/>\r\n       <use x=\"261.230469\" xlink:href=\"#ArialMT-111\"/>\r\n       <use x=\"316.845703\" xlink:href=\"#ArialMT-110\"/>\r\n      </g>\r\n     </g>\r\n    </g>\r\n    <g id=\"xtick_4\">\r\n     <g id=\"text_4\">\r\n      <!-- Chicago -->\r\n      <g style=\"fill:#262626;\" transform=\"translate(332.603438 257.295156)scale(0.1 -0.1)\">\r\n       <defs>\r\n        <path d=\"M 58.796875 25.09375 \r\nL 68.265625 22.703125 \r\nQ 65.28125 11.03125 57.546875 4.90625 \r\nQ 49.8125 -1.21875 38.625 -1.21875 \r\nQ 27.046875 -1.21875 19.796875 3.484375 \r\nQ 12.546875 8.203125 8.765625 17.140625 \r\nQ 4.984375 26.078125 4.984375 36.328125 \r\nQ 4.984375 47.515625 9.25 55.828125 \r\nQ 13.53125 64.15625 21.40625 68.46875 \r\nQ 29.296875 72.796875 38.765625 72.796875 \r\nQ 49.515625 72.796875 56.828125 67.328125 \r\nQ 64.15625 61.859375 67.046875 51.953125 \r\nL 57.71875 49.75 \r\nQ 55.21875 57.5625 50.484375 61.125 \r\nQ 45.75 64.703125 38.578125 64.703125 \r\nQ 30.328125 64.703125 24.78125 60.734375 \r\nQ 19.234375 56.78125 16.984375 50.109375 \r\nQ 14.75 43.453125 14.75 36.375 \r\nQ 14.75 27.25 17.40625 20.4375 \r\nQ 20.0625 13.625 25.671875 10.25 \r\nQ 31.296875 6.890625 37.84375 6.890625 \r\nQ 45.796875 6.890625 51.3125 11.46875 \r\nQ 56.84375 16.0625 58.796875 25.09375 \r\nz\r\n\" id=\"ArialMT-67\"/>\r\n        <path d=\"M 40.4375 19 \r\nL 49.078125 17.875 \r\nQ 47.65625 8.9375 41.8125 3.875 \r\nQ 35.984375 -1.171875 27.484375 -1.171875 \r\nQ 16.84375 -1.171875 10.375 5.78125 \r\nQ 3.90625 12.75 3.90625 25.734375 \r\nQ 3.90625 34.125 6.6875 40.421875 \r\nQ 9.46875 46.734375 15.15625 49.875 \r\nQ 20.84375 53.03125 27.546875 53.03125 \r\nQ 35.984375 53.03125 41.359375 48.75 \r\nQ 46.734375 44.484375 48.25 36.625 \r\nL 39.703125 35.296875 \r\nQ 38.484375 40.53125 35.375 43.15625 \r\nQ 32.28125 45.796875 27.875 45.796875 \r\nQ 21.234375 45.796875 17.078125 41.03125 \r\nQ 12.9375 36.28125 12.9375 25.984375 \r\nQ 12.9375 15.53125 16.9375 10.796875 \r\nQ 20.953125 6.0625 27.390625 6.0625 \r\nQ 32.5625 6.0625 36.03125 9.234375 \r\nQ 39.5 12.40625 40.4375 19 \r\nz\r\n\" id=\"ArialMT-99\"/>\r\n        <path d=\"M 40.4375 6.390625 \r\nQ 35.546875 2.25 31.03125 0.53125 \r\nQ 26.515625 -1.171875 21.34375 -1.171875 \r\nQ 12.796875 -1.171875 8.203125 3 \r\nQ 3.609375 7.171875 3.609375 13.671875 \r\nQ 3.609375 17.484375 5.34375 20.625 \r\nQ 7.078125 23.78125 9.890625 25.6875 \r\nQ 12.703125 27.59375 16.21875 28.5625 \r\nQ 18.796875 29.25 24.03125 29.890625 \r\nQ 34.671875 31.15625 39.703125 32.90625 \r\nQ 39.75 34.71875 39.75 35.203125 \r\nQ 39.75 40.578125 37.25 42.78125 \r\nQ 33.890625 45.75 27.25 45.75 \r\nQ 21.046875 45.75 18.09375 43.578125 \r\nQ 15.140625 41.40625 13.71875 35.890625 \r\nL 5.125 37.0625 \r\nQ 6.296875 42.578125 8.984375 45.96875 \r\nQ 11.671875 49.359375 16.75 51.1875 \r\nQ 21.828125 53.03125 28.515625 53.03125 \r\nQ 35.15625 53.03125 39.296875 51.46875 \r\nQ 43.453125 49.90625 45.40625 47.53125 \r\nQ 47.359375 45.171875 48.140625 41.546875 \r\nQ 48.578125 39.3125 48.578125 33.453125 \r\nL 48.578125 21.734375 \r\nQ 48.578125 9.46875 49.140625 6.21875 \r\nQ 49.703125 2.984375 51.375 0 \r\nL 42.1875 0 \r\nQ 40.828125 2.734375 40.4375 6.390625 \r\nz\r\nM 39.703125 26.03125 \r\nQ 34.90625 24.078125 25.34375 22.703125 \r\nQ 19.921875 21.921875 17.671875 20.9375 \r\nQ 15.4375 19.96875 14.203125 18.09375 \r\nQ 12.984375 16.21875 12.984375 13.921875 \r\nQ 12.984375 10.40625 15.640625 8.0625 \r\nQ 18.3125 5.71875 23.4375 5.71875 \r\nQ 28.515625 5.71875 32.46875 7.9375 \r\nQ 36.421875 10.15625 38.28125 14.015625 \r\nQ 39.703125 17 39.703125 22.796875 \r\nz\r\n\" id=\"ArialMT-97\"/>\r\n       </defs>\r\n       <use xlink:href=\"#ArialMT-67\"/>\r\n       <use x=\"72.216797\" xlink:href=\"#ArialMT-104\"/>\r\n       <use x=\"127.832031\" xlink:href=\"#ArialMT-105\"/>\r\n       <use x=\"150.048828\" xlink:href=\"#ArialMT-99\"/>\r\n       <use x=\"200.048828\" xlink:href=\"#ArialMT-97\"/>\r\n       <use x=\"255.664062\" xlink:href=\"#ArialMT-103\"/>\r\n       <use x=\"311.279297\" xlink:href=\"#ArialMT-111\"/>\r\n      </g>\r\n     </g>\r\n    </g>\r\n    <g id=\"xtick_5\">\r\n     <g id=\"text_5\">\r\n      <!-- Columbus -->\r\n      <g style=\"fill:#262626;\" transform=\"translate(417.718594 257.173281)scale(0.1 -0.1)\">\r\n       <defs>\r\n        <path d=\"M 6.59375 0 \r\nL 6.59375 51.859375 \r\nL 14.453125 51.859375 \r\nL 14.453125 44.578125 \r\nQ 16.890625 48.390625 20.9375 50.703125 \r\nQ 25 53.03125 30.171875 53.03125 \r\nQ 35.9375 53.03125 39.625 50.640625 \r\nQ 43.3125 48.25 44.828125 43.953125 \r\nQ 50.984375 53.03125 60.84375 53.03125 \r\nQ 68.5625 53.03125 72.703125 48.75 \r\nQ 76.859375 44.484375 76.859375 35.59375 \r\nL 76.859375 0 \r\nL 68.109375 0 \r\nL 68.109375 32.671875 \r\nQ 68.109375 37.9375 67.25 40.25 \r\nQ 66.40625 42.578125 64.15625 43.984375 \r\nQ 61.921875 45.40625 58.890625 45.40625 \r\nQ 53.421875 45.40625 49.796875 41.765625 \r\nQ 46.1875 38.140625 46.1875 30.125 \r\nL 46.1875 0 \r\nL 37.40625 0 \r\nL 37.40625 33.6875 \r\nQ 37.40625 39.546875 35.25 42.46875 \r\nQ 33.109375 45.40625 28.21875 45.40625 \r\nQ 24.515625 45.40625 21.359375 43.453125 \r\nQ 18.21875 41.5 16.796875 37.734375 \r\nQ 15.375 33.984375 15.375 26.90625 \r\nL 15.375 0 \r\nz\r\n\" id=\"ArialMT-109\"/>\r\n        <path d=\"M 14.703125 0 \r\nL 6.546875 0 \r\nL 6.546875 71.578125 \r\nL 15.328125 71.578125 \r\nL 15.328125 46.046875 \r\nQ 20.90625 53.03125 29.546875 53.03125 \r\nQ 34.328125 53.03125 38.59375 51.09375 \r\nQ 42.875 49.171875 45.625 45.671875 \r\nQ 48.390625 42.1875 49.953125 37.25 \r\nQ 51.515625 32.328125 51.515625 26.703125 \r\nQ 51.515625 13.375 44.921875 6.09375 \r\nQ 38.328125 -1.171875 29.109375 -1.171875 \r\nQ 19.921875 -1.171875 14.703125 6.5 \r\nz\r\nM 14.59375 26.3125 \r\nQ 14.59375 17 17.140625 12.84375 \r\nQ 21.296875 6.0625 28.375 6.0625 \r\nQ 34.125 6.0625 38.328125 11.0625 \r\nQ 42.53125 16.0625 42.53125 25.984375 \r\nQ 42.53125 36.140625 38.5 40.96875 \r\nQ 34.46875 45.796875 28.765625 45.796875 \r\nQ 23 45.796875 18.796875 40.796875 \r\nQ 14.59375 35.796875 14.59375 26.3125 \r\nz\r\n\" id=\"ArialMT-98\"/>\r\n       </defs>\r\n       <use xlink:href=\"#ArialMT-67\"/>\r\n       <use x=\"72.216797\" xlink:href=\"#ArialMT-111\"/>\r\n       <use x=\"127.832031\" xlink:href=\"#ArialMT-108\"/>\r\n       <use x=\"150.048828\" xlink:href=\"#ArialMT-117\"/>\r\n       <use x=\"205.664062\" xlink:href=\"#ArialMT-109\"/>\r\n       <use x=\"288.964844\" xlink:href=\"#ArialMT-98\"/>\r\n       <use x=\"344.580078\" xlink:href=\"#ArialMT-117\"/>\r\n       <use x=\"400.195312\" xlink:href=\"#ArialMT-115\"/>\r\n      </g>\r\n     </g>\r\n    </g>\r\n    <g id=\"text_6\">\r\n     <!-- City -->\r\n     <g style=\"fill:#262626;\" transform=\"translate(253.05625 270.679531)scale(0.1 -0.1)\">\r\n      <defs>\r\n       <path d=\"M 6.203125 -19.96875 \r\nL 5.21875 -11.71875 \r\nQ 8.109375 -12.5 10.25 -12.5 \r\nQ 13.1875 -12.5 14.9375 -11.515625 \r\nQ 16.703125 -10.546875 17.828125 -8.796875 \r\nQ 18.65625 -7.46875 20.515625 -2.25 \r\nQ 20.75 -1.515625 21.296875 -0.09375 \r\nL 1.609375 51.859375 \r\nL 11.078125 51.859375 \r\nL 21.875 21.828125 \r\nQ 23.96875 16.109375 25.640625 9.8125 \r\nQ 27.15625 15.875 29.25 21.625 \r\nL 40.328125 51.859375 \r\nL 49.125 51.859375 \r\nL 29.390625 -0.875 \r\nQ 26.21875 -9.421875 24.46875 -12.640625 \r\nQ 22.125 -17 19.09375 -19.015625 \r\nQ 16.0625 -21.046875 11.859375 -21.046875 \r\nQ 9.328125 -21.046875 6.203125 -19.96875 \r\nz\r\n\" id=\"ArialMT-121\"/>\r\n      </defs>\r\n      <use xlink:href=\"#ArialMT-67\"/>\r\n      <use x=\"72.216797\" xlink:href=\"#ArialMT-105\"/>\r\n      <use x=\"94.433594\" xlink:href=\"#ArialMT-116\"/>\r\n      <use x=\"122.216797\" xlink:href=\"#ArialMT-121\"/>\r\n     </g>\r\n    </g>\r\n   </g>\r\n   <g id=\"matplotlib.axis_2\">\r\n    <g id=\"ytick_1\">\r\n     <g id=\"line2d_1\">\r\n      <path clip-path=\"url(#p2e2bb3a3f3)\" d=\"M 38.467188 243.015469 \r\nL 484.867188 243.015469 \r\n\" style=\"fill:none;stroke:#cccccc;stroke-linecap:round;stroke-width:0.8;\"/>\r\n     </g>\r\n     <g id=\"text_7\">\r\n      <!-- 0 -->\r\n      <g style=\"fill:#262626;\" transform=\"translate(25.90625 246.594375)scale(0.1 -0.1)\">\r\n       <defs>\r\n        <path d=\"M 4.15625 35.296875 \r\nQ 4.15625 48 6.765625 55.734375 \r\nQ 9.375 63.484375 14.515625 67.671875 \r\nQ 19.671875 71.875 27.484375 71.875 \r\nQ 33.25 71.875 37.59375 69.546875 \r\nQ 41.9375 67.234375 44.765625 62.859375 \r\nQ 47.609375 58.5 49.21875 52.21875 \r\nQ 50.828125 45.953125 50.828125 35.296875 \r\nQ 50.828125 22.703125 48.234375 14.96875 \r\nQ 45.65625 7.234375 40.5 3 \r\nQ 35.359375 -1.21875 27.484375 -1.21875 \r\nQ 17.140625 -1.21875 11.234375 6.203125 \r\nQ 4.15625 15.140625 4.15625 35.296875 \r\nz\r\nM 13.1875 35.296875 \r\nQ 13.1875 17.671875 17.3125 11.828125 \r\nQ 21.4375 6 27.484375 6 \r\nQ 33.546875 6 37.671875 11.859375 \r\nQ 41.796875 17.71875 41.796875 35.296875 \r\nQ 41.796875 52.984375 37.671875 58.78125 \r\nQ 33.546875 64.59375 27.390625 64.59375 \r\nQ 21.34375 64.59375 17.71875 59.46875 \r\nQ 13.1875 52.9375 13.1875 35.296875 \r\nz\r\n\" id=\"ArialMT-48\"/>\r\n       </defs>\r\n       <use xlink:href=\"#ArialMT-48\"/>\r\n      </g>\r\n     </g>\r\n    </g>\r\n    <g id=\"ytick_2\">\r\n     <g id=\"line2d_2\">\r\n      <path clip-path=\"url(#p2e2bb3a3f3)\" d=\"M 38.467188 214.253564 \r\nL 484.867188 214.253564 \r\n\" style=\"fill:none;stroke:#cccccc;stroke-linecap:round;stroke-width:0.8;\"/>\r\n     </g>\r\n     <g id=\"text_8\">\r\n      <!-- 5 -->\r\n      <g style=\"fill:#262626;\" transform=\"translate(25.90625 217.83247)scale(0.1 -0.1)\">\r\n       <defs>\r\n        <path d=\"M 4.15625 18.75 \r\nL 13.375 19.53125 \r\nQ 14.40625 12.796875 18.140625 9.390625 \r\nQ 21.875 6 27.15625 6 \r\nQ 33.5 6 37.890625 10.78125 \r\nQ 42.28125 15.578125 42.28125 23.484375 \r\nQ 42.28125 31 38.0625 35.34375 \r\nQ 33.84375 39.703125 27 39.703125 \r\nQ 22.75 39.703125 19.328125 37.765625 \r\nQ 15.921875 35.84375 13.96875 32.765625 \r\nL 5.71875 33.84375 \r\nL 12.640625 70.609375 \r\nL 48.25 70.609375 \r\nL 48.25 62.203125 \r\nL 19.671875 62.203125 \r\nL 15.828125 42.96875 \r\nQ 22.265625 47.46875 29.34375 47.46875 \r\nQ 38.71875 47.46875 45.15625 40.96875 \r\nQ 51.609375 34.46875 51.609375 24.265625 \r\nQ 51.609375 14.546875 45.953125 7.46875 \r\nQ 39.0625 -1.21875 27.15625 -1.21875 \r\nQ 17.390625 -1.21875 11.203125 4.25 \r\nQ 5.03125 9.71875 4.15625 18.75 \r\nz\r\n\" id=\"ArialMT-53\"/>\r\n       </defs>\r\n       <use xlink:href=\"#ArialMT-53\"/>\r\n      </g>\r\n     </g>\r\n    </g>\r\n    <g id=\"ytick_3\">\r\n     <g id=\"line2d_3\">\r\n      <path clip-path=\"url(#p2e2bb3a3f3)\" d=\"M 38.467188 185.491659 \r\nL 484.867188 185.491659 \r\n\" style=\"fill:none;stroke:#cccccc;stroke-linecap:round;stroke-width:0.8;\"/>\r\n     </g>\r\n     <g id=\"text_9\">\r\n      <!-- 10 -->\r\n      <g style=\"fill:#262626;\" transform=\"translate(20.345313 189.070565)scale(0.1 -0.1)\">\r\n       <defs>\r\n        <path d=\"M 37.25 0 \r\nL 28.46875 0 \r\nL 28.46875 56 \r\nQ 25.296875 52.984375 20.140625 49.953125 \r\nQ 14.984375 46.921875 10.890625 45.40625 \r\nL 10.890625 53.90625 \r\nQ 18.265625 57.375 23.78125 62.296875 \r\nQ 29.296875 67.234375 31.59375 71.875 \r\nL 37.25 71.875 \r\nz\r\n\" id=\"ArialMT-49\"/>\r\n       </defs>\r\n       <use xlink:href=\"#ArialMT-49\"/>\r\n       <use x=\"55.615234\" xlink:href=\"#ArialMT-48\"/>\r\n      </g>\r\n     </g>\r\n    </g>\r\n    <g id=\"ytick_4\">\r\n     <g id=\"line2d_4\">\r\n      <path clip-path=\"url(#p2e2bb3a3f3)\" d=\"M 38.467188 156.729754 \r\nL 484.867188 156.729754 \r\n\" style=\"fill:none;stroke:#cccccc;stroke-linecap:round;stroke-width:0.8;\"/>\r\n     </g>\r\n     <g id=\"text_10\">\r\n      <!-- 15 -->\r\n      <g style=\"fill:#262626;\" transform=\"translate(20.345313 160.308661)scale(0.1 -0.1)\">\r\n       <use xlink:href=\"#ArialMT-49\"/>\r\n       <use x=\"55.615234\" xlink:href=\"#ArialMT-53\"/>\r\n      </g>\r\n     </g>\r\n    </g>\r\n    <g id=\"ytick_5\">\r\n     <g id=\"line2d_5\">\r\n      <path clip-path=\"url(#p2e2bb3a3f3)\" d=\"M 38.467188 127.96785 \r\nL 484.867188 127.96785 \r\n\" style=\"fill:none;stroke:#cccccc;stroke-linecap:round;stroke-width:0.8;\"/>\r\n     </g>\r\n     <g id=\"text_11\">\r\n      <!-- 20 -->\r\n      <g style=\"fill:#262626;\" transform=\"translate(20.345313 131.546756)scale(0.1 -0.1)\">\r\n       <defs>\r\n        <path d=\"M 50.34375 8.453125 \r\nL 50.34375 0 \r\nL 3.03125 0 \r\nQ 2.9375 3.171875 4.046875 6.109375 \r\nQ 5.859375 10.9375 9.828125 15.625 \r\nQ 13.8125 20.3125 21.34375 26.46875 \r\nQ 33.015625 36.03125 37.109375 41.625 \r\nQ 41.21875 47.21875 41.21875 52.203125 \r\nQ 41.21875 57.421875 37.46875 61 \r\nQ 33.734375 64.59375 27.734375 64.59375 \r\nQ 21.390625 64.59375 17.578125 60.78125 \r\nQ 13.765625 56.984375 13.71875 50.25 \r\nL 4.6875 51.171875 \r\nQ 5.609375 61.28125 11.65625 66.578125 \r\nQ 17.71875 71.875 27.9375 71.875 \r\nQ 38.234375 71.875 44.234375 66.15625 \r\nQ 50.25 60.453125 50.25 52 \r\nQ 50.25 47.703125 48.484375 43.546875 \r\nQ 46.734375 39.40625 42.65625 34.8125 \r\nQ 38.578125 30.21875 29.109375 22.21875 \r\nQ 21.1875 15.578125 18.9375 13.203125 \r\nQ 16.703125 10.84375 15.234375 8.453125 \r\nz\r\n\" id=\"ArialMT-50\"/>\r\n       </defs>\r\n       <use xlink:href=\"#ArialMT-50\"/>\r\n       <use x=\"55.615234\" xlink:href=\"#ArialMT-48\"/>\r\n      </g>\r\n     </g>\r\n    </g>\r\n    <g id=\"ytick_6\">\r\n     <g id=\"line2d_6\">\r\n      <path clip-path=\"url(#p2e2bb3a3f3)\" d=\"M 38.467188 99.205945 \r\nL 484.867188 99.205945 \r\n\" style=\"fill:none;stroke:#cccccc;stroke-linecap:round;stroke-width:0.8;\"/>\r\n     </g>\r\n     <g id=\"text_12\">\r\n      <!-- 25 -->\r\n      <g style=\"fill:#262626;\" transform=\"translate(20.345313 102.784851)scale(0.1 -0.1)\">\r\n       <use xlink:href=\"#ArialMT-50\"/>\r\n       <use x=\"55.615234\" xlink:href=\"#ArialMT-53\"/>\r\n      </g>\r\n     </g>\r\n    </g>\r\n    <g id=\"ytick_7\">\r\n     <g id=\"line2d_7\">\r\n      <path clip-path=\"url(#p2e2bb3a3f3)\" d=\"M 38.467188 70.44404 \r\nL 484.867188 70.44404 \r\n\" style=\"fill:none;stroke:#cccccc;stroke-linecap:round;stroke-width:0.8;\"/>\r\n     </g>\r\n     <g id=\"text_13\">\r\n      <!-- 30 -->\r\n      <g style=\"fill:#262626;\" transform=\"translate(20.345313 74.022946)scale(0.1 -0.1)\">\r\n       <defs>\r\n        <path d=\"M 4.203125 18.890625 \r\nL 12.984375 20.0625 \r\nQ 14.5 12.59375 18.140625 9.296875 \r\nQ 21.78125 6 27 6 \r\nQ 33.203125 6 37.46875 10.296875 \r\nQ 41.75 14.59375 41.75 20.953125 \r\nQ 41.75 27 37.796875 30.921875 \r\nQ 33.84375 34.859375 27.734375 34.859375 \r\nQ 25.25 34.859375 21.53125 33.890625 \r\nL 22.515625 41.609375 \r\nQ 23.390625 41.5 23.921875 41.5 \r\nQ 29.546875 41.5 34.03125 44.421875 \r\nQ 38.53125 47.359375 38.53125 53.46875 \r\nQ 38.53125 58.296875 35.25 61.46875 \r\nQ 31.984375 64.65625 26.8125 64.65625 \r\nQ 21.6875 64.65625 18.265625 61.421875 \r\nQ 14.84375 58.203125 13.875 51.765625 \r\nL 5.078125 53.328125 \r\nQ 6.6875 62.15625 12.390625 67.015625 \r\nQ 18.109375 71.875 26.609375 71.875 \r\nQ 32.46875 71.875 37.390625 69.359375 \r\nQ 42.328125 66.84375 44.9375 62.5 \r\nQ 47.5625 58.15625 47.5625 53.265625 \r\nQ 47.5625 48.640625 45.0625 44.828125 \r\nQ 42.578125 41.015625 37.703125 38.765625 \r\nQ 44.046875 37.3125 47.5625 32.6875 \r\nQ 51.078125 28.078125 51.078125 21.140625 \r\nQ 51.078125 11.765625 44.234375 5.25 \r\nQ 37.40625 -1.265625 26.953125 -1.265625 \r\nQ 17.53125 -1.265625 11.296875 4.34375 \r\nQ 5.078125 9.96875 4.203125 18.890625 \r\nz\r\n\" id=\"ArialMT-51\"/>\r\n       </defs>\r\n       <use xlink:href=\"#ArialMT-51\"/>\r\n       <use x=\"55.615234\" xlink:href=\"#ArialMT-48\"/>\r\n      </g>\r\n     </g>\r\n    </g>\r\n    <g id=\"ytick_8\">\r\n     <g id=\"line2d_8\">\r\n      <path clip-path=\"url(#p2e2bb3a3f3)\" d=\"M 38.467188 41.682135 \r\nL 484.867188 41.682135 \r\n\" style=\"fill:none;stroke:#cccccc;stroke-linecap:round;stroke-width:0.8;\"/>\r\n     </g>\r\n     <g id=\"text_14\">\r\n      <!-- 35 -->\r\n      <g style=\"fill:#262626;\" transform=\"translate(20.345313 45.261042)scale(0.1 -0.1)\">\r\n       <use xlink:href=\"#ArialMT-51\"/>\r\n       <use x=\"55.615234\" xlink:href=\"#ArialMT-53\"/>\r\n      </g>\r\n     </g>\r\n    </g>\r\n    <g id=\"text_15\">\r\n     <!-- Amount People Killed -->\r\n     <g style=\"fill:#262626;\" transform=\"translate(14.357813 182.100937)rotate(-90)scale(0.1 -0.1)\">\r\n      <defs>\r\n       <path d=\"M 6.59375 -19.875 \r\nL 6.59375 51.859375 \r\nL 14.59375 51.859375 \r\nL 14.59375 45.125 \r\nQ 17.4375 49.078125 21 51.046875 \r\nQ 24.5625 53.03125 29.640625 53.03125 \r\nQ 36.28125 53.03125 41.359375 49.609375 \r\nQ 46.4375 46.1875 49.015625 39.953125 \r\nQ 51.609375 33.734375 51.609375 26.3125 \r\nQ 51.609375 18.359375 48.75 11.984375 \r\nQ 45.90625 5.609375 40.453125 2.21875 \r\nQ 35.015625 -1.171875 29 -1.171875 \r\nQ 24.609375 -1.171875 21.109375 0.6875 \r\nQ 17.625 2.546875 15.375 5.375 \r\nL 15.375 -19.875 \r\nz\r\nM 14.546875 25.640625 \r\nQ 14.546875 15.625 18.59375 10.84375 \r\nQ 22.65625 6.0625 28.421875 6.0625 \r\nQ 34.28125 6.0625 38.453125 11.015625 \r\nQ 42.625 15.96875 42.625 26.375 \r\nQ 42.625 36.28125 38.546875 41.203125 \r\nQ 34.46875 46.140625 28.8125 46.140625 \r\nQ 23.1875 46.140625 18.859375 40.890625 \r\nQ 14.546875 35.640625 14.546875 25.640625 \r\nz\r\n\" id=\"ArialMT-112\"/>\r\n       <path d=\"M 7.328125 0 \r\nL 7.328125 71.578125 \r\nL 16.796875 71.578125 \r\nL 16.796875 36.078125 \r\nL 52.34375 71.578125 \r\nL 65.1875 71.578125 \r\nL 35.15625 42.578125 \r\nL 66.5 0 \r\nL 54 0 \r\nL 28.515625 36.234375 \r\nL 16.796875 24.8125 \r\nL 16.796875 0 \r\nz\r\n\" id=\"ArialMT-75\"/>\r\n       <path d=\"M 40.234375 0 \r\nL 40.234375 6.546875 \r\nQ 35.296875 -1.171875 25.734375 -1.171875 \r\nQ 19.53125 -1.171875 14.328125 2.25 \r\nQ 9.125 5.671875 6.265625 11.796875 \r\nQ 3.421875 17.921875 3.421875 25.875 \r\nQ 3.421875 33.640625 6 39.96875 \r\nQ 8.59375 46.296875 13.765625 49.65625 \r\nQ 18.953125 53.03125 25.34375 53.03125 \r\nQ 30.03125 53.03125 33.6875 51.046875 \r\nQ 37.359375 49.078125 39.65625 45.90625 \r\nL 39.65625 71.578125 \r\nL 48.390625 71.578125 \r\nL 48.390625 0 \r\nz\r\nM 12.453125 25.875 \r\nQ 12.453125 15.921875 16.640625 10.984375 \r\nQ 20.84375 6.0625 26.5625 6.0625 \r\nQ 32.328125 6.0625 36.34375 10.765625 \r\nQ 40.375 15.484375 40.375 25.140625 \r\nQ 40.375 35.796875 36.265625 40.765625 \r\nQ 32.171875 45.75 26.171875 45.75 \r\nQ 20.3125 45.75 16.375 40.96875 \r\nQ 12.453125 36.1875 12.453125 25.875 \r\nz\r\n\" id=\"ArialMT-100\"/>\r\n      </defs>\r\n      <use xlink:href=\"#ArialMT-65\"/>\r\n      <use x=\"66.699219\" xlink:href=\"#ArialMT-109\"/>\r\n      <use x=\"150\" xlink:href=\"#ArialMT-111\"/>\r\n      <use x=\"205.615234\" xlink:href=\"#ArialMT-117\"/>\r\n      <use x=\"261.230469\" xlink:href=\"#ArialMT-110\"/>\r\n      <use x=\"316.845703\" xlink:href=\"#ArialMT-116\"/>\r\n      <use x=\"344.628906\" xlink:href=\"#ArialMT-32\"/>\r\n      <use x=\"372.412109\" xlink:href=\"#ArialMT-80\"/>\r\n      <use x=\"439.111328\" xlink:href=\"#ArialMT-101\"/>\r\n      <use x=\"494.726562\" xlink:href=\"#ArialMT-111\"/>\r\n      <use x=\"550.341797\" xlink:href=\"#ArialMT-112\"/>\r\n      <use x=\"605.957031\" xlink:href=\"#ArialMT-108\"/>\r\n      <use x=\"628.173828\" xlink:href=\"#ArialMT-101\"/>\r\n      <use x=\"683.789062\" xlink:href=\"#ArialMT-32\"/>\r\n      <use x=\"711.572266\" xlink:href=\"#ArialMT-75\"/>\r\n      <use x=\"778.271484\" xlink:href=\"#ArialMT-105\"/>\r\n      <use x=\"800.488281\" xlink:href=\"#ArialMT-108\"/>\r\n      <use x=\"822.705078\" xlink:href=\"#ArialMT-108\"/>\r\n      <use x=\"844.921875\" xlink:href=\"#ArialMT-101\"/>\r\n      <use x=\"900.537109\" xlink:href=\"#ArialMT-100\"/>\r\n     </g>\r\n    </g>\r\n   </g>\r\n   <g id=\"patch_3\">\r\n    <path clip-path=\"url(#p2e2bb3a3f3)\" d=\"M 47.395188 243.015469 \r\nL 118.819188 243.015469 \r\nL 118.819188 35.929754 \r\nL 47.395188 35.929754 \r\nz\r\n\" style=\"fill:#3274a1;stroke:#ffffff;stroke-linejoin:miter;\"/>\r\n   </g>\r\n   <g id=\"patch_4\">\r\n    <path clip-path=\"url(#p2e2bb3a3f3)\" d=\"M 136.675187 243.015469 \r\nL 208.099187 243.015469 \r\nL 208.099187 81.948802 \r\nL 136.675187 81.948802 \r\nz\r\n\" style=\"fill:#e1812c;stroke:#ffffff;stroke-linejoin:miter;\"/>\r\n   </g>\r\n   <g id=\"patch_5\">\r\n    <path clip-path=\"url(#p2e2bb3a3f3)\" d=\"M 225.955188 243.015469 \r\nL 297.379188 243.015469 \r\nL 297.379188 93.453564 \r\nL 225.955188 93.453564 \r\nz\r\n\" style=\"fill:#3a923a;stroke:#ffffff;stroke-linejoin:miter;\"/>\r\n   </g>\r\n   <g id=\"patch_6\">\r\n    <path clip-path=\"url(#p2e2bb3a3f3)\" d=\"M 315.235188 243.015469 \r\nL 386.659188 243.015469 \r\nL 386.659188 104.958326 \r\nL 315.235188 104.958326 \r\nz\r\n\" style=\"fill:#c03d3e;stroke:#ffffff;stroke-linejoin:miter;\"/>\r\n   </g>\r\n   <g id=\"patch_7\">\r\n    <path clip-path=\"url(#p2e2bb3a3f3)\" d=\"M 404.515188 243.015469 \r\nL 475.939188 243.015469 \r\nL 475.939188 139.472612 \r\nL 404.515188 139.472612 \r\nz\r\n\" style=\"fill:#9372b2;stroke:#ffffff;stroke-linejoin:miter;\"/>\r\n   </g>\r\n   <g id=\"line2d_9\">\r\n    <path clip-path=\"url(#p2e2bb3a3f3)\" d=\"M 0 0 \r\n\" style=\"fill:none;stroke:#424242;stroke-linecap:round;stroke-width:2.7;\"/>\r\n   </g>\r\n   <g id=\"line2d_10\">\r\n    <path clip-path=\"url(#p2e2bb3a3f3)\" d=\"M 0 0 \r\n\" style=\"fill:none;stroke:#424242;stroke-linecap:round;stroke-width:2.7;\"/>\r\n   </g>\r\n   <g id=\"line2d_11\">\r\n    <path clip-path=\"url(#p2e2bb3a3f3)\" d=\"M 0 0 \r\n\" style=\"fill:none;stroke:#424242;stroke-linecap:round;stroke-width:2.7;\"/>\r\n   </g>\r\n   <g id=\"line2d_12\">\r\n    <path clip-path=\"url(#p2e2bb3a3f3)\" d=\"M 0 0 \r\n\" style=\"fill:none;stroke:#424242;stroke-linecap:round;stroke-width:2.7;\"/>\r\n   </g>\r\n   <g id=\"line2d_13\">\r\n    <path clip-path=\"url(#p2e2bb3a3f3)\" d=\"M 0 0 \r\n\" style=\"fill:none;stroke:#424242;stroke-linecap:round;stroke-width:2.7;\"/>\r\n   </g>\r\n   <g id=\"patch_8\">\r\n    <path d=\"M 38.467188 243.015469 \r\nL 38.467188 25.575469 \r\n\" style=\"fill:none;stroke:#cccccc;stroke-linecap:square;stroke-linejoin:miter;stroke-width:0.8;\"/>\r\n   </g>\r\n   <g id=\"patch_9\">\r\n    <path d=\"M 484.867188 243.015469 \r\nL 484.867188 25.575469 \r\n\" style=\"fill:none;stroke:#cccccc;stroke-linecap:square;stroke-linejoin:miter;stroke-width:0.8;\"/>\r\n   </g>\r\n   <g id=\"patch_10\">\r\n    <path d=\"M 38.467188 243.015469 \r\nL 484.867188 243.015469 \r\n\" style=\"fill:none;stroke:#cccccc;stroke-linecap:square;stroke-linejoin:miter;stroke-width:0.8;\"/>\r\n   </g>\r\n   <g id=\"patch_11\">\r\n    <path d=\"M 38.467188 25.575469 \r\nL 484.867188 25.575469 \r\n\" style=\"fill:none;stroke:#cccccc;stroke-linecap:square;stroke-linejoin:miter;stroke-width:0.8;\"/>\r\n   </g>\r\n   <g id=\"text_16\">\r\n    <!-- Top 5 cities with more Police Shooting -->\r\n    <g style=\"fill:#262626;\" transform=\"translate(118.523203 19.575469)scale(0.17 -0.17)\">\r\n     <defs>\r\n      <path d=\"M 25.921875 0 \r\nL 25.921875 63.140625 \r\nL 2.34375 63.140625 \r\nL 2.34375 71.578125 \r\nL 59.078125 71.578125 \r\nL 59.078125 63.140625 \r\nL 35.40625 63.140625 \r\nL 35.40625 0 \r\nz\r\n\" id=\"ArialMT-84\"/>\r\n      <path d=\"M 16.15625 0 \r\nL 0.296875 51.859375 \r\nL 9.375 51.859375 \r\nL 17.625 21.921875 \r\nL 20.703125 10.796875 \r\nQ 20.90625 11.625 23.390625 21.484375 \r\nL 31.640625 51.859375 \r\nL 40.671875 51.859375 \r\nL 48.4375 21.78125 \r\nL 51.03125 11.859375 \r\nL 54 21.875 \r\nL 62.890625 51.859375 \r\nL 71.4375 51.859375 \r\nL 55.21875 0 \r\nL 46.09375 0 \r\nL 37.84375 31.0625 \r\nL 35.84375 39.890625 \r\nL 25.34375 0 \r\nz\r\n\" id=\"ArialMT-119\"/>\r\n      <path d=\"M 6.5 0 \r\nL 6.5 51.859375 \r\nL 14.40625 51.859375 \r\nL 14.40625 44 \r\nQ 17.4375 49.515625 20 51.265625 \r\nQ 22.5625 53.03125 25.640625 53.03125 \r\nQ 30.078125 53.03125 34.671875 50.203125 \r\nL 31.640625 42.046875 \r\nQ 28.421875 43.953125 25.203125 43.953125 \r\nQ 22.3125 43.953125 20.015625 42.21875 \r\nQ 17.71875 40.484375 16.75 37.40625 \r\nQ 15.28125 32.71875 15.28125 27.15625 \r\nL 15.28125 0 \r\nz\r\n\" id=\"ArialMT-114\"/>\r\n      <path d=\"M 4.5 23 \r\nL 13.421875 23.78125 \r\nQ 14.0625 18.40625 16.375 14.96875 \r\nQ 18.703125 11.53125 23.578125 9.40625 \r\nQ 28.46875 7.28125 34.578125 7.28125 \r\nQ 39.984375 7.28125 44.140625 8.890625 \r\nQ 48.296875 10.5 50.3125 13.296875 \r\nQ 52.34375 16.109375 52.34375 19.4375 \r\nQ 52.34375 22.796875 50.390625 25.3125 \r\nQ 48.4375 27.828125 43.953125 29.546875 \r\nQ 41.0625 30.671875 31.203125 33.03125 \r\nQ 21.34375 35.40625 17.390625 37.5 \r\nQ 12.25 40.1875 9.734375 44.15625 \r\nQ 7.234375 48.140625 7.234375 53.078125 \r\nQ 7.234375 58.5 10.296875 63.203125 \r\nQ 13.375 67.921875 19.28125 70.359375 \r\nQ 25.203125 72.796875 32.421875 72.796875 \r\nQ 40.375 72.796875 46.453125 70.234375 \r\nQ 52.546875 67.671875 55.8125 62.6875 \r\nQ 59.078125 57.71875 59.328125 51.421875 \r\nL 50.25 50.734375 \r\nQ 49.515625 57.515625 45.28125 60.984375 \r\nQ 41.0625 64.453125 32.8125 64.453125 \r\nQ 24.21875 64.453125 20.28125 61.296875 \r\nQ 16.359375 58.15625 16.359375 53.71875 \r\nQ 16.359375 49.859375 19.140625 47.359375 \r\nQ 21.875 44.875 33.421875 42.265625 \r\nQ 44.96875 39.65625 49.265625 37.703125 \r\nQ 55.515625 34.8125 58.484375 30.390625 \r\nQ 61.46875 25.984375 61.46875 20.21875 \r\nQ 61.46875 14.5 58.203125 9.4375 \r\nQ 54.9375 4.390625 48.796875 1.578125 \r\nQ 42.671875 -1.21875 35.015625 -1.21875 \r\nQ 25.296875 -1.21875 18.71875 1.609375 \r\nQ 12.15625 4.4375 8.421875 10.125 \r\nQ 4.6875 15.828125 4.5 23 \r\nz\r\n\" id=\"ArialMT-83\"/>\r\n     </defs>\r\n     <use xlink:href=\"#ArialMT-84\"/>\r\n     <use x=\"49.958984\" xlink:href=\"#ArialMT-111\"/>\r\n     <use x=\"105.574219\" xlink:href=\"#ArialMT-112\"/>\r\n     <use x=\"161.189453\" xlink:href=\"#ArialMT-32\"/>\r\n     <use x=\"188.972656\" xlink:href=\"#ArialMT-53\"/>\r\n     <use x=\"244.587891\" xlink:href=\"#ArialMT-32\"/>\r\n     <use x=\"272.371094\" xlink:href=\"#ArialMT-99\"/>\r\n     <use x=\"322.371094\" xlink:href=\"#ArialMT-105\"/>\r\n     <use x=\"344.587891\" xlink:href=\"#ArialMT-116\"/>\r\n     <use x=\"372.371094\" xlink:href=\"#ArialMT-105\"/>\r\n     <use x=\"394.587891\" xlink:href=\"#ArialMT-101\"/>\r\n     <use x=\"450.203125\" xlink:href=\"#ArialMT-115\"/>\r\n     <use x=\"500.203125\" xlink:href=\"#ArialMT-32\"/>\r\n     <use x=\"527.986328\" xlink:href=\"#ArialMT-119\"/>\r\n     <use x=\"600.203125\" xlink:href=\"#ArialMT-105\"/>\r\n     <use x=\"622.419922\" xlink:href=\"#ArialMT-116\"/>\r\n     <use x=\"650.203125\" xlink:href=\"#ArialMT-104\"/>\r\n     <use x=\"705.818359\" xlink:href=\"#ArialMT-32\"/>\r\n     <use x=\"733.601562\" xlink:href=\"#ArialMT-109\"/>\r\n     <use x=\"816.902344\" xlink:href=\"#ArialMT-111\"/>\r\n     <use x=\"872.517578\" xlink:href=\"#ArialMT-114\"/>\r\n     <use x=\"905.818359\" xlink:href=\"#ArialMT-101\"/>\r\n     <use x=\"961.433594\" xlink:href=\"#ArialMT-32\"/>\r\n     <use x=\"989.216797\" xlink:href=\"#ArialMT-80\"/>\r\n     <use x=\"1055.916016\" xlink:href=\"#ArialMT-111\"/>\r\n     <use x=\"1111.53125\" xlink:href=\"#ArialMT-108\"/>\r\n     <use x=\"1133.748047\" xlink:href=\"#ArialMT-105\"/>\r\n     <use x=\"1155.964844\" xlink:href=\"#ArialMT-99\"/>\r\n     <use x=\"1205.964844\" xlink:href=\"#ArialMT-101\"/>\r\n     <use x=\"1261.580078\" xlink:href=\"#ArialMT-32\"/>\r\n     <use x=\"1289.363281\" xlink:href=\"#ArialMT-83\"/>\r\n     <use x=\"1356.0625\" xlink:href=\"#ArialMT-104\"/>\r\n     <use x=\"1411.677734\" xlink:href=\"#ArialMT-111\"/>\r\n     <use x=\"1467.292969\" xlink:href=\"#ArialMT-111\"/>\r\n     <use x=\"1522.908203\" xlink:href=\"#ArialMT-116\"/>\r\n     <use x=\"1550.691406\" xlink:href=\"#ArialMT-105\"/>\r\n     <use x=\"1572.908203\" xlink:href=\"#ArialMT-110\"/>\r\n     <use x=\"1628.523438\" xlink:href=\"#ArialMT-103\"/>\r\n    </g>\r\n   </g>\r\n  </g>\r\n </g>\r\n <defs>\r\n  <clipPath id=\"p2e2bb3a3f3\">\r\n   <rect height=\"217.44\" width=\"446.4\" x=\"38.467188\" y=\"25.575469\"/>\r\n  </clipPath>\r\n </defs>\r\n</svg>\r\n",
      "image/png": "[encoded data removed]"
     },
     "metadata": {}
    }
   ],
   "source": [
    "most_shooting_cities(df=kill_and_social)"
   ]
  },
  {
   "source": [
    "#### Total Police Shooting by states:\n",
    "As shown in the map bellow, California, Texas, Florida, Arizona, respectively, are the states with more Fatal Police Shooting in the whole of the US.  There is a clear tendency in more cases of Fatal Police Shooting at the south of the country "
   ],
   "cell_type": "markdown",
   "metadata": {}
  },
  {
   "cell_type": "code",
   "execution_count": 34,
   "metadata": {},
   "outputs": [
    {
     "output_type": "display_data",
     "data": {
      "application/vnd.plotly.v1+json": {
       "config": {
        "plotlyServerURL": "https://plot.ly"
       },
       "data": [
        {
         "colorbar": {
          "title": {
           "text": "Shootings"
          }
         },
         "colorscale": [
          [
           0,
           "rgb(255,245,240)"
          ],
          [
           0.125,
           "rgb(254,224,210)"
          ],
          [
           0.25,
           "rgb(252,187,161)"
          ],
          [
           0.375,
           "rgb(252,146,114)"
          ],
          [
           0.5,
           "rgb(251,106,74)"
          ],
          [
           0.625,
           "rgb(239,59,44)"
          ],
          [
           0.75,
           "rgb(203,24,29)"
          ],
          [
           0.875,
           "rgb(165,15,21)"
          ],
          [
           1,
           "rgb(103,0,13)"
          ]
         ],
         "locationmode": "USA-states",
         "locations": [
          "CA",
          "TX",
          "FL",
          "AZ",
          "NC",
          "OH",
          "OK",
          "CO",
          "MO",
          "GA",
          "WA",
          "LA",
          "IL",
          "TN",
          "IN",
          "SC",
          "AL",
          "NM",
          "NV",
          "VA",
          "WI",
          "MD",
          "MN",
          "OR",
          "MI",
          "KS",
          "KY",
          "AR",
          "PA",
          "NJ",
          "MS",
          "UT",
          "MA",
          "NY",
          "WV",
          "NE",
          "IA",
          "DC",
          "MT",
          "SD",
          "AK",
          "ID",
          "DE",
          "HI",
          "ME",
          "WY",
          "NH",
          "CT",
          "ND",
          "VT",
          "RI"
         ],
         "type": "choropleth",
         "z": [
          348,
          193,
          127,
          107,
          63,
          62,
          61,
          61,
          53,
          53,
          50,
          46,
          42,
          41,
          40,
          40,
          38,
          36,
          35,
          35,
          34,
          32,
          32,
          29,
          24,
          24,
          24,
          22,
          21,
          20,
          20,
          19,
          17,
          16,
          15,
          14,
          12,
          11,
          10,
          9,
          9,
          9,
          7,
          7,
          7,
          7,
          4,
          4,
          3,
          3,
          2
         ]
        }
       ],
       "layout": {
        "geo": {
         "scope": "usa"
        },
        "template": {
         "data": {
          "bar": [
           {
            "error_x": {
             "color": "#2a3f5f"
            },
            "error_y": {
             "color": "#2a3f5f"
            },
            "marker": {
             "line": {
              "color": "#E5ECF6",
              "width": 0.5
             }
            },
            "type": "bar"
           }
          ],
          "barpolar": [
           {
            "marker": {
             "line": {
              "color": "#E5ECF6",
              "width": 0.5
             }
            },
            "type": "barpolar"
           }
          ],
          "carpet": [
           {
            "aaxis": {
             "endlinecolor": "#2a3f5f",
             "gridcolor": "white",
             "linecolor": "white",
             "minorgridcolor": "white",
             "startlinecolor": "#2a3f5f"
            },
            "baxis": {
             "endlinecolor": "#2a3f5f",
             "gridcolor": "white",
             "linecolor": "white",
             "minorgridcolor": "white",
             "startlinecolor": "#2a3f5f"
            },
            "type": "carpet"
           }
          ],
          "choropleth": [
           {
            "colorbar": {
             "outlinewidth": 0,
             "ticks": ""
            },
            "type": "choropleth"
           }
          ],
          "contour": [
           {
            "colorbar": {
             "outlinewidth": 0,
             "ticks": ""
            },
            "colorscale": [
             [
              0,
              "#0d0887"
             ],
             [
              0.1111111111111111,
              "#46039f"
             ],
             [
              0.2222222222222222,
              "#7201a8"
             ],
             [
              0.3333333333333333,
              "#9c179e"
             ],
             [
              0.4444444444444444,
              "#bd3786"
             ],
             [
              0.5555555555555556,
              "#d8576b"
             ],
             [
              0.6666666666666666,
              "#ed7953"
             ],
             [
              0.7777777777777778,
              "#fb9f3a"
             ],
             [
              0.8888888888888888,
              "#fdca26"
             ],
             [
              1,
              "#f0f921"
             ]
            ],
            "type": "contour"
           }
          ],
          "contourcarpet": [
           {
            "colorbar": {
             "outlinewidth": 0,
             "ticks": ""
            },
            "type": "contourcarpet"
           }
          ],
          "heatmap": [
           {
            "colorbar": {
             "outlinewidth": 0,
             "ticks": ""
            },
            "colorscale": [
             [
              0,
              "#0d0887"
             ],
             [
              0.1111111111111111,
              "#46039f"
             ],
             [
              0.2222222222222222,
              "#7201a8"
             ],
             [
              0.3333333333333333,
              "#9c179e"
             ],
             [
              0.4444444444444444,
              "#bd3786"
             ],
             [
              0.5555555555555556,
              "#d8576b"
             ],
             [
              0.6666666666666666,
              "#ed7953"
             ],
             [
              0.7777777777777778,
              "#fb9f3a"
             ],
             [
              0.8888888888888888,
              "#fdca26"
             ],
             [
              1,
              "#f0f921"
             ]
            ],
            "type": "heatmap"
           }
          ],
          "heatmapgl": [
           {
            "colorbar": {
             "outlinewidth": 0,
             "ticks": ""
            },
            "colorscale": [
             [
              0,
              "#0d0887"
             ],
             [
              0.1111111111111111,
              "#46039f"
             ],
             [
              0.2222222222222222,
              "#7201a8"
             ],
             [
              0.3333333333333333,
              "#9c179e"
             ],
             [
              0.4444444444444444,
              "#bd3786"
             ],
             [
              0.5555555555555556,
              "#d8576b"
             ],
             [
              0.6666666666666666,
              "#ed7953"
             ],
             [
              0.7777777777777778,
              "#fb9f3a"
             ],
             [
              0.8888888888888888,
              "#fdca26"
             ],
             [
              1,
              "#f0f921"
             ]
            ],
            "type": "heatmapgl"
           }
          ],
          "histogram": [
           {
            "marker": {
             "colorbar": {
              "outlinewidth": 0,
              "ticks": ""
             }
            },
            "type": "histogram"
           }
          ],
          "histogram2d": [
           {
            "colorbar": {
             "outlinewidth": 0,
             "ticks": ""
            },
            "colorscale": [
             [
              0,
              "#0d0887"
             ],
             [
              0.1111111111111111,
              "#46039f"
             ],
             [
              0.2222222222222222,
              "#7201a8"
             ],
             [
              0.3333333333333333,
              "#9c179e"
             ],
             [
              0.4444444444444444,
              "#bd3786"
             ],
             [
              0.5555555555555556,
              "#d8576b"
             ],
             [
              0.6666666666666666,
              "#ed7953"
             ],
             [
              0.7777777777777778,
              "#fb9f3a"
             ],
             [
              0.8888888888888888,
              "#fdca26"
             ],
             [
              1,
              "#f0f921"
             ]
            ],
            "type": "histogram2d"
           }
          ],
          "histogram2dcontour": [
           {
            "colorbar": {
             "outlinewidth": 0,
             "ticks": ""
            },
            "colorscale": [
             [
              0,
              "#0d0887"
             ],
             [
              0.1111111111111111,
              "#46039f"
             ],
             [
              0.2222222222222222,
              "#7201a8"
             ],
             [
              0.3333333333333333,
              "#9c179e"
             ],
             [
              0.4444444444444444,
              "#bd3786"
             ],
             [
              0.5555555555555556,
              "#d8576b"
             ],
             [
              0.6666666666666666,
              "#ed7953"
             ],
             [
              0.7777777777777778,
              "#fb9f3a"
             ],
             [
              0.8888888888888888,
              "#fdca26"
             ],
             [
              1,
              "#f0f921"
             ]
            ],
            "type": "histogram2dcontour"
           }
          ],
          "mesh3d": [
           {
            "colorbar": {
             "outlinewidth": 0,
             "ticks": ""
            },
            "type": "mesh3d"
           }
          ],
          "parcoords": [
           {
            "line": {
             "colorbar": {
              "outlinewidth": 0,
              "ticks": ""
             }
            },
            "type": "parcoords"
           }
          ],
          "pie": [
           {
            "automargin": true,
            "type": "pie"
           }
          ],
          "scatter": [
           {
            "marker": {
             "colorbar": {
              "outlinewidth": 0,
              "ticks": ""
             }
            },
            "type": "scatter"
           }
          ],
          "scatter3d": [
           {
            "line": {
             "colorbar": {
              "outlinewidth": 0,
              "ticks": ""
             }
            },
            "marker": {
             "colorbar": {
              "outlinewidth": 0,
              "ticks": ""
             }
            },
            "type": "scatter3d"
           }
          ],
          "scattercarpet": [
           {
            "marker": {
             "colorbar": {
              "outlinewidth": 0,
              "ticks": ""
             }
            },
            "type": "scattercarpet"
           }
          ],
          "scattergeo": [
           {
            "marker": {
             "colorbar": {
              "outlinewidth": 0,
              "ticks": ""
             }
            },
            "type": "scattergeo"
           }
          ],
          "scattergl": [
           {
            "marker": {
             "colorbar": {
              "outlinewidth": 0,
              "ticks": ""
             }
            },
            "type": "scattergl"
           }
          ],
          "scattermapbox": [
           {
            "marker": {
             "colorbar": {
              "outlinewidth": 0,
              "ticks": ""
             }
            },
            "type": "scattermapbox"
           }
          ],
          "scatterpolar": [
           {
            "marker": {
             "colorbar": {
              "outlinewidth": 0,
              "ticks": ""
             }
            },
            "type": "scatterpolar"
           }
          ],
          "scatterpolargl": [
           {
            "marker": {
             "colorbar": {
              "outlinewidth": 0,
              "ticks": ""
             }
            },
            "type": "scatterpolargl"
           }
          ],
          "scatterternary": [
           {
            "marker": {
             "colorbar": {
              "outlinewidth": 0,
              "ticks": ""
             }
            },
            "type": "scatterternary"
           }
          ],
          "surface": [
           {
            "colorbar": {
             "outlinewidth": 0,
             "ticks": ""
            },
            "colorscale": [
             [
              0,
              "#0d0887"
             ],
             [
              0.1111111111111111,
              "#46039f"
             ],
             [
              0.2222222222222222,
              "#7201a8"
             ],
             [
              0.3333333333333333,
              "#9c179e"
             ],
             [
              0.4444444444444444,
              "#bd3786"
             ],
             [
              0.5555555555555556,
              "#d8576b"
             ],
             [
              0.6666666666666666,
              "#ed7953"
             ],
             [
              0.7777777777777778,
              "#fb9f3a"
             ],
             [
              0.8888888888888888,
              "#fdca26"
             ],
             [
              1,
              "#f0f921"
             ]
            ],
            "type": "surface"
           }
          ],
          "table": [
           {
            "cells": {
             "fill": {
              "color": "#EBF0F8"
             },
             "line": {
              "color": "white"
             }
            },
            "header": {
             "fill": {
              "color": "#C8D4E3"
             },
             "line": {
              "color": "white"
             }
            },
            "type": "table"
           }
          ]
         },
         "layout": {
          "annotationdefaults": {
           "arrowcolor": "#2a3f5f",
           "arrowhead": 0,
           "arrowwidth": 1
          },
          "autotypenumbers": "strict",
          "coloraxis": {
           "colorbar": {
            "outlinewidth": 0,
            "ticks": ""
           }
          },
          "colorscale": {
           "diverging": [
            [
             0,
             "#8e0152"
            ],
            [
             0.1,
             "#c51b7d"
            ],
            [
             0.2,
             "#de77ae"
            ],
            [
             0.3,
             "#f1b6da"
            ],
            [
             0.4,
             "#fde0ef"
            ],
            [
             0.5,
             "#f7f7f7"
            ],
            [
             0.6,
             "#e6f5d0"
            ],
            [
             0.7,
             "#b8e186"
            ],
            [
             0.8,
             "#7fbc41"
            ],
            [
             0.9,
             "#4d9221"
            ],
            [
             1,
             "#276419"
            ]
           ],
           "sequential": [
            [
             0,
             "#0d0887"
            ],
            [
             0.1111111111111111,
             "#46039f"
            ],
            [
             0.2222222222222222,
             "#7201a8"
            ],
            [
             0.3333333333333333,
             "#9c179e"
            ],
            [
             0.4444444444444444,
             "#bd3786"
            ],
            [
             0.5555555555555556,
             "#d8576b"
            ],
            [
             0.6666666666666666,
             "#ed7953"
            ],
            [
             0.7777777777777778,
             "#fb9f3a"
            ],
            [
             0.8888888888888888,
             "#fdca26"
            ],
            [
             1,
             "#f0f921"
            ]
           ],
           "sequentialminus": [
            [
             0,
             "#0d0887"
            ],
            [
             0.1111111111111111,
             "#46039f"
            ],
            [
             0.2222222222222222,
             "#7201a8"
            ],
            [
             0.3333333333333333,
             "#9c179e"
            ],
            [
             0.4444444444444444,
             "#bd3786"
            ],
            [
             0.5555555555555556,
             "#d8576b"
            ],
            [
             0.6666666666666666,
             "#ed7953"
            ],
            [
             0.7777777777777778,
             "#fb9f3a"
            ],
            [
             0.8888888888888888,
             "#fdca26"
            ],
            [
             1,
             "#f0f921"
            ]
           ]
          },
          "colorway": [
           "#636efa",
           "#EF553B",
           "#00cc96",
           "#ab63fa",
           "#FFA15A",
           "#19d3f3",
           "#FF6692",
           "#B6E880",
           "#FF97FF",
           "#FECB52"
          ],
          "font": {
           "color": "#2a3f5f"
          },
          "geo": {
           "bgcolor": "white",
           "lakecolor": "white",
           "landcolor": "#E5ECF6",
           "showlakes": true,
           "showland": true,
           "subunitcolor": "white"
          },
          "hoverlabel": {
           "align": "left"
          },
          "hovermode": "closest",
          "mapbox": {
           "style": "light"
          },
          "paper_bgcolor": "white",
          "plot_bgcolor": "#E5ECF6",
          "polar": {
           "angularaxis": {
            "gridcolor": "white",
            "linecolor": "white",
            "ticks": ""
           },
           "bgcolor": "#E5ECF6",
           "radialaxis": {
            "gridcolor": "white",
            "linecolor": "white",
            "ticks": ""
           }
          },
          "scene": {
           "xaxis": {
            "backgroundcolor": "#E5ECF6",
            "gridcolor": "white",
            "gridwidth": 2,
            "linecolor": "white",
            "showbackground": true,
            "ticks": "",
            "zerolinecolor": "white"
           },
           "yaxis": {
            "backgroundcolor": "#E5ECF6",
            "gridcolor": "white",
            "gridwidth": 2,
            "linecolor": "white",
            "showbackground": true,
            "ticks": "",
            "zerolinecolor": "white"
           },
           "zaxis": {
            "backgroundcolor": "#E5ECF6",
            "gridcolor": "white",
            "gridwidth": 2,
            "linecolor": "white",
            "showbackground": true,
            "ticks": "",
            "zerolinecolor": "white"
           }
          },
          "shapedefaults": {
           "line": {
            "color": "#2a3f5f"
           }
          },
          "ternary": {
           "aaxis": {
            "gridcolor": "white",
            "linecolor": "white",
            "ticks": ""
           },
           "baxis": {
            "gridcolor": "white",
            "linecolor": "white",
            "ticks": ""
           },
           "bgcolor": "#E5ECF6",
           "caxis": {
            "gridcolor": "white",
            "linecolor": "white",
            "ticks": ""
           }
          },
          "title": {
           "x": 0.05
          },
          "xaxis": {
           "automargin": true,
           "gridcolor": "white",
           "linecolor": "white",
           "ticks": "",
           "title": {
            "standoff": 15
           },
           "zerolinecolor": "white",
           "zerolinewidth": 2
          },
          "yaxis": {
           "automargin": true,
           "gridcolor": "white",
           "linecolor": "white",
           "ticks": "",
           "title": {
            "standoff": 15
           },
           "zerolinecolor": "white",
           "zerolinewidth": 2
          }
         }
        },
        "title": {
         "text": "Total shooting in the USA"
        }
       }
      }
     },
     "metadata": {}
    }
   ],
   "source": [
    "mapa_killings_states(df=kill_and_social)"
   ]
  },
  {
   "source": [
    "#### States with highest Poverty Rates:\n",
    "The map, bellow, shows the 5 states with higher Poverty Rates between the years 2015 and 2017.  Alabama was in first place followed by Arizona, California, Arkansas and Alaska.  We can also see clearly, that highest poverty rates during these years were mostly in states at the south of the country"
   ],
   "cell_type": "markdown",
   "metadata": {}
  },
  {
   "cell_type": "code",
   "execution_count": 35,
   "metadata": {},
   "outputs": [
    {
     "output_type": "display_data",
     "data": {
      "application/vnd.plotly.v1+json": {
       "config": {
        "plotlyServerURL": "https://plot.ly"
       },
       "data": [
        {
         "colorbar": {
          "title": {
           "text": "Poverty Rate"
          }
         },
         "colorscale": [
          [
           0,
           "rgb(255,245,240)"
          ],
          [
           0.125,
           "rgb(254,224,210)"
          ],
          [
           0.25,
           "rgb(252,187,161)"
          ],
          [
           0.375,
           "rgb(252,146,114)"
          ],
          [
           0.5,
           "rgb(251,106,74)"
          ],
          [
           0.625,
           "rgb(239,59,44)"
          ],
          [
           0.75,
           "rgb(203,24,29)"
          ],
          [
           0.875,
           "rgb(165,15,21)"
          ],
          [
           1,
           "rgb(103,0,13)"
          ]
         ],
         "locationmode": "USA-states",
         "locations": [
          "AK",
          "AL",
          "AR",
          "AZ",
          "CA"
         ],
         "type": "choropleth",
         "z": [
          12.433333333333332,
          21.026315789473678,
          17.97272727272727,
          19.839252336448602,
          19.029022988505766
         ]
        }
       ],
       "layout": {
        "geo": {
         "scope": "usa"
        },
        "template": {
         "data": {
          "bar": [
           {
            "error_x": {
             "color": "#2a3f5f"
            },
            "error_y": {
             "color": "#2a3f5f"
            },
            "marker": {
             "line": {
              "color": "#E5ECF6",
              "width": 0.5
             }
            },
            "type": "bar"
           }
          ],
          "barpolar": [
           {
            "marker": {
             "line": {
              "color": "#E5ECF6",
              "width": 0.5
             }
            },
            "type": "barpolar"
           }
          ],
          "carpet": [
           {
            "aaxis": {
             "endlinecolor": "#2a3f5f",
             "gridcolor": "white",
             "linecolor": "white",
             "minorgridcolor": "white",
             "startlinecolor": "#2a3f5f"
            },
            "baxis": {
             "endlinecolor": "#2a3f5f",
             "gridcolor": "white",
             "linecolor": "white",
             "minorgridcolor": "white",
             "startlinecolor": "#2a3f5f"
            },
            "type": "carpet"
           }
          ],
          "choropleth": [
           {
            "colorbar": {
             "outlinewidth": 0,
             "ticks": ""
            },
            "type": "choropleth"
           }
          ],
          "contour": [
           {
            "colorbar": {
             "outlinewidth": 0,
             "ticks": ""
            },
            "colorscale": [
             [
              0,
              "#0d0887"
             ],
             [
              0.1111111111111111,
              "#46039f"
             ],
             [
              0.2222222222222222,
              "#7201a8"
             ],
             [
              0.3333333333333333,
              "#9c179e"
             ],
             [
              0.4444444444444444,
              "#bd3786"
             ],
             [
              0.5555555555555556,
              "#d8576b"
             ],
             [
              0.6666666666666666,
              "#ed7953"
             ],
             [
              0.7777777777777778,
              "#fb9f3a"
             ],
             [
              0.8888888888888888,
              "#fdca26"
             ],
             [
              1,
              "#f0f921"
             ]
            ],
            "type": "contour"
           }
          ],
          "contourcarpet": [
           {
            "colorbar": {
             "outlinewidth": 0,
             "ticks": ""
            },
            "type": "contourcarpet"
           }
          ],
          "heatmap": [
           {
            "colorbar": {
             "outlinewidth": 0,
             "ticks": ""
            },
            "colorscale": [
             [
              0,
              "#0d0887"
             ],
             [
              0.1111111111111111,
              "#46039f"
             ],
             [
              0.2222222222222222,
              "#7201a8"
             ],
             [
              0.3333333333333333,
              "#9c179e"
             ],
             [
              0.4444444444444444,
              "#bd3786"
             ],
             [
              0.5555555555555556,
              "#d8576b"
             ],
             [
              0.6666666666666666,
              "#ed7953"
             ],
             [
              0.7777777777777778,
              "#fb9f3a"
             ],
             [
              0.8888888888888888,
              "#fdca26"
             ],
             [
              1,
              "#f0f921"
             ]
            ],
            "type": "heatmap"
           }
          ],
          "heatmapgl": [
           {
            "colorbar": {
             "outlinewidth": 0,
             "ticks": ""
            },
            "colorscale": [
             [
              0,
              "#0d0887"
             ],
             [
              0.1111111111111111,
              "#46039f"
             ],
             [
              0.2222222222222222,
              "#7201a8"
             ],
             [
              0.3333333333333333,
              "#9c179e"
             ],
             [
              0.4444444444444444,
              "#bd3786"
             ],
             [
              0.5555555555555556,
              "#d8576b"
             ],
             [
              0.6666666666666666,
              "#ed7953"
             ],
             [
              0.7777777777777778,
              "#fb9f3a"
             ],
             [
              0.8888888888888888,
              "#fdca26"
             ],
             [
              1,
              "#f0f921"
             ]
            ],
            "type": "heatmapgl"
           }
          ],
          "histogram": [
           {
            "marker": {
             "colorbar": {
              "outlinewidth": 0,
              "ticks": ""
             }
            },
            "type": "histogram"
           }
          ],
          "histogram2d": [
           {
            "colorbar": {
             "outlinewidth": 0,
             "ticks": ""
            },
            "colorscale": [
             [
              0,
              "#0d0887"
             ],
             [
              0.1111111111111111,
              "#46039f"
             ],
             [
              0.2222222222222222,
              "#7201a8"
             ],
             [
              0.3333333333333333,
              "#9c179e"
             ],
             [
              0.4444444444444444,
              "#bd3786"
             ],
             [
              0.5555555555555556,
              "#d8576b"
             ],
             [
              0.6666666666666666,
              "#ed7953"
             ],
             [
              0.7777777777777778,
              "#fb9f3a"
             ],
             [
              0.8888888888888888,
              "#fdca26"
             ],
             [
              1,
              "#f0f921"
             ]
            ],
            "type": "histogram2d"
           }
          ],
          "histogram2dcontour": [
           {
            "colorbar": {
             "outlinewidth": 0,
             "ticks": ""
            },
            "colorscale": [
             [
              0,
              "#0d0887"
             ],
             [
              0.1111111111111111,
              "#46039f"
             ],
             [
              0.2222222222222222,
              "#7201a8"
             ],
             [
              0.3333333333333333,
              "#9c179e"
             ],
             [
              0.4444444444444444,
              "#bd3786"
             ],
             [
              0.5555555555555556,
              "#d8576b"
             ],
             [
              0.6666666666666666,
              "#ed7953"
             ],
             [
              0.7777777777777778,
              "#fb9f3a"
             ],
             [
              0.8888888888888888,
              "#fdca26"
             ],
             [
              1,
              "#f0f921"
             ]
            ],
            "type": "histogram2dcontour"
           }
          ],
          "mesh3d": [
           {
            "colorbar": {
             "outlinewidth": 0,
             "ticks": ""
            },
            "type": "mesh3d"
           }
          ],
          "parcoords": [
           {
            "line": {
             "colorbar": {
              "outlinewidth": 0,
              "ticks": ""
             }
            },
            "type": "parcoords"
           }
          ],
          "pie": [
           {
            "automargin": true,
            "type": "pie"
           }
          ],
          "scatter": [
           {
            "marker": {
             "colorbar": {
              "outlinewidth": 0,
              "ticks": ""
             }
            },
            "type": "scatter"
           }
          ],
          "scatter3d": [
           {
            "line": {
             "colorbar": {
              "outlinewidth": 0,
              "ticks": ""
             }
            },
            "marker": {
             "colorbar": {
              "outlinewidth": 0,
              "ticks": ""
             }
            },
            "type": "scatter3d"
           }
          ],
          "scattercarpet": [
           {
            "marker": {
             "colorbar": {
              "outlinewidth": 0,
              "ticks": ""
             }
            },
            "type": "scattercarpet"
           }
          ],
          "scattergeo": [
           {
            "marker": {
             "colorbar": {
              "outlinewidth": 0,
              "ticks": ""
             }
            },
            "type": "scattergeo"
           }
          ],
          "scattergl": [
           {
            "marker": {
             "colorbar": {
              "outlinewidth": 0,
              "ticks": ""
             }
            },
            "type": "scattergl"
           }
          ],
          "scattermapbox": [
           {
            "marker": {
             "colorbar": {
              "outlinewidth": 0,
              "ticks": ""
             }
            },
            "type": "scattermapbox"
           }
          ],
          "scatterpolar": [
           {
            "marker": {
             "colorbar": {
              "outlinewidth": 0,
              "ticks": ""
             }
            },
            "type": "scatterpolar"
           }
          ],
          "scatterpolargl": [
           {
            "marker": {
             "colorbar": {
              "outlinewidth": 0,
              "ticks": ""
             }
            },
            "type": "scatterpolargl"
           }
          ],
          "scatterternary": [
           {
            "marker": {
             "colorbar": {
              "outlinewidth": 0,
              "ticks": ""
             }
            },
            "type": "scatterternary"
           }
          ],
          "surface": [
           {
            "colorbar": {
             "outlinewidth": 0,
             "ticks": ""
            },
            "colorscale": [
             [
              0,
              "#0d0887"
             ],
             [
              0.1111111111111111,
              "#46039f"
             ],
             [
              0.2222222222222222,
              "#7201a8"
             ],
             [
              0.3333333333333333,
              "#9c179e"
             ],
             [
              0.4444444444444444,
              "#bd3786"
             ],
             [
              0.5555555555555556,
              "#d8576b"
             ],
             [
              0.6666666666666666,
              "#ed7953"
             ],
             [
              0.7777777777777778,
              "#fb9f3a"
             ],
             [
              0.8888888888888888,
              "#fdca26"
             ],
             [
              1,
              "#f0f921"
             ]
            ],
            "type": "surface"
           }
          ],
          "table": [
           {
            "cells": {
             "fill": {
              "color": "#EBF0F8"
             },
             "line": {
              "color": "white"
             }
            },
            "header": {
             "fill": {
              "color": "#C8D4E3"
             },
             "line": {
              "color": "white"
             }
            },
            "type": "table"
           }
          ]
         },
         "layout": {
          "annotationdefaults": {
           "arrowcolor": "#2a3f5f",
           "arrowhead": 0,
           "arrowwidth": 1
          },
          "autotypenumbers": "strict",
          "coloraxis": {
           "colorbar": {
            "outlinewidth": 0,
            "ticks": ""
           }
          },
          "colorscale": {
           "diverging": [
            [
             0,
             "#8e0152"
            ],
            [
             0.1,
             "#c51b7d"
            ],
            [
             0.2,
             "#de77ae"
            ],
            [
             0.3,
             "#f1b6da"
            ],
            [
             0.4,
             "#fde0ef"
            ],
            [
             0.5,
             "#f7f7f7"
            ],
            [
             0.6,
             "#e6f5d0"
            ],
            [
             0.7,
             "#b8e186"
            ],
            [
             0.8,
             "#7fbc41"
            ],
            [
             0.9,
             "#4d9221"
            ],
            [
             1,
             "#276419"
            ]
           ],
           "sequential": [
            [
             0,
             "#0d0887"
            ],
            [
             0.1111111111111111,
             "#46039f"
            ],
            [
             0.2222222222222222,
             "#7201a8"
            ],
            [
             0.3333333333333333,
             "#9c179e"
            ],
            [
             0.4444444444444444,
             "#bd3786"
            ],
            [
             0.5555555555555556,
             "#d8576b"
            ],
            [
             0.6666666666666666,
             "#ed7953"
            ],
            [
             0.7777777777777778,
             "#fb9f3a"
            ],
            [
             0.8888888888888888,
             "#fdca26"
            ],
            [
             1,
             "#f0f921"
            ]
           ],
           "sequentialminus": [
            [
             0,
             "#0d0887"
            ],
            [
             0.1111111111111111,
             "#46039f"
            ],
            [
             0.2222222222222222,
             "#7201a8"
            ],
            [
             0.3333333333333333,
             "#9c179e"
            ],
            [
             0.4444444444444444,
             "#bd3786"
            ],
            [
             0.5555555555555556,
             "#d8576b"
            ],
            [
             0.6666666666666666,
             "#ed7953"
            ],
            [
             0.7777777777777778,
             "#fb9f3a"
            ],
            [
             0.8888888888888888,
             "#fdca26"
            ],
            [
             1,
             "#f0f921"
            ]
           ]
          },
          "colorway": [
           "#636efa",
           "#EF553B",
           "#00cc96",
           "#ab63fa",
           "#FFA15A",
           "#19d3f3",
           "#FF6692",
           "#B6E880",
           "#FF97FF",
           "#FECB52"
          ],
          "font": {
           "color": "#2a3f5f"
          },
          "geo": {
           "bgcolor": "white",
           "lakecolor": "white",
           "landcolor": "#E5ECF6",
           "showlakes": true,
           "showland": true,
           "subunitcolor": "white"
          },
          "hoverlabel": {
           "align": "left"
          },
          "hovermode": "closest",
          "mapbox": {
           "style": "light"
          },
          "paper_bgcolor": "white",
          "plot_bgcolor": "#E5ECF6",
          "polar": {
           "angularaxis": {
            "gridcolor": "white",
            "linecolor": "white",
            "ticks": ""
           },
           "bgcolor": "#E5ECF6",
           "radialaxis": {
            "gridcolor": "white",
            "linecolor": "white",
            "ticks": ""
           }
          },
          "scene": {
           "xaxis": {
            "backgroundcolor": "#E5ECF6",
            "gridcolor": "white",
            "gridwidth": 2,
            "linecolor": "white",
            "showbackground": true,
            "ticks": "",
            "zerolinecolor": "white"
           },
           "yaxis": {
            "backgroundcolor": "#E5ECF6",
            "gridcolor": "white",
            "gridwidth": 2,
            "linecolor": "white",
            "showbackground": true,
            "ticks": "",
            "zerolinecolor": "white"
           },
           "zaxis": {
            "backgroundcolor": "#E5ECF6",
            "gridcolor": "white",
            "gridwidth": 2,
            "linecolor": "white",
            "showbackground": true,
            "ticks": "",
            "zerolinecolor": "white"
           }
          },
          "shapedefaults": {
           "line": {
            "color": "#2a3f5f"
           }
          },
          "ternary": {
           "aaxis": {
            "gridcolor": "white",
            "linecolor": "white",
            "ticks": ""
           },
           "baxis": {
            "gridcolor": "white",
            "linecolor": "white",
            "ticks": ""
           },
           "bgcolor": "#E5ECF6",
           "caxis": {
            "gridcolor": "white",
            "linecolor": "white",
            "ticks": ""
           }
          },
          "title": {
           "x": 0.05
          },
          "xaxis": {
           "automargin": true,
           "gridcolor": "white",
           "linecolor": "white",
           "ticks": "",
           "title": {
            "standoff": 15
           },
           "zerolinecolor": "white",
           "zerolinewidth": 2
          },
          "yaxis": {
           "automargin": true,
           "gridcolor": "white",
           "linecolor": "white",
           "ticks": "",
           "title": {
            "standoff": 15
           },
           "zerolinecolor": "white",
           "zerolinewidth": 2
          }
         }
        },
        "title": {
         "text": "States with the highest Poverty Rate"
        }
       }
      }
     },
     "metadata": {}
    }
   ],
   "source": [
    "poverty_rate_func(df=kill_and_social)"
   ]
  },
  {
   "source": [
    "#### Suspect threat Level:\n",
    "Pie chart showing threat levels of the suspects.  64.1% directly attacked the officers with guns or other weapons.  The attack part, represents highest level of threat. \"Other\" includes incidents where officers faced significant threat"
   ],
   "cell_type": "markdown",
   "metadata": {}
  },
  {
   "cell_type": "code",
   "execution_count": 36,
   "metadata": {},
   "outputs": [
    {
     "output_type": "display_data",
     "data": {
      "application/vnd.plotly.v1+json": {
       "config": {
        "plotlyServerURL": "https://plot.ly"
       },
       "data": [
        {
         "domain": {
          "x": [
           0,
           1
          ],
          "y": [
           0,
           1
          ]
         },
         "hovertemplate": "Threat_Level=%{label}<extra></extra>",
         "labels": [
          "attack",
          "attack",
          "other",
          "other",
          "attack",
          "other",
          "attack",
          "attack",
          "other",
          "other",
          "attack",
          "attack",
          "other",
          "other",
          "undetermined",
          "attack",
          "attack",
          "other",
          "attack",
          "attack",
          "attack",
          "attack",
          "attack",
          "attack",
          "other",
          "attack",
          "attack",
          "attack",
          "attack",
          "attack",
          "other",
          "attack",
          "other",
          "attack",
          "attack",
          "attack",
          "other",
          "attack",
          "other",
          "attack",
          "attack",
          "undetermined",
          "other",
          "other",
          "attack",
          "other",
          "attack",
          "other",
          "attack",
          "other",
          "attack",
          "attack",
          "attack",
          "attack",
          "attack",
          "attack",
          "other",
          "attack",
          "undetermined",
          "attack",
          "attack",
          "attack",
          "attack",
          "attack",
          "attack",
          "attack",
          "attack",
          "other",
          "undetermined",
          "attack",
          "attack",
          "other",
          "other",
          "attack",
          "attack",
          "attack",
          "attack",
          "attack",
          "attack",
          "attack",
          "attack",
          "other",
          "undetermined",
          "attack",
          "attack",
          "attack",
          "attack",
          "attack",
          "attack",
          "other",
          "attack",
          "attack",
          "other",
          "attack",
          "attack",
          "other",
          "attack",
          "attack",
          "attack",
          "attack",
          "attack",
          "attack",
          "attack",
          "attack",
          "attack",
          "attack",
          "other",
          "attack",
          "attack",
          "attack",
          "attack",
          "attack",
          "attack",
          "attack",
          "attack",
          "other",
          "attack",
          "undetermined",
          "attack",
          "attack",
          "attack",
          "attack",
          "other",
          "attack",
          "other",
          "attack",
          "attack",
          "attack",
          "attack",
          "other",
          "attack",
          "other",
          "attack",
          "attack",
          "other",
          "other",
          "attack",
          "attack",
          "other",
          "attack",
          "other",
          "attack",
          "attack",
          "other",
          "attack",
          "attack",
          "other",
          "attack",
          "attack",
          "attack",
          "other",
          "undetermined",
          "attack",
          "undetermined",
          "other",
          "undetermined",
          "other",
          "other",
          "other",
          "other",
          "other",
          "attack",
          "attack",
          "attack",
          "attack",
          "attack",
          "attack",
          "attack",
          "other",
          "other",
          "attack",
          "attack",
          "other",
          "other",
          "other",
          "attack",
          "attack",
          "attack",
          "attack",
          "attack",
          "attack",
          "attack",
          "attack",
          "attack",
          "attack",
          "attack",
          "attack",
          "attack",
          "attack",
          "attack",
          "attack",
          "attack",
          "attack",
          "attack",
          "attack",
          "attack",
          "other",
          "attack",
          "attack",
          "attack",
          "attack",
          "attack",
          "attack",
          "attack",
          "other",
          "attack",
          "attack",
          "other",
          "attack",
          "attack",
          "attack",
          "other",
          "other",
          "attack",
          "other",
          "other",
          "attack",
          "other",
          "attack",
          "attack",
          "attack",
          "attack",
          "attack",
          "other",
          "other",
          "attack",
          "other",
          "attack",
          "other",
          "other",
          "other",
          "attack",
          "attack",
          "other",
          "attack",
          "other",
          "attack",
          "attack",
          "attack",
          "other",
          "other",
          "other",
          "attack",
          "other",
          "attack",
          "attack",
          "attack",
          "attack",
          "other",
          "attack",
          "attack",
          "attack",
          "other",
          "attack",
          "attack",
          "attack",
          "attack",
          "attack",
          "undetermined",
          "attack",
          "other",
          "other",
          "other",
          "attack",
          "other",
          "attack",
          "other",
          "attack",
          "attack",
          "attack",
          "attack",
          "other",
          "attack",
          "attack",
          "attack",
          "attack",
          "other",
          "other",
          "attack",
          "other",
          "attack",
          "attack",
          "attack",
          "attack",
          "other",
          "attack",
          "attack",
          "attack",
          "attack",
          "other",
          "other",
          "attack",
          "other",
          "attack",
          "attack",
          "other",
          "attack",
          "attack",
          "other",
          "attack",
          "attack",
          "attack",
          "other",
          "attack",
          "other",
          "attack",
          "attack",
          "attack",
          "attack",
          "attack",
          "other",
          "attack",
          "attack",
          "attack",
          "other",
          "other",
          "attack",
          "attack",
          "attack",
          "attack",
          "attack",
          "other",
          "attack",
          "attack",
          "attack",
          "other",
          "attack",
          "attack",
          "attack",
          "other",
          "attack",
          "other",
          "attack",
          "attack",
          "other",
          "attack",
          "attack",
          "attack",
          "attack",
          "other",
          "attack",
          "attack",
          "other",
          "attack",
          "other",
          "attack",
          "attack",
          "other",
          "attack",
          "other",
          "other",
          "attack",
          "attack",
          "attack",
          "attack",
          "attack",
          "attack",
          "attack",
          "attack",
          "attack",
          "attack",
          "attack",
          "attack",
          "attack",
          "attack",
          "undetermined",
          "other",
          "other",
          "other",
          "attack",
          "other",
          "attack",
          "attack",
          "other",
          "other",
          "attack",
          "other",
          "other",
          "attack",
          "attack",
          "attack",
          "undetermined",
          "undetermined",
          "attack",
          "attack",
          "attack",
          "attack",
          "other",
          "attack",
          "attack",
          "attack",
          "other",
          "attack",
          "attack",
          "other",
          "attack",
          "attack",
          "attack",
          "attack",
          "other",
          "other",
          "attack",
          "attack",
          "attack",
          "attack",
          "other",
          "attack",
          "attack",
          "attack",
          "other",
          "other",
          "attack",
          "attack",
          "attack",
          "attack",
          "other",
          "other",
          "other",
          "undetermined",
          "other",
          "other",
          "other",
          "attack",
          "attack",
          "attack",
          "attack",
          "attack",
          "attack",
          "attack",
          "attack",
          "attack",
          "attack",
          "other",
          "attack",
          "attack",
          "attack",
          "attack",
          "attack",
          "attack",
          "other",
          "attack",
          "attack",
          "other",
          "attack",
          "attack",
          "attack",
          "other",
          "attack",
          "attack",
          "attack",
          "attack",
          "other",
          "attack",
          "other",
          "attack",
          "attack",
          "attack",
          "other",
          "attack",
          "undetermined",
          "attack",
          "undetermined",
          "undetermined",
          "undetermined",
          "undetermined",
          "attack",
          "other",
          "attack",
          "attack",
          "attack",
          "attack",
          "attack",
          "other",
          "attack",
          "attack",
          "attack",
          "other",
          "attack",
          "attack",
          "attack",
          "attack",
          "attack",
          "attack",
          "attack",
          "attack",
          "other",
          "attack",
          "attack",
          "other",
          "attack",
          "attack",
          "other",
          "other",
          "other",
          "other",
          "other",
          "other",
          "attack",
          "attack",
          "attack",
          "attack",
          "other",
          "attack",
          "other",
          "other",
          "undetermined",
          "attack",
          "attack",
          "attack",
          "attack",
          "attack",
          "attack",
          "other",
          "attack",
          "attack",
          "other",
          "undetermined",
          "other",
          "attack",
          "attack",
          "attack",
          "attack",
          "attack",
          "undetermined",
          "attack",
          "attack",
          "other",
          "attack",
          "other",
          "attack",
          "other",
          "attack",
          "attack",
          "attack",
          "other",
          "attack",
          "attack",
          "attack",
          "other",
          "attack",
          "attack",
          "attack",
          "other",
          "attack",
          "attack",
          "other",
          "attack",
          "attack",
          "other",
          "attack",
          "attack",
          "attack",
          "attack",
          "other",
          "attack",
          "attack",
          "attack",
          "other",
          "other",
          "attack",
          "attack",
          "other",
          "other",
          "attack",
          "attack",
          "attack",
          "attack",
          "other",
          "other",
          "other",
          "attack",
          "attack",
          "attack",
          "other",
          "undetermined",
          "other",
          "other",
          "attack",
          "other",
          "attack",
          "attack",
          "attack",
          "other",
          "other",
          "attack",
          "attack",
          "other",
          "other",
          "attack",
          "other",
          "attack",
          "attack",
          "undetermined",
          "attack",
          "other",
          "other",
          "attack",
          "attack",
          "other",
          "attack",
          "other",
          "attack",
          "attack",
          "attack",
          "undetermined",
          "attack",
          "attack",
          "attack",
          "attack",
          "undetermined",
          "attack",
          "other",
          "attack",
          "attack",
          "other",
          "undetermined",
          "other",
          "undetermined",
          "attack",
          "other",
          "attack",
          "other",
          "attack",
          "attack",
          "attack",
          "other",
          "attack",
          "attack",
          "other",
          "attack",
          "attack",
          "attack",
          "attack",
          "attack",
          "attack",
          "attack",
          "attack",
          "attack",
          "other",
          "attack",
          "other",
          "attack",
          "attack",
          "attack",
          "undetermined",
          "other",
          "attack",
          "attack",
          "other",
          "attack",
          "attack",
          "undetermined",
          "other",
          "attack",
          "attack",
          "attack",
          "other",
          "attack",
          "attack",
          "attack",
          "other",
          "attack",
          "attack",
          "other",
          "attack",
          "attack",
          "other",
          "attack",
          "attack",
          "other",
          "attack",
          "attack",
          "attack",
          "undetermined",
          "other",
          "attack",
          "attack",
          "other",
          "undetermined",
          "attack",
          "other",
          "attack",
          "attack",
          "attack",
          "other",
          "attack",
          "attack",
          "other",
          "attack",
          "other",
          "other",
          "attack",
          "attack",
          "undetermined",
          "attack",
          "other",
          "attack",
          "attack",
          "attack",
          "attack",
          "attack",
          "attack",
          "attack",
          "other",
          "attack",
          "other",
          "attack",
          "attack",
          "attack",
          "attack",
          "attack",
          "undetermined",
          "attack",
          "attack",
          "attack",
          "undetermined",
          "attack",
          "undetermined",
          "other",
          "attack",
          "undetermined",
          "attack",
          "attack",
          "attack",
          "attack",
          "other",
          "other",
          "attack",
          "other",
          "other",
          "other",
          "other",
          "attack",
          "attack",
          "attack",
          "attack",
          "other",
          "attack",
          "attack",
          "attack",
          "attack",
          "undetermined",
          "other",
          "attack",
          "other",
          "undetermined",
          "attack",
          "attack",
          "attack",
          "attack",
          "other",
          "attack",
          "other",
          "attack",
          "undetermined",
          "attack",
          "attack",
          "attack",
          "other",
          "attack",
          "attack",
          "other",
          "attack",
          "attack",
          "attack",
          "other",
          "other",
          "attack",
          "other",
          "attack",
          "other",
          "attack",
          "other",
          "attack",
          "other",
          "other",
          "attack",
          "other",
          "other",
          "other",
          "other",
          "other",
          "other",
          "attack",
          "attack",
          "attack",
          "attack",
          "other",
          "other",
          "attack",
          "other",
          "attack",
          "attack",
          "attack",
          "attack",
          "attack",
          "attack",
          "other",
          "attack",
          "other",
          "other",
          "other",
          "other",
          "other",
          "attack",
          "attack",
          "other",
          "attack",
          "other",
          "other",
          "attack",
          "other",
          "other",
          "attack",
          "attack",
          "attack",
          "attack",
          "attack",
          "attack",
          "attack",
          "attack",
          "attack",
          "attack",
          "attack",
          "other",
          "other",
          "attack",
          "attack",
          "attack",
          "attack",
          "attack",
          "attack",
          "attack",
          "other",
          "attack",
          "other",
          "other",
          "other",
          "attack",
          "other",
          "attack",
          "attack",
          "attack",
          "attack",
          "attack",
          "attack",
          "attack",
          "attack",
          "attack",
          "other",
          "attack",
          "attack",
          "other",
          "other",
          "attack",
          "attack",
          "other",
          "other",
          "other",
          "attack",
          "attack",
          "attack",
          "attack",
          "attack",
          "attack",
          "attack",
          "attack",
          "attack",
          "attack",
          "other",
          "attack",
          "attack",
          "other",
          "attack",
          "attack",
          "attack",
          "attack",
          "attack",
          "attack",
          "attack",
          "attack",
          "other",
          "attack",
          "attack",
          "attack",
          "attack",
          "attack",
          "attack",
          "attack",
          "attack",
          "other",
          "other",
          "attack",
          "attack",
          "attack",
          "attack",
          "attack",
          "attack",
          "attack",
          "attack",
          "attack",
          "attack",
          "other",
          "attack",
          "attack",
          "other",
          "attack",
          "attack",
          "attack",
          "other",
          "other",
          "attack",
          "other",
          "attack",
          "other",
          "attack",
          "other",
          "attack",
          "undetermined",
          "attack",
          "attack",
          "attack",
          "other",
          "attack",
          "attack",
          "attack",
          "attack",
          "other",
          "attack",
          "attack",
          "attack",
          "attack",
          "attack",
          "other",
          "undetermined",
          "other",
          "other",
          "other",
          "attack",
          "attack",
          "attack",
          "other",
          "attack",
          "attack",
          "attack",
          "other",
          "attack",
          "undetermined",
          "attack",
          "attack",
          "other",
          "attack",
          "attack",
          "attack",
          "attack",
          "attack",
          "other",
          "attack",
          "attack",
          "attack",
          "attack",
          "attack",
          "attack",
          "attack",
          "attack",
          "attack",
          "attack",
          "other",
          "attack",
          "attack",
          "attack",
          "attack",
          "undetermined",
          "attack",
          "attack",
          "other",
          "attack",
          "other",
          "other",
          "attack",
          "attack",
          "attack",
          "attack",
          "attack",
          "attack",
          "attack",
          "attack",
          "attack",
          "attack",
          "attack",
          "attack",
          "attack",
          "attack",
          "other",
          "attack",
          "other",
          "other",
          "other",
          "attack",
          "attack",
          "attack",
          "attack",
          "attack",
          "other",
          "attack",
          "attack",
          "other",
          "attack",
          "other",
          "other",
          "attack",
          "other",
          "attack",
          "other",
          "attack",
          "other",
          "attack",
          "attack",
          "other",
          "other",
          "attack",
          "attack",
          "attack",
          "attack",
          "other",
          "attack",
          "attack",
          "attack",
          "attack",
          "other",
          "other",
          "attack",
          "other",
          "attack",
          "attack",
          "attack",
          "attack",
          "attack",
          "undetermined",
          "attack",
          "other",
          "attack",
          "attack",
          "attack",
          "attack",
          "attack",
          "other",
          "attack",
          "attack",
          "other",
          "attack",
          "attack",
          "other",
          "undetermined",
          "other",
          "undetermined",
          "attack",
          "attack",
          "attack",
          "attack",
          "other",
          "attack",
          "attack",
          "attack",
          "attack",
          "other",
          "other",
          "attack",
          "attack",
          "other",
          "other",
          "attack",
          "other",
          "attack",
          "attack",
          "attack",
          "other",
          "attack",
          "attack",
          "attack",
          "other",
          "other",
          "attack",
          "other",
          "other",
          "attack",
          "other",
          "attack",
          "attack",
          "attack",
          "attack",
          "attack",
          "attack",
          "attack",
          "attack",
          "other",
          "attack",
          "other",
          "attack",
          "attack",
          "attack",
          "attack",
          "attack",
          "attack",
          "attack",
          "other",
          "attack",
          "attack",
          "attack",
          "attack",
          "attack",
          "attack",
          "attack",
          "undetermined",
          "attack",
          "other",
          "other",
          "attack",
          "attack",
          "attack",
          "attack",
          "attack",
          "attack",
          "other",
          "attack",
          "attack",
          "attack",
          "attack",
          "attack",
          "undetermined",
          "other",
          "attack",
          "attack",
          "undetermined",
          "attack",
          "attack",
          "attack",
          "attack",
          "attack",
          "attack",
          "attack",
          "attack",
          "attack",
          "attack",
          "attack",
          "undetermined",
          "attack",
          "attack",
          "attack",
          "attack",
          "attack",
          "attack",
          "attack",
          "other",
          "attack",
          "attack",
          "attack",
          "attack",
          "undetermined",
          "attack",
          "attack",
          "attack",
          "attack",
          "attack",
          "attack",
          "attack",
          "other",
          "attack",
          "attack",
          "undetermined",
          "other",
          "attack",
          "attack",
          "undetermined",
          "other",
          "other",
          "attack",
          "attack",
          "attack",
          "attack",
          "attack",
          "attack",
          "attack",
          "attack",
          "attack",
          "attack",
          "attack",
          "attack",
          "undetermined",
          "attack",
          "attack",
          "attack",
          "attack",
          "attack",
          "attack",
          "attack",
          "other",
          "attack",
          "attack",
          "attack",
          "other",
          "attack",
          "attack",
          "attack",
          "attack",
          "attack",
          "other",
          "attack",
          "other",
          "attack",
          "attack",
          "attack",
          "attack",
          "undetermined",
          "attack",
          "attack",
          "attack",
          "other",
          "attack",
          "other",
          "other",
          "attack",
          "undetermined",
          "attack",
          "attack",
          "attack",
          "attack",
          "other",
          "attack",
          "attack",
          "other",
          "attack",
          "other",
          "attack",
          "attack",
          "other",
          "undetermined",
          "attack",
          "attack",
          "other",
          "attack",
          "attack",
          "attack",
          "attack",
          "undetermined",
          "attack",
          "attack",
          "attack",
          "undetermined",
          "attack",
          "attack",
          "attack",
          "attack",
          "attack",
          "attack",
          "attack",
          "attack",
          "other",
          "other",
          "attack",
          "attack",
          "undetermined",
          "other",
          "attack",
          "attack",
          "attack",
          "attack",
          "undetermined",
          "attack",
          "other",
          "other",
          "attack",
          "other",
          "attack",
          "attack",
          "attack",
          "attack",
          "undetermined",
          "attack",
          "undetermined",
          "attack",
          "other",
          "attack",
          "attack",
          "other",
          "attack",
          "other",
          "undetermined",
          "attack",
          "other",
          "undetermined",
          "other",
          "attack",
          "other",
          "attack",
          "other",
          "attack",
          "attack",
          "other",
          "attack",
          "attack",
          "attack",
          "attack",
          "other",
          "other",
          "attack",
          "other",
          "attack",
          "other",
          "other",
          "attack",
          "attack",
          "attack",
          "attack",
          "other",
          "attack",
          "other",
          "undetermined",
          "undetermined",
          "attack",
          "attack",
          "attack",
          "other",
          "attack",
          "attack",
          "attack",
          "attack",
          "attack",
          "attack",
          "attack",
          "attack",
          "other",
          "attack",
          "other",
          "attack",
          "attack",
          "other",
          "undetermined",
          "attack",
          "other",
          "other",
          "other",
          "attack",
          "other",
          "attack",
          "attack",
          "undetermined",
          "undetermined",
          "attack",
          "other",
          "undetermined",
          "other",
          "attack",
          "attack",
          "other",
          "attack",
          "other",
          "other",
          "other",
          "attack",
          "attack",
          "other",
          "attack",
          "attack",
          "attack",
          "attack",
          "attack",
          "attack",
          "attack",
          "other",
          "other",
          "attack",
          "attack",
          "other",
          "attack",
          "attack",
          "other",
          "attack",
          "attack",
          "other",
          "other",
          "other",
          "attack",
          "other",
          "attack",
          "other",
          "attack",
          "other",
          "other",
          "other",
          "attack",
          "attack",
          "other",
          "undetermined",
          "other",
          "attack",
          "other",
          "attack",
          "attack",
          "attack",
          "other",
          "attack",
          "other",
          "attack",
          "other",
          "attack",
          "other",
          "attack",
          "other",
          "attack",
          "attack",
          "other",
          "other",
          "attack",
          "attack",
          "other",
          "other",
          "attack",
          "attack",
          "undetermined",
          "attack",
          "other",
          "other",
          "attack",
          "attack",
          "attack",
          "other",
          "other",
          "attack",
          "other",
          "other",
          "other",
          "other",
          "attack",
          "undetermined",
          "attack",
          "attack",
          "other",
          "attack",
          "attack",
          "attack",
          "attack",
          "attack",
          "other",
          "other",
          "attack",
          "other",
          "attack",
          "undetermined",
          "attack",
          "other",
          "other",
          "attack",
          "attack",
          "other",
          "attack",
          "attack",
          "attack",
          "attack",
          "undetermined",
          "attack",
          "attack",
          "undetermined",
          "other",
          "other",
          "other",
          "other",
          "other",
          "other",
          "undetermined",
          "attack",
          "other",
          "other",
          "attack",
          "attack",
          "attack",
          "attack",
          "attack",
          "attack",
          "other",
          "other",
          "other",
          "other",
          "other",
          "attack",
          "attack",
          "other",
          "attack",
          "attack",
          "undetermined",
          "undetermined",
          "attack",
          "attack",
          "other",
          "attack",
          "attack",
          "attack",
          "attack",
          "attack",
          "other",
          "attack",
          "attack",
          "attack",
          "other",
          "attack",
          "attack",
          "attack",
          "attack",
          "attack",
          "other",
          "other",
          "attack",
          "other",
          "attack",
          "attack",
          "other",
          "other",
          "attack",
          "attack",
          "other",
          "attack",
          "other",
          "attack",
          "other",
          "attack",
          "other",
          "attack",
          "attack",
          "other",
          "attack",
          "attack",
          "attack",
          "attack",
          "other",
          "other",
          "other",
          "other",
          "other",
          "attack",
          "attack",
          "attack",
          "attack",
          "other",
          "attack",
          "attack",
          "attack",
          "attack",
          "attack",
          "attack",
          "undetermined",
          "other",
          "attack",
          "other",
          "attack",
          "attack",
          "attack",
          "other",
          "attack",
          "other",
          "undetermined",
          "attack",
          "attack",
          "other",
          "attack",
          "other",
          "attack",
          "other",
          "other",
          "other",
          "attack",
          "attack",
          "attack",
          "other",
          "other",
          "attack",
          "attack",
          "other",
          "attack",
          "attack",
          "attack",
          "attack",
          "attack",
          "attack",
          "other",
          "attack",
          "attack",
          "attack",
          "attack",
          "attack",
          "attack",
          "other",
          "attack",
          "attack",
          "attack",
          "attack",
          "attack",
          "attack",
          "other",
          "attack",
          "attack",
          "other",
          "attack",
          "attack",
          "attack",
          "other",
          "attack",
          "other",
          "other",
          "other",
          "other",
          "other",
          "other",
          "other",
          "other",
          "other",
          "attack",
          "attack",
          "attack",
          "attack",
          "attack",
          "attack",
          "other",
          "attack",
          "attack",
          "other",
          "attack",
          "other",
          "attack",
          "attack",
          "undetermined",
          "attack",
          "attack",
          "undetermined",
          "attack",
          "attack",
          "undetermined",
          "attack",
          "other",
          "other",
          "attack",
          "attack",
          "attack",
          "other",
          "attack",
          "attack",
          "other",
          "attack",
          "attack",
          "undetermined",
          "undetermined",
          "other",
          "other",
          "other",
          "attack",
          "other",
          "attack",
          "other",
          "other",
          "attack",
          "attack",
          "attack",
          "other",
          "attack",
          "other",
          "attack",
          "attack",
          "attack",
          "other",
          "attack",
          "undetermined",
          "other",
          "attack",
          "undetermined",
          "attack",
          "other",
          "other",
          "undetermined",
          "undetermined",
          "other",
          "attack",
          "attack",
          "attack",
          "attack",
          "attack",
          "other",
          "other",
          "undetermined",
          "attack",
          "other",
          "other",
          "attack",
          "other",
          "other",
          "attack",
          "other",
          "undetermined",
          "undetermined",
          "attack",
          "attack",
          "attack",
          "attack",
          "other",
          "attack",
          "attack",
          "other",
          "attack",
          "other",
          "other",
          "other",
          "other",
          "attack",
          "other",
          "other",
          "other",
          "attack",
          "other",
          "attack",
          "attack",
          "undetermined",
          "other",
          "attack",
          "attack",
          "other",
          "other",
          "attack",
          "attack",
          "attack",
          "attack",
          "attack",
          "attack",
          "attack",
          "attack",
          "undetermined",
          "other",
          "other",
          "other",
          "attack",
          "other",
          "undetermined",
          "attack",
          "attack",
          "undetermined",
          "attack",
          "other",
          "attack",
          "other",
          "other",
          "attack",
          "attack",
          "attack",
          "attack",
          "attack",
          "other",
          "attack",
          "other",
          "other",
          "other",
          "attack",
          "attack",
          "other",
          "attack",
          "attack",
          "attack",
          "other",
          "attack",
          "other",
          "other",
          "attack",
          "attack",
          "other",
          "other",
          "other",
          "attack",
          "attack",
          "attack",
          "other",
          "attack",
          "undetermined",
          "other",
          "other",
          "undetermined",
          "other",
          "attack",
          "attack",
          "attack",
          "attack",
          "other",
          "attack",
          "attack",
          "attack",
          "attack",
          "attack",
          "other",
          "attack",
          "attack",
          "attack",
          "attack",
          "attack",
          "other",
          "attack",
          "attack",
          "other",
          "other",
          "other",
          "attack",
          "attack",
          "attack",
          "other",
          "undetermined",
          "attack",
          "attack",
          "other",
          "attack",
          "other",
          "attack",
          "attack",
          "attack",
          "other",
          "attack",
          "attack",
          "attack",
          "attack",
          "attack",
          "attack",
          "attack",
          "other",
          "attack",
          "attack",
          "other",
          "other",
          "attack",
          "attack",
          "attack",
          "attack",
          "attack",
          "attack",
          "attack",
          "attack",
          "attack",
          "other",
          "other",
          "other",
          "attack",
          "undetermined",
          "other",
          "attack",
          "attack",
          "attack",
          "other",
          "attack",
          "other",
          "attack",
          "other",
          "attack",
          "other",
          "other",
          "other",
          "attack",
          "undetermined",
          "other",
          "other",
          "attack",
          "other",
          "other",
          "attack",
          "attack",
          "attack",
          "other",
          "attack",
          "attack",
          "attack",
          "attack",
          "attack",
          "attack",
          "attack",
          "attack",
          "attack",
          "attack",
          "other",
          "other",
          "attack",
          "attack",
          "attack",
          "other",
          "other",
          "attack",
          "attack",
          "other",
          "other",
          "other",
          "other",
          "attack",
          "attack",
          "attack",
          "other",
          "attack",
          "attack",
          "attack",
          "attack",
          "attack",
          "attack",
          "other",
          "attack",
          "other",
          "attack",
          "attack",
          "attack",
          "other",
          "attack",
          "undetermined",
          "attack",
          "other",
          "attack",
          "attack",
          "attack",
          "other",
          "attack",
          "other",
          "other",
          "attack",
          "attack",
          "attack",
          "attack",
          "attack",
          "other",
          "attack",
          "attack",
          "other",
          "other",
          "attack",
          "other",
          "other",
          "other",
          "attack",
          "other",
          "attack",
          "other",
          "other",
          "attack",
          "undetermined",
          "attack",
          "attack",
          "attack",
          "undetermined",
          "other",
          "attack",
          "attack",
          "attack",
          "attack",
          "attack",
          "attack",
          "attack",
          "attack",
          "attack",
          "attack",
          "undetermined",
          "other",
          "attack",
          "attack",
          "attack",
          "other",
          "attack",
          "attack",
          "undetermined",
          "attack",
          "attack",
          "attack",
          "undetermined",
          "attack",
          "other",
          "other",
          "other",
          "attack",
          "other",
          "attack",
          "other",
          "attack",
          "other",
          "attack",
          "other",
          "other",
          "attack",
          "other",
          "undetermined",
          "attack",
          "attack",
          "attack",
          "attack",
          "attack",
          "undetermined",
          "undetermined",
          "attack",
          "attack",
          "attack",
          "undetermined",
          "attack",
          "attack",
          "attack"
         ],
         "legendgroup": "",
         "name": "",
         "showlegend": true,
         "type": "pie"
        }
       ],
       "layout": {
        "legend": {
         "tracegroupgap": 0
        },
        "piecolorway": [
         "Purple",
         "green",
         "blue"
        ],
        "template": {
         "data": {
          "bar": [
           {
            "error_x": {
             "color": "#2a3f5f"
            },
            "error_y": {
             "color": "#2a3f5f"
            },
            "marker": {
             "line": {
              "color": "#E5ECF6",
              "width": 0.5
             }
            },
            "type": "bar"
           }
          ],
          "barpolar": [
           {
            "marker": {
             "line": {
              "color": "#E5ECF6",
              "width": 0.5
             }
            },
            "type": "barpolar"
           }
          ],
          "carpet": [
           {
            "aaxis": {
             "endlinecolor": "#2a3f5f",
             "gridcolor": "white",
             "linecolor": "white",
             "minorgridcolor": "white",
             "startlinecolor": "#2a3f5f"
            },
            "baxis": {
             "endlinecolor": "#2a3f5f",
             "gridcolor": "white",
             "linecolor": "white",
             "minorgridcolor": "white",
             "startlinecolor": "#2a3f5f"
            },
            "type": "carpet"
           }
          ],
          "choropleth": [
           {
            "colorbar": {
             "outlinewidth": 0,
             "ticks": ""
            },
            "type": "choropleth"
           }
          ],
          "contour": [
           {
            "colorbar": {
             "outlinewidth": 0,
             "ticks": ""
            },
            "colorscale": [
             [
              0,
              "#0d0887"
             ],
             [
              0.1111111111111111,
              "#46039f"
             ],
             [
              0.2222222222222222,
              "#7201a8"
             ],
             [
              0.3333333333333333,
              "#9c179e"
             ],
             [
              0.4444444444444444,
              "#bd3786"
             ],
             [
              0.5555555555555556,
              "#d8576b"
             ],
             [
              0.6666666666666666,
              "#ed7953"
             ],
             [
              0.7777777777777778,
              "#fb9f3a"
             ],
             [
              0.8888888888888888,
              "#fdca26"
             ],
             [
              1,
              "#f0f921"
             ]
            ],
            "type": "contour"
           }
          ],
          "contourcarpet": [
           {
            "colorbar": {
             "outlinewidth": 0,
             "ticks": ""
            },
            "type": "contourcarpet"
           }
          ],
          "heatmap": [
           {
            "colorbar": {
             "outlinewidth": 0,
             "ticks": ""
            },
            "colorscale": [
             [
              0,
              "#0d0887"
             ],
             [
              0.1111111111111111,
              "#46039f"
             ],
             [
              0.2222222222222222,
              "#7201a8"
             ],
             [
              0.3333333333333333,
              "#9c179e"
             ],
             [
              0.4444444444444444,
              "#bd3786"
             ],
             [
              0.5555555555555556,
              "#d8576b"
             ],
             [
              0.6666666666666666,
              "#ed7953"
             ],
             [
              0.7777777777777778,
              "#fb9f3a"
             ],
             [
              0.8888888888888888,
              "#fdca26"
             ],
             [
              1,
              "#f0f921"
             ]
            ],
            "type": "heatmap"
           }
          ],
          "heatmapgl": [
           {
            "colorbar": {
             "outlinewidth": 0,
             "ticks": ""
            },
            "colorscale": [
             [
              0,
              "#0d0887"
             ],
             [
              0.1111111111111111,
              "#46039f"
             ],
             [
              0.2222222222222222,
              "#7201a8"
             ],
             [
              0.3333333333333333,
              "#9c179e"
             ],
             [
              0.4444444444444444,
              "#bd3786"
             ],
             [
              0.5555555555555556,
              "#d8576b"
             ],
             [
              0.6666666666666666,
              "#ed7953"
             ],
             [
              0.7777777777777778,
              "#fb9f3a"
             ],
             [
              0.8888888888888888,
              "#fdca26"
             ],
             [
              1,
              "#f0f921"
             ]
            ],
            "type": "heatmapgl"
           }
          ],
          "histogram": [
           {
            "marker": {
             "colorbar": {
              "outlinewidth": 0,
              "ticks": ""
             }
            },
            "type": "histogram"
           }
          ],
          "histogram2d": [
           {
            "colorbar": {
             "outlinewidth": 0,
             "ticks": ""
            },
            "colorscale": [
             [
              0,
              "#0d0887"
             ],
             [
              0.1111111111111111,
              "#46039f"
             ],
             [
              0.2222222222222222,
              "#7201a8"
             ],
             [
              0.3333333333333333,
              "#9c179e"
             ],
             [
              0.4444444444444444,
              "#bd3786"
             ],
             [
              0.5555555555555556,
              "#d8576b"
             ],
             [
              0.6666666666666666,
              "#ed7953"
             ],
             [
              0.7777777777777778,
              "#fb9f3a"
             ],
             [
              0.8888888888888888,
              "#fdca26"
             ],
             [
              1,
              "#f0f921"
             ]
            ],
            "type": "histogram2d"
           }
          ],
          "histogram2dcontour": [
           {
            "colorbar": {
             "outlinewidth": 0,
             "ticks": ""
            },
            "colorscale": [
             [
              0,
              "#0d0887"
             ],
             [
              0.1111111111111111,
              "#46039f"
             ],
             [
              0.2222222222222222,
              "#7201a8"
             ],
             [
              0.3333333333333333,
              "#9c179e"
             ],
             [
              0.4444444444444444,
              "#bd3786"
             ],
             [
              0.5555555555555556,
              "#d8576b"
             ],
             [
              0.6666666666666666,
              "#ed7953"
             ],
             [
              0.7777777777777778,
              "#fb9f3a"
             ],
             [
              0.8888888888888888,
              "#fdca26"
             ],
             [
              1,
              "#f0f921"
             ]
            ],
            "type": "histogram2dcontour"
           }
          ],
          "mesh3d": [
           {
            "colorbar": {
             "outlinewidth": 0,
             "ticks": ""
            },
            "type": "mesh3d"
           }
          ],
          "parcoords": [
           {
            "line": {
             "colorbar": {
              "outlinewidth": 0,
              "ticks": ""
             }
            },
            "type": "parcoords"
           }
          ],
          "pie": [
           {
            "automargin": true,
            "type": "pie"
           }
          ],
          "scatter": [
           {
            "marker": {
             "colorbar": {
              "outlinewidth": 0,
              "ticks": ""
             }
            },
            "type": "scatter"
           }
          ],
          "scatter3d": [
           {
            "line": {
             "colorbar": {
              "outlinewidth": 0,
              "ticks": ""
             }
            },
            "marker": {
             "colorbar": {
              "outlinewidth": 0,
              "ticks": ""
             }
            },
            "type": "scatter3d"
           }
          ],
          "scattercarpet": [
           {
            "marker": {
             "colorbar": {
              "outlinewidth": 0,
              "ticks": ""
             }
            },
            "type": "scattercarpet"
           }
          ],
          "scattergeo": [
           {
            "marker": {
             "colorbar": {
              "outlinewidth": 0,
              "ticks": ""
             }
            },
            "type": "scattergeo"
           }
          ],
          "scattergl": [
           {
            "marker": {
             "colorbar": {
              "outlinewidth": 0,
              "ticks": ""
             }
            },
            "type": "scattergl"
           }
          ],
          "scattermapbox": [
           {
            "marker": {
             "colorbar": {
              "outlinewidth": 0,
              "ticks": ""
             }
            },
            "type": "scattermapbox"
           }
          ],
          "scatterpolar": [
           {
            "marker": {
             "colorbar": {
              "outlinewidth": 0,
              "ticks": ""
             }
            },
            "type": "scatterpolar"
           }
          ],
          "scatterpolargl": [
           {
            "marker": {
             "colorbar": {
              "outlinewidth": 0,
              "ticks": ""
             }
            },
            "type": "scatterpolargl"
           }
          ],
          "scatterternary": [
           {
            "marker": {
             "colorbar": {
              "outlinewidth": 0,
              "ticks": ""
             }
            },
            "type": "scatterternary"
           }
          ],
          "surface": [
           {
            "colorbar": {
             "outlinewidth": 0,
             "ticks": ""
            },
            "colorscale": [
             [
              0,
              "#0d0887"
             ],
             [
              0.1111111111111111,
              "#46039f"
             ],
             [
              0.2222222222222222,
              "#7201a8"
             ],
             [
              0.3333333333333333,
              "#9c179e"
             ],
             [
              0.4444444444444444,
              "#bd3786"
             ],
             [
              0.5555555555555556,
              "#d8576b"
             ],
             [
              0.6666666666666666,
              "#ed7953"
             ],
             [
              0.7777777777777778,
              "#fb9f3a"
             ],
             [
              0.8888888888888888,
              "#fdca26"
             ],
             [
              1,
              "#f0f921"
             ]
            ],
            "type": "surface"
           }
          ],
          "table": [
           {
            "cells": {
             "fill": {
              "color": "#EBF0F8"
             },
             "line": {
              "color": "white"
             }
            },
            "header": {
             "fill": {
              "color": "#C8D4E3"
             },
             "line": {
              "color": "white"
             }
            },
            "type": "table"
           }
          ]
         },
         "layout": {
          "annotationdefaults": {
           "arrowcolor": "#2a3f5f",
           "arrowhead": 0,
           "arrowwidth": 1
          },
          "autotypenumbers": "strict",
          "coloraxis": {
           "colorbar": {
            "outlinewidth": 0,
            "ticks": ""
           }
          },
          "colorscale": {
           "diverging": [
            [
             0,
             "#8e0152"
            ],
            [
             0.1,
             "#c51b7d"
            ],
            [
             0.2,
             "#de77ae"
            ],
            [
             0.3,
             "#f1b6da"
            ],
            [
             0.4,
             "#fde0ef"
            ],
            [
             0.5,
             "#f7f7f7"
            ],
            [
             0.6,
             "#e6f5d0"
            ],
            [
             0.7,
             "#b8e186"
            ],
            [
             0.8,
             "#7fbc41"
            ],
            [
             0.9,
             "#4d9221"
            ],
            [
             1,
             "#276419"
            ]
           ],
           "sequential": [
            [
             0,
             "#0d0887"
            ],
            [
             0.1111111111111111,
             "#46039f"
            ],
            [
             0.2222222222222222,
             "#7201a8"
            ],
            [
             0.3333333333333333,
             "#9c179e"
            ],
            [
             0.4444444444444444,
             "#bd3786"
            ],
            [
             0.5555555555555556,
             "#d8576b"
            ],
            [
             0.6666666666666666,
             "#ed7953"
            ],
            [
             0.7777777777777778,
             "#fb9f3a"
            ],
            [
             0.8888888888888888,
             "#fdca26"
            ],
            [
             1,
             "#f0f921"
            ]
           ],
           "sequentialminus": [
            [
             0,
             "#0d0887"
            ],
            [
             0.1111111111111111,
             "#46039f"
            ],
            [
             0.2222222222222222,
             "#7201a8"
            ],
            [
             0.3333333333333333,
             "#9c179e"
            ],
            [
             0.4444444444444444,
             "#bd3786"
            ],
            [
             0.5555555555555556,
             "#d8576b"
            ],
            [
             0.6666666666666666,
             "#ed7953"
            ],
            [
             0.7777777777777778,
             "#fb9f3a"
            ],
            [
             0.8888888888888888,
             "#fdca26"
            ],
            [
             1,
             "#f0f921"
            ]
           ]
          },
          "colorway": [
           "#636efa",
           "#EF553B",
           "#00cc96",
           "#ab63fa",
           "#FFA15A",
           "#19d3f3",
           "#FF6692",
           "#B6E880",
           "#FF97FF",
           "#FECB52"
          ],
          "font": {
           "color": "#2a3f5f"
          },
          "geo": {
           "bgcolor": "white",
           "lakecolor": "white",
           "landcolor": "#E5ECF6",
           "showlakes": true,
           "showland": true,
           "subunitcolor": "white"
          },
          "hoverlabel": {
           "align": "left"
          },
          "hovermode": "closest",
          "mapbox": {
           "style": "light"
          },
          "paper_bgcolor": "white",
          "plot_bgcolor": "#E5ECF6",
          "polar": {
           "angularaxis": {
            "gridcolor": "white",
            "linecolor": "white",
            "ticks": ""
           },
           "bgcolor": "#E5ECF6",
           "radialaxis": {
            "gridcolor": "white",
            "linecolor": "white",
            "ticks": ""
           }
          },
          "scene": {
           "xaxis": {
            "backgroundcolor": "#E5ECF6",
            "gridcolor": "white",
            "gridwidth": 2,
            "linecolor": "white",
            "showbackground": true,
            "ticks": "",
            "zerolinecolor": "white"
           },
           "yaxis": {
            "backgroundcolor": "#E5ECF6",
            "gridcolor": "white",
            "gridwidth": 2,
            "linecolor": "white",
            "showbackground": true,
            "ticks": "",
            "zerolinecolor": "white"
           },
           "zaxis": {
            "backgroundcolor": "#E5ECF6",
            "gridcolor": "white",
            "gridwidth": 2,
            "linecolor": "white",
            "showbackground": true,
            "ticks": "",
            "zerolinecolor": "white"
           }
          },
          "shapedefaults": {
           "line": {
            "color": "#2a3f5f"
           }
          },
          "ternary": {
           "aaxis": {
            "gridcolor": "white",
            "linecolor": "white",
            "ticks": ""
           },
           "baxis": {
            "gridcolor": "white",
            "linecolor": "white",
            "ticks": ""
           },
           "bgcolor": "#E5ECF6",
           "caxis": {
            "gridcolor": "white",
            "linecolor": "white",
            "ticks": ""
           }
          },
          "title": {
           "x": 0.05
          },
          "xaxis": {
           "automargin": true,
           "gridcolor": "white",
           "linecolor": "white",
           "ticks": "",
           "title": {
            "standoff": 15
           },
           "zerolinecolor": "white",
           "zerolinewidth": 2
          },
          "yaxis": {
           "automargin": true,
           "gridcolor": "white",
           "linecolor": "white",
           "ticks": "",
           "title": {
            "standoff": 15
           },
           "zerolinecolor": "white",
           "zerolinewidth": 2
          }
         }
        },
        "title": {
         "text": "Threat Level"
        }
       }
      }
     },
     "metadata": {}
    }
   ],
   "source": [
    "threat_level(df=kill_and_social)"
   ]
  },
  {
   "source": [
    "#### States with highest percentage of  population with High School finished:\n",
    "Bar chart representing the 10 states with the lowest percentage of people that have finished high school.  New Jersey(NJ), Kentucky(KY) and California(CA) are the ones with lowest percentage.  They don´t reach 80% of people finishing High School "
   ],
   "cell_type": "markdown",
   "metadata": {}
  },
  {
   "cell_type": "code",
   "execution_count": 37,
   "metadata": {},
   "outputs": [
    {
     "output_type": "display_data",
     "data": {
      "text/plain": "<Figure size 720x432 with 1 Axes>",
      "image/svg+xml": "<?xml version=\"1.0\" encoding=\"utf-8\" standalone=\"no\"?>\r\n<!DOCTYPE svg PUBLIC \"-//W3C//DTD SVG 1.1//EN\"\r\n  \"http://www.w3.org/Graphics/SVG/1.1/DTD/svg11.dtd\">\r\n<!-- Created with matplotlib (https://matplotlib.org/) -->\r\n<svg height=\"388.599219pt\" version=\"1.1\" viewBox=\"0 0 605.636875 388.599219\" width=\"605.636875pt\" xmlns=\"http://www.w3.org/2000/svg\" xmlns:xlink=\"http://www.w3.org/1999/xlink\">\r\n <metadata>\r\n  <rdf:RDF xmlns:cc=\"http://creativecommons.org/ns#\" xmlns:dc=\"http://purl.org/dc/elements/1.1/\" xmlns:rdf=\"http://www.w3.org/1999/02/22-rdf-syntax-ns#\">\r\n   <cc:Work>\r\n    <dc:type rdf:resource=\"http://purl.org/dc/dcmitype/StillImage\"/>\r\n    <dc:date>2021-01-10T16:58:26.187966</dc:date>\r\n    <dc:format>image/svg+xml</dc:format>\r\n    <dc:creator>\r\n     <cc:Agent>\r\n      <dc:title>Matplotlib v3.3.3, https://matplotlib.org/</dc:title>\r\n     </cc:Agent>\r\n    </dc:creator>\r\n   </cc:Work>\r\n  </rdf:RDF>\r\n </metadata>\r\n <defs>\r\n  <style type=\"text/css\">*{stroke-linecap:butt;stroke-linejoin:round;}</style>\r\n </defs>\r\n <g id=\"figure_1\">\r\n  <g id=\"patch_1\">\r\n   <path d=\"M 0 388.599219 \r\nL 605.636875 388.599219 \r\nL 605.636875 0 \r\nL 0 0 \r\nz\r\n\" style=\"fill:#ffffff;\"/>\r\n  </g>\r\n  <g id=\"axes_1\">\r\n   <g id=\"patch_2\">\r\n    <path d=\"M 40.436875 350.279531 \r\nL 598.436875 350.279531 \r\nL 598.436875 24.119531 \r\nL 40.436875 24.119531 \r\nz\r\n\" style=\"fill:#ffffff;\"/>\r\n   </g>\r\n   <g id=\"matplotlib.axis_1\">\r\n    <g id=\"xtick_1\">\r\n     <g id=\"text_1\">\r\n      <!-- IL -->\r\n      <g style=\"fill:#262626;\" transform=\"translate(64.167344 364.437344)scale(0.1 -0.1)\">\r\n       <defs>\r\n        <path d=\"M 9.328125 0 \r\nL 9.328125 71.578125 \r\nL 18.796875 71.578125 \r\nL 18.796875 0 \r\nz\r\n\" id=\"ArialMT-73\"/>\r\n        <path d=\"M 7.328125 0 \r\nL 7.328125 71.578125 \r\nL 16.796875 71.578125 \r\nL 16.796875 8.453125 \r\nL 52.046875 8.453125 \r\nL 52.046875 0 \r\nz\r\n\" id=\"ArialMT-76\"/>\r\n       </defs>\r\n       <use xlink:href=\"#ArialMT-73\"/>\r\n       <use x=\"27.783203\" xlink:href=\"#ArialMT-76\"/>\r\n      </g>\r\n     </g>\r\n    </g>\r\n    <g id=\"xtick_2\">\r\n     <g id=\"text_2\">\r\n      <!-- MA -->\r\n      <g style=\"fill:#262626;\" transform=\"translate(116.636875 364.437344)scale(0.1 -0.1)\">\r\n       <defs>\r\n        <path d=\"M 7.421875 0 \r\nL 7.421875 71.578125 \r\nL 21.6875 71.578125 \r\nL 38.625 20.90625 \r\nQ 40.96875 13.8125 42.046875 10.296875 \r\nQ 43.265625 14.203125 45.84375 21.78125 \r\nL 62.984375 71.578125 \r\nL 75.734375 71.578125 \r\nL 75.734375 0 \r\nL 66.609375 0 \r\nL 66.609375 59.90625 \r\nL 45.796875 0 \r\nL 37.25 0 \r\nL 16.546875 60.9375 \r\nL 16.546875 0 \r\nz\r\n\" id=\"ArialMT-77\"/>\r\n        <path d=\"M -0.140625 0 \r\nL 27.34375 71.578125 \r\nL 37.546875 71.578125 \r\nL 66.84375 0 \r\nL 56.0625 0 \r\nL 47.703125 21.6875 \r\nL 17.78125 21.6875 \r\nL 9.90625 0 \r\nz\r\nM 20.515625 29.390625 \r\nL 44.78125 29.390625 \r\nL 37.3125 49.21875 \r\nQ 33.890625 58.25 32.234375 64.0625 \r\nQ 30.859375 57.171875 28.375 50.390625 \r\nz\r\n\" id=\"ArialMT-65\"/>\r\n       </defs>\r\n       <use xlink:href=\"#ArialMT-77\"/>\r\n       <use x=\"83.300781\" xlink:href=\"#ArialMT-65\"/>\r\n      </g>\r\n     </g>\r\n    </g>\r\n    <g id=\"xtick_3\">\r\n     <g id=\"text_3\">\r\n      <!-- GA -->\r\n      <g style=\"fill:#262626;\" transform=\"translate(172.712656 364.437344)scale(0.1 -0.1)\">\r\n       <defs>\r\n        <path d=\"M 41.21875 28.078125 \r\nL 41.21875 36.46875 \r\nL 71.53125 36.53125 \r\nL 71.53125 9.96875 \r\nQ 64.546875 4.390625 57.125 1.578125 \r\nQ 49.703125 -1.21875 41.890625 -1.21875 \r\nQ 31.34375 -1.21875 22.71875 3.296875 \r\nQ 14.109375 7.8125 9.71875 16.359375 \r\nQ 5.328125 24.90625 5.328125 35.453125 \r\nQ 5.328125 45.90625 9.6875 54.953125 \r\nQ 14.0625 64.015625 22.265625 68.40625 \r\nQ 30.46875 72.796875 41.15625 72.796875 \r\nQ 48.921875 72.796875 55.1875 70.28125 \r\nQ 61.46875 67.78125 65.03125 63.28125 \r\nQ 68.609375 58.796875 70.453125 51.5625 \r\nL 61.921875 49.21875 \r\nQ 60.296875 54.6875 57.90625 57.8125 \r\nQ 55.515625 60.9375 51.0625 62.8125 \r\nQ 46.625 64.703125 41.21875 64.703125 \r\nQ 34.71875 64.703125 29.984375 62.71875 \r\nQ 25.25 60.75 22.34375 57.515625 \r\nQ 19.4375 54.296875 17.828125 50.4375 \r\nQ 15.09375 43.796875 15.09375 36.03125 \r\nQ 15.09375 26.46875 18.390625 20.015625 \r\nQ 21.6875 13.578125 27.984375 10.453125 \r\nQ 34.28125 7.328125 41.359375 7.328125 \r\nQ 47.515625 7.328125 53.375 9.6875 \r\nQ 59.234375 12.0625 62.25 14.75 \r\nL 62.25 28.078125 \r\nz\r\n\" id=\"ArialMT-71\"/>\r\n       </defs>\r\n       <use xlink:href=\"#ArialMT-71\"/>\r\n       <use x=\"77.783203\" xlink:href=\"#ArialMT-65\"/>\r\n      </g>\r\n     </g>\r\n    </g>\r\n    <g id=\"xtick_4\">\r\n     <g id=\"text_4\">\r\n      <!-- MS -->\r\n      <g style=\"fill:#262626;\" transform=\"translate(228.236875 364.437344)scale(0.1 -0.1)\">\r\n       <defs>\r\n        <path d=\"M 4.5 23 \r\nL 13.421875 23.78125 \r\nQ 14.0625 18.40625 16.375 14.96875 \r\nQ 18.703125 11.53125 23.578125 9.40625 \r\nQ 28.46875 7.28125 34.578125 7.28125 \r\nQ 39.984375 7.28125 44.140625 8.890625 \r\nQ 48.296875 10.5 50.3125 13.296875 \r\nQ 52.34375 16.109375 52.34375 19.4375 \r\nQ 52.34375 22.796875 50.390625 25.3125 \r\nQ 48.4375 27.828125 43.953125 29.546875 \r\nQ 41.0625 30.671875 31.203125 33.03125 \r\nQ 21.34375 35.40625 17.390625 37.5 \r\nQ 12.25 40.1875 9.734375 44.15625 \r\nQ 7.234375 48.140625 7.234375 53.078125 \r\nQ 7.234375 58.5 10.296875 63.203125 \r\nQ 13.375 67.921875 19.28125 70.359375 \r\nQ 25.203125 72.796875 32.421875 72.796875 \r\nQ 40.375 72.796875 46.453125 70.234375 \r\nQ 52.546875 67.671875 55.8125 62.6875 \r\nQ 59.078125 57.71875 59.328125 51.421875 \r\nL 50.25 50.734375 \r\nQ 49.515625 57.515625 45.28125 60.984375 \r\nQ 41.0625 64.453125 32.8125 64.453125 \r\nQ 24.21875 64.453125 20.28125 61.296875 \r\nQ 16.359375 58.15625 16.359375 53.71875 \r\nQ 16.359375 49.859375 19.140625 47.359375 \r\nQ 21.875 44.875 33.421875 42.265625 \r\nQ 44.96875 39.65625 49.265625 37.703125 \r\nQ 55.515625 34.8125 58.484375 30.390625 \r\nQ 61.46875 25.984375 61.46875 20.21875 \r\nQ 61.46875 14.5 58.203125 9.4375 \r\nQ 54.9375 4.390625 48.796875 1.578125 \r\nQ 42.671875 -1.21875 35.015625 -1.21875 \r\nQ 25.296875 -1.21875 18.71875 1.609375 \r\nQ 12.15625 4.4375 8.421875 10.125 \r\nQ 4.6875 15.828125 4.5 23 \r\nz\r\n\" id=\"ArialMT-83\"/>\r\n       </defs>\r\n       <use xlink:href=\"#ArialMT-77\"/>\r\n       <use x=\"83.300781\" xlink:href=\"#ArialMT-83\"/>\r\n      </g>\r\n     </g>\r\n    </g>\r\n    <g id=\"xtick_5\">\r\n     <g id=\"text_5\">\r\n      <!-- LA -->\r\n      <g style=\"fill:#262626;\" transform=\"translate(285.42125 364.437344)scale(0.1 -0.1)\">\r\n       <use xlink:href=\"#ArialMT-76\"/>\r\n       <use x=\"55.615234\" xlink:href=\"#ArialMT-65\"/>\r\n      </g>\r\n     </g>\r\n    </g>\r\n    <g id=\"xtick_6\">\r\n     <g id=\"text_6\">\r\n      <!-- TX -->\r\n      <g style=\"fill:#262626;\" transform=\"translate(340.947812 364.437344)scale(0.1 -0.1)\">\r\n       <defs>\r\n        <path d=\"M 25.921875 0 \r\nL 25.921875 63.140625 \r\nL 2.34375 63.140625 \r\nL 2.34375 71.578125 \r\nL 59.078125 71.578125 \r\nL 59.078125 63.140625 \r\nL 35.40625 63.140625 \r\nL 35.40625 0 \r\nz\r\n\" id=\"ArialMT-84\"/>\r\n        <path d=\"M 0.4375 0 \r\nL 28.125 37.3125 \r\nL 3.71875 71.578125 \r\nL 14.984375 71.578125 \r\nL 27.984375 53.21875 \r\nQ 32.03125 47.515625 33.734375 44.4375 \r\nQ 36.140625 48.34375 39.40625 52.59375 \r\nL 53.8125 71.578125 \r\nL 64.109375 71.578125 \r\nL 38.96875 37.84375 \r\nL 66.0625 0 \r\nL 54.34375 0 \r\nL 36.328125 25.53125 \r\nQ 34.8125 27.734375 33.203125 30.328125 \r\nQ 30.8125 26.421875 29.78125 24.953125 \r\nL 11.8125 0 \r\nz\r\n\" id=\"ArialMT-88\"/>\r\n       </defs>\r\n       <use xlink:href=\"#ArialMT-84\"/>\r\n       <use x=\"61.083984\" xlink:href=\"#ArialMT-88\"/>\r\n      </g>\r\n     </g>\r\n    </g>\r\n    <g id=\"xtick_7\">\r\n     <g id=\"text_7\">\r\n      <!-- PA -->\r\n      <g style=\"fill:#262626;\" transform=\"translate(396.835313 364.437344)scale(0.1 -0.1)\">\r\n       <defs>\r\n        <path d=\"M 7.71875 0 \r\nL 7.71875 71.578125 \r\nL 34.71875 71.578125 \r\nQ 41.84375 71.578125 45.609375 70.90625 \r\nQ 50.875 70.015625 54.4375 67.546875 \r\nQ 58.015625 65.09375 60.1875 60.640625 \r\nQ 62.359375 56.203125 62.359375 50.875 \r\nQ 62.359375 41.75 56.546875 35.421875 \r\nQ 50.734375 29.109375 35.546875 29.109375 \r\nL 17.1875 29.109375 \r\nL 17.1875 0 \r\nz\r\nM 17.1875 37.546875 \r\nL 35.6875 37.546875 \r\nQ 44.875 37.546875 48.734375 40.96875 \r\nQ 52.59375 44.390625 52.59375 50.59375 \r\nQ 52.59375 55.078125 50.3125 58.265625 \r\nQ 48.046875 61.46875 44.34375 62.5 \r\nQ 41.9375 63.140625 35.5 63.140625 \r\nL 17.1875 63.140625 \r\nz\r\n\" id=\"ArialMT-80\"/>\r\n       </defs>\r\n       <use xlink:href=\"#ArialMT-80\"/>\r\n       <use x=\"59.324219\" xlink:href=\"#ArialMT-65\"/>\r\n      </g>\r\n     </g>\r\n    </g>\r\n    <g id=\"xtick_8\">\r\n     <g id=\"text_8\">\r\n      <!-- CA -->\r\n      <g style=\"fill:#262626;\" transform=\"translate(451.990781 364.437344)scale(0.1 -0.1)\">\r\n       <defs>\r\n        <path d=\"M 58.796875 25.09375 \r\nL 68.265625 22.703125 \r\nQ 65.28125 11.03125 57.546875 4.90625 \r\nQ 49.8125 -1.21875 38.625 -1.21875 \r\nQ 27.046875 -1.21875 19.796875 3.484375 \r\nQ 12.546875 8.203125 8.765625 17.140625 \r\nQ 4.984375 26.078125 4.984375 36.328125 \r\nQ 4.984375 47.515625 9.25 55.828125 \r\nQ 13.53125 64.15625 21.40625 68.46875 \r\nQ 29.296875 72.796875 38.765625 72.796875 \r\nQ 49.515625 72.796875 56.828125 67.328125 \r\nQ 64.15625 61.859375 67.046875 51.953125 \r\nL 57.71875 49.75 \r\nQ 55.21875 57.5625 50.484375 61.125 \r\nQ 45.75 64.703125 38.578125 64.703125 \r\nQ 30.328125 64.703125 24.78125 60.734375 \r\nQ 19.234375 56.78125 16.984375 50.109375 \r\nQ 14.75 43.453125 14.75 36.375 \r\nQ 14.75 27.25 17.40625 20.4375 \r\nQ 20.0625 13.625 25.671875 10.25 \r\nQ 31.296875 6.890625 37.84375 6.890625 \r\nQ 45.796875 6.890625 51.3125 11.46875 \r\nQ 56.84375 16.0625 58.796875 25.09375 \r\nz\r\n\" id=\"ArialMT-67\"/>\r\n       </defs>\r\n       <use xlink:href=\"#ArialMT-67\"/>\r\n       <use x=\"72.216797\" xlink:href=\"#ArialMT-65\"/>\r\n      </g>\r\n     </g>\r\n    </g>\r\n    <g id=\"xtick_9\">\r\n     <g id=\"text_9\">\r\n      <!-- KY -->\r\n      <g style=\"fill:#262626;\" transform=\"translate(508.066563 364.437344)scale(0.1 -0.1)\">\r\n       <defs>\r\n        <path d=\"M 7.328125 0 \r\nL 7.328125 71.578125 \r\nL 16.796875 71.578125 \r\nL 16.796875 36.078125 \r\nL 52.34375 71.578125 \r\nL 65.1875 71.578125 \r\nL 35.15625 42.578125 \r\nL 66.5 0 \r\nL 54 0 \r\nL 28.515625 36.234375 \r\nL 16.796875 24.8125 \r\nL 16.796875 0 \r\nz\r\n\" id=\"ArialMT-75\"/>\r\n        <path d=\"M 27.875 0 \r\nL 27.875 30.328125 \r\nL 0.296875 71.578125 \r\nL 11.8125 71.578125 \r\nL 25.921875 50 \r\nQ 29.828125 43.953125 33.203125 37.890625 \r\nQ 36.421875 43.5 41.015625 50.53125 \r\nL 54.890625 71.578125 \r\nL 65.921875 71.578125 \r\nL 37.359375 30.328125 \r\nL 37.359375 0 \r\nz\r\n\" id=\"ArialMT-89\"/>\r\n       </defs>\r\n       <use xlink:href=\"#ArialMT-75\"/>\r\n       <use x=\"66.699219\" xlink:href=\"#ArialMT-89\"/>\r\n      </g>\r\n     </g>\r\n    </g>\r\n    <g id=\"xtick_10\">\r\n     <g id=\"text_10\">\r\n      <!-- NJ -->\r\n      <g style=\"fill:#262626;\" transform=\"translate(564.425938 364.437344)scale(0.1 -0.1)\">\r\n       <defs>\r\n        <path d=\"M 7.625 0 \r\nL 7.625 71.578125 \r\nL 17.328125 71.578125 \r\nL 54.9375 15.375 \r\nL 54.9375 71.578125 \r\nL 64.015625 71.578125 \r\nL 64.015625 0 \r\nL 54.296875 0 \r\nL 16.703125 56.25 \r\nL 16.703125 0 \r\nz\r\n\" id=\"ArialMT-78\"/>\r\n        <path d=\"M 2.875 20.3125 \r\nL 11.421875 21.484375 \r\nQ 11.765625 13.28125 14.5 10.25 \r\nQ 17.234375 7.234375 22.078125 7.234375 \r\nQ 25.640625 7.234375 28.21875 8.859375 \r\nQ 30.8125 10.5 31.78125 13.296875 \r\nQ 32.765625 16.109375 32.765625 22.265625 \r\nL 32.765625 71.578125 \r\nL 42.234375 71.578125 \r\nL 42.234375 22.796875 \r\nQ 42.234375 13.8125 40.0625 8.875 \r\nQ 37.890625 3.953125 33.171875 1.359375 \r\nQ 28.46875 -1.21875 22.125 -1.21875 \r\nQ 12.703125 -1.21875 7.6875 4.203125 \r\nQ 2.6875 9.625 2.875 20.3125 \r\nz\r\n\" id=\"ArialMT-74\"/>\r\n       </defs>\r\n       <use xlink:href=\"#ArialMT-78\"/>\r\n       <use x=\"72.216797\" xlink:href=\"#ArialMT-74\"/>\r\n      </g>\r\n     </g>\r\n    </g>\r\n    <g id=\"text_11\">\r\n     <!-- States -->\r\n     <g style=\"fill:#262626;\" transform=\"translate(302.427812 379.014219)scale(0.12 -0.12)\">\r\n      <defs>\r\n       <path d=\"M 25.78125 7.859375 \r\nL 27.046875 0.09375 \r\nQ 23.34375 -0.6875 20.40625 -0.6875 \r\nQ 15.625 -0.6875 12.984375 0.828125 \r\nQ 10.359375 2.34375 9.28125 4.8125 \r\nQ 8.203125 7.28125 8.203125 15.1875 \r\nL 8.203125 45.015625 \r\nL 1.765625 45.015625 \r\nL 1.765625 51.859375 \r\nL 8.203125 51.859375 \r\nL 8.203125 64.703125 \r\nL 16.9375 69.96875 \r\nL 16.9375 51.859375 \r\nL 25.78125 51.859375 \r\nL 25.78125 45.015625 \r\nL 16.9375 45.015625 \r\nL 16.9375 14.703125 \r\nQ 16.9375 10.9375 17.40625 9.859375 \r\nQ 17.875 8.796875 18.921875 8.15625 \r\nQ 19.96875 7.515625 21.921875 7.515625 \r\nQ 23.390625 7.515625 25.78125 7.859375 \r\nz\r\n\" id=\"ArialMT-116\"/>\r\n       <path d=\"M 40.4375 6.390625 \r\nQ 35.546875 2.25 31.03125 0.53125 \r\nQ 26.515625 -1.171875 21.34375 -1.171875 \r\nQ 12.796875 -1.171875 8.203125 3 \r\nQ 3.609375 7.171875 3.609375 13.671875 \r\nQ 3.609375 17.484375 5.34375 20.625 \r\nQ 7.078125 23.78125 9.890625 25.6875 \r\nQ 12.703125 27.59375 16.21875 28.5625 \r\nQ 18.796875 29.25 24.03125 29.890625 \r\nQ 34.671875 31.15625 39.703125 32.90625 \r\nQ 39.75 34.71875 39.75 35.203125 \r\nQ 39.75 40.578125 37.25 42.78125 \r\nQ 33.890625 45.75 27.25 45.75 \r\nQ 21.046875 45.75 18.09375 43.578125 \r\nQ 15.140625 41.40625 13.71875 35.890625 \r\nL 5.125 37.0625 \r\nQ 6.296875 42.578125 8.984375 45.96875 \r\nQ 11.671875 49.359375 16.75 51.1875 \r\nQ 21.828125 53.03125 28.515625 53.03125 \r\nQ 35.15625 53.03125 39.296875 51.46875 \r\nQ 43.453125 49.90625 45.40625 47.53125 \r\nQ 47.359375 45.171875 48.140625 41.546875 \r\nQ 48.578125 39.3125 48.578125 33.453125 \r\nL 48.578125 21.734375 \r\nQ 48.578125 9.46875 49.140625 6.21875 \r\nQ 49.703125 2.984375 51.375 0 \r\nL 42.1875 0 \r\nQ 40.828125 2.734375 40.4375 6.390625 \r\nz\r\nM 39.703125 26.03125 \r\nQ 34.90625 24.078125 25.34375 22.703125 \r\nQ 19.921875 21.921875 17.671875 20.9375 \r\nQ 15.4375 19.96875 14.203125 18.09375 \r\nQ 12.984375 16.21875 12.984375 13.921875 \r\nQ 12.984375 10.40625 15.640625 8.0625 \r\nQ 18.3125 5.71875 23.4375 5.71875 \r\nQ 28.515625 5.71875 32.46875 7.9375 \r\nQ 36.421875 10.15625 38.28125 14.015625 \r\nQ 39.703125 17 39.703125 22.796875 \r\nz\r\n\" id=\"ArialMT-97\"/>\r\n       <path d=\"M 42.09375 16.703125 \r\nL 51.171875 15.578125 \r\nQ 49.03125 7.625 43.21875 3.21875 \r\nQ 37.40625 -1.171875 28.375 -1.171875 \r\nQ 17 -1.171875 10.328125 5.828125 \r\nQ 3.65625 12.84375 3.65625 25.484375 \r\nQ 3.65625 38.578125 10.390625 45.796875 \r\nQ 17.140625 53.03125 27.875 53.03125 \r\nQ 38.28125 53.03125 44.875 45.953125 \r\nQ 51.46875 38.875 51.46875 26.03125 \r\nQ 51.46875 25.25 51.421875 23.6875 \r\nL 12.75 23.6875 \r\nQ 13.234375 15.140625 17.578125 10.59375 \r\nQ 21.921875 6.0625 28.421875 6.0625 \r\nQ 33.25 6.0625 36.671875 8.59375 \r\nQ 40.09375 11.140625 42.09375 16.703125 \r\nz\r\nM 13.234375 30.90625 \r\nL 42.1875 30.90625 \r\nQ 41.609375 37.453125 38.875 40.71875 \r\nQ 34.671875 45.796875 27.984375 45.796875 \r\nQ 21.921875 45.796875 17.796875 41.75 \r\nQ 13.671875 37.703125 13.234375 30.90625 \r\nz\r\n\" id=\"ArialMT-101\"/>\r\n       <path d=\"M 3.078125 15.484375 \r\nL 11.765625 16.84375 \r\nQ 12.5 11.625 15.84375 8.84375 \r\nQ 19.1875 6.0625 25.203125 6.0625 \r\nQ 31.25 6.0625 34.171875 8.515625 \r\nQ 37.109375 10.984375 37.109375 14.3125 \r\nQ 37.109375 17.28125 34.515625 19 \r\nQ 32.71875 20.171875 25.53125 21.96875 \r\nQ 15.875 24.421875 12.140625 26.203125 \r\nQ 8.40625 27.984375 6.46875 31.125 \r\nQ 4.546875 34.28125 4.546875 38.09375 \r\nQ 4.546875 41.546875 6.125 44.5 \r\nQ 7.71875 47.46875 10.453125 49.421875 \r\nQ 12.5 50.921875 16.03125 51.96875 \r\nQ 19.578125 53.03125 23.640625 53.03125 \r\nQ 29.734375 53.03125 34.34375 51.265625 \r\nQ 38.96875 49.515625 41.15625 46.5 \r\nQ 43.359375 43.5 44.1875 38.484375 \r\nL 35.59375 37.3125 \r\nQ 35.015625 41.3125 32.203125 43.546875 \r\nQ 29.390625 45.796875 24.265625 45.796875 \r\nQ 18.21875 45.796875 15.625 43.796875 \r\nQ 13.03125 41.796875 13.03125 39.109375 \r\nQ 13.03125 37.40625 14.109375 36.03125 \r\nQ 15.1875 34.625 17.484375 33.6875 \r\nQ 18.796875 33.203125 25.25 31.453125 \r\nQ 34.578125 28.953125 38.25 27.359375 \r\nQ 41.9375 25.78125 44.03125 22.75 \r\nQ 46.140625 19.734375 46.140625 15.234375 \r\nQ 46.140625 10.84375 43.578125 6.953125 \r\nQ 41.015625 3.078125 36.171875 0.953125 \r\nQ 31.34375 -1.171875 25.25 -1.171875 \r\nQ 15.140625 -1.171875 9.84375 3.03125 \r\nQ 4.546875 7.234375 3.078125 15.484375 \r\nz\r\n\" id=\"ArialMT-115\"/>\r\n      </defs>\r\n      <use xlink:href=\"#ArialMT-83\"/>\r\n      <use x=\"66.699219\" xlink:href=\"#ArialMT-116\"/>\r\n      <use x=\"94.482422\" xlink:href=\"#ArialMT-97\"/>\r\n      <use x=\"150.097656\" xlink:href=\"#ArialMT-116\"/>\r\n      <use x=\"177.880859\" xlink:href=\"#ArialMT-101\"/>\r\n      <use x=\"233.496094\" xlink:href=\"#ArialMT-115\"/>\r\n     </g>\r\n    </g>\r\n   </g>\r\n   <g id=\"matplotlib.axis_2\">\r\n    <g id=\"ytick_1\">\r\n     <g id=\"line2d_1\">\r\n      <path clip-path=\"url(#p96260585c4)\" d=\"M 40.436875 350.279531 \r\nL 598.436875 350.279531 \r\n\" style=\"fill:none;stroke:#cccccc;stroke-linecap:round;stroke-width:0.8;\"/>\r\n     </g>\r\n     <g id=\"text_12\">\r\n      <!-- 0 -->\r\n      <g style=\"fill:#262626;\" transform=\"translate(27.875937 353.858437)scale(0.1 -0.1)\">\r\n       <defs>\r\n        <path d=\"M 4.15625 35.296875 \r\nQ 4.15625 48 6.765625 55.734375 \r\nQ 9.375 63.484375 14.515625 67.671875 \r\nQ 19.671875 71.875 27.484375 71.875 \r\nQ 33.25 71.875 37.59375 69.546875 \r\nQ 41.9375 67.234375 44.765625 62.859375 \r\nQ 47.609375 58.5 49.21875 52.21875 \r\nQ 50.828125 45.953125 50.828125 35.296875 \r\nQ 50.828125 22.703125 48.234375 14.96875 \r\nQ 45.65625 7.234375 40.5 3 \r\nQ 35.359375 -1.21875 27.484375 -1.21875 \r\nQ 17.140625 -1.21875 11.234375 6.203125 \r\nQ 4.15625 15.140625 4.15625 35.296875 \r\nz\r\nM 13.1875 35.296875 \r\nQ 13.1875 17.671875 17.3125 11.828125 \r\nQ 21.4375 6 27.484375 6 \r\nQ 33.546875 6 37.671875 11.859375 \r\nQ 41.796875 17.71875 41.796875 35.296875 \r\nQ 41.796875 52.984375 37.671875 58.78125 \r\nQ 33.546875 64.59375 27.390625 64.59375 \r\nQ 21.34375 64.59375 17.71875 59.46875 \r\nQ 13.1875 52.9375 13.1875 35.296875 \r\nz\r\n\" id=\"ArialMT-48\"/>\r\n       </defs>\r\n       <use xlink:href=\"#ArialMT-48\"/>\r\n      </g>\r\n     </g>\r\n    </g>\r\n    <g id=\"ytick_2\">\r\n     <g id=\"line2d_2\">\r\n      <path clip-path=\"url(#p96260585c4)\" d=\"M 40.436875 312.95398 \r\nL 598.436875 312.95398 \r\n\" style=\"fill:none;stroke:#cccccc;stroke-linecap:round;stroke-width:0.8;\"/>\r\n     </g>\r\n     <g id=\"text_13\">\r\n      <!-- 10 -->\r\n      <g style=\"fill:#262626;\" transform=\"translate(22.315 316.532886)scale(0.1 -0.1)\">\r\n       <defs>\r\n        <path d=\"M 37.25 0 \r\nL 28.46875 0 \r\nL 28.46875 56 \r\nQ 25.296875 52.984375 20.140625 49.953125 \r\nQ 14.984375 46.921875 10.890625 45.40625 \r\nL 10.890625 53.90625 \r\nQ 18.265625 57.375 23.78125 62.296875 \r\nQ 29.296875 67.234375 31.59375 71.875 \r\nL 37.25 71.875 \r\nz\r\n\" id=\"ArialMT-49\"/>\r\n       </defs>\r\n       <use xlink:href=\"#ArialMT-49\"/>\r\n       <use x=\"55.615234\" xlink:href=\"#ArialMT-48\"/>\r\n      </g>\r\n     </g>\r\n    </g>\r\n    <g id=\"ytick_3\">\r\n     <g id=\"line2d_3\">\r\n      <path clip-path=\"url(#p96260585c4)\" d=\"M 40.436875 275.628428 \r\nL 598.436875 275.628428 \r\n\" style=\"fill:none;stroke:#cccccc;stroke-linecap:round;stroke-width:0.8;\"/>\r\n     </g>\r\n     <g id=\"text_14\">\r\n      <!-- 20 -->\r\n      <g style=\"fill:#262626;\" transform=\"translate(22.315 279.207335)scale(0.1 -0.1)\">\r\n       <defs>\r\n        <path d=\"M 50.34375 8.453125 \r\nL 50.34375 0 \r\nL 3.03125 0 \r\nQ 2.9375 3.171875 4.046875 6.109375 \r\nQ 5.859375 10.9375 9.828125 15.625 \r\nQ 13.8125 20.3125 21.34375 26.46875 \r\nQ 33.015625 36.03125 37.109375 41.625 \r\nQ 41.21875 47.21875 41.21875 52.203125 \r\nQ 41.21875 57.421875 37.46875 61 \r\nQ 33.734375 64.59375 27.734375 64.59375 \r\nQ 21.390625 64.59375 17.578125 60.78125 \r\nQ 13.765625 56.984375 13.71875 50.25 \r\nL 4.6875 51.171875 \r\nQ 5.609375 61.28125 11.65625 66.578125 \r\nQ 17.71875 71.875 27.9375 71.875 \r\nQ 38.234375 71.875 44.234375 66.15625 \r\nQ 50.25 60.453125 50.25 52 \r\nQ 50.25 47.703125 48.484375 43.546875 \r\nQ 46.734375 39.40625 42.65625 34.8125 \r\nQ 38.578125 30.21875 29.109375 22.21875 \r\nQ 21.1875 15.578125 18.9375 13.203125 \r\nQ 16.703125 10.84375 15.234375 8.453125 \r\nz\r\n\" id=\"ArialMT-50\"/>\r\n       </defs>\r\n       <use xlink:href=\"#ArialMT-50\"/>\r\n       <use x=\"55.615234\" xlink:href=\"#ArialMT-48\"/>\r\n      </g>\r\n     </g>\r\n    </g>\r\n    <g id=\"ytick_4\">\r\n     <g id=\"line2d_4\">\r\n      <path clip-path=\"url(#p96260585c4)\" d=\"M 40.436875 238.302877 \r\nL 598.436875 238.302877 \r\n\" style=\"fill:none;stroke:#cccccc;stroke-linecap:round;stroke-width:0.8;\"/>\r\n     </g>\r\n     <g id=\"text_15\">\r\n      <!-- 30 -->\r\n      <g style=\"fill:#262626;\" transform=\"translate(22.315 241.881783)scale(0.1 -0.1)\">\r\n       <defs>\r\n        <path d=\"M 4.203125 18.890625 \r\nL 12.984375 20.0625 \r\nQ 14.5 12.59375 18.140625 9.296875 \r\nQ 21.78125 6 27 6 \r\nQ 33.203125 6 37.46875 10.296875 \r\nQ 41.75 14.59375 41.75 20.953125 \r\nQ 41.75 27 37.796875 30.921875 \r\nQ 33.84375 34.859375 27.734375 34.859375 \r\nQ 25.25 34.859375 21.53125 33.890625 \r\nL 22.515625 41.609375 \r\nQ 23.390625 41.5 23.921875 41.5 \r\nQ 29.546875 41.5 34.03125 44.421875 \r\nQ 38.53125 47.359375 38.53125 53.46875 \r\nQ 38.53125 58.296875 35.25 61.46875 \r\nQ 31.984375 64.65625 26.8125 64.65625 \r\nQ 21.6875 64.65625 18.265625 61.421875 \r\nQ 14.84375 58.203125 13.875 51.765625 \r\nL 5.078125 53.328125 \r\nQ 6.6875 62.15625 12.390625 67.015625 \r\nQ 18.109375 71.875 26.609375 71.875 \r\nQ 32.46875 71.875 37.390625 69.359375 \r\nQ 42.328125 66.84375 44.9375 62.5 \r\nQ 47.5625 58.15625 47.5625 53.265625 \r\nQ 47.5625 48.640625 45.0625 44.828125 \r\nQ 42.578125 41.015625 37.703125 38.765625 \r\nQ 44.046875 37.3125 47.5625 32.6875 \r\nQ 51.078125 28.078125 51.078125 21.140625 \r\nQ 51.078125 11.765625 44.234375 5.25 \r\nQ 37.40625 -1.265625 26.953125 -1.265625 \r\nQ 17.53125 -1.265625 11.296875 4.34375 \r\nQ 5.078125 9.96875 4.203125 18.890625 \r\nz\r\n\" id=\"ArialMT-51\"/>\r\n       </defs>\r\n       <use xlink:href=\"#ArialMT-51\"/>\r\n       <use x=\"55.615234\" xlink:href=\"#ArialMT-48\"/>\r\n      </g>\r\n     </g>\r\n    </g>\r\n    <g id=\"ytick_5\">\r\n     <g id=\"line2d_5\">\r\n      <path clip-path=\"url(#p96260585c4)\" d=\"M 40.436875 200.977325 \r\nL 598.436875 200.977325 \r\n\" style=\"fill:none;stroke:#cccccc;stroke-linecap:round;stroke-width:0.8;\"/>\r\n     </g>\r\n     <g id=\"text_16\">\r\n      <!-- 40 -->\r\n      <g style=\"fill:#262626;\" transform=\"translate(22.315 204.556232)scale(0.1 -0.1)\">\r\n       <defs>\r\n        <path d=\"M 32.328125 0 \r\nL 32.328125 17.140625 \r\nL 1.265625 17.140625 \r\nL 1.265625 25.203125 \r\nL 33.9375 71.578125 \r\nL 41.109375 71.578125 \r\nL 41.109375 25.203125 \r\nL 50.78125 25.203125 \r\nL 50.78125 17.140625 \r\nL 41.109375 17.140625 \r\nL 41.109375 0 \r\nz\r\nM 32.328125 25.203125 \r\nL 32.328125 57.46875 \r\nL 9.90625 25.203125 \r\nz\r\n\" id=\"ArialMT-52\"/>\r\n       </defs>\r\n       <use xlink:href=\"#ArialMT-52\"/>\r\n       <use x=\"55.615234\" xlink:href=\"#ArialMT-48\"/>\r\n      </g>\r\n     </g>\r\n    </g>\r\n    <g id=\"ytick_6\">\r\n     <g id=\"line2d_6\">\r\n      <path clip-path=\"url(#p96260585c4)\" d=\"M 40.436875 163.651774 \r\nL 598.436875 163.651774 \r\n\" style=\"fill:none;stroke:#cccccc;stroke-linecap:round;stroke-width:0.8;\"/>\r\n     </g>\r\n     <g id=\"text_17\">\r\n      <!-- 50 -->\r\n      <g style=\"fill:#262626;\" transform=\"translate(22.315 167.23068)scale(0.1 -0.1)\">\r\n       <defs>\r\n        <path d=\"M 4.15625 18.75 \r\nL 13.375 19.53125 \r\nQ 14.40625 12.796875 18.140625 9.390625 \r\nQ 21.875 6 27.15625 6 \r\nQ 33.5 6 37.890625 10.78125 \r\nQ 42.28125 15.578125 42.28125 23.484375 \r\nQ 42.28125 31 38.0625 35.34375 \r\nQ 33.84375 39.703125 27 39.703125 \r\nQ 22.75 39.703125 19.328125 37.765625 \r\nQ 15.921875 35.84375 13.96875 32.765625 \r\nL 5.71875 33.84375 \r\nL 12.640625 70.609375 \r\nL 48.25 70.609375 \r\nL 48.25 62.203125 \r\nL 19.671875 62.203125 \r\nL 15.828125 42.96875 \r\nQ 22.265625 47.46875 29.34375 47.46875 \r\nQ 38.71875 47.46875 45.15625 40.96875 \r\nQ 51.609375 34.46875 51.609375 24.265625 \r\nQ 51.609375 14.546875 45.953125 7.46875 \r\nQ 39.0625 -1.21875 27.15625 -1.21875 \r\nQ 17.390625 -1.21875 11.203125 4.25 \r\nQ 5.03125 9.71875 4.15625 18.75 \r\nz\r\n\" id=\"ArialMT-53\"/>\r\n       </defs>\r\n       <use xlink:href=\"#ArialMT-53\"/>\r\n       <use x=\"55.615234\" xlink:href=\"#ArialMT-48\"/>\r\n      </g>\r\n     </g>\r\n    </g>\r\n    <g id=\"ytick_7\">\r\n     <g id=\"line2d_7\">\r\n      <path clip-path=\"url(#p96260585c4)\" d=\"M 40.436875 126.326223 \r\nL 598.436875 126.326223 \r\n\" style=\"fill:none;stroke:#cccccc;stroke-linecap:round;stroke-width:0.8;\"/>\r\n     </g>\r\n     <g id=\"text_18\">\r\n      <!-- 60 -->\r\n      <g style=\"fill:#262626;\" transform=\"translate(22.315 129.905129)scale(0.1 -0.1)\">\r\n       <defs>\r\n        <path d=\"M 49.75 54.046875 \r\nL 41.015625 53.375 \r\nQ 39.84375 58.546875 37.703125 60.890625 \r\nQ 34.125 64.65625 28.90625 64.65625 \r\nQ 24.703125 64.65625 21.53125 62.3125 \r\nQ 17.390625 59.28125 14.984375 53.46875 \r\nQ 12.59375 47.65625 12.5 36.921875 \r\nQ 15.671875 41.75 20.265625 44.09375 \r\nQ 24.859375 46.4375 29.890625 46.4375 \r\nQ 38.671875 46.4375 44.84375 39.96875 \r\nQ 51.03125 33.5 51.03125 23.25 \r\nQ 51.03125 16.5 48.125 10.71875 \r\nQ 45.21875 4.9375 40.140625 1.859375 \r\nQ 35.0625 -1.21875 28.609375 -1.21875 \r\nQ 17.625 -1.21875 10.6875 6.859375 \r\nQ 3.765625 14.9375 3.765625 33.5 \r\nQ 3.765625 54.25 11.421875 63.671875 \r\nQ 18.109375 71.875 29.4375 71.875 \r\nQ 37.890625 71.875 43.28125 67.140625 \r\nQ 48.6875 62.40625 49.75 54.046875 \r\nz\r\nM 13.875 23.1875 \r\nQ 13.875 18.65625 15.796875 14.5 \r\nQ 17.71875 10.359375 21.1875 8.171875 \r\nQ 24.65625 6 28.46875 6 \r\nQ 34.03125 6 38.03125 10.484375 \r\nQ 42.046875 14.984375 42.046875 22.703125 \r\nQ 42.046875 30.125 38.078125 34.390625 \r\nQ 34.125 38.671875 28.125 38.671875 \r\nQ 22.171875 38.671875 18.015625 34.390625 \r\nQ 13.875 30.125 13.875 23.1875 \r\nz\r\n\" id=\"ArialMT-54\"/>\r\n       </defs>\r\n       <use xlink:href=\"#ArialMT-54\"/>\r\n       <use x=\"55.615234\" xlink:href=\"#ArialMT-48\"/>\r\n      </g>\r\n     </g>\r\n    </g>\r\n    <g id=\"ytick_8\">\r\n     <g id=\"line2d_8\">\r\n      <path clip-path=\"url(#p96260585c4)\" d=\"M 40.436875 89.000671 \r\nL 598.436875 89.000671 \r\n\" style=\"fill:none;stroke:#cccccc;stroke-linecap:round;stroke-width:0.8;\"/>\r\n     </g>\r\n     <g id=\"text_19\">\r\n      <!-- 70 -->\r\n      <g style=\"fill:#262626;\" transform=\"translate(22.315 92.579577)scale(0.1 -0.1)\">\r\n       <defs>\r\n        <path d=\"M 4.734375 62.203125 \r\nL 4.734375 70.65625 \r\nL 51.078125 70.65625 \r\nL 51.078125 63.8125 \r\nQ 44.234375 56.546875 37.515625 44.484375 \r\nQ 30.8125 32.421875 27.15625 19.671875 \r\nQ 24.515625 10.6875 23.78125 0 \r\nL 14.75 0 \r\nQ 14.890625 8.453125 18.0625 20.40625 \r\nQ 21.234375 32.375 27.171875 43.484375 \r\nQ 33.109375 54.59375 39.796875 62.203125 \r\nz\r\n\" id=\"ArialMT-55\"/>\r\n       </defs>\r\n       <use xlink:href=\"#ArialMT-55\"/>\r\n       <use x=\"55.615234\" xlink:href=\"#ArialMT-48\"/>\r\n      </g>\r\n     </g>\r\n    </g>\r\n    <g id=\"ytick_9\">\r\n     <g id=\"line2d_9\">\r\n      <path clip-path=\"url(#p96260585c4)\" d=\"M 40.436875 51.67512 \r\nL 598.436875 51.67512 \r\n\" style=\"fill:none;stroke:#cccccc;stroke-linecap:round;stroke-width:0.8;\"/>\r\n     </g>\r\n     <g id=\"text_20\">\r\n      <!-- 80 -->\r\n      <g style=\"fill:#262626;\" transform=\"translate(22.315 55.254026)scale(0.1 -0.1)\">\r\n       <defs>\r\n        <path d=\"M 17.671875 38.8125 \r\nQ 12.203125 40.828125 9.5625 44.53125 \r\nQ 6.9375 48.25 6.9375 53.421875 \r\nQ 6.9375 61.234375 12.546875 66.546875 \r\nQ 18.171875 71.875 27.484375 71.875 \r\nQ 36.859375 71.875 42.578125 66.421875 \r\nQ 48.296875 60.984375 48.296875 53.171875 \r\nQ 48.296875 48.1875 45.671875 44.5 \r\nQ 43.0625 40.828125 37.75 38.8125 \r\nQ 44.34375 36.671875 47.78125 31.875 \r\nQ 51.21875 27.09375 51.21875 20.453125 \r\nQ 51.21875 11.28125 44.71875 5.03125 \r\nQ 38.234375 -1.21875 27.640625 -1.21875 \r\nQ 17.046875 -1.21875 10.546875 5.046875 \r\nQ 4.046875 11.328125 4.046875 20.703125 \r\nQ 4.046875 27.6875 7.59375 32.390625 \r\nQ 11.140625 37.109375 17.671875 38.8125 \r\nz\r\nM 15.921875 53.71875 \r\nQ 15.921875 48.640625 19.1875 45.40625 \r\nQ 22.46875 42.1875 27.6875 42.1875 \r\nQ 32.765625 42.1875 36.015625 45.375 \r\nQ 39.265625 48.578125 39.265625 53.21875 \r\nQ 39.265625 58.0625 35.90625 61.359375 \r\nQ 32.5625 64.65625 27.59375 64.65625 \r\nQ 22.5625 64.65625 19.234375 61.421875 \r\nQ 15.921875 58.203125 15.921875 53.71875 \r\nz\r\nM 13.09375 20.65625 \r\nQ 13.09375 16.890625 14.875 13.375 \r\nQ 16.65625 9.859375 20.171875 7.921875 \r\nQ 23.6875 6 27.734375 6 \r\nQ 34.03125 6 38.125 10.046875 \r\nQ 42.234375 14.109375 42.234375 20.359375 \r\nQ 42.234375 26.703125 38.015625 30.859375 \r\nQ 33.796875 35.015625 27.4375 35.015625 \r\nQ 21.234375 35.015625 17.15625 30.90625 \r\nQ 13.09375 26.8125 13.09375 20.65625 \r\nz\r\n\" id=\"ArialMT-56\"/>\r\n       </defs>\r\n       <use xlink:href=\"#ArialMT-56\"/>\r\n       <use x=\"55.615234\" xlink:href=\"#ArialMT-48\"/>\r\n      </g>\r\n     </g>\r\n    </g>\r\n    <g id=\"text_21\">\r\n     <!-- Percentage -->\r\n     <g style=\"fill:#262626;\" transform=\"translate(15.789375 217.885781)rotate(-90)scale(0.12 -0.12)\">\r\n      <defs>\r\n       <path d=\"M 6.5 0 \r\nL 6.5 51.859375 \r\nL 14.40625 51.859375 \r\nL 14.40625 44 \r\nQ 17.4375 49.515625 20 51.265625 \r\nQ 22.5625 53.03125 25.640625 53.03125 \r\nQ 30.078125 53.03125 34.671875 50.203125 \r\nL 31.640625 42.046875 \r\nQ 28.421875 43.953125 25.203125 43.953125 \r\nQ 22.3125 43.953125 20.015625 42.21875 \r\nQ 17.71875 40.484375 16.75 37.40625 \r\nQ 15.28125 32.71875 15.28125 27.15625 \r\nL 15.28125 0 \r\nz\r\n\" id=\"ArialMT-114\"/>\r\n       <path d=\"M 40.4375 19 \r\nL 49.078125 17.875 \r\nQ 47.65625 8.9375 41.8125 3.875 \r\nQ 35.984375 -1.171875 27.484375 -1.171875 \r\nQ 16.84375 -1.171875 10.375 5.78125 \r\nQ 3.90625 12.75 3.90625 25.734375 \r\nQ 3.90625 34.125 6.6875 40.421875 \r\nQ 9.46875 46.734375 15.15625 49.875 \r\nQ 20.84375 53.03125 27.546875 53.03125 \r\nQ 35.984375 53.03125 41.359375 48.75 \r\nQ 46.734375 44.484375 48.25 36.625 \r\nL 39.703125 35.296875 \r\nQ 38.484375 40.53125 35.375 43.15625 \r\nQ 32.28125 45.796875 27.875 45.796875 \r\nQ 21.234375 45.796875 17.078125 41.03125 \r\nQ 12.9375 36.28125 12.9375 25.984375 \r\nQ 12.9375 15.53125 16.9375 10.796875 \r\nQ 20.953125 6.0625 27.390625 6.0625 \r\nQ 32.5625 6.0625 36.03125 9.234375 \r\nQ 39.5 12.40625 40.4375 19 \r\nz\r\n\" id=\"ArialMT-99\"/>\r\n       <path d=\"M 6.59375 0 \r\nL 6.59375 51.859375 \r\nL 14.5 51.859375 \r\nL 14.5 44.484375 \r\nQ 20.21875 53.03125 31 53.03125 \r\nQ 35.6875 53.03125 39.625 51.34375 \r\nQ 43.5625 49.65625 45.515625 46.921875 \r\nQ 47.46875 44.1875 48.25 40.4375 \r\nQ 48.734375 37.984375 48.734375 31.890625 \r\nL 48.734375 0 \r\nL 39.9375 0 \r\nL 39.9375 31.546875 \r\nQ 39.9375 36.921875 38.90625 39.578125 \r\nQ 37.890625 42.234375 35.28125 43.8125 \r\nQ 32.671875 45.40625 29.15625 45.40625 \r\nQ 23.53125 45.40625 19.453125 41.84375 \r\nQ 15.375 38.28125 15.375 28.328125 \r\nL 15.375 0 \r\nz\r\n\" id=\"ArialMT-110\"/>\r\n       <path d=\"M 4.984375 -4.296875 \r\nL 13.53125 -5.5625 \r\nQ 14.0625 -9.515625 16.5 -11.328125 \r\nQ 19.78125 -13.765625 25.4375 -13.765625 \r\nQ 31.546875 -13.765625 34.859375 -11.328125 \r\nQ 38.1875 -8.890625 39.359375 -4.5 \r\nQ 40.046875 -1.8125 39.984375 6.78125 \r\nQ 34.234375 0 25.640625 0 \r\nQ 14.9375 0 9.078125 7.71875 \r\nQ 3.21875 15.4375 3.21875 26.21875 \r\nQ 3.21875 33.640625 5.90625 39.90625 \r\nQ 8.59375 46.1875 13.6875 49.609375 \r\nQ 18.796875 53.03125 25.6875 53.03125 \r\nQ 34.859375 53.03125 40.828125 45.609375 \r\nL 40.828125 51.859375 \r\nL 48.921875 51.859375 \r\nL 48.921875 7.03125 \r\nQ 48.921875 -5.078125 46.453125 -10.125 \r\nQ 44 -15.1875 38.640625 -18.109375 \r\nQ 33.296875 -21.046875 25.484375 -21.046875 \r\nQ 16.21875 -21.046875 10.5 -16.875 \r\nQ 4.78125 -12.703125 4.984375 -4.296875 \r\nz\r\nM 12.25 26.859375 \r\nQ 12.25 16.65625 16.296875 11.96875 \r\nQ 20.359375 7.28125 26.46875 7.28125 \r\nQ 32.515625 7.28125 36.609375 11.9375 \r\nQ 40.71875 16.609375 40.71875 26.5625 \r\nQ 40.71875 36.078125 36.5 40.90625 \r\nQ 32.28125 45.75 26.3125 45.75 \r\nQ 20.453125 45.75 16.34375 40.984375 \r\nQ 12.25 36.234375 12.25 26.859375 \r\nz\r\n\" id=\"ArialMT-103\"/>\r\n      </defs>\r\n      <use xlink:href=\"#ArialMT-80\"/>\r\n      <use x=\"66.699219\" xlink:href=\"#ArialMT-101\"/>\r\n      <use x=\"122.314453\" xlink:href=\"#ArialMT-114\"/>\r\n      <use x=\"155.615234\" xlink:href=\"#ArialMT-99\"/>\r\n      <use x=\"205.615234\" xlink:href=\"#ArialMT-101\"/>\r\n      <use x=\"261.230469\" xlink:href=\"#ArialMT-110\"/>\r\n      <use x=\"316.845703\" xlink:href=\"#ArialMT-116\"/>\r\n      <use x=\"344.628906\" xlink:href=\"#ArialMT-97\"/>\r\n      <use x=\"400.244141\" xlink:href=\"#ArialMT-103\"/>\r\n      <use x=\"455.859375\" xlink:href=\"#ArialMT-101\"/>\r\n     </g>\r\n    </g>\r\n   </g>\r\n   <g id=\"patch_3\">\r\n    <path clip-path=\"url(#p96260585c4)\" d=\"M 46.016875 350.279531 \r\nL 90.656875 350.279531 \r\nL 90.656875 39.65096 \r\nL 46.016875 39.65096 \r\nz\r\n\" style=\"fill:#3274a1;stroke:#ffffff;stroke-linejoin:miter;\"/>\r\n   </g>\r\n   <g id=\"patch_4\">\r\n    <path clip-path=\"url(#p96260585c4)\" d=\"M 101.816875 350.279531 \r\nL 146.456875 350.279531 \r\nL 146.456875 39.752899 \r\nL 101.816875 39.752899 \r\nz\r\n\" style=\"fill:#e1812c;stroke:#ffffff;stroke-linejoin:miter;\"/>\r\n   </g>\r\n   <g id=\"patch_5\">\r\n    <path clip-path=\"url(#p96260585c4)\" d=\"M 157.616875 350.279531 \r\nL 202.256875 350.279531 \r\nL 202.256875 40.209837 \r\nL 157.616875 40.209837 \r\nz\r\n\" style=\"fill:#3a923a;stroke:#ffffff;stroke-linejoin:miter;\"/>\r\n   </g>\r\n   <g id=\"patch_6\">\r\n    <path clip-path=\"url(#p96260585c4)\" d=\"M 213.416875 350.279531 \r\nL 258.056875 350.279531 \r\nL 258.056875 42.269081 \r\nL 213.416875 42.269081 \r\nz\r\n\" style=\"fill:#c03d3e;stroke:#ffffff;stroke-linejoin:miter;\"/>\r\n   </g>\r\n   <g id=\"patch_7\">\r\n    <path clip-path=\"url(#p96260585c4)\" d=\"M 269.216875 350.279531 \r\nL 313.856875 350.279531 \r\nL 313.856875 45.12692 \r\nL 269.216875 45.12692 \r\nz\r\n\" style=\"fill:#9372b2;stroke:#ffffff;stroke-linejoin:miter;\"/>\r\n   </g>\r\n   <g id=\"patch_8\">\r\n    <path clip-path=\"url(#p96260585c4)\" d=\"M 325.016875 350.279531 \r\nL 369.656875 350.279531 \r\nL 369.656875 49.654125 \r\nL 325.016875 49.654125 \r\nz\r\n\" style=\"fill:#845b53;stroke:#ffffff;stroke-linejoin:miter;\"/>\r\n   </g>\r\n   <g id=\"patch_9\">\r\n    <path clip-path=\"url(#p96260585c4)\" d=\"M 380.816875 350.279531 \r\nL 425.456875 350.279531 \r\nL 425.456875 50.750868 \r\nL 380.816875 50.750868 \r\nz\r\n\" style=\"fill:#d684bd;stroke:#ffffff;stroke-linejoin:miter;\"/>\r\n   </g>\r\n   <g id=\"patch_10\">\r\n    <path clip-path=\"url(#p96260585c4)\" d=\"M 436.616875 350.279531 \r\nL 481.256875 350.279531 \r\nL 481.256875 56.120936 \r\nL 436.616875 56.120936 \r\nz\r\n\" style=\"fill:#7f7f7f;stroke:#ffffff;stroke-linejoin:miter;\"/>\r\n   </g>\r\n   <g id=\"patch_11\">\r\n    <path clip-path=\"url(#p96260585c4)\" d=\"M 492.416875 350.279531 \r\nL 537.056875 350.279531 \r\nL 537.056875 56.745174 \r\nL 492.416875 56.745174 \r\nz\r\n\" style=\"fill:#a9aa35;stroke:#ffffff;stroke-linejoin:miter;\"/>\r\n   </g>\r\n   <g id=\"patch_12\">\r\n    <path clip-path=\"url(#p96260585c4)\" d=\"M 548.216875 350.279531 \r\nL 592.856875 350.279531 \r\nL 592.856875 71.998882 \r\nL 548.216875 71.998882 \r\nz\r\n\" style=\"fill:#2eabb8;stroke:#ffffff;stroke-linejoin:miter;\"/>\r\n   </g>\r\n   <g id=\"line2d_10\">\r\n    <path clip-path=\"url(#p96260585c4)\" d=\"M 0 0 \r\n\" style=\"fill:none;stroke:#424242;stroke-linecap:round;stroke-width:2.7;\"/>\r\n   </g>\r\n   <g id=\"line2d_11\">\r\n    <path clip-path=\"url(#p96260585c4)\" d=\"M 0 0 \r\n\" style=\"fill:none;stroke:#424242;stroke-linecap:round;stroke-width:2.7;\"/>\r\n   </g>\r\n   <g id=\"line2d_12\">\r\n    <path clip-path=\"url(#p96260585c4)\" d=\"M 0 0 \r\n\" style=\"fill:none;stroke:#424242;stroke-linecap:round;stroke-width:2.7;\"/>\r\n   </g>\r\n   <g id=\"line2d_13\">\r\n    <path clip-path=\"url(#p96260585c4)\" d=\"M 0 0 \r\n\" style=\"fill:none;stroke:#424242;stroke-linecap:round;stroke-width:2.7;\"/>\r\n   </g>\r\n   <g id=\"line2d_14\">\r\n    <path clip-path=\"url(#p96260585c4)\" d=\"M 0 0 \r\n\" style=\"fill:none;stroke:#424242;stroke-linecap:round;stroke-width:2.7;\"/>\r\n   </g>\r\n   <g id=\"line2d_15\">\r\n    <path clip-path=\"url(#p96260585c4)\" d=\"M 0 0 \r\n\" style=\"fill:none;stroke:#424242;stroke-linecap:round;stroke-width:2.7;\"/>\r\n   </g>\r\n   <g id=\"line2d_16\">\r\n    <path clip-path=\"url(#p96260585c4)\" d=\"M 0 0 \r\n\" style=\"fill:none;stroke:#424242;stroke-linecap:round;stroke-width:2.7;\"/>\r\n   </g>\r\n   <g id=\"line2d_17\">\r\n    <path clip-path=\"url(#p96260585c4)\" d=\"M 0 0 \r\n\" style=\"fill:none;stroke:#424242;stroke-linecap:round;stroke-width:2.7;\"/>\r\n   </g>\r\n   <g id=\"line2d_18\">\r\n    <path clip-path=\"url(#p96260585c4)\" d=\"M 0 0 \r\n\" style=\"fill:none;stroke:#424242;stroke-linecap:round;stroke-width:2.7;\"/>\r\n   </g>\r\n   <g id=\"line2d_19\">\r\n    <path clip-path=\"url(#p96260585c4)\" d=\"M 0 0 \r\n\" style=\"fill:none;stroke:#424242;stroke-linecap:round;stroke-width:2.7;\"/>\r\n   </g>\r\n   <g id=\"patch_13\">\r\n    <path d=\"M 40.436875 350.279531 \r\nL 40.436875 24.119531 \r\n\" style=\"fill:none;stroke:#cccccc;stroke-linecap:square;stroke-linejoin:miter;stroke-width:0.8;\"/>\r\n   </g>\r\n   <g id=\"patch_14\">\r\n    <path d=\"M 598.436875 350.279531 \r\nL 598.436875 24.119531 \r\n\" style=\"fill:none;stroke:#cccccc;stroke-linecap:square;stroke-linejoin:miter;stroke-width:0.8;\"/>\r\n   </g>\r\n   <g id=\"patch_15\">\r\n    <path d=\"M 40.436875 350.279531 \r\nL 598.436875 350.279531 \r\n\" style=\"fill:none;stroke:#cccccc;stroke-linecap:square;stroke-linejoin:miter;stroke-width:0.8;\"/>\r\n   </g>\r\n   <g id=\"patch_16\">\r\n    <path d=\"M 40.436875 24.119531 \r\nL 598.436875 24.119531 \r\n\" style=\"fill:none;stroke:#cccccc;stroke-linecap:square;stroke-linejoin:miter;stroke-width:0.8;\"/>\r\n   </g>\r\n   <g id=\"text_22\">\r\n    <!-- Amount of people with High School finished -->\r\n    <g style=\"fill:#262626;\" transform=\"translate(174.773594 18.119531)scale(0.15 -0.15)\">\r\n     <defs>\r\n      <path d=\"M 6.59375 0 \r\nL 6.59375 51.859375 \r\nL 14.453125 51.859375 \r\nL 14.453125 44.578125 \r\nQ 16.890625 48.390625 20.9375 50.703125 \r\nQ 25 53.03125 30.171875 53.03125 \r\nQ 35.9375 53.03125 39.625 50.640625 \r\nQ 43.3125 48.25 44.828125 43.953125 \r\nQ 50.984375 53.03125 60.84375 53.03125 \r\nQ 68.5625 53.03125 72.703125 48.75 \r\nQ 76.859375 44.484375 76.859375 35.59375 \r\nL 76.859375 0 \r\nL 68.109375 0 \r\nL 68.109375 32.671875 \r\nQ 68.109375 37.9375 67.25 40.25 \r\nQ 66.40625 42.578125 64.15625 43.984375 \r\nQ 61.921875 45.40625 58.890625 45.40625 \r\nQ 53.421875 45.40625 49.796875 41.765625 \r\nQ 46.1875 38.140625 46.1875 30.125 \r\nL 46.1875 0 \r\nL 37.40625 0 \r\nL 37.40625 33.6875 \r\nQ 37.40625 39.546875 35.25 42.46875 \r\nQ 33.109375 45.40625 28.21875 45.40625 \r\nQ 24.515625 45.40625 21.359375 43.453125 \r\nQ 18.21875 41.5 16.796875 37.734375 \r\nQ 15.375 33.984375 15.375 26.90625 \r\nL 15.375 0 \r\nz\r\n\" id=\"ArialMT-109\"/>\r\n      <path d=\"M 3.328125 25.921875 \r\nQ 3.328125 40.328125 11.328125 47.265625 \r\nQ 18.015625 53.03125 27.640625 53.03125 \r\nQ 38.328125 53.03125 45.109375 46.015625 \r\nQ 51.90625 39.015625 51.90625 26.65625 \r\nQ 51.90625 16.65625 48.90625 10.90625 \r\nQ 45.90625 5.171875 40.15625 2 \r\nQ 34.421875 -1.171875 27.640625 -1.171875 \r\nQ 16.75 -1.171875 10.03125 5.8125 \r\nQ 3.328125 12.796875 3.328125 25.921875 \r\nz\r\nM 12.359375 25.921875 \r\nQ 12.359375 15.96875 16.703125 11.015625 \r\nQ 21.046875 6.0625 27.640625 6.0625 \r\nQ 34.1875 6.0625 38.53125 11.03125 \r\nQ 42.875 16.015625 42.875 26.21875 \r\nQ 42.875 35.84375 38.5 40.796875 \r\nQ 34.125 45.75 27.640625 45.75 \r\nQ 21.046875 45.75 16.703125 40.8125 \r\nQ 12.359375 35.890625 12.359375 25.921875 \r\nz\r\n\" id=\"ArialMT-111\"/>\r\n      <path d=\"M 40.578125 0 \r\nL 40.578125 7.625 \r\nQ 34.515625 -1.171875 24.125 -1.171875 \r\nQ 19.53125 -1.171875 15.546875 0.578125 \r\nQ 11.578125 2.34375 9.640625 5 \r\nQ 7.71875 7.671875 6.9375 11.53125 \r\nQ 6.390625 14.109375 6.390625 19.734375 \r\nL 6.390625 51.859375 \r\nL 15.1875 51.859375 \r\nL 15.1875 23.09375 \r\nQ 15.1875 16.21875 15.71875 13.8125 \r\nQ 16.546875 10.359375 19.234375 8.375 \r\nQ 21.921875 6.390625 25.875 6.390625 \r\nQ 29.828125 6.390625 33.296875 8.421875 \r\nQ 36.765625 10.453125 38.203125 13.9375 \r\nQ 39.65625 17.4375 39.65625 24.078125 \r\nL 39.65625 51.859375 \r\nL 48.4375 51.859375 \r\nL 48.4375 0 \r\nz\r\n\" id=\"ArialMT-117\"/>\r\n      <path id=\"ArialMT-32\"/>\r\n      <path d=\"M 8.6875 0 \r\nL 8.6875 45.015625 \r\nL 0.921875 45.015625 \r\nL 0.921875 51.859375 \r\nL 8.6875 51.859375 \r\nL 8.6875 57.375 \r\nQ 8.6875 62.59375 9.625 65.140625 \r\nQ 10.890625 68.5625 14.078125 70.671875 \r\nQ 17.28125 72.796875 23.046875 72.796875 \r\nQ 26.765625 72.796875 31.25 71.921875 \r\nL 29.9375 64.265625 \r\nQ 27.203125 64.75 24.75 64.75 \r\nQ 20.75 64.75 19.09375 63.03125 \r\nQ 17.4375 61.328125 17.4375 56.640625 \r\nL 17.4375 51.859375 \r\nL 27.546875 51.859375 \r\nL 27.546875 45.015625 \r\nL 17.4375 45.015625 \r\nL 17.4375 0 \r\nz\r\n\" id=\"ArialMT-102\"/>\r\n      <path d=\"M 6.59375 -19.875 \r\nL 6.59375 51.859375 \r\nL 14.59375 51.859375 \r\nL 14.59375 45.125 \r\nQ 17.4375 49.078125 21 51.046875 \r\nQ 24.5625 53.03125 29.640625 53.03125 \r\nQ 36.28125 53.03125 41.359375 49.609375 \r\nQ 46.4375 46.1875 49.015625 39.953125 \r\nQ 51.609375 33.734375 51.609375 26.3125 \r\nQ 51.609375 18.359375 48.75 11.984375 \r\nQ 45.90625 5.609375 40.453125 2.21875 \r\nQ 35.015625 -1.171875 29 -1.171875 \r\nQ 24.609375 -1.171875 21.109375 0.6875 \r\nQ 17.625 2.546875 15.375 5.375 \r\nL 15.375 -19.875 \r\nz\r\nM 14.546875 25.640625 \r\nQ 14.546875 15.625 18.59375 10.84375 \r\nQ 22.65625 6.0625 28.421875 6.0625 \r\nQ 34.28125 6.0625 38.453125 11.015625 \r\nQ 42.625 15.96875 42.625 26.375 \r\nQ 42.625 36.28125 38.546875 41.203125 \r\nQ 34.46875 46.140625 28.8125 46.140625 \r\nQ 23.1875 46.140625 18.859375 40.890625 \r\nQ 14.546875 35.640625 14.546875 25.640625 \r\nz\r\n\" id=\"ArialMT-112\"/>\r\n      <path d=\"M 6.390625 0 \r\nL 6.390625 71.578125 \r\nL 15.1875 71.578125 \r\nL 15.1875 0 \r\nz\r\n\" id=\"ArialMT-108\"/>\r\n      <path d=\"M 16.15625 0 \r\nL 0.296875 51.859375 \r\nL 9.375 51.859375 \r\nL 17.625 21.921875 \r\nL 20.703125 10.796875 \r\nQ 20.90625 11.625 23.390625 21.484375 \r\nL 31.640625 51.859375 \r\nL 40.671875 51.859375 \r\nL 48.4375 21.78125 \r\nL 51.03125 11.859375 \r\nL 54 21.875 \r\nL 62.890625 51.859375 \r\nL 71.4375 51.859375 \r\nL 55.21875 0 \r\nL 46.09375 0 \r\nL 37.84375 31.0625 \r\nL 35.84375 39.890625 \r\nL 25.34375 0 \r\nz\r\n\" id=\"ArialMT-119\"/>\r\n      <path d=\"M 6.640625 61.46875 \r\nL 6.640625 71.578125 \r\nL 15.4375 71.578125 \r\nL 15.4375 61.46875 \r\nz\r\nM 6.640625 0 \r\nL 6.640625 51.859375 \r\nL 15.4375 51.859375 \r\nL 15.4375 0 \r\nz\r\n\" id=\"ArialMT-105\"/>\r\n      <path d=\"M 6.59375 0 \r\nL 6.59375 71.578125 \r\nL 15.375 71.578125 \r\nL 15.375 45.90625 \r\nQ 21.53125 53.03125 30.90625 53.03125 \r\nQ 36.671875 53.03125 40.921875 50.75 \r\nQ 45.171875 48.484375 47 44.484375 \r\nQ 48.828125 40.484375 48.828125 32.859375 \r\nL 48.828125 0 \r\nL 40.046875 0 \r\nL 40.046875 32.859375 \r\nQ 40.046875 39.453125 37.1875 42.453125 \r\nQ 34.328125 45.453125 29.109375 45.453125 \r\nQ 25.203125 45.453125 21.75 43.421875 \r\nQ 18.3125 41.40625 16.84375 37.9375 \r\nQ 15.375 34.46875 15.375 28.375 \r\nL 15.375 0 \r\nz\r\n\" id=\"ArialMT-104\"/>\r\n      <path d=\"M 8.015625 0 \r\nL 8.015625 71.578125 \r\nL 17.484375 71.578125 \r\nL 17.484375 42.1875 \r\nL 54.6875 42.1875 \r\nL 54.6875 71.578125 \r\nL 64.15625 71.578125 \r\nL 64.15625 0 \r\nL 54.6875 0 \r\nL 54.6875 33.734375 \r\nL 17.484375 33.734375 \r\nL 17.484375 0 \r\nz\r\n\" id=\"ArialMT-72\"/>\r\n      <path d=\"M 40.234375 0 \r\nL 40.234375 6.546875 \r\nQ 35.296875 -1.171875 25.734375 -1.171875 \r\nQ 19.53125 -1.171875 14.328125 2.25 \r\nQ 9.125 5.671875 6.265625 11.796875 \r\nQ 3.421875 17.921875 3.421875 25.875 \r\nQ 3.421875 33.640625 6 39.96875 \r\nQ 8.59375 46.296875 13.765625 49.65625 \r\nQ 18.953125 53.03125 25.34375 53.03125 \r\nQ 30.03125 53.03125 33.6875 51.046875 \r\nQ 37.359375 49.078125 39.65625 45.90625 \r\nL 39.65625 71.578125 \r\nL 48.390625 71.578125 \r\nL 48.390625 0 \r\nz\r\nM 12.453125 25.875 \r\nQ 12.453125 15.921875 16.640625 10.984375 \r\nQ 20.84375 6.0625 26.5625 6.0625 \r\nQ 32.328125 6.0625 36.34375 10.765625 \r\nQ 40.375 15.484375 40.375 25.140625 \r\nQ 40.375 35.796875 36.265625 40.765625 \r\nQ 32.171875 45.75 26.171875 45.75 \r\nQ 20.3125 45.75 16.375 40.96875 \r\nQ 12.453125 36.1875 12.453125 25.875 \r\nz\r\n\" id=\"ArialMT-100\"/>\r\n     </defs>\r\n     <use xlink:href=\"#ArialMT-65\"/>\r\n     <use x=\"66.699219\" xlink:href=\"#ArialMT-109\"/>\r\n     <use x=\"150\" xlink:href=\"#ArialMT-111\"/>\r\n     <use x=\"205.615234\" xlink:href=\"#ArialMT-117\"/>\r\n     <use x=\"261.230469\" xlink:href=\"#ArialMT-110\"/>\r\n     <use x=\"316.845703\" xlink:href=\"#ArialMT-116\"/>\r\n     <use x=\"344.628906\" xlink:href=\"#ArialMT-32\"/>\r\n     <use x=\"372.412109\" xlink:href=\"#ArialMT-111\"/>\r\n     <use x=\"428.027344\" xlink:href=\"#ArialMT-102\"/>\r\n     <use x=\"455.810547\" xlink:href=\"#ArialMT-32\"/>\r\n     <use x=\"483.59375\" xlink:href=\"#ArialMT-112\"/>\r\n     <use x=\"539.208984\" xlink:href=\"#ArialMT-101\"/>\r\n     <use x=\"594.824219\" xlink:href=\"#ArialMT-111\"/>\r\n     <use x=\"650.439453\" xlink:href=\"#ArialMT-112\"/>\r\n     <use x=\"706.054688\" xlink:href=\"#ArialMT-108\"/>\r\n     <use x=\"728.271484\" xlink:href=\"#ArialMT-101\"/>\r\n     <use x=\"783.886719\" xlink:href=\"#ArialMT-32\"/>\r\n     <use x=\"811.669922\" xlink:href=\"#ArialMT-119\"/>\r\n     <use x=\"883.886719\" xlink:href=\"#ArialMT-105\"/>\r\n     <use x=\"906.103516\" xlink:href=\"#ArialMT-116\"/>\r\n     <use x=\"933.886719\" xlink:href=\"#ArialMT-104\"/>\r\n     <use x=\"989.501953\" xlink:href=\"#ArialMT-32\"/>\r\n     <use x=\"1017.285156\" xlink:href=\"#ArialMT-72\"/>\r\n     <use x=\"1089.501953\" xlink:href=\"#ArialMT-105\"/>\r\n     <use x=\"1111.71875\" xlink:href=\"#ArialMT-103\"/>\r\n     <use x=\"1167.333984\" xlink:href=\"#ArialMT-104\"/>\r\n     <use x=\"1222.949219\" xlink:href=\"#ArialMT-32\"/>\r\n     <use x=\"1250.732422\" xlink:href=\"#ArialMT-83\"/>\r\n     <use x=\"1317.431641\" xlink:href=\"#ArialMT-99\"/>\r\n     <use x=\"1367.431641\" xlink:href=\"#ArialMT-104\"/>\r\n     <use x=\"1423.046875\" xlink:href=\"#ArialMT-111\"/>\r\n     <use x=\"1478.662109\" xlink:href=\"#ArialMT-111\"/>\r\n     <use x=\"1534.277344\" xlink:href=\"#ArialMT-108\"/>\r\n     <use x=\"1556.494141\" xlink:href=\"#ArialMT-32\"/>\r\n     <use x=\"1584.277344\" xlink:href=\"#ArialMT-102\"/>\r\n     <use x=\"1612.060547\" xlink:href=\"#ArialMT-105\"/>\r\n     <use x=\"1634.277344\" xlink:href=\"#ArialMT-110\"/>\r\n     <use x=\"1689.892578\" xlink:href=\"#ArialMT-105\"/>\r\n     <use x=\"1712.109375\" xlink:href=\"#ArialMT-115\"/>\r\n     <use x=\"1762.109375\" xlink:href=\"#ArialMT-104\"/>\r\n     <use x=\"1817.724609\" xlink:href=\"#ArialMT-101\"/>\r\n     <use x=\"1873.339844\" xlink:href=\"#ArialMT-100\"/>\r\n    </g>\r\n   </g>\r\n  </g>\r\n </g>\r\n <defs>\r\n  <clipPath id=\"p96260585c4\">\r\n   <rect height=\"326.16\" width=\"558\" x=\"40.436875\" y=\"24.119531\"/>\r\n  </clipPath>\r\n </defs>\r\n</svg>\r\n",
      "image/png": "[encoded data removed]"
     },
     "metadata": {}
    }
   ],
   "source": [
    "finished_hs(df=kill_and_social)"
   ]
  },
  {
   "source": [
    "#### Total population killing by race:\n",
    "\n",
    "Bar chart representing the total register of Fatal Police Shooting in the US."
   ],
   "cell_type": "markdown",
   "metadata": {}
  },
  {
   "cell_type": "code",
   "execution_count": 38,
   "metadata": {},
   "outputs": [
    {
     "output_type": "display_data",
     "data": {
      "text/plain": "<Figure size 504x216 with 1 Axes>",
      "image/svg+xml": "<?xml version=\"1.0\" encoding=\"utf-8\" standalone=\"no\"?>\r\n<!DOCTYPE svg PUBLIC \"-//W3C//DTD SVG 1.1//EN\"\r\n  \"http://www.w3.org/Graphics/SVG/1.1/DTD/svg11.dtd\">\r\n<!-- Created with matplotlib (https://matplotlib.org/) -->\r\n<svg height=\"221.492188pt\" version=\"1.1\" viewBox=\"0 0 439.1625 221.492188\" width=\"439.1625pt\" xmlns=\"http://www.w3.org/2000/svg\" xmlns:xlink=\"http://www.w3.org/1999/xlink\">\r\n <metadata>\r\n  <rdf:RDF xmlns:cc=\"http://creativecommons.org/ns#\" xmlns:dc=\"http://purl.org/dc/elements/1.1/\" xmlns:rdf=\"http://www.w3.org/1999/02/22-rdf-syntax-ns#\">\r\n   <cc:Work>\r\n    <dc:type rdf:resource=\"http://purl.org/dc/dcmitype/StillImage\"/>\r\n    <dc:date>2021-01-10T16:58:26.632815</dc:date>\r\n    <dc:format>image/svg+xml</dc:format>\r\n    <dc:creator>\r\n     <cc:Agent>\r\n      <dc:title>Matplotlib v3.3.3, https://matplotlib.org/</dc:title>\r\n     </cc:Agent>\r\n    </dc:creator>\r\n   </cc:Work>\r\n  </rdf:RDF>\r\n </metadata>\r\n <defs>\r\n  <style type=\"text/css\">*{stroke-linecap:butt;stroke-linejoin:round;}</style>\r\n </defs>\r\n <g id=\"figure_1\">\r\n  <g id=\"patch_1\">\r\n   <path d=\"M 0 221.492188 \r\nL 439.1625 221.492188 \r\nL 439.1625 0 \r\nL 0 0 \r\nz\r\n\" style=\"fill:#ffffff;\"/>\r\n  </g>\r\n  <g id=\"axes_1\">\r\n   <g id=\"patch_2\">\r\n    <path d=\"M 41.3625 185.015625 \r\nL 431.9625 185.015625 \r\nL 431.9625 21.935625 \r\nL 41.3625 21.935625 \r\nz\r\n\" style=\"fill:#ffffff;\"/>\r\n   </g>\r\n   <g id=\"matplotlib.axis_1\">\r\n    <g id=\"xtick_1\">\r\n     <g id=\"text_1\">\r\n      <!-- White -->\r\n      <g style=\"fill:#262626;\" transform=\"translate(61.132031 199.173438)scale(0.1 -0.1)\">\r\n       <defs>\r\n        <path d=\"M 20.21875 0 \r\nL 1.21875 71.578125 \r\nL 10.9375 71.578125 \r\nL 21.828125 24.65625 \r\nQ 23.578125 17.28125 24.859375 10.015625 \r\nQ 27.59375 21.484375 28.078125 23.25 \r\nL 41.703125 71.578125 \r\nL 53.125 71.578125 \r\nL 63.375 35.359375 \r\nQ 67.234375 21.875 68.953125 10.015625 \r\nQ 70.3125 16.796875 72.515625 25.59375 \r\nL 83.734375 71.578125 \r\nL 93.265625 71.578125 \r\nL 73.640625 0 \r\nL 64.5 0 \r\nL 49.421875 54.546875 \r\nQ 47.515625 61.375 47.171875 62.9375 \r\nQ 46.046875 58.015625 45.0625 54.546875 \r\nL 29.890625 0 \r\nz\r\n\" id=\"ArialMT-87\"/>\r\n        <path d=\"M 6.59375 0 \r\nL 6.59375 71.578125 \r\nL 15.375 71.578125 \r\nL 15.375 45.90625 \r\nQ 21.53125 53.03125 30.90625 53.03125 \r\nQ 36.671875 53.03125 40.921875 50.75 \r\nQ 45.171875 48.484375 47 44.484375 \r\nQ 48.828125 40.484375 48.828125 32.859375 \r\nL 48.828125 0 \r\nL 40.046875 0 \r\nL 40.046875 32.859375 \r\nQ 40.046875 39.453125 37.1875 42.453125 \r\nQ 34.328125 45.453125 29.109375 45.453125 \r\nQ 25.203125 45.453125 21.75 43.421875 \r\nQ 18.3125 41.40625 16.84375 37.9375 \r\nQ 15.375 34.46875 15.375 28.375 \r\nL 15.375 0 \r\nz\r\n\" id=\"ArialMT-104\"/>\r\n        <path d=\"M 6.640625 61.46875 \r\nL 6.640625 71.578125 \r\nL 15.4375 71.578125 \r\nL 15.4375 61.46875 \r\nz\r\nM 6.640625 0 \r\nL 6.640625 51.859375 \r\nL 15.4375 51.859375 \r\nL 15.4375 0 \r\nz\r\n\" id=\"ArialMT-105\"/>\r\n        <path d=\"M 25.78125 7.859375 \r\nL 27.046875 0.09375 \r\nQ 23.34375 -0.6875 20.40625 -0.6875 \r\nQ 15.625 -0.6875 12.984375 0.828125 \r\nQ 10.359375 2.34375 9.28125 4.8125 \r\nQ 8.203125 7.28125 8.203125 15.1875 \r\nL 8.203125 45.015625 \r\nL 1.765625 45.015625 \r\nL 1.765625 51.859375 \r\nL 8.203125 51.859375 \r\nL 8.203125 64.703125 \r\nL 16.9375 69.96875 \r\nL 16.9375 51.859375 \r\nL 25.78125 51.859375 \r\nL 25.78125 45.015625 \r\nL 16.9375 45.015625 \r\nL 16.9375 14.703125 \r\nQ 16.9375 10.9375 17.40625 9.859375 \r\nQ 17.875 8.796875 18.921875 8.15625 \r\nQ 19.96875 7.515625 21.921875 7.515625 \r\nQ 23.390625 7.515625 25.78125 7.859375 \r\nz\r\n\" id=\"ArialMT-116\"/>\r\n        <path d=\"M 42.09375 16.703125 \r\nL 51.171875 15.578125 \r\nQ 49.03125 7.625 43.21875 3.21875 \r\nQ 37.40625 -1.171875 28.375 -1.171875 \r\nQ 17 -1.171875 10.328125 5.828125 \r\nQ 3.65625 12.84375 3.65625 25.484375 \r\nQ 3.65625 38.578125 10.390625 45.796875 \r\nQ 17.140625 53.03125 27.875 53.03125 \r\nQ 38.28125 53.03125 44.875 45.953125 \r\nQ 51.46875 38.875 51.46875 26.03125 \r\nQ 51.46875 25.25 51.421875 23.6875 \r\nL 12.75 23.6875 \r\nQ 13.234375 15.140625 17.578125 10.59375 \r\nQ 21.921875 6.0625 28.421875 6.0625 \r\nQ 33.25 6.0625 36.671875 8.59375 \r\nQ 40.09375 11.140625 42.09375 16.703125 \r\nz\r\nM 13.234375 30.90625 \r\nL 42.1875 30.90625 \r\nQ 41.609375 37.453125 38.875 40.71875 \r\nQ 34.671875 45.796875 27.984375 45.796875 \r\nQ 21.921875 45.796875 17.796875 41.75 \r\nQ 13.671875 37.703125 13.234375 30.90625 \r\nz\r\n\" id=\"ArialMT-101\"/>\r\n       </defs>\r\n       <use xlink:href=\"#ArialMT-87\"/>\r\n       <use x=\"94.384766\" xlink:href=\"#ArialMT-104\"/>\r\n       <use x=\"150\" xlink:href=\"#ArialMT-105\"/>\r\n       <use x=\"172.216797\" xlink:href=\"#ArialMT-116\"/>\r\n       <use x=\"200\" xlink:href=\"#ArialMT-101\"/>\r\n      </g>\r\n     </g>\r\n    </g>\r\n    <g id=\"xtick_2\">\r\n     <g id=\"text_2\">\r\n      <!-- Black -->\r\n      <g style=\"fill:#262626;\" transform=\"translate(126.785937 199.173438)scale(0.1 -0.1)\">\r\n       <defs>\r\n        <path d=\"M 7.328125 0 \r\nL 7.328125 71.578125 \r\nL 34.1875 71.578125 \r\nQ 42.390625 71.578125 47.34375 69.40625 \r\nQ 52.296875 67.234375 55.09375 62.71875 \r\nQ 57.90625 58.203125 57.90625 53.265625 \r\nQ 57.90625 48.6875 55.421875 44.625 \r\nQ 52.9375 40.578125 47.90625 38.09375 \r\nQ 54.390625 36.1875 57.875 31.59375 \r\nQ 61.375 27 61.375 20.75 \r\nQ 61.375 15.71875 59.25 11.390625 \r\nQ 57.125 7.078125 54 4.734375 \r\nQ 50.875 2.390625 46.15625 1.1875 \r\nQ 41.453125 0 34.625 0 \r\nz\r\nM 16.796875 41.5 \r\nL 32.28125 41.5 \r\nQ 38.578125 41.5 41.3125 42.328125 \r\nQ 44.921875 43.40625 46.75 45.890625 \r\nQ 48.578125 48.390625 48.578125 52.15625 \r\nQ 48.578125 55.71875 46.875 58.421875 \r\nQ 45.171875 61.140625 41.984375 62.140625 \r\nQ 38.8125 63.140625 31.109375 63.140625 \r\nL 16.796875 63.140625 \r\nz\r\nM 16.796875 8.453125 \r\nL 34.625 8.453125 \r\nQ 39.203125 8.453125 41.0625 8.796875 \r\nQ 44.34375 9.375 46.53125 10.734375 \r\nQ 48.734375 12.109375 50.140625 14.71875 \r\nQ 51.5625 17.328125 51.5625 20.75 \r\nQ 51.5625 24.75 49.515625 27.703125 \r\nQ 47.46875 30.671875 43.828125 31.859375 \r\nQ 40.1875 33.0625 33.34375 33.0625 \r\nL 16.796875 33.0625 \r\nz\r\n\" id=\"ArialMT-66\"/>\r\n        <path d=\"M 6.390625 0 \r\nL 6.390625 71.578125 \r\nL 15.1875 71.578125 \r\nL 15.1875 0 \r\nz\r\n\" id=\"ArialMT-108\"/>\r\n        <path d=\"M 40.4375 6.390625 \r\nQ 35.546875 2.25 31.03125 0.53125 \r\nQ 26.515625 -1.171875 21.34375 -1.171875 \r\nQ 12.796875 -1.171875 8.203125 3 \r\nQ 3.609375 7.171875 3.609375 13.671875 \r\nQ 3.609375 17.484375 5.34375 20.625 \r\nQ 7.078125 23.78125 9.890625 25.6875 \r\nQ 12.703125 27.59375 16.21875 28.5625 \r\nQ 18.796875 29.25 24.03125 29.890625 \r\nQ 34.671875 31.15625 39.703125 32.90625 \r\nQ 39.75 34.71875 39.75 35.203125 \r\nQ 39.75 40.578125 37.25 42.78125 \r\nQ 33.890625 45.75 27.25 45.75 \r\nQ 21.046875 45.75 18.09375 43.578125 \r\nQ 15.140625 41.40625 13.71875 35.890625 \r\nL 5.125 37.0625 \r\nQ 6.296875 42.578125 8.984375 45.96875 \r\nQ 11.671875 49.359375 16.75 51.1875 \r\nQ 21.828125 53.03125 28.515625 53.03125 \r\nQ 35.15625 53.03125 39.296875 51.46875 \r\nQ 43.453125 49.90625 45.40625 47.53125 \r\nQ 47.359375 45.171875 48.140625 41.546875 \r\nQ 48.578125 39.3125 48.578125 33.453125 \r\nL 48.578125 21.734375 \r\nQ 48.578125 9.46875 49.140625 6.21875 \r\nQ 49.703125 2.984375 51.375 0 \r\nL 42.1875 0 \r\nQ 40.828125 2.734375 40.4375 6.390625 \r\nz\r\nM 39.703125 26.03125 \r\nQ 34.90625 24.078125 25.34375 22.703125 \r\nQ 19.921875 21.921875 17.671875 20.9375 \r\nQ 15.4375 19.96875 14.203125 18.09375 \r\nQ 12.984375 16.21875 12.984375 13.921875 \r\nQ 12.984375 10.40625 15.640625 8.0625 \r\nQ 18.3125 5.71875 23.4375 5.71875 \r\nQ 28.515625 5.71875 32.46875 7.9375 \r\nQ 36.421875 10.15625 38.28125 14.015625 \r\nQ 39.703125 17 39.703125 22.796875 \r\nz\r\n\" id=\"ArialMT-97\"/>\r\n        <path d=\"M 40.4375 19 \r\nL 49.078125 17.875 \r\nQ 47.65625 8.9375 41.8125 3.875 \r\nQ 35.984375 -1.171875 27.484375 -1.171875 \r\nQ 16.84375 -1.171875 10.375 5.78125 \r\nQ 3.90625 12.75 3.90625 25.734375 \r\nQ 3.90625 34.125 6.6875 40.421875 \r\nQ 9.46875 46.734375 15.15625 49.875 \r\nQ 20.84375 53.03125 27.546875 53.03125 \r\nQ 35.984375 53.03125 41.359375 48.75 \r\nQ 46.734375 44.484375 48.25 36.625 \r\nL 39.703125 35.296875 \r\nQ 38.484375 40.53125 35.375 43.15625 \r\nQ 32.28125 45.796875 27.875 45.796875 \r\nQ 21.234375 45.796875 17.078125 41.03125 \r\nQ 12.9375 36.28125 12.9375 25.984375 \r\nQ 12.9375 15.53125 16.9375 10.796875 \r\nQ 20.953125 6.0625 27.390625 6.0625 \r\nQ 32.5625 6.0625 36.03125 9.234375 \r\nQ 39.5 12.40625 40.4375 19 \r\nz\r\n\" id=\"ArialMT-99\"/>\r\n        <path d=\"M 6.640625 0 \r\nL 6.640625 71.578125 \r\nL 15.4375 71.578125 \r\nL 15.4375 30.765625 \r\nL 36.234375 51.859375 \r\nL 47.609375 51.859375 \r\nL 27.78125 32.625 \r\nL 49.609375 0 \r\nL 38.765625 0 \r\nL 21.625 26.515625 \r\nL 15.4375 20.5625 \r\nL 15.4375 0 \r\nz\r\n\" id=\"ArialMT-107\"/>\r\n       </defs>\r\n       <use xlink:href=\"#ArialMT-66\"/>\r\n       <use x=\"66.699219\" xlink:href=\"#ArialMT-108\"/>\r\n       <use x=\"88.916016\" xlink:href=\"#ArialMT-97\"/>\r\n       <use x=\"144.53125\" xlink:href=\"#ArialMT-99\"/>\r\n       <use x=\"194.53125\" xlink:href=\"#ArialMT-107\"/>\r\n      </g>\r\n     </g>\r\n    </g>\r\n    <g id=\"xtick_3\">\r\n     <g id=\"text_3\">\r\n      <!-- Hispanic -->\r\n      <g style=\"fill:#262626;\" transform=\"translate(184.938281 199.173438)scale(0.1 -0.1)\">\r\n       <defs>\r\n        <path d=\"M 8.015625 0 \r\nL 8.015625 71.578125 \r\nL 17.484375 71.578125 \r\nL 17.484375 42.1875 \r\nL 54.6875 42.1875 \r\nL 54.6875 71.578125 \r\nL 64.15625 71.578125 \r\nL 64.15625 0 \r\nL 54.6875 0 \r\nL 54.6875 33.734375 \r\nL 17.484375 33.734375 \r\nL 17.484375 0 \r\nz\r\n\" id=\"ArialMT-72\"/>\r\n        <path d=\"M 3.078125 15.484375 \r\nL 11.765625 16.84375 \r\nQ 12.5 11.625 15.84375 8.84375 \r\nQ 19.1875 6.0625 25.203125 6.0625 \r\nQ 31.25 6.0625 34.171875 8.515625 \r\nQ 37.109375 10.984375 37.109375 14.3125 \r\nQ 37.109375 17.28125 34.515625 19 \r\nQ 32.71875 20.171875 25.53125 21.96875 \r\nQ 15.875 24.421875 12.140625 26.203125 \r\nQ 8.40625 27.984375 6.46875 31.125 \r\nQ 4.546875 34.28125 4.546875 38.09375 \r\nQ 4.546875 41.546875 6.125 44.5 \r\nQ 7.71875 47.46875 10.453125 49.421875 \r\nQ 12.5 50.921875 16.03125 51.96875 \r\nQ 19.578125 53.03125 23.640625 53.03125 \r\nQ 29.734375 53.03125 34.34375 51.265625 \r\nQ 38.96875 49.515625 41.15625 46.5 \r\nQ 43.359375 43.5 44.1875 38.484375 \r\nL 35.59375 37.3125 \r\nQ 35.015625 41.3125 32.203125 43.546875 \r\nQ 29.390625 45.796875 24.265625 45.796875 \r\nQ 18.21875 45.796875 15.625 43.796875 \r\nQ 13.03125 41.796875 13.03125 39.109375 \r\nQ 13.03125 37.40625 14.109375 36.03125 \r\nQ 15.1875 34.625 17.484375 33.6875 \r\nQ 18.796875 33.203125 25.25 31.453125 \r\nQ 34.578125 28.953125 38.25 27.359375 \r\nQ 41.9375 25.78125 44.03125 22.75 \r\nQ 46.140625 19.734375 46.140625 15.234375 \r\nQ 46.140625 10.84375 43.578125 6.953125 \r\nQ 41.015625 3.078125 36.171875 0.953125 \r\nQ 31.34375 -1.171875 25.25 -1.171875 \r\nQ 15.140625 -1.171875 9.84375 3.03125 \r\nQ 4.546875 7.234375 3.078125 15.484375 \r\nz\r\n\" id=\"ArialMT-115\"/>\r\n        <path d=\"M 6.59375 -19.875 \r\nL 6.59375 51.859375 \r\nL 14.59375 51.859375 \r\nL 14.59375 45.125 \r\nQ 17.4375 49.078125 21 51.046875 \r\nQ 24.5625 53.03125 29.640625 53.03125 \r\nQ 36.28125 53.03125 41.359375 49.609375 \r\nQ 46.4375 46.1875 49.015625 39.953125 \r\nQ 51.609375 33.734375 51.609375 26.3125 \r\nQ 51.609375 18.359375 48.75 11.984375 \r\nQ 45.90625 5.609375 40.453125 2.21875 \r\nQ 35.015625 -1.171875 29 -1.171875 \r\nQ 24.609375 -1.171875 21.109375 0.6875 \r\nQ 17.625 2.546875 15.375 5.375 \r\nL 15.375 -19.875 \r\nz\r\nM 14.546875 25.640625 \r\nQ 14.546875 15.625 18.59375 10.84375 \r\nQ 22.65625 6.0625 28.421875 6.0625 \r\nQ 34.28125 6.0625 38.453125 11.015625 \r\nQ 42.625 15.96875 42.625 26.375 \r\nQ 42.625 36.28125 38.546875 41.203125 \r\nQ 34.46875 46.140625 28.8125 46.140625 \r\nQ 23.1875 46.140625 18.859375 40.890625 \r\nQ 14.546875 35.640625 14.546875 25.640625 \r\nz\r\n\" id=\"ArialMT-112\"/>\r\n        <path d=\"M 6.59375 0 \r\nL 6.59375 51.859375 \r\nL 14.5 51.859375 \r\nL 14.5 44.484375 \r\nQ 20.21875 53.03125 31 53.03125 \r\nQ 35.6875 53.03125 39.625 51.34375 \r\nQ 43.5625 49.65625 45.515625 46.921875 \r\nQ 47.46875 44.1875 48.25 40.4375 \r\nQ 48.734375 37.984375 48.734375 31.890625 \r\nL 48.734375 0 \r\nL 39.9375 0 \r\nL 39.9375 31.546875 \r\nQ 39.9375 36.921875 38.90625 39.578125 \r\nQ 37.890625 42.234375 35.28125 43.8125 \r\nQ 32.671875 45.40625 29.15625 45.40625 \r\nQ 23.53125 45.40625 19.453125 41.84375 \r\nQ 15.375 38.28125 15.375 28.328125 \r\nL 15.375 0 \r\nz\r\n\" id=\"ArialMT-110\"/>\r\n       </defs>\r\n       <use xlink:href=\"#ArialMT-72\"/>\r\n       <use x=\"72.216797\" xlink:href=\"#ArialMT-105\"/>\r\n       <use x=\"94.433594\" xlink:href=\"#ArialMT-115\"/>\r\n       <use x=\"144.433594\" xlink:href=\"#ArialMT-112\"/>\r\n       <use x=\"200.048828\" xlink:href=\"#ArialMT-97\"/>\r\n       <use x=\"255.664062\" xlink:href=\"#ArialMT-110\"/>\r\n       <use x=\"311.279297\" xlink:href=\"#ArialMT-105\"/>\r\n       <use x=\"333.496094\" xlink:href=\"#ArialMT-99\"/>\r\n      </g>\r\n     </g>\r\n    </g>\r\n    <g id=\"xtick_4\">\r\n     <g id=\"text_4\">\r\n      <!-- Asian -->\r\n      <g style=\"fill:#262626;\" transform=\"translate(256.705469 199.173438)scale(0.1 -0.1)\">\r\n       <defs>\r\n        <path d=\"M -0.140625 0 \r\nL 27.34375 71.578125 \r\nL 37.546875 71.578125 \r\nL 66.84375 0 \r\nL 56.0625 0 \r\nL 47.703125 21.6875 \r\nL 17.78125 21.6875 \r\nL 9.90625 0 \r\nz\r\nM 20.515625 29.390625 \r\nL 44.78125 29.390625 \r\nL 37.3125 49.21875 \r\nQ 33.890625 58.25 32.234375 64.0625 \r\nQ 30.859375 57.171875 28.375 50.390625 \r\nz\r\n\" id=\"ArialMT-65\"/>\r\n       </defs>\r\n       <use xlink:href=\"#ArialMT-65\"/>\r\n       <use x=\"66.699219\" xlink:href=\"#ArialMT-115\"/>\r\n       <use x=\"116.699219\" xlink:href=\"#ArialMT-105\"/>\r\n       <use x=\"138.916016\" xlink:href=\"#ArialMT-97\"/>\r\n       <use x=\"194.53125\" xlink:href=\"#ArialMT-110\"/>\r\n      </g>\r\n     </g>\r\n    </g>\r\n    <g id=\"xtick_5\">\r\n     <g id=\"text_5\">\r\n      <!-- Native American -->\r\n      <g style=\"fill:#262626;\" transform=\"translate(297.909375 199.173438)scale(0.1 -0.1)\">\r\n       <defs>\r\n        <path d=\"M 7.625 0 \r\nL 7.625 71.578125 \r\nL 17.328125 71.578125 \r\nL 54.9375 15.375 \r\nL 54.9375 71.578125 \r\nL 64.015625 71.578125 \r\nL 64.015625 0 \r\nL 54.296875 0 \r\nL 16.703125 56.25 \r\nL 16.703125 0 \r\nz\r\n\" id=\"ArialMT-78\"/>\r\n        <path d=\"M 21 0 \r\nL 1.265625 51.859375 \r\nL 10.546875 51.859375 \r\nL 21.6875 20.796875 \r\nQ 23.484375 15.765625 25 10.359375 \r\nQ 26.171875 14.453125 28.265625 20.21875 \r\nL 39.796875 51.859375 \r\nL 48.828125 51.859375 \r\nL 29.203125 0 \r\nz\r\n\" id=\"ArialMT-118\"/>\r\n        <path id=\"ArialMT-32\"/>\r\n        <path d=\"M 6.59375 0 \r\nL 6.59375 51.859375 \r\nL 14.453125 51.859375 \r\nL 14.453125 44.578125 \r\nQ 16.890625 48.390625 20.9375 50.703125 \r\nQ 25 53.03125 30.171875 53.03125 \r\nQ 35.9375 53.03125 39.625 50.640625 \r\nQ 43.3125 48.25 44.828125 43.953125 \r\nQ 50.984375 53.03125 60.84375 53.03125 \r\nQ 68.5625 53.03125 72.703125 48.75 \r\nQ 76.859375 44.484375 76.859375 35.59375 \r\nL 76.859375 0 \r\nL 68.109375 0 \r\nL 68.109375 32.671875 \r\nQ 68.109375 37.9375 67.25 40.25 \r\nQ 66.40625 42.578125 64.15625 43.984375 \r\nQ 61.921875 45.40625 58.890625 45.40625 \r\nQ 53.421875 45.40625 49.796875 41.765625 \r\nQ 46.1875 38.140625 46.1875 30.125 \r\nL 46.1875 0 \r\nL 37.40625 0 \r\nL 37.40625 33.6875 \r\nQ 37.40625 39.546875 35.25 42.46875 \r\nQ 33.109375 45.40625 28.21875 45.40625 \r\nQ 24.515625 45.40625 21.359375 43.453125 \r\nQ 18.21875 41.5 16.796875 37.734375 \r\nQ 15.375 33.984375 15.375 26.90625 \r\nL 15.375 0 \r\nz\r\n\" id=\"ArialMT-109\"/>\r\n        <path d=\"M 6.5 0 \r\nL 6.5 51.859375 \r\nL 14.40625 51.859375 \r\nL 14.40625 44 \r\nQ 17.4375 49.515625 20 51.265625 \r\nQ 22.5625 53.03125 25.640625 53.03125 \r\nQ 30.078125 53.03125 34.671875 50.203125 \r\nL 31.640625 42.046875 \r\nQ 28.421875 43.953125 25.203125 43.953125 \r\nQ 22.3125 43.953125 20.015625 42.21875 \r\nQ 17.71875 40.484375 16.75 37.40625 \r\nQ 15.28125 32.71875 15.28125 27.15625 \r\nL 15.28125 0 \r\nz\r\n\" id=\"ArialMT-114\"/>\r\n       </defs>\r\n       <use xlink:href=\"#ArialMT-78\"/>\r\n       <use x=\"72.216797\" xlink:href=\"#ArialMT-97\"/>\r\n       <use x=\"127.832031\" xlink:href=\"#ArialMT-116\"/>\r\n       <use x=\"155.615234\" xlink:href=\"#ArialMT-105\"/>\r\n       <use x=\"177.832031\" xlink:href=\"#ArialMT-118\"/>\r\n       <use x=\"227.832031\" xlink:href=\"#ArialMT-101\"/>\r\n       <use x=\"283.447266\" xlink:href=\"#ArialMT-32\"/>\r\n       <use x=\"305.730469\" xlink:href=\"#ArialMT-65\"/>\r\n       <use x=\"372.429688\" xlink:href=\"#ArialMT-109\"/>\r\n       <use x=\"455.730469\" xlink:href=\"#ArialMT-101\"/>\r\n       <use x=\"511.345703\" xlink:href=\"#ArialMT-114\"/>\r\n       <use x=\"544.646484\" xlink:href=\"#ArialMT-105\"/>\r\n       <use x=\"566.863281\" xlink:href=\"#ArialMT-99\"/>\r\n       <use x=\"616.863281\" xlink:href=\"#ArialMT-97\"/>\r\n       <use x=\"672.478516\" xlink:href=\"#ArialMT-110\"/>\r\n      </g>\r\n     </g>\r\n    </g>\r\n    <g id=\"xtick_6\">\r\n     <g id=\"text_6\">\r\n      <!-- Other -->\r\n      <g style=\"fill:#262626;\" transform=\"translate(386.908594 199.173438)scale(0.1 -0.1)\">\r\n       <defs>\r\n        <path d=\"M 4.828125 34.859375 \r\nQ 4.828125 52.6875 14.390625 62.765625 \r\nQ 23.96875 72.859375 39.109375 72.859375 \r\nQ 49.03125 72.859375 56.984375 68.109375 \r\nQ 64.9375 63.375 69.109375 54.90625 \r\nQ 73.296875 46.4375 73.296875 35.6875 \r\nQ 73.296875 24.8125 68.890625 16.21875 \r\nQ 64.5 7.625 56.4375 3.203125 \r\nQ 48.390625 -1.21875 39.0625 -1.21875 \r\nQ 28.953125 -1.21875 20.984375 3.65625 \r\nQ 13.03125 8.546875 8.921875 16.984375 \r\nQ 4.828125 25.4375 4.828125 34.859375 \r\nz\r\nM 14.59375 34.71875 \r\nQ 14.59375 21.78125 21.546875 14.328125 \r\nQ 28.515625 6.890625 39.015625 6.890625 \r\nQ 49.703125 6.890625 56.609375 14.40625 \r\nQ 63.53125 21.921875 63.53125 35.75 \r\nQ 63.53125 44.484375 60.578125 51 \r\nQ 57.625 57.515625 51.921875 61.109375 \r\nQ 46.234375 64.703125 39.15625 64.703125 \r\nQ 29.109375 64.703125 21.84375 57.78125 \r\nQ 14.59375 50.875 14.59375 34.71875 \r\nz\r\n\" id=\"ArialMT-79\"/>\r\n       </defs>\r\n       <use xlink:href=\"#ArialMT-79\"/>\r\n       <use x=\"77.783203\" xlink:href=\"#ArialMT-116\"/>\r\n       <use x=\"105.566406\" xlink:href=\"#ArialMT-104\"/>\r\n       <use x=\"161.181641\" xlink:href=\"#ArialMT-101\"/>\r\n       <use x=\"216.796875\" xlink:href=\"#ArialMT-114\"/>\r\n      </g>\r\n     </g>\r\n    </g>\r\n    <g id=\"text_7\">\r\n     <!-- Race -->\r\n     <g style=\"fill:#262626;\" transform=\"translate(224.710156 212.31875)scale(0.1 -0.1)\">\r\n      <defs>\r\n       <path d=\"M 7.328125 0 \r\nL 7.328125 71.578125 \r\nL 37.75 71.578125 \r\nQ 49.21875 71.578125 54.421875 69.640625 \r\nQ 59.625 67.71875 62.75 62.78125 \r\nQ 65.875 57.859375 65.875 51.515625 \r\nQ 65.875 43.453125 61.125 38.203125 \r\nQ 56.390625 32.953125 46.96875 31.59375 \r\nQ 51.65625 28.859375 54.703125 25.578125 \r\nQ 57.765625 22.3125 62.9375 13.96875 \r\nL 71.6875 0 \r\nL 54.390625 0 \r\nL 43.953125 15.578125 \r\nQ 38.375 23.921875 36.328125 26.09375 \r\nQ 34.28125 28.265625 31.984375 29.078125 \r\nQ 29.6875 29.890625 24.703125 29.890625 \r\nL 21.78125 29.890625 \r\nL 21.78125 0 \r\nz\r\nM 21.78125 41.3125 \r\nL 32.46875 41.3125 \r\nQ 42.875 41.3125 45.453125 42.1875 \r\nQ 48.046875 43.0625 49.515625 45.203125 \r\nQ 50.984375 47.359375 50.984375 50.59375 \r\nQ 50.984375 54.203125 49.046875 56.421875 \r\nQ 47.125 58.640625 43.609375 59.234375 \r\nQ 41.84375 59.46875 33.0625 59.46875 \r\nL 21.78125 59.46875 \r\nz\r\n\" id=\"Arial-BoldMT-82\"/>\r\n       <path d=\"M 17.4375 36.03125 \r\nL 4.984375 38.28125 \r\nQ 7.078125 45.796875 12.203125 49.40625 \r\nQ 17.328125 53.03125 27.4375 53.03125 \r\nQ 36.625 53.03125 41.109375 50.859375 \r\nQ 45.609375 48.6875 47.4375 45.34375 \r\nQ 49.265625 42 49.265625 33.0625 \r\nL 49.125 17.046875 \r\nQ 49.125 10.203125 49.78125 6.953125 \r\nQ 50.4375 3.71875 52.25 0 \r\nL 38.671875 0 \r\nQ 38.140625 1.375 37.359375 4.046875 \r\nQ 37.015625 5.28125 36.859375 5.671875 \r\nQ 33.34375 2.25 29.34375 0.53125 \r\nQ 25.34375 -1.171875 20.796875 -1.171875 \r\nQ 12.796875 -1.171875 8.171875 3.171875 \r\nQ 3.5625 7.515625 3.5625 14.15625 \r\nQ 3.5625 18.5625 5.65625 22 \r\nQ 7.765625 25.4375 11.546875 27.265625 \r\nQ 15.328125 29.109375 22.46875 30.46875 \r\nQ 32.078125 32.28125 35.796875 33.84375 \r\nL 35.796875 35.203125 \r\nQ 35.796875 39.15625 33.84375 40.84375 \r\nQ 31.890625 42.53125 26.46875 42.53125 \r\nQ 22.796875 42.53125 20.75 41.09375 \r\nQ 18.703125 39.65625 17.4375 36.03125 \r\nz\r\nM 35.796875 24.90625 \r\nQ 33.15625 24.03125 27.4375 22.796875 \r\nQ 21.734375 21.578125 19.96875 20.40625 \r\nQ 17.28125 18.5 17.28125 15.578125 \r\nQ 17.28125 12.703125 19.421875 10.59375 \r\nQ 21.578125 8.5 24.90625 8.5 \r\nQ 28.609375 8.5 31.984375 10.9375 \r\nQ 34.46875 12.796875 35.25 15.484375 \r\nQ 35.796875 17.234375 35.796875 22.171875 \r\nz\r\n\" id=\"Arial-BoldMT-97\"/>\r\n       <path d=\"M 52.390625 36.53125 \r\nL 38.875 34.078125 \r\nQ 38.1875 38.140625 35.765625 40.1875 \r\nQ 33.34375 42.234375 29.5 42.234375 \r\nQ 24.359375 42.234375 21.3125 38.6875 \r\nQ 18.265625 35.15625 18.265625 26.859375 \r\nQ 18.265625 17.625 21.359375 13.8125 \r\nQ 24.46875 10.015625 29.6875 10.015625 \r\nQ 33.59375 10.015625 36.078125 12.234375 \r\nQ 38.578125 14.453125 39.59375 19.875 \r\nL 53.078125 17.578125 \r\nQ 50.984375 8.296875 45.015625 3.5625 \r\nQ 39.0625 -1.171875 29.046875 -1.171875 \r\nQ 17.671875 -1.171875 10.90625 6 \r\nQ 4.15625 13.1875 4.15625 25.875 \r\nQ 4.15625 38.71875 10.9375 45.875 \r\nQ 17.71875 53.03125 29.296875 53.03125 \r\nQ 38.765625 53.03125 44.359375 48.953125 \r\nQ 49.953125 44.875 52.390625 36.53125 \r\nz\r\n\" id=\"Arial-BoldMT-99\"/>\r\n       <path d=\"M 37.203125 16.5 \r\nL 50.875 14.203125 \r\nQ 48.25 6.6875 42.546875 2.75 \r\nQ 36.859375 -1.171875 28.328125 -1.171875 \r\nQ 14.796875 -1.171875 8.296875 7.671875 \r\nQ 3.171875 14.75 3.171875 25.53125 \r\nQ 3.171875 38.421875 9.90625 45.71875 \r\nQ 16.65625 53.03125 26.953125 53.03125 \r\nQ 38.53125 53.03125 45.21875 45.390625 \r\nQ 51.90625 37.75 51.609375 21.96875 \r\nL 17.234375 21.96875 \r\nQ 17.390625 15.875 20.5625 12.46875 \r\nQ 23.734375 9.078125 28.46875 9.078125 \r\nQ 31.6875 9.078125 33.875 10.828125 \r\nQ 36.078125 12.59375 37.203125 16.5 \r\nz\r\nM 37.984375 30.375 \r\nQ 37.84375 36.328125 34.90625 39.421875 \r\nQ 31.984375 42.53125 27.78125 42.53125 \r\nQ 23.296875 42.53125 20.359375 39.265625 \r\nQ 17.4375 35.984375 17.484375 30.375 \r\nz\r\n\" id=\"Arial-BoldMT-101\"/>\r\n      </defs>\r\n      <use xlink:href=\"#Arial-BoldMT-82\"/>\r\n      <use x=\"72.216797\" xlink:href=\"#Arial-BoldMT-97\"/>\r\n      <use x=\"127.832031\" xlink:href=\"#Arial-BoldMT-99\"/>\r\n      <use x=\"183.447266\" xlink:href=\"#Arial-BoldMT-101\"/>\r\n     </g>\r\n    </g>\r\n   </g>\r\n   <g id=\"matplotlib.axis_2\">\r\n    <g id=\"ytick_1\">\r\n     <g id=\"line2d_1\">\r\n      <path clip-path=\"url(#pe35d884360)\" d=\"M 41.3625 185.015625 \r\nL 431.9625 185.015625 \r\n\" style=\"fill:none;stroke:#cccccc;stroke-linecap:round;stroke-width:0.8;\"/>\r\n     </g>\r\n     <g id=\"text_8\">\r\n      <!-- 0.0 -->\r\n      <g style=\"fill:#262626;\" transform=\"translate(20.4625 188.594531)scale(0.1 -0.1)\">\r\n       <defs>\r\n        <path d=\"M 4.15625 35.296875 \r\nQ 4.15625 48 6.765625 55.734375 \r\nQ 9.375 63.484375 14.515625 67.671875 \r\nQ 19.671875 71.875 27.484375 71.875 \r\nQ 33.25 71.875 37.59375 69.546875 \r\nQ 41.9375 67.234375 44.765625 62.859375 \r\nQ 47.609375 58.5 49.21875 52.21875 \r\nQ 50.828125 45.953125 50.828125 35.296875 \r\nQ 50.828125 22.703125 48.234375 14.96875 \r\nQ 45.65625 7.234375 40.5 3 \r\nQ 35.359375 -1.21875 27.484375 -1.21875 \r\nQ 17.140625 -1.21875 11.234375 6.203125 \r\nQ 4.15625 15.140625 4.15625 35.296875 \r\nz\r\nM 13.1875 35.296875 \r\nQ 13.1875 17.671875 17.3125 11.828125 \r\nQ 21.4375 6 27.484375 6 \r\nQ 33.546875 6 37.671875 11.859375 \r\nQ 41.796875 17.71875 41.796875 35.296875 \r\nQ 41.796875 52.984375 37.671875 58.78125 \r\nQ 33.546875 64.59375 27.390625 64.59375 \r\nQ 21.34375 64.59375 17.71875 59.46875 \r\nQ 13.1875 52.9375 13.1875 35.296875 \r\nz\r\n\" id=\"ArialMT-48\"/>\r\n        <path d=\"M 9.078125 0 \r\nL 9.078125 10.015625 \r\nL 19.09375 10.015625 \r\nL 19.09375 0 \r\nz\r\n\" id=\"ArialMT-46\"/>\r\n       </defs>\r\n       <use xlink:href=\"#ArialMT-48\"/>\r\n       <use x=\"55.615234\" xlink:href=\"#ArialMT-46\"/>\r\n       <use x=\"83.398438\" xlink:href=\"#ArialMT-48\"/>\r\n      </g>\r\n     </g>\r\n    </g>\r\n    <g id=\"ytick_2\">\r\n     <g id=\"line2d_2\">\r\n      <path clip-path=\"url(#pe35d884360)\" d=\"M 41.3625 153.479249 \r\nL 431.9625 153.479249 \r\n\" style=\"fill:none;stroke:#cccccc;stroke-linecap:round;stroke-width:0.8;\"/>\r\n     </g>\r\n     <g id=\"text_9\">\r\n      <!-- 0.1 -->\r\n      <g style=\"fill:#262626;\" transform=\"translate(20.4625 157.058155)scale(0.1 -0.1)\">\r\n       <defs>\r\n        <path d=\"M 37.25 0 \r\nL 28.46875 0 \r\nL 28.46875 56 \r\nQ 25.296875 52.984375 20.140625 49.953125 \r\nQ 14.984375 46.921875 10.890625 45.40625 \r\nL 10.890625 53.90625 \r\nQ 18.265625 57.375 23.78125 62.296875 \r\nQ 29.296875 67.234375 31.59375 71.875 \r\nL 37.25 71.875 \r\nz\r\n\" id=\"ArialMT-49\"/>\r\n       </defs>\r\n       <use xlink:href=\"#ArialMT-48\"/>\r\n       <use x=\"55.615234\" xlink:href=\"#ArialMT-46\"/>\r\n       <use x=\"83.398438\" xlink:href=\"#ArialMT-49\"/>\r\n      </g>\r\n     </g>\r\n    </g>\r\n    <g id=\"ytick_3\">\r\n     <g id=\"line2d_3\">\r\n      <path clip-path=\"url(#pe35d884360)\" d=\"M 41.3625 121.942872 \r\nL 431.9625 121.942872 \r\n\" style=\"fill:none;stroke:#cccccc;stroke-linecap:round;stroke-width:0.8;\"/>\r\n     </g>\r\n     <g id=\"text_10\">\r\n      <!-- 0.2 -->\r\n      <g style=\"fill:#262626;\" transform=\"translate(20.4625 125.521779)scale(0.1 -0.1)\">\r\n       <defs>\r\n        <path d=\"M 50.34375 8.453125 \r\nL 50.34375 0 \r\nL 3.03125 0 \r\nQ 2.9375 3.171875 4.046875 6.109375 \r\nQ 5.859375 10.9375 9.828125 15.625 \r\nQ 13.8125 20.3125 21.34375 26.46875 \r\nQ 33.015625 36.03125 37.109375 41.625 \r\nQ 41.21875 47.21875 41.21875 52.203125 \r\nQ 41.21875 57.421875 37.46875 61 \r\nQ 33.734375 64.59375 27.734375 64.59375 \r\nQ 21.390625 64.59375 17.578125 60.78125 \r\nQ 13.765625 56.984375 13.71875 50.25 \r\nL 4.6875 51.171875 \r\nQ 5.609375 61.28125 11.65625 66.578125 \r\nQ 17.71875 71.875 27.9375 71.875 \r\nQ 38.234375 71.875 44.234375 66.15625 \r\nQ 50.25 60.453125 50.25 52 \r\nQ 50.25 47.703125 48.484375 43.546875 \r\nQ 46.734375 39.40625 42.65625 34.8125 \r\nQ 38.578125 30.21875 29.109375 22.21875 \r\nQ 21.1875 15.578125 18.9375 13.203125 \r\nQ 16.703125 10.84375 15.234375 8.453125 \r\nz\r\n\" id=\"ArialMT-50\"/>\r\n       </defs>\r\n       <use xlink:href=\"#ArialMT-48\"/>\r\n       <use x=\"55.615234\" xlink:href=\"#ArialMT-46\"/>\r\n       <use x=\"83.398438\" xlink:href=\"#ArialMT-50\"/>\r\n      </g>\r\n     </g>\r\n    </g>\r\n    <g id=\"ytick_4\">\r\n     <g id=\"line2d_4\">\r\n      <path clip-path=\"url(#pe35d884360)\" d=\"M 41.3625 90.406496 \r\nL 431.9625 90.406496 \r\n\" style=\"fill:none;stroke:#cccccc;stroke-linecap:round;stroke-width:0.8;\"/>\r\n     </g>\r\n     <g id=\"text_11\">\r\n      <!-- 0.3 -->\r\n      <g style=\"fill:#262626;\" transform=\"translate(20.4625 93.985402)scale(0.1 -0.1)\">\r\n       <defs>\r\n        <path d=\"M 4.203125 18.890625 \r\nL 12.984375 20.0625 \r\nQ 14.5 12.59375 18.140625 9.296875 \r\nQ 21.78125 6 27 6 \r\nQ 33.203125 6 37.46875 10.296875 \r\nQ 41.75 14.59375 41.75 20.953125 \r\nQ 41.75 27 37.796875 30.921875 \r\nQ 33.84375 34.859375 27.734375 34.859375 \r\nQ 25.25 34.859375 21.53125 33.890625 \r\nL 22.515625 41.609375 \r\nQ 23.390625 41.5 23.921875 41.5 \r\nQ 29.546875 41.5 34.03125 44.421875 \r\nQ 38.53125 47.359375 38.53125 53.46875 \r\nQ 38.53125 58.296875 35.25 61.46875 \r\nQ 31.984375 64.65625 26.8125 64.65625 \r\nQ 21.6875 64.65625 18.265625 61.421875 \r\nQ 14.84375 58.203125 13.875 51.765625 \r\nL 5.078125 53.328125 \r\nQ 6.6875 62.15625 12.390625 67.015625 \r\nQ 18.109375 71.875 26.609375 71.875 \r\nQ 32.46875 71.875 37.390625 69.359375 \r\nQ 42.328125 66.84375 44.9375 62.5 \r\nQ 47.5625 58.15625 47.5625 53.265625 \r\nQ 47.5625 48.640625 45.0625 44.828125 \r\nQ 42.578125 41.015625 37.703125 38.765625 \r\nQ 44.046875 37.3125 47.5625 32.6875 \r\nQ 51.078125 28.078125 51.078125 21.140625 \r\nQ 51.078125 11.765625 44.234375 5.25 \r\nQ 37.40625 -1.265625 26.953125 -1.265625 \r\nQ 17.53125 -1.265625 11.296875 4.34375 \r\nQ 5.078125 9.96875 4.203125 18.890625 \r\nz\r\n\" id=\"ArialMT-51\"/>\r\n       </defs>\r\n       <use xlink:href=\"#ArialMT-48\"/>\r\n       <use x=\"55.615234\" xlink:href=\"#ArialMT-46\"/>\r\n       <use x=\"83.398438\" xlink:href=\"#ArialMT-51\"/>\r\n      </g>\r\n     </g>\r\n    </g>\r\n    <g id=\"ytick_5\">\r\n     <g id=\"line2d_5\">\r\n      <path clip-path=\"url(#pe35d884360)\" d=\"M 41.3625 58.87012 \r\nL 431.9625 58.87012 \r\n\" style=\"fill:none;stroke:#cccccc;stroke-linecap:round;stroke-width:0.8;\"/>\r\n     </g>\r\n     <g id=\"text_12\">\r\n      <!-- 0.4 -->\r\n      <g style=\"fill:#262626;\" transform=\"translate(20.4625 62.449026)scale(0.1 -0.1)\">\r\n       <defs>\r\n        <path d=\"M 32.328125 0 \r\nL 32.328125 17.140625 \r\nL 1.265625 17.140625 \r\nL 1.265625 25.203125 \r\nL 33.9375 71.578125 \r\nL 41.109375 71.578125 \r\nL 41.109375 25.203125 \r\nL 50.78125 25.203125 \r\nL 50.78125 17.140625 \r\nL 41.109375 17.140625 \r\nL 41.109375 0 \r\nz\r\nM 32.328125 25.203125 \r\nL 32.328125 57.46875 \r\nL 9.90625 25.203125 \r\nz\r\n\" id=\"ArialMT-52\"/>\r\n       </defs>\r\n       <use xlink:href=\"#ArialMT-48\"/>\r\n       <use x=\"55.615234\" xlink:href=\"#ArialMT-46\"/>\r\n       <use x=\"83.398438\" xlink:href=\"#ArialMT-52\"/>\r\n      </g>\r\n     </g>\r\n    </g>\r\n    <g id=\"ytick_6\">\r\n     <g id=\"line2d_6\">\r\n      <path clip-path=\"url(#pe35d884360)\" d=\"M 41.3625 27.333743 \r\nL 431.9625 27.333743 \r\n\" style=\"fill:none;stroke:#cccccc;stroke-linecap:round;stroke-width:0.8;\"/>\r\n     </g>\r\n     <g id=\"text_13\">\r\n      <!-- 0.5 -->\r\n      <g style=\"fill:#262626;\" transform=\"translate(20.4625 30.91265)scale(0.1 -0.1)\">\r\n       <defs>\r\n        <path d=\"M 4.15625 18.75 \r\nL 13.375 19.53125 \r\nQ 14.40625 12.796875 18.140625 9.390625 \r\nQ 21.875 6 27.15625 6 \r\nQ 33.5 6 37.890625 10.78125 \r\nQ 42.28125 15.578125 42.28125 23.484375 \r\nQ 42.28125 31 38.0625 35.34375 \r\nQ 33.84375 39.703125 27 39.703125 \r\nQ 22.75 39.703125 19.328125 37.765625 \r\nQ 15.921875 35.84375 13.96875 32.765625 \r\nL 5.71875 33.84375 \r\nL 12.640625 70.609375 \r\nL 48.25 70.609375 \r\nL 48.25 62.203125 \r\nL 19.671875 62.203125 \r\nL 15.828125 42.96875 \r\nQ 22.265625 47.46875 29.34375 47.46875 \r\nQ 38.71875 47.46875 45.15625 40.96875 \r\nQ 51.609375 34.46875 51.609375 24.265625 \r\nQ 51.609375 14.546875 45.953125 7.46875 \r\nQ 39.0625 -1.21875 27.15625 -1.21875 \r\nQ 17.390625 -1.21875 11.203125 4.25 \r\nQ 5.03125 9.71875 4.15625 18.75 \r\nz\r\n\" id=\"ArialMT-53\"/>\r\n       </defs>\r\n       <use xlink:href=\"#ArialMT-48\"/>\r\n       <use x=\"55.615234\" xlink:href=\"#ArialMT-46\"/>\r\n       <use x=\"83.398438\" xlink:href=\"#ArialMT-53\"/>\r\n      </g>\r\n     </g>\r\n    </g>\r\n    <g id=\"text_14\">\r\n     <!-- Frequency -->\r\n     <g style=\"fill:#262626;\" transform=\"translate(14.357813 128.759219)rotate(-90)scale(0.1 -0.1)\">\r\n      <defs>\r\n       <path d=\"M 7.375 0 \r\nL 7.375 71.578125 \r\nL 56.453125 71.578125 \r\nL 56.453125 59.46875 \r\nL 21.828125 59.46875 \r\nL 21.828125 42.53125 \r\nL 51.703125 42.53125 \r\nL 51.703125 30.421875 \r\nL 21.828125 30.421875 \r\nL 21.828125 0 \r\nz\r\n\" id=\"Arial-BoldMT-70\"/>\r\n       <path d=\"M 20.3125 0 \r\nL 6.59375 0 \r\nL 6.59375 51.859375 \r\nL 19.34375 51.859375 \r\nL 19.34375 44.484375 \r\nQ 22.609375 49.703125 25.21875 51.359375 \r\nQ 27.828125 53.03125 31.15625 53.03125 \r\nQ 35.84375 53.03125 40.1875 50.4375 \r\nL 35.9375 38.484375 \r\nQ 32.46875 40.71875 29.5 40.71875 \r\nQ 26.609375 40.71875 24.609375 39.125 \r\nQ 22.609375 37.546875 21.453125 33.390625 \r\nQ 20.3125 29.25 20.3125 16.015625 \r\nz\r\n\" id=\"Arial-BoldMT-114\"/>\r\n       <path d=\"M 41.0625 -19.734375 \r\nL 41.0625 6.34375 \r\nQ 38.375 2.875 34.375 0.84375 \r\nQ 30.375 -1.171875 25.734375 -1.171875 \r\nQ 16.890625 -1.171875 11.1875 5.46875 \r\nQ 4.4375 13.234375 4.4375 26.515625 \r\nQ 4.4375 39.015625 10.765625 46.015625 \r\nQ 17.09375 53.03125 26.46875 53.03125 \r\nQ 31.640625 53.03125 35.421875 50.828125 \r\nQ 39.203125 48.640625 42.140625 44.1875 \r\nL 42.140625 51.859375 \r\nL 54.78125 51.859375 \r\nL 54.78125 -19.734375 \r\nz\r\nM 41.5 26.5625 \r\nQ 41.5 34.515625 38.25 38.390625 \r\nQ 35.015625 42.28125 30.125 42.28125 \r\nQ 25.140625 42.28125 21.796875 38.328125 \r\nQ 18.453125 34.375 18.453125 25.78125 \r\nQ 18.453125 17.234375 21.671875 13.453125 \r\nQ 24.90625 9.671875 29.640625 9.671875 \r\nQ 34.375 9.671875 37.9375 13.921875 \r\nQ 41.5 18.171875 41.5 26.5625 \r\nz\r\n\" id=\"Arial-BoldMT-113\"/>\r\n       <path d=\"M 41.3125 0 \r\nL 41.3125 7.765625 \r\nQ 38.484375 3.609375 33.859375 1.21875 \r\nQ 29.25 -1.171875 24.125 -1.171875 \r\nQ 18.890625 -1.171875 14.734375 1.125 \r\nQ 10.59375 3.421875 8.734375 7.5625 \r\nQ 6.890625 11.71875 6.890625 19.046875 \r\nL 6.890625 51.859375 \r\nL 20.609375 51.859375 \r\nL 20.609375 28.03125 \r\nQ 20.609375 17.09375 21.359375 14.625 \r\nQ 22.125 12.15625 24.125 10.71875 \r\nQ 26.125 9.28125 29.203125 9.28125 \r\nQ 32.71875 9.28125 35.5 11.203125 \r\nQ 38.28125 13.140625 39.296875 15.984375 \r\nQ 40.328125 18.84375 40.328125 29.984375 \r\nL 40.328125 51.859375 \r\nL 54.046875 51.859375 \r\nL 54.046875 0 \r\nz\r\n\" id=\"Arial-BoldMT-117\"/>\r\n       <path d=\"M 54.34375 0 \r\nL 40.625 0 \r\nL 40.625 26.46875 \r\nQ 40.625 34.859375 39.75 37.328125 \r\nQ 38.875 39.796875 36.890625 41.15625 \r\nQ 34.90625 42.53125 32.125 42.53125 \r\nQ 28.5625 42.53125 25.734375 40.578125 \r\nQ 22.90625 38.625 21.84375 35.390625 \r\nQ 20.796875 32.171875 20.796875 23.484375 \r\nL 20.796875 0 \r\nL 7.078125 0 \r\nL 7.078125 51.859375 \r\nL 19.828125 51.859375 \r\nL 19.828125 44.234375 \r\nQ 26.609375 53.03125 36.921875 53.03125 \r\nQ 41.453125 53.03125 45.203125 51.390625 \r\nQ 48.96875 49.75 50.890625 47.203125 \r\nQ 52.828125 44.671875 53.578125 41.453125 \r\nQ 54.34375 38.234375 54.34375 32.234375 \r\nz\r\n\" id=\"Arial-BoldMT-110\"/>\r\n       <path d=\"M 0.6875 51.859375 \r\nL 15.28125 51.859375 \r\nL 27.6875 15.046875 \r\nL 39.796875 51.859375 \r\nL 54 51.859375 \r\nL 35.6875 1.953125 \r\nL 32.421875 -7.078125 \r\nQ 30.609375 -11.625 28.96875 -14.015625 \r\nQ 27.34375 -16.40625 25.21875 -17.890625 \r\nQ 23.09375 -19.390625 19.984375 -20.21875 \r\nQ 16.890625 -21.046875 12.984375 -21.046875 \r\nQ 9.03125 -21.046875 5.21875 -20.21875 \r\nL 4 -9.46875 \r\nQ 7.234375 -10.109375 9.8125 -10.109375 \r\nQ 14.59375 -10.109375 16.890625 -7.296875 \r\nQ 19.1875 -4.5 20.40625 -0.140625 \r\nz\r\n\" id=\"Arial-BoldMT-121\"/>\r\n      </defs>\r\n      <use xlink:href=\"#Arial-BoldMT-70\"/>\r\n      <use x=\"61.083984\" xlink:href=\"#Arial-BoldMT-114\"/>\r\n      <use x=\"100\" xlink:href=\"#Arial-BoldMT-101\"/>\r\n      <use x=\"155.615234\" xlink:href=\"#Arial-BoldMT-113\"/>\r\n      <use x=\"216.699219\" xlink:href=\"#Arial-BoldMT-117\"/>\r\n      <use x=\"277.783203\" xlink:href=\"#Arial-BoldMT-101\"/>\r\n      <use x=\"333.398438\" xlink:href=\"#Arial-BoldMT-110\"/>\r\n      <use x=\"394.482422\" xlink:href=\"#Arial-BoldMT-99\"/>\r\n      <use x=\"450.097656\" xlink:href=\"#Arial-BoldMT-121\"/>\r\n     </g>\r\n    </g>\r\n   </g>\r\n   <g id=\"patch_3\">\r\n    <path clip-path=\"url(#pe35d884360)\" d=\"M 47.8725 185.015625 \r\nL 99.9525 185.015625 \r\nL 99.9525 29.701339 \r\nL 47.8725 29.701339 \r\nz\r\n\" style=\"fill:#331d39;stroke:#ffffff;stroke-linejoin:miter;\"/>\r\n   </g>\r\n   <g id=\"patch_4\">\r\n    <path clip-path=\"url(#pe35d884360)\" d=\"M 112.9725 185.015625 \r\nL 165.0525 185.015625 \r\nL 165.0525 98.992977 \r\nL 112.9725 98.992977 \r\nz\r\n\" style=\"fill:#662953;stroke:#ffffff;stroke-linejoin:miter;\"/>\r\n   </g>\r\n   <g id=\"patch_5\">\r\n    <path clip-path=\"url(#pe35d884360)\" d=\"M 178.0725 185.015625 \r\nL 230.1525 185.015625 \r\nL 230.1525 124.563012 \r\nL 178.0725 124.563012 \r\nz\r\n\" style=\"fill:#9a2a5c;stroke:#ffffff;stroke-linejoin:miter;\"/>\r\n   </g>\r\n   <g id=\"patch_6\">\r\n    <path clip-path=\"url(#pe35d884360)\" d=\"M 243.1725 185.015625 \r\nL 295.2525 185.015625 \r\nL 295.2525 179.649074 \r\nL 243.1725 179.649074 \r\nz\r\n\" style=\"fill:#cb4854;stroke:#ffffff;stroke-linejoin:miter;\"/>\r\n   </g>\r\n   <g id=\"patch_7\">\r\n    <path clip-path=\"url(#pe35d884360)\" d=\"M 308.2725 185.015625 \r\nL 360.3525 185.015625 \r\nL 360.3525 180.753953 \r\nL 308.2725 180.753953 \r\nz\r\n\" style=\"fill:#df8165;stroke:#ffffff;stroke-linejoin:miter;\"/>\r\n   </g>\r\n   <g id=\"patch_8\">\r\n    <path clip-path=\"url(#pe35d884360)\" d=\"M 373.3725 185.015625 \r\nL 425.4525 185.015625 \r\nL 425.4525 181.069632 \r\nL 373.3725 181.069632 \r\nz\r\n\" style=\"fill:#e9b89c;stroke:#ffffff;stroke-linejoin:miter;\"/>\r\n   </g>\r\n   <g id=\"line2d_7\">\r\n    <path clip-path=\"url(#pe35d884360)\" d=\"M 0 0 \r\n\" style=\"fill:none;stroke:#424242;stroke-linecap:round;stroke-width:2.7;\"/>\r\n   </g>\r\n   <g id=\"line2d_8\">\r\n    <path clip-path=\"url(#pe35d884360)\" d=\"M 0 0 \r\n\" style=\"fill:none;stroke:#424242;stroke-linecap:round;stroke-width:2.7;\"/>\r\n   </g>\r\n   <g id=\"line2d_9\">\r\n    <path clip-path=\"url(#pe35d884360)\" d=\"M 0 0 \r\n\" style=\"fill:none;stroke:#424242;stroke-linecap:round;stroke-width:2.7;\"/>\r\n   </g>\r\n   <g id=\"line2d_10\">\r\n    <path clip-path=\"url(#pe35d884360)\" d=\"M 0 0 \r\n\" style=\"fill:none;stroke:#424242;stroke-linecap:round;stroke-width:2.7;\"/>\r\n   </g>\r\n   <g id=\"line2d_11\">\r\n    <path clip-path=\"url(#pe35d884360)\" d=\"M 0 0 \r\n\" style=\"fill:none;stroke:#424242;stroke-linecap:round;stroke-width:2.7;\"/>\r\n   </g>\r\n   <g id=\"line2d_12\">\r\n    <path clip-path=\"url(#pe35d884360)\" d=\"M 0 0 \r\n\" style=\"fill:none;stroke:#424242;stroke-linecap:round;stroke-width:2.7;\"/>\r\n   </g>\r\n   <g id=\"patch_9\">\r\n    <path d=\"M 41.3625 185.015625 \r\nL 41.3625 21.935625 \r\n\" style=\"fill:none;stroke:#cccccc;stroke-linecap:square;stroke-linejoin:miter;stroke-width:0.8;\"/>\r\n   </g>\r\n   <g id=\"patch_10\">\r\n    <path d=\"M 431.9625 185.015625 \r\nL 431.9625 21.935625 \r\n\" style=\"fill:none;stroke:#cccccc;stroke-linecap:square;stroke-linejoin:miter;stroke-width:0.8;\"/>\r\n   </g>\r\n   <g id=\"patch_11\">\r\n    <path d=\"M 41.3625 185.015625 \r\nL 431.9625 185.015625 \r\n\" style=\"fill:none;stroke:#cccccc;stroke-linecap:square;stroke-linejoin:miter;stroke-width:0.8;\"/>\r\n   </g>\r\n   <g id=\"patch_12\">\r\n    <path d=\"M 41.3625 21.935625 \r\nL 431.9625 21.935625 \r\n\" style=\"fill:none;stroke:#cccccc;stroke-linecap:square;stroke-linejoin:miter;stroke-width:0.8;\"/>\r\n   </g>\r\n   <g id=\"text_15\">\r\n    <!-- Total Police Shooting by Race -->\r\n    <g style=\"fill:#262626;\" transform=\"translate(151.09875 15.935625)scale(0.12 -0.12)\">\r\n     <defs>\r\n      <path d=\"M 23.390625 0 \r\nL 23.390625 59.46875 \r\nL 2.15625 59.46875 \r\nL 2.15625 71.578125 \r\nL 59.03125 71.578125 \r\nL 59.03125 59.46875 \r\nL 37.84375 59.46875 \r\nL 37.84375 0 \r\nz\r\n\" id=\"Arial-BoldMT-84\"/>\r\n      <path d=\"M 4 26.65625 \r\nQ 4 33.5 7.375 39.890625 \r\nQ 10.75 46.296875 16.921875 49.65625 \r\nQ 23.09375 53.03125 30.71875 53.03125 \r\nQ 42.484375 53.03125 50 45.390625 \r\nQ 57.515625 37.75 57.515625 26.078125 \r\nQ 57.515625 14.3125 49.921875 6.5625 \r\nQ 42.328125 -1.171875 30.8125 -1.171875 \r\nQ 23.6875 -1.171875 17.21875 2.046875 \r\nQ 10.75 5.28125 7.375 11.5 \r\nQ 4 17.71875 4 26.65625 \r\nz\r\nM 18.0625 25.921875 \r\nQ 18.0625 18.21875 21.71875 14.109375 \r\nQ 25.390625 10.015625 30.765625 10.015625 \r\nQ 36.140625 10.015625 39.765625 14.109375 \r\nQ 43.40625 18.21875 43.40625 26.03125 \r\nQ 43.40625 33.640625 39.765625 37.734375 \r\nQ 36.140625 41.84375 30.765625 41.84375 \r\nQ 25.390625 41.84375 21.71875 37.734375 \r\nQ 18.0625 33.640625 18.0625 25.921875 \r\nz\r\n\" id=\"Arial-BoldMT-111\"/>\r\n      <path d=\"M 30.953125 51.859375 \r\nL 30.953125 40.921875 \r\nL 21.578125 40.921875 \r\nL 21.578125 20.015625 \r\nQ 21.578125 13.671875 21.84375 12.625 \r\nQ 22.125 11.578125 23.078125 10.890625 \r\nQ 24.03125 10.203125 25.390625 10.203125 \r\nQ 27.296875 10.203125 30.90625 11.53125 \r\nL 32.078125 0.875 \r\nQ 27.296875 -1.171875 21.234375 -1.171875 \r\nQ 17.53125 -1.171875 14.546875 0.0625 \r\nQ 11.578125 1.3125 10.1875 3.296875 \r\nQ 8.796875 5.28125 8.25 8.640625 \r\nQ 7.8125 11.03125 7.8125 18.3125 \r\nL 7.8125 40.921875 \r\nL 1.515625 40.921875 \r\nL 1.515625 51.859375 \r\nL 7.8125 51.859375 \r\nL 7.8125 62.15625 \r\nL 21.578125 70.171875 \r\nL 21.578125 51.859375 \r\nz\r\n\" id=\"Arial-BoldMT-116\"/>\r\n      <path d=\"M 7.171875 0 \r\nL 7.171875 71.578125 \r\nL 20.90625 71.578125 \r\nL 20.90625 0 \r\nz\r\n\" id=\"Arial-BoldMT-108\"/>\r\n      <path id=\"Arial-BoldMT-32\"/>\r\n      <path d=\"M 7.28125 0 \r\nL 7.28125 71.578125 \r\nL 30.46875 71.578125 \r\nQ 43.65625 71.578125 47.65625 70.515625 \r\nQ 53.8125 68.890625 57.953125 63.5 \r\nQ 62.109375 58.109375 62.109375 49.5625 \r\nQ 62.109375 42.96875 59.71875 38.46875 \r\nQ 57.328125 33.984375 53.640625 31.421875 \r\nQ 49.953125 28.859375 46.140625 28.03125 \r\nQ 40.96875 27 31.15625 27 \r\nL 21.734375 27 \r\nL 21.734375 0 \r\nz\r\nM 21.734375 59.46875 \r\nL 21.734375 39.15625 \r\nL 29.640625 39.15625 \r\nQ 38.1875 39.15625 41.0625 40.28125 \r\nQ 43.953125 41.40625 45.578125 43.796875 \r\nQ 47.21875 46.1875 47.21875 49.359375 \r\nQ 47.21875 53.265625 44.921875 55.796875 \r\nQ 42.625 58.34375 39.109375 58.984375 \r\nQ 36.53125 59.46875 28.71875 59.46875 \r\nz\r\n\" id=\"Arial-BoldMT-80\"/>\r\n      <path d=\"M 7.171875 58.890625 \r\nL 7.171875 71.578125 \r\nL 20.90625 71.578125 \r\nL 20.90625 58.890625 \r\nz\r\nM 7.171875 0 \r\nL 7.171875 51.859375 \r\nL 20.90625 51.859375 \r\nL 20.90625 0 \r\nz\r\n\" id=\"Arial-BoldMT-105\"/>\r\n      <path d=\"M 3.609375 23.296875 \r\nL 17.671875 24.65625 \r\nQ 18.953125 17.578125 22.828125 14.25 \r\nQ 26.703125 10.9375 33.296875 10.9375 \r\nQ 40.28125 10.9375 43.8125 13.890625 \r\nQ 47.359375 16.84375 47.359375 20.796875 \r\nQ 47.359375 23.34375 45.875 25.125 \r\nQ 44.390625 26.90625 40.671875 28.21875 \r\nQ 38.140625 29.109375 29.109375 31.34375 \r\nQ 17.484375 34.234375 12.796875 38.421875 \r\nQ 6.203125 44.34375 6.203125 52.828125 \r\nQ 6.203125 58.296875 9.296875 63.0625 \r\nQ 12.40625 67.828125 18.234375 70.3125 \r\nQ 24.078125 72.796875 32.328125 72.796875 \r\nQ 45.796875 72.796875 52.609375 66.890625 \r\nQ 59.421875 60.984375 59.765625 51.125 \r\nL 45.3125 50.484375 \r\nQ 44.390625 56 41.328125 58.421875 \r\nQ 38.28125 60.84375 32.171875 60.84375 \r\nQ 25.875 60.84375 22.3125 58.25 \r\nQ 20.015625 56.59375 20.015625 53.8125 \r\nQ 20.015625 51.265625 22.171875 49.46875 \r\nQ 24.90625 47.171875 35.453125 44.671875 \r\nQ 46 42.1875 51.046875 39.515625 \r\nQ 56.109375 36.859375 58.953125 32.25 \r\nQ 61.8125 27.640625 61.8125 20.84375 \r\nQ 61.8125 14.703125 58.390625 9.328125 \r\nQ 54.984375 3.953125 48.734375 1.34375 \r\nQ 42.484375 -1.265625 33.15625 -1.265625 \r\nQ 19.578125 -1.265625 12.296875 5 \r\nQ 5.03125 11.28125 3.609375 23.296875 \r\nz\r\n\" id=\"Arial-BoldMT-83\"/>\r\n      <path d=\"M 20.84375 71.578125 \r\nL 20.84375 45.265625 \r\nQ 27.484375 53.03125 36.71875 53.03125 \r\nQ 41.453125 53.03125 45.265625 51.265625 \r\nQ 49.078125 49.515625 51 46.78125 \r\nQ 52.9375 44.046875 53.640625 40.71875 \r\nQ 54.34375 37.40625 54.34375 30.421875 \r\nL 54.34375 0 \r\nL 40.625 0 \r\nL 40.625 27.390625 \r\nQ 40.625 35.546875 39.84375 37.734375 \r\nQ 39.0625 39.9375 37.078125 41.234375 \r\nQ 35.109375 42.53125 32.125 42.53125 \r\nQ 28.71875 42.53125 26.03125 40.859375 \r\nQ 23.34375 39.203125 22.09375 35.859375 \r\nQ 20.84375 32.515625 20.84375 25.984375 \r\nL 20.84375 0 \r\nL 7.125 0 \r\nL 7.125 71.578125 \r\nz\r\n\" id=\"Arial-BoldMT-104\"/>\r\n      <path d=\"M 5.90625 -3.421875 \r\nL 21.578125 -5.328125 \r\nQ 21.96875 -8.0625 23.390625 -9.078125 \r\nQ 25.34375 -10.546875 29.546875 -10.546875 \r\nQ 34.90625 -10.546875 37.59375 -8.9375 \r\nQ 39.40625 -7.859375 40.328125 -5.46875 \r\nQ 40.96875 -3.765625 40.96875 0.828125 \r\nL 40.96875 8.40625 \r\nQ 34.8125 0 25.4375 0 \r\nQ 14.984375 0 8.890625 8.84375 \r\nQ 4.109375 15.828125 4.109375 26.21875 \r\nQ 4.109375 39.265625 10.375 46.140625 \r\nQ 16.65625 53.03125 25.984375 53.03125 \r\nQ 35.59375 53.03125 41.84375 44.578125 \r\nL 41.84375 51.859375 \r\nL 54.6875 51.859375 \r\nL 54.6875 5.328125 \r\nQ 54.6875 -3.859375 53.171875 -8.390625 \r\nQ 51.65625 -12.9375 48.921875 -15.515625 \r\nQ 46.1875 -18.109375 41.625 -19.578125 \r\nQ 37.0625 -21.046875 30.078125 -21.046875 \r\nQ 16.890625 -21.046875 11.375 -16.53125 \r\nQ 5.859375 -12.015625 5.859375 -5.078125 \r\nQ 5.859375 -4.390625 5.90625 -3.421875 \r\nz\r\nM 18.171875 27 \r\nQ 18.171875 18.75 21.359375 14.90625 \r\nQ 24.5625 11.078125 29.25 11.078125 \r\nQ 34.28125 11.078125 37.75 15.015625 \r\nQ 41.21875 18.953125 41.21875 26.65625 \r\nQ 41.21875 34.71875 37.890625 38.625 \r\nQ 34.578125 42.53125 29.5 42.53125 \r\nQ 24.5625 42.53125 21.359375 38.6875 \r\nQ 18.171875 34.859375 18.171875 27 \r\nz\r\n\" id=\"Arial-BoldMT-103\"/>\r\n      <path d=\"M 6.59375 0 \r\nL 6.59375 71.578125 \r\nL 20.3125 71.578125 \r\nL 20.3125 45.796875 \r\nQ 26.65625 53.03125 35.359375 53.03125 \r\nQ 44.828125 53.03125 51.03125 46.171875 \r\nQ 57.234375 39.3125 57.234375 26.46875 \r\nQ 57.234375 13.1875 50.90625 6 \r\nQ 44.578125 -1.171875 35.546875 -1.171875 \r\nQ 31.109375 -1.171875 26.78125 1.046875 \r\nQ 22.46875 3.265625 19.34375 7.625 \r\nL 19.34375 0 \r\nz\r\nM 20.21875 27.046875 \r\nQ 20.21875 19 22.75 15.140625 \r\nQ 26.3125 9.671875 32.234375 9.671875 \r\nQ 36.765625 9.671875 39.96875 13.546875 \r\nQ 43.171875 17.4375 43.171875 25.78125 \r\nQ 43.171875 34.671875 39.9375 38.59375 \r\nQ 36.71875 42.53125 31.6875 42.53125 \r\nQ 26.765625 42.53125 23.484375 38.6875 \r\nQ 20.21875 34.859375 20.21875 27.046875 \r\nz\r\n\" id=\"Arial-BoldMT-98\"/>\r\n     </defs>\r\n     <use xlink:href=\"#Arial-BoldMT-84\"/>\r\n     <use x=\"53.708984\" xlink:href=\"#Arial-BoldMT-111\"/>\r\n     <use x=\"114.792969\" xlink:href=\"#Arial-BoldMT-116\"/>\r\n     <use x=\"148.09375\" xlink:href=\"#Arial-BoldMT-97\"/>\r\n     <use x=\"203.708984\" xlink:href=\"#Arial-BoldMT-108\"/>\r\n     <use x=\"231.492188\" xlink:href=\"#Arial-BoldMT-32\"/>\r\n     <use x=\"259.275391\" xlink:href=\"#Arial-BoldMT-80\"/>\r\n     <use x=\"325.974609\" xlink:href=\"#Arial-BoldMT-111\"/>\r\n     <use x=\"387.058594\" xlink:href=\"#Arial-BoldMT-108\"/>\r\n     <use x=\"414.841797\" xlink:href=\"#Arial-BoldMT-105\"/>\r\n     <use x=\"442.625\" xlink:href=\"#Arial-BoldMT-99\"/>\r\n     <use x=\"498.240234\" xlink:href=\"#Arial-BoldMT-101\"/>\r\n     <use x=\"553.855469\" xlink:href=\"#Arial-BoldMT-32\"/>\r\n     <use x=\"581.638672\" xlink:href=\"#Arial-BoldMT-83\"/>\r\n     <use x=\"648.337891\" xlink:href=\"#Arial-BoldMT-104\"/>\r\n     <use x=\"709.421875\" xlink:href=\"#Arial-BoldMT-111\"/>\r\n     <use x=\"770.505859\" xlink:href=\"#Arial-BoldMT-111\"/>\r\n     <use x=\"831.589844\" xlink:href=\"#Arial-BoldMT-116\"/>\r\n     <use x=\"864.890625\" xlink:href=\"#Arial-BoldMT-105\"/>\r\n     <use x=\"892.673828\" xlink:href=\"#Arial-BoldMT-110\"/>\r\n     <use x=\"953.757812\" xlink:href=\"#Arial-BoldMT-103\"/>\r\n     <use x=\"1014.841797\" xlink:href=\"#Arial-BoldMT-32\"/>\r\n     <use x=\"1042.625\" xlink:href=\"#Arial-BoldMT-98\"/>\r\n     <use x=\"1103.708984\" xlink:href=\"#Arial-BoldMT-121\"/>\r\n     <use x=\"1159.324219\" xlink:href=\"#Arial-BoldMT-32\"/>\r\n     <use x=\"1187.107422\" xlink:href=\"#Arial-BoldMT-82\"/>\r\n     <use x=\"1259.324219\" xlink:href=\"#Arial-BoldMT-97\"/>\r\n     <use x=\"1314.939453\" xlink:href=\"#Arial-BoldMT-99\"/>\r\n     <use x=\"1370.554688\" xlink:href=\"#Arial-BoldMT-101\"/>\r\n    </g>\r\n   </g>\r\n  </g>\r\n </g>\r\n <defs>\r\n  <clipPath id=\"pe35d884360\">\r\n   <rect height=\"163.08\" width=\"390.6\" x=\"41.3625\" y=\"21.935625\"/>\r\n  </clipPath>\r\n </defs>\r\n</svg>\r\n",
      "image/png": "[encoded data removed]"
     },
     "metadata": {}
    }
   ],
   "source": [
    "total_race(df=kill_and_social)"
   ]
  },
  {
   "source": [
    "#### Percentage of Shooting on each race on total race population in the US:\n",
    "Bar chart representing Fatal police Shooting on races in relation to the total population of that race in the US.  In this chart, we can clearly see that black suspects are the ones that most suffer police brutality in relation with the total population of black people in the united states."
   ],
   "cell_type": "markdown",
   "metadata": {}
  },
  {
   "cell_type": "code",
   "execution_count": 39,
   "metadata": {},
   "outputs": [
    {
     "output_type": "display_data",
     "data": {
      "text/plain": "<Figure size 648x288 with 1 Axes>",
      "image/svg+xml": "<?xml version=\"1.0\" encoding=\"utf-8\" standalone=\"no\"?>\r\n<!DOCTYPE svg PUBLIC \"-//W3C//DTD SVG 1.1//EN\"\r\n  \"http://www.w3.org/Graphics/SVG/1.1/DTD/svg11.dtd\">\r\n<!-- Created with matplotlib (https://matplotlib.org/) -->\r\n<svg height=\"282.744687pt\" version=\"1.1\" viewBox=\"0 0 555.39375 282.744687\" width=\"555.39375pt\" xmlns=\"http://www.w3.org/2000/svg\" xmlns:xlink=\"http://www.w3.org/1999/xlink\">\r\n <metadata>\r\n  <rdf:RDF xmlns:cc=\"http://creativecommons.org/ns#\" xmlns:dc=\"http://purl.org/dc/elements/1.1/\" xmlns:rdf=\"http://www.w3.org/1999/02/22-rdf-syntax-ns#\">\r\n   <cc:Work>\r\n    <dc:type rdf:resource=\"http://purl.org/dc/dcmitype/StillImage\"/>\r\n    <dc:date>2021-01-10T16:58:26.997937</dc:date>\r\n    <dc:format>image/svg+xml</dc:format>\r\n    <dc:creator>\r\n     <cc:Agent>\r\n      <dc:title>Matplotlib v3.3.3, https://matplotlib.org/</dc:title>\r\n     </cc:Agent>\r\n    </dc:creator>\r\n   </cc:Work>\r\n  </rdf:RDF>\r\n </metadata>\r\n <defs>\r\n  <style type=\"text/css\">*{stroke-linecap:butt;stroke-linejoin:round;}</style>\r\n </defs>\r\n <g id=\"figure_1\">\r\n  <g id=\"patch_1\">\r\n   <path d=\"M 0 282.744687 \r\nL 555.39375 282.744687 \r\nL 555.39375 0 \r\nL 0 0 \r\nz\r\n\" style=\"fill:#ffffff;\"/>\r\n  </g>\r\n  <g id=\"axes_1\">\r\n   <g id=\"patch_2\">\r\n    <path d=\"M 45.99375 241.559531 \r\nL 548.19375 241.559531 \r\nL 548.19375 24.119531 \r\nL 45.99375 24.119531 \r\nz\r\n\" style=\"fill:#ffffff;\"/>\r\n   </g>\r\n   <g id=\"matplotlib.axis_1\">\r\n    <g id=\"xtick_1\">\r\n     <g id=\"text_1\">\r\n      <!-- Share_Black -->\r\n      <g style=\"fill:#262626;\" transform=\"translate(67.865313 255.839219)scale(0.1 -0.1)\">\r\n       <defs>\r\n        <path d=\"M 4.5 23 \r\nL 13.421875 23.78125 \r\nQ 14.0625 18.40625 16.375 14.96875 \r\nQ 18.703125 11.53125 23.578125 9.40625 \r\nQ 28.46875 7.28125 34.578125 7.28125 \r\nQ 39.984375 7.28125 44.140625 8.890625 \r\nQ 48.296875 10.5 50.3125 13.296875 \r\nQ 52.34375 16.109375 52.34375 19.4375 \r\nQ 52.34375 22.796875 50.390625 25.3125 \r\nQ 48.4375 27.828125 43.953125 29.546875 \r\nQ 41.0625 30.671875 31.203125 33.03125 \r\nQ 21.34375 35.40625 17.390625 37.5 \r\nQ 12.25 40.1875 9.734375 44.15625 \r\nQ 7.234375 48.140625 7.234375 53.078125 \r\nQ 7.234375 58.5 10.296875 63.203125 \r\nQ 13.375 67.921875 19.28125 70.359375 \r\nQ 25.203125 72.796875 32.421875 72.796875 \r\nQ 40.375 72.796875 46.453125 70.234375 \r\nQ 52.546875 67.671875 55.8125 62.6875 \r\nQ 59.078125 57.71875 59.328125 51.421875 \r\nL 50.25 50.734375 \r\nQ 49.515625 57.515625 45.28125 60.984375 \r\nQ 41.0625 64.453125 32.8125 64.453125 \r\nQ 24.21875 64.453125 20.28125 61.296875 \r\nQ 16.359375 58.15625 16.359375 53.71875 \r\nQ 16.359375 49.859375 19.140625 47.359375 \r\nQ 21.875 44.875 33.421875 42.265625 \r\nQ 44.96875 39.65625 49.265625 37.703125 \r\nQ 55.515625 34.8125 58.484375 30.390625 \r\nQ 61.46875 25.984375 61.46875 20.21875 \r\nQ 61.46875 14.5 58.203125 9.4375 \r\nQ 54.9375 4.390625 48.796875 1.578125 \r\nQ 42.671875 -1.21875 35.015625 -1.21875 \r\nQ 25.296875 -1.21875 18.71875 1.609375 \r\nQ 12.15625 4.4375 8.421875 10.125 \r\nQ 4.6875 15.828125 4.5 23 \r\nz\r\n\" id=\"ArialMT-83\"/>\r\n        <path d=\"M 6.59375 0 \r\nL 6.59375 71.578125 \r\nL 15.375 71.578125 \r\nL 15.375 45.90625 \r\nQ 21.53125 53.03125 30.90625 53.03125 \r\nQ 36.671875 53.03125 40.921875 50.75 \r\nQ 45.171875 48.484375 47 44.484375 \r\nQ 48.828125 40.484375 48.828125 32.859375 \r\nL 48.828125 0 \r\nL 40.046875 0 \r\nL 40.046875 32.859375 \r\nQ 40.046875 39.453125 37.1875 42.453125 \r\nQ 34.328125 45.453125 29.109375 45.453125 \r\nQ 25.203125 45.453125 21.75 43.421875 \r\nQ 18.3125 41.40625 16.84375 37.9375 \r\nQ 15.375 34.46875 15.375 28.375 \r\nL 15.375 0 \r\nz\r\n\" id=\"ArialMT-104\"/>\r\n        <path d=\"M 40.4375 6.390625 \r\nQ 35.546875 2.25 31.03125 0.53125 \r\nQ 26.515625 -1.171875 21.34375 -1.171875 \r\nQ 12.796875 -1.171875 8.203125 3 \r\nQ 3.609375 7.171875 3.609375 13.671875 \r\nQ 3.609375 17.484375 5.34375 20.625 \r\nQ 7.078125 23.78125 9.890625 25.6875 \r\nQ 12.703125 27.59375 16.21875 28.5625 \r\nQ 18.796875 29.25 24.03125 29.890625 \r\nQ 34.671875 31.15625 39.703125 32.90625 \r\nQ 39.75 34.71875 39.75 35.203125 \r\nQ 39.75 40.578125 37.25 42.78125 \r\nQ 33.890625 45.75 27.25 45.75 \r\nQ 21.046875 45.75 18.09375 43.578125 \r\nQ 15.140625 41.40625 13.71875 35.890625 \r\nL 5.125 37.0625 \r\nQ 6.296875 42.578125 8.984375 45.96875 \r\nQ 11.671875 49.359375 16.75 51.1875 \r\nQ 21.828125 53.03125 28.515625 53.03125 \r\nQ 35.15625 53.03125 39.296875 51.46875 \r\nQ 43.453125 49.90625 45.40625 47.53125 \r\nQ 47.359375 45.171875 48.140625 41.546875 \r\nQ 48.578125 39.3125 48.578125 33.453125 \r\nL 48.578125 21.734375 \r\nQ 48.578125 9.46875 49.140625 6.21875 \r\nQ 49.703125 2.984375 51.375 0 \r\nL 42.1875 0 \r\nQ 40.828125 2.734375 40.4375 6.390625 \r\nz\r\nM 39.703125 26.03125 \r\nQ 34.90625 24.078125 25.34375 22.703125 \r\nQ 19.921875 21.921875 17.671875 20.9375 \r\nQ 15.4375 19.96875 14.203125 18.09375 \r\nQ 12.984375 16.21875 12.984375 13.921875 \r\nQ 12.984375 10.40625 15.640625 8.0625 \r\nQ 18.3125 5.71875 23.4375 5.71875 \r\nQ 28.515625 5.71875 32.46875 7.9375 \r\nQ 36.421875 10.15625 38.28125 14.015625 \r\nQ 39.703125 17 39.703125 22.796875 \r\nz\r\n\" id=\"ArialMT-97\"/>\r\n        <path d=\"M 6.5 0 \r\nL 6.5 51.859375 \r\nL 14.40625 51.859375 \r\nL 14.40625 44 \r\nQ 17.4375 49.515625 20 51.265625 \r\nQ 22.5625 53.03125 25.640625 53.03125 \r\nQ 30.078125 53.03125 34.671875 50.203125 \r\nL 31.640625 42.046875 \r\nQ 28.421875 43.953125 25.203125 43.953125 \r\nQ 22.3125 43.953125 20.015625 42.21875 \r\nQ 17.71875 40.484375 16.75 37.40625 \r\nQ 15.28125 32.71875 15.28125 27.15625 \r\nL 15.28125 0 \r\nz\r\n\" id=\"ArialMT-114\"/>\r\n        <path d=\"M 42.09375 16.703125 \r\nL 51.171875 15.578125 \r\nQ 49.03125 7.625 43.21875 3.21875 \r\nQ 37.40625 -1.171875 28.375 -1.171875 \r\nQ 17 -1.171875 10.328125 5.828125 \r\nQ 3.65625 12.84375 3.65625 25.484375 \r\nQ 3.65625 38.578125 10.390625 45.796875 \r\nQ 17.140625 53.03125 27.875 53.03125 \r\nQ 38.28125 53.03125 44.875 45.953125 \r\nQ 51.46875 38.875 51.46875 26.03125 \r\nQ 51.46875 25.25 51.421875 23.6875 \r\nL 12.75 23.6875 \r\nQ 13.234375 15.140625 17.578125 10.59375 \r\nQ 21.921875 6.0625 28.421875 6.0625 \r\nQ 33.25 6.0625 36.671875 8.59375 \r\nQ 40.09375 11.140625 42.09375 16.703125 \r\nz\r\nM 13.234375 30.90625 \r\nL 42.1875 30.90625 \r\nQ 41.609375 37.453125 38.875 40.71875 \r\nQ 34.671875 45.796875 27.984375 45.796875 \r\nQ 21.921875 45.796875 17.796875 41.75 \r\nQ 13.671875 37.703125 13.234375 30.90625 \r\nz\r\n\" id=\"ArialMT-101\"/>\r\n        <path d=\"M -1.515625 -19.875 \r\nL -1.515625 -13.53125 \r\nL 56.734375 -13.53125 \r\nL 56.734375 -19.875 \r\nz\r\n\" id=\"ArialMT-95\"/>\r\n        <path d=\"M 7.328125 0 \r\nL 7.328125 71.578125 \r\nL 34.1875 71.578125 \r\nQ 42.390625 71.578125 47.34375 69.40625 \r\nQ 52.296875 67.234375 55.09375 62.71875 \r\nQ 57.90625 58.203125 57.90625 53.265625 \r\nQ 57.90625 48.6875 55.421875 44.625 \r\nQ 52.9375 40.578125 47.90625 38.09375 \r\nQ 54.390625 36.1875 57.875 31.59375 \r\nQ 61.375 27 61.375 20.75 \r\nQ 61.375 15.71875 59.25 11.390625 \r\nQ 57.125 7.078125 54 4.734375 \r\nQ 50.875 2.390625 46.15625 1.1875 \r\nQ 41.453125 0 34.625 0 \r\nz\r\nM 16.796875 41.5 \r\nL 32.28125 41.5 \r\nQ 38.578125 41.5 41.3125 42.328125 \r\nQ 44.921875 43.40625 46.75 45.890625 \r\nQ 48.578125 48.390625 48.578125 52.15625 \r\nQ 48.578125 55.71875 46.875 58.421875 \r\nQ 45.171875 61.140625 41.984375 62.140625 \r\nQ 38.8125 63.140625 31.109375 63.140625 \r\nL 16.796875 63.140625 \r\nz\r\nM 16.796875 8.453125 \r\nL 34.625 8.453125 \r\nQ 39.203125 8.453125 41.0625 8.796875 \r\nQ 44.34375 9.375 46.53125 10.734375 \r\nQ 48.734375 12.109375 50.140625 14.71875 \r\nQ 51.5625 17.328125 51.5625 20.75 \r\nQ 51.5625 24.75 49.515625 27.703125 \r\nQ 47.46875 30.671875 43.828125 31.859375 \r\nQ 40.1875 33.0625 33.34375 33.0625 \r\nL 16.796875 33.0625 \r\nz\r\n\" id=\"ArialMT-66\"/>\r\n        <path d=\"M 6.390625 0 \r\nL 6.390625 71.578125 \r\nL 15.1875 71.578125 \r\nL 15.1875 0 \r\nz\r\n\" id=\"ArialMT-108\"/>\r\n        <path d=\"M 40.4375 19 \r\nL 49.078125 17.875 \r\nQ 47.65625 8.9375 41.8125 3.875 \r\nQ 35.984375 -1.171875 27.484375 -1.171875 \r\nQ 16.84375 -1.171875 10.375 5.78125 \r\nQ 3.90625 12.75 3.90625 25.734375 \r\nQ 3.90625 34.125 6.6875 40.421875 \r\nQ 9.46875 46.734375 15.15625 49.875 \r\nQ 20.84375 53.03125 27.546875 53.03125 \r\nQ 35.984375 53.03125 41.359375 48.75 \r\nQ 46.734375 44.484375 48.25 36.625 \r\nL 39.703125 35.296875 \r\nQ 38.484375 40.53125 35.375 43.15625 \r\nQ 32.28125 45.796875 27.875 45.796875 \r\nQ 21.234375 45.796875 17.078125 41.03125 \r\nQ 12.9375 36.28125 12.9375 25.984375 \r\nQ 12.9375 15.53125 16.9375 10.796875 \r\nQ 20.953125 6.0625 27.390625 6.0625 \r\nQ 32.5625 6.0625 36.03125 9.234375 \r\nQ 39.5 12.40625 40.4375 19 \r\nz\r\n\" id=\"ArialMT-99\"/>\r\n        <path d=\"M 6.640625 0 \r\nL 6.640625 71.578125 \r\nL 15.4375 71.578125 \r\nL 15.4375 30.765625 \r\nL 36.234375 51.859375 \r\nL 47.609375 51.859375 \r\nL 27.78125 32.625 \r\nL 49.609375 0 \r\nL 38.765625 0 \r\nL 21.625 26.515625 \r\nL 15.4375 20.5625 \r\nL 15.4375 0 \r\nz\r\n\" id=\"ArialMT-107\"/>\r\n       </defs>\r\n       <use xlink:href=\"#ArialMT-83\"/>\r\n       <use x=\"66.699219\" xlink:href=\"#ArialMT-104\"/>\r\n       <use x=\"122.314453\" xlink:href=\"#ArialMT-97\"/>\r\n       <use x=\"177.929688\" xlink:href=\"#ArialMT-114\"/>\r\n       <use x=\"211.230469\" xlink:href=\"#ArialMT-101\"/>\r\n       <use x=\"266.845703\" xlink:href=\"#ArialMT-95\"/>\r\n       <use x=\"322.460938\" xlink:href=\"#ArialMT-66\"/>\r\n       <use x=\"389.160156\" xlink:href=\"#ArialMT-108\"/>\r\n       <use x=\"411.376953\" xlink:href=\"#ArialMT-97\"/>\r\n       <use x=\"466.992188\" xlink:href=\"#ArialMT-99\"/>\r\n       <use x=\"516.992188\" xlink:href=\"#ArialMT-107\"/>\r\n      </g>\r\n     </g>\r\n    </g>\r\n    <g id=\"xtick_2\">\r\n     <g id=\"text_2\">\r\n      <!-- Share_Hispanic -->\r\n      <g style=\"fill:#262626;\" transform=\"translate(161.357656 255.839219)scale(0.1 -0.1)\">\r\n       <defs>\r\n        <path d=\"M 8.015625 0 \r\nL 8.015625 71.578125 \r\nL 17.484375 71.578125 \r\nL 17.484375 42.1875 \r\nL 54.6875 42.1875 \r\nL 54.6875 71.578125 \r\nL 64.15625 71.578125 \r\nL 64.15625 0 \r\nL 54.6875 0 \r\nL 54.6875 33.734375 \r\nL 17.484375 33.734375 \r\nL 17.484375 0 \r\nz\r\n\" id=\"ArialMT-72\"/>\r\n        <path d=\"M 6.640625 61.46875 \r\nL 6.640625 71.578125 \r\nL 15.4375 71.578125 \r\nL 15.4375 61.46875 \r\nz\r\nM 6.640625 0 \r\nL 6.640625 51.859375 \r\nL 15.4375 51.859375 \r\nL 15.4375 0 \r\nz\r\n\" id=\"ArialMT-105\"/>\r\n        <path d=\"M 3.078125 15.484375 \r\nL 11.765625 16.84375 \r\nQ 12.5 11.625 15.84375 8.84375 \r\nQ 19.1875 6.0625 25.203125 6.0625 \r\nQ 31.25 6.0625 34.171875 8.515625 \r\nQ 37.109375 10.984375 37.109375 14.3125 \r\nQ 37.109375 17.28125 34.515625 19 \r\nQ 32.71875 20.171875 25.53125 21.96875 \r\nQ 15.875 24.421875 12.140625 26.203125 \r\nQ 8.40625 27.984375 6.46875 31.125 \r\nQ 4.546875 34.28125 4.546875 38.09375 \r\nQ 4.546875 41.546875 6.125 44.5 \r\nQ 7.71875 47.46875 10.453125 49.421875 \r\nQ 12.5 50.921875 16.03125 51.96875 \r\nQ 19.578125 53.03125 23.640625 53.03125 \r\nQ 29.734375 53.03125 34.34375 51.265625 \r\nQ 38.96875 49.515625 41.15625 46.5 \r\nQ 43.359375 43.5 44.1875 38.484375 \r\nL 35.59375 37.3125 \r\nQ 35.015625 41.3125 32.203125 43.546875 \r\nQ 29.390625 45.796875 24.265625 45.796875 \r\nQ 18.21875 45.796875 15.625 43.796875 \r\nQ 13.03125 41.796875 13.03125 39.109375 \r\nQ 13.03125 37.40625 14.109375 36.03125 \r\nQ 15.1875 34.625 17.484375 33.6875 \r\nQ 18.796875 33.203125 25.25 31.453125 \r\nQ 34.578125 28.953125 38.25 27.359375 \r\nQ 41.9375 25.78125 44.03125 22.75 \r\nQ 46.140625 19.734375 46.140625 15.234375 \r\nQ 46.140625 10.84375 43.578125 6.953125 \r\nQ 41.015625 3.078125 36.171875 0.953125 \r\nQ 31.34375 -1.171875 25.25 -1.171875 \r\nQ 15.140625 -1.171875 9.84375 3.03125 \r\nQ 4.546875 7.234375 3.078125 15.484375 \r\nz\r\n\" id=\"ArialMT-115\"/>\r\n        <path d=\"M 6.59375 -19.875 \r\nL 6.59375 51.859375 \r\nL 14.59375 51.859375 \r\nL 14.59375 45.125 \r\nQ 17.4375 49.078125 21 51.046875 \r\nQ 24.5625 53.03125 29.640625 53.03125 \r\nQ 36.28125 53.03125 41.359375 49.609375 \r\nQ 46.4375 46.1875 49.015625 39.953125 \r\nQ 51.609375 33.734375 51.609375 26.3125 \r\nQ 51.609375 18.359375 48.75 11.984375 \r\nQ 45.90625 5.609375 40.453125 2.21875 \r\nQ 35.015625 -1.171875 29 -1.171875 \r\nQ 24.609375 -1.171875 21.109375 0.6875 \r\nQ 17.625 2.546875 15.375 5.375 \r\nL 15.375 -19.875 \r\nz\r\nM 14.546875 25.640625 \r\nQ 14.546875 15.625 18.59375 10.84375 \r\nQ 22.65625 6.0625 28.421875 6.0625 \r\nQ 34.28125 6.0625 38.453125 11.015625 \r\nQ 42.625 15.96875 42.625 26.375 \r\nQ 42.625 36.28125 38.546875 41.203125 \r\nQ 34.46875 46.140625 28.8125 46.140625 \r\nQ 23.1875 46.140625 18.859375 40.890625 \r\nQ 14.546875 35.640625 14.546875 25.640625 \r\nz\r\n\" id=\"ArialMT-112\"/>\r\n        <path d=\"M 6.59375 0 \r\nL 6.59375 51.859375 \r\nL 14.5 51.859375 \r\nL 14.5 44.484375 \r\nQ 20.21875 53.03125 31 53.03125 \r\nQ 35.6875 53.03125 39.625 51.34375 \r\nQ 43.5625 49.65625 45.515625 46.921875 \r\nQ 47.46875 44.1875 48.25 40.4375 \r\nQ 48.734375 37.984375 48.734375 31.890625 \r\nL 48.734375 0 \r\nL 39.9375 0 \r\nL 39.9375 31.546875 \r\nQ 39.9375 36.921875 38.90625 39.578125 \r\nQ 37.890625 42.234375 35.28125 43.8125 \r\nQ 32.671875 45.40625 29.15625 45.40625 \r\nQ 23.53125 45.40625 19.453125 41.84375 \r\nQ 15.375 38.28125 15.375 28.328125 \r\nL 15.375 0 \r\nz\r\n\" id=\"ArialMT-110\"/>\r\n       </defs>\r\n       <use xlink:href=\"#ArialMT-83\"/>\r\n       <use x=\"66.699219\" xlink:href=\"#ArialMT-104\"/>\r\n       <use x=\"122.314453\" xlink:href=\"#ArialMT-97\"/>\r\n       <use x=\"177.929688\" xlink:href=\"#ArialMT-114\"/>\r\n       <use x=\"211.230469\" xlink:href=\"#ArialMT-101\"/>\r\n       <use x=\"266.845703\" xlink:href=\"#ArialMT-95\"/>\r\n       <use x=\"322.460938\" xlink:href=\"#ArialMT-72\"/>\r\n       <use x=\"394.677734\" xlink:href=\"#ArialMT-105\"/>\r\n       <use x=\"416.894531\" xlink:href=\"#ArialMT-115\"/>\r\n       <use x=\"466.894531\" xlink:href=\"#ArialMT-112\"/>\r\n       <use x=\"522.509766\" xlink:href=\"#ArialMT-97\"/>\r\n       <use x=\"578.125\" xlink:href=\"#ArialMT-110\"/>\r\n       <use x=\"633.740234\" xlink:href=\"#ArialMT-105\"/>\r\n       <use x=\"655.957031\" xlink:href=\"#ArialMT-99\"/>\r\n      </g>\r\n     </g>\r\n    </g>\r\n    <g id=\"xtick_3\">\r\n     <g id=\"text_3\">\r\n      <!-- Share_Native_American -->\r\n      <g style=\"fill:#262626;\" transform=\"translate(242.902344 255.839219)scale(0.1 -0.1)\">\r\n       <defs>\r\n        <path d=\"M 7.625 0 \r\nL 7.625 71.578125 \r\nL 17.328125 71.578125 \r\nL 54.9375 15.375 \r\nL 54.9375 71.578125 \r\nL 64.015625 71.578125 \r\nL 64.015625 0 \r\nL 54.296875 0 \r\nL 16.703125 56.25 \r\nL 16.703125 0 \r\nz\r\n\" id=\"ArialMT-78\"/>\r\n        <path d=\"M 25.78125 7.859375 \r\nL 27.046875 0.09375 \r\nQ 23.34375 -0.6875 20.40625 -0.6875 \r\nQ 15.625 -0.6875 12.984375 0.828125 \r\nQ 10.359375 2.34375 9.28125 4.8125 \r\nQ 8.203125 7.28125 8.203125 15.1875 \r\nL 8.203125 45.015625 \r\nL 1.765625 45.015625 \r\nL 1.765625 51.859375 \r\nL 8.203125 51.859375 \r\nL 8.203125 64.703125 \r\nL 16.9375 69.96875 \r\nL 16.9375 51.859375 \r\nL 25.78125 51.859375 \r\nL 25.78125 45.015625 \r\nL 16.9375 45.015625 \r\nL 16.9375 14.703125 \r\nQ 16.9375 10.9375 17.40625 9.859375 \r\nQ 17.875 8.796875 18.921875 8.15625 \r\nQ 19.96875 7.515625 21.921875 7.515625 \r\nQ 23.390625 7.515625 25.78125 7.859375 \r\nz\r\n\" id=\"ArialMT-116\"/>\r\n        <path d=\"M 21 0 \r\nL 1.265625 51.859375 \r\nL 10.546875 51.859375 \r\nL 21.6875 20.796875 \r\nQ 23.484375 15.765625 25 10.359375 \r\nQ 26.171875 14.453125 28.265625 20.21875 \r\nL 39.796875 51.859375 \r\nL 48.828125 51.859375 \r\nL 29.203125 0 \r\nz\r\n\" id=\"ArialMT-118\"/>\r\n        <path d=\"M -0.140625 0 \r\nL 27.34375 71.578125 \r\nL 37.546875 71.578125 \r\nL 66.84375 0 \r\nL 56.0625 0 \r\nL 47.703125 21.6875 \r\nL 17.78125 21.6875 \r\nL 9.90625 0 \r\nz\r\nM 20.515625 29.390625 \r\nL 44.78125 29.390625 \r\nL 37.3125 49.21875 \r\nQ 33.890625 58.25 32.234375 64.0625 \r\nQ 30.859375 57.171875 28.375 50.390625 \r\nz\r\n\" id=\"ArialMT-65\"/>\r\n        <path d=\"M 6.59375 0 \r\nL 6.59375 51.859375 \r\nL 14.453125 51.859375 \r\nL 14.453125 44.578125 \r\nQ 16.890625 48.390625 20.9375 50.703125 \r\nQ 25 53.03125 30.171875 53.03125 \r\nQ 35.9375 53.03125 39.625 50.640625 \r\nQ 43.3125 48.25 44.828125 43.953125 \r\nQ 50.984375 53.03125 60.84375 53.03125 \r\nQ 68.5625 53.03125 72.703125 48.75 \r\nQ 76.859375 44.484375 76.859375 35.59375 \r\nL 76.859375 0 \r\nL 68.109375 0 \r\nL 68.109375 32.671875 \r\nQ 68.109375 37.9375 67.25 40.25 \r\nQ 66.40625 42.578125 64.15625 43.984375 \r\nQ 61.921875 45.40625 58.890625 45.40625 \r\nQ 53.421875 45.40625 49.796875 41.765625 \r\nQ 46.1875 38.140625 46.1875 30.125 \r\nL 46.1875 0 \r\nL 37.40625 0 \r\nL 37.40625 33.6875 \r\nQ 37.40625 39.546875 35.25 42.46875 \r\nQ 33.109375 45.40625 28.21875 45.40625 \r\nQ 24.515625 45.40625 21.359375 43.453125 \r\nQ 18.21875 41.5 16.796875 37.734375 \r\nQ 15.375 33.984375 15.375 26.90625 \r\nL 15.375 0 \r\nz\r\n\" id=\"ArialMT-109\"/>\r\n       </defs>\r\n       <use xlink:href=\"#ArialMT-83\"/>\r\n       <use x=\"66.699219\" xlink:href=\"#ArialMT-104\"/>\r\n       <use x=\"122.314453\" xlink:href=\"#ArialMT-97\"/>\r\n       <use x=\"177.929688\" xlink:href=\"#ArialMT-114\"/>\r\n       <use x=\"211.230469\" xlink:href=\"#ArialMT-101\"/>\r\n       <use x=\"266.845703\" xlink:href=\"#ArialMT-95\"/>\r\n       <use x=\"322.460938\" xlink:href=\"#ArialMT-78\"/>\r\n       <use x=\"394.677734\" xlink:href=\"#ArialMT-97\"/>\r\n       <use x=\"450.292969\" xlink:href=\"#ArialMT-116\"/>\r\n       <use x=\"478.076172\" xlink:href=\"#ArialMT-105\"/>\r\n       <use x=\"500.292969\" xlink:href=\"#ArialMT-118\"/>\r\n       <use x=\"550.292969\" xlink:href=\"#ArialMT-101\"/>\r\n       <use x=\"605.908203\" xlink:href=\"#ArialMT-95\"/>\r\n       <use x=\"661.523438\" xlink:href=\"#ArialMT-65\"/>\r\n       <use x=\"728.222656\" xlink:href=\"#ArialMT-109\"/>\r\n       <use x=\"811.523438\" xlink:href=\"#ArialMT-101\"/>\r\n       <use x=\"867.138672\" xlink:href=\"#ArialMT-114\"/>\r\n       <use x=\"900.439453\" xlink:href=\"#ArialMT-105\"/>\r\n       <use x=\"922.65625\" xlink:href=\"#ArialMT-99\"/>\r\n       <use x=\"972.65625\" xlink:href=\"#ArialMT-97\"/>\r\n       <use x=\"1028.271484\" xlink:href=\"#ArialMT-110\"/>\r\n      </g>\r\n     </g>\r\n    </g>\r\n    <g id=\"xtick_4\">\r\n     <g id=\"text_4\">\r\n      <!-- Share_White -->\r\n      <g style=\"fill:#262626;\" transform=\"translate(368.631406 255.839219)scale(0.1 -0.1)\">\r\n       <defs>\r\n        <path d=\"M 20.21875 0 \r\nL 1.21875 71.578125 \r\nL 10.9375 71.578125 \r\nL 21.828125 24.65625 \r\nQ 23.578125 17.28125 24.859375 10.015625 \r\nQ 27.59375 21.484375 28.078125 23.25 \r\nL 41.703125 71.578125 \r\nL 53.125 71.578125 \r\nL 63.375 35.359375 \r\nQ 67.234375 21.875 68.953125 10.015625 \r\nQ 70.3125 16.796875 72.515625 25.59375 \r\nL 83.734375 71.578125 \r\nL 93.265625 71.578125 \r\nL 73.640625 0 \r\nL 64.5 0 \r\nL 49.421875 54.546875 \r\nQ 47.515625 61.375 47.171875 62.9375 \r\nQ 46.046875 58.015625 45.0625 54.546875 \r\nL 29.890625 0 \r\nz\r\n\" id=\"ArialMT-87\"/>\r\n       </defs>\r\n       <use xlink:href=\"#ArialMT-83\"/>\r\n       <use x=\"66.699219\" xlink:href=\"#ArialMT-104\"/>\r\n       <use x=\"122.314453\" xlink:href=\"#ArialMT-97\"/>\r\n       <use x=\"177.929688\" xlink:href=\"#ArialMT-114\"/>\r\n       <use x=\"211.230469\" xlink:href=\"#ArialMT-101\"/>\r\n       <use x=\"266.845703\" xlink:href=\"#ArialMT-95\"/>\r\n       <use x=\"322.460938\" xlink:href=\"#ArialMT-87\"/>\r\n       <use x=\"416.845703\" xlink:href=\"#ArialMT-104\"/>\r\n       <use x=\"472.460938\" xlink:href=\"#ArialMT-105\"/>\r\n       <use x=\"494.677734\" xlink:href=\"#ArialMT-116\"/>\r\n       <use x=\"522.460938\" xlink:href=\"#ArialMT-101\"/>\r\n      </g>\r\n     </g>\r\n    </g>\r\n    <g id=\"xtick_5\">\r\n     <g id=\"text_5\">\r\n      <!-- Share_Asian -->\r\n      <g style=\"fill:#262626;\" transform=\"translate(469.344844 255.839219)scale(0.1 -0.1)\">\r\n       <use xlink:href=\"#ArialMT-83\"/>\r\n       <use x=\"66.699219\" xlink:href=\"#ArialMT-104\"/>\r\n       <use x=\"122.314453\" xlink:href=\"#ArialMT-97\"/>\r\n       <use x=\"177.929688\" xlink:href=\"#ArialMT-114\"/>\r\n       <use x=\"211.230469\" xlink:href=\"#ArialMT-101\"/>\r\n       <use x=\"266.845703\" xlink:href=\"#ArialMT-95\"/>\r\n       <use x=\"322.460938\" xlink:href=\"#ArialMT-65\"/>\r\n       <use x=\"389.160156\" xlink:href=\"#ArialMT-115\"/>\r\n       <use x=\"439.160156\" xlink:href=\"#ArialMT-105\"/>\r\n       <use x=\"461.376953\" xlink:href=\"#ArialMT-97\"/>\r\n       <use x=\"516.992188\" xlink:href=\"#ArialMT-110\"/>\r\n      </g>\r\n     </g>\r\n    </g>\r\n    <g id=\"text_6\">\r\n     <!-- Race -->\r\n     <g style=\"fill:#262626;\" transform=\"translate(279.585938 272.563438)scale(0.15 -0.15)\">\r\n      <defs>\r\n       <path d=\"M 7.859375 0 \r\nL 7.859375 71.578125 \r\nL 39.59375 71.578125 \r\nQ 49.171875 71.578125 54.140625 69.640625 \r\nQ 59.125 67.71875 62.109375 62.828125 \r\nQ 65.09375 57.953125 65.09375 52.046875 \r\nQ 65.09375 44.4375 60.15625 39.203125 \r\nQ 55.21875 33.984375 44.921875 32.5625 \r\nQ 48.6875 30.765625 50.640625 29 \r\nQ 54.78125 25.203125 58.5 19.484375 \r\nL 70.953125 0 \r\nL 59.03125 0 \r\nL 49.5625 14.890625 \r\nQ 45.40625 21.34375 42.71875 24.75 \r\nQ 40.046875 28.171875 37.921875 29.53125 \r\nQ 35.796875 30.90625 33.59375 31.453125 \r\nQ 31.984375 31.78125 28.328125 31.78125 \r\nL 17.328125 31.78125 \r\nL 17.328125 0 \r\nz\r\nM 17.328125 39.984375 \r\nL 37.703125 39.984375 \r\nQ 44.1875 39.984375 47.84375 41.328125 \r\nQ 51.515625 42.671875 53.421875 45.625 \r\nQ 55.328125 48.578125 55.328125 52.046875 \r\nQ 55.328125 57.125 51.640625 60.390625 \r\nQ 47.953125 63.671875 39.984375 63.671875 \r\nL 17.328125 63.671875 \r\nz\r\n\" id=\"ArialMT-82\"/>\r\n      </defs>\r\n      <use xlink:href=\"#ArialMT-82\"/>\r\n      <use x=\"72.216797\" xlink:href=\"#ArialMT-97\"/>\r\n      <use x=\"127.832031\" xlink:href=\"#ArialMT-99\"/>\r\n      <use x=\"177.832031\" xlink:href=\"#ArialMT-101\"/>\r\n     </g>\r\n    </g>\r\n   </g>\r\n   <g id=\"matplotlib.axis_2\">\r\n    <g id=\"ytick_1\">\r\n     <g id=\"line2d_1\">\r\n      <path clip-path=\"url(#pdf90eb3a1b)\" d=\"M 45.99375 241.559531 \r\nL 548.19375 241.559531 \r\n\" style=\"fill:none;stroke:#cccccc;stroke-linecap:round;stroke-width:0.8;\"/>\r\n     </g>\r\n     <g id=\"text_7\">\r\n      <!-- 0.0 -->\r\n      <g style=\"fill:#262626;\" transform=\"translate(25.09375 245.138438)scale(0.1 -0.1)\">\r\n       <defs>\r\n        <path d=\"M 4.15625 35.296875 \r\nQ 4.15625 48 6.765625 55.734375 \r\nQ 9.375 63.484375 14.515625 67.671875 \r\nQ 19.671875 71.875 27.484375 71.875 \r\nQ 33.25 71.875 37.59375 69.546875 \r\nQ 41.9375 67.234375 44.765625 62.859375 \r\nQ 47.609375 58.5 49.21875 52.21875 \r\nQ 50.828125 45.953125 50.828125 35.296875 \r\nQ 50.828125 22.703125 48.234375 14.96875 \r\nQ 45.65625 7.234375 40.5 3 \r\nQ 35.359375 -1.21875 27.484375 -1.21875 \r\nQ 17.140625 -1.21875 11.234375 6.203125 \r\nQ 4.15625 15.140625 4.15625 35.296875 \r\nz\r\nM 13.1875 35.296875 \r\nQ 13.1875 17.671875 17.3125 11.828125 \r\nQ 21.4375 6 27.484375 6 \r\nQ 33.546875 6 37.671875 11.859375 \r\nQ 41.796875 17.71875 41.796875 35.296875 \r\nQ 41.796875 52.984375 37.671875 58.78125 \r\nQ 33.546875 64.59375 27.390625 64.59375 \r\nQ 21.34375 64.59375 17.71875 59.46875 \r\nQ 13.1875 52.9375 13.1875 35.296875 \r\nz\r\n\" id=\"ArialMT-48\"/>\r\n        <path d=\"M 9.078125 0 \r\nL 9.078125 10.015625 \r\nL 19.09375 10.015625 \r\nL 19.09375 0 \r\nz\r\n\" id=\"ArialMT-46\"/>\r\n       </defs>\r\n       <use xlink:href=\"#ArialMT-48\"/>\r\n       <use x=\"55.615234\" xlink:href=\"#ArialMT-46\"/>\r\n       <use x=\"83.398438\" xlink:href=\"#ArialMT-48\"/>\r\n      </g>\r\n     </g>\r\n    </g>\r\n    <g id=\"ytick_2\">\r\n     <g id=\"line2d_2\">\r\n      <path clip-path=\"url(#pdf90eb3a1b)\" d=\"M 45.99375 195.663236 \r\nL 548.19375 195.663236 \r\n\" style=\"fill:none;stroke:#cccccc;stroke-linecap:round;stroke-width:0.8;\"/>\r\n     </g>\r\n     <g id=\"text_8\">\r\n      <!-- 0.5 -->\r\n      <g style=\"fill:#262626;\" transform=\"translate(25.09375 199.242142)scale(0.1 -0.1)\">\r\n       <defs>\r\n        <path d=\"M 4.15625 18.75 \r\nL 13.375 19.53125 \r\nQ 14.40625 12.796875 18.140625 9.390625 \r\nQ 21.875 6 27.15625 6 \r\nQ 33.5 6 37.890625 10.78125 \r\nQ 42.28125 15.578125 42.28125 23.484375 \r\nQ 42.28125 31 38.0625 35.34375 \r\nQ 33.84375 39.703125 27 39.703125 \r\nQ 22.75 39.703125 19.328125 37.765625 \r\nQ 15.921875 35.84375 13.96875 32.765625 \r\nL 5.71875 33.84375 \r\nL 12.640625 70.609375 \r\nL 48.25 70.609375 \r\nL 48.25 62.203125 \r\nL 19.671875 62.203125 \r\nL 15.828125 42.96875 \r\nQ 22.265625 47.46875 29.34375 47.46875 \r\nQ 38.71875 47.46875 45.15625 40.96875 \r\nQ 51.609375 34.46875 51.609375 24.265625 \r\nQ 51.609375 14.546875 45.953125 7.46875 \r\nQ 39.0625 -1.21875 27.15625 -1.21875 \r\nQ 17.390625 -1.21875 11.203125 4.25 \r\nQ 5.03125 9.71875 4.15625 18.75 \r\nz\r\n\" id=\"ArialMT-53\"/>\r\n       </defs>\r\n       <use xlink:href=\"#ArialMT-48\"/>\r\n       <use x=\"55.615234\" xlink:href=\"#ArialMT-46\"/>\r\n       <use x=\"83.398438\" xlink:href=\"#ArialMT-53\"/>\r\n      </g>\r\n     </g>\r\n    </g>\r\n    <g id=\"ytick_3\">\r\n     <g id=\"line2d_3\">\r\n      <path clip-path=\"url(#pdf90eb3a1b)\" d=\"M 45.99375 149.766941 \r\nL 548.19375 149.766941 \r\n\" style=\"fill:none;stroke:#cccccc;stroke-linecap:round;stroke-width:0.8;\"/>\r\n     </g>\r\n     <g id=\"text_9\">\r\n      <!-- 1.0 -->\r\n      <g style=\"fill:#262626;\" transform=\"translate(25.09375 153.345847)scale(0.1 -0.1)\">\r\n       <defs>\r\n        <path d=\"M 37.25 0 \r\nL 28.46875 0 \r\nL 28.46875 56 \r\nQ 25.296875 52.984375 20.140625 49.953125 \r\nQ 14.984375 46.921875 10.890625 45.40625 \r\nL 10.890625 53.90625 \r\nQ 18.265625 57.375 23.78125 62.296875 \r\nQ 29.296875 67.234375 31.59375 71.875 \r\nL 37.25 71.875 \r\nz\r\n\" id=\"ArialMT-49\"/>\r\n       </defs>\r\n       <use xlink:href=\"#ArialMT-49\"/>\r\n       <use x=\"55.615234\" xlink:href=\"#ArialMT-46\"/>\r\n       <use x=\"83.398438\" xlink:href=\"#ArialMT-48\"/>\r\n      </g>\r\n     </g>\r\n    </g>\r\n    <g id=\"ytick_4\">\r\n     <g id=\"line2d_4\">\r\n      <path clip-path=\"url(#pdf90eb3a1b)\" d=\"M 45.99375 103.870645 \r\nL 548.19375 103.870645 \r\n\" style=\"fill:none;stroke:#cccccc;stroke-linecap:round;stroke-width:0.8;\"/>\r\n     </g>\r\n     <g id=\"text_10\">\r\n      <!-- 1.5 -->\r\n      <g style=\"fill:#262626;\" transform=\"translate(25.09375 107.449551)scale(0.1 -0.1)\">\r\n       <use xlink:href=\"#ArialMT-49\"/>\r\n       <use x=\"55.615234\" xlink:href=\"#ArialMT-46\"/>\r\n       <use x=\"83.398438\" xlink:href=\"#ArialMT-53\"/>\r\n      </g>\r\n     </g>\r\n    </g>\r\n    <g id=\"ytick_5\">\r\n     <g id=\"line2d_5\">\r\n      <path clip-path=\"url(#pdf90eb3a1b)\" d=\"M 45.99375 57.97435 \r\nL 548.19375 57.97435 \r\n\" style=\"fill:none;stroke:#cccccc;stroke-linecap:round;stroke-width:0.8;\"/>\r\n     </g>\r\n     <g id=\"text_11\">\r\n      <!-- 2.0 -->\r\n      <g style=\"fill:#262626;\" transform=\"translate(25.09375 61.553256)scale(0.1 -0.1)\">\r\n       <defs>\r\n        <path d=\"M 50.34375 8.453125 \r\nL 50.34375 0 \r\nL 3.03125 0 \r\nQ 2.9375 3.171875 4.046875 6.109375 \r\nQ 5.859375 10.9375 9.828125 15.625 \r\nQ 13.8125 20.3125 21.34375 26.46875 \r\nQ 33.015625 36.03125 37.109375 41.625 \r\nQ 41.21875 47.21875 41.21875 52.203125 \r\nQ 41.21875 57.421875 37.46875 61 \r\nQ 33.734375 64.59375 27.734375 64.59375 \r\nQ 21.390625 64.59375 17.578125 60.78125 \r\nQ 13.765625 56.984375 13.71875 50.25 \r\nL 4.6875 51.171875 \r\nQ 5.609375 61.28125 11.65625 66.578125 \r\nQ 17.71875 71.875 27.9375 71.875 \r\nQ 38.234375 71.875 44.234375 66.15625 \r\nQ 50.25 60.453125 50.25 52 \r\nQ 50.25 47.703125 48.484375 43.546875 \r\nQ 46.734375 39.40625 42.65625 34.8125 \r\nQ 38.578125 30.21875 29.109375 22.21875 \r\nQ 21.1875 15.578125 18.9375 13.203125 \r\nQ 16.703125 10.84375 15.234375 8.453125 \r\nz\r\n\" id=\"ArialMT-50\"/>\r\n       </defs>\r\n       <use xlink:href=\"#ArialMT-50\"/>\r\n       <use x=\"55.615234\" xlink:href=\"#ArialMT-46\"/>\r\n       <use x=\"83.398438\" xlink:href=\"#ArialMT-48\"/>\r\n      </g>\r\n     </g>\r\n    </g>\r\n    <g id=\"text_12\">\r\n     <!-- Frequency -->\r\n     <g style=\"fill:#262626;\" transform=\"translate(17.936719 168.271172)rotate(-90)scale(0.15 -0.15)\">\r\n      <defs>\r\n       <path d=\"M 8.203125 0 \r\nL 8.203125 71.578125 \r\nL 56.5 71.578125 \r\nL 56.5 63.140625 \r\nL 17.671875 63.140625 \r\nL 17.671875 40.96875 \r\nL 51.265625 40.96875 \r\nL 51.265625 32.515625 \r\nL 17.671875 32.515625 \r\nL 17.671875 0 \r\nz\r\n\" id=\"ArialMT-70\"/>\r\n       <path d=\"M 39.65625 -19.875 \r\nL 39.65625 5.515625 \r\nQ 37.59375 2.640625 33.90625 0.734375 \r\nQ 30.21875 -1.171875 26.078125 -1.171875 \r\nQ 16.84375 -1.171875 10.171875 6.203125 \r\nQ 3.515625 13.578125 3.515625 26.421875 \r\nQ 3.515625 34.234375 6.21875 40.421875 \r\nQ 8.9375 46.625 14.078125 49.828125 \r\nQ 19.234375 53.03125 25.390625 53.03125 \r\nQ 35.015625 53.03125 40.53125 44.921875 \r\nL 40.53125 51.859375 \r\nL 48.4375 51.859375 \r\nL 48.4375 -19.875 \r\nz\r\nM 12.546875 26.078125 \r\nQ 12.546875 16.0625 16.75 11.0625 \r\nQ 20.953125 6.0625 26.8125 6.0625 \r\nQ 32.421875 6.0625 36.46875 10.8125 \r\nQ 40.53125 15.578125 40.53125 25.296875 \r\nQ 40.53125 35.640625 36.25 40.859375 \r\nQ 31.984375 46.09375 26.21875 46.09375 \r\nQ 20.515625 46.09375 16.53125 41.234375 \r\nQ 12.546875 36.375 12.546875 26.078125 \r\nz\r\n\" id=\"ArialMT-113\"/>\r\n       <path d=\"M 40.578125 0 \r\nL 40.578125 7.625 \r\nQ 34.515625 -1.171875 24.125 -1.171875 \r\nQ 19.53125 -1.171875 15.546875 0.578125 \r\nQ 11.578125 2.34375 9.640625 5 \r\nQ 7.71875 7.671875 6.9375 11.53125 \r\nQ 6.390625 14.109375 6.390625 19.734375 \r\nL 6.390625 51.859375 \r\nL 15.1875 51.859375 \r\nL 15.1875 23.09375 \r\nQ 15.1875 16.21875 15.71875 13.8125 \r\nQ 16.546875 10.359375 19.234375 8.375 \r\nQ 21.921875 6.390625 25.875 6.390625 \r\nQ 29.828125 6.390625 33.296875 8.421875 \r\nQ 36.765625 10.453125 38.203125 13.9375 \r\nQ 39.65625 17.4375 39.65625 24.078125 \r\nL 39.65625 51.859375 \r\nL 48.4375 51.859375 \r\nL 48.4375 0 \r\nz\r\n\" id=\"ArialMT-117\"/>\r\n       <path d=\"M 6.203125 -19.96875 \r\nL 5.21875 -11.71875 \r\nQ 8.109375 -12.5 10.25 -12.5 \r\nQ 13.1875 -12.5 14.9375 -11.515625 \r\nQ 16.703125 -10.546875 17.828125 -8.796875 \r\nQ 18.65625 -7.46875 20.515625 -2.25 \r\nQ 20.75 -1.515625 21.296875 -0.09375 \r\nL 1.609375 51.859375 \r\nL 11.078125 51.859375 \r\nL 21.875 21.828125 \r\nQ 23.96875 16.109375 25.640625 9.8125 \r\nQ 27.15625 15.875 29.25 21.625 \r\nL 40.328125 51.859375 \r\nL 49.125 51.859375 \r\nL 29.390625 -0.875 \r\nQ 26.21875 -9.421875 24.46875 -12.640625 \r\nQ 22.125 -17 19.09375 -19.015625 \r\nQ 16.0625 -21.046875 11.859375 -21.046875 \r\nQ 9.328125 -21.046875 6.203125 -19.96875 \r\nz\r\n\" id=\"ArialMT-121\"/>\r\n      </defs>\r\n      <use xlink:href=\"#ArialMT-70\"/>\r\n      <use x=\"61.083984\" xlink:href=\"#ArialMT-114\"/>\r\n      <use x=\"94.384766\" xlink:href=\"#ArialMT-101\"/>\r\n      <use x=\"150\" xlink:href=\"#ArialMT-113\"/>\r\n      <use x=\"205.615234\" xlink:href=\"#ArialMT-117\"/>\r\n      <use x=\"261.230469\" xlink:href=\"#ArialMT-101\"/>\r\n      <use x=\"316.845703\" xlink:href=\"#ArialMT-110\"/>\r\n      <use x=\"372.460938\" xlink:href=\"#ArialMT-99\"/>\r\n      <use x=\"422.460938\" xlink:href=\"#ArialMT-121\"/>\r\n     </g>\r\n    </g>\r\n   </g>\r\n   <g id=\"patch_3\">\r\n    <path clip-path=\"url(#pdf90eb3a1b)\" d=\"M 56.03775 241.559531 \r\nL 136.38975 241.559531 \r\nL 136.38975 34.473817 \r\nL 56.03775 34.473817 \r\nz\r\n\" style=\"fill:#9d262a;stroke:#ffffff;stroke-linejoin:miter;\"/>\r\n   </g>\r\n   <g id=\"patch_4\">\r\n    <path clip-path=\"url(#pdf90eb3a1b)\" d=\"M 156.47775 241.559531 \r\nL 236.82975 241.559531 \r\nL 236.82975 133.775363 \r\nL 156.47775 133.775363 \r\nz\r\n\" style=\"fill:#cb453e;stroke:#ffffff;stroke-linejoin:miter;\"/>\r\n   </g>\r\n   <g id=\"patch_5\">\r\n    <path clip-path=\"url(#pdf90eb3a1b)\" d=\"M 256.91775 241.559531 \r\nL 337.26975 241.559531 \r\nL 337.26975 176.111653 \r\nL 256.91775 176.111653 \r\nz\r\n\" style=\"fill:#e57961;stroke:#ffffff;stroke-linejoin:miter;\"/>\r\n   </g>\r\n   <g id=\"patch_6\">\r\n    <path clip-path=\"url(#pdf90eb3a1b)\" d=\"M 357.35775 241.559531 \r\nL 437.70975 241.559531 \r\nL 437.70975 179.445188 \r\nL 357.35775 179.445188 \r\nz\r\n\" style=\"fill:#eda791;stroke:#ffffff;stroke-linejoin:miter;\"/>\r\n   </g>\r\n   <g id=\"patch_7\">\r\n    <path clip-path=\"url(#pdf90eb3a1b)\" d=\"M 457.79775 241.559531 \r\nL 538.14975 241.559531 \r\nL 538.14975 195.572519 \r\nL 457.79775 195.572519 \r\nz\r\n\" style=\"fill:#f6d7ca;stroke:#ffffff;stroke-linejoin:miter;\"/>\r\n   </g>\r\n   <g id=\"line2d_6\">\r\n    <path clip-path=\"url(#pdf90eb3a1b)\" d=\"M 0 0 \r\n\" style=\"fill:none;stroke:#424242;stroke-linecap:round;stroke-width:2.7;\"/>\r\n   </g>\r\n   <g id=\"line2d_7\">\r\n    <path clip-path=\"url(#pdf90eb3a1b)\" d=\"M 0 0 \r\n\" style=\"fill:none;stroke:#424242;stroke-linecap:round;stroke-width:2.7;\"/>\r\n   </g>\r\n   <g id=\"line2d_8\">\r\n    <path clip-path=\"url(#pdf90eb3a1b)\" d=\"M 0 0 \r\n\" style=\"fill:none;stroke:#424242;stroke-linecap:round;stroke-width:2.7;\"/>\r\n   </g>\r\n   <g id=\"line2d_9\">\r\n    <path clip-path=\"url(#pdf90eb3a1b)\" d=\"M 0 0 \r\n\" style=\"fill:none;stroke:#424242;stroke-linecap:round;stroke-width:2.7;\"/>\r\n   </g>\r\n   <g id=\"line2d_10\">\r\n    <path clip-path=\"url(#pdf90eb3a1b)\" d=\"M 0 0 \r\n\" style=\"fill:none;stroke:#424242;stroke-linecap:round;stroke-width:2.7;\"/>\r\n   </g>\r\n   <g id=\"patch_8\">\r\n    <path d=\"M 45.99375 241.559531 \r\nL 45.99375 24.119531 \r\n\" style=\"fill:none;stroke:#cccccc;stroke-linecap:square;stroke-linejoin:miter;stroke-width:0.8;\"/>\r\n   </g>\r\n   <g id=\"patch_9\">\r\n    <path d=\"M 548.19375 241.559531 \r\nL 548.19375 24.119531 \r\n\" style=\"fill:none;stroke:#cccccc;stroke-linecap:square;stroke-linejoin:miter;stroke-width:0.8;\"/>\r\n   </g>\r\n   <g id=\"patch_10\">\r\n    <path d=\"M 45.99375 241.559531 \r\nL 548.19375 241.559531 \r\n\" style=\"fill:none;stroke:#cccccc;stroke-linecap:square;stroke-linejoin:miter;stroke-width:0.8;\"/>\r\n   </g>\r\n   <g id=\"patch_11\">\r\n    <path d=\"M 45.99375 24.119531 \r\nL 548.19375 24.119531 \r\n\" style=\"fill:none;stroke:#cccccc;stroke-linecap:square;stroke-linejoin:miter;stroke-width:0.8;\"/>\r\n   </g>\r\n   <g id=\"text_13\">\r\n    <!-- Amount of people killed over total population of the race in the US -->\r\n    <g style=\"fill:#262626;\" transform=\"translate(79.055859 18.119531)scale(0.15 -0.15)\">\r\n     <defs>\r\n      <path d=\"M 3.328125 25.921875 \r\nQ 3.328125 40.328125 11.328125 47.265625 \r\nQ 18.015625 53.03125 27.640625 53.03125 \r\nQ 38.328125 53.03125 45.109375 46.015625 \r\nQ 51.90625 39.015625 51.90625 26.65625 \r\nQ 51.90625 16.65625 48.90625 10.90625 \r\nQ 45.90625 5.171875 40.15625 2 \r\nQ 34.421875 -1.171875 27.640625 -1.171875 \r\nQ 16.75 -1.171875 10.03125 5.8125 \r\nQ 3.328125 12.796875 3.328125 25.921875 \r\nz\r\nM 12.359375 25.921875 \r\nQ 12.359375 15.96875 16.703125 11.015625 \r\nQ 21.046875 6.0625 27.640625 6.0625 \r\nQ 34.1875 6.0625 38.53125 11.03125 \r\nQ 42.875 16.015625 42.875 26.21875 \r\nQ 42.875 35.84375 38.5 40.796875 \r\nQ 34.125 45.75 27.640625 45.75 \r\nQ 21.046875 45.75 16.703125 40.8125 \r\nQ 12.359375 35.890625 12.359375 25.921875 \r\nz\r\n\" id=\"ArialMT-111\"/>\r\n      <path id=\"ArialMT-32\"/>\r\n      <path d=\"M 8.6875 0 \r\nL 8.6875 45.015625 \r\nL 0.921875 45.015625 \r\nL 0.921875 51.859375 \r\nL 8.6875 51.859375 \r\nL 8.6875 57.375 \r\nQ 8.6875 62.59375 9.625 65.140625 \r\nQ 10.890625 68.5625 14.078125 70.671875 \r\nQ 17.28125 72.796875 23.046875 72.796875 \r\nQ 26.765625 72.796875 31.25 71.921875 \r\nL 29.9375 64.265625 \r\nQ 27.203125 64.75 24.75 64.75 \r\nQ 20.75 64.75 19.09375 63.03125 \r\nQ 17.4375 61.328125 17.4375 56.640625 \r\nL 17.4375 51.859375 \r\nL 27.546875 51.859375 \r\nL 27.546875 45.015625 \r\nL 17.4375 45.015625 \r\nL 17.4375 0 \r\nz\r\n\" id=\"ArialMT-102\"/>\r\n      <path d=\"M 40.234375 0 \r\nL 40.234375 6.546875 \r\nQ 35.296875 -1.171875 25.734375 -1.171875 \r\nQ 19.53125 -1.171875 14.328125 2.25 \r\nQ 9.125 5.671875 6.265625 11.796875 \r\nQ 3.421875 17.921875 3.421875 25.875 \r\nQ 3.421875 33.640625 6 39.96875 \r\nQ 8.59375 46.296875 13.765625 49.65625 \r\nQ 18.953125 53.03125 25.34375 53.03125 \r\nQ 30.03125 53.03125 33.6875 51.046875 \r\nQ 37.359375 49.078125 39.65625 45.90625 \r\nL 39.65625 71.578125 \r\nL 48.390625 71.578125 \r\nL 48.390625 0 \r\nz\r\nM 12.453125 25.875 \r\nQ 12.453125 15.921875 16.640625 10.984375 \r\nQ 20.84375 6.0625 26.5625 6.0625 \r\nQ 32.328125 6.0625 36.34375 10.765625 \r\nQ 40.375 15.484375 40.375 25.140625 \r\nQ 40.375 35.796875 36.265625 40.765625 \r\nQ 32.171875 45.75 26.171875 45.75 \r\nQ 20.3125 45.75 16.375 40.96875 \r\nQ 12.453125 36.1875 12.453125 25.875 \r\nz\r\n\" id=\"ArialMT-100\"/>\r\n      <path d=\"M 54.6875 71.578125 \r\nL 64.15625 71.578125 \r\nL 64.15625 30.21875 \r\nQ 64.15625 19.4375 61.71875 13.078125 \r\nQ 59.28125 6.734375 52.90625 2.75 \r\nQ 46.53125 -1.21875 36.1875 -1.21875 \r\nQ 26.125 -1.21875 19.71875 2.25 \r\nQ 13.328125 5.71875 10.59375 12.28125 \r\nQ 7.859375 18.84375 7.859375 30.21875 \r\nL 7.859375 71.578125 \r\nL 17.328125 71.578125 \r\nL 17.328125 30.28125 \r\nQ 17.328125 20.953125 19.0625 16.53125 \r\nQ 20.796875 12.109375 25.015625 9.71875 \r\nQ 29.25 7.328125 35.359375 7.328125 \r\nQ 45.796875 7.328125 50.234375 12.0625 \r\nQ 54.6875 16.796875 54.6875 30.28125 \r\nz\r\n\" id=\"ArialMT-85\"/>\r\n     </defs>\r\n     <use xlink:href=\"#ArialMT-65\"/>\r\n     <use x=\"66.699219\" xlink:href=\"#ArialMT-109\"/>\r\n     <use x=\"150\" xlink:href=\"#ArialMT-111\"/>\r\n     <use x=\"205.615234\" xlink:href=\"#ArialMT-117\"/>\r\n     <use x=\"261.230469\" xlink:href=\"#ArialMT-110\"/>\r\n     <use x=\"316.845703\" xlink:href=\"#ArialMT-116\"/>\r\n     <use x=\"344.628906\" xlink:href=\"#ArialMT-32\"/>\r\n     <use x=\"372.412109\" xlink:href=\"#ArialMT-111\"/>\r\n     <use x=\"428.027344\" xlink:href=\"#ArialMT-102\"/>\r\n     <use x=\"455.810547\" xlink:href=\"#ArialMT-32\"/>\r\n     <use x=\"483.59375\" xlink:href=\"#ArialMT-112\"/>\r\n     <use x=\"539.208984\" xlink:href=\"#ArialMT-101\"/>\r\n     <use x=\"594.824219\" xlink:href=\"#ArialMT-111\"/>\r\n     <use x=\"650.439453\" xlink:href=\"#ArialMT-112\"/>\r\n     <use x=\"706.054688\" xlink:href=\"#ArialMT-108\"/>\r\n     <use x=\"728.271484\" xlink:href=\"#ArialMT-101\"/>\r\n     <use x=\"783.886719\" xlink:href=\"#ArialMT-32\"/>\r\n     <use x=\"811.669922\" xlink:href=\"#ArialMT-107\"/>\r\n     <use x=\"861.669922\" xlink:href=\"#ArialMT-105\"/>\r\n     <use x=\"883.886719\" xlink:href=\"#ArialMT-108\"/>\r\n     <use x=\"906.103516\" xlink:href=\"#ArialMT-108\"/>\r\n     <use x=\"928.320312\" xlink:href=\"#ArialMT-101\"/>\r\n     <use x=\"983.935547\" xlink:href=\"#ArialMT-100\"/>\r\n     <use x=\"1039.550781\" xlink:href=\"#ArialMT-32\"/>\r\n     <use x=\"1067.333984\" xlink:href=\"#ArialMT-111\"/>\r\n     <use x=\"1122.949219\" xlink:href=\"#ArialMT-118\"/>\r\n     <use x=\"1172.949219\" xlink:href=\"#ArialMT-101\"/>\r\n     <use x=\"1228.564453\" xlink:href=\"#ArialMT-114\"/>\r\n     <use x=\"1261.865234\" xlink:href=\"#ArialMT-32\"/>\r\n     <use x=\"1289.648438\" xlink:href=\"#ArialMT-116\"/>\r\n     <use x=\"1317.431641\" xlink:href=\"#ArialMT-111\"/>\r\n     <use x=\"1373.046875\" xlink:href=\"#ArialMT-116\"/>\r\n     <use x=\"1400.830078\" xlink:href=\"#ArialMT-97\"/>\r\n     <use x=\"1456.445312\" xlink:href=\"#ArialMT-108\"/>\r\n     <use x=\"1478.662109\" xlink:href=\"#ArialMT-32\"/>\r\n     <use x=\"1506.445312\" xlink:href=\"#ArialMT-112\"/>\r\n     <use x=\"1562.060547\" xlink:href=\"#ArialMT-111\"/>\r\n     <use x=\"1617.675781\" xlink:href=\"#ArialMT-112\"/>\r\n     <use x=\"1673.291016\" xlink:href=\"#ArialMT-117\"/>\r\n     <use x=\"1728.90625\" xlink:href=\"#ArialMT-108\"/>\r\n     <use x=\"1751.123047\" xlink:href=\"#ArialMT-97\"/>\r\n     <use x=\"1806.738281\" xlink:href=\"#ArialMT-116\"/>\r\n     <use x=\"1834.521484\" xlink:href=\"#ArialMT-105\"/>\r\n     <use x=\"1856.738281\" xlink:href=\"#ArialMT-111\"/>\r\n     <use x=\"1912.353516\" xlink:href=\"#ArialMT-110\"/>\r\n     <use x=\"1967.96875\" xlink:href=\"#ArialMT-32\"/>\r\n     <use x=\"1995.751953\" xlink:href=\"#ArialMT-111\"/>\r\n     <use x=\"2051.367188\" xlink:href=\"#ArialMT-102\"/>\r\n     <use x=\"2079.150391\" xlink:href=\"#ArialMT-32\"/>\r\n     <use x=\"2106.933594\" xlink:href=\"#ArialMT-116\"/>\r\n     <use x=\"2134.716797\" xlink:href=\"#ArialMT-104\"/>\r\n     <use x=\"2190.332031\" xlink:href=\"#ArialMT-101\"/>\r\n     <use x=\"2245.947266\" xlink:href=\"#ArialMT-32\"/>\r\n     <use x=\"2273.730469\" xlink:href=\"#ArialMT-114\"/>\r\n     <use x=\"2307.03125\" xlink:href=\"#ArialMT-97\"/>\r\n     <use x=\"2362.646484\" xlink:href=\"#ArialMT-99\"/>\r\n     <use x=\"2412.646484\" xlink:href=\"#ArialMT-101\"/>\r\n     <use x=\"2468.261719\" xlink:href=\"#ArialMT-32\"/>\r\n     <use x=\"2496.044922\" xlink:href=\"#ArialMT-105\"/>\r\n     <use x=\"2518.261719\" xlink:href=\"#ArialMT-110\"/>\r\n     <use x=\"2573.876953\" xlink:href=\"#ArialMT-32\"/>\r\n     <use x=\"2601.660156\" xlink:href=\"#ArialMT-116\"/>\r\n     <use x=\"2629.443359\" xlink:href=\"#ArialMT-104\"/>\r\n     <use x=\"2685.058594\" xlink:href=\"#ArialMT-101\"/>\r\n     <use x=\"2740.673828\" xlink:href=\"#ArialMT-32\"/>\r\n     <use x=\"2768.457031\" xlink:href=\"#ArialMT-85\"/>\r\n     <use x=\"2840.673828\" xlink:href=\"#ArialMT-83\"/>\r\n    </g>\r\n   </g>\r\n  </g>\r\n </g>\r\n <defs>\r\n  <clipPath id=\"pdf90eb3a1b\">\r\n   <rect height=\"217.44\" width=\"502.2\" x=\"45.99375\" y=\"24.119531\"/>\r\n  </clipPath>\r\n </defs>\r\n</svg>\r\n",
      "image/png": "[encoded data removed]"
     },
     "metadata": {}
    }
   ],
   "source": [
    "amount_race_shot(df=kill_and_social)"
   ]
  },
  {
   "source": [
    "#### Amount of Black people killed vs Poverty Rate in different states\n",
    "Scatter plot representing the link between amount of black suspects killed and the poverty rate in a particular state.  As we can see, there is no clear relationship between these two aspects. For example, we can see in states like Lousiana(LA) and Vermont(VT) that the poverty rate is almost the same but the percentage of black people shot by police is one of the highest in Lousiana(LA) but one of the lowest in Vermont(VT) in the whole of the US \n",
    " "
   ],
   "cell_type": "markdown",
   "metadata": {}
  },
  {
   "cell_type": "code",
   "execution_count": 40,
   "metadata": {},
   "outputs": [
    {
     "output_type": "display_data",
     "data": {
      "application/vnd.plotly.v1+json": {
       "config": {
        "plotlyServerURL": "https://plot.ly"
       },
       "data": [
        {
         "hovertemplate": "index=%{x}<br>Share_Black_Killed=%{y}<br>Poverty Rate=%{marker.color}<extra></extra>",
         "legendgroup": "",
         "marker": {
          "color": [
           12.433333333333332,
           21.026315789473678,
           17.97272727272727,
           19.839252336448602,
           19.029022988505766,
           15.314754098360659,
           10.925,
           18,
           17.485714285714288,
           21.04645669291338,
           23.68679245283019,
           15.414285714285715,
           14.916666666666666,
           23.688888888888886,
           22.202380952380945,
           22.2425,
           14.80833333333333,
           27.40833333333333,
           24.36521739130435,
           17.87647058823529,
           15.290625,
           22.471428571428568,
           24.84166666666667,
           16.431250000000002,
           20.90377358490566,
           23.575,
           13.430000000000001,
           19.493650793650797,
           13.1,
           15.164285714285715,
           8.5,
           26.53,
           19.46111111111111,
           17.162857142857142,
           18.325,
           21.94838709677419,
           22.14918032786885,
           17.048275862068962,
           29.823809523809516,
           13.700000000000001,
           20.400000000000002,
           20.822222222222223,
           21.324390243902428,
           18.8062176165803,
           14.757894736842108,
           16.274285714285707,
           25.233333333333334,
           17.46,
           18.067647058823525,
           25.253333333333334,
           12.8
          ],
          "coloraxis": "coloraxis",
          "symbol": "circle"
         },
         "mode": "markers",
         "name": "",
         "orientation": "v",
         "showlegend": false,
         "type": "scatter",
         "x": [
          "AK",
          "AL",
          "AR",
          "AZ",
          "CA",
          "CO",
          "CT",
          "DC",
          "DE",
          "FL",
          "GA",
          "HI",
          "IA",
          "ID",
          "IL",
          "IN",
          "KS",
          "KY",
          "LA",
          "MA",
          "MD",
          "ME",
          "MI",
          "MN",
          "MO",
          "MS",
          "MT",
          "NC",
          "ND",
          "NE",
          "NH",
          "NJ",
          "NM",
          "NV",
          "NY",
          "OH",
          "OK",
          "OR",
          "PA",
          "RI",
          "SC",
          "SD",
          "TN",
          "TX",
          "UT",
          "VA",
          "VT",
          "WA",
          "WI",
          "WV",
          "WY"
         ],
         "xaxis": "x",
         "y": [
          4.488888888888889,
          32.62368421052632,
          19.13636363636364,
          4.261682242990653,
          7.4238505747126515,
          4.411475409836066,
          13.75,
          50.699999999999996,
          39.528571428571425,
          20.550393700787428,
          39.75849056603774,
          0.4714285714285714,
          5.116666666666666,
          0.7666666666666667,
          29.578571428571415,
          16.329999999999995,
          6.820833333333332,
          6.337499999999999,
          43.34565217391305,
          13.958823529411768,
          39.11875,
          1.5999999999999999,
          31.55416666666666,
          8.306250000000002,
          22.543396226415094,
          34.080000000000005,
          0.45999999999999996,
          26.21587301587302,
          1.1,
          8.764285714285714,
          0.7,
          33.84999999999999,
          2.547222222222223,
          7.7485714285714264,
          20.30625,
          22.91935483870967,
          9.97213114754098,
          2.4,
          39.647619047619045,
          7.3,
          28.129999999999995,
          1.0333333333333332,
          19.512195121951223,
          12.272020725388613,
          1.4315789473684213,
          29.308571428571433,
          4.8999999999999995,
          5.326000000000002,
          10.111764705882358,
          6.113333333333333,
          1.0285714285714285
         ],
         "yaxis": "y"
        }
       ],
       "layout": {
        "coloraxis": {
         "colorbar": {
          "title": {
           "text": "Poverty Rate"
          }
         },
         "colorscale": [
          [
           0,
           "#0d0887"
          ],
          [
           0.1111111111111111,
           "#46039f"
          ],
          [
           0.2222222222222222,
           "#7201a8"
          ],
          [
           0.3333333333333333,
           "#9c179e"
          ],
          [
           0.4444444444444444,
           "#bd3786"
          ],
          [
           0.5555555555555556,
           "#d8576b"
          ],
          [
           0.6666666666666666,
           "#ed7953"
          ],
          [
           0.7777777777777778,
           "#fb9f3a"
          ],
          [
           0.8888888888888888,
           "#fdca26"
          ],
          [
           1,
           "#f0f921"
          ]
         ]
        },
        "legend": {
         "tracegroupgap": 0
        },
        "template": {
         "data": {
          "bar": [
           {
            "error_x": {
             "color": "#2a3f5f"
            },
            "error_y": {
             "color": "#2a3f5f"
            },
            "marker": {
             "line": {
              "color": "#E5ECF6",
              "width": 0.5
             }
            },
            "type": "bar"
           }
          ],
          "barpolar": [
           {
            "marker": {
             "line": {
              "color": "#E5ECF6",
              "width": 0.5
             }
            },
            "type": "barpolar"
           }
          ],
          "carpet": [
           {
            "aaxis": {
             "endlinecolor": "#2a3f5f",
             "gridcolor": "white",
             "linecolor": "white",
             "minorgridcolor": "white",
             "startlinecolor": "#2a3f5f"
            },
            "baxis": {
             "endlinecolor": "#2a3f5f",
             "gridcolor": "white",
             "linecolor": "white",
             "minorgridcolor": "white",
             "startlinecolor": "#2a3f5f"
            },
            "type": "carpet"
           }
          ],
          "choropleth": [
           {
            "colorbar": {
             "outlinewidth": 0,
             "ticks": ""
            },
            "type": "choropleth"
           }
          ],
          "contour": [
           {
            "colorbar": {
             "outlinewidth": 0,
             "ticks": ""
            },
            "colorscale": [
             [
              0,
              "#0d0887"
             ],
             [
              0.1111111111111111,
              "#46039f"
             ],
             [
              0.2222222222222222,
              "#7201a8"
             ],
             [
              0.3333333333333333,
              "#9c179e"
             ],
             [
              0.4444444444444444,
              "#bd3786"
             ],
             [
              0.5555555555555556,
              "#d8576b"
             ],
             [
              0.6666666666666666,
              "#ed7953"
             ],
             [
              0.7777777777777778,
              "#fb9f3a"
             ],
             [
              0.8888888888888888,
              "#fdca26"
             ],
             [
              1,
              "#f0f921"
             ]
            ],
            "type": "contour"
           }
          ],
          "contourcarpet": [
           {
            "colorbar": {
             "outlinewidth": 0,
             "ticks": ""
            },
            "type": "contourcarpet"
           }
          ],
          "heatmap": [
           {
            "colorbar": {
             "outlinewidth": 0,
             "ticks": ""
            },
            "colorscale": [
             [
              0,
              "#0d0887"
             ],
             [
              0.1111111111111111,
              "#46039f"
             ],
             [
              0.2222222222222222,
              "#7201a8"
             ],
             [
              0.3333333333333333,
              "#9c179e"
             ],
             [
              0.4444444444444444,
              "#bd3786"
             ],
             [
              0.5555555555555556,
              "#d8576b"
             ],
             [
              0.6666666666666666,
              "#ed7953"
             ],
             [
              0.7777777777777778,
              "#fb9f3a"
             ],
             [
              0.8888888888888888,
              "#fdca26"
             ],
             [
              1,
              "#f0f921"
             ]
            ],
            "type": "heatmap"
           }
          ],
          "heatmapgl": [
           {
            "colorbar": {
             "outlinewidth": 0,
             "ticks": ""
            },
            "colorscale": [
             [
              0,
              "#0d0887"
             ],
             [
              0.1111111111111111,
              "#46039f"
             ],
             [
              0.2222222222222222,
              "#7201a8"
             ],
             [
              0.3333333333333333,
              "#9c179e"
             ],
             [
              0.4444444444444444,
              "#bd3786"
             ],
             [
              0.5555555555555556,
              "#d8576b"
             ],
             [
              0.6666666666666666,
              "#ed7953"
             ],
             [
              0.7777777777777778,
              "#fb9f3a"
             ],
             [
              0.8888888888888888,
              "#fdca26"
             ],
             [
              1,
              "#f0f921"
             ]
            ],
            "type": "heatmapgl"
           }
          ],
          "histogram": [
           {
            "marker": {
             "colorbar": {
              "outlinewidth": 0,
              "ticks": ""
             }
            },
            "type": "histogram"
           }
          ],
          "histogram2d": [
           {
            "colorbar": {
             "outlinewidth": 0,
             "ticks": ""
            },
            "colorscale": [
             [
              0,
              "#0d0887"
             ],
             [
              0.1111111111111111,
              "#46039f"
             ],
             [
              0.2222222222222222,
              "#7201a8"
             ],
             [
              0.3333333333333333,
              "#9c179e"
             ],
             [
              0.4444444444444444,
              "#bd3786"
             ],
             [
              0.5555555555555556,
              "#d8576b"
             ],
             [
              0.6666666666666666,
              "#ed7953"
             ],
             [
              0.7777777777777778,
              "#fb9f3a"
             ],
             [
              0.8888888888888888,
              "#fdca26"
             ],
             [
              1,
              "#f0f921"
             ]
            ],
            "type": "histogram2d"
           }
          ],
          "histogram2dcontour": [
           {
            "colorbar": {
             "outlinewidth": 0,
             "ticks": ""
            },
            "colorscale": [
             [
              0,
              "#0d0887"
             ],
             [
              0.1111111111111111,
              "#46039f"
             ],
             [
              0.2222222222222222,
              "#7201a8"
             ],
             [
              0.3333333333333333,
              "#9c179e"
             ],
             [
              0.4444444444444444,
              "#bd3786"
             ],
             [
              0.5555555555555556,
              "#d8576b"
             ],
             [
              0.6666666666666666,
              "#ed7953"
             ],
             [
              0.7777777777777778,
              "#fb9f3a"
             ],
             [
              0.8888888888888888,
              "#fdca26"
             ],
             [
              1,
              "#f0f921"
             ]
            ],
            "type": "histogram2dcontour"
           }
          ],
          "mesh3d": [
           {
            "colorbar": {
             "outlinewidth": 0,
             "ticks": ""
            },
            "type": "mesh3d"
           }
          ],
          "parcoords": [
           {
            "line": {
             "colorbar": {
              "outlinewidth": 0,
              "ticks": ""
             }
            },
            "type": "parcoords"
           }
          ],
          "pie": [
           {
            "automargin": true,
            "type": "pie"
           }
          ],
          "scatter": [
           {
            "marker": {
             "colorbar": {
              "outlinewidth": 0,
              "ticks": ""
             }
            },
            "type": "scatter"
           }
          ],
          "scatter3d": [
           {
            "line": {
             "colorbar": {
              "outlinewidth": 0,
              "ticks": ""
             }
            },
            "marker": {
             "colorbar": {
              "outlinewidth": 0,
              "ticks": ""
             }
            },
            "type": "scatter3d"
           }
          ],
          "scattercarpet": [
           {
            "marker": {
             "colorbar": {
              "outlinewidth": 0,
              "ticks": ""
             }
            },
            "type": "scattercarpet"
           }
          ],
          "scattergeo": [
           {
            "marker": {
             "colorbar": {
              "outlinewidth": 0,
              "ticks": ""
             }
            },
            "type": "scattergeo"
           }
          ],
          "scattergl": [
           {
            "marker": {
             "colorbar": {
              "outlinewidth": 0,
              "ticks": ""
             }
            },
            "type": "scattergl"
           }
          ],
          "scattermapbox": [
           {
            "marker": {
             "colorbar": {
              "outlinewidth": 0,
              "ticks": ""
             }
            },
            "type": "scattermapbox"
           }
          ],
          "scatterpolar": [
           {
            "marker": {
             "colorbar": {
              "outlinewidth": 0,
              "ticks": ""
             }
            },
            "type": "scatterpolar"
           }
          ],
          "scatterpolargl": [
           {
            "marker": {
             "colorbar": {
              "outlinewidth": 0,
              "ticks": ""
             }
            },
            "type": "scatterpolargl"
           }
          ],
          "scatterternary": [
           {
            "marker": {
             "colorbar": {
              "outlinewidth": 0,
              "ticks": ""
             }
            },
            "type": "scatterternary"
           }
          ],
          "surface": [
           {
            "colorbar": {
             "outlinewidth": 0,
             "ticks": ""
            },
            "colorscale": [
             [
              0,
              "#0d0887"
             ],
             [
              0.1111111111111111,
              "#46039f"
             ],
             [
              0.2222222222222222,
              "#7201a8"
             ],
             [
              0.3333333333333333,
              "#9c179e"
             ],
             [
              0.4444444444444444,
              "#bd3786"
             ],
             [
              0.5555555555555556,
              "#d8576b"
             ],
             [
              0.6666666666666666,
              "#ed7953"
             ],
             [
              0.7777777777777778,
              "#fb9f3a"
             ],
             [
              0.8888888888888888,
              "#fdca26"
             ],
             [
              1,
              "#f0f921"
             ]
            ],
            "type": "surface"
           }
          ],
          "table": [
           {
            "cells": {
             "fill": {
              "color": "#EBF0F8"
             },
             "line": {
              "color": "white"
             }
            },
            "header": {
             "fill": {
              "color": "#C8D4E3"
             },
             "line": {
              "color": "white"
             }
            },
            "type": "table"
           }
          ]
         },
         "layout": {
          "annotationdefaults": {
           "arrowcolor": "#2a3f5f",
           "arrowhead": 0,
           "arrowwidth": 1
          },
          "autotypenumbers": "strict",
          "coloraxis": {
           "colorbar": {
            "outlinewidth": 0,
            "ticks": ""
           }
          },
          "colorscale": {
           "diverging": [
            [
             0,
             "#8e0152"
            ],
            [
             0.1,
             "#c51b7d"
            ],
            [
             0.2,
             "#de77ae"
            ],
            [
             0.3,
             "#f1b6da"
            ],
            [
             0.4,
             "#fde0ef"
            ],
            [
             0.5,
             "#f7f7f7"
            ],
            [
             0.6,
             "#e6f5d0"
            ],
            [
             0.7,
             "#b8e186"
            ],
            [
             0.8,
             "#7fbc41"
            ],
            [
             0.9,
             "#4d9221"
            ],
            [
             1,
             "#276419"
            ]
           ],
           "sequential": [
            [
             0,
             "#0d0887"
            ],
            [
             0.1111111111111111,
             "#46039f"
            ],
            [
             0.2222222222222222,
             "#7201a8"
            ],
            [
             0.3333333333333333,
             "#9c179e"
            ],
            [
             0.4444444444444444,
             "#bd3786"
            ],
            [
             0.5555555555555556,
             "#d8576b"
            ],
            [
             0.6666666666666666,
             "#ed7953"
            ],
            [
             0.7777777777777778,
             "#fb9f3a"
            ],
            [
             0.8888888888888888,
             "#fdca26"
            ],
            [
             1,
             "#f0f921"
            ]
           ],
           "sequentialminus": [
            [
             0,
             "#0d0887"
            ],
            [
             0.1111111111111111,
             "#46039f"
            ],
            [
             0.2222222222222222,
             "#7201a8"
            ],
            [
             0.3333333333333333,
             "#9c179e"
            ],
            [
             0.4444444444444444,
             "#bd3786"
            ],
            [
             0.5555555555555556,
             "#d8576b"
            ],
            [
             0.6666666666666666,
             "#ed7953"
            ],
            [
             0.7777777777777778,
             "#fb9f3a"
            ],
            [
             0.8888888888888888,
             "#fdca26"
            ],
            [
             1,
             "#f0f921"
            ]
           ]
          },
          "colorway": [
           "#636efa",
           "#EF553B",
           "#00cc96",
           "#ab63fa",
           "#FFA15A",
           "#19d3f3",
           "#FF6692",
           "#B6E880",
           "#FF97FF",
           "#FECB52"
          ],
          "font": {
           "color": "#2a3f5f"
          },
          "geo": {
           "bgcolor": "white",
           "lakecolor": "white",
           "landcolor": "#E5ECF6",
           "showlakes": true,
           "showland": true,
           "subunitcolor": "white"
          },
          "hoverlabel": {
           "align": "left"
          },
          "hovermode": "closest",
          "mapbox": {
           "style": "light"
          },
          "paper_bgcolor": "white",
          "plot_bgcolor": "#E5ECF6",
          "polar": {
           "angularaxis": {
            "gridcolor": "white",
            "linecolor": "white",
            "ticks": ""
           },
           "bgcolor": "#E5ECF6",
           "radialaxis": {
            "gridcolor": "white",
            "linecolor": "white",
            "ticks": ""
           }
          },
          "scene": {
           "xaxis": {
            "backgroundcolor": "#E5ECF6",
            "gridcolor": "white",
            "gridwidth": 2,
            "linecolor": "white",
            "showbackground": true,
            "ticks": "",
            "zerolinecolor": "white"
           },
           "yaxis": {
            "backgroundcolor": "#E5ECF6",
            "gridcolor": "white",
            "gridwidth": 2,
            "linecolor": "white",
            "showbackground": true,
            "ticks": "",
            "zerolinecolor": "white"
           },
           "zaxis": {
            "backgroundcolor": "#E5ECF6",
            "gridcolor": "white",
            "gridwidth": 2,
            "linecolor": "white",
            "showbackground": true,
            "ticks": "",
            "zerolinecolor": "white"
           }
          },
          "shapedefaults": {
           "line": {
            "color": "#2a3f5f"
           }
          },
          "ternary": {
           "aaxis": {
            "gridcolor": "white",
            "linecolor": "white",
            "ticks": ""
           },
           "baxis": {
            "gridcolor": "white",
            "linecolor": "white",
            "ticks": ""
           },
           "bgcolor": "#E5ECF6",
           "caxis": {
            "gridcolor": "white",
            "linecolor": "white",
            "ticks": ""
           }
          },
          "title": {
           "x": 0.05
          },
          "xaxis": {
           "automargin": true,
           "gridcolor": "white",
           "linecolor": "white",
           "ticks": "",
           "title": {
            "standoff": 15
           },
           "zerolinecolor": "white",
           "zerolinewidth": 2
          },
          "yaxis": {
           "automargin": true,
           "gridcolor": "white",
           "linecolor": "white",
           "ticks": "",
           "title": {
            "standoff": 15
           },
           "zerolinecolor": "white",
           "zerolinewidth": 2
          }
         }
        },
        "title": {
         "text": "Share Black killed in relation with Poverty Rate"
        },
        "xaxis": {
         "anchor": "y",
         "domain": [
          0,
          1
         ],
         "title": {
          "text": "States"
         }
        },
        "yaxis": {
         "anchor": "x",
         "domain": [
          0,
          1
         ],
         "title": {
          "text": "Amount of black people killed (%)"
         }
        }
       }
      }
     },
     "metadata": {}
    }
   ],
   "source": [
    "relation_poverty_black_deaths(df=kill_and_social)"
   ]
  },
  {
   "source": [
    "#### Correlation Matrix (Heatmap):\n",
    "\n",
    "This heatmap is made to show how important is each column in the dataframe in relation to our topic: Fatal Police Shooting in the US.  Positive correlation are above the value 0.5.\n",
    "We can see that the highest correlation is 0.38 that is share_black and Poverty rate.\n",
    "The lowest correlation is -0.71 Share_Black and Share_White"
   ],
   "cell_type": "markdown",
   "metadata": {}
  },
  {
   "cell_type": "code",
   "execution_count": 41,
   "metadata": {},
   "outputs": [
    {
     "output_type": "display_data",
     "data": {
      "text/plain": "<Figure size 720x576 with 2 Axes>",
      "image/svg+xml": "<?xml version=\"1.0\" encoding=\"utf-8\" standalone=\"no\"?>\r\n<!DOCTYPE svg PUBLIC \"-//W3C//DTD SVG 1.1//EN\"\r\n  \"http://www.w3.org/Graphics/SVG/1.1/DTD/svg11.dtd\">\r\n<!-- Created with matplotlib (https://matplotlib.org/) -->\r\n<svg height=\"579.398437pt\" version=\"1.1\" viewBox=\"0 0 652.567437 579.398437\" width=\"652.567437pt\" xmlns=\"http://www.w3.org/2000/svg\" xmlns:xlink=\"http://www.w3.org/1999/xlink\">\r\n <metadata>\r\n  <rdf:RDF xmlns:cc=\"http://creativecommons.org/ns#\" xmlns:dc=\"http://purl.org/dc/elements/1.1/\" xmlns:rdf=\"http://www.w3.org/1999/02/22-rdf-syntax-ns#\">\r\n   <cc:Work>\r\n    <dc:type rdf:resource=\"http://purl.org/dc/dcmitype/StillImage\"/>\r\n    <dc:date>2021-01-10T16:58:28.517576</dc:date>\r\n    <dc:format>image/svg+xml</dc:format>\r\n    <dc:creator>\r\n     <cc:Agent>\r\n      <dc:title>Matplotlib v3.3.3, https://matplotlib.org/</dc:title>\r\n     </cc:Agent>\r\n    </dc:creator>\r\n   </cc:Work>\r\n  </rdf:RDF>\r\n </metadata>\r\n <defs>\r\n  <style type=\"text/css\">*{stroke-linecap:butt;stroke-linejoin:round;}</style>\r\n </defs>\r\n <g id=\"figure_1\">\r\n  <g id=\"patch_1\">\r\n   <path d=\"M 0 579.398437 \r\nL 652.567437 579.398437 \r\nL 652.567437 0 \r\nL 0 0 \r\nz\r\n\" style=\"fill:#ffffff;\"/>\r\n  </g>\r\n  <g id=\"axes_1\">\r\n   <g id=\"patch_2\">\r\n    <path d=\"M 122.582812 456.815625 \r\nL 568.982813 456.815625 \r\nL 568.982813 21.935625 \r\nL 122.582812 21.935625 \r\nz\r\n\" style=\"fill:#ffffff;\"/>\r\n   </g>\r\n   <g id=\"matplotlib.axis_1\">\r\n    <g id=\"xtick_1\">\r\n     <g id=\"text_1\">\r\n      <!-- Age -->\r\n      <g style=\"fill:#262626;\" transform=\"translate(149.909375 481.607812)rotate(-90)scale(0.1 -0.1)\">\r\n       <defs>\r\n        <path d=\"M -0.140625 0 \r\nL 27.34375 71.578125 \r\nL 37.546875 71.578125 \r\nL 66.84375 0 \r\nL 56.0625 0 \r\nL 47.703125 21.6875 \r\nL 17.78125 21.6875 \r\nL 9.90625 0 \r\nz\r\nM 20.515625 29.390625 \r\nL 44.78125 29.390625 \r\nL 37.3125 49.21875 \r\nQ 33.890625 58.25 32.234375 64.0625 \r\nQ 30.859375 57.171875 28.375 50.390625 \r\nz\r\n\" id=\"ArialMT-65\"/>\r\n        <path d=\"M 4.984375 -4.296875 \r\nL 13.53125 -5.5625 \r\nQ 14.0625 -9.515625 16.5 -11.328125 \r\nQ 19.78125 -13.765625 25.4375 -13.765625 \r\nQ 31.546875 -13.765625 34.859375 -11.328125 \r\nQ 38.1875 -8.890625 39.359375 -4.5 \r\nQ 40.046875 -1.8125 39.984375 6.78125 \r\nQ 34.234375 0 25.640625 0 \r\nQ 14.9375 0 9.078125 7.71875 \r\nQ 3.21875 15.4375 3.21875 26.21875 \r\nQ 3.21875 33.640625 5.90625 39.90625 \r\nQ 8.59375 46.1875 13.6875 49.609375 \r\nQ 18.796875 53.03125 25.6875 53.03125 \r\nQ 34.859375 53.03125 40.828125 45.609375 \r\nL 40.828125 51.859375 \r\nL 48.921875 51.859375 \r\nL 48.921875 7.03125 \r\nQ 48.921875 -5.078125 46.453125 -10.125 \r\nQ 44 -15.1875 38.640625 -18.109375 \r\nQ 33.296875 -21.046875 25.484375 -21.046875 \r\nQ 16.21875 -21.046875 10.5 -16.875 \r\nQ 4.78125 -12.703125 4.984375 -4.296875 \r\nz\r\nM 12.25 26.859375 \r\nQ 12.25 16.65625 16.296875 11.96875 \r\nQ 20.359375 7.28125 26.46875 7.28125 \r\nQ 32.515625 7.28125 36.609375 11.9375 \r\nQ 40.71875 16.609375 40.71875 26.5625 \r\nQ 40.71875 36.078125 36.5 40.90625 \r\nQ 32.28125 45.75 26.3125 45.75 \r\nQ 20.453125 45.75 16.34375 40.984375 \r\nQ 12.25 36.234375 12.25 26.859375 \r\nz\r\n\" id=\"ArialMT-103\"/>\r\n        <path d=\"M 42.09375 16.703125 \r\nL 51.171875 15.578125 \r\nQ 49.03125 7.625 43.21875 3.21875 \r\nQ 37.40625 -1.171875 28.375 -1.171875 \r\nQ 17 -1.171875 10.328125 5.828125 \r\nQ 3.65625 12.84375 3.65625 25.484375 \r\nQ 3.65625 38.578125 10.390625 45.796875 \r\nQ 17.140625 53.03125 27.875 53.03125 \r\nQ 38.28125 53.03125 44.875 45.953125 \r\nQ 51.46875 38.875 51.46875 26.03125 \r\nQ 51.46875 25.25 51.421875 23.6875 \r\nL 12.75 23.6875 \r\nQ 13.234375 15.140625 17.578125 10.59375 \r\nQ 21.921875 6.0625 28.421875 6.0625 \r\nQ 33.25 6.0625 36.671875 8.59375 \r\nQ 40.09375 11.140625 42.09375 16.703125 \r\nz\r\nM 13.234375 30.90625 \r\nL 42.1875 30.90625 \r\nQ 41.609375 37.453125 38.875 40.71875 \r\nQ 34.671875 45.796875 27.984375 45.796875 \r\nQ 21.921875 45.796875 17.796875 41.75 \r\nQ 13.671875 37.703125 13.234375 30.90625 \r\nz\r\n\" id=\"ArialMT-101\"/>\r\n       </defs>\r\n       <use xlink:href=\"#ArialMT-65\"/>\r\n       <use x=\"66.699219\" xlink:href=\"#ArialMT-103\"/>\r\n       <use x=\"122.314453\" xlink:href=\"#ArialMT-101\"/>\r\n      </g>\r\n     </g>\r\n    </g>\r\n    <g id=\"xtick_2\">\r\n     <g id=\"text_2\">\r\n      <!-- year -->\r\n      <g style=\"fill:#262626;\" transform=\"translate(199.450781 483.267187)rotate(-90)scale(0.1 -0.1)\">\r\n       <defs>\r\n        <path d=\"M 6.203125 -19.96875 \r\nL 5.21875 -11.71875 \r\nQ 8.109375 -12.5 10.25 -12.5 \r\nQ 13.1875 -12.5 14.9375 -11.515625 \r\nQ 16.703125 -10.546875 17.828125 -8.796875 \r\nQ 18.65625 -7.46875 20.515625 -2.25 \r\nQ 20.75 -1.515625 21.296875 -0.09375 \r\nL 1.609375 51.859375 \r\nL 11.078125 51.859375 \r\nL 21.875 21.828125 \r\nQ 23.96875 16.109375 25.640625 9.8125 \r\nQ 27.15625 15.875 29.25 21.625 \r\nL 40.328125 51.859375 \r\nL 49.125 51.859375 \r\nL 29.390625 -0.875 \r\nQ 26.21875 -9.421875 24.46875 -12.640625 \r\nQ 22.125 -17 19.09375 -19.015625 \r\nQ 16.0625 -21.046875 11.859375 -21.046875 \r\nQ 9.328125 -21.046875 6.203125 -19.96875 \r\nz\r\n\" id=\"ArialMT-121\"/>\r\n        <path d=\"M 40.4375 6.390625 \r\nQ 35.546875 2.25 31.03125 0.53125 \r\nQ 26.515625 -1.171875 21.34375 -1.171875 \r\nQ 12.796875 -1.171875 8.203125 3 \r\nQ 3.609375 7.171875 3.609375 13.671875 \r\nQ 3.609375 17.484375 5.34375 20.625 \r\nQ 7.078125 23.78125 9.890625 25.6875 \r\nQ 12.703125 27.59375 16.21875 28.5625 \r\nQ 18.796875 29.25 24.03125 29.890625 \r\nQ 34.671875 31.15625 39.703125 32.90625 \r\nQ 39.75 34.71875 39.75 35.203125 \r\nQ 39.75 40.578125 37.25 42.78125 \r\nQ 33.890625 45.75 27.25 45.75 \r\nQ 21.046875 45.75 18.09375 43.578125 \r\nQ 15.140625 41.40625 13.71875 35.890625 \r\nL 5.125 37.0625 \r\nQ 6.296875 42.578125 8.984375 45.96875 \r\nQ 11.671875 49.359375 16.75 51.1875 \r\nQ 21.828125 53.03125 28.515625 53.03125 \r\nQ 35.15625 53.03125 39.296875 51.46875 \r\nQ 43.453125 49.90625 45.40625 47.53125 \r\nQ 47.359375 45.171875 48.140625 41.546875 \r\nQ 48.578125 39.3125 48.578125 33.453125 \r\nL 48.578125 21.734375 \r\nQ 48.578125 9.46875 49.140625 6.21875 \r\nQ 49.703125 2.984375 51.375 0 \r\nL 42.1875 0 \r\nQ 40.828125 2.734375 40.4375 6.390625 \r\nz\r\nM 39.703125 26.03125 \r\nQ 34.90625 24.078125 25.34375 22.703125 \r\nQ 19.921875 21.921875 17.671875 20.9375 \r\nQ 15.4375 19.96875 14.203125 18.09375 \r\nQ 12.984375 16.21875 12.984375 13.921875 \r\nQ 12.984375 10.40625 15.640625 8.0625 \r\nQ 18.3125 5.71875 23.4375 5.71875 \r\nQ 28.515625 5.71875 32.46875 7.9375 \r\nQ 36.421875 10.15625 38.28125 14.015625 \r\nQ 39.703125 17 39.703125 22.796875 \r\nz\r\n\" id=\"ArialMT-97\"/>\r\n        <path d=\"M 6.5 0 \r\nL 6.5 51.859375 \r\nL 14.40625 51.859375 \r\nL 14.40625 44 \r\nQ 17.4375 49.515625 20 51.265625 \r\nQ 22.5625 53.03125 25.640625 53.03125 \r\nQ 30.078125 53.03125 34.671875 50.203125 \r\nL 31.640625 42.046875 \r\nQ 28.421875 43.953125 25.203125 43.953125 \r\nQ 22.3125 43.953125 20.015625 42.21875 \r\nQ 17.71875 40.484375 16.75 37.40625 \r\nQ 15.28125 32.71875 15.28125 27.15625 \r\nL 15.28125 0 \r\nz\r\n\" id=\"ArialMT-114\"/>\r\n       </defs>\r\n       <use xlink:href=\"#ArialMT-121\"/>\r\n       <use x=\"50\" xlink:href=\"#ArialMT-101\"/>\r\n       <use x=\"105.615234\" xlink:href=\"#ArialMT-97\"/>\r\n       <use x=\"161.230469\" xlink:href=\"#ArialMT-114\"/>\r\n      </g>\r\n     </g>\r\n    </g>\r\n    <g id=\"xtick_3\">\r\n     <g id=\"text_3\">\r\n      <!-- Share_White -->\r\n      <g style=\"fill:#262626;\" transform=\"translate(249.228906 521.620312)rotate(-90)scale(0.1 -0.1)\">\r\n       <defs>\r\n        <path d=\"M 4.5 23 \r\nL 13.421875 23.78125 \r\nQ 14.0625 18.40625 16.375 14.96875 \r\nQ 18.703125 11.53125 23.578125 9.40625 \r\nQ 28.46875 7.28125 34.578125 7.28125 \r\nQ 39.984375 7.28125 44.140625 8.890625 \r\nQ 48.296875 10.5 50.3125 13.296875 \r\nQ 52.34375 16.109375 52.34375 19.4375 \r\nQ 52.34375 22.796875 50.390625 25.3125 \r\nQ 48.4375 27.828125 43.953125 29.546875 \r\nQ 41.0625 30.671875 31.203125 33.03125 \r\nQ 21.34375 35.40625 17.390625 37.5 \r\nQ 12.25 40.1875 9.734375 44.15625 \r\nQ 7.234375 48.140625 7.234375 53.078125 \r\nQ 7.234375 58.5 10.296875 63.203125 \r\nQ 13.375 67.921875 19.28125 70.359375 \r\nQ 25.203125 72.796875 32.421875 72.796875 \r\nQ 40.375 72.796875 46.453125 70.234375 \r\nQ 52.546875 67.671875 55.8125 62.6875 \r\nQ 59.078125 57.71875 59.328125 51.421875 \r\nL 50.25 50.734375 \r\nQ 49.515625 57.515625 45.28125 60.984375 \r\nQ 41.0625 64.453125 32.8125 64.453125 \r\nQ 24.21875 64.453125 20.28125 61.296875 \r\nQ 16.359375 58.15625 16.359375 53.71875 \r\nQ 16.359375 49.859375 19.140625 47.359375 \r\nQ 21.875 44.875 33.421875 42.265625 \r\nQ 44.96875 39.65625 49.265625 37.703125 \r\nQ 55.515625 34.8125 58.484375 30.390625 \r\nQ 61.46875 25.984375 61.46875 20.21875 \r\nQ 61.46875 14.5 58.203125 9.4375 \r\nQ 54.9375 4.390625 48.796875 1.578125 \r\nQ 42.671875 -1.21875 35.015625 -1.21875 \r\nQ 25.296875 -1.21875 18.71875 1.609375 \r\nQ 12.15625 4.4375 8.421875 10.125 \r\nQ 4.6875 15.828125 4.5 23 \r\nz\r\n\" id=\"ArialMT-83\"/>\r\n        <path d=\"M 6.59375 0 \r\nL 6.59375 71.578125 \r\nL 15.375 71.578125 \r\nL 15.375 45.90625 \r\nQ 21.53125 53.03125 30.90625 53.03125 \r\nQ 36.671875 53.03125 40.921875 50.75 \r\nQ 45.171875 48.484375 47 44.484375 \r\nQ 48.828125 40.484375 48.828125 32.859375 \r\nL 48.828125 0 \r\nL 40.046875 0 \r\nL 40.046875 32.859375 \r\nQ 40.046875 39.453125 37.1875 42.453125 \r\nQ 34.328125 45.453125 29.109375 45.453125 \r\nQ 25.203125 45.453125 21.75 43.421875 \r\nQ 18.3125 41.40625 16.84375 37.9375 \r\nQ 15.375 34.46875 15.375 28.375 \r\nL 15.375 0 \r\nz\r\n\" id=\"ArialMT-104\"/>\r\n        <path d=\"M -1.515625 -19.875 \r\nL -1.515625 -13.53125 \r\nL 56.734375 -13.53125 \r\nL 56.734375 -19.875 \r\nz\r\n\" id=\"ArialMT-95\"/>\r\n        <path d=\"M 20.21875 0 \r\nL 1.21875 71.578125 \r\nL 10.9375 71.578125 \r\nL 21.828125 24.65625 \r\nQ 23.578125 17.28125 24.859375 10.015625 \r\nQ 27.59375 21.484375 28.078125 23.25 \r\nL 41.703125 71.578125 \r\nL 53.125 71.578125 \r\nL 63.375 35.359375 \r\nQ 67.234375 21.875 68.953125 10.015625 \r\nQ 70.3125 16.796875 72.515625 25.59375 \r\nL 83.734375 71.578125 \r\nL 93.265625 71.578125 \r\nL 73.640625 0 \r\nL 64.5 0 \r\nL 49.421875 54.546875 \r\nQ 47.515625 61.375 47.171875 62.9375 \r\nQ 46.046875 58.015625 45.0625 54.546875 \r\nL 29.890625 0 \r\nz\r\n\" id=\"ArialMT-87\"/>\r\n        <path d=\"M 6.640625 61.46875 \r\nL 6.640625 71.578125 \r\nL 15.4375 71.578125 \r\nL 15.4375 61.46875 \r\nz\r\nM 6.640625 0 \r\nL 6.640625 51.859375 \r\nL 15.4375 51.859375 \r\nL 15.4375 0 \r\nz\r\n\" id=\"ArialMT-105\"/>\r\n        <path d=\"M 25.78125 7.859375 \r\nL 27.046875 0.09375 \r\nQ 23.34375 -0.6875 20.40625 -0.6875 \r\nQ 15.625 -0.6875 12.984375 0.828125 \r\nQ 10.359375 2.34375 9.28125 4.8125 \r\nQ 8.203125 7.28125 8.203125 15.1875 \r\nL 8.203125 45.015625 \r\nL 1.765625 45.015625 \r\nL 1.765625 51.859375 \r\nL 8.203125 51.859375 \r\nL 8.203125 64.703125 \r\nL 16.9375 69.96875 \r\nL 16.9375 51.859375 \r\nL 25.78125 51.859375 \r\nL 25.78125 45.015625 \r\nL 16.9375 45.015625 \r\nL 16.9375 14.703125 \r\nQ 16.9375 10.9375 17.40625 9.859375 \r\nQ 17.875 8.796875 18.921875 8.15625 \r\nQ 19.96875 7.515625 21.921875 7.515625 \r\nQ 23.390625 7.515625 25.78125 7.859375 \r\nz\r\n\" id=\"ArialMT-116\"/>\r\n       </defs>\r\n       <use xlink:href=\"#ArialMT-83\"/>\r\n       <use x=\"66.699219\" xlink:href=\"#ArialMT-104\"/>\r\n       <use x=\"122.314453\" xlink:href=\"#ArialMT-97\"/>\r\n       <use x=\"177.929688\" xlink:href=\"#ArialMT-114\"/>\r\n       <use x=\"211.230469\" xlink:href=\"#ArialMT-101\"/>\r\n       <use x=\"266.845703\" xlink:href=\"#ArialMT-95\"/>\r\n       <use x=\"322.460938\" xlink:href=\"#ArialMT-87\"/>\r\n       <use x=\"416.845703\" xlink:href=\"#ArialMT-104\"/>\r\n       <use x=\"472.460938\" xlink:href=\"#ArialMT-105\"/>\r\n       <use x=\"494.677734\" xlink:href=\"#ArialMT-116\"/>\r\n       <use x=\"522.460938\" xlink:href=\"#ArialMT-101\"/>\r\n      </g>\r\n     </g>\r\n    </g>\r\n    <g id=\"xtick_4\">\r\n     <g id=\"text_4\">\r\n      <!-- Share_Black -->\r\n      <g style=\"fill:#262626;\" transform=\"translate(298.828906 520.5125)rotate(-90)scale(0.1 -0.1)\">\r\n       <defs>\r\n        <path d=\"M 7.328125 0 \r\nL 7.328125 71.578125 \r\nL 34.1875 71.578125 \r\nQ 42.390625 71.578125 47.34375 69.40625 \r\nQ 52.296875 67.234375 55.09375 62.71875 \r\nQ 57.90625 58.203125 57.90625 53.265625 \r\nQ 57.90625 48.6875 55.421875 44.625 \r\nQ 52.9375 40.578125 47.90625 38.09375 \r\nQ 54.390625 36.1875 57.875 31.59375 \r\nQ 61.375 27 61.375 20.75 \r\nQ 61.375 15.71875 59.25 11.390625 \r\nQ 57.125 7.078125 54 4.734375 \r\nQ 50.875 2.390625 46.15625 1.1875 \r\nQ 41.453125 0 34.625 0 \r\nz\r\nM 16.796875 41.5 \r\nL 32.28125 41.5 \r\nQ 38.578125 41.5 41.3125 42.328125 \r\nQ 44.921875 43.40625 46.75 45.890625 \r\nQ 48.578125 48.390625 48.578125 52.15625 \r\nQ 48.578125 55.71875 46.875 58.421875 \r\nQ 45.171875 61.140625 41.984375 62.140625 \r\nQ 38.8125 63.140625 31.109375 63.140625 \r\nL 16.796875 63.140625 \r\nz\r\nM 16.796875 8.453125 \r\nL 34.625 8.453125 \r\nQ 39.203125 8.453125 41.0625 8.796875 \r\nQ 44.34375 9.375 46.53125 10.734375 \r\nQ 48.734375 12.109375 50.140625 14.71875 \r\nQ 51.5625 17.328125 51.5625 20.75 \r\nQ 51.5625 24.75 49.515625 27.703125 \r\nQ 47.46875 30.671875 43.828125 31.859375 \r\nQ 40.1875 33.0625 33.34375 33.0625 \r\nL 16.796875 33.0625 \r\nz\r\n\" id=\"ArialMT-66\"/>\r\n        <path d=\"M 6.390625 0 \r\nL 6.390625 71.578125 \r\nL 15.1875 71.578125 \r\nL 15.1875 0 \r\nz\r\n\" id=\"ArialMT-108\"/>\r\n        <path d=\"M 40.4375 19 \r\nL 49.078125 17.875 \r\nQ 47.65625 8.9375 41.8125 3.875 \r\nQ 35.984375 -1.171875 27.484375 -1.171875 \r\nQ 16.84375 -1.171875 10.375 5.78125 \r\nQ 3.90625 12.75 3.90625 25.734375 \r\nQ 3.90625 34.125 6.6875 40.421875 \r\nQ 9.46875 46.734375 15.15625 49.875 \r\nQ 20.84375 53.03125 27.546875 53.03125 \r\nQ 35.984375 53.03125 41.359375 48.75 \r\nQ 46.734375 44.484375 48.25 36.625 \r\nL 39.703125 35.296875 \r\nQ 38.484375 40.53125 35.375 43.15625 \r\nQ 32.28125 45.796875 27.875 45.796875 \r\nQ 21.234375 45.796875 17.078125 41.03125 \r\nQ 12.9375 36.28125 12.9375 25.984375 \r\nQ 12.9375 15.53125 16.9375 10.796875 \r\nQ 20.953125 6.0625 27.390625 6.0625 \r\nQ 32.5625 6.0625 36.03125 9.234375 \r\nQ 39.5 12.40625 40.4375 19 \r\nz\r\n\" id=\"ArialMT-99\"/>\r\n        <path d=\"M 6.640625 0 \r\nL 6.640625 71.578125 \r\nL 15.4375 71.578125 \r\nL 15.4375 30.765625 \r\nL 36.234375 51.859375 \r\nL 47.609375 51.859375 \r\nL 27.78125 32.625 \r\nL 49.609375 0 \r\nL 38.765625 0 \r\nL 21.625 26.515625 \r\nL 15.4375 20.5625 \r\nL 15.4375 0 \r\nz\r\n\" id=\"ArialMT-107\"/>\r\n       </defs>\r\n       <use xlink:href=\"#ArialMT-83\"/>\r\n       <use x=\"66.699219\" xlink:href=\"#ArialMT-104\"/>\r\n       <use x=\"122.314453\" xlink:href=\"#ArialMT-97\"/>\r\n       <use x=\"177.929688\" xlink:href=\"#ArialMT-114\"/>\r\n       <use x=\"211.230469\" xlink:href=\"#ArialMT-101\"/>\r\n       <use x=\"266.845703\" xlink:href=\"#ArialMT-95\"/>\r\n       <use x=\"322.460938\" xlink:href=\"#ArialMT-66\"/>\r\n       <use x=\"389.160156\" xlink:href=\"#ArialMT-108\"/>\r\n       <use x=\"411.376953\" xlink:href=\"#ArialMT-97\"/>\r\n       <use x=\"466.992188\" xlink:href=\"#ArialMT-99\"/>\r\n       <use x=\"516.992188\" xlink:href=\"#ArialMT-107\"/>\r\n      </g>\r\n     </g>\r\n    </g>\r\n    <g id=\"xtick_5\">\r\n     <g id=\"text_5\">\r\n      <!-- Share_Native_American -->\r\n      <g style=\"fill:#262626;\" transform=\"translate(348.428906 572.198437)rotate(-90)scale(0.1 -0.1)\">\r\n       <defs>\r\n        <path d=\"M 7.625 0 \r\nL 7.625 71.578125 \r\nL 17.328125 71.578125 \r\nL 54.9375 15.375 \r\nL 54.9375 71.578125 \r\nL 64.015625 71.578125 \r\nL 64.015625 0 \r\nL 54.296875 0 \r\nL 16.703125 56.25 \r\nL 16.703125 0 \r\nz\r\n\" id=\"ArialMT-78\"/>\r\n        <path d=\"M 21 0 \r\nL 1.265625 51.859375 \r\nL 10.546875 51.859375 \r\nL 21.6875 20.796875 \r\nQ 23.484375 15.765625 25 10.359375 \r\nQ 26.171875 14.453125 28.265625 20.21875 \r\nL 39.796875 51.859375 \r\nL 48.828125 51.859375 \r\nL 29.203125 0 \r\nz\r\n\" id=\"ArialMT-118\"/>\r\n        <path d=\"M 6.59375 0 \r\nL 6.59375 51.859375 \r\nL 14.453125 51.859375 \r\nL 14.453125 44.578125 \r\nQ 16.890625 48.390625 20.9375 50.703125 \r\nQ 25 53.03125 30.171875 53.03125 \r\nQ 35.9375 53.03125 39.625 50.640625 \r\nQ 43.3125 48.25 44.828125 43.953125 \r\nQ 50.984375 53.03125 60.84375 53.03125 \r\nQ 68.5625 53.03125 72.703125 48.75 \r\nQ 76.859375 44.484375 76.859375 35.59375 \r\nL 76.859375 0 \r\nL 68.109375 0 \r\nL 68.109375 32.671875 \r\nQ 68.109375 37.9375 67.25 40.25 \r\nQ 66.40625 42.578125 64.15625 43.984375 \r\nQ 61.921875 45.40625 58.890625 45.40625 \r\nQ 53.421875 45.40625 49.796875 41.765625 \r\nQ 46.1875 38.140625 46.1875 30.125 \r\nL 46.1875 0 \r\nL 37.40625 0 \r\nL 37.40625 33.6875 \r\nQ 37.40625 39.546875 35.25 42.46875 \r\nQ 33.109375 45.40625 28.21875 45.40625 \r\nQ 24.515625 45.40625 21.359375 43.453125 \r\nQ 18.21875 41.5 16.796875 37.734375 \r\nQ 15.375 33.984375 15.375 26.90625 \r\nL 15.375 0 \r\nz\r\n\" id=\"ArialMT-109\"/>\r\n        <path d=\"M 6.59375 0 \r\nL 6.59375 51.859375 \r\nL 14.5 51.859375 \r\nL 14.5 44.484375 \r\nQ 20.21875 53.03125 31 53.03125 \r\nQ 35.6875 53.03125 39.625 51.34375 \r\nQ 43.5625 49.65625 45.515625 46.921875 \r\nQ 47.46875 44.1875 48.25 40.4375 \r\nQ 48.734375 37.984375 48.734375 31.890625 \r\nL 48.734375 0 \r\nL 39.9375 0 \r\nL 39.9375 31.546875 \r\nQ 39.9375 36.921875 38.90625 39.578125 \r\nQ 37.890625 42.234375 35.28125 43.8125 \r\nQ 32.671875 45.40625 29.15625 45.40625 \r\nQ 23.53125 45.40625 19.453125 41.84375 \r\nQ 15.375 38.28125 15.375 28.328125 \r\nL 15.375 0 \r\nz\r\n\" id=\"ArialMT-110\"/>\r\n       </defs>\r\n       <use xlink:href=\"#ArialMT-83\"/>\r\n       <use x=\"66.699219\" xlink:href=\"#ArialMT-104\"/>\r\n       <use x=\"122.314453\" xlink:href=\"#ArialMT-97\"/>\r\n       <use x=\"177.929688\" xlink:href=\"#ArialMT-114\"/>\r\n       <use x=\"211.230469\" xlink:href=\"#ArialMT-101\"/>\r\n       <use x=\"266.845703\" xlink:href=\"#ArialMT-95\"/>\r\n       <use x=\"322.460938\" xlink:href=\"#ArialMT-78\"/>\r\n       <use x=\"394.677734\" xlink:href=\"#ArialMT-97\"/>\r\n       <use x=\"450.292969\" xlink:href=\"#ArialMT-116\"/>\r\n       <use x=\"478.076172\" xlink:href=\"#ArialMT-105\"/>\r\n       <use x=\"500.292969\" xlink:href=\"#ArialMT-118\"/>\r\n       <use x=\"550.292969\" xlink:href=\"#ArialMT-101\"/>\r\n       <use x=\"605.908203\" xlink:href=\"#ArialMT-95\"/>\r\n       <use x=\"661.523438\" xlink:href=\"#ArialMT-65\"/>\r\n       <use x=\"728.222656\" xlink:href=\"#ArialMT-109\"/>\r\n       <use x=\"811.523438\" xlink:href=\"#ArialMT-101\"/>\r\n       <use x=\"867.138672\" xlink:href=\"#ArialMT-114\"/>\r\n       <use x=\"900.439453\" xlink:href=\"#ArialMT-105\"/>\r\n       <use x=\"922.65625\" xlink:href=\"#ArialMT-99\"/>\r\n       <use x=\"972.65625\" xlink:href=\"#ArialMT-97\"/>\r\n       <use x=\"1028.271484\" xlink:href=\"#ArialMT-110\"/>\r\n      </g>\r\n     </g>\r\n    </g>\r\n    <g id=\"xtick_6\">\r\n     <g id=\"text_6\">\r\n      <!-- Share_Asian -->\r\n      <g style=\"fill:#262626;\" transform=\"translate(398.028906 521.073437)rotate(-90)scale(0.1 -0.1)\">\r\n       <defs>\r\n        <path d=\"M 3.078125 15.484375 \r\nL 11.765625 16.84375 \r\nQ 12.5 11.625 15.84375 8.84375 \r\nQ 19.1875 6.0625 25.203125 6.0625 \r\nQ 31.25 6.0625 34.171875 8.515625 \r\nQ 37.109375 10.984375 37.109375 14.3125 \r\nQ 37.109375 17.28125 34.515625 19 \r\nQ 32.71875 20.171875 25.53125 21.96875 \r\nQ 15.875 24.421875 12.140625 26.203125 \r\nQ 8.40625 27.984375 6.46875 31.125 \r\nQ 4.546875 34.28125 4.546875 38.09375 \r\nQ 4.546875 41.546875 6.125 44.5 \r\nQ 7.71875 47.46875 10.453125 49.421875 \r\nQ 12.5 50.921875 16.03125 51.96875 \r\nQ 19.578125 53.03125 23.640625 53.03125 \r\nQ 29.734375 53.03125 34.34375 51.265625 \r\nQ 38.96875 49.515625 41.15625 46.5 \r\nQ 43.359375 43.5 44.1875 38.484375 \r\nL 35.59375 37.3125 \r\nQ 35.015625 41.3125 32.203125 43.546875 \r\nQ 29.390625 45.796875 24.265625 45.796875 \r\nQ 18.21875 45.796875 15.625 43.796875 \r\nQ 13.03125 41.796875 13.03125 39.109375 \r\nQ 13.03125 37.40625 14.109375 36.03125 \r\nQ 15.1875 34.625 17.484375 33.6875 \r\nQ 18.796875 33.203125 25.25 31.453125 \r\nQ 34.578125 28.953125 38.25 27.359375 \r\nQ 41.9375 25.78125 44.03125 22.75 \r\nQ 46.140625 19.734375 46.140625 15.234375 \r\nQ 46.140625 10.84375 43.578125 6.953125 \r\nQ 41.015625 3.078125 36.171875 0.953125 \r\nQ 31.34375 -1.171875 25.25 -1.171875 \r\nQ 15.140625 -1.171875 9.84375 3.03125 \r\nQ 4.546875 7.234375 3.078125 15.484375 \r\nz\r\n\" id=\"ArialMT-115\"/>\r\n       </defs>\r\n       <use xlink:href=\"#ArialMT-83\"/>\r\n       <use x=\"66.699219\" xlink:href=\"#ArialMT-104\"/>\r\n       <use x=\"122.314453\" xlink:href=\"#ArialMT-97\"/>\r\n       <use x=\"177.929688\" xlink:href=\"#ArialMT-114\"/>\r\n       <use x=\"211.230469\" xlink:href=\"#ArialMT-101\"/>\r\n       <use x=\"266.845703\" xlink:href=\"#ArialMT-95\"/>\r\n       <use x=\"322.460938\" xlink:href=\"#ArialMT-65\"/>\r\n       <use x=\"389.160156\" xlink:href=\"#ArialMT-115\"/>\r\n       <use x=\"439.160156\" xlink:href=\"#ArialMT-105\"/>\r\n       <use x=\"461.376953\" xlink:href=\"#ArialMT-97\"/>\r\n       <use x=\"516.992188\" xlink:href=\"#ArialMT-110\"/>\r\n      </g>\r\n     </g>\r\n    </g>\r\n    <g id=\"xtick_7\">\r\n     <g id=\"text_7\">\r\n      <!-- Share_Hispanic -->\r\n      <g style=\"fill:#262626;\" transform=\"translate(447.628906 534.407812)rotate(-90)scale(0.1 -0.1)\">\r\n       <defs>\r\n        <path d=\"M 8.015625 0 \r\nL 8.015625 71.578125 \r\nL 17.484375 71.578125 \r\nL 17.484375 42.1875 \r\nL 54.6875 42.1875 \r\nL 54.6875 71.578125 \r\nL 64.15625 71.578125 \r\nL 64.15625 0 \r\nL 54.6875 0 \r\nL 54.6875 33.734375 \r\nL 17.484375 33.734375 \r\nL 17.484375 0 \r\nz\r\n\" id=\"ArialMT-72\"/>\r\n        <path d=\"M 6.59375 -19.875 \r\nL 6.59375 51.859375 \r\nL 14.59375 51.859375 \r\nL 14.59375 45.125 \r\nQ 17.4375 49.078125 21 51.046875 \r\nQ 24.5625 53.03125 29.640625 53.03125 \r\nQ 36.28125 53.03125 41.359375 49.609375 \r\nQ 46.4375 46.1875 49.015625 39.953125 \r\nQ 51.609375 33.734375 51.609375 26.3125 \r\nQ 51.609375 18.359375 48.75 11.984375 \r\nQ 45.90625 5.609375 40.453125 2.21875 \r\nQ 35.015625 -1.171875 29 -1.171875 \r\nQ 24.609375 -1.171875 21.109375 0.6875 \r\nQ 17.625 2.546875 15.375 5.375 \r\nL 15.375 -19.875 \r\nz\r\nM 14.546875 25.640625 \r\nQ 14.546875 15.625 18.59375 10.84375 \r\nQ 22.65625 6.0625 28.421875 6.0625 \r\nQ 34.28125 6.0625 38.453125 11.015625 \r\nQ 42.625 15.96875 42.625 26.375 \r\nQ 42.625 36.28125 38.546875 41.203125 \r\nQ 34.46875 46.140625 28.8125 46.140625 \r\nQ 23.1875 46.140625 18.859375 40.890625 \r\nQ 14.546875 35.640625 14.546875 25.640625 \r\nz\r\n\" id=\"ArialMT-112\"/>\r\n       </defs>\r\n       <use xlink:href=\"#ArialMT-83\"/>\r\n       <use x=\"66.699219\" xlink:href=\"#ArialMT-104\"/>\r\n       <use x=\"122.314453\" xlink:href=\"#ArialMT-97\"/>\r\n       <use x=\"177.929688\" xlink:href=\"#ArialMT-114\"/>\r\n       <use x=\"211.230469\" xlink:href=\"#ArialMT-101\"/>\r\n       <use x=\"266.845703\" xlink:href=\"#ArialMT-95\"/>\r\n       <use x=\"322.460938\" xlink:href=\"#ArialMT-72\"/>\r\n       <use x=\"394.677734\" xlink:href=\"#ArialMT-105\"/>\r\n       <use x=\"416.894531\" xlink:href=\"#ArialMT-115\"/>\r\n       <use x=\"466.894531\" xlink:href=\"#ArialMT-112\"/>\r\n       <use x=\"522.509766\" xlink:href=\"#ArialMT-97\"/>\r\n       <use x=\"578.125\" xlink:href=\"#ArialMT-110\"/>\r\n       <use x=\"633.740234\" xlink:href=\"#ArialMT-105\"/>\r\n       <use x=\"655.957031\" xlink:href=\"#ArialMT-99\"/>\r\n      </g>\r\n     </g>\r\n    </g>\r\n    <g id=\"xtick_8\">\r\n     <g id=\"text_8\">\r\n      <!-- Percent_Completed_Hs -->\r\n      <g style=\"fill:#262626;\" transform=\"translate(497.228906 569.976562)rotate(-90)scale(0.1 -0.1)\">\r\n       <defs>\r\n        <path d=\"M 7.71875 0 \r\nL 7.71875 71.578125 \r\nL 34.71875 71.578125 \r\nQ 41.84375 71.578125 45.609375 70.90625 \r\nQ 50.875 70.015625 54.4375 67.546875 \r\nQ 58.015625 65.09375 60.1875 60.640625 \r\nQ 62.359375 56.203125 62.359375 50.875 \r\nQ 62.359375 41.75 56.546875 35.421875 \r\nQ 50.734375 29.109375 35.546875 29.109375 \r\nL 17.1875 29.109375 \r\nL 17.1875 0 \r\nz\r\nM 17.1875 37.546875 \r\nL 35.6875 37.546875 \r\nQ 44.875 37.546875 48.734375 40.96875 \r\nQ 52.59375 44.390625 52.59375 50.59375 \r\nQ 52.59375 55.078125 50.3125 58.265625 \r\nQ 48.046875 61.46875 44.34375 62.5 \r\nQ 41.9375 63.140625 35.5 63.140625 \r\nL 17.1875 63.140625 \r\nz\r\n\" id=\"ArialMT-80\"/>\r\n        <path d=\"M 58.796875 25.09375 \r\nL 68.265625 22.703125 \r\nQ 65.28125 11.03125 57.546875 4.90625 \r\nQ 49.8125 -1.21875 38.625 -1.21875 \r\nQ 27.046875 -1.21875 19.796875 3.484375 \r\nQ 12.546875 8.203125 8.765625 17.140625 \r\nQ 4.984375 26.078125 4.984375 36.328125 \r\nQ 4.984375 47.515625 9.25 55.828125 \r\nQ 13.53125 64.15625 21.40625 68.46875 \r\nQ 29.296875 72.796875 38.765625 72.796875 \r\nQ 49.515625 72.796875 56.828125 67.328125 \r\nQ 64.15625 61.859375 67.046875 51.953125 \r\nL 57.71875 49.75 \r\nQ 55.21875 57.5625 50.484375 61.125 \r\nQ 45.75 64.703125 38.578125 64.703125 \r\nQ 30.328125 64.703125 24.78125 60.734375 \r\nQ 19.234375 56.78125 16.984375 50.109375 \r\nQ 14.75 43.453125 14.75 36.375 \r\nQ 14.75 27.25 17.40625 20.4375 \r\nQ 20.0625 13.625 25.671875 10.25 \r\nQ 31.296875 6.890625 37.84375 6.890625 \r\nQ 45.796875 6.890625 51.3125 11.46875 \r\nQ 56.84375 16.0625 58.796875 25.09375 \r\nz\r\n\" id=\"ArialMT-67\"/>\r\n        <path d=\"M 3.328125 25.921875 \r\nQ 3.328125 40.328125 11.328125 47.265625 \r\nQ 18.015625 53.03125 27.640625 53.03125 \r\nQ 38.328125 53.03125 45.109375 46.015625 \r\nQ 51.90625 39.015625 51.90625 26.65625 \r\nQ 51.90625 16.65625 48.90625 10.90625 \r\nQ 45.90625 5.171875 40.15625 2 \r\nQ 34.421875 -1.171875 27.640625 -1.171875 \r\nQ 16.75 -1.171875 10.03125 5.8125 \r\nQ 3.328125 12.796875 3.328125 25.921875 \r\nz\r\nM 12.359375 25.921875 \r\nQ 12.359375 15.96875 16.703125 11.015625 \r\nQ 21.046875 6.0625 27.640625 6.0625 \r\nQ 34.1875 6.0625 38.53125 11.03125 \r\nQ 42.875 16.015625 42.875 26.21875 \r\nQ 42.875 35.84375 38.5 40.796875 \r\nQ 34.125 45.75 27.640625 45.75 \r\nQ 21.046875 45.75 16.703125 40.8125 \r\nQ 12.359375 35.890625 12.359375 25.921875 \r\nz\r\n\" id=\"ArialMT-111\"/>\r\n        <path d=\"M 40.234375 0 \r\nL 40.234375 6.546875 \r\nQ 35.296875 -1.171875 25.734375 -1.171875 \r\nQ 19.53125 -1.171875 14.328125 2.25 \r\nQ 9.125 5.671875 6.265625 11.796875 \r\nQ 3.421875 17.921875 3.421875 25.875 \r\nQ 3.421875 33.640625 6 39.96875 \r\nQ 8.59375 46.296875 13.765625 49.65625 \r\nQ 18.953125 53.03125 25.34375 53.03125 \r\nQ 30.03125 53.03125 33.6875 51.046875 \r\nQ 37.359375 49.078125 39.65625 45.90625 \r\nL 39.65625 71.578125 \r\nL 48.390625 71.578125 \r\nL 48.390625 0 \r\nz\r\nM 12.453125 25.875 \r\nQ 12.453125 15.921875 16.640625 10.984375 \r\nQ 20.84375 6.0625 26.5625 6.0625 \r\nQ 32.328125 6.0625 36.34375 10.765625 \r\nQ 40.375 15.484375 40.375 25.140625 \r\nQ 40.375 35.796875 36.265625 40.765625 \r\nQ 32.171875 45.75 26.171875 45.75 \r\nQ 20.3125 45.75 16.375 40.96875 \r\nQ 12.453125 36.1875 12.453125 25.875 \r\nz\r\n\" id=\"ArialMT-100\"/>\r\n       </defs>\r\n       <use xlink:href=\"#ArialMT-80\"/>\r\n       <use x=\"66.699219\" xlink:href=\"#ArialMT-101\"/>\r\n       <use x=\"122.314453\" xlink:href=\"#ArialMT-114\"/>\r\n       <use x=\"155.615234\" xlink:href=\"#ArialMT-99\"/>\r\n       <use x=\"205.615234\" xlink:href=\"#ArialMT-101\"/>\r\n       <use x=\"261.230469\" xlink:href=\"#ArialMT-110\"/>\r\n       <use x=\"316.845703\" xlink:href=\"#ArialMT-116\"/>\r\n       <use x=\"344.628906\" xlink:href=\"#ArialMT-95\"/>\r\n       <use x=\"400.244141\" xlink:href=\"#ArialMT-67\"/>\r\n       <use x=\"472.460938\" xlink:href=\"#ArialMT-111\"/>\r\n       <use x=\"528.076172\" xlink:href=\"#ArialMT-109\"/>\r\n       <use x=\"611.376953\" xlink:href=\"#ArialMT-112\"/>\r\n       <use x=\"666.992188\" xlink:href=\"#ArialMT-108\"/>\r\n       <use x=\"689.208984\" xlink:href=\"#ArialMT-101\"/>\r\n       <use x=\"744.824219\" xlink:href=\"#ArialMT-116\"/>\r\n       <use x=\"772.607422\" xlink:href=\"#ArialMT-101\"/>\r\n       <use x=\"828.222656\" xlink:href=\"#ArialMT-100\"/>\r\n       <use x=\"883.837891\" xlink:href=\"#ArialMT-95\"/>\r\n       <use x=\"939.453125\" xlink:href=\"#ArialMT-72\"/>\r\n       <use x=\"1011.669922\" xlink:href=\"#ArialMT-115\"/>\r\n      </g>\r\n     </g>\r\n    </g>\r\n    <g id=\"xtick_9\">\r\n     <g id=\"text_9\">\r\n      <!-- Poverty_Rate -->\r\n      <g style=\"fill:#262626;\" transform=\"translate(546.709375 524.398437)rotate(-90)scale(0.1 -0.1)\">\r\n       <defs>\r\n        <path d=\"M 7.859375 0 \r\nL 7.859375 71.578125 \r\nL 39.59375 71.578125 \r\nQ 49.171875 71.578125 54.140625 69.640625 \r\nQ 59.125 67.71875 62.109375 62.828125 \r\nQ 65.09375 57.953125 65.09375 52.046875 \r\nQ 65.09375 44.4375 60.15625 39.203125 \r\nQ 55.21875 33.984375 44.921875 32.5625 \r\nQ 48.6875 30.765625 50.640625 29 \r\nQ 54.78125 25.203125 58.5 19.484375 \r\nL 70.953125 0 \r\nL 59.03125 0 \r\nL 49.5625 14.890625 \r\nQ 45.40625 21.34375 42.71875 24.75 \r\nQ 40.046875 28.171875 37.921875 29.53125 \r\nQ 35.796875 30.90625 33.59375 31.453125 \r\nQ 31.984375 31.78125 28.328125 31.78125 \r\nL 17.328125 31.78125 \r\nL 17.328125 0 \r\nz\r\nM 17.328125 39.984375 \r\nL 37.703125 39.984375 \r\nQ 44.1875 39.984375 47.84375 41.328125 \r\nQ 51.515625 42.671875 53.421875 45.625 \r\nQ 55.328125 48.578125 55.328125 52.046875 \r\nQ 55.328125 57.125 51.640625 60.390625 \r\nQ 47.953125 63.671875 39.984375 63.671875 \r\nL 17.328125 63.671875 \r\nz\r\n\" id=\"ArialMT-82\"/>\r\n       </defs>\r\n       <use xlink:href=\"#ArialMT-80\"/>\r\n       <use x=\"66.699219\" xlink:href=\"#ArialMT-111\"/>\r\n       <use x=\"122.314453\" xlink:href=\"#ArialMT-118\"/>\r\n       <use x=\"172.314453\" xlink:href=\"#ArialMT-101\"/>\r\n       <use x=\"227.929688\" xlink:href=\"#ArialMT-114\"/>\r\n       <use x=\"261.230469\" xlink:href=\"#ArialMT-116\"/>\r\n       <use x=\"289.013672\" xlink:href=\"#ArialMT-121\"/>\r\n       <use x=\"339.013672\" xlink:href=\"#ArialMT-95\"/>\r\n       <use x=\"394.628906\" xlink:href=\"#ArialMT-82\"/>\r\n       <use x=\"466.845703\" xlink:href=\"#ArialMT-97\"/>\r\n       <use x=\"522.460938\" xlink:href=\"#ArialMT-116\"/>\r\n       <use x=\"550.244141\" xlink:href=\"#ArialMT-101\"/>\r\n      </g>\r\n     </g>\r\n    </g>\r\n   </g>\r\n   <g id=\"matplotlib.axis_2\">\r\n    <g id=\"ytick_1\">\r\n     <g id=\"text_10\">\r\n      <!-- Age -->\r\n      <g style=\"fill:#262626;\" transform=\"translate(97.790625 49.674531)scale(0.1 -0.1)\">\r\n       <use xlink:href=\"#ArialMT-65\"/>\r\n       <use x=\"66.699219\" xlink:href=\"#ArialMT-103\"/>\r\n       <use x=\"122.314453\" xlink:href=\"#ArialMT-101\"/>\r\n      </g>\r\n     </g>\r\n    </g>\r\n    <g id=\"ytick_2\">\r\n     <g id=\"text_11\">\r\n      <!-- year -->\r\n      <g style=\"fill:#262626;\" transform=\"translate(96.13125 97.935937)scale(0.1 -0.1)\">\r\n       <use xlink:href=\"#ArialMT-121\"/>\r\n       <use x=\"50\" xlink:href=\"#ArialMT-101\"/>\r\n       <use x=\"105.615234\" xlink:href=\"#ArialMT-97\"/>\r\n       <use x=\"161.230469\" xlink:href=\"#ArialMT-114\"/>\r\n      </g>\r\n     </g>\r\n    </g>\r\n    <g id=\"ytick_3\">\r\n     <g id=\"text_12\">\r\n      <!-- Share_White -->\r\n      <g style=\"fill:#262626;\" transform=\"translate(57.778125 146.375469)scale(0.1 -0.1)\">\r\n       <use xlink:href=\"#ArialMT-83\"/>\r\n       <use x=\"66.699219\" xlink:href=\"#ArialMT-104\"/>\r\n       <use x=\"122.314453\" xlink:href=\"#ArialMT-97\"/>\r\n       <use x=\"177.929688\" xlink:href=\"#ArialMT-114\"/>\r\n       <use x=\"211.230469\" xlink:href=\"#ArialMT-101\"/>\r\n       <use x=\"266.845703\" xlink:href=\"#ArialMT-95\"/>\r\n       <use x=\"322.460938\" xlink:href=\"#ArialMT-87\"/>\r\n       <use x=\"416.845703\" xlink:href=\"#ArialMT-104\"/>\r\n       <use x=\"472.460938\" xlink:href=\"#ArialMT-105\"/>\r\n       <use x=\"494.677734\" xlink:href=\"#ArialMT-116\"/>\r\n       <use x=\"522.460938\" xlink:href=\"#ArialMT-101\"/>\r\n      </g>\r\n     </g>\r\n    </g>\r\n    <g id=\"ytick_4\">\r\n     <g id=\"text_13\">\r\n      <!-- Share_Black -->\r\n      <g style=\"fill:#262626;\" transform=\"translate(58.885937 194.695469)scale(0.1 -0.1)\">\r\n       <use xlink:href=\"#ArialMT-83\"/>\r\n       <use x=\"66.699219\" xlink:href=\"#ArialMT-104\"/>\r\n       <use x=\"122.314453\" xlink:href=\"#ArialMT-97\"/>\r\n       <use x=\"177.929688\" xlink:href=\"#ArialMT-114\"/>\r\n       <use x=\"211.230469\" xlink:href=\"#ArialMT-101\"/>\r\n       <use x=\"266.845703\" xlink:href=\"#ArialMT-95\"/>\r\n       <use x=\"322.460938\" xlink:href=\"#ArialMT-66\"/>\r\n       <use x=\"389.160156\" xlink:href=\"#ArialMT-108\"/>\r\n       <use x=\"411.376953\" xlink:href=\"#ArialMT-97\"/>\r\n       <use x=\"466.992188\" xlink:href=\"#ArialMT-99\"/>\r\n       <use x=\"516.992188\" xlink:href=\"#ArialMT-107\"/>\r\n      </g>\r\n     </g>\r\n    </g>\r\n    <g id=\"ytick_5\">\r\n     <g id=\"text_14\">\r\n      <!-- Share_Native_American -->\r\n      <g style=\"fill:#262626;\" transform=\"translate(7.2 243.015469)scale(0.1 -0.1)\">\r\n       <use xlink:href=\"#ArialMT-83\"/>\r\n       <use x=\"66.699219\" xlink:href=\"#ArialMT-104\"/>\r\n       <use x=\"122.314453\" xlink:href=\"#ArialMT-97\"/>\r\n       <use x=\"177.929688\" xlink:href=\"#ArialMT-114\"/>\r\n       <use x=\"211.230469\" xlink:href=\"#ArialMT-101\"/>\r\n       <use x=\"266.845703\" xlink:href=\"#ArialMT-95\"/>\r\n       <use x=\"322.460938\" xlink:href=\"#ArialMT-78\"/>\r\n       <use x=\"394.677734\" xlink:href=\"#ArialMT-97\"/>\r\n       <use x=\"450.292969\" xlink:href=\"#ArialMT-116\"/>\r\n       <use x=\"478.076172\" xlink:href=\"#ArialMT-105\"/>\r\n       <use x=\"500.292969\" xlink:href=\"#ArialMT-118\"/>\r\n       <use x=\"550.292969\" xlink:href=\"#ArialMT-101\"/>\r\n       <use x=\"605.908203\" xlink:href=\"#ArialMT-95\"/>\r\n       <use x=\"661.523438\" xlink:href=\"#ArialMT-65\"/>\r\n       <use x=\"728.222656\" xlink:href=\"#ArialMT-109\"/>\r\n       <use x=\"811.523438\" xlink:href=\"#ArialMT-101\"/>\r\n       <use x=\"867.138672\" xlink:href=\"#ArialMT-114\"/>\r\n       <use x=\"900.439453\" xlink:href=\"#ArialMT-105\"/>\r\n       <use x=\"922.65625\" xlink:href=\"#ArialMT-99\"/>\r\n       <use x=\"972.65625\" xlink:href=\"#ArialMT-97\"/>\r\n       <use x=\"1028.271484\" xlink:href=\"#ArialMT-110\"/>\r\n      </g>\r\n     </g>\r\n    </g>\r\n    <g id=\"ytick_6\">\r\n     <g id=\"text_15\">\r\n      <!-- Share_Asian -->\r\n      <g style=\"fill:#262626;\" transform=\"translate(58.325 291.335469)scale(0.1 -0.1)\">\r\n       <use xlink:href=\"#ArialMT-83\"/>\r\n       <use x=\"66.699219\" xlink:href=\"#ArialMT-104\"/>\r\n       <use x=\"122.314453\" xlink:href=\"#ArialMT-97\"/>\r\n       <use x=\"177.929688\" xlink:href=\"#ArialMT-114\"/>\r\n       <use x=\"211.230469\" xlink:href=\"#ArialMT-101\"/>\r\n       <use x=\"266.845703\" xlink:href=\"#ArialMT-95\"/>\r\n       <use x=\"322.460938\" xlink:href=\"#ArialMT-65\"/>\r\n       <use x=\"389.160156\" xlink:href=\"#ArialMT-115\"/>\r\n       <use x=\"439.160156\" xlink:href=\"#ArialMT-105\"/>\r\n       <use x=\"461.376953\" xlink:href=\"#ArialMT-97\"/>\r\n       <use x=\"516.992188\" xlink:href=\"#ArialMT-110\"/>\r\n      </g>\r\n     </g>\r\n    </g>\r\n    <g id=\"ytick_7\">\r\n     <g id=\"text_16\">\r\n      <!-- Share_Hispanic -->\r\n      <g style=\"fill:#262626;\" transform=\"translate(44.990625 339.655469)scale(0.1 -0.1)\">\r\n       <use xlink:href=\"#ArialMT-83\"/>\r\n       <use x=\"66.699219\" xlink:href=\"#ArialMT-104\"/>\r\n       <use x=\"122.314453\" xlink:href=\"#ArialMT-97\"/>\r\n       <use x=\"177.929688\" xlink:href=\"#ArialMT-114\"/>\r\n       <use x=\"211.230469\" xlink:href=\"#ArialMT-101\"/>\r\n       <use x=\"266.845703\" xlink:href=\"#ArialMT-95\"/>\r\n       <use x=\"322.460938\" xlink:href=\"#ArialMT-72\"/>\r\n       <use x=\"394.677734\" xlink:href=\"#ArialMT-105\"/>\r\n       <use x=\"416.894531\" xlink:href=\"#ArialMT-115\"/>\r\n       <use x=\"466.894531\" xlink:href=\"#ArialMT-112\"/>\r\n       <use x=\"522.509766\" xlink:href=\"#ArialMT-97\"/>\r\n       <use x=\"578.125\" xlink:href=\"#ArialMT-110\"/>\r\n       <use x=\"633.740234\" xlink:href=\"#ArialMT-105\"/>\r\n       <use x=\"655.957031\" xlink:href=\"#ArialMT-99\"/>\r\n      </g>\r\n     </g>\r\n    </g>\r\n    <g id=\"ytick_8\">\r\n     <g id=\"text_17\">\r\n      <!-- Percent_Completed_Hs -->\r\n      <g style=\"fill:#262626;\" transform=\"translate(9.421875 387.975469)scale(0.1 -0.1)\">\r\n       <use xlink:href=\"#ArialMT-80\"/>\r\n       <use x=\"66.699219\" xlink:href=\"#ArialMT-101\"/>\r\n       <use x=\"122.314453\" xlink:href=\"#ArialMT-114\"/>\r\n       <use x=\"155.615234\" xlink:href=\"#ArialMT-99\"/>\r\n       <use x=\"205.615234\" xlink:href=\"#ArialMT-101\"/>\r\n       <use x=\"261.230469\" xlink:href=\"#ArialMT-110\"/>\r\n       <use x=\"316.845703\" xlink:href=\"#ArialMT-116\"/>\r\n       <use x=\"344.628906\" xlink:href=\"#ArialMT-95\"/>\r\n       <use x=\"400.244141\" xlink:href=\"#ArialMT-67\"/>\r\n       <use x=\"472.460938\" xlink:href=\"#ArialMT-111\"/>\r\n       <use x=\"528.076172\" xlink:href=\"#ArialMT-109\"/>\r\n       <use x=\"611.376953\" xlink:href=\"#ArialMT-112\"/>\r\n       <use x=\"666.992188\" xlink:href=\"#ArialMT-108\"/>\r\n       <use x=\"689.208984\" xlink:href=\"#ArialMT-101\"/>\r\n       <use x=\"744.824219\" xlink:href=\"#ArialMT-116\"/>\r\n       <use x=\"772.607422\" xlink:href=\"#ArialMT-101\"/>\r\n       <use x=\"828.222656\" xlink:href=\"#ArialMT-100\"/>\r\n       <use x=\"883.837891\" xlink:href=\"#ArialMT-95\"/>\r\n       <use x=\"939.453125\" xlink:href=\"#ArialMT-72\"/>\r\n       <use x=\"1011.669922\" xlink:href=\"#ArialMT-115\"/>\r\n      </g>\r\n     </g>\r\n    </g>\r\n    <g id=\"ytick_9\">\r\n     <g id=\"text_18\">\r\n      <!-- Poverty_Rate -->\r\n      <g style=\"fill:#262626;\" transform=\"translate(55 436.234531)scale(0.1 -0.1)\">\r\n       <use xlink:href=\"#ArialMT-80\"/>\r\n       <use x=\"66.699219\" xlink:href=\"#ArialMT-111\"/>\r\n       <use x=\"122.314453\" xlink:href=\"#ArialMT-118\"/>\r\n       <use x=\"172.314453\" xlink:href=\"#ArialMT-101\"/>\r\n       <use x=\"227.929688\" xlink:href=\"#ArialMT-114\"/>\r\n       <use x=\"261.230469\" xlink:href=\"#ArialMT-116\"/>\r\n       <use x=\"289.013672\" xlink:href=\"#ArialMT-121\"/>\r\n       <use x=\"339.013672\" xlink:href=\"#ArialMT-95\"/>\r\n       <use x=\"394.628906\" xlink:href=\"#ArialMT-82\"/>\r\n       <use x=\"466.845703\" xlink:href=\"#ArialMT-97\"/>\r\n       <use x=\"522.460938\" xlink:href=\"#ArialMT-116\"/>\r\n       <use x=\"550.244141\" xlink:href=\"#ArialMT-101\"/>\r\n      </g>\r\n     </g>\r\n    </g>\r\n   </g>\r\n   <g id=\"QuadMesh_1\">\r\n    <path clip-path=\"url(#pcb146fd211)\" d=\"M 122.582812 21.935625 \r\nL 172.182813 21.935625 \r\nL 172.182813 70.255625 \r\nL 122.582812 70.255625 \r\nL 122.582812 21.935625 \r\n\" style=\"fill:#b40426;stroke:#ffffff;stroke-width:2;\"/>\r\n    <path clip-path=\"url(#pcb146fd211)\" d=\"M 172.182813 21.935625 \r\nL 221.782813 21.935625 \r\nL 221.782813 70.255625 \r\nL 172.182813 70.255625 \r\nL 172.182813 21.935625 \r\n\" style=\"fill:#c6d6f1;stroke:#ffffff;stroke-width:2;\"/>\r\n    <path clip-path=\"url(#pcb146fd211)\" d=\"M 221.782813 21.935625 \r\nL 271.382812 21.935625 \r\nL 271.382812 70.255625 \r\nL 221.782813 70.255625 \r\nL 221.782813 21.935625 \r\n\" style=\"fill:#e2dad5;stroke:#ffffff;stroke-width:2;\"/>\r\n    <path clip-path=\"url(#pcb146fd211)\" d=\"M 271.382812 21.935625 \r\nL 320.982813 21.935625 \r\nL 320.982813 70.255625 \r\nL 271.382812 70.255625 \r\nL 271.382812 21.935625 \r\n\" style=\"fill:#b2ccfb;stroke:#ffffff;stroke-width:2;\"/>\r\n    <path clip-path=\"url(#pcb146fd211)\" d=\"M 320.982813 21.935625 \r\nL 370.582813 21.935625 \r\nL 370.582813 70.255625 \r\nL 320.982813 70.255625 \r\nL 320.982813 21.935625 \r\n\" style=\"fill:#bfd3f6;stroke:#ffffff;stroke-width:2;\"/>\r\n    <path clip-path=\"url(#pcb146fd211)\" d=\"M 370.582813 21.935625 \r\nL 420.182813 21.935625 \r\nL 420.182813 70.255625 \r\nL 370.582813 70.255625 \r\nL 370.582813 21.935625 \r\n\" style=\"fill:#b3cdfb;stroke:#ffffff;stroke-width:2;\"/>\r\n    <path clip-path=\"url(#pcb146fd211)\" d=\"M 420.182813 21.935625 \r\nL 469.782813 21.935625 \r\nL 469.782813 70.255625 \r\nL 420.182813 70.255625 \r\nL 420.182813 21.935625 \r\n\" style=\"fill:#b3cdfb;stroke:#ffffff;stroke-width:2;\"/>\r\n    <path clip-path=\"url(#pcb146fd211)\" d=\"M 469.782813 21.935625 \r\nL 519.382813 21.935625 \r\nL 519.382813 70.255625 \r\nL 469.782813 70.255625 \r\nL 469.782813 21.935625 \r\n\" style=\"fill:#cbd8ee;stroke:#ffffff;stroke-width:2;\"/>\r\n    <path clip-path=\"url(#pcb146fd211)\" d=\"M 519.382813 21.935625 \r\nL 568.982813 21.935625 \r\nL 568.982813 70.255625 \r\nL 519.382813 70.255625 \r\nL 519.382813 21.935625 \r\n\" style=\"fill:#bad0f8;stroke:#ffffff;stroke-width:2;\"/>\r\n    <path clip-path=\"url(#pcb146fd211)\" d=\"M 122.582812 70.255625 \r\nL 172.182813 70.255625 \r\nL 172.182813 118.575625 \r\nL 122.582812 118.575625 \r\nL 122.582812 70.255625 \r\n\" style=\"fill:#c6d6f1;stroke:#ffffff;stroke-width:2;\"/>\r\n    <path clip-path=\"url(#pcb146fd211)\" d=\"M 172.182813 70.255625 \r\nL 221.782813 70.255625 \r\nL 221.782813 118.575625 \r\nL 172.182813 118.575625 \r\nL 172.182813 70.255625 \r\n\" style=\"fill:#b40426;stroke:#ffffff;stroke-width:2;\"/>\r\n    <path clip-path=\"url(#pcb146fd211)\" d=\"M 221.782813 70.255625 \r\nL 271.382812 70.255625 \r\nL 271.382812 118.575625 \r\nL 221.782813 118.575625 \r\nL 221.782813 70.255625 \r\n\" style=\"fill:#c7d7f0;stroke:#ffffff;stroke-width:2;\"/>\r\n    <path clip-path=\"url(#pcb146fd211)\" d=\"M 271.382812 70.255625 \r\nL 320.982813 70.255625 \r\nL 320.982813 118.575625 \r\nL 271.382812 118.575625 \r\nL 271.382812 70.255625 \r\n\" style=\"fill:#c4d5f3;stroke:#ffffff;stroke-width:2;\"/>\r\n    <path clip-path=\"url(#pcb146fd211)\" d=\"M 320.982813 70.255625 \r\nL 370.582813 70.255625 \r\nL 370.582813 118.575625 \r\nL 320.982813 118.575625 \r\nL 320.982813 70.255625 \r\n\" style=\"fill:#cbd8ee;stroke:#ffffff;stroke-width:2;\"/>\r\n    <path clip-path=\"url(#pcb146fd211)\" d=\"M 370.582813 70.255625 \r\nL 420.182813 70.255625 \r\nL 420.182813 118.575625 \r\nL 370.582813 118.575625 \r\nL 370.582813 70.255625 \r\n\" style=\"fill:#c4d5f3;stroke:#ffffff;stroke-width:2;\"/>\r\n    <path clip-path=\"url(#pcb146fd211)\" d=\"M 420.182813 70.255625 \r\nL 469.782813 70.255625 \r\nL 469.782813 118.575625 \r\nL 420.182813 118.575625 \r\nL 420.182813 70.255625 \r\n\" style=\"fill:#b6cefa;stroke:#ffffff;stroke-width:2;\"/>\r\n    <path clip-path=\"url(#pcb146fd211)\" d=\"M 469.782813 70.255625 \r\nL 519.382813 70.255625 \r\nL 519.382813 118.575625 \r\nL 469.782813 118.575625 \r\nL 469.782813 70.255625 \r\n\" style=\"fill:#ccd9ed;stroke:#ffffff;stroke-width:2;\"/>\r\n    <path clip-path=\"url(#pcb146fd211)\" d=\"M 519.382813 70.255625 \r\nL 568.982813 70.255625 \r\nL 568.982813 118.575625 \r\nL 519.382813 118.575625 \r\nL 519.382813 70.255625 \r\n\" style=\"fill:#c4d5f3;stroke:#ffffff;stroke-width:2;\"/>\r\n    <path clip-path=\"url(#pcb146fd211)\" d=\"M 122.582812 118.575625 \r\nL 172.182813 118.575625 \r\nL 172.182813 166.895625 \r\nL 122.582812 166.895625 \r\nL 122.582812 118.575625 \r\n\" style=\"fill:#e2dad5;stroke:#ffffff;stroke-width:2;\"/>\r\n    <path clip-path=\"url(#pcb146fd211)\" d=\"M 172.182813 118.575625 \r\nL 221.782813 118.575625 \r\nL 221.782813 166.895625 \r\nL 172.182813 166.895625 \r\nL 172.182813 118.575625 \r\n\" style=\"fill:#c7d7f0;stroke:#ffffff;stroke-width:2;\"/>\r\n    <path clip-path=\"url(#pcb146fd211)\" d=\"M 221.782813 118.575625 \r\nL 271.382812 118.575625 \r\nL 271.382812 166.895625 \r\nL 221.782813 166.895625 \r\nL 221.782813 118.575625 \r\n\" style=\"fill:#b40426;stroke:#ffffff;stroke-width:2;\"/>\r\n    <path clip-path=\"url(#pcb146fd211)\" d=\"M 271.382812 118.575625 \r\nL 320.982813 118.575625 \r\nL 320.982813 166.895625 \r\nL 271.382812 166.895625 \r\nL 271.382812 118.575625 \r\n\" style=\"fill:#3b4cc0;stroke:#ffffff;stroke-width:2;\"/>\r\n    <path clip-path=\"url(#pcb146fd211)\" d=\"M 320.982813 118.575625 \r\nL 370.582813 118.575625 \r\nL 370.582813 166.895625 \r\nL 320.982813 166.895625 \r\nL 320.982813 118.575625 \r\n\" style=\"fill:#a6c4fe;stroke:#ffffff;stroke-width:2;\"/>\r\n    <path clip-path=\"url(#pcb146fd211)\" d=\"M 370.582813 118.575625 \r\nL 420.182813 118.575625 \r\nL 420.182813 166.895625 \r\nL 370.582813 166.895625 \r\nL 370.582813 118.575625 \r\n\" style=\"fill:#7b9ff9;stroke:#ffffff;stroke-width:2;\"/>\r\n    <path clip-path=\"url(#pcb146fd211)\" d=\"M 420.182813 118.575625 \r\nL 469.782813 118.575625 \r\nL 469.782813 166.895625 \r\nL 420.182813 166.895625 \r\nL 420.182813 118.575625 \r\n\" style=\"fill:#98b9ff;stroke:#ffffff;stroke-width:2;\"/>\r\n    <path clip-path=\"url(#pcb146fd211)\" d=\"M 469.782813 118.575625 \r\nL 519.382813 118.575625 \r\nL 519.382813 166.895625 \r\nL 469.782813 166.895625 \r\nL 469.782813 118.575625 \r\n\" style=\"fill:#f3c7b1;stroke:#ffffff;stroke-width:2;\"/>\r\n    <path clip-path=\"url(#pcb146fd211)\" d=\"M 519.382813 118.575625 \r\nL 568.982813 118.575625 \r\nL 568.982813 166.895625 \r\nL 519.382813 166.895625 \r\nL 519.382813 118.575625 \r\n\" style=\"fill:#7ea1fa;stroke:#ffffff;stroke-width:2;\"/>\r\n    <path clip-path=\"url(#pcb146fd211)\" d=\"M 122.582812 166.895625 \r\nL 172.182813 166.895625 \r\nL 172.182813 215.215625 \r\nL 122.582812 215.215625 \r\nL 122.582812 166.895625 \r\n\" style=\"fill:#b2ccfb;stroke:#ffffff;stroke-width:2;\"/>\r\n    <path clip-path=\"url(#pcb146fd211)\" d=\"M 172.182813 166.895625 \r\nL 221.782813 166.895625 \r\nL 221.782813 215.215625 \r\nL 172.182813 215.215625 \r\nL 172.182813 166.895625 \r\n\" style=\"fill:#c4d5f3;stroke:#ffffff;stroke-width:2;\"/>\r\n    <path clip-path=\"url(#pcb146fd211)\" d=\"M 221.782813 166.895625 \r\nL 271.382812 166.895625 \r\nL 271.382812 215.215625 \r\nL 221.782813 215.215625 \r\nL 221.782813 166.895625 \r\n\" style=\"fill:#3b4cc0;stroke:#ffffff;stroke-width:2;\"/>\r\n    <path clip-path=\"url(#pcb146fd211)\" d=\"M 271.382812 166.895625 \r\nL 320.982813 166.895625 \r\nL 320.982813 215.215625 \r\nL 271.382812 215.215625 \r\nL 271.382812 166.895625 \r\n\" style=\"fill:#b40426;stroke:#ffffff;stroke-width:2;\"/>\r\n    <path clip-path=\"url(#pcb146fd211)\" d=\"M 320.982813 166.895625 \r\nL 370.582813 166.895625 \r\nL 370.582813 215.215625 \r\nL 320.982813 215.215625 \r\nL 320.982813 166.895625 \r\n\" style=\"fill:#adc9fd;stroke:#ffffff;stroke-width:2;\"/>\r\n    <path clip-path=\"url(#pcb146fd211)\" d=\"M 370.582813 166.895625 \r\nL 420.182813 166.895625 \r\nL 420.182813 215.215625 \r\nL 370.582813 215.215625 \r\nL 370.582813 166.895625 \r\n\" style=\"fill:#abc8fd;stroke:#ffffff;stroke-width:2;\"/>\r\n    <path clip-path=\"url(#pcb146fd211)\" d=\"M 420.182813 166.895625 \r\nL 469.782813 166.895625 \r\nL 469.782813 215.215625 \r\nL 420.182813 215.215625 \r\nL 420.182813 166.895625 \r\n\" style=\"fill:#97b8ff;stroke:#ffffff;stroke-width:2;\"/>\r\n    <path clip-path=\"url(#pcb146fd211)\" d=\"M 469.782813 166.895625 \r\nL 519.382813 166.895625 \r\nL 519.382813 215.215625 \r\nL 469.782813 215.215625 \r\nL 469.782813 166.895625 \r\n\" style=\"fill:#b3cdfb;stroke:#ffffff;stroke-width:2;\"/>\r\n    <path clip-path=\"url(#pcb146fd211)\" d=\"M 519.382813 166.895625 \r\nL 568.982813 166.895625 \r\nL 568.982813 215.215625 \r\nL 519.382813 215.215625 \r\nL 519.382813 166.895625 \r\n\" style=\"fill:#f5c0a7;stroke:#ffffff;stroke-width:2;\"/>\r\n    <path clip-path=\"url(#pcb146fd211)\" d=\"M 122.582812 215.215625 \r\nL 172.182813 215.215625 \r\nL 172.182813 263.535625 \r\nL 122.582812 263.535625 \r\nL 122.582812 215.215625 \r\n\" style=\"fill:#bfd3f6;stroke:#ffffff;stroke-width:2;\"/>\r\n    <path clip-path=\"url(#pcb146fd211)\" d=\"M 172.182813 215.215625 \r\nL 221.782813 215.215625 \r\nL 221.782813 263.535625 \r\nL 172.182813 263.535625 \r\nL 172.182813 215.215625 \r\n\" style=\"fill:#cbd8ee;stroke:#ffffff;stroke-width:2;\"/>\r\n    <path clip-path=\"url(#pcb146fd211)\" d=\"M 221.782813 215.215625 \r\nL 271.382812 215.215625 \r\nL 271.382812 263.535625 \r\nL 221.782813 263.535625 \r\nL 221.782813 215.215625 \r\n\" style=\"fill:#a6c4fe;stroke:#ffffff;stroke-width:2;\"/>\r\n    <path clip-path=\"url(#pcb146fd211)\" d=\"M 271.382812 215.215625 \r\nL 320.982813 215.215625 \r\nL 320.982813 263.535625 \r\nL 271.382812 263.535625 \r\nL 271.382812 215.215625 \r\n\" style=\"fill:#adc9fd;stroke:#ffffff;stroke-width:2;\"/>\r\n    <path clip-path=\"url(#pcb146fd211)\" d=\"M 320.982813 215.215625 \r\nL 370.582813 215.215625 \r\nL 370.582813 263.535625 \r\nL 320.982813 263.535625 \r\nL 320.982813 215.215625 \r\n\" style=\"fill:#b40426;stroke:#ffffff;stroke-width:2;\"/>\r\n    <path clip-path=\"url(#pcb146fd211)\" d=\"M 370.582813 215.215625 \r\nL 420.182813 215.215625 \r\nL 420.182813 263.535625 \r\nL 370.582813 263.535625 \r\nL 370.582813 215.215625 \r\n\" style=\"fill:#b9d0f9;stroke:#ffffff;stroke-width:2;\"/>\r\n    <path clip-path=\"url(#pcb146fd211)\" d=\"M 420.182813 215.215625 \r\nL 469.782813 215.215625 \r\nL 469.782813 263.535625 \r\nL 420.182813 263.535625 \r\nL 420.182813 215.215625 \r\n\" style=\"fill:#bed2f6;stroke:#ffffff;stroke-width:2;\"/>\r\n    <path clip-path=\"url(#pcb146fd211)\" d=\"M 469.782813 215.215625 \r\nL 519.382813 215.215625 \r\nL 519.382813 263.535625 \r\nL 469.782813 263.535625 \r\nL 469.782813 215.215625 \r\n\" style=\"fill:#bfd3f6;stroke:#ffffff;stroke-width:2;\"/>\r\n    <path clip-path=\"url(#pcb146fd211)\" d=\"M 519.382813 215.215625 \r\nL 568.982813 215.215625 \r\nL 568.982813 263.535625 \r\nL 519.382813 263.535625 \r\nL 519.382813 215.215625 \r\n\" style=\"fill:#d4dbe6;stroke:#ffffff;stroke-width:2;\"/>\r\n    <path clip-path=\"url(#pcb146fd211)\" d=\"M 122.582812 263.535625 \r\nL 172.182813 263.535625 \r\nL 172.182813 311.855625 \r\nL 122.582812 311.855625 \r\nL 122.582812 263.535625 \r\n\" style=\"fill:#b3cdfb;stroke:#ffffff;stroke-width:2;\"/>\r\n    <path clip-path=\"url(#pcb146fd211)\" d=\"M 172.182813 263.535625 \r\nL 221.782813 263.535625 \r\nL 221.782813 311.855625 \r\nL 172.182813 311.855625 \r\nL 172.182813 263.535625 \r\n\" style=\"fill:#c4d5f3;stroke:#ffffff;stroke-width:2;\"/>\r\n    <path clip-path=\"url(#pcb146fd211)\" d=\"M 221.782813 263.535625 \r\nL 271.382812 263.535625 \r\nL 271.382812 311.855625 \r\nL 221.782813 311.855625 \r\nL 221.782813 263.535625 \r\n\" style=\"fill:#7b9ff9;stroke:#ffffff;stroke-width:2;\"/>\r\n    <path clip-path=\"url(#pcb146fd211)\" d=\"M 271.382812 263.535625 \r\nL 320.982813 263.535625 \r\nL 320.982813 311.855625 \r\nL 271.382812 311.855625 \r\nL 271.382812 263.535625 \r\n\" style=\"fill:#abc8fd;stroke:#ffffff;stroke-width:2;\"/>\r\n    <path clip-path=\"url(#pcb146fd211)\" d=\"M 320.982813 263.535625 \r\nL 370.582813 263.535625 \r\nL 370.582813 311.855625 \r\nL 320.982813 311.855625 \r\nL 320.982813 263.535625 \r\n\" style=\"fill:#b9d0f9;stroke:#ffffff;stroke-width:2;\"/>\r\n    <path clip-path=\"url(#pcb146fd211)\" d=\"M 370.582813 263.535625 \r\nL 420.182813 263.535625 \r\nL 420.182813 311.855625 \r\nL 370.582813 311.855625 \r\nL 370.582813 263.535625 \r\n\" style=\"fill:#b40426;stroke:#ffffff;stroke-width:2;\"/>\r\n    <path clip-path=\"url(#pcb146fd211)\" d=\"M 420.182813 263.535625 \r\nL 469.782813 263.535625 \r\nL 469.782813 311.855625 \r\nL 420.182813 311.855625 \r\nL 420.182813 263.535625 \r\n\" style=\"fill:#dddcdc;stroke:#ffffff;stroke-width:2;\"/>\r\n    <path clip-path=\"url(#pcb146fd211)\" d=\"M 469.782813 263.535625 \r\nL 519.382813 263.535625 \r\nL 519.382813 311.855625 \r\nL 469.782813 311.855625 \r\nL 469.782813 263.535625 \r\n\" style=\"fill:#ccd9ed;stroke:#ffffff;stroke-width:2;\"/>\r\n    <path clip-path=\"url(#pcb146fd211)\" d=\"M 519.382813 263.535625 \r\nL 568.982813 263.535625 \r\nL 568.982813 311.855625 \r\nL 519.382813 311.855625 \r\nL 519.382813 263.535625 \r\n\" style=\"fill:#9bbcff;stroke:#ffffff;stroke-width:2;\"/>\r\n    <path clip-path=\"url(#pcb146fd211)\" d=\"M 122.582812 311.855625 \r\nL 172.182813 311.855625 \r\nL 172.182813 360.175625 \r\nL 122.582812 360.175625 \r\nL 122.582812 311.855625 \r\n\" style=\"fill:#b3cdfb;stroke:#ffffff;stroke-width:2;\"/>\r\n    <path clip-path=\"url(#pcb146fd211)\" d=\"M 172.182813 311.855625 \r\nL 221.782813 311.855625 \r\nL 221.782813 360.175625 \r\nL 172.182813 360.175625 \r\nL 172.182813 311.855625 \r\n\" style=\"fill:#b6cefa;stroke:#ffffff;stroke-width:2;\"/>\r\n    <path clip-path=\"url(#pcb146fd211)\" d=\"M 221.782813 311.855625 \r\nL 271.382812 311.855625 \r\nL 271.382812 360.175625 \r\nL 221.782813 360.175625 \r\nL 221.782813 311.855625 \r\n\" style=\"fill:#98b9ff;stroke:#ffffff;stroke-width:2;\"/>\r\n    <path clip-path=\"url(#pcb146fd211)\" d=\"M 271.382812 311.855625 \r\nL 320.982813 311.855625 \r\nL 320.982813 360.175625 \r\nL 271.382812 360.175625 \r\nL 271.382812 311.855625 \r\n\" style=\"fill:#97b8ff;stroke:#ffffff;stroke-width:2;\"/>\r\n    <path clip-path=\"url(#pcb146fd211)\" d=\"M 320.982813 311.855625 \r\nL 370.582813 311.855625 \r\nL 370.582813 360.175625 \r\nL 320.982813 360.175625 \r\nL 320.982813 311.855625 \r\n\" style=\"fill:#bed2f6;stroke:#ffffff;stroke-width:2;\"/>\r\n    <path clip-path=\"url(#pcb146fd211)\" d=\"M 370.582813 311.855625 \r\nL 420.182813 311.855625 \r\nL 420.182813 360.175625 \r\nL 370.582813 360.175625 \r\nL 370.582813 311.855625 \r\n\" style=\"fill:#dddcdc;stroke:#ffffff;stroke-width:2;\"/>\r\n    <path clip-path=\"url(#pcb146fd211)\" d=\"M 420.182813 311.855625 \r\nL 469.782813 311.855625 \r\nL 469.782813 360.175625 \r\nL 420.182813 360.175625 \r\nL 420.182813 311.855625 \r\n\" style=\"fill:#b40426;stroke:#ffffff;stroke-width:2;\"/>\r\n    <path clip-path=\"url(#pcb146fd211)\" d=\"M 469.782813 311.855625 \r\nL 519.382813 311.855625 \r\nL 519.382813 360.175625 \r\nL 469.782813 360.175625 \r\nL 469.782813 311.855625 \r\n\" style=\"fill:#4961d2;stroke:#ffffff;stroke-width:2;\"/>\r\n    <path clip-path=\"url(#pcb146fd211)\" d=\"M 519.382813 311.855625 \r\nL 568.982813 311.855625 \r\nL 568.982813 360.175625 \r\nL 519.382813 360.175625 \r\nL 519.382813 311.855625 \r\n\" style=\"fill:#dcdddd;stroke:#ffffff;stroke-width:2;\"/>\r\n    <path clip-path=\"url(#pcb146fd211)\" d=\"M 122.582812 360.175625 \r\nL 172.182813 360.175625 \r\nL 172.182813 408.495625 \r\nL 122.582812 408.495625 \r\nL 122.582812 360.175625 \r\n\" style=\"fill:#cbd8ee;stroke:#ffffff;stroke-width:2;\"/>\r\n    <path clip-path=\"url(#pcb146fd211)\" d=\"M 172.182813 360.175625 \r\nL 221.782813 360.175625 \r\nL 221.782813 408.495625 \r\nL 172.182813 408.495625 \r\nL 172.182813 360.175625 \r\n\" style=\"fill:#ccd9ed;stroke:#ffffff;stroke-width:2;\"/>\r\n    <path clip-path=\"url(#pcb146fd211)\" d=\"M 221.782813 360.175625 \r\nL 271.382812 360.175625 \r\nL 271.382812 408.495625 \r\nL 221.782813 408.495625 \r\nL 221.782813 360.175625 \r\n\" style=\"fill:#f3c7b1;stroke:#ffffff;stroke-width:2;\"/>\r\n    <path clip-path=\"url(#pcb146fd211)\" d=\"M 271.382812 360.175625 \r\nL 320.982813 360.175625 \r\nL 320.982813 408.495625 \r\nL 271.382812 408.495625 \r\nL 271.382812 360.175625 \r\n\" style=\"fill:#b3cdfb;stroke:#ffffff;stroke-width:2;\"/>\r\n    <path clip-path=\"url(#pcb146fd211)\" d=\"M 320.982813 360.175625 \r\nL 370.582813 360.175625 \r\nL 370.582813 408.495625 \r\nL 320.982813 408.495625 \r\nL 320.982813 360.175625 \r\n\" style=\"fill:#bfd3f6;stroke:#ffffff;stroke-width:2;\"/>\r\n    <path clip-path=\"url(#pcb146fd211)\" d=\"M 370.582813 360.175625 \r\nL 420.182813 360.175625 \r\nL 420.182813 408.495625 \r\nL 370.582813 408.495625 \r\nL 370.582813 360.175625 \r\n\" style=\"fill:#ccd9ed;stroke:#ffffff;stroke-width:2;\"/>\r\n    <path clip-path=\"url(#pcb146fd211)\" d=\"M 420.182813 360.175625 \r\nL 469.782813 360.175625 \r\nL 469.782813 408.495625 \r\nL 420.182813 408.495625 \r\nL 420.182813 360.175625 \r\n\" style=\"fill:#4961d2;stroke:#ffffff;stroke-width:2;\"/>\r\n    <path clip-path=\"url(#pcb146fd211)\" d=\"M 469.782813 360.175625 \r\nL 519.382813 360.175625 \r\nL 519.382813 408.495625 \r\nL 469.782813 408.495625 \r\nL 469.782813 360.175625 \r\n\" style=\"fill:#b40426;stroke:#ffffff;stroke-width:2;\"/>\r\n    <path clip-path=\"url(#pcb146fd211)\" d=\"M 519.382813 360.175625 \r\nL 568.982813 360.175625 \r\nL 568.982813 408.495625 \r\nL 519.382813 408.495625 \r\nL 519.382813 360.175625 \r\n\" style=\"fill:#5977e3;stroke:#ffffff;stroke-width:2;\"/>\r\n    <path clip-path=\"url(#pcb146fd211)\" d=\"M 122.582812 408.495625 \r\nL 172.182813 408.495625 \r\nL 172.182813 456.815625 \r\nL 122.582812 456.815625 \r\nL 122.582812 408.495625 \r\n\" style=\"fill:#bad0f8;stroke:#ffffff;stroke-width:2;\"/>\r\n    <path clip-path=\"url(#pcb146fd211)\" d=\"M 172.182813 408.495625 \r\nL 221.782813 408.495625 \r\nL 221.782813 456.815625 \r\nL 172.182813 456.815625 \r\nL 172.182813 408.495625 \r\n\" style=\"fill:#c4d5f3;stroke:#ffffff;stroke-width:2;\"/>\r\n    <path clip-path=\"url(#pcb146fd211)\" d=\"M 221.782813 408.495625 \r\nL 271.382812 408.495625 \r\nL 271.382812 456.815625 \r\nL 221.782813 456.815625 \r\nL 221.782813 408.495625 \r\n\" style=\"fill:#7ea1fa;stroke:#ffffff;stroke-width:2;\"/>\r\n    <path clip-path=\"url(#pcb146fd211)\" d=\"M 271.382812 408.495625 \r\nL 320.982813 408.495625 \r\nL 320.982813 456.815625 \r\nL 271.382812 456.815625 \r\nL 271.382812 408.495625 \r\n\" style=\"fill:#f5c0a7;stroke:#ffffff;stroke-width:2;\"/>\r\n    <path clip-path=\"url(#pcb146fd211)\" d=\"M 320.982813 408.495625 \r\nL 370.582813 408.495625 \r\nL 370.582813 456.815625 \r\nL 320.982813 456.815625 \r\nL 320.982813 408.495625 \r\n\" style=\"fill:#d4dbe6;stroke:#ffffff;stroke-width:2;\"/>\r\n    <path clip-path=\"url(#pcb146fd211)\" d=\"M 370.582813 408.495625 \r\nL 420.182813 408.495625 \r\nL 420.182813 456.815625 \r\nL 370.582813 456.815625 \r\nL 370.582813 408.495625 \r\n\" style=\"fill:#9bbcff;stroke:#ffffff;stroke-width:2;\"/>\r\n    <path clip-path=\"url(#pcb146fd211)\" d=\"M 420.182813 408.495625 \r\nL 469.782813 408.495625 \r\nL 469.782813 456.815625 \r\nL 420.182813 456.815625 \r\nL 420.182813 408.495625 \r\n\" style=\"fill:#dcdddd;stroke:#ffffff;stroke-width:2;\"/>\r\n    <path clip-path=\"url(#pcb146fd211)\" d=\"M 469.782813 408.495625 \r\nL 519.382813 408.495625 \r\nL 519.382813 456.815625 \r\nL 469.782813 456.815625 \r\nL 469.782813 408.495625 \r\n\" style=\"fill:#5977e3;stroke:#ffffff;stroke-width:2;\"/>\r\n    <path clip-path=\"url(#pcb146fd211)\" d=\"M 519.382813 408.495625 \r\nL 568.982813 408.495625 \r\nL 568.982813 456.815625 \r\nL 519.382813 456.815625 \r\nL 519.382813 408.495625 \r\n\" style=\"fill:#b40426;stroke:#ffffff;stroke-width:2;\"/>\r\n   </g>\r\n   <g id=\"text_19\">\r\n    <!-- 1 -->\r\n    <g style=\"fill:#ffffff;\" transform=\"translate(144.602344 48.680781)scale(0.1 -0.1)\">\r\n     <defs>\r\n      <path d=\"M 37.25 0 \r\nL 28.46875 0 \r\nL 28.46875 56 \r\nQ 25.296875 52.984375 20.140625 49.953125 \r\nQ 14.984375 46.921875 10.890625 45.40625 \r\nL 10.890625 53.90625 \r\nQ 18.265625 57.375 23.78125 62.296875 \r\nQ 29.296875 67.234375 31.59375 71.875 \r\nL 37.25 71.875 \r\nz\r\n\" id=\"ArialMT-49\"/>\r\n     </defs>\r\n     <use xlink:href=\"#ArialMT-49\"/>\r\n    </g>\r\n   </g>\r\n   <g id=\"text_20\">\r\n    <!-- 0.0098 -->\r\n    <g style=\"fill:#262626;\" transform=\"translate(181.691406 48.680781)scale(0.1 -0.1)\">\r\n     <defs>\r\n      <path d=\"M 4.15625 35.296875 \r\nQ 4.15625 48 6.765625 55.734375 \r\nQ 9.375 63.484375 14.515625 67.671875 \r\nQ 19.671875 71.875 27.484375 71.875 \r\nQ 33.25 71.875 37.59375 69.546875 \r\nQ 41.9375 67.234375 44.765625 62.859375 \r\nQ 47.609375 58.5 49.21875 52.21875 \r\nQ 50.828125 45.953125 50.828125 35.296875 \r\nQ 50.828125 22.703125 48.234375 14.96875 \r\nQ 45.65625 7.234375 40.5 3 \r\nQ 35.359375 -1.21875 27.484375 -1.21875 \r\nQ 17.140625 -1.21875 11.234375 6.203125 \r\nQ 4.15625 15.140625 4.15625 35.296875 \r\nz\r\nM 13.1875 35.296875 \r\nQ 13.1875 17.671875 17.3125 11.828125 \r\nQ 21.4375 6 27.484375 6 \r\nQ 33.546875 6 37.671875 11.859375 \r\nQ 41.796875 17.71875 41.796875 35.296875 \r\nQ 41.796875 52.984375 37.671875 58.78125 \r\nQ 33.546875 64.59375 27.390625 64.59375 \r\nQ 21.34375 64.59375 17.71875 59.46875 \r\nQ 13.1875 52.9375 13.1875 35.296875 \r\nz\r\n\" id=\"ArialMT-48\"/>\r\n      <path d=\"M 9.078125 0 \r\nL 9.078125 10.015625 \r\nL 19.09375 10.015625 \r\nL 19.09375 0 \r\nz\r\n\" id=\"ArialMT-46\"/>\r\n      <path d=\"M 5.46875 16.546875 \r\nL 13.921875 17.328125 \r\nQ 14.984375 11.375 18.015625 8.6875 \r\nQ 21.046875 6 25.78125 6 \r\nQ 29.828125 6 32.875 7.859375 \r\nQ 35.9375 9.71875 37.890625 12.8125 \r\nQ 39.84375 15.921875 41.15625 21.1875 \r\nQ 42.484375 26.46875 42.484375 31.9375 \r\nQ 42.484375 32.515625 42.4375 33.6875 \r\nQ 39.796875 29.5 35.234375 26.875 \r\nQ 30.671875 24.265625 25.34375 24.265625 \r\nQ 16.453125 24.265625 10.296875 30.703125 \r\nQ 4.15625 37.15625 4.15625 47.703125 \r\nQ 4.15625 58.59375 10.578125 65.234375 \r\nQ 17 71.875 26.65625 71.875 \r\nQ 33.640625 71.875 39.421875 68.109375 \r\nQ 45.21875 64.359375 48.21875 57.390625 \r\nQ 51.21875 50.4375 51.21875 37.25 \r\nQ 51.21875 23.53125 48.234375 15.40625 \r\nQ 45.265625 7.28125 39.375 3.03125 \r\nQ 33.5 -1.21875 25.59375 -1.21875 \r\nQ 17.1875 -1.21875 11.859375 3.4375 \r\nQ 6.546875 8.109375 5.46875 16.546875 \r\nz\r\nM 41.453125 48.140625 \r\nQ 41.453125 55.71875 37.421875 60.15625 \r\nQ 33.40625 64.59375 27.734375 64.59375 \r\nQ 21.875 64.59375 17.53125 59.8125 \r\nQ 13.1875 55.03125 13.1875 47.40625 \r\nQ 13.1875 40.578125 17.3125 36.296875 \r\nQ 21.4375 32.03125 27.484375 32.03125 \r\nQ 33.59375 32.03125 37.515625 36.296875 \r\nQ 41.453125 40.578125 41.453125 48.140625 \r\nz\r\n\" id=\"ArialMT-57\"/>\r\n      <path d=\"M 17.671875 38.8125 \r\nQ 12.203125 40.828125 9.5625 44.53125 \r\nQ 6.9375 48.25 6.9375 53.421875 \r\nQ 6.9375 61.234375 12.546875 66.546875 \r\nQ 18.171875 71.875 27.484375 71.875 \r\nQ 36.859375 71.875 42.578125 66.421875 \r\nQ 48.296875 60.984375 48.296875 53.171875 \r\nQ 48.296875 48.1875 45.671875 44.5 \r\nQ 43.0625 40.828125 37.75 38.8125 \r\nQ 44.34375 36.671875 47.78125 31.875 \r\nQ 51.21875 27.09375 51.21875 20.453125 \r\nQ 51.21875 11.28125 44.71875 5.03125 \r\nQ 38.234375 -1.21875 27.640625 -1.21875 \r\nQ 17.046875 -1.21875 10.546875 5.046875 \r\nQ 4.046875 11.328125 4.046875 20.703125 \r\nQ 4.046875 27.6875 7.59375 32.390625 \r\nQ 11.140625 37.109375 17.671875 38.8125 \r\nz\r\nM 15.921875 53.71875 \r\nQ 15.921875 48.640625 19.1875 45.40625 \r\nQ 22.46875 42.1875 27.6875 42.1875 \r\nQ 32.765625 42.1875 36.015625 45.375 \r\nQ 39.265625 48.578125 39.265625 53.21875 \r\nQ 39.265625 58.0625 35.90625 61.359375 \r\nQ 32.5625 64.65625 27.59375 64.65625 \r\nQ 22.5625 64.65625 19.234375 61.421875 \r\nQ 15.921875 58.203125 15.921875 53.71875 \r\nz\r\nM 13.09375 20.65625 \r\nQ 13.09375 16.890625 14.875 13.375 \r\nQ 16.65625 9.859375 20.171875 7.921875 \r\nQ 23.6875 6 27.734375 6 \r\nQ 34.03125 6 38.125 10.046875 \r\nQ 42.234375 14.109375 42.234375 20.359375 \r\nQ 42.234375 26.703125 38.015625 30.859375 \r\nQ 33.796875 35.015625 27.4375 35.015625 \r\nQ 21.234375 35.015625 17.15625 30.90625 \r\nQ 13.09375 26.8125 13.09375 20.65625 \r\nz\r\n\" id=\"ArialMT-56\"/>\r\n     </defs>\r\n     <use xlink:href=\"#ArialMT-48\"/>\r\n     <use x=\"55.615234\" xlink:href=\"#ArialMT-46\"/>\r\n     <use x=\"83.398438\" xlink:href=\"#ArialMT-48\"/>\r\n     <use x=\"139.013672\" xlink:href=\"#ArialMT-48\"/>\r\n     <use x=\"194.628906\" xlink:href=\"#ArialMT-57\"/>\r\n     <use x=\"250.244141\" xlink:href=\"#ArialMT-56\"/>\r\n    </g>\r\n   </g>\r\n   <g id=\"text_21\">\r\n    <!-- 0.18 -->\r\n    <g style=\"fill:#262626;\" transform=\"translate(236.852344 48.680781)scale(0.1 -0.1)\">\r\n     <use xlink:href=\"#ArialMT-48\"/>\r\n     <use x=\"55.615234\" xlink:href=\"#ArialMT-46\"/>\r\n     <use x=\"83.398438\" xlink:href=\"#ArialMT-49\"/>\r\n     <use x=\"139.013672\" xlink:href=\"#ArialMT-56\"/>\r\n    </g>\r\n   </g>\r\n   <g id=\"text_22\">\r\n    <!-- -0.099 -->\r\n    <g style=\"fill:#262626;\" transform=\"translate(282.007031 48.680781)scale(0.1 -0.1)\">\r\n     <defs>\r\n      <path d=\"M 3.171875 21.484375 \r\nL 3.171875 30.328125 \r\nL 30.171875 30.328125 \r\nL 30.171875 21.484375 \r\nz\r\n\" id=\"ArialMT-45\"/>\r\n     </defs>\r\n     <use xlink:href=\"#ArialMT-45\"/>\r\n     <use x=\"33.300781\" xlink:href=\"#ArialMT-48\"/>\r\n     <use x=\"88.916016\" xlink:href=\"#ArialMT-46\"/>\r\n     <use x=\"116.699219\" xlink:href=\"#ArialMT-48\"/>\r\n     <use x=\"172.314453\" xlink:href=\"#ArialMT-57\"/>\r\n     <use x=\"227.929688\" xlink:href=\"#ArialMT-57\"/>\r\n    </g>\r\n   </g>\r\n   <g id=\"text_23\">\r\n    <!-- -0.032 -->\r\n    <g style=\"fill:#262626;\" transform=\"translate(331.607031 48.680781)scale(0.1 -0.1)\">\r\n     <defs>\r\n      <path d=\"M 4.203125 18.890625 \r\nL 12.984375 20.0625 \r\nQ 14.5 12.59375 18.140625 9.296875 \r\nQ 21.78125 6 27 6 \r\nQ 33.203125 6 37.46875 10.296875 \r\nQ 41.75 14.59375 41.75 20.953125 \r\nQ 41.75 27 37.796875 30.921875 \r\nQ 33.84375 34.859375 27.734375 34.859375 \r\nQ 25.25 34.859375 21.53125 33.890625 \r\nL 22.515625 41.609375 \r\nQ 23.390625 41.5 23.921875 41.5 \r\nQ 29.546875 41.5 34.03125 44.421875 \r\nQ 38.53125 47.359375 38.53125 53.46875 \r\nQ 38.53125 58.296875 35.25 61.46875 \r\nQ 31.984375 64.65625 26.8125 64.65625 \r\nQ 21.6875 64.65625 18.265625 61.421875 \r\nQ 14.84375 58.203125 13.875 51.765625 \r\nL 5.078125 53.328125 \r\nQ 6.6875 62.15625 12.390625 67.015625 \r\nQ 18.109375 71.875 26.609375 71.875 \r\nQ 32.46875 71.875 37.390625 69.359375 \r\nQ 42.328125 66.84375 44.9375 62.5 \r\nQ 47.5625 58.15625 47.5625 53.265625 \r\nQ 47.5625 48.640625 45.0625 44.828125 \r\nQ 42.578125 41.015625 37.703125 38.765625 \r\nQ 44.046875 37.3125 47.5625 32.6875 \r\nQ 51.078125 28.078125 51.078125 21.140625 \r\nQ 51.078125 11.765625 44.234375 5.25 \r\nQ 37.40625 -1.265625 26.953125 -1.265625 \r\nQ 17.53125 -1.265625 11.296875 4.34375 \r\nQ 5.078125 9.96875 4.203125 18.890625 \r\nz\r\n\" id=\"ArialMT-51\"/>\r\n      <path d=\"M 50.34375 8.453125 \r\nL 50.34375 0 \r\nL 3.03125 0 \r\nQ 2.9375 3.171875 4.046875 6.109375 \r\nQ 5.859375 10.9375 9.828125 15.625 \r\nQ 13.8125 20.3125 21.34375 26.46875 \r\nQ 33.015625 36.03125 37.109375 41.625 \r\nQ 41.21875 47.21875 41.21875 52.203125 \r\nQ 41.21875 57.421875 37.46875 61 \r\nQ 33.734375 64.59375 27.734375 64.59375 \r\nQ 21.390625 64.59375 17.578125 60.78125 \r\nQ 13.765625 56.984375 13.71875 50.25 \r\nL 4.6875 51.171875 \r\nQ 5.609375 61.28125 11.65625 66.578125 \r\nQ 17.71875 71.875 27.9375 71.875 \r\nQ 38.234375 71.875 44.234375 66.15625 \r\nQ 50.25 60.453125 50.25 52 \r\nQ 50.25 47.703125 48.484375 43.546875 \r\nQ 46.734375 39.40625 42.65625 34.8125 \r\nQ 38.578125 30.21875 29.109375 22.21875 \r\nQ 21.1875 15.578125 18.9375 13.203125 \r\nQ 16.703125 10.84375 15.234375 8.453125 \r\nz\r\n\" id=\"ArialMT-50\"/>\r\n     </defs>\r\n     <use xlink:href=\"#ArialMT-45\"/>\r\n     <use x=\"33.300781\" xlink:href=\"#ArialMT-48\"/>\r\n     <use x=\"88.916016\" xlink:href=\"#ArialMT-46\"/>\r\n     <use x=\"116.699219\" xlink:href=\"#ArialMT-48\"/>\r\n     <use x=\"172.314453\" xlink:href=\"#ArialMT-51\"/>\r\n     <use x=\"227.929688\" xlink:href=\"#ArialMT-50\"/>\r\n    </g>\r\n   </g>\r\n   <g id=\"text_24\">\r\n    <!-- -0.09 -->\r\n    <g style=\"fill:#262626;\" transform=\"translate(383.9875 48.680781)scale(0.1 -0.1)\">\r\n     <use xlink:href=\"#ArialMT-45\"/>\r\n     <use x=\"33.300781\" xlink:href=\"#ArialMT-48\"/>\r\n     <use x=\"88.916016\" xlink:href=\"#ArialMT-46\"/>\r\n     <use x=\"116.699219\" xlink:href=\"#ArialMT-48\"/>\r\n     <use x=\"172.314453\" xlink:href=\"#ArialMT-57\"/>\r\n    </g>\r\n   </g>\r\n   <g id=\"text_25\">\r\n    <!-- -0.093 -->\r\n    <g style=\"fill:#262626;\" transform=\"translate(430.807031 48.680781)scale(0.1 -0.1)\">\r\n     <use xlink:href=\"#ArialMT-45\"/>\r\n     <use x=\"33.300781\" xlink:href=\"#ArialMT-48\"/>\r\n     <use x=\"88.916016\" xlink:href=\"#ArialMT-46\"/>\r\n     <use x=\"116.699219\" xlink:href=\"#ArialMT-48\"/>\r\n     <use x=\"172.314453\" xlink:href=\"#ArialMT-57\"/>\r\n     <use x=\"227.929688\" xlink:href=\"#ArialMT-51\"/>\r\n    </g>\r\n   </g>\r\n   <g id=\"text_26\">\r\n    <!-- 0.034 -->\r\n    <g style=\"fill:#262626;\" transform=\"translate(482.071875 48.680781)scale(0.1 -0.1)\">\r\n     <defs>\r\n      <path d=\"M 32.328125 0 \r\nL 32.328125 17.140625 \r\nL 1.265625 17.140625 \r\nL 1.265625 25.203125 \r\nL 33.9375 71.578125 \r\nL 41.109375 71.578125 \r\nL 41.109375 25.203125 \r\nL 50.78125 25.203125 \r\nL 50.78125 17.140625 \r\nL 41.109375 17.140625 \r\nL 41.109375 0 \r\nz\r\nM 32.328125 25.203125 \r\nL 32.328125 57.46875 \r\nL 9.90625 25.203125 \r\nz\r\n\" id=\"ArialMT-52\"/>\r\n     </defs>\r\n     <use xlink:href=\"#ArialMT-48\"/>\r\n     <use x=\"55.615234\" xlink:href=\"#ArialMT-46\"/>\r\n     <use x=\"83.398438\" xlink:href=\"#ArialMT-48\"/>\r\n     <use x=\"139.013672\" xlink:href=\"#ArialMT-51\"/>\r\n     <use x=\"194.628906\" xlink:href=\"#ArialMT-52\"/>\r\n    </g>\r\n   </g>\r\n   <g id=\"text_27\">\r\n    <!-- -0.057 -->\r\n    <g style=\"fill:#262626;\" transform=\"translate(530.007031 48.680781)scale(0.1 -0.1)\">\r\n     <defs>\r\n      <path d=\"M 4.15625 18.75 \r\nL 13.375 19.53125 \r\nQ 14.40625 12.796875 18.140625 9.390625 \r\nQ 21.875 6 27.15625 6 \r\nQ 33.5 6 37.890625 10.78125 \r\nQ 42.28125 15.578125 42.28125 23.484375 \r\nQ 42.28125 31 38.0625 35.34375 \r\nQ 33.84375 39.703125 27 39.703125 \r\nQ 22.75 39.703125 19.328125 37.765625 \r\nQ 15.921875 35.84375 13.96875 32.765625 \r\nL 5.71875 33.84375 \r\nL 12.640625 70.609375 \r\nL 48.25 70.609375 \r\nL 48.25 62.203125 \r\nL 19.671875 62.203125 \r\nL 15.828125 42.96875 \r\nQ 22.265625 47.46875 29.34375 47.46875 \r\nQ 38.71875 47.46875 45.15625 40.96875 \r\nQ 51.609375 34.46875 51.609375 24.265625 \r\nQ 51.609375 14.546875 45.953125 7.46875 \r\nQ 39.0625 -1.21875 27.15625 -1.21875 \r\nQ 17.390625 -1.21875 11.203125 4.25 \r\nQ 5.03125 9.71875 4.15625 18.75 \r\nz\r\n\" id=\"ArialMT-53\"/>\r\n      <path d=\"M 4.734375 62.203125 \r\nL 4.734375 70.65625 \r\nL 51.078125 70.65625 \r\nL 51.078125 63.8125 \r\nQ 44.234375 56.546875 37.515625 44.484375 \r\nQ 30.8125 32.421875 27.15625 19.671875 \r\nQ 24.515625 10.6875 23.78125 0 \r\nL 14.75 0 \r\nQ 14.890625 8.453125 18.0625 20.40625 \r\nQ 21.234375 32.375 27.171875 43.484375 \r\nQ 33.109375 54.59375 39.796875 62.203125 \r\nz\r\n\" id=\"ArialMT-55\"/>\r\n     </defs>\r\n     <use xlink:href=\"#ArialMT-45\"/>\r\n     <use x=\"33.300781\" xlink:href=\"#ArialMT-48\"/>\r\n     <use x=\"88.916016\" xlink:href=\"#ArialMT-46\"/>\r\n     <use x=\"116.699219\" xlink:href=\"#ArialMT-48\"/>\r\n     <use x=\"172.314453\" xlink:href=\"#ArialMT-53\"/>\r\n     <use x=\"227.929688\" xlink:href=\"#ArialMT-55\"/>\r\n    </g>\r\n   </g>\r\n   <g id=\"text_28\">\r\n    <!-- 0.0098 -->\r\n    <g style=\"fill:#262626;\" transform=\"translate(132.091406 97.000781)scale(0.1 -0.1)\">\r\n     <use xlink:href=\"#ArialMT-48\"/>\r\n     <use x=\"55.615234\" xlink:href=\"#ArialMT-46\"/>\r\n     <use x=\"83.398438\" xlink:href=\"#ArialMT-48\"/>\r\n     <use x=\"139.013672\" xlink:href=\"#ArialMT-48\"/>\r\n     <use x=\"194.628906\" xlink:href=\"#ArialMT-57\"/>\r\n     <use x=\"250.244141\" xlink:href=\"#ArialMT-56\"/>\r\n    </g>\r\n   </g>\r\n   <g id=\"text_29\">\r\n    <!-- 1 -->\r\n    <g style=\"fill:#ffffff;\" transform=\"translate(194.202344 97.000781)scale(0.1 -0.1)\">\r\n     <use xlink:href=\"#ArialMT-49\"/>\r\n    </g>\r\n   </g>\r\n   <g id=\"text_30\">\r\n    <!-- 0.014 -->\r\n    <g style=\"fill:#262626;\" transform=\"translate(234.071875 97.000781)scale(0.1 -0.1)\">\r\n     <use xlink:href=\"#ArialMT-48\"/>\r\n     <use x=\"55.615234\" xlink:href=\"#ArialMT-46\"/>\r\n     <use x=\"83.398438\" xlink:href=\"#ArialMT-48\"/>\r\n     <use x=\"139.013672\" xlink:href=\"#ArialMT-49\"/>\r\n     <use x=\"194.628906\" xlink:href=\"#ArialMT-52\"/>\r\n    </g>\r\n   </g>\r\n   <g id=\"text_31\">\r\n    <!-- -0.0079 -->\r\n    <g style=\"fill:#262626;\" transform=\"translate(279.226563 97.000781)scale(0.1 -0.1)\">\r\n     <use xlink:href=\"#ArialMT-45\"/>\r\n     <use x=\"33.300781\" xlink:href=\"#ArialMT-48\"/>\r\n     <use x=\"88.916016\" xlink:href=\"#ArialMT-46\"/>\r\n     <use x=\"116.699219\" xlink:href=\"#ArialMT-48\"/>\r\n     <use x=\"172.314453\" xlink:href=\"#ArialMT-48\"/>\r\n     <use x=\"227.929688\" xlink:href=\"#ArialMT-55\"/>\r\n     <use x=\"283.544922\" xlink:href=\"#ArialMT-57\"/>\r\n    </g>\r\n   </g>\r\n   <g id=\"text_32\">\r\n    <!-- 0.035 -->\r\n    <g style=\"fill:#262626;\" transform=\"translate(333.271875 97.000781)scale(0.1 -0.1)\">\r\n     <use xlink:href=\"#ArialMT-48\"/>\r\n     <use x=\"55.615234\" xlink:href=\"#ArialMT-46\"/>\r\n     <use x=\"83.398438\" xlink:href=\"#ArialMT-48\"/>\r\n     <use x=\"139.013672\" xlink:href=\"#ArialMT-51\"/>\r\n     <use x=\"194.628906\" xlink:href=\"#ArialMT-53\"/>\r\n    </g>\r\n   </g>\r\n   <g id=\"text_33\">\r\n    <!-- -0.0057 -->\r\n    <g style=\"fill:#262626;\" transform=\"translate(378.426563 97.000781)scale(0.1 -0.1)\">\r\n     <use xlink:href=\"#ArialMT-45\"/>\r\n     <use x=\"33.300781\" xlink:href=\"#ArialMT-48\"/>\r\n     <use x=\"88.916016\" xlink:href=\"#ArialMT-46\"/>\r\n     <use x=\"116.699219\" xlink:href=\"#ArialMT-48\"/>\r\n     <use x=\"172.314453\" xlink:href=\"#ArialMT-48\"/>\r\n     <use x=\"227.929688\" xlink:href=\"#ArialMT-53\"/>\r\n     <use x=\"283.544922\" xlink:href=\"#ArialMT-55\"/>\r\n    </g>\r\n   </g>\r\n   <g id=\"text_34\">\r\n    <!-- -0.078 -->\r\n    <g style=\"fill:#262626;\" transform=\"translate(430.807031 97.000781)scale(0.1 -0.1)\">\r\n     <use xlink:href=\"#ArialMT-45\"/>\r\n     <use x=\"33.300781\" xlink:href=\"#ArialMT-48\"/>\r\n     <use x=\"88.916016\" xlink:href=\"#ArialMT-46\"/>\r\n     <use x=\"116.699219\" xlink:href=\"#ArialMT-48\"/>\r\n     <use x=\"172.314453\" xlink:href=\"#ArialMT-55\"/>\r\n     <use x=\"227.929688\" xlink:href=\"#ArialMT-56\"/>\r\n    </g>\r\n   </g>\r\n   <g id=\"text_35\">\r\n    <!-- 0.042 -->\r\n    <g style=\"fill:#262626;\" transform=\"translate(482.071875 97.000781)scale(0.1 -0.1)\">\r\n     <use xlink:href=\"#ArialMT-48\"/>\r\n     <use x=\"55.615234\" xlink:href=\"#ArialMT-46\"/>\r\n     <use x=\"83.398438\" xlink:href=\"#ArialMT-48\"/>\r\n     <use x=\"139.013672\" xlink:href=\"#ArialMT-52\"/>\r\n     <use x=\"194.628906\" xlink:href=\"#ArialMT-50\"/>\r\n    </g>\r\n   </g>\r\n   <g id=\"text_36\">\r\n    <!-- -0.0036 -->\r\n    <g style=\"fill:#262626;\" transform=\"translate(527.226563 97.000781)scale(0.1 -0.1)\">\r\n     <defs>\r\n      <path d=\"M 49.75 54.046875 \r\nL 41.015625 53.375 \r\nQ 39.84375 58.546875 37.703125 60.890625 \r\nQ 34.125 64.65625 28.90625 64.65625 \r\nQ 24.703125 64.65625 21.53125 62.3125 \r\nQ 17.390625 59.28125 14.984375 53.46875 \r\nQ 12.59375 47.65625 12.5 36.921875 \r\nQ 15.671875 41.75 20.265625 44.09375 \r\nQ 24.859375 46.4375 29.890625 46.4375 \r\nQ 38.671875 46.4375 44.84375 39.96875 \r\nQ 51.03125 33.5 51.03125 23.25 \r\nQ 51.03125 16.5 48.125 10.71875 \r\nQ 45.21875 4.9375 40.140625 1.859375 \r\nQ 35.0625 -1.21875 28.609375 -1.21875 \r\nQ 17.625 -1.21875 10.6875 6.859375 \r\nQ 3.765625 14.9375 3.765625 33.5 \r\nQ 3.765625 54.25 11.421875 63.671875 \r\nQ 18.109375 71.875 29.4375 71.875 \r\nQ 37.890625 71.875 43.28125 67.140625 \r\nQ 48.6875 62.40625 49.75 54.046875 \r\nz\r\nM 13.875 23.1875 \r\nQ 13.875 18.65625 15.796875 14.5 \r\nQ 17.71875 10.359375 21.1875 8.171875 \r\nQ 24.65625 6 28.46875 6 \r\nQ 34.03125 6 38.03125 10.484375 \r\nQ 42.046875 14.984375 42.046875 22.703125 \r\nQ 42.046875 30.125 38.078125 34.390625 \r\nQ 34.125 38.671875 28.125 38.671875 \r\nQ 22.171875 38.671875 18.015625 34.390625 \r\nQ 13.875 30.125 13.875 23.1875 \r\nz\r\n\" id=\"ArialMT-54\"/>\r\n     </defs>\r\n     <use xlink:href=\"#ArialMT-45\"/>\r\n     <use x=\"33.300781\" xlink:href=\"#ArialMT-48\"/>\r\n     <use x=\"88.916016\" xlink:href=\"#ArialMT-46\"/>\r\n     <use x=\"116.699219\" xlink:href=\"#ArialMT-48\"/>\r\n     <use x=\"172.314453\" xlink:href=\"#ArialMT-48\"/>\r\n     <use x=\"227.929688\" xlink:href=\"#ArialMT-51\"/>\r\n     <use x=\"283.544922\" xlink:href=\"#ArialMT-54\"/>\r\n    </g>\r\n   </g>\r\n   <g id=\"text_37\">\r\n    <!-- 0.18 -->\r\n    <g style=\"fill:#262626;\" transform=\"translate(137.652344 145.320781)scale(0.1 -0.1)\">\r\n     <use xlink:href=\"#ArialMT-48\"/>\r\n     <use x=\"55.615234\" xlink:href=\"#ArialMT-46\"/>\r\n     <use x=\"83.398438\" xlink:href=\"#ArialMT-49\"/>\r\n     <use x=\"139.013672\" xlink:href=\"#ArialMT-56\"/>\r\n    </g>\r\n   </g>\r\n   <g id=\"text_38\">\r\n    <!-- 0.014 -->\r\n    <g style=\"fill:#262626;\" transform=\"translate(184.471875 145.320781)scale(0.1 -0.1)\">\r\n     <use xlink:href=\"#ArialMT-48\"/>\r\n     <use x=\"55.615234\" xlink:href=\"#ArialMT-46\"/>\r\n     <use x=\"83.398438\" xlink:href=\"#ArialMT-48\"/>\r\n     <use x=\"139.013672\" xlink:href=\"#ArialMT-49\"/>\r\n     <use x=\"194.628906\" xlink:href=\"#ArialMT-52\"/>\r\n    </g>\r\n   </g>\r\n   <g id=\"text_39\">\r\n    <!-- 1 -->\r\n    <g style=\"fill:#ffffff;\" transform=\"translate(243.802344 145.320781)scale(0.1 -0.1)\">\r\n     <use xlink:href=\"#ArialMT-49\"/>\r\n    </g>\r\n   </g>\r\n   <g id=\"text_40\">\r\n    <!-- -0.71 -->\r\n    <g style=\"fill:#ffffff;\" transform=\"translate(284.7875 145.320781)scale(0.1 -0.1)\">\r\n     <use xlink:href=\"#ArialMT-45\"/>\r\n     <use x=\"33.300781\" xlink:href=\"#ArialMT-48\"/>\r\n     <use x=\"88.916016\" xlink:href=\"#ArialMT-46\"/>\r\n     <use x=\"116.699219\" xlink:href=\"#ArialMT-55\"/>\r\n     <use x=\"172.314453\" xlink:href=\"#ArialMT-49\"/>\r\n    </g>\r\n   </g>\r\n   <g id=\"text_41\">\r\n    <!-- -0.16 -->\r\n    <g style=\"fill:#262626;\" transform=\"translate(334.3875 145.320781)scale(0.1 -0.1)\">\r\n     <use xlink:href=\"#ArialMT-45\"/>\r\n     <use x=\"33.300781\" xlink:href=\"#ArialMT-48\"/>\r\n     <use x=\"88.916016\" xlink:href=\"#ArialMT-46\"/>\r\n     <use x=\"116.699219\" xlink:href=\"#ArialMT-49\"/>\r\n     <use x=\"172.314453\" xlink:href=\"#ArialMT-54\"/>\r\n    </g>\r\n   </g>\r\n   <g id=\"text_42\">\r\n    <!-- -0.36 -->\r\n    <g style=\"fill:#ffffff;\" transform=\"translate(383.9875 145.320781)scale(0.1 -0.1)\">\r\n     <use xlink:href=\"#ArialMT-45\"/>\r\n     <use x=\"33.300781\" xlink:href=\"#ArialMT-48\"/>\r\n     <use x=\"88.916016\" xlink:href=\"#ArialMT-46\"/>\r\n     <use x=\"116.699219\" xlink:href=\"#ArialMT-51\"/>\r\n     <use x=\"172.314453\" xlink:href=\"#ArialMT-54\"/>\r\n    </g>\r\n   </g>\r\n   <g id=\"text_43\">\r\n    <!-- -0.22 -->\r\n    <g style=\"fill:#262626;\" transform=\"translate(433.5875 145.320781)scale(0.1 -0.1)\">\r\n     <use xlink:href=\"#ArialMT-45\"/>\r\n     <use x=\"33.300781\" xlink:href=\"#ArialMT-48\"/>\r\n     <use x=\"88.916016\" xlink:href=\"#ArialMT-46\"/>\r\n     <use x=\"116.699219\" xlink:href=\"#ArialMT-50\"/>\r\n     <use x=\"172.314453\" xlink:href=\"#ArialMT-50\"/>\r\n    </g>\r\n   </g>\r\n   <g id=\"text_44\">\r\n    <!-- 0.34 -->\r\n    <g style=\"fill:#262626;\" transform=\"translate(484.852344 145.320781)scale(0.1 -0.1)\">\r\n     <use xlink:href=\"#ArialMT-48\"/>\r\n     <use x=\"55.615234\" xlink:href=\"#ArialMT-46\"/>\r\n     <use x=\"83.398438\" xlink:href=\"#ArialMT-51\"/>\r\n     <use x=\"139.013672\" xlink:href=\"#ArialMT-52\"/>\r\n    </g>\r\n   </g>\r\n   <g id=\"text_45\">\r\n    <!-- -0.35 -->\r\n    <g style=\"fill:#ffffff;\" transform=\"translate(532.7875 145.320781)scale(0.1 -0.1)\">\r\n     <use xlink:href=\"#ArialMT-45\"/>\r\n     <use x=\"33.300781\" xlink:href=\"#ArialMT-48\"/>\r\n     <use x=\"88.916016\" xlink:href=\"#ArialMT-46\"/>\r\n     <use x=\"116.699219\" xlink:href=\"#ArialMT-51\"/>\r\n     <use x=\"172.314453\" xlink:href=\"#ArialMT-53\"/>\r\n    </g>\r\n   </g>\r\n   <g id=\"text_46\">\r\n    <!-- -0.099 -->\r\n    <g style=\"fill:#262626;\" transform=\"translate(133.207031 193.640781)scale(0.1 -0.1)\">\r\n     <use xlink:href=\"#ArialMT-45\"/>\r\n     <use x=\"33.300781\" xlink:href=\"#ArialMT-48\"/>\r\n     <use x=\"88.916016\" xlink:href=\"#ArialMT-46\"/>\r\n     <use x=\"116.699219\" xlink:href=\"#ArialMT-48\"/>\r\n     <use x=\"172.314453\" xlink:href=\"#ArialMT-57\"/>\r\n     <use x=\"227.929688\" xlink:href=\"#ArialMT-57\"/>\r\n    </g>\r\n   </g>\r\n   <g id=\"text_47\">\r\n    <!-- -0.0079 -->\r\n    <g style=\"fill:#262626;\" transform=\"translate(180.026563 193.640781)scale(0.1 -0.1)\">\r\n     <use xlink:href=\"#ArialMT-45\"/>\r\n     <use x=\"33.300781\" xlink:href=\"#ArialMT-48\"/>\r\n     <use x=\"88.916016\" xlink:href=\"#ArialMT-46\"/>\r\n     <use x=\"116.699219\" xlink:href=\"#ArialMT-48\"/>\r\n     <use x=\"172.314453\" xlink:href=\"#ArialMT-48\"/>\r\n     <use x=\"227.929688\" xlink:href=\"#ArialMT-55\"/>\r\n     <use x=\"283.544922\" xlink:href=\"#ArialMT-57\"/>\r\n    </g>\r\n   </g>\r\n   <g id=\"text_48\">\r\n    <!-- -0.71 -->\r\n    <g style=\"fill:#ffffff;\" transform=\"translate(235.1875 193.640781)scale(0.1 -0.1)\">\r\n     <use xlink:href=\"#ArialMT-45\"/>\r\n     <use x=\"33.300781\" xlink:href=\"#ArialMT-48\"/>\r\n     <use x=\"88.916016\" xlink:href=\"#ArialMT-46\"/>\r\n     <use x=\"116.699219\" xlink:href=\"#ArialMT-55\"/>\r\n     <use x=\"172.314453\" xlink:href=\"#ArialMT-49\"/>\r\n    </g>\r\n   </g>\r\n   <g id=\"text_49\">\r\n    <!-- 1 -->\r\n    <g style=\"fill:#ffffff;\" transform=\"translate(293.402344 193.640781)scale(0.1 -0.1)\">\r\n     <use xlink:href=\"#ArialMT-49\"/>\r\n    </g>\r\n   </g>\r\n   <g id=\"text_50\">\r\n    <!-- -0.13 -->\r\n    <g style=\"fill:#262626;\" transform=\"translate(334.3875 193.640781)scale(0.1 -0.1)\">\r\n     <use xlink:href=\"#ArialMT-45\"/>\r\n     <use x=\"33.300781\" xlink:href=\"#ArialMT-48\"/>\r\n     <use x=\"88.916016\" xlink:href=\"#ArialMT-46\"/>\r\n     <use x=\"116.699219\" xlink:href=\"#ArialMT-49\"/>\r\n     <use x=\"172.314453\" xlink:href=\"#ArialMT-51\"/>\r\n    </g>\r\n   </g>\r\n   <g id=\"text_51\">\r\n    <!-- -0.13 -->\r\n    <g style=\"fill:#262626;\" transform=\"translate(383.9875 193.640781)scale(0.1 -0.1)\">\r\n     <use xlink:href=\"#ArialMT-45\"/>\r\n     <use x=\"33.300781\" xlink:href=\"#ArialMT-48\"/>\r\n     <use x=\"88.916016\" xlink:href=\"#ArialMT-46\"/>\r\n     <use x=\"116.699219\" xlink:href=\"#ArialMT-49\"/>\r\n     <use x=\"172.314453\" xlink:href=\"#ArialMT-51\"/>\r\n    </g>\r\n   </g>\r\n   <g id=\"text_52\">\r\n    <!-- -0.23 -->\r\n    <g style=\"fill:#262626;\" transform=\"translate(433.5875 193.640781)scale(0.1 -0.1)\">\r\n     <use xlink:href=\"#ArialMT-45\"/>\r\n     <use x=\"33.300781\" xlink:href=\"#ArialMT-48\"/>\r\n     <use x=\"88.916016\" xlink:href=\"#ArialMT-46\"/>\r\n     <use x=\"116.699219\" xlink:href=\"#ArialMT-50\"/>\r\n     <use x=\"172.314453\" xlink:href=\"#ArialMT-51\"/>\r\n    </g>\r\n   </g>\r\n   <g id=\"text_53\">\r\n    <!-- -0.094 -->\r\n    <g style=\"fill:#262626;\" transform=\"translate(480.407031 193.640781)scale(0.1 -0.1)\">\r\n     <use xlink:href=\"#ArialMT-45\"/>\r\n     <use x=\"33.300781\" xlink:href=\"#ArialMT-48\"/>\r\n     <use x=\"88.916016\" xlink:href=\"#ArialMT-46\"/>\r\n     <use x=\"116.699219\" xlink:href=\"#ArialMT-48\"/>\r\n     <use x=\"172.314453\" xlink:href=\"#ArialMT-57\"/>\r\n     <use x=\"227.929688\" xlink:href=\"#ArialMT-52\"/>\r\n    </g>\r\n   </g>\r\n   <g id=\"text_54\">\r\n    <!-- 0.38 -->\r\n    <g style=\"fill:#262626;\" transform=\"translate(534.452344 193.640781)scale(0.1 -0.1)\">\r\n     <use xlink:href=\"#ArialMT-48\"/>\r\n     <use x=\"55.615234\" xlink:href=\"#ArialMT-46\"/>\r\n     <use x=\"83.398438\" xlink:href=\"#ArialMT-51\"/>\r\n     <use x=\"139.013672\" xlink:href=\"#ArialMT-56\"/>\r\n    </g>\r\n   </g>\r\n   <g id=\"text_55\">\r\n    <!-- -0.032 -->\r\n    <g style=\"fill:#262626;\" transform=\"translate(133.207031 241.960781)scale(0.1 -0.1)\">\r\n     <use xlink:href=\"#ArialMT-45\"/>\r\n     <use x=\"33.300781\" xlink:href=\"#ArialMT-48\"/>\r\n     <use x=\"88.916016\" xlink:href=\"#ArialMT-46\"/>\r\n     <use x=\"116.699219\" xlink:href=\"#ArialMT-48\"/>\r\n     <use x=\"172.314453\" xlink:href=\"#ArialMT-51\"/>\r\n     <use x=\"227.929688\" xlink:href=\"#ArialMT-50\"/>\r\n    </g>\r\n   </g>\r\n   <g id=\"text_56\">\r\n    <!-- 0.035 -->\r\n    <g style=\"fill:#262626;\" transform=\"translate(184.471875 241.960781)scale(0.1 -0.1)\">\r\n     <use xlink:href=\"#ArialMT-48\"/>\r\n     <use x=\"55.615234\" xlink:href=\"#ArialMT-46\"/>\r\n     <use x=\"83.398438\" xlink:href=\"#ArialMT-48\"/>\r\n     <use x=\"139.013672\" xlink:href=\"#ArialMT-51\"/>\r\n     <use x=\"194.628906\" xlink:href=\"#ArialMT-53\"/>\r\n    </g>\r\n   </g>\r\n   <g id=\"text_57\">\r\n    <!-- -0.16 -->\r\n    <g style=\"fill:#262626;\" transform=\"translate(235.1875 241.960781)scale(0.1 -0.1)\">\r\n     <use xlink:href=\"#ArialMT-45\"/>\r\n     <use x=\"33.300781\" xlink:href=\"#ArialMT-48\"/>\r\n     <use x=\"88.916016\" xlink:href=\"#ArialMT-46\"/>\r\n     <use x=\"116.699219\" xlink:href=\"#ArialMT-49\"/>\r\n     <use x=\"172.314453\" xlink:href=\"#ArialMT-54\"/>\r\n    </g>\r\n   </g>\r\n   <g id=\"text_58\">\r\n    <!-- -0.13 -->\r\n    <g style=\"fill:#262626;\" transform=\"translate(284.7875 241.960781)scale(0.1 -0.1)\">\r\n     <use xlink:href=\"#ArialMT-45\"/>\r\n     <use x=\"33.300781\" xlink:href=\"#ArialMT-48\"/>\r\n     <use x=\"88.916016\" xlink:href=\"#ArialMT-46\"/>\r\n     <use x=\"116.699219\" xlink:href=\"#ArialMT-49\"/>\r\n     <use x=\"172.314453\" xlink:href=\"#ArialMT-51\"/>\r\n    </g>\r\n   </g>\r\n   <g id=\"text_59\">\r\n    <!-- 1 -->\r\n    <g style=\"fill:#ffffff;\" transform=\"translate(343.002344 241.960781)scale(0.1 -0.1)\">\r\n     <use xlink:href=\"#ArialMT-49\"/>\r\n    </g>\r\n   </g>\r\n   <g id=\"text_60\">\r\n    <!-- -0.067 -->\r\n    <g style=\"fill:#262626;\" transform=\"translate(381.207031 241.960781)scale(0.1 -0.1)\">\r\n     <use xlink:href=\"#ArialMT-45\"/>\r\n     <use x=\"33.300781\" xlink:href=\"#ArialMT-48\"/>\r\n     <use x=\"88.916016\" xlink:href=\"#ArialMT-46\"/>\r\n     <use x=\"116.699219\" xlink:href=\"#ArialMT-48\"/>\r\n     <use x=\"172.314453\" xlink:href=\"#ArialMT-54\"/>\r\n     <use x=\"227.929688\" xlink:href=\"#ArialMT-55\"/>\r\n    </g>\r\n   </g>\r\n   <g id=\"text_61\">\r\n    <!-- -0.039 -->\r\n    <g style=\"fill:#262626;\" transform=\"translate(430.807031 241.960781)scale(0.1 -0.1)\">\r\n     <use xlink:href=\"#ArialMT-45\"/>\r\n     <use x=\"33.300781\" xlink:href=\"#ArialMT-48\"/>\r\n     <use x=\"88.916016\" xlink:href=\"#ArialMT-46\"/>\r\n     <use x=\"116.699219\" xlink:href=\"#ArialMT-48\"/>\r\n     <use x=\"172.314453\" xlink:href=\"#ArialMT-51\"/>\r\n     <use x=\"227.929688\" xlink:href=\"#ArialMT-57\"/>\r\n    </g>\r\n   </g>\r\n   <g id=\"text_62\">\r\n    <!-- -0.033 -->\r\n    <g style=\"fill:#262626;\" transform=\"translate(480.407031 241.960781)scale(0.1 -0.1)\">\r\n     <use xlink:href=\"#ArialMT-45\"/>\r\n     <use x=\"33.300781\" xlink:href=\"#ArialMT-48\"/>\r\n     <use x=\"88.916016\" xlink:href=\"#ArialMT-46\"/>\r\n     <use x=\"116.699219\" xlink:href=\"#ArialMT-48\"/>\r\n     <use x=\"172.314453\" xlink:href=\"#ArialMT-51\"/>\r\n     <use x=\"227.929688\" xlink:href=\"#ArialMT-51\"/>\r\n    </g>\r\n   </g>\r\n   <g id=\"text_63\">\r\n    <!-- 0.089 -->\r\n    <g style=\"fill:#262626;\" transform=\"translate(531.671875 241.960781)scale(0.1 -0.1)\">\r\n     <use xlink:href=\"#ArialMT-48\"/>\r\n     <use x=\"55.615234\" xlink:href=\"#ArialMT-46\"/>\r\n     <use x=\"83.398438\" xlink:href=\"#ArialMT-48\"/>\r\n     <use x=\"139.013672\" xlink:href=\"#ArialMT-56\"/>\r\n     <use x=\"194.628906\" xlink:href=\"#ArialMT-57\"/>\r\n    </g>\r\n   </g>\r\n   <g id=\"text_64\">\r\n    <!-- -0.09 -->\r\n    <g style=\"fill:#262626;\" transform=\"translate(135.9875 290.280781)scale(0.1 -0.1)\">\r\n     <use xlink:href=\"#ArialMT-45\"/>\r\n     <use x=\"33.300781\" xlink:href=\"#ArialMT-48\"/>\r\n     <use x=\"88.916016\" xlink:href=\"#ArialMT-46\"/>\r\n     <use x=\"116.699219\" xlink:href=\"#ArialMT-48\"/>\r\n     <use x=\"172.314453\" xlink:href=\"#ArialMT-57\"/>\r\n    </g>\r\n   </g>\r\n   <g id=\"text_65\">\r\n    <!-- -0.0057 -->\r\n    <g style=\"fill:#262626;\" transform=\"translate(180.026563 290.280781)scale(0.1 -0.1)\">\r\n     <use xlink:href=\"#ArialMT-45\"/>\r\n     <use x=\"33.300781\" xlink:href=\"#ArialMT-48\"/>\r\n     <use x=\"88.916016\" xlink:href=\"#ArialMT-46\"/>\r\n     <use x=\"116.699219\" xlink:href=\"#ArialMT-48\"/>\r\n     <use x=\"172.314453\" xlink:href=\"#ArialMT-48\"/>\r\n     <use x=\"227.929688\" xlink:href=\"#ArialMT-53\"/>\r\n     <use x=\"283.544922\" xlink:href=\"#ArialMT-55\"/>\r\n    </g>\r\n   </g>\r\n   <g id=\"text_66\">\r\n    <!-- -0.36 -->\r\n    <g style=\"fill:#ffffff;\" transform=\"translate(235.1875 290.280781)scale(0.1 -0.1)\">\r\n     <use xlink:href=\"#ArialMT-45\"/>\r\n     <use x=\"33.300781\" xlink:href=\"#ArialMT-48\"/>\r\n     <use x=\"88.916016\" xlink:href=\"#ArialMT-46\"/>\r\n     <use x=\"116.699219\" xlink:href=\"#ArialMT-51\"/>\r\n     <use x=\"172.314453\" xlink:href=\"#ArialMT-54\"/>\r\n    </g>\r\n   </g>\r\n   <g id=\"text_67\">\r\n    <!-- -0.13 -->\r\n    <g style=\"fill:#262626;\" transform=\"translate(284.7875 290.280781)scale(0.1 -0.1)\">\r\n     <use xlink:href=\"#ArialMT-45\"/>\r\n     <use x=\"33.300781\" xlink:href=\"#ArialMT-48\"/>\r\n     <use x=\"88.916016\" xlink:href=\"#ArialMT-46\"/>\r\n     <use x=\"116.699219\" xlink:href=\"#ArialMT-49\"/>\r\n     <use x=\"172.314453\" xlink:href=\"#ArialMT-51\"/>\r\n    </g>\r\n   </g>\r\n   <g id=\"text_68\">\r\n    <!-- -0.067 -->\r\n    <g style=\"fill:#262626;\" transform=\"translate(331.607031 290.280781)scale(0.1 -0.1)\">\r\n     <use xlink:href=\"#ArialMT-45\"/>\r\n     <use x=\"33.300781\" xlink:href=\"#ArialMT-48\"/>\r\n     <use x=\"88.916016\" xlink:href=\"#ArialMT-46\"/>\r\n     <use x=\"116.699219\" xlink:href=\"#ArialMT-48\"/>\r\n     <use x=\"172.314453\" xlink:href=\"#ArialMT-54\"/>\r\n     <use x=\"227.929688\" xlink:href=\"#ArialMT-55\"/>\r\n    </g>\r\n   </g>\r\n   <g id=\"text_69\">\r\n    <!-- 1 -->\r\n    <g style=\"fill:#ffffff;\" transform=\"translate(392.602344 290.280781)scale(0.1 -0.1)\">\r\n     <use xlink:href=\"#ArialMT-49\"/>\r\n    </g>\r\n   </g>\r\n   <g id=\"text_70\">\r\n    <!-- 0.15 -->\r\n    <g style=\"fill:#262626;\" transform=\"translate(435.252344 290.280781)scale(0.1 -0.1)\">\r\n     <use xlink:href=\"#ArialMT-48\"/>\r\n     <use x=\"55.615234\" xlink:href=\"#ArialMT-46\"/>\r\n     <use x=\"83.398438\" xlink:href=\"#ArialMT-49\"/>\r\n     <use x=\"139.013672\" xlink:href=\"#ArialMT-53\"/>\r\n    </g>\r\n   </g>\r\n   <g id=\"text_71\">\r\n    <!-- 0.044 -->\r\n    <g style=\"fill:#262626;\" transform=\"translate(482.071875 290.280781)scale(0.1 -0.1)\">\r\n     <use xlink:href=\"#ArialMT-48\"/>\r\n     <use x=\"55.615234\" xlink:href=\"#ArialMT-46\"/>\r\n     <use x=\"83.398438\" xlink:href=\"#ArialMT-48\"/>\r\n     <use x=\"139.013672\" xlink:href=\"#ArialMT-52\"/>\r\n     <use x=\"194.628906\" xlink:href=\"#ArialMT-52\"/>\r\n    </g>\r\n   </g>\r\n   <g id=\"text_72\">\r\n    <!-- -0.22 -->\r\n    <g style=\"fill:#262626;\" transform=\"translate(532.7875 290.280781)scale(0.1 -0.1)\">\r\n     <use xlink:href=\"#ArialMT-45\"/>\r\n     <use x=\"33.300781\" xlink:href=\"#ArialMT-48\"/>\r\n     <use x=\"88.916016\" xlink:href=\"#ArialMT-46\"/>\r\n     <use x=\"116.699219\" xlink:href=\"#ArialMT-50\"/>\r\n     <use x=\"172.314453\" xlink:href=\"#ArialMT-50\"/>\r\n    </g>\r\n   </g>\r\n   <g id=\"text_73\">\r\n    <!-- -0.093 -->\r\n    <g style=\"fill:#262626;\" transform=\"translate(133.207031 338.600781)scale(0.1 -0.1)\">\r\n     <use xlink:href=\"#ArialMT-45\"/>\r\n     <use x=\"33.300781\" xlink:href=\"#ArialMT-48\"/>\r\n     <use x=\"88.916016\" xlink:href=\"#ArialMT-46\"/>\r\n     <use x=\"116.699219\" xlink:href=\"#ArialMT-48\"/>\r\n     <use x=\"172.314453\" xlink:href=\"#ArialMT-57\"/>\r\n     <use x=\"227.929688\" xlink:href=\"#ArialMT-51\"/>\r\n    </g>\r\n   </g>\r\n   <g id=\"text_74\">\r\n    <!-- -0.078 -->\r\n    <g style=\"fill:#262626;\" transform=\"translate(182.807031 338.600781)scale(0.1 -0.1)\">\r\n     <use xlink:href=\"#ArialMT-45\"/>\r\n     <use x=\"33.300781\" xlink:href=\"#ArialMT-48\"/>\r\n     <use x=\"88.916016\" xlink:href=\"#ArialMT-46\"/>\r\n     <use x=\"116.699219\" xlink:href=\"#ArialMT-48\"/>\r\n     <use x=\"172.314453\" xlink:href=\"#ArialMT-55\"/>\r\n     <use x=\"227.929688\" xlink:href=\"#ArialMT-56\"/>\r\n    </g>\r\n   </g>\r\n   <g id=\"text_75\">\r\n    <!-- -0.22 -->\r\n    <g style=\"fill:#262626;\" transform=\"translate(235.1875 338.600781)scale(0.1 -0.1)\">\r\n     <use xlink:href=\"#ArialMT-45\"/>\r\n     <use x=\"33.300781\" xlink:href=\"#ArialMT-48\"/>\r\n     <use x=\"88.916016\" xlink:href=\"#ArialMT-46\"/>\r\n     <use x=\"116.699219\" xlink:href=\"#ArialMT-50\"/>\r\n     <use x=\"172.314453\" xlink:href=\"#ArialMT-50\"/>\r\n    </g>\r\n   </g>\r\n   <g id=\"text_76\">\r\n    <!-- -0.23 -->\r\n    <g style=\"fill:#262626;\" transform=\"translate(284.7875 338.600781)scale(0.1 -0.1)\">\r\n     <use xlink:href=\"#ArialMT-45\"/>\r\n     <use x=\"33.300781\" xlink:href=\"#ArialMT-48\"/>\r\n     <use x=\"88.916016\" xlink:href=\"#ArialMT-46\"/>\r\n     <use x=\"116.699219\" xlink:href=\"#ArialMT-50\"/>\r\n     <use x=\"172.314453\" xlink:href=\"#ArialMT-51\"/>\r\n    </g>\r\n   </g>\r\n   <g id=\"text_77\">\r\n    <!-- -0.039 -->\r\n    <g style=\"fill:#262626;\" transform=\"translate(331.607031 338.600781)scale(0.1 -0.1)\">\r\n     <use xlink:href=\"#ArialMT-45\"/>\r\n     <use x=\"33.300781\" xlink:href=\"#ArialMT-48\"/>\r\n     <use x=\"88.916016\" xlink:href=\"#ArialMT-46\"/>\r\n     <use x=\"116.699219\" xlink:href=\"#ArialMT-48\"/>\r\n     <use x=\"172.314453\" xlink:href=\"#ArialMT-51\"/>\r\n     <use x=\"227.929688\" xlink:href=\"#ArialMT-57\"/>\r\n    </g>\r\n   </g>\r\n   <g id=\"text_78\">\r\n    <!-- 0.15 -->\r\n    <g style=\"fill:#262626;\" transform=\"translate(385.652344 338.600781)scale(0.1 -0.1)\">\r\n     <use xlink:href=\"#ArialMT-48\"/>\r\n     <use x=\"55.615234\" xlink:href=\"#ArialMT-46\"/>\r\n     <use x=\"83.398438\" xlink:href=\"#ArialMT-49\"/>\r\n     <use x=\"139.013672\" xlink:href=\"#ArialMT-53\"/>\r\n    </g>\r\n   </g>\r\n   <g id=\"text_79\">\r\n    <!-- 1 -->\r\n    <g style=\"fill:#ffffff;\" transform=\"translate(442.202344 338.600781)scale(0.1 -0.1)\">\r\n     <use xlink:href=\"#ArialMT-49\"/>\r\n    </g>\r\n   </g>\r\n   <g id=\"text_80\">\r\n    <!-- -0.63 -->\r\n    <g style=\"fill:#ffffff;\" transform=\"translate(483.1875 338.600781)scale(0.1 -0.1)\">\r\n     <use xlink:href=\"#ArialMT-45\"/>\r\n     <use x=\"33.300781\" xlink:href=\"#ArialMT-48\"/>\r\n     <use x=\"88.916016\" xlink:href=\"#ArialMT-46\"/>\r\n     <use x=\"116.699219\" xlink:href=\"#ArialMT-54\"/>\r\n     <use x=\"172.314453\" xlink:href=\"#ArialMT-51\"/>\r\n    </g>\r\n   </g>\r\n   <g id=\"text_81\">\r\n    <!-- 0.14 -->\r\n    <g style=\"fill:#262626;\" transform=\"translate(534.452344 338.600781)scale(0.1 -0.1)\">\r\n     <use xlink:href=\"#ArialMT-48\"/>\r\n     <use x=\"55.615234\" xlink:href=\"#ArialMT-46\"/>\r\n     <use x=\"83.398438\" xlink:href=\"#ArialMT-49\"/>\r\n     <use x=\"139.013672\" xlink:href=\"#ArialMT-52\"/>\r\n    </g>\r\n   </g>\r\n   <g id=\"text_82\">\r\n    <!-- 0.034 -->\r\n    <g style=\"fill:#262626;\" transform=\"translate(134.871875 386.920781)scale(0.1 -0.1)\">\r\n     <use xlink:href=\"#ArialMT-48\"/>\r\n     <use x=\"55.615234\" xlink:href=\"#ArialMT-46\"/>\r\n     <use x=\"83.398438\" xlink:href=\"#ArialMT-48\"/>\r\n     <use x=\"139.013672\" xlink:href=\"#ArialMT-51\"/>\r\n     <use x=\"194.628906\" xlink:href=\"#ArialMT-52\"/>\r\n    </g>\r\n   </g>\r\n   <g id=\"text_83\">\r\n    <!-- 0.042 -->\r\n    <g style=\"fill:#262626;\" transform=\"translate(184.471875 386.920781)scale(0.1 -0.1)\">\r\n     <use xlink:href=\"#ArialMT-48\"/>\r\n     <use x=\"55.615234\" xlink:href=\"#ArialMT-46\"/>\r\n     <use x=\"83.398438\" xlink:href=\"#ArialMT-48\"/>\r\n     <use x=\"139.013672\" xlink:href=\"#ArialMT-52\"/>\r\n     <use x=\"194.628906\" xlink:href=\"#ArialMT-50\"/>\r\n    </g>\r\n   </g>\r\n   <g id=\"text_84\">\r\n    <!-- 0.34 -->\r\n    <g style=\"fill:#262626;\" transform=\"translate(236.852344 386.920781)scale(0.1 -0.1)\">\r\n     <use xlink:href=\"#ArialMT-48\"/>\r\n     <use x=\"55.615234\" xlink:href=\"#ArialMT-46\"/>\r\n     <use x=\"83.398438\" xlink:href=\"#ArialMT-51\"/>\r\n     <use x=\"139.013672\" xlink:href=\"#ArialMT-52\"/>\r\n    </g>\r\n   </g>\r\n   <g id=\"text_85\">\r\n    <!-- -0.094 -->\r\n    <g style=\"fill:#262626;\" transform=\"translate(282.007031 386.920781)scale(0.1 -0.1)\">\r\n     <use xlink:href=\"#ArialMT-45\"/>\r\n     <use x=\"33.300781\" xlink:href=\"#ArialMT-48\"/>\r\n     <use x=\"88.916016\" xlink:href=\"#ArialMT-46\"/>\r\n     <use x=\"116.699219\" xlink:href=\"#ArialMT-48\"/>\r\n     <use x=\"172.314453\" xlink:href=\"#ArialMT-57\"/>\r\n     <use x=\"227.929688\" xlink:href=\"#ArialMT-52\"/>\r\n    </g>\r\n   </g>\r\n   <g id=\"text_86\">\r\n    <!-- -0.033 -->\r\n    <g style=\"fill:#262626;\" transform=\"translate(331.607031 386.920781)scale(0.1 -0.1)\">\r\n     <use xlink:href=\"#ArialMT-45\"/>\r\n     <use x=\"33.300781\" xlink:href=\"#ArialMT-48\"/>\r\n     <use x=\"88.916016\" xlink:href=\"#ArialMT-46\"/>\r\n     <use x=\"116.699219\" xlink:href=\"#ArialMT-48\"/>\r\n     <use x=\"172.314453\" xlink:href=\"#ArialMT-51\"/>\r\n     <use x=\"227.929688\" xlink:href=\"#ArialMT-51\"/>\r\n    </g>\r\n   </g>\r\n   <g id=\"text_87\">\r\n    <!-- 0.044 -->\r\n    <g style=\"fill:#262626;\" transform=\"translate(382.871875 386.920781)scale(0.1 -0.1)\">\r\n     <use xlink:href=\"#ArialMT-48\"/>\r\n     <use x=\"55.615234\" xlink:href=\"#ArialMT-46\"/>\r\n     <use x=\"83.398438\" xlink:href=\"#ArialMT-48\"/>\r\n     <use x=\"139.013672\" xlink:href=\"#ArialMT-52\"/>\r\n     <use x=\"194.628906\" xlink:href=\"#ArialMT-52\"/>\r\n    </g>\r\n   </g>\r\n   <g id=\"text_88\">\r\n    <!-- -0.63 -->\r\n    <g style=\"fill:#ffffff;\" transform=\"translate(433.5875 386.920781)scale(0.1 -0.1)\">\r\n     <use xlink:href=\"#ArialMT-45\"/>\r\n     <use x=\"33.300781\" xlink:href=\"#ArialMT-48\"/>\r\n     <use x=\"88.916016\" xlink:href=\"#ArialMT-46\"/>\r\n     <use x=\"116.699219\" xlink:href=\"#ArialMT-54\"/>\r\n     <use x=\"172.314453\" xlink:href=\"#ArialMT-51\"/>\r\n    </g>\r\n   </g>\r\n   <g id=\"text_89\">\r\n    <!-- 1 -->\r\n    <g style=\"fill:#ffffff;\" transform=\"translate(491.802344 386.920781)scale(0.1 -0.1)\">\r\n     <use xlink:href=\"#ArialMT-49\"/>\r\n    </g>\r\n   </g>\r\n   <g id=\"text_90\">\r\n    <!-- -0.54 -->\r\n    <g style=\"fill:#ffffff;\" transform=\"translate(532.7875 386.920781)scale(0.1 -0.1)\">\r\n     <use xlink:href=\"#ArialMT-45\"/>\r\n     <use x=\"33.300781\" xlink:href=\"#ArialMT-48\"/>\r\n     <use x=\"88.916016\" xlink:href=\"#ArialMT-46\"/>\r\n     <use x=\"116.699219\" xlink:href=\"#ArialMT-53\"/>\r\n     <use x=\"172.314453\" xlink:href=\"#ArialMT-52\"/>\r\n    </g>\r\n   </g>\r\n   <g id=\"text_91\">\r\n    <!-- -0.057 -->\r\n    <g style=\"fill:#262626;\" transform=\"translate(133.207031 435.240781)scale(0.1 -0.1)\">\r\n     <use xlink:href=\"#ArialMT-45\"/>\r\n     <use x=\"33.300781\" xlink:href=\"#ArialMT-48\"/>\r\n     <use x=\"88.916016\" xlink:href=\"#ArialMT-46\"/>\r\n     <use x=\"116.699219\" xlink:href=\"#ArialMT-48\"/>\r\n     <use x=\"172.314453\" xlink:href=\"#ArialMT-53\"/>\r\n     <use x=\"227.929688\" xlink:href=\"#ArialMT-55\"/>\r\n    </g>\r\n   </g>\r\n   <g id=\"text_92\">\r\n    <!-- -0.0036 -->\r\n    <g style=\"fill:#262626;\" transform=\"translate(180.026563 435.240781)scale(0.1 -0.1)\">\r\n     <use xlink:href=\"#ArialMT-45\"/>\r\n     <use x=\"33.300781\" xlink:href=\"#ArialMT-48\"/>\r\n     <use x=\"88.916016\" xlink:href=\"#ArialMT-46\"/>\r\n     <use x=\"116.699219\" xlink:href=\"#ArialMT-48\"/>\r\n     <use x=\"172.314453\" xlink:href=\"#ArialMT-48\"/>\r\n     <use x=\"227.929688\" xlink:href=\"#ArialMT-51\"/>\r\n     <use x=\"283.544922\" xlink:href=\"#ArialMT-54\"/>\r\n    </g>\r\n   </g>\r\n   <g id=\"text_93\">\r\n    <!-- -0.35 -->\r\n    <g style=\"fill:#ffffff;\" transform=\"translate(235.1875 435.240781)scale(0.1 -0.1)\">\r\n     <use xlink:href=\"#ArialMT-45\"/>\r\n     <use x=\"33.300781\" xlink:href=\"#ArialMT-48\"/>\r\n     <use x=\"88.916016\" xlink:href=\"#ArialMT-46\"/>\r\n     <use x=\"116.699219\" xlink:href=\"#ArialMT-51\"/>\r\n     <use x=\"172.314453\" xlink:href=\"#ArialMT-53\"/>\r\n    </g>\r\n   </g>\r\n   <g id=\"text_94\">\r\n    <!-- 0.38 -->\r\n    <g style=\"fill:#262626;\" transform=\"translate(286.452344 435.240781)scale(0.1 -0.1)\">\r\n     <use xlink:href=\"#ArialMT-48\"/>\r\n     <use x=\"55.615234\" xlink:href=\"#ArialMT-46\"/>\r\n     <use x=\"83.398438\" xlink:href=\"#ArialMT-51\"/>\r\n     <use x=\"139.013672\" xlink:href=\"#ArialMT-56\"/>\r\n    </g>\r\n   </g>\r\n   <g id=\"text_95\">\r\n    <!-- 0.089 -->\r\n    <g style=\"fill:#262626;\" transform=\"translate(333.271875 435.240781)scale(0.1 -0.1)\">\r\n     <use xlink:href=\"#ArialMT-48\"/>\r\n     <use x=\"55.615234\" xlink:href=\"#ArialMT-46\"/>\r\n     <use x=\"83.398438\" xlink:href=\"#ArialMT-48\"/>\r\n     <use x=\"139.013672\" xlink:href=\"#ArialMT-56\"/>\r\n     <use x=\"194.628906\" xlink:href=\"#ArialMT-57\"/>\r\n    </g>\r\n   </g>\r\n   <g id=\"text_96\">\r\n    <!-- -0.22 -->\r\n    <g style=\"fill:#262626;\" transform=\"translate(383.9875 435.240781)scale(0.1 -0.1)\">\r\n     <use xlink:href=\"#ArialMT-45\"/>\r\n     <use x=\"33.300781\" xlink:href=\"#ArialMT-48\"/>\r\n     <use x=\"88.916016\" xlink:href=\"#ArialMT-46\"/>\r\n     <use x=\"116.699219\" xlink:href=\"#ArialMT-50\"/>\r\n     <use x=\"172.314453\" xlink:href=\"#ArialMT-50\"/>\r\n    </g>\r\n   </g>\r\n   <g id=\"text_97\">\r\n    <!-- 0.14 -->\r\n    <g style=\"fill:#262626;\" transform=\"translate(435.252344 435.240781)scale(0.1 -0.1)\">\r\n     <use xlink:href=\"#ArialMT-48\"/>\r\n     <use x=\"55.615234\" xlink:href=\"#ArialMT-46\"/>\r\n     <use x=\"83.398438\" xlink:href=\"#ArialMT-49\"/>\r\n     <use x=\"139.013672\" xlink:href=\"#ArialMT-52\"/>\r\n    </g>\r\n   </g>\r\n   <g id=\"text_98\">\r\n    <!-- -0.54 -->\r\n    <g style=\"fill:#ffffff;\" transform=\"translate(483.1875 435.240781)scale(0.1 -0.1)\">\r\n     <use xlink:href=\"#ArialMT-45\"/>\r\n     <use x=\"33.300781\" xlink:href=\"#ArialMT-48\"/>\r\n     <use x=\"88.916016\" xlink:href=\"#ArialMT-46\"/>\r\n     <use x=\"116.699219\" xlink:href=\"#ArialMT-53\"/>\r\n     <use x=\"172.314453\" xlink:href=\"#ArialMT-52\"/>\r\n    </g>\r\n   </g>\r\n   <g id=\"text_99\">\r\n    <!-- 1 -->\r\n    <g style=\"fill:#ffffff;\" transform=\"translate(541.402344 435.240781)scale(0.1 -0.1)\">\r\n     <use xlink:href=\"#ArialMT-49\"/>\r\n    </g>\r\n   </g>\r\n   <g id=\"text_100\">\r\n    <!-- Correlation Fatal Police Shooting in the USA -->\r\n    <g style=\"fill:#262626;\" transform=\"translate(227.725313 15.935625)scale(0.12 -0.12)\">\r\n     <defs>\r\n      <path id=\"ArialMT-32\"/>\r\n      <path d=\"M 8.203125 0 \r\nL 8.203125 71.578125 \r\nL 56.5 71.578125 \r\nL 56.5 63.140625 \r\nL 17.671875 63.140625 \r\nL 17.671875 40.96875 \r\nL 51.265625 40.96875 \r\nL 51.265625 32.515625 \r\nL 17.671875 32.515625 \r\nL 17.671875 0 \r\nz\r\n\" id=\"ArialMT-70\"/>\r\n      <path d=\"M 54.6875 71.578125 \r\nL 64.15625 71.578125 \r\nL 64.15625 30.21875 \r\nQ 64.15625 19.4375 61.71875 13.078125 \r\nQ 59.28125 6.734375 52.90625 2.75 \r\nQ 46.53125 -1.21875 36.1875 -1.21875 \r\nQ 26.125 -1.21875 19.71875 2.25 \r\nQ 13.328125 5.71875 10.59375 12.28125 \r\nQ 7.859375 18.84375 7.859375 30.21875 \r\nL 7.859375 71.578125 \r\nL 17.328125 71.578125 \r\nL 17.328125 30.28125 \r\nQ 17.328125 20.953125 19.0625 16.53125 \r\nQ 20.796875 12.109375 25.015625 9.71875 \r\nQ 29.25 7.328125 35.359375 7.328125 \r\nQ 45.796875 7.328125 50.234375 12.0625 \r\nQ 54.6875 16.796875 54.6875 30.28125 \r\nz\r\n\" id=\"ArialMT-85\"/>\r\n     </defs>\r\n     <use xlink:href=\"#ArialMT-67\"/>\r\n     <use x=\"72.216797\" xlink:href=\"#ArialMT-111\"/>\r\n     <use x=\"127.832031\" xlink:href=\"#ArialMT-114\"/>\r\n     <use x=\"161.132812\" xlink:href=\"#ArialMT-114\"/>\r\n     <use x=\"194.433594\" xlink:href=\"#ArialMT-101\"/>\r\n     <use x=\"250.048828\" xlink:href=\"#ArialMT-108\"/>\r\n     <use x=\"272.265625\" xlink:href=\"#ArialMT-97\"/>\r\n     <use x=\"327.880859\" xlink:href=\"#ArialMT-116\"/>\r\n     <use x=\"355.664062\" xlink:href=\"#ArialMT-105\"/>\r\n     <use x=\"377.880859\" xlink:href=\"#ArialMT-111\"/>\r\n     <use x=\"433.496094\" xlink:href=\"#ArialMT-110\"/>\r\n     <use x=\"489.111328\" xlink:href=\"#ArialMT-32\"/>\r\n     <use x=\"516.894531\" xlink:href=\"#ArialMT-70\"/>\r\n     <use x=\"577.978516\" xlink:href=\"#ArialMT-97\"/>\r\n     <use x=\"633.59375\" xlink:href=\"#ArialMT-116\"/>\r\n     <use x=\"661.376953\" xlink:href=\"#ArialMT-97\"/>\r\n     <use x=\"716.992188\" xlink:href=\"#ArialMT-108\"/>\r\n     <use x=\"739.208984\" xlink:href=\"#ArialMT-32\"/>\r\n     <use x=\"766.992188\" xlink:href=\"#ArialMT-80\"/>\r\n     <use x=\"833.691406\" xlink:href=\"#ArialMT-111\"/>\r\n     <use x=\"889.306641\" xlink:href=\"#ArialMT-108\"/>\r\n     <use x=\"911.523438\" xlink:href=\"#ArialMT-105\"/>\r\n     <use x=\"933.740234\" xlink:href=\"#ArialMT-99\"/>\r\n     <use x=\"983.740234\" xlink:href=\"#ArialMT-101\"/>\r\n     <use x=\"1039.355469\" xlink:href=\"#ArialMT-32\"/>\r\n     <use x=\"1067.138672\" xlink:href=\"#ArialMT-83\"/>\r\n     <use x=\"1133.837891\" xlink:href=\"#ArialMT-104\"/>\r\n     <use x=\"1189.453125\" xlink:href=\"#ArialMT-111\"/>\r\n     <use x=\"1245.068359\" xlink:href=\"#ArialMT-111\"/>\r\n     <use x=\"1300.683594\" xlink:href=\"#ArialMT-116\"/>\r\n     <use x=\"1328.466797\" xlink:href=\"#ArialMT-105\"/>\r\n     <use x=\"1350.683594\" xlink:href=\"#ArialMT-110\"/>\r\n     <use x=\"1406.298828\" xlink:href=\"#ArialMT-103\"/>\r\n     <use x=\"1461.914062\" xlink:href=\"#ArialMT-32\"/>\r\n     <use x=\"1489.697266\" xlink:href=\"#ArialMT-105\"/>\r\n     <use x=\"1511.914062\" xlink:href=\"#ArialMT-110\"/>\r\n     <use x=\"1567.529297\" xlink:href=\"#ArialMT-32\"/>\r\n     <use x=\"1595.3125\" xlink:href=\"#ArialMT-116\"/>\r\n     <use x=\"1623.095703\" xlink:href=\"#ArialMT-104\"/>\r\n     <use x=\"1678.710938\" xlink:href=\"#ArialMT-101\"/>\r\n     <use x=\"1734.326172\" xlink:href=\"#ArialMT-32\"/>\r\n     <use x=\"1762.109375\" xlink:href=\"#ArialMT-85\"/>\r\n     <use x=\"1834.326172\" xlink:href=\"#ArialMT-83\"/>\r\n     <use x=\"1901.025391\" xlink:href=\"#ArialMT-65\"/>\r\n    </g>\r\n   </g>\r\n  </g>\r\n  <g id=\"axes_2\">\r\n   <g id=\"patch_3\">\r\n    <path clip-path=\"url(#p5928f0d6b2)\" d=\"M 596.882813 456.815625 \r\nL 596.882813 455.116875 \r\nL 596.882813 23.634375 \r\nL 596.882813 21.935625 \r\nL 618.626813 21.935625 \r\nL 618.626813 23.634375 \r\nL 618.626813 455.116875 \r\nL 618.626813 456.815625 \r\nz\r\n\" style=\"fill:#ffffff;stroke:#ffffff;stroke-linejoin:miter;stroke-width:0.01;\"/>\r\n   </g>\r\n   <g id=\"matplotlib.axis_3\"/>\r\n   <g id=\"matplotlib.axis_4\">\r\n    <g id=\"ytick_10\">\r\n     <g id=\"line2d_1\">\r\n      <defs>\r\n       <path d=\"M 0 0 \r\nL 3.5 0 \r\n\" id=\"m7ee512e97a\" style=\"stroke:#262626;stroke-width:0.8;\"/>\r\n      </defs>\r\n      <g>\r\n       <use style=\"fill:#262626;stroke:#262626;stroke-width:0.8;\" x=\"618.626813\" xlink:href=\"#m7ee512e97a\" y=\"428.759066\"/>\r\n      </g>\r\n     </g>\r\n     <g id=\"text_101\">\r\n      <!-- −0.6 -->\r\n      <g style=\"fill:#262626;\" transform=\"translate(625.626813 432.337972)scale(0.1 -0.1)\">\r\n       <defs>\r\n        <path d=\"M 52.828125 31.203125 \r\nL 5.5625 31.203125 \r\nL 5.5625 39.40625 \r\nL 52.828125 39.40625 \r\nz\r\n\" id=\"ArialMT-8722\"/>\r\n       </defs>\r\n       <use xlink:href=\"#ArialMT-8722\"/>\r\n       <use x=\"58.398438\" xlink:href=\"#ArialMT-48\"/>\r\n       <use x=\"114.013672\" xlink:href=\"#ArialMT-46\"/>\r\n       <use x=\"141.796875\" xlink:href=\"#ArialMT-54\"/>\r\n      </g>\r\n     </g>\r\n    </g>\r\n    <g id=\"ytick_11\">\r\n     <g id=\"line2d_2\">\r\n      <g>\r\n       <use style=\"fill:#262626;stroke:#262626;stroke-width:0.8;\" x=\"618.626813\" xlink:href=\"#m7ee512e97a\" y=\"377.906136\"/>\r\n      </g>\r\n     </g>\r\n     <g id=\"text_102\">\r\n      <!-- −0.4 -->\r\n      <g style=\"fill:#262626;\" transform=\"translate(625.626813 381.485042)scale(0.1 -0.1)\">\r\n       <use xlink:href=\"#ArialMT-8722\"/>\r\n       <use x=\"58.398438\" xlink:href=\"#ArialMT-48\"/>\r\n       <use x=\"114.013672\" xlink:href=\"#ArialMT-46\"/>\r\n       <use x=\"141.796875\" xlink:href=\"#ArialMT-52\"/>\r\n      </g>\r\n     </g>\r\n    </g>\r\n    <g id=\"ytick_12\">\r\n     <g id=\"line2d_3\">\r\n      <g>\r\n       <use style=\"fill:#262626;stroke:#262626;stroke-width:0.8;\" x=\"618.626813\" xlink:href=\"#m7ee512e97a\" y=\"327.053206\"/>\r\n      </g>\r\n     </g>\r\n     <g id=\"text_103\">\r\n      <!-- −0.2 -->\r\n      <g style=\"fill:#262626;\" transform=\"translate(625.626813 330.632112)scale(0.1 -0.1)\">\r\n       <use xlink:href=\"#ArialMT-8722\"/>\r\n       <use x=\"58.398438\" xlink:href=\"#ArialMT-48\"/>\r\n       <use x=\"114.013672\" xlink:href=\"#ArialMT-46\"/>\r\n       <use x=\"141.796875\" xlink:href=\"#ArialMT-50\"/>\r\n      </g>\r\n     </g>\r\n    </g>\r\n    <g id=\"ytick_13\">\r\n     <g id=\"line2d_4\">\r\n      <g>\r\n       <use style=\"fill:#262626;stroke:#262626;stroke-width:0.8;\" x=\"618.626813\" xlink:href=\"#m7ee512e97a\" y=\"276.200276\"/>\r\n      </g>\r\n     </g>\r\n     <g id=\"text_104\">\r\n      <!-- 0.0 -->\r\n      <g style=\"fill:#262626;\" transform=\"translate(625.626813 279.779182)scale(0.1 -0.1)\">\r\n       <use xlink:href=\"#ArialMT-48\"/>\r\n       <use x=\"55.615234\" xlink:href=\"#ArialMT-46\"/>\r\n       <use x=\"83.398438\" xlink:href=\"#ArialMT-48\"/>\r\n      </g>\r\n     </g>\r\n    </g>\r\n    <g id=\"ytick_14\">\r\n     <g id=\"line2d_5\">\r\n      <g>\r\n       <use style=\"fill:#262626;stroke:#262626;stroke-width:0.8;\" x=\"618.626813\" xlink:href=\"#m7ee512e97a\" y=\"225.347345\"/>\r\n      </g>\r\n     </g>\r\n     <g id=\"text_105\">\r\n      <!-- 0.2 -->\r\n      <g style=\"fill:#262626;\" transform=\"translate(625.626813 228.926252)scale(0.1 -0.1)\">\r\n       <use xlink:href=\"#ArialMT-48\"/>\r\n       <use x=\"55.615234\" xlink:href=\"#ArialMT-46\"/>\r\n       <use x=\"83.398438\" xlink:href=\"#ArialMT-50\"/>\r\n      </g>\r\n     </g>\r\n    </g>\r\n    <g id=\"ytick_15\">\r\n     <g id=\"line2d_6\">\r\n      <g>\r\n       <use style=\"fill:#262626;stroke:#262626;stroke-width:0.8;\" x=\"618.626813\" xlink:href=\"#m7ee512e97a\" y=\"174.494415\"/>\r\n      </g>\r\n     </g>\r\n     <g id=\"text_106\">\r\n      <!-- 0.4 -->\r\n      <g style=\"fill:#262626;\" transform=\"translate(625.626813 178.073322)scale(0.1 -0.1)\">\r\n       <use xlink:href=\"#ArialMT-48\"/>\r\n       <use x=\"55.615234\" xlink:href=\"#ArialMT-46\"/>\r\n       <use x=\"83.398438\" xlink:href=\"#ArialMT-52\"/>\r\n      </g>\r\n     </g>\r\n    </g>\r\n    <g id=\"ytick_16\">\r\n     <g id=\"line2d_7\">\r\n      <g>\r\n       <use style=\"fill:#262626;stroke:#262626;stroke-width:0.8;\" x=\"618.626813\" xlink:href=\"#m7ee512e97a\" y=\"123.641485\"/>\r\n      </g>\r\n     </g>\r\n     <g id=\"text_107\">\r\n      <!-- 0.6 -->\r\n      <g style=\"fill:#262626;\" transform=\"translate(625.626813 127.220391)scale(0.1 -0.1)\">\r\n       <use xlink:href=\"#ArialMT-48\"/>\r\n       <use x=\"55.615234\" xlink:href=\"#ArialMT-46\"/>\r\n       <use x=\"83.398438\" xlink:href=\"#ArialMT-54\"/>\r\n      </g>\r\n     </g>\r\n    </g>\r\n    <g id=\"ytick_17\">\r\n     <g id=\"line2d_8\">\r\n      <g>\r\n       <use style=\"fill:#262626;stroke:#262626;stroke-width:0.8;\" x=\"618.626813\" xlink:href=\"#m7ee512e97a\" y=\"72.788555\"/>\r\n      </g>\r\n     </g>\r\n     <g id=\"text_108\">\r\n      <!-- 0.8 -->\r\n      <g style=\"fill:#262626;\" transform=\"translate(625.626813 76.367461)scale(0.1 -0.1)\">\r\n       <use xlink:href=\"#ArialMT-48\"/>\r\n       <use x=\"55.615234\" xlink:href=\"#ArialMT-46\"/>\r\n       <use x=\"83.398438\" xlink:href=\"#ArialMT-56\"/>\r\n      </g>\r\n     </g>\r\n    </g>\r\n    <g id=\"ytick_18\">\r\n     <g id=\"line2d_9\">\r\n      <g>\r\n       <use style=\"fill:#262626;stroke:#262626;stroke-width:0.8;\" x=\"618.626813\" xlink:href=\"#m7ee512e97a\" y=\"21.935625\"/>\r\n      </g>\r\n     </g>\r\n     <g id=\"text_109\">\r\n      <!-- 1.0 -->\r\n      <g style=\"fill:#262626;\" transform=\"translate(625.626813 25.514531)scale(0.1 -0.1)\">\r\n       <use xlink:href=\"#ArialMT-49\"/>\r\n       <use x=\"55.615234\" xlink:href=\"#ArialMT-46\"/>\r\n       <use x=\"83.398438\" xlink:href=\"#ArialMT-48\"/>\r\n      </g>\r\n     </g>\r\n    </g>\r\n   </g>\r\n   <image height=\"434\" id=\"image7305270a88\" transform=\"scale(1 -1)translate(0 -434)\" width=\"22\" x=\"597\" xlink:href=\"data:image/png;base64,\r\niVBORw0KGgoAAAANSUhEUgAAABYAAAGyCAYAAADgTjR3AAACU0lEQVR4nO2awW3EMAwEJUFdpYUUnb4usfOQRLuBfQwwUwBBLJdL+XD96/vnbgFmHyNRt80+eqRwpt3W2uw9UzvYMU/jlN0GTwrt9hRWikWu4xGyG1AKYMdmxSk8eFnRcXbLBT1NilRsOrzCzSuIz9jYByRueLwFSdnN4RXJ02TQL4gd4xbErDgA7RZqmCgFr2OD/jBDSgBjk3eaYj5OZkWmMHF4QB9nCvNOU+z883ycDPpMYZ7GwNgEnqbYix6XFZ6mKgwMeoe3IX7986TAnaZg0NM2D5hubt7GzXsK6+ODHRde6WL2Hvm3u8N7cPOKOUJ2A0rB6xh4TJt2WxCHZ1Zs5gj5mJduPlgKXmxqt8KsKBxeAdy83OcYTgrtduBpPFMt86Tg2U0pCp7dgFIQn1i4jmNZwRser2OzYmPH+cJJKa5IYd7mBTu+tdti9htnt1hWKMWGZzekFLyOXZBTmCcFz26hl9BsPCl4dnPzNtrtXZgmRcPZjbcgsawgDs8FqcI0KXibl9IYKQWtY2BWXGbFQrs9hXlS8DrODS+00rybp92K3LuCaDdexw5vYVa8Cl9KseC9j3kLghwebUFus2IDtNvtt/TG2CyIdsNlRSo2eacJGZs0u8V+NL1xIcQLeqDdUo9CnhSpmwcMet7N49ktF/Q4KXib5zGtwkS78Tp2eAtiVuQ+xxzegjc8nsZIKXgdO7zFvP5oHTu8gx2/C3vzFmZFod0K7fYU5kkBtFtqeIbQgbd5Sbv5KFwgh5fKil+cFB9axymNlaJI2o32rtBuh3+w+FlOR8xXbgAAAABJRU5ErkJggg==\" y=\"-22\"/>\r\n   <g id=\"patch_4\">\r\n    <path d=\"M 596.882813 456.815625 \r\nL 596.882813 455.116875 \r\nL 596.882813 23.634375 \r\nL 596.882813 21.935625 \r\nL 618.626813 21.935625 \r\nL 618.626813 23.634375 \r\nL 618.626813 455.116875 \r\nL 618.626813 456.815625 \r\nz\r\n\" style=\"fill:none;\"/>\r\n   </g>\r\n  </g>\r\n </g>\r\n <defs>\r\n  <clipPath id=\"pcb146fd211\">\r\n   <rect height=\"434.88\" width=\"446.4\" x=\"122.582812\" y=\"21.935625\"/>\r\n  </clipPath>\r\n  <clipPath id=\"p5928f0d6b2\">\r\n   <rect height=\"434.88\" width=\"21.744\" x=\"596.882813\" y=\"21.935625\"/>\r\n  </clipPath>\r\n </defs>\r\n</svg>\r\n",
      "image/png": "[encoded data removed]"
     },
     "metadata": {}
    }
   ],
   "source": [
    "correlate(df=kill_and_social)"
   ]
  },
  {
   "source": [
    "## 5. Project Timings\n",
    "\n",
    "- Pie chart representing the amount of time spent in each of the steps of the project "
   ],
   "cell_type": "markdown",
   "metadata": {}
  },
  {
   "cell_type": "code",
   "execution_count": 42,
   "metadata": {},
   "outputs": [
    {
     "output_type": "display_data",
     "data": {
      "text/plain": "<Figure size 432x288 with 1 Axes>",
      "image/svg+xml": "<?xml version=\"1.0\" encoding=\"utf-8\" standalone=\"no\"?>\r\n<!DOCTYPE svg PUBLIC \"-//W3C//DTD SVG 1.1//EN\"\r\n  \"http://www.w3.org/Graphics/SVG/1.1/DTD/svg11.dtd\">\r\n<!-- Created with matplotlib (https://matplotlib.org/) -->\r\n<svg height=\"246.575625pt\" version=\"1.1\" viewBox=\"0 0 296.038262 246.575625\" width=\"296.038262pt\" xmlns=\"http://www.w3.org/2000/svg\" xmlns:xlink=\"http://www.w3.org/1999/xlink\">\r\n <metadata>\r\n  <rdf:RDF xmlns:cc=\"http://creativecommons.org/ns#\" xmlns:dc=\"http://purl.org/dc/elements/1.1/\" xmlns:rdf=\"http://www.w3.org/1999/02/22-rdf-syntax-ns#\">\r\n   <cc:Work>\r\n    <dc:type rdf:resource=\"http://purl.org/dc/dcmitype/StillImage\"/>\r\n    <dc:date>2021-01-10T16:58:29.769766</dc:date>\r\n    <dc:format>image/svg+xml</dc:format>\r\n    <dc:creator>\r\n     <cc:Agent>\r\n      <dc:title>Matplotlib v3.3.3, https://matplotlib.org/</dc:title>\r\n     </cc:Agent>\r\n    </dc:creator>\r\n   </cc:Work>\r\n  </rdf:RDF>\r\n </metadata>\r\n <defs>\r\n  <style type=\"text/css\">*{stroke-linecap:butt;stroke-linejoin:round;}</style>\r\n </defs>\r\n <g id=\"figure_1\">\r\n  <g id=\"patch_1\">\r\n   <path d=\"M 0 246.575625 \r\nL 296.038262 246.575625 \r\nL 296.038262 0 \r\nL 0 0 \r\nz\r\n\" style=\"fill:#ffffff;\"/>\r\n  </g>\r\n  <g id=\"axes_1\">\r\n   <g id=\"matplotlib.axis_1\"/>\r\n   <g id=\"matplotlib.axis_2\"/>\r\n   <g id=\"patch_2\">\r\n    <path d=\"M 242.027949 130.655625 \r\nC 242.027949 121.528833 240.591375 112.458658 237.771041 103.778563 \r\nC 234.950707 95.098467 230.781605 86.916144 225.417011 79.532414 \r\nL 155.051949 130.655625 \r\nL 242.027949 130.655625 \r\nz\r\n\" style=\"fill:#e5eb34;stroke:#ffffff;stroke-linejoin:miter;\"/>\r\n   </g>\r\n   <g id=\"patch_3\">\r\n    <path d=\"M 225.417011 79.532414 \r\nC 220.052417 72.148684 213.558889 65.655156 206.175158 60.290562 \r\nC 198.791428 54.925968 190.609105 50.756867 181.92901 47.936533 \r\nL 155.051949 130.655625 \r\nL 225.417011 79.532414 \r\nz\r\n\" style=\"fill:#34eb56;stroke:#ffffff;stroke-linejoin:miter;\"/>\r\n   </g>\r\n   <g id=\"patch_4\">\r\n    <path d=\"M 181.92901 47.936533 \r\nC 173.248914 45.116199 164.17874 43.679625 155.051947 43.679625 \r\nC 145.925155 43.679625 136.85498 45.1162 128.174885 47.936534 \r\nL 155.051949 130.655625 \r\nL 181.92901 47.936533 \r\nz\r\n\" style=\"fill:#34ebbd;stroke:#ffffff;stroke-linejoin:miter;\"/>\r\n   </g>\r\n   <g id=\"patch_5\">\r\n    <path d=\"M 128.174885 47.936534 \r\nC 112.921019 52.892816 99.331288 61.973185 88.914879 74.169233 \r\nC 78.49847 86.365281 71.655799 101.208183 69.146768 117.049582 \r\nC 66.637737 132.890981 68.558796 149.121921 74.696603 163.939899 \r\nC 80.834411 178.757878 90.953025 191.593279 103.928739 201.020687 \r\nL 155.051949 130.655625 \r\nL 128.174885 47.936534 \r\nz\r\n\" style=\"fill:#348feb;stroke:#ffffff;stroke-linejoin:miter;\"/>\r\n   </g>\r\n   <g id=\"patch_6\">\r\n    <path d=\"M 103.928739 201.020687 \r\nC 116.904452 210.448095 132.238468 216.105112 148.227889 217.363507 \r\nC 164.217311 218.621902 180.247492 215.433301 194.538225 208.15181 \r\nC 208.828958 200.870318 220.830895 189.775842 229.211179 176.100463 \r\nC 237.591463 162.425084 242.027949 146.694493 242.027949 130.655629 \r\nL 155.051949 130.655625 \r\nL 103.928739 201.020687 \r\nz\r\n\" style=\"fill:#ae34eb;stroke:#ffffff;stroke-linejoin:miter;\"/>\r\n   </g>\r\n   <g id=\"text_1\">\r\n    <!-- Research -->\r\n    <g style=\"fill:#262626;\" transform=\"translate(246.04295 103.676013)scale(0.1 -0.1)\">\r\n     <defs>\r\n      <path d=\"M 7.859375 0 \r\nL 7.859375 71.578125 \r\nL 39.59375 71.578125 \r\nQ 49.171875 71.578125 54.140625 69.640625 \r\nQ 59.125 67.71875 62.109375 62.828125 \r\nQ 65.09375 57.953125 65.09375 52.046875 \r\nQ 65.09375 44.4375 60.15625 39.203125 \r\nQ 55.21875 33.984375 44.921875 32.5625 \r\nQ 48.6875 30.765625 50.640625 29 \r\nQ 54.78125 25.203125 58.5 19.484375 \r\nL 70.953125 0 \r\nL 59.03125 0 \r\nL 49.5625 14.890625 \r\nQ 45.40625 21.34375 42.71875 24.75 \r\nQ 40.046875 28.171875 37.921875 29.53125 \r\nQ 35.796875 30.90625 33.59375 31.453125 \r\nQ 31.984375 31.78125 28.328125 31.78125 \r\nL 17.328125 31.78125 \r\nL 17.328125 0 \r\nz\r\nM 17.328125 39.984375 \r\nL 37.703125 39.984375 \r\nQ 44.1875 39.984375 47.84375 41.328125 \r\nQ 51.515625 42.671875 53.421875 45.625 \r\nQ 55.328125 48.578125 55.328125 52.046875 \r\nQ 55.328125 57.125 51.640625 60.390625 \r\nQ 47.953125 63.671875 39.984375 63.671875 \r\nL 17.328125 63.671875 \r\nz\r\n\" id=\"ArialMT-82\"/>\r\n      <path d=\"M 42.09375 16.703125 \r\nL 51.171875 15.578125 \r\nQ 49.03125 7.625 43.21875 3.21875 \r\nQ 37.40625 -1.171875 28.375 -1.171875 \r\nQ 17 -1.171875 10.328125 5.828125 \r\nQ 3.65625 12.84375 3.65625 25.484375 \r\nQ 3.65625 38.578125 10.390625 45.796875 \r\nQ 17.140625 53.03125 27.875 53.03125 \r\nQ 38.28125 53.03125 44.875 45.953125 \r\nQ 51.46875 38.875 51.46875 26.03125 \r\nQ 51.46875 25.25 51.421875 23.6875 \r\nL 12.75 23.6875 \r\nQ 13.234375 15.140625 17.578125 10.59375 \r\nQ 21.921875 6.0625 28.421875 6.0625 \r\nQ 33.25 6.0625 36.671875 8.59375 \r\nQ 40.09375 11.140625 42.09375 16.703125 \r\nz\r\nM 13.234375 30.90625 \r\nL 42.1875 30.90625 \r\nQ 41.609375 37.453125 38.875 40.71875 \r\nQ 34.671875 45.796875 27.984375 45.796875 \r\nQ 21.921875 45.796875 17.796875 41.75 \r\nQ 13.671875 37.703125 13.234375 30.90625 \r\nz\r\n\" id=\"ArialMT-101\"/>\r\n      <path d=\"M 3.078125 15.484375 \r\nL 11.765625 16.84375 \r\nQ 12.5 11.625 15.84375 8.84375 \r\nQ 19.1875 6.0625 25.203125 6.0625 \r\nQ 31.25 6.0625 34.171875 8.515625 \r\nQ 37.109375 10.984375 37.109375 14.3125 \r\nQ 37.109375 17.28125 34.515625 19 \r\nQ 32.71875 20.171875 25.53125 21.96875 \r\nQ 15.875 24.421875 12.140625 26.203125 \r\nQ 8.40625 27.984375 6.46875 31.125 \r\nQ 4.546875 34.28125 4.546875 38.09375 \r\nQ 4.546875 41.546875 6.125 44.5 \r\nQ 7.71875 47.46875 10.453125 49.421875 \r\nQ 12.5 50.921875 16.03125 51.96875 \r\nQ 19.578125 53.03125 23.640625 53.03125 \r\nQ 29.734375 53.03125 34.34375 51.265625 \r\nQ 38.96875 49.515625 41.15625 46.5 \r\nQ 43.359375 43.5 44.1875 38.484375 \r\nL 35.59375 37.3125 \r\nQ 35.015625 41.3125 32.203125 43.546875 \r\nQ 29.390625 45.796875 24.265625 45.796875 \r\nQ 18.21875 45.796875 15.625 43.796875 \r\nQ 13.03125 41.796875 13.03125 39.109375 \r\nQ 13.03125 37.40625 14.109375 36.03125 \r\nQ 15.1875 34.625 17.484375 33.6875 \r\nQ 18.796875 33.203125 25.25 31.453125 \r\nQ 34.578125 28.953125 38.25 27.359375 \r\nQ 41.9375 25.78125 44.03125 22.75 \r\nQ 46.140625 19.734375 46.140625 15.234375 \r\nQ 46.140625 10.84375 43.578125 6.953125 \r\nQ 41.015625 3.078125 36.171875 0.953125 \r\nQ 31.34375 -1.171875 25.25 -1.171875 \r\nQ 15.140625 -1.171875 9.84375 3.03125 \r\nQ 4.546875 7.234375 3.078125 15.484375 \r\nz\r\n\" id=\"ArialMT-115\"/>\r\n      <path d=\"M 40.4375 6.390625 \r\nQ 35.546875 2.25 31.03125 0.53125 \r\nQ 26.515625 -1.171875 21.34375 -1.171875 \r\nQ 12.796875 -1.171875 8.203125 3 \r\nQ 3.609375 7.171875 3.609375 13.671875 \r\nQ 3.609375 17.484375 5.34375 20.625 \r\nQ 7.078125 23.78125 9.890625 25.6875 \r\nQ 12.703125 27.59375 16.21875 28.5625 \r\nQ 18.796875 29.25 24.03125 29.890625 \r\nQ 34.671875 31.15625 39.703125 32.90625 \r\nQ 39.75 34.71875 39.75 35.203125 \r\nQ 39.75 40.578125 37.25 42.78125 \r\nQ 33.890625 45.75 27.25 45.75 \r\nQ 21.046875 45.75 18.09375 43.578125 \r\nQ 15.140625 41.40625 13.71875 35.890625 \r\nL 5.125 37.0625 \r\nQ 6.296875 42.578125 8.984375 45.96875 \r\nQ 11.671875 49.359375 16.75 51.1875 \r\nQ 21.828125 53.03125 28.515625 53.03125 \r\nQ 35.15625 53.03125 39.296875 51.46875 \r\nQ 43.453125 49.90625 45.40625 47.53125 \r\nQ 47.359375 45.171875 48.140625 41.546875 \r\nQ 48.578125 39.3125 48.578125 33.453125 \r\nL 48.578125 21.734375 \r\nQ 48.578125 9.46875 49.140625 6.21875 \r\nQ 49.703125 2.984375 51.375 0 \r\nL 42.1875 0 \r\nQ 40.828125 2.734375 40.4375 6.390625 \r\nz\r\nM 39.703125 26.03125 \r\nQ 34.90625 24.078125 25.34375 22.703125 \r\nQ 19.921875 21.921875 17.671875 20.9375 \r\nQ 15.4375 19.96875 14.203125 18.09375 \r\nQ 12.984375 16.21875 12.984375 13.921875 \r\nQ 12.984375 10.40625 15.640625 8.0625 \r\nQ 18.3125 5.71875 23.4375 5.71875 \r\nQ 28.515625 5.71875 32.46875 7.9375 \r\nQ 36.421875 10.15625 38.28125 14.015625 \r\nQ 39.703125 17 39.703125 22.796875 \r\nz\r\n\" id=\"ArialMT-97\"/>\r\n      <path d=\"M 6.5 0 \r\nL 6.5 51.859375 \r\nL 14.40625 51.859375 \r\nL 14.40625 44 \r\nQ 17.4375 49.515625 20 51.265625 \r\nQ 22.5625 53.03125 25.640625 53.03125 \r\nQ 30.078125 53.03125 34.671875 50.203125 \r\nL 31.640625 42.046875 \r\nQ 28.421875 43.953125 25.203125 43.953125 \r\nQ 22.3125 43.953125 20.015625 42.21875 \r\nQ 17.71875 40.484375 16.75 37.40625 \r\nQ 15.28125 32.71875 15.28125 27.15625 \r\nL 15.28125 0 \r\nz\r\n\" id=\"ArialMT-114\"/>\r\n      <path d=\"M 40.4375 19 \r\nL 49.078125 17.875 \r\nQ 47.65625 8.9375 41.8125 3.875 \r\nQ 35.984375 -1.171875 27.484375 -1.171875 \r\nQ 16.84375 -1.171875 10.375 5.78125 \r\nQ 3.90625 12.75 3.90625 25.734375 \r\nQ 3.90625 34.125 6.6875 40.421875 \r\nQ 9.46875 46.734375 15.15625 49.875 \r\nQ 20.84375 53.03125 27.546875 53.03125 \r\nQ 35.984375 53.03125 41.359375 48.75 \r\nQ 46.734375 44.484375 48.25 36.625 \r\nL 39.703125 35.296875 \r\nQ 38.484375 40.53125 35.375 43.15625 \r\nQ 32.28125 45.796875 27.875 45.796875 \r\nQ 21.234375 45.796875 17.078125 41.03125 \r\nQ 12.9375 36.28125 12.9375 25.984375 \r\nQ 12.9375 15.53125 16.9375 10.796875 \r\nQ 20.953125 6.0625 27.390625 6.0625 \r\nQ 32.5625 6.0625 36.03125 9.234375 \r\nQ 39.5 12.40625 40.4375 19 \r\nz\r\n\" id=\"ArialMT-99\"/>\r\n      <path d=\"M 6.59375 0 \r\nL 6.59375 71.578125 \r\nL 15.375 71.578125 \r\nL 15.375 45.90625 \r\nQ 21.53125 53.03125 30.90625 53.03125 \r\nQ 36.671875 53.03125 40.921875 50.75 \r\nQ 45.171875 48.484375 47 44.484375 \r\nQ 48.828125 40.484375 48.828125 32.859375 \r\nL 48.828125 0 \r\nL 40.046875 0 \r\nL 40.046875 32.859375 \r\nQ 40.046875 39.453125 37.1875 42.453125 \r\nQ 34.328125 45.453125 29.109375 45.453125 \r\nQ 25.203125 45.453125 21.75 43.421875 \r\nQ 18.3125 41.40625 16.84375 37.9375 \r\nQ 15.375 34.46875 15.375 28.375 \r\nL 15.375 0 \r\nz\r\n\" id=\"ArialMT-104\"/>\r\n     </defs>\r\n     <use xlink:href=\"#ArialMT-82\"/>\r\n     <use x=\"72.216797\" xlink:href=\"#ArialMT-101\"/>\r\n     <use x=\"127.832031\" xlink:href=\"#ArialMT-115\"/>\r\n     <use x=\"177.832031\" xlink:href=\"#ArialMT-101\"/>\r\n     <use x=\"233.447266\" xlink:href=\"#ArialMT-97\"/>\r\n     <use x=\"289.0625\" xlink:href=\"#ArialMT-114\"/>\r\n     <use x=\"322.363281\" xlink:href=\"#ArialMT-99\"/>\r\n     <use x=\"372.363281\" xlink:href=\"#ArialMT-104\"/>\r\n    </g>\r\n   </g>\r\n   <g id=\"text_2\">\r\n    <!-- 10.0 % -->\r\n    <g style=\"fill:#262626;\" transform=\"translate(189.117779 117.114544)scale(0.1 -0.1)\">\r\n     <defs>\r\n      <path d=\"M 37.25 0 \r\nL 28.46875 0 \r\nL 28.46875 56 \r\nQ 25.296875 52.984375 20.140625 49.953125 \r\nQ 14.984375 46.921875 10.890625 45.40625 \r\nL 10.890625 53.90625 \r\nQ 18.265625 57.375 23.78125 62.296875 \r\nQ 29.296875 67.234375 31.59375 71.875 \r\nL 37.25 71.875 \r\nz\r\n\" id=\"ArialMT-49\"/>\r\n      <path d=\"M 4.15625 35.296875 \r\nQ 4.15625 48 6.765625 55.734375 \r\nQ 9.375 63.484375 14.515625 67.671875 \r\nQ 19.671875 71.875 27.484375 71.875 \r\nQ 33.25 71.875 37.59375 69.546875 \r\nQ 41.9375 67.234375 44.765625 62.859375 \r\nQ 47.609375 58.5 49.21875 52.21875 \r\nQ 50.828125 45.953125 50.828125 35.296875 \r\nQ 50.828125 22.703125 48.234375 14.96875 \r\nQ 45.65625 7.234375 40.5 3 \r\nQ 35.359375 -1.21875 27.484375 -1.21875 \r\nQ 17.140625 -1.21875 11.234375 6.203125 \r\nQ 4.15625 15.140625 4.15625 35.296875 \r\nz\r\nM 13.1875 35.296875 \r\nQ 13.1875 17.671875 17.3125 11.828125 \r\nQ 21.4375 6 27.484375 6 \r\nQ 33.546875 6 37.671875 11.859375 \r\nQ 41.796875 17.71875 41.796875 35.296875 \r\nQ 41.796875 52.984375 37.671875 58.78125 \r\nQ 33.546875 64.59375 27.390625 64.59375 \r\nQ 21.34375 64.59375 17.71875 59.46875 \r\nQ 13.1875 52.9375 13.1875 35.296875 \r\nz\r\n\" id=\"ArialMT-48\"/>\r\n      <path d=\"M 9.078125 0 \r\nL 9.078125 10.015625 \r\nL 19.09375 10.015625 \r\nL 19.09375 0 \r\nz\r\n\" id=\"ArialMT-46\"/>\r\n      <path id=\"ArialMT-32\"/>\r\n      <path d=\"M 5.8125 54.390625 \r\nQ 5.8125 62.0625 9.671875 67.421875 \r\nQ 13.53125 72.796875 20.84375 72.796875 \r\nQ 27.59375 72.796875 32 67.984375 \r\nQ 36.421875 63.1875 36.421875 53.859375 \r\nQ 36.421875 44.78125 31.953125 39.875 \r\nQ 27.484375 34.96875 20.953125 34.96875 \r\nQ 14.453125 34.96875 10.125 39.796875 \r\nQ 5.8125 44.625 5.8125 54.390625 \r\nz\r\nM 21.09375 66.75 \r\nQ 17.828125 66.75 15.65625 63.90625 \r\nQ 13.484375 61.078125 13.484375 53.515625 \r\nQ 13.484375 46.625 15.671875 43.8125 \r\nQ 17.875 41.015625 21.09375 41.015625 \r\nQ 24.421875 41.015625 26.59375 43.84375 \r\nQ 28.765625 46.6875 28.765625 54.203125 \r\nQ 28.765625 61.140625 26.5625 63.9375 \r\nQ 24.359375 66.75 21.09375 66.75 \r\nz\r\nM 21.140625 -2.640625 \r\nL 60.296875 72.796875 \r\nL 67.4375 72.796875 \r\nL 28.421875 -2.640625 \r\nz\r\nM 52.09375 16.796875 \r\nQ 52.09375 24.515625 55.953125 29.859375 \r\nQ 59.8125 35.203125 67.1875 35.203125 \r\nQ 73.921875 35.203125 78.34375 30.390625 \r\nQ 82.765625 25.59375 82.765625 16.265625 \r\nQ 82.765625 7.171875 78.296875 2.265625 \r\nQ 73.828125 -2.640625 67.234375 -2.640625 \r\nQ 60.75 -2.640625 56.421875 2.21875 \r\nQ 52.09375 7.078125 52.09375 16.796875 \r\nz\r\nM 67.4375 29.15625 \r\nQ 64.109375 29.15625 61.9375 26.3125 \r\nQ 59.765625 23.484375 59.765625 15.921875 \r\nQ 59.765625 9.078125 61.953125 6.25 \r\nQ 64.15625 3.421875 67.390625 3.421875 \r\nQ 70.75 3.421875 72.921875 6.25 \r\nQ 75.09375 9.078125 75.09375 16.609375 \r\nQ 75.09375 23.53125 72.890625 26.34375 \r\nQ 70.703125 29.15625 67.4375 29.15625 \r\nz\r\n\" id=\"ArialMT-37\"/>\r\n     </defs>\r\n     <use xlink:href=\"#ArialMT-49\"/>\r\n     <use x=\"55.615234\" xlink:href=\"#ArialMT-48\"/>\r\n     <use x=\"111.230469\" xlink:href=\"#ArialMT-46\"/>\r\n     <use x=\"139.013672\" xlink:href=\"#ArialMT-48\"/>\r\n     <use x=\"194.628906\" xlink:href=\"#ArialMT-32\"/>\r\n     <use x=\"222.412109\" xlink:href=\"#ArialMT-37\"/>\r\n    </g>\r\n   </g>\r\n   <g id=\"text_3\">\r\n    <!-- Get Data -->\r\n    <g style=\"fill:#262626;\" transform=\"translate(211.287479 55.839212)scale(0.1 -0.1)\">\r\n     <defs>\r\n      <path d=\"M 41.21875 28.078125 \r\nL 41.21875 36.46875 \r\nL 71.53125 36.53125 \r\nL 71.53125 9.96875 \r\nQ 64.546875 4.390625 57.125 1.578125 \r\nQ 49.703125 -1.21875 41.890625 -1.21875 \r\nQ 31.34375 -1.21875 22.71875 3.296875 \r\nQ 14.109375 7.8125 9.71875 16.359375 \r\nQ 5.328125 24.90625 5.328125 35.453125 \r\nQ 5.328125 45.90625 9.6875 54.953125 \r\nQ 14.0625 64.015625 22.265625 68.40625 \r\nQ 30.46875 72.796875 41.15625 72.796875 \r\nQ 48.921875 72.796875 55.1875 70.28125 \r\nQ 61.46875 67.78125 65.03125 63.28125 \r\nQ 68.609375 58.796875 70.453125 51.5625 \r\nL 61.921875 49.21875 \r\nQ 60.296875 54.6875 57.90625 57.8125 \r\nQ 55.515625 60.9375 51.0625 62.8125 \r\nQ 46.625 64.703125 41.21875 64.703125 \r\nQ 34.71875 64.703125 29.984375 62.71875 \r\nQ 25.25 60.75 22.34375 57.515625 \r\nQ 19.4375 54.296875 17.828125 50.4375 \r\nQ 15.09375 43.796875 15.09375 36.03125 \r\nQ 15.09375 26.46875 18.390625 20.015625 \r\nQ 21.6875 13.578125 27.984375 10.453125 \r\nQ 34.28125 7.328125 41.359375 7.328125 \r\nQ 47.515625 7.328125 53.375 9.6875 \r\nQ 59.234375 12.0625 62.25 14.75 \r\nL 62.25 28.078125 \r\nz\r\n\" id=\"ArialMT-71\"/>\r\n      <path d=\"M 25.78125 7.859375 \r\nL 27.046875 0.09375 \r\nQ 23.34375 -0.6875 20.40625 -0.6875 \r\nQ 15.625 -0.6875 12.984375 0.828125 \r\nQ 10.359375 2.34375 9.28125 4.8125 \r\nQ 8.203125 7.28125 8.203125 15.1875 \r\nL 8.203125 45.015625 \r\nL 1.765625 45.015625 \r\nL 1.765625 51.859375 \r\nL 8.203125 51.859375 \r\nL 8.203125 64.703125 \r\nL 16.9375 69.96875 \r\nL 16.9375 51.859375 \r\nL 25.78125 51.859375 \r\nL 25.78125 45.015625 \r\nL 16.9375 45.015625 \r\nL 16.9375 14.703125 \r\nQ 16.9375 10.9375 17.40625 9.859375 \r\nQ 17.875 8.796875 18.921875 8.15625 \r\nQ 19.96875 7.515625 21.921875 7.515625 \r\nQ 23.390625 7.515625 25.78125 7.859375 \r\nz\r\n\" id=\"ArialMT-116\"/>\r\n      <path d=\"M 7.71875 0 \r\nL 7.71875 71.578125 \r\nL 32.375 71.578125 \r\nQ 40.71875 71.578125 45.125 70.5625 \r\nQ 51.265625 69.140625 55.609375 65.4375 \r\nQ 61.28125 60.640625 64.078125 53.1875 \r\nQ 66.890625 45.75 66.890625 36.1875 \r\nQ 66.890625 28.03125 64.984375 21.734375 \r\nQ 63.09375 15.4375 60.109375 11.296875 \r\nQ 57.125 7.171875 53.578125 4.796875 \r\nQ 50.046875 2.4375 45.046875 1.21875 \r\nQ 40.046875 0 33.546875 0 \r\nz\r\nM 17.1875 8.453125 \r\nL 32.46875 8.453125 \r\nQ 39.546875 8.453125 43.578125 9.765625 \r\nQ 47.609375 11.078125 50 13.484375 \r\nQ 53.375 16.84375 55.25 22.53125 \r\nQ 57.125 28.21875 57.125 36.328125 \r\nQ 57.125 47.5625 53.4375 53.59375 \r\nQ 49.75 59.625 44.484375 61.671875 \r\nQ 40.671875 63.140625 32.234375 63.140625 \r\nL 17.1875 63.140625 \r\nz\r\n\" id=\"ArialMT-68\"/>\r\n     </defs>\r\n     <use xlink:href=\"#ArialMT-71\"/>\r\n     <use x=\"77.783203\" xlink:href=\"#ArialMT-101\"/>\r\n     <use x=\"133.398438\" xlink:href=\"#ArialMT-116\"/>\r\n     <use x=\"161.181641\" xlink:href=\"#ArialMT-32\"/>\r\n     <use x=\"188.964844\" xlink:href=\"#ArialMT-68\"/>\r\n     <use x=\"261.181641\" xlink:href=\"#ArialMT-97\"/>\r\n     <use x=\"316.796875\" xlink:href=\"#ArialMT-116\"/>\r\n     <use x=\"344.580078\" xlink:href=\"#ArialMT-97\"/>\r\n    </g>\r\n   </g>\r\n   <g id=\"text_4\">\r\n    <!-- 10.0 % -->\r\n    <g style=\"fill:#262626;\" transform=\"translate(170.16025 91.021744)scale(0.1 -0.1)\">\r\n     <use xlink:href=\"#ArialMT-49\"/>\r\n     <use x=\"55.615234\" xlink:href=\"#ArialMT-48\"/>\r\n     <use x=\"111.230469\" xlink:href=\"#ArialMT-46\"/>\r\n     <use x=\"139.013672\" xlink:href=\"#ArialMT-48\"/>\r\n     <use x=\"194.628906\" xlink:href=\"#ArialMT-32\"/>\r\n     <use x=\"222.412109\" xlink:href=\"#ArialMT-37\"/>\r\n    </g>\r\n   </g>\r\n   <g id=\"text_5\">\r\n    <!-- Data Wrangling -->\r\n    <g style=\"fill:#262626;\" transform=\"translate(86.30976 37.508588)scale(0.1 -0.1)\">\r\n     <defs>\r\n      <path d=\"M 20.21875 0 \r\nL 1.21875 71.578125 \r\nL 10.9375 71.578125 \r\nL 21.828125 24.65625 \r\nQ 23.578125 17.28125 24.859375 10.015625 \r\nQ 27.59375 21.484375 28.078125 23.25 \r\nL 41.703125 71.578125 \r\nL 53.125 71.578125 \r\nL 63.375 35.359375 \r\nQ 67.234375 21.875 68.953125 10.015625 \r\nQ 70.3125 16.796875 72.515625 25.59375 \r\nL 83.734375 71.578125 \r\nL 93.265625 71.578125 \r\nL 73.640625 0 \r\nL 64.5 0 \r\nL 49.421875 54.546875 \r\nQ 47.515625 61.375 47.171875 62.9375 \r\nQ 46.046875 58.015625 45.0625 54.546875 \r\nL 29.890625 0 \r\nz\r\n\" id=\"ArialMT-87\"/>\r\n      <path d=\"M 6.59375 0 \r\nL 6.59375 51.859375 \r\nL 14.5 51.859375 \r\nL 14.5 44.484375 \r\nQ 20.21875 53.03125 31 53.03125 \r\nQ 35.6875 53.03125 39.625 51.34375 \r\nQ 43.5625 49.65625 45.515625 46.921875 \r\nQ 47.46875 44.1875 48.25 40.4375 \r\nQ 48.734375 37.984375 48.734375 31.890625 \r\nL 48.734375 0 \r\nL 39.9375 0 \r\nL 39.9375 31.546875 \r\nQ 39.9375 36.921875 38.90625 39.578125 \r\nQ 37.890625 42.234375 35.28125 43.8125 \r\nQ 32.671875 45.40625 29.15625 45.40625 \r\nQ 23.53125 45.40625 19.453125 41.84375 \r\nQ 15.375 38.28125 15.375 28.328125 \r\nL 15.375 0 \r\nz\r\n\" id=\"ArialMT-110\"/>\r\n      <path d=\"M 4.984375 -4.296875 \r\nL 13.53125 -5.5625 \r\nQ 14.0625 -9.515625 16.5 -11.328125 \r\nQ 19.78125 -13.765625 25.4375 -13.765625 \r\nQ 31.546875 -13.765625 34.859375 -11.328125 \r\nQ 38.1875 -8.890625 39.359375 -4.5 \r\nQ 40.046875 -1.8125 39.984375 6.78125 \r\nQ 34.234375 0 25.640625 0 \r\nQ 14.9375 0 9.078125 7.71875 \r\nQ 3.21875 15.4375 3.21875 26.21875 \r\nQ 3.21875 33.640625 5.90625 39.90625 \r\nQ 8.59375 46.1875 13.6875 49.609375 \r\nQ 18.796875 53.03125 25.6875 53.03125 \r\nQ 34.859375 53.03125 40.828125 45.609375 \r\nL 40.828125 51.859375 \r\nL 48.921875 51.859375 \r\nL 48.921875 7.03125 \r\nQ 48.921875 -5.078125 46.453125 -10.125 \r\nQ 44 -15.1875 38.640625 -18.109375 \r\nQ 33.296875 -21.046875 25.484375 -21.046875 \r\nQ 16.21875 -21.046875 10.5 -16.875 \r\nQ 4.78125 -12.703125 4.984375 -4.296875 \r\nz\r\nM 12.25 26.859375 \r\nQ 12.25 16.65625 16.296875 11.96875 \r\nQ 20.359375 7.28125 26.46875 7.28125 \r\nQ 32.515625 7.28125 36.609375 11.9375 \r\nQ 40.71875 16.609375 40.71875 26.5625 \r\nQ 40.71875 36.078125 36.5 40.90625 \r\nQ 32.28125 45.75 26.3125 45.75 \r\nQ 20.453125 45.75 16.34375 40.984375 \r\nQ 12.25 36.234375 12.25 26.859375 \r\nz\r\n\" id=\"ArialMT-103\"/>\r\n      <path d=\"M 6.390625 0 \r\nL 6.390625 71.578125 \r\nL 15.1875 71.578125 \r\nL 15.1875 0 \r\nz\r\n\" id=\"ArialMT-108\"/>\r\n      <path d=\"M 6.640625 61.46875 \r\nL 6.640625 71.578125 \r\nL 15.4375 71.578125 \r\nL 15.4375 61.46875 \r\nz\r\nM 6.640625 0 \r\nL 6.640625 51.859375 \r\nL 15.4375 51.859375 \r\nL 15.4375 0 \r\nz\r\n\" id=\"ArialMT-105\"/>\r\n     </defs>\r\n     <use xlink:href=\"#ArialMT-68\"/>\r\n     <use x=\"72.216797\" xlink:href=\"#ArialMT-97\"/>\r\n     <use x=\"127.832031\" xlink:href=\"#ArialMT-116\"/>\r\n     <use x=\"155.615234\" xlink:href=\"#ArialMT-97\"/>\r\n     <use x=\"211.230469\" xlink:href=\"#ArialMT-32\"/>\r\n     <use x=\"239.013672\" xlink:href=\"#ArialMT-87\"/>\r\n     <use x=\"331.648438\" xlink:href=\"#ArialMT-114\"/>\r\n     <use x=\"364.949219\" xlink:href=\"#ArialMT-97\"/>\r\n     <use x=\"420.564453\" xlink:href=\"#ArialMT-110\"/>\r\n     <use x=\"476.179688\" xlink:href=\"#ArialMT-103\"/>\r\n     <use x=\"531.794922\" xlink:href=\"#ArialMT-108\"/>\r\n     <use x=\"554.011719\" xlink:href=\"#ArialMT-105\"/>\r\n     <use x=\"576.228516\" xlink:href=\"#ArialMT-110\"/>\r\n     <use x=\"631.84375\" xlink:href=\"#ArialMT-103\"/>\r\n    </g>\r\n   </g>\r\n   <g id=\"text_6\">\r\n    <!-- 10.0 % -->\r\n    <g style=\"fill:#262626;\" transform=\"translate(139.486323 81.055181)scale(0.1 -0.1)\">\r\n     <use xlink:href=\"#ArialMT-49\"/>\r\n     <use x=\"55.615234\" xlink:href=\"#ArialMT-48\"/>\r\n     <use x=\"111.230469\" xlink:href=\"#ArialMT-46\"/>\r\n     <use x=\"139.013672\" xlink:href=\"#ArialMT-48\"/>\r\n     <use x=\"194.628906\" xlink:href=\"#ArialMT-32\"/>\r\n     <use x=\"222.412109\" xlink:href=\"#ArialMT-37\"/>\r\n    </g>\r\n   </g>\r\n   <g id=\"text_7\">\r\n    <!-- Data Mining -->\r\n    <g style=\"fill:#262626;\" transform=\"translate(7.2 118.21554)scale(0.1 -0.1)\">\r\n     <defs>\r\n      <path d=\"M 7.421875 0 \r\nL 7.421875 71.578125 \r\nL 21.6875 71.578125 \r\nL 38.625 20.90625 \r\nQ 40.96875 13.8125 42.046875 10.296875 \r\nQ 43.265625 14.203125 45.84375 21.78125 \r\nL 62.984375 71.578125 \r\nL 75.734375 71.578125 \r\nL 75.734375 0 \r\nL 66.609375 0 \r\nL 66.609375 59.90625 \r\nL 45.796875 0 \r\nL 37.25 0 \r\nL 16.546875 60.9375 \r\nL 16.546875 0 \r\nz\r\n\" id=\"ArialMT-77\"/>\r\n     </defs>\r\n     <use xlink:href=\"#ArialMT-68\"/>\r\n     <use x=\"72.216797\" xlink:href=\"#ArialMT-97\"/>\r\n     <use x=\"127.832031\" xlink:href=\"#ArialMT-116\"/>\r\n     <use x=\"155.615234\" xlink:href=\"#ArialMT-97\"/>\r\n     <use x=\"211.230469\" xlink:href=\"#ArialMT-32\"/>\r\n     <use x=\"239.013672\" xlink:href=\"#ArialMT-77\"/>\r\n     <use x=\"322.314453\" xlink:href=\"#ArialMT-105\"/>\r\n     <use x=\"344.53125\" xlink:href=\"#ArialMT-110\"/>\r\n     <use x=\"400.146484\" xlink:href=\"#ArialMT-105\"/>\r\n     <use x=\"422.363281\" xlink:href=\"#ArialMT-110\"/>\r\n     <use x=\"477.978516\" xlink:href=\"#ArialMT-103\"/>\r\n    </g>\r\n   </g>\r\n   <g id=\"text_8\">\r\n    <!-- 35.0 % -->\r\n    <g style=\"fill:#262626;\" transform=\"translate(87.943216 125.077155)scale(0.1 -0.1)\">\r\n     <defs>\r\n      <path d=\"M 4.203125 18.890625 \r\nL 12.984375 20.0625 \r\nQ 14.5 12.59375 18.140625 9.296875 \r\nQ 21.78125 6 27 6 \r\nQ 33.203125 6 37.46875 10.296875 \r\nQ 41.75 14.59375 41.75 20.953125 \r\nQ 41.75 27 37.796875 30.921875 \r\nQ 33.84375 34.859375 27.734375 34.859375 \r\nQ 25.25 34.859375 21.53125 33.890625 \r\nL 22.515625 41.609375 \r\nQ 23.390625 41.5 23.921875 41.5 \r\nQ 29.546875 41.5 34.03125 44.421875 \r\nQ 38.53125 47.359375 38.53125 53.46875 \r\nQ 38.53125 58.296875 35.25 61.46875 \r\nQ 31.984375 64.65625 26.8125 64.65625 \r\nQ 21.6875 64.65625 18.265625 61.421875 \r\nQ 14.84375 58.203125 13.875 51.765625 \r\nL 5.078125 53.328125 \r\nQ 6.6875 62.15625 12.390625 67.015625 \r\nQ 18.109375 71.875 26.609375 71.875 \r\nQ 32.46875 71.875 37.390625 69.359375 \r\nQ 42.328125 66.84375 44.9375 62.5 \r\nQ 47.5625 58.15625 47.5625 53.265625 \r\nQ 47.5625 48.640625 45.0625 44.828125 \r\nQ 42.578125 41.015625 37.703125 38.765625 \r\nQ 44.046875 37.3125 47.5625 32.6875 \r\nQ 51.078125 28.078125 51.078125 21.140625 \r\nQ 51.078125 11.765625 44.234375 5.25 \r\nQ 37.40625 -1.265625 26.953125 -1.265625 \r\nQ 17.53125 -1.265625 11.296875 4.34375 \r\nQ 5.078125 9.96875 4.203125 18.890625 \r\nz\r\n\" id=\"ArialMT-51\"/>\r\n      <path d=\"M 4.15625 18.75 \r\nL 13.375 19.53125 \r\nQ 14.40625 12.796875 18.140625 9.390625 \r\nQ 21.875 6 27.15625 6 \r\nQ 33.5 6 37.890625 10.78125 \r\nQ 42.28125 15.578125 42.28125 23.484375 \r\nQ 42.28125 31 38.0625 35.34375 \r\nQ 33.84375 39.703125 27 39.703125 \r\nQ 22.75 39.703125 19.328125 37.765625 \r\nQ 15.921875 35.84375 13.96875 32.765625 \r\nL 5.71875 33.84375 \r\nL 12.640625 70.609375 \r\nL 48.25 70.609375 \r\nL 48.25 62.203125 \r\nL 19.671875 62.203125 \r\nL 15.828125 42.96875 \r\nQ 22.265625 47.46875 29.34375 47.46875 \r\nQ 38.71875 47.46875 45.15625 40.96875 \r\nQ 51.609375 34.46875 51.609375 24.265625 \r\nQ 51.609375 14.546875 45.953125 7.46875 \r\nQ 39.0625 -1.21875 27.15625 -1.21875 \r\nQ 17.390625 -1.21875 11.203125 4.25 \r\nQ 5.03125 9.71875 4.15625 18.75 \r\nz\r\n\" id=\"ArialMT-53\"/>\r\n     </defs>\r\n     <use xlink:href=\"#ArialMT-51\"/>\r\n     <use x=\"55.615234\" xlink:href=\"#ArialMT-53\"/>\r\n     <use x=\"111.230469\" xlink:href=\"#ArialMT-46\"/>\r\n     <use x=\"139.013672\" xlink:href=\"#ArialMT-48\"/>\r\n     <use x=\"194.628906\" xlink:href=\"#ArialMT-32\"/>\r\n     <use x=\"222.412109\" xlink:href=\"#ArialMT-37\"/>\r\n    </g>\r\n   </g>\r\n   <g id=\"text_9\">\r\n    <!-- Visualization -->\r\n    <g style=\"fill:#262626;\" transform=\"translate(198.486852 218.486584)scale(0.1 -0.1)\">\r\n     <defs>\r\n      <path d=\"M 28.171875 0 \r\nL 0.4375 71.578125 \r\nL 10.6875 71.578125 \r\nL 29.296875 19.578125 \r\nQ 31.546875 13.328125 33.0625 7.859375 \r\nQ 34.71875 13.71875 36.921875 19.578125 \r\nL 56.25 71.578125 \r\nL 65.921875 71.578125 \r\nL 37.890625 0 \r\nz\r\n\" id=\"ArialMT-86\"/>\r\n      <path d=\"M 40.578125 0 \r\nL 40.578125 7.625 \r\nQ 34.515625 -1.171875 24.125 -1.171875 \r\nQ 19.53125 -1.171875 15.546875 0.578125 \r\nQ 11.578125 2.34375 9.640625 5 \r\nQ 7.71875 7.671875 6.9375 11.53125 \r\nQ 6.390625 14.109375 6.390625 19.734375 \r\nL 6.390625 51.859375 \r\nL 15.1875 51.859375 \r\nL 15.1875 23.09375 \r\nQ 15.1875 16.21875 15.71875 13.8125 \r\nQ 16.546875 10.359375 19.234375 8.375 \r\nQ 21.921875 6.390625 25.875 6.390625 \r\nQ 29.828125 6.390625 33.296875 8.421875 \r\nQ 36.765625 10.453125 38.203125 13.9375 \r\nQ 39.65625 17.4375 39.65625 24.078125 \r\nL 39.65625 51.859375 \r\nL 48.4375 51.859375 \r\nL 48.4375 0 \r\nz\r\n\" id=\"ArialMT-117\"/>\r\n      <path d=\"M 1.953125 0 \r\nL 1.953125 7.125 \r\nL 34.96875 45.015625 \r\nQ 29.34375 44.734375 25.046875 44.734375 \r\nL 3.90625 44.734375 \r\nL 3.90625 51.859375 \r\nL 46.296875 51.859375 \r\nL 46.296875 46.046875 \r\nL 18.21875 13.140625 \r\nL 12.796875 7.125 \r\nQ 18.703125 7.5625 23.875 7.5625 \r\nL 47.859375 7.5625 \r\nL 47.859375 0 \r\nz\r\n\" id=\"ArialMT-122\"/>\r\n      <path d=\"M 3.328125 25.921875 \r\nQ 3.328125 40.328125 11.328125 47.265625 \r\nQ 18.015625 53.03125 27.640625 53.03125 \r\nQ 38.328125 53.03125 45.109375 46.015625 \r\nQ 51.90625 39.015625 51.90625 26.65625 \r\nQ 51.90625 16.65625 48.90625 10.90625 \r\nQ 45.90625 5.171875 40.15625 2 \r\nQ 34.421875 -1.171875 27.640625 -1.171875 \r\nQ 16.75 -1.171875 10.03125 5.8125 \r\nQ 3.328125 12.796875 3.328125 25.921875 \r\nz\r\nM 12.359375 25.921875 \r\nQ 12.359375 15.96875 16.703125 11.015625 \r\nQ 21.046875 6.0625 27.640625 6.0625 \r\nQ 34.1875 6.0625 38.53125 11.03125 \r\nQ 42.875 16.015625 42.875 26.21875 \r\nQ 42.875 35.84375 38.5 40.796875 \r\nQ 34.125 45.75 27.640625 45.75 \r\nQ 21.046875 45.75 16.703125 40.8125 \r\nQ 12.359375 35.890625 12.359375 25.921875 \r\nz\r\n\" id=\"ArialMT-111\"/>\r\n     </defs>\r\n     <use xlink:href=\"#ArialMT-86\"/>\r\n     <use x=\"64.949219\" xlink:href=\"#ArialMT-105\"/>\r\n     <use x=\"87.166016\" xlink:href=\"#ArialMT-115\"/>\r\n     <use x=\"137.166016\" xlink:href=\"#ArialMT-117\"/>\r\n     <use x=\"192.78125\" xlink:href=\"#ArialMT-97\"/>\r\n     <use x=\"248.396484\" xlink:href=\"#ArialMT-108\"/>\r\n     <use x=\"270.613281\" xlink:href=\"#ArialMT-105\"/>\r\n     <use x=\"292.830078\" xlink:href=\"#ArialMT-122\"/>\r\n     <use x=\"342.830078\" xlink:href=\"#ArialMT-97\"/>\r\n     <use x=\"398.445312\" xlink:href=\"#ArialMT-116\"/>\r\n     <use x=\"426.228516\" xlink:href=\"#ArialMT-105\"/>\r\n     <use x=\"448.445312\" xlink:href=\"#ArialMT-111\"/>\r\n     <use x=\"504.060547\" xlink:href=\"#ArialMT-110\"/>\r\n    </g>\r\n   </g>\r\n   <g id=\"text_10\">\r\n    <!-- 35.0 % -->\r\n    <g style=\"fill:#262626;\" transform=\"translate(163.17809 179.738492)scale(0.1 -0.1)\">\r\n     <use xlink:href=\"#ArialMT-51\"/>\r\n     <use x=\"55.615234\" xlink:href=\"#ArialMT-53\"/>\r\n     <use x=\"111.230469\" xlink:href=\"#ArialMT-46\"/>\r\n     <use x=\"139.013672\" xlink:href=\"#ArialMT-48\"/>\r\n     <use x=\"194.628906\" xlink:href=\"#ArialMT-32\"/>\r\n     <use x=\"222.412109\" xlink:href=\"#ArialMT-37\"/>\r\n    </g>\r\n   </g>\r\n   <g id=\"text_11\">\r\n    <!-- Time needed for each project step -->\r\n    <g style=\"fill:#262626;\" transform=\"translate(64.232574 15.935625)scale(0.12 -0.12)\">\r\n     <defs>\r\n      <path d=\"M 25.921875 0 \r\nL 25.921875 63.140625 \r\nL 2.34375 63.140625 \r\nL 2.34375 71.578125 \r\nL 59.078125 71.578125 \r\nL 59.078125 63.140625 \r\nL 35.40625 63.140625 \r\nL 35.40625 0 \r\nz\r\n\" id=\"ArialMT-84\"/>\r\n      <path d=\"M 6.59375 0 \r\nL 6.59375 51.859375 \r\nL 14.453125 51.859375 \r\nL 14.453125 44.578125 \r\nQ 16.890625 48.390625 20.9375 50.703125 \r\nQ 25 53.03125 30.171875 53.03125 \r\nQ 35.9375 53.03125 39.625 50.640625 \r\nQ 43.3125 48.25 44.828125 43.953125 \r\nQ 50.984375 53.03125 60.84375 53.03125 \r\nQ 68.5625 53.03125 72.703125 48.75 \r\nQ 76.859375 44.484375 76.859375 35.59375 \r\nL 76.859375 0 \r\nL 68.109375 0 \r\nL 68.109375 32.671875 \r\nQ 68.109375 37.9375 67.25 40.25 \r\nQ 66.40625 42.578125 64.15625 43.984375 \r\nQ 61.921875 45.40625 58.890625 45.40625 \r\nQ 53.421875 45.40625 49.796875 41.765625 \r\nQ 46.1875 38.140625 46.1875 30.125 \r\nL 46.1875 0 \r\nL 37.40625 0 \r\nL 37.40625 33.6875 \r\nQ 37.40625 39.546875 35.25 42.46875 \r\nQ 33.109375 45.40625 28.21875 45.40625 \r\nQ 24.515625 45.40625 21.359375 43.453125 \r\nQ 18.21875 41.5 16.796875 37.734375 \r\nQ 15.375 33.984375 15.375 26.90625 \r\nL 15.375 0 \r\nz\r\n\" id=\"ArialMT-109\"/>\r\n      <path d=\"M 40.234375 0 \r\nL 40.234375 6.546875 \r\nQ 35.296875 -1.171875 25.734375 -1.171875 \r\nQ 19.53125 -1.171875 14.328125 2.25 \r\nQ 9.125 5.671875 6.265625 11.796875 \r\nQ 3.421875 17.921875 3.421875 25.875 \r\nQ 3.421875 33.640625 6 39.96875 \r\nQ 8.59375 46.296875 13.765625 49.65625 \r\nQ 18.953125 53.03125 25.34375 53.03125 \r\nQ 30.03125 53.03125 33.6875 51.046875 \r\nQ 37.359375 49.078125 39.65625 45.90625 \r\nL 39.65625 71.578125 \r\nL 48.390625 71.578125 \r\nL 48.390625 0 \r\nz\r\nM 12.453125 25.875 \r\nQ 12.453125 15.921875 16.640625 10.984375 \r\nQ 20.84375 6.0625 26.5625 6.0625 \r\nQ 32.328125 6.0625 36.34375 10.765625 \r\nQ 40.375 15.484375 40.375 25.140625 \r\nQ 40.375 35.796875 36.265625 40.765625 \r\nQ 32.171875 45.75 26.171875 45.75 \r\nQ 20.3125 45.75 16.375 40.96875 \r\nQ 12.453125 36.1875 12.453125 25.875 \r\nz\r\n\" id=\"ArialMT-100\"/>\r\n      <path d=\"M 8.6875 0 \r\nL 8.6875 45.015625 \r\nL 0.921875 45.015625 \r\nL 0.921875 51.859375 \r\nL 8.6875 51.859375 \r\nL 8.6875 57.375 \r\nQ 8.6875 62.59375 9.625 65.140625 \r\nQ 10.890625 68.5625 14.078125 70.671875 \r\nQ 17.28125 72.796875 23.046875 72.796875 \r\nQ 26.765625 72.796875 31.25 71.921875 \r\nL 29.9375 64.265625 \r\nQ 27.203125 64.75 24.75 64.75 \r\nQ 20.75 64.75 19.09375 63.03125 \r\nQ 17.4375 61.328125 17.4375 56.640625 \r\nL 17.4375 51.859375 \r\nL 27.546875 51.859375 \r\nL 27.546875 45.015625 \r\nL 17.4375 45.015625 \r\nL 17.4375 0 \r\nz\r\n\" id=\"ArialMT-102\"/>\r\n      <path d=\"M 6.59375 -19.875 \r\nL 6.59375 51.859375 \r\nL 14.59375 51.859375 \r\nL 14.59375 45.125 \r\nQ 17.4375 49.078125 21 51.046875 \r\nQ 24.5625 53.03125 29.640625 53.03125 \r\nQ 36.28125 53.03125 41.359375 49.609375 \r\nQ 46.4375 46.1875 49.015625 39.953125 \r\nQ 51.609375 33.734375 51.609375 26.3125 \r\nQ 51.609375 18.359375 48.75 11.984375 \r\nQ 45.90625 5.609375 40.453125 2.21875 \r\nQ 35.015625 -1.171875 29 -1.171875 \r\nQ 24.609375 -1.171875 21.109375 0.6875 \r\nQ 17.625 2.546875 15.375 5.375 \r\nL 15.375 -19.875 \r\nz\r\nM 14.546875 25.640625 \r\nQ 14.546875 15.625 18.59375 10.84375 \r\nQ 22.65625 6.0625 28.421875 6.0625 \r\nQ 34.28125 6.0625 38.453125 11.015625 \r\nQ 42.625 15.96875 42.625 26.375 \r\nQ 42.625 36.28125 38.546875 41.203125 \r\nQ 34.46875 46.140625 28.8125 46.140625 \r\nQ 23.1875 46.140625 18.859375 40.890625 \r\nQ 14.546875 35.640625 14.546875 25.640625 \r\nz\r\n\" id=\"ArialMT-112\"/>\r\n      <path d=\"M 6.546875 61.375 \r\nL 6.546875 71.578125 \r\nL 15.328125 71.578125 \r\nL 15.328125 61.375 \r\nz\r\nM -4.59375 -20.125 \r\nL -2.9375 -12.640625 \r\nQ -0.296875 -13.328125 1.21875 -13.328125 \r\nQ 3.90625 -13.328125 5.21875 -11.546875 \r\nQ 6.546875 -9.765625 6.546875 -2.640625 \r\nL 6.546875 51.859375 \r\nL 15.328125 51.859375 \r\nL 15.328125 -2.828125 \r\nQ 15.328125 -12.40625 12.84375 -16.15625 \r\nQ 9.671875 -21.046875 2.296875 -21.046875 \r\nQ -1.265625 -21.046875 -4.59375 -20.125 \r\nz\r\n\" id=\"ArialMT-106\"/>\r\n     </defs>\r\n     <use xlink:href=\"#ArialMT-84\"/>\r\n     <use x=\"57.333984\" xlink:href=\"#ArialMT-105\"/>\r\n     <use x=\"79.550781\" xlink:href=\"#ArialMT-109\"/>\r\n     <use x=\"162.851562\" xlink:href=\"#ArialMT-101\"/>\r\n     <use x=\"218.466797\" xlink:href=\"#ArialMT-32\"/>\r\n     <use x=\"246.25\" xlink:href=\"#ArialMT-110\"/>\r\n     <use x=\"301.865234\" xlink:href=\"#ArialMT-101\"/>\r\n     <use x=\"357.480469\" xlink:href=\"#ArialMT-101\"/>\r\n     <use x=\"413.095703\" xlink:href=\"#ArialMT-100\"/>\r\n     <use x=\"468.710938\" xlink:href=\"#ArialMT-101\"/>\r\n     <use x=\"524.326172\" xlink:href=\"#ArialMT-100\"/>\r\n     <use x=\"579.941406\" xlink:href=\"#ArialMT-32\"/>\r\n     <use x=\"607.724609\" xlink:href=\"#ArialMT-102\"/>\r\n     <use x=\"635.507812\" xlink:href=\"#ArialMT-111\"/>\r\n     <use x=\"691.123047\" xlink:href=\"#ArialMT-114\"/>\r\n     <use x=\"724.423828\" xlink:href=\"#ArialMT-32\"/>\r\n     <use x=\"752.207031\" xlink:href=\"#ArialMT-101\"/>\r\n     <use x=\"807.822266\" xlink:href=\"#ArialMT-97\"/>\r\n     <use x=\"863.4375\" xlink:href=\"#ArialMT-99\"/>\r\n     <use x=\"913.4375\" xlink:href=\"#ArialMT-104\"/>\r\n     <use x=\"969.052734\" xlink:href=\"#ArialMT-32\"/>\r\n     <use x=\"996.835938\" xlink:href=\"#ArialMT-112\"/>\r\n     <use x=\"1052.451172\" xlink:href=\"#ArialMT-114\"/>\r\n     <use x=\"1085.751953\" xlink:href=\"#ArialMT-111\"/>\r\n     <use x=\"1141.367188\" xlink:href=\"#ArialMT-106\"/>\r\n     <use x=\"1163.583984\" xlink:href=\"#ArialMT-101\"/>\r\n     <use x=\"1219.199219\" xlink:href=\"#ArialMT-99\"/>\r\n     <use x=\"1269.199219\" xlink:href=\"#ArialMT-116\"/>\r\n     <use x=\"1296.982422\" xlink:href=\"#ArialMT-32\"/>\r\n     <use x=\"1324.765625\" xlink:href=\"#ArialMT-115\"/>\r\n     <use x=\"1374.765625\" xlink:href=\"#ArialMT-116\"/>\r\n     <use x=\"1402.548828\" xlink:href=\"#ArialMT-101\"/>\r\n     <use x=\"1458.164062\" xlink:href=\"#ArialMT-112\"/>\r\n    </g>\r\n   </g>\r\n  </g>\r\n </g>\r\n</svg>\r\n",
      "image/png": "[encoded data removed]"
     },
     "metadata": {}
    }
   ],
   "source": [
    "project_step_time()"
   ]
  },
  {
   "cell_type": "code",
   "execution_count": null,
   "metadata": {},
   "outputs": [],
   "source": []
  }
 ]
}