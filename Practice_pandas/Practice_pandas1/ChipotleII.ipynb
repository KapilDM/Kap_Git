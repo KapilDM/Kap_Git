{
 "cells": [
  {
   "cell_type": "markdown",
   "metadata": {},
   "source": [
    "# Ex1 - Filtering and Sorting Data"
   ]
  },
  {
   "cell_type": "markdown",
   "metadata": {},
   "source": [
    "### Step 1. Import the necessary libraries"
   ]
  },
  {
   "cell_type": "code",
   "execution_count": 1,
   "metadata": {
    "collapsed": false
   },
   "outputs": [],
   "source": [
    "import pandas as pd"
   ]
  },
  {
   "cell_type": "markdown",
   "metadata": {},
   "source": [
    "### Step 2. Import the dataset from this [address](https://raw.githubusercontent.com/justmarkham/DAT8/master/data/chipotle.tsv). "
   ]
  },
  {
   "cell_type": "code",
   "execution_count": 2,
   "metadata": {},
   "outputs": [],
   "source": [
    "url = 'https://raw.githubusercontent.com/justmarkham/DAT8/master/data/chipotle.tsv'"
   ]
  },
  {
   "cell_type": "markdown",
   "metadata": {},
   "source": [
    "### Step 3. Assign it to a variable called chipo."
   ]
  },
  {
   "cell_type": "code",
   "execution_count": 3,
   "metadata": {
    "collapsed": false
   },
   "outputs": [],
   "source": [
    "chipo = pd.read_csv(url, sep='\\t')"
   ]
  },
  {
   "cell_type": "code",
   "execution_count": 4,
   "metadata": {},
   "outputs": [
    {
     "output_type": "execute_result",
     "data": {
      "text/plain": [
       "   order_id  quantity                              item_name  \\\n",
       "0         1         1           Chips and Fresh Tomato Salsa   \n",
       "1         1         1                                   Izze   \n",
       "2         1         1                       Nantucket Nectar   \n",
       "3         1         1  Chips and Tomatillo-Green Chili Salsa   \n",
       "4         2         2                           Chicken Bowl   \n",
       "5         3         1                           Chicken Bowl   \n",
       "6         3         1                          Side of Chips   \n",
       "7         4         1                          Steak Burrito   \n",
       "8         4         1                       Steak Soft Tacos   \n",
       "9         5         1                          Steak Burrito   \n",
       "\n",
       "                                  choice_description item_price  \n",
       "0                                                NaN     $2.39   \n",
       "1                                       [Clementine]     $3.39   \n",
       "2                                            [Apple]     $3.39   \n",
       "3                                                NaN     $2.39   \n",
       "4  [Tomatillo-Red Chili Salsa (Hot), [Black Beans...    $16.98   \n",
       "5  [Fresh Tomato Salsa (Mild), [Rice, Cheese, Sou...    $10.98   \n",
       "6                                                NaN     $1.69   \n",
       "7  [Tomatillo Red Chili Salsa, [Fajita Vegetables...    $11.75   \n",
       "8  [Tomatillo Green Chili Salsa, [Pinto Beans, Ch...     $9.25   \n",
       "9  [Fresh Tomato Salsa, [Rice, Black Beans, Pinto...     $9.25   "
      ],
      "text/html": "<div>\n<style scoped>\n    .dataframe tbody tr th:only-of-type {\n        vertical-align: middle;\n    }\n\n    .dataframe tbody tr th {\n        vertical-align: top;\n    }\n\n    .dataframe thead th {\n        text-align: right;\n    }\n</style>\n<table border=\"1\" class=\"dataframe\">\n  <thead>\n    <tr style=\"text-align: right;\">\n      <th></th>\n      <th>order_id</th>\n      <th>quantity</th>\n      <th>item_name</th>\n      <th>choice_description</th>\n      <th>item_price</th>\n    </tr>\n  </thead>\n  <tbody>\n    <tr>\n      <th>0</th>\n      <td>1</td>\n      <td>1</td>\n      <td>Chips and Fresh Tomato Salsa</td>\n      <td>NaN</td>\n      <td>$2.39</td>\n    </tr>\n    <tr>\n      <th>1</th>\n      <td>1</td>\n      <td>1</td>\n      <td>Izze</td>\n      <td>[Clementine]</td>\n      <td>$3.39</td>\n    </tr>\n    <tr>\n      <th>2</th>\n      <td>1</td>\n      <td>1</td>\n      <td>Nantucket Nectar</td>\n      <td>[Apple]</td>\n      <td>$3.39</td>\n    </tr>\n    <tr>\n      <th>3</th>\n      <td>1</td>\n      <td>1</td>\n      <td>Chips and Tomatillo-Green Chili Salsa</td>\n      <td>NaN</td>\n      <td>$2.39</td>\n    </tr>\n    <tr>\n      <th>4</th>\n      <td>2</td>\n      <td>2</td>\n      <td>Chicken Bowl</td>\n      <td>[Tomatillo-Red Chili Salsa (Hot), [Black Beans...</td>\n      <td>$16.98</td>\n    </tr>\n    <tr>\n      <th>5</th>\n      <td>3</td>\n      <td>1</td>\n      <td>Chicken Bowl</td>\n      <td>[Fresh Tomato Salsa (Mild), [Rice, Cheese, Sou...</td>\n      <td>$10.98</td>\n    </tr>\n    <tr>\n      <th>6</th>\n      <td>3</td>\n      <td>1</td>\n      <td>Side of Chips</td>\n      <td>NaN</td>\n      <td>$1.69</td>\n    </tr>\n    <tr>\n      <th>7</th>\n      <td>4</td>\n      <td>1</td>\n      <td>Steak Burrito</td>\n      <td>[Tomatillo Red Chili Salsa, [Fajita Vegetables...</td>\n      <td>$11.75</td>\n    </tr>\n    <tr>\n      <th>8</th>\n      <td>4</td>\n      <td>1</td>\n      <td>Steak Soft Tacos</td>\n      <td>[Tomatillo Green Chili Salsa, [Pinto Beans, Ch...</td>\n      <td>$9.25</td>\n    </tr>\n    <tr>\n      <th>9</th>\n      <td>5</td>\n      <td>1</td>\n      <td>Steak Burrito</td>\n      <td>[Fresh Tomato Salsa, [Rice, Black Beans, Pinto...</td>\n      <td>$9.25</td>\n    </tr>\n  </tbody>\n</table>\n</div>"
     },
     "metadata": {},
     "execution_count": 4
    }
   ],
   "source": [
    "chipo.head(10)"
   ]
  },
  {
   "cell_type": "markdown",
   "metadata": {},
   "source": [
    "### Step 4. How many products cost more than $10.00?"
   ]
  },
  {
   "cell_type": "code",
   "execution_count": 5,
   "metadata": {
    "collapsed": false
   },
   "outputs": [
    {
     "output_type": "execute_result",
     "data": {
      "text/plain": [
       "12"
      ]
     },
     "metadata": {},
     "execution_count": 5
    }
   ],
   "source": [
    "# clean the item_price column and transform it in a float\n",
    "precio = [float(val[1:-1]) for val in chipo.item_price]\n",
    "\n",
    "# reassign the column with the cleaned prices\n",
    "chipo.item_price = precio\n",
    "\n",
    "# delete the duplicates in item_name and quantity\n",
    "chipo_2 = chipo.drop_duplicates([\"item_name\",\"quantity\"]) #(103,5)\n",
    "\n",
    "# select only the products with quantity equals to 1 #(50,5)\n",
    "chipo_3 = chipo_2[chipo_2.quantity == 1]\n",
    "\n",
    "len(chipo_3[chipo_3[\"item_price\"] > 10])\n",
    "\n",
    "\n",
    "\n"
   ]
  },
  {
   "cell_type": "markdown",
   "metadata": {},
   "source": [
    "### Step 5. What is the price of each item? \n",
    "###### print a data frame with only two columns item_name and item_price"
   ]
  },
  {
   "cell_type": "code",
   "execution_count": 6,
   "metadata": {
    "collapsed": false
   },
   "outputs": [
    {
     "output_type": "execute_result",
     "data": {
      "text/plain": [
       "                  item_name  item_price\n",
       "606        Steak Salad Bowl       11.89\n",
       "1229    Barbacoa Salad Bowl       11.89\n",
       "1132    Carnitas Salad Bowl       11.89\n",
       "7             Steak Burrito       11.75\n",
       "168   Barbacoa Crispy Tacos       11.75\n",
       "39            Barbacoa Bowl       11.75\n",
       "738       Veggie Soft Tacos       11.25\n",
       "186       Veggie Salad Bowl       11.25\n",
       "62              Veggie Bowl       11.25\n",
       "57           Veggie Burrito       11.25\n",
       "250           Chicken Salad       10.98\n",
       "5              Chicken Bowl       10.98\n",
       "8          Steak Soft Tacos        9.25\n",
       "554   Carnitas Crispy Tacos        9.25\n",
       "237     Carnitas Soft Tacos        9.25\n",
       "56      Barbacoa Soft Tacos        9.25\n",
       "92       Steak Crispy Tacos        9.25\n",
       "664             Steak Salad        8.99\n",
       "54               Steak Bowl        8.99\n",
       "3750         Carnitas Salad        8.99"
      ],
      "text/html": "<div>\n<style scoped>\n    .dataframe tbody tr th:only-of-type {\n        vertical-align: middle;\n    }\n\n    .dataframe tbody tr th {\n        vertical-align: top;\n    }\n\n    .dataframe thead th {\n        text-align: right;\n    }\n</style>\n<table border=\"1\" class=\"dataframe\">\n  <thead>\n    <tr style=\"text-align: right;\">\n      <th></th>\n      <th>item_name</th>\n      <th>item_price</th>\n    </tr>\n  </thead>\n  <tbody>\n    <tr>\n      <th>606</th>\n      <td>Steak Salad Bowl</td>\n      <td>11.89</td>\n    </tr>\n    <tr>\n      <th>1229</th>\n      <td>Barbacoa Salad Bowl</td>\n      <td>11.89</td>\n    </tr>\n    <tr>\n      <th>1132</th>\n      <td>Carnitas Salad Bowl</td>\n      <td>11.89</td>\n    </tr>\n    <tr>\n      <th>7</th>\n      <td>Steak Burrito</td>\n      <td>11.75</td>\n    </tr>\n    <tr>\n      <th>168</th>\n      <td>Barbacoa Crispy Tacos</td>\n      <td>11.75</td>\n    </tr>\n    <tr>\n      <th>39</th>\n      <td>Barbacoa Bowl</td>\n      <td>11.75</td>\n    </tr>\n    <tr>\n      <th>738</th>\n      <td>Veggie Soft Tacos</td>\n      <td>11.25</td>\n    </tr>\n    <tr>\n      <th>186</th>\n      <td>Veggie Salad Bowl</td>\n      <td>11.25</td>\n    </tr>\n    <tr>\n      <th>62</th>\n      <td>Veggie Bowl</td>\n      <td>11.25</td>\n    </tr>\n    <tr>\n      <th>57</th>\n      <td>Veggie Burrito</td>\n      <td>11.25</td>\n    </tr>\n    <tr>\n      <th>250</th>\n      <td>Chicken Salad</td>\n      <td>10.98</td>\n    </tr>\n    <tr>\n      <th>5</th>\n      <td>Chicken Bowl</td>\n      <td>10.98</td>\n    </tr>\n    <tr>\n      <th>8</th>\n      <td>Steak Soft Tacos</td>\n      <td>9.25</td>\n    </tr>\n    <tr>\n      <th>554</th>\n      <td>Carnitas Crispy Tacos</td>\n      <td>9.25</td>\n    </tr>\n    <tr>\n      <th>237</th>\n      <td>Carnitas Soft Tacos</td>\n      <td>9.25</td>\n    </tr>\n    <tr>\n      <th>56</th>\n      <td>Barbacoa Soft Tacos</td>\n      <td>9.25</td>\n    </tr>\n    <tr>\n      <th>92</th>\n      <td>Steak Crispy Tacos</td>\n      <td>9.25</td>\n    </tr>\n    <tr>\n      <th>664</th>\n      <td>Steak Salad</td>\n      <td>8.99</td>\n    </tr>\n    <tr>\n      <th>54</th>\n      <td>Steak Bowl</td>\n      <td>8.99</td>\n    </tr>\n    <tr>\n      <th>3750</th>\n      <td>Carnitas Salad</td>\n      <td>8.99</td>\n    </tr>\n  </tbody>\n</table>\n</div>"
     },
     "metadata": {},
     "execution_count": 6
    }
   ],
   "source": [
    "# delete the duplicates in item_name and quantity\n",
    "chipo_2 = chipo.drop_duplicates([\"item_name\",\"quantity\"]) #(103,5)\n",
    "\n",
    "\n",
    "# select only the products with quantity equals to 1\n",
    "chipo_3 = chipo_2[chipo_2.quantity == 1]\n",
    "\n",
    "# select only the item_name and item_price columns\n",
    "chipo_3[[\"item_name\",\"item_price\"]] \n",
    "\n",
    "# sort the values from the most to less expensive\n",
    "chipo_4 = chipo_3[[\"item_name\",\"item_price\"]]\n",
    "\n",
    "chipo_4.sort_values(\"item_price\",ascending=False).head(20)\n"
   ]
  },
  {
   "cell_type": "markdown",
   "metadata": {},
   "source": [
    "### Step 6. Sort by the name of the item"
   ]
  },
  {
   "cell_type": "code",
   "execution_count": 7,
   "metadata": {
    "collapsed": false
   },
   "outputs": [
    {
     "output_type": "execute_result",
     "data": {
      "text/plain": [
       "      order_id  quantity          item_name  \\\n",
       "3389      1360         2  6 Pack Soft Drink   \n",
       "341        148         1  6 Pack Soft Drink   \n",
       "1849       749         1  6 Pack Soft Drink   \n",
       "1860       754         1  6 Pack Soft Drink   \n",
       "2713      1076         1  6 Pack Soft Drink   \n",
       "...        ...       ...                ...   \n",
       "2384       948         1  Veggie Soft Tacos   \n",
       "781        322         1  Veggie Soft Tacos   \n",
       "2851      1132         1  Veggie Soft Tacos   \n",
       "1699       688         1  Veggie Soft Tacos   \n",
       "1395       567         1  Veggie Soft Tacos   \n",
       "\n",
       "                                     choice_description  item_price  \n",
       "3389                                        [Diet Coke]       12.98  \n",
       "341                                         [Diet Coke]        6.49  \n",
       "1849                                             [Coke]        6.49  \n",
       "1860                                        [Diet Coke]        6.49  \n",
       "2713                                             [Coke]        6.49  \n",
       "...                                                 ...         ...  \n",
       "2384  [Roasted Chili Corn Salsa, [Fajita Vegetables,...        8.75  \n",
       "781   [Fresh Tomato Salsa, [Black Beans, Cheese, Sou...        8.75  \n",
       "2851  [Roasted Chili Corn Salsa (Medium), [Black Bea...        8.49  \n",
       "1699  [Fresh Tomato Salsa, [Fajita Vegetables, Rice,...       11.25  \n",
       "1395  [Fresh Tomato Salsa (Mild), [Pinto Beans, Rice...        8.49  \n",
       "\n",
       "[4622 rows x 5 columns]"
      ],
      "text/html": "<div>\n<style scoped>\n    .dataframe tbody tr th:only-of-type {\n        vertical-align: middle;\n    }\n\n    .dataframe tbody tr th {\n        vertical-align: top;\n    }\n\n    .dataframe thead th {\n        text-align: right;\n    }\n</style>\n<table border=\"1\" class=\"dataframe\">\n  <thead>\n    <tr style=\"text-align: right;\">\n      <th></th>\n      <th>order_id</th>\n      <th>quantity</th>\n      <th>item_name</th>\n      <th>choice_description</th>\n      <th>item_price</th>\n    </tr>\n  </thead>\n  <tbody>\n    <tr>\n      <th>3389</th>\n      <td>1360</td>\n      <td>2</td>\n      <td>6 Pack Soft Drink</td>\n      <td>[Diet Coke]</td>\n      <td>12.98</td>\n    </tr>\n    <tr>\n      <th>341</th>\n      <td>148</td>\n      <td>1</td>\n      <td>6 Pack Soft Drink</td>\n      <td>[Diet Coke]</td>\n      <td>6.49</td>\n    </tr>\n    <tr>\n      <th>1849</th>\n      <td>749</td>\n      <td>1</td>\n      <td>6 Pack Soft Drink</td>\n      <td>[Coke]</td>\n      <td>6.49</td>\n    </tr>\n    <tr>\n      <th>1860</th>\n      <td>754</td>\n      <td>1</td>\n      <td>6 Pack Soft Drink</td>\n      <td>[Diet Coke]</td>\n      <td>6.49</td>\n    </tr>\n    <tr>\n      <th>2713</th>\n      <td>1076</td>\n      <td>1</td>\n      <td>6 Pack Soft Drink</td>\n      <td>[Coke]</td>\n      <td>6.49</td>\n    </tr>\n    <tr>\n      <th>...</th>\n      <td>...</td>\n      <td>...</td>\n      <td>...</td>\n      <td>...</td>\n      <td>...</td>\n    </tr>\n    <tr>\n      <th>2384</th>\n      <td>948</td>\n      <td>1</td>\n      <td>Veggie Soft Tacos</td>\n      <td>[Roasted Chili Corn Salsa, [Fajita Vegetables,...</td>\n      <td>8.75</td>\n    </tr>\n    <tr>\n      <th>781</th>\n      <td>322</td>\n      <td>1</td>\n      <td>Veggie Soft Tacos</td>\n      <td>[Fresh Tomato Salsa, [Black Beans, Cheese, Sou...</td>\n      <td>8.75</td>\n    </tr>\n    <tr>\n      <th>2851</th>\n      <td>1132</td>\n      <td>1</td>\n      <td>Veggie Soft Tacos</td>\n      <td>[Roasted Chili Corn Salsa (Medium), [Black Bea...</td>\n      <td>8.49</td>\n    </tr>\n    <tr>\n      <th>1699</th>\n      <td>688</td>\n      <td>1</td>\n      <td>Veggie Soft Tacos</td>\n      <td>[Fresh Tomato Salsa, [Fajita Vegetables, Rice,...</td>\n      <td>11.25</td>\n    </tr>\n    <tr>\n      <th>1395</th>\n      <td>567</td>\n      <td>1</td>\n      <td>Veggie Soft Tacos</td>\n      <td>[Fresh Tomato Salsa (Mild), [Pinto Beans, Rice...</td>\n      <td>8.49</td>\n    </tr>\n  </tbody>\n</table>\n<p>4622 rows × 5 columns</p>\n</div>"
     },
     "metadata": {},
     "execution_count": 7
    }
   ],
   "source": [
    "chipo.sort_values(\"item_name\")"
   ]
  },
  {
   "cell_type": "markdown",
   "metadata": {},
   "source": [
    "### Step 7. What was the quantity of the most expensive item ordered?"
   ]
  },
  {
   "cell_type": "code",
   "execution_count": 8,
   "metadata": {},
   "outputs": [
    {
     "output_type": "execute_result",
     "data": {
      "text/plain": [
       "      order_id  quantity                     item_name choice_description  \\\n",
       "3598      1443        15  Chips and Fresh Tomato Salsa                NaN   \n",
       "\n",
       "      item_price  \n",
       "3598       44.25  "
      ],
      "text/html": "<div>\n<style scoped>\n    .dataframe tbody tr th:only-of-type {\n        vertical-align: middle;\n    }\n\n    .dataframe tbody tr th {\n        vertical-align: top;\n    }\n\n    .dataframe thead th {\n        text-align: right;\n    }\n</style>\n<table border=\"1\" class=\"dataframe\">\n  <thead>\n    <tr style=\"text-align: right;\">\n      <th></th>\n      <th>order_id</th>\n      <th>quantity</th>\n      <th>item_name</th>\n      <th>choice_description</th>\n      <th>item_price</th>\n    </tr>\n  </thead>\n  <tbody>\n    <tr>\n      <th>3598</th>\n      <td>1443</td>\n      <td>15</td>\n      <td>Chips and Fresh Tomato Salsa</td>\n      <td>NaN</td>\n      <td>44.25</td>\n    </tr>\n  </tbody>\n</table>\n</div>"
     },
     "metadata": {},
     "execution_count": 8
    }
   ],
   "source": [
    "chipo.sort_values(by=\"item_price\", ascending=False).head(1)\n"
   ]
  },
  {
   "cell_type": "markdown",
   "metadata": {},
   "source": [
    "### Step 8. How many times was a Veggie Salad Bowl ordered?"
   ]
  },
  {
   "cell_type": "code",
   "execution_count": 11,
   "metadata": {},
   "outputs": [
    {
     "output_type": "execute_result",
     "data": {
      "text/plain": [
       "18"
      ]
     },
     "metadata": {},
     "execution_count": 11
    }
   ],
   "source": [
    "veggie = chipo[\"item_name\"] == \"Veggie Salad Bowl\"\n",
    "lista_veggie = chipo[veggie]\n",
    "len(lista_veggie)"
   ]
  },
  {
   "cell_type": "markdown",
   "metadata": {},
   "source": [
    "### Step 9. How many times did someone order more than one Canned Soda?"
   ]
  },
  {
   "cell_type": "code",
   "execution_count": 700,
   "metadata": {},
   "outputs": [
    {
     "output_type": "execute_result",
     "data": {
      "text/plain": [
       "20"
      ]
     },
     "metadata": {},
     "execution_count": 700
    }
   ],
   "source": [
    "#CanSod = chipo.item_name == \"Canned Soda\"\n",
    "#lista_CanSod = chipo[CanSod]\n",
    "#lista_CanSod[\"quantity\" > 1]\n",
    "\n",
    "CanSod = chipo[(chipo.item_name == \"Canned Soda\") & (chipo.quantity > 1)]\n",
    "len(CanSod)\n"
   ]
  }
 ],
 "metadata": {
  "anaconda-cloud": {},
  "kernelspec": {
   "name": "python3",
   "display_name": "Python 3.9.0 64-bit",
   "metadata": {
    "interpreter": {
     "hash": "cf88cdeb52cfbd9b7891bd0104565f5c75083759e3ad4e400c6eab5e28be6642"
    }
   }
  },
  "language_info": {
   "codemirror_mode": {
    "name": "ipython",
    "version": 2
   },
   "file_extension": ".py",
   "mimetype": "text/x-python",
   "name": "python",
   "nbconvert_exporter": "python",
   "pygments_lexer": "ipython2",
   "version": "3.9.0-final"
  }
 },
 "nbformat": 4,
 "nbformat_minor": 0
}