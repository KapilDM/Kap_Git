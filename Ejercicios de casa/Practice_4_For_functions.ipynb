{
 "cells": [
  {
   "cell_type": "markdown",
   "metadata": {},
   "source": [
    "# Python | day 4 | for loop, functions (feat. basics & if/else) "
   ]
  },
  {
   "cell_type": "markdown",
   "metadata": {},
   "source": [
    "### Exercise 0.1 - Python Basics\n",
    "\n",
    "1. What do we use to make a line break in a print? And for a tab stop?\n",
    "\n",
    "have a look ---> http://elclubdelautodidacta.es/wp/2012/04/python-capitulo-31-exprimiendo-la-funcion-print/"
   ]
  },
  {
   "cell_type": "code",
   "execution_count": 84,
   "metadata": {},
   "outputs": [],
   "source": [
    "#Line break = \\n\n",
    "#tab stops = \\t"
   ]
  },
  {
   "cell_type": "markdown",
   "metadata": {},
   "source": [
    "2. Make a converter from dollars to euros. You'll have to use input."
   ]
  },
  {
   "cell_type": "code",
   "execution_count": 86,
   "metadata": {},
   "outputs": [
    {
     "output_type": "stream",
     "name": "stdout",
     "text": [
      "$ 2 = 1.68 €\n"
     ]
    }
   ],
   "source": [
    "#1$ = 0.84€\n",
    "eur = 0.84\n",
    "dol = input(\"Introduce cantidad en dolares =\")\n",
    "dol = int(dol)\n",
    "cambio = dol * eur\n",
    "print(\"$\", dol, \"=\", cambio, \"€\" )\n",
    "\n"
   ]
  },
  {
   "cell_type": "markdown",
   "metadata": {},
   "source": [
    "3. Declare two strings, one will be your first name and the other your last name. Declare your age in another variable. Print a sentence which include those variables, using ```f{}```. Wtf is that? check this out **-->** https://realpython.com/python-string-formatting/"
   ]
  },
  {
   "cell_type": "code",
   "execution_count": 87,
   "metadata": {},
   "outputs": [
    {
     "output_type": "stream",
     "name": "stdout",
     "text": [
      "my name is Kapil Dadlani and im 35 years old\nmy name is Kapil Dadlani and im 35 years old\n"
     ]
    }
   ],
   "source": [
    "f_name = \"Kapil\"\n",
    "l_name = \"Dadlani\"\n",
    "age = 35\n",
    "print(f'my name is {f_name} {l_name} and im {age} years old')\n",
    "\n",
    "#Pongo la forma normal, para compararlas:\n",
    "print(\"my name is\", f_name, l_name, \"and im\", age,\"years old\")\n"
   ]
  },
  {
   "cell_type": "markdown",
   "metadata": {},
   "source": [
    "4. Given the list `[4,7, -3]`, calculate its maximum, minimum and sum."
   ]
  },
  {
   "cell_type": "code",
   "execution_count": 88,
   "metadata": {},
   "outputs": [
    {
     "output_type": "stream",
     "name": "stdout",
     "text": [
      "7\n-3\n8\n"
     ]
    }
   ],
   "source": [
    "#Encontré estas funciones por internet.\n",
    "lista = [4,7,-3]\n",
    "print(max(lista))\n",
    "print(min(lista))\n",
    "print(sum(lista))"
   ]
  },
  {
   "cell_type": "markdown",
   "metadata": {},
   "source": [
    "5. Round `38.38276252728` to 5 decimal places.\n"
   ]
  },
  {
   "cell_type": "code",
   "execution_count": 89,
   "metadata": {},
   "outputs": [
    {
     "output_type": "execute_result",
     "data": {
      "text/plain": [
       "38.38276"
      ]
     },
     "metadata": {},
     "execution_count": 89
    }
   ],
   "source": [
    "big_num = 38.38276252728\n",
    "round(38.38276252728, 5)"
   ]
  },
  {
   "cell_type": "markdown",
   "metadata": {},
   "source": [
    "6. Make the phrase `\"Born to be wild\"` uppercase, then lowercase, divide it by spaces, and finally, replace `\"wild\"` with `\"Geek.\"`"
   ]
  },
  {
   "cell_type": "code",
   "execution_count": 90,
   "metadata": {},
   "outputs": [
    {
     "output_type": "stream",
     "name": "stdout",
     "text": [
      "BORN TO BE WILD\nborn to be wild\n['Born', 'to', 'be', 'wild']\nBorn to be Geek\n"
     ]
    }
   ],
   "source": [
    "phrase = \"Born to be wild\"\n",
    "print(phrase.upper())\n",
    "print(phrase.lower())\n",
    "print(phrase.split())\n",
    "print(phrase.replace(\"wild\", \"Geek\"))"
   ]
  },
  {
   "cell_type": "markdown",
   "metadata": {},
   "source": [
    "7. Create a program where two inputs are collected, and the output of the program is a boolean which tell the user whether those inputs are the same or not.\n"
   ]
  },
  {
   "cell_type": "code",
   "execution_count": 95,
   "metadata": {},
   "outputs": [
    {
     "output_type": "stream",
     "name": "stdout",
     "text": [
      "hola\n",
      "hola\n"
     ]
    },
    {
     "output_type": "execute_result",
     "data": {
      "text/plain": [
       "True"
      ]
     },
     "metadata": {},
     "execution_count": 95
    }
   ],
   "source": [
    "algo = input(\"Escribe algo= \")\n",
    "print(algo)\n",
    "algo2 = input(\"Escribe algo mas= \")\n",
    "print(algo2)\n",
    "algo == algo2\n",
    "    "
   ]
  },
  {
   "cell_type": "markdown",
   "metadata": {},
   "source": []
  },
  {
   "cell_type": "markdown",
   "metadata": {},
   "source": [
    "### Exercise 0.2 - If/else\n",
    "\n",
    "1. Create a decission tree using if/else sentences, to determine the price of the movies ticket. If the client's age is between 5 and 15 years, both included, the price will be 5, if she/he is retired and the movie is one of the `peliculas_discount`, the price is 4. In any other case, it will be 7 euros.\n",
    "\n",
    "You should create the list of `peliculas_discount` with your favourites movies. "
   ]
  },
  {
   "cell_type": "code",
   "execution_count": 96,
   "metadata": {},
   "outputs": [
    {
     "output_type": "stream",
     "name": "stdout",
     "text": [
      "Edad = 67 años\nPelicula elegida= ELPADRINO\nEstá retirado?=  S\nprecio final = 4€\n"
     ]
    }
   ],
   "source": [
    "peliculas_discount = [\"INFILTRADOS\", \"ELPADRINO\", \"AMERICANGANGSTER\"] \n",
    "edad = input(\"Que edad tiene el cliente =\")\n",
    "edad = int(edad)\n",
    "peli_elegida = input(\"Que pelicula quiere ver\")\n",
    "retirado = input(\"Está usted retirado? S/N\")\n",
    "print(\"Edad =\",edad, \"años\")\n",
    "print(\"Pelicula elegida=\", peli_elegida)\n",
    "print(\"Está retirado?= \",retirado)\n",
    "\n",
    "if (edad >=  5) and (edad <= 15):\n",
    "        print(\"precio final = 5€\")\n",
    "elif retirado == \"S\":                         #es lo mismo esto: elif retirado ==\"s\" and peli_elegida in \n",
    "                                              #peliculas_discount\n",
    "    if peli_elegida in peliculas_discount:                   \n",
    "       print(\"precio final = 4€\")\n",
    "    else:\n",
    "        print(\"precio final = 7€\")\n",
    "else:\n",
    "    print(\"precio final = 7€\")\n"
   ]
  },
  {
   "source": [
    "### Exercise 1 - For\n",
    "\n",
    "If you find a way of solving any of these questions below without using for loop, don't hesitate to do it. "
   ],
   "cell_type": "markdown",
   "metadata": {}
  },
  {
   "cell_type": "markdown",
   "metadata": {},
   "source": [
    "1. Prints the numbers between 0 and 70 that are multiples of 3 and 5."
   ]
  },
  {
   "cell_type": "code",
   "execution_count": 184,
   "metadata": {},
   "outputs": [
    {
     "output_type": "stream",
     "name": "stdout",
     "text": [
      "0\n15\n30\n45\n60\n"
     ]
    }
   ],
   "source": [
    "numero = 70\n",
    "for x in range(numero):\n",
    "    if (x % 3 == 0) and (x % 5 == 0):\n",
    "        print(x)\n",
    "        "
   ]
  },
  {
   "cell_type": "markdown",
   "metadata": {},
   "source": [
    "2. Print the following pattern:\n",
    "\n",
    "```python\n",
    "1\n",
    "22\n",
    "333\n",
    "4444\n",
    "55555\n",
    "666666\n",
    "7777777\n",
    "88888888\n",
    "999999999\n",
    "```\n"
   ]
  },
  {
   "cell_type": "code",
   "execution_count": 40,
   "metadata": {},
   "outputs": [
    {
     "output_type": "stream",
     "name": "stdout",
     "text": [
      " \n1 \n22 \n333 \n4444 \n55555 \n666666 \n7777777 \n88888888 \n999999999 \n"
     ]
    }
   ],
   "source": [
    "#He tenido que ir a google para ver ejemplos y poder hacerlo\n",
    "rows = 10\n",
    "for filas in range(rows):\n",
    "    for columnas in range(filas):\n",
    "        print(filas,end=\"\") # El end=\"\" es para que python no haga un salto de linea\n",
    "    print(\" \")\n",
    "  \n",
    "    \n",
    "    "
   ]
  },
  {
   "cell_type": "markdown",
   "metadata": {
    "collapsed": true
   },
   "source": [
    "3. Given to list of same lenght, create a third list which contains the sum of both of the list, element by element. "
   ]
  },
  {
   "cell_type": "markdown",
   "metadata": {},
   "source": [
    "```python\n",
    "Example: \n",
    "a = [1,2]\n",
    "b = [4,5]\n",
    "new_list = [5,7]\n",
    "```\n"
   ]
  },
  {
   "cell_type": "code",
   "execution_count": 41,
   "metadata": {},
   "outputs": [
    {
     "output_type": "stream",
     "name": "stdout",
     "text": [
      "new_list = [5, 7]\n"
     ]
    }
   ],
   "source": [
    "a = [1,2]\n",
    "b = [4,5]\n",
    "new_list = []\n",
    "\n",
    "for i in range(len(a)):\n",
    "    new_list.append(a[i] + b[i]) \n",
    "    \n",
    "print(\"new_list =\", new_list)\n",
    "\n"
   ]
  },
  {
   "cell_type": "markdown",
   "metadata": {},
   "source": [
    "4. Get first, second best scores from the list.\n",
    "List contains duplicates."
   ]
  },
  {
   "cell_type": "code",
   "execution_count": 69,
   "metadata": {},
   "outputs": [
    {
     "output_type": "stream",
     "name": "stdout",
     "text": [
      "[86, 86, 85, 85, 85, 84, 83, 45, 23, 2, 1, 0]\nfirst best score = 86\n2º best score= 85\n"
     ]
    }
   ],
   "source": [
    "#El ejercicio me sale bien pero tengo la sensación que el acumulador no sería necesario y se puede hacer de otra manera mas sencilla\n",
    "scores = [86,86,85,85,85,83,23,45,84,1,2,0]\n",
    "scores.sort()\n",
    "scores.reverse()\n",
    "print(scores)\n",
    "i=0\n",
    "print(\"first best score =\",scores[0])\n",
    "for i in range(len(scores)):\n",
    "    if scores[i] == scores[0]:\n",
    "        i += 1 #EL 1 *= 1. En realidad no lo usamos para nada. poner un PASS, que pasa de esto. Un continue no porque volveria al for\n",
    "    else:\n",
    "        print(\"2º best score=\",scores[i])\n",
    "        break\n",
    "        \n"
   ]
  },
  {
   "cell_type": "code",
   "execution_count": null,
   "metadata": {},
   "outputs": [],
   "source": []
  },
  {
   "cell_type": "markdown",
   "metadata": {},
   "source": [
    "5. From the given list:\n",
    "    \n",
    "    a) Create separate lists of strings and numbers.\n",
    "\n",
    "    b) Sort the strings' list in ascending order\n",
    "\n",
    "    c) Sort the strings' list in descending order\n",
    "\n",
    "    d) Sort the number's list from lowest to highest\n",
    "\n",
    "    e) Sort the number's list from highest to lowest"
   ]
  },
  {
   "cell_type": "code",
   "execution_count": 70,
   "metadata": {},
   "outputs": [],
   "source": [
    "gadgets = [\"Mobile\", \"Laptop\", 100, \"Camera\", 310.28, \"Speakers\", 27.00, \n",
    "           \"Television\", 1000, \"Laptop Case\", \"Camera Lens\"]"
   ]
  },
  {
   "cell_type": "code",
   "execution_count": 103,
   "metadata": {},
   "outputs": [
    {
     "output_type": "stream",
     "name": "stdout",
     "text": [
      "string list in ascending order= ['Camera', 'Camera Lens', 'Laptop', 'Laptop Case', 'Mobile', 'Speakers', 'Television']\nString list in descending order= ['Television', 'Speakers', 'Mobile', 'Laptop Case', 'Laptop', 'Camera Lens', 'Camera']\nNumber list from lowest to highest= [27.0, 100, 310.28, 1000]\nNumber list from highest to lowest= [1000, 310.28, 100, 27.0]\n"
     ]
    }
   ],
   "source": [
    "string_gadgets = [\"Mobile\", \"Laptop\", \"Camera\", \"Speakers\", \"Television\", \"Laptop Case\", \"Camera Lens\"]\n",
    "number_gadgets = [100, 310.28, 27.00, 1000]\n",
    "string_gadgets.sort()\n",
    "print(\"string list in ascending order=\",string_gadgets)\n",
    "string_gadgets.sort(reverse=True)                      #Esto es una forma de hacerlo\n",
    "print(\"String list in descending order=\",string_gadgets)\n",
    "number_gadgets.sort()\n",
    "print(\"Number list from lowest to highest=\",number_gadgets)\n",
    "number_gadgets.reverse()                               #Esta es otra forma\n",
    "print(\"Number list from highest to lowest=\",number_gadgets)"
   ]
  },
  {
   "cell_type": "markdown",
   "metadata": {},
   "source": [
    "6. Make a list of ten aliens, each of which is one color: 'red', 'green', or 'blue'.\n",
    "    - You can shorten this to 'r', 'g', and 'b' if you want, but if you choose this option you have to include a comment explaining what r, g, and b stand for.\n",
    "    - Red aliens are worth 5 points, green aliens are worth 10 points, and blue aliens are worth 20 points.\n",
    "    - Use a for loop to determine the number of points a player would earn for destroying all of the aliens in your list."
   ]
  },
  {
   "cell_type": "code",
   "execution_count": 15,
   "metadata": {},
   "outputs": [
    {
     "output_type": "stream",
     "name": "stdout",
     "text": [
      "Number of points earned = 110\n"
     ]
    }
   ],
   "source": [
    "alien_list = [[\"a1\",\"red\"],[\"a2\", \"green\"],[\"a3\", \"blue\"],[\"a4\", \"red\"],[\"a5\",\"green\"],[\"a6\",\"blue\"],[\"a7\",\"red\"],[\"a8\",\"green\"],[\"a9\",\"blue\"],[\"a10\", \"red\"]]\n",
    "\n",
    "#red = 5 points \n",
    "#green = 10 points \n",
    "#blue = 20 points\n",
    "suma = 0\n",
    "for pos,valor in enumerate(alien_list):\n",
    "    if valor[1] == \"red\":\n",
    "        suma += 5\n",
    "    elif valor[1] == \"green\":\n",
    "        suma += 10\n",
    "    elif valor[1] == \"blue\": #Tambien podia haber puesto un else.\n",
    "        suma += 20\n",
    "print(\"Number of points earned =\",suma)\n",
    "\n"
   ]
  },
  {
   "cell_type": "markdown",
   "metadata": {},
   "source": [
    "### Exercise 2 - Functions"
   ]
  },
  {
   "cell_type": "markdown",
   "metadata": {},
   "source": [
    "1. Write a function program to sum up two given different numbers. "
   ]
  },
  {
   "cell_type": "code",
   "execution_count": 148,
   "metadata": {},
   "outputs": [
    {
     "output_type": "stream",
     "name": "stdout",
     "text": [
      "12\n"
     ]
    }
   ],
   "source": [
    "def suma_dos_num(a,b):\n",
    "    c = a + b\n",
    "    return c\n",
    "\n",
    "print(suma_dos_num(a=9,b=3))\n"
   ]
  },
  {
   "cell_type": "markdown",
   "metadata": {},
   "source": [
    "2. Write a Python program to convert a tuple of characters into a string.\n",
    "\n",
    "    - Sample tuple: `(\"T\", \"H\", \"E\", \" \", \"B\", \"R\", \"I\", \"D\", \"G\", \"E\")`\n",
    "    - Expected output : `\"THE BRIDGE\"`\n",
    "    \n",
    "Hint: Turn it into a list. "
   ]
  },
  {
   "cell_type": "code",
   "execution_count": 13,
   "metadata": {},
   "outputs": [
    {
     "output_type": "stream",
     "name": "stdout",
     "text": [
      "THE BRIDGE"
     ]
    }
   ],
   "source": [
    "sample_tuple = (\"T\", \"H\", \"E\", \" \", \"B\", \"R\", \"I\", \"D\", \"G\", \"E\")\n",
    "sample_lista = list(sample_tuple)\n",
    "\n",
    "def concat_function(cualquier_lista):\n",
    "    for pos, valor in enumerate(cualquier_lista):\n",
    "        cualquier_lista[pos]\n",
    "        print(cualquier_lista[pos],end=\"\")\n",
    "\n",
    "concat_function(sample_lista)"
   ]
  },
  {
   "cell_type": "markdown",
   "metadata": {},
   "source": [
    "3. Write a Python program to generate a list where the values are square of numbers between 1 and 30 (both included), and return a list of first and last 5 elements of the list."
   ]
  },
  {
   "cell_type": "code",
   "execution_count": 8,
   "metadata": {},
   "outputs": [
    {
     "output_type": "stream",
     "name": "stdout",
     "text": [
      "[0, 1, 4, 9, 16, 25, 36, 49, 64, 81, 100, 121, 144, 169, 196, 225, 256, 289, 324, 361, 400, 441, 484, 529, 576, 625, 676, 729, 784, 841]\n([0, 1, 4, 9, 16], [625, 676, 729, 784, 841])\n"
     ]
    }
   ],
   "source": [
    "\n",
    "def funcion_square_numbers():\n",
    "    factorial_list = []\n",
    "    f_5_list = []\n",
    "    for i in range(30):\n",
    "        square = i * i\n",
    "        factorial_list.append(square)\n",
    "    print(factorial_list)\n",
    "    for pos, valor in enumerate(factorial_list):\n",
    "        f_5_list.append(factorial_list[pos])\n",
    "    print((f_5_list[:5],f_5_list[25:]))\n",
    "funcion_square_numbers()\n"
   ]
  },
  {
   "cell_type": "markdown",
   "metadata": {},
   "source": [
    "4. Create a Python program that calculates the factorial of a number.\n",
    "\n",
    "The program will ask the user to enter a number (input) and will return the factorial of that number."
   ]
  },
  {
   "cell_type": "code",
   "execution_count": 10,
   "metadata": {},
   "outputs": [
    {
     "output_type": "stream",
     "name": "stdout",
     "text": [
      "Factorial of 2 = 2\n"
     ]
    }
   ],
   "source": [
    "def funcion():\n",
    "    nuevo_num = int(input(\"introduce un numero =\"))\n",
    "    j = 1\n",
    "    for i in range(nuevo_num):\n",
    "        i +=  1\n",
    "        j *= i\n",
    "    print(\"Factorial of\",nuevo_num, \"=\", j)\n",
    "\n",
    "funcion()"
   ]
  },
  {
   "cell_type": "markdown",
   "metadata": {},
   "source": [
    "5. Create a program that calculates the average.\n",
    "\n",
    "The program will ask the user to specify how many numbers you want to enter, and will show a prompt to include number by number to a list, and then calculate the average of each number in that list."
   ]
  },
  {
   "cell_type": "code",
   "execution_count": 12,
   "metadata": {},
   "outputs": [
    {
     "output_type": "stream",
     "name": "stdout",
     "text": [
      "Esta es la lista= [2, 3, 4, 3]\nMedia=  3.0\n"
     ]
    }
   ],
   "source": [
    "\n",
    "\n",
    "def funcion_media():\n",
    "    lista = []\n",
    "    cuantos_numeros = input(\"Cuantos numeros quieres introducir?\")\n",
    "    cuantos_numeros = int(cuantos_numeros)\n",
    "    for i in range(cuantos_numeros):\n",
    "        que_numero = input(\"¿Que numeros quieres introducir? \")\n",
    "        que_numero = int(que_numero)\n",
    "        lista.append(que_numero)\n",
    "    print(\"Esta es la lista=\", lista)\n",
    "    suma_valor = 0\n",
    "    for pos, valor in enumerate(lista):\n",
    "        suma_valor += valor\n",
    "    media = suma_valor/cuantos_numeros\n",
    "    print(\"Media= \", media)\n",
    "\n",
    "funcion_media()\n"
   ]
  },
  {
   "cell_type": "markdown",
   "metadata": {},
   "source": [
    "# If you made it till here you did a fantastic work!"
   ]
  },
  {
   "cell_type": "markdown",
   "metadata": {},
   "source": [
    "![\"holo\"](https://img-9gag-fun.9cache.com/photo/aNg9wMK_460s.jpg)"
   ]
  },
  {
   "cell_type": "code",
   "execution_count": null,
   "metadata": {},
   "outputs": [],
   "source": []
  }
 ],
 "metadata": {
  "kernelspec": {
   "name": "python3",
   "display_name": "Python 3.9.0 64-bit",
   "metadata": {
    "interpreter": {
     "hash": "cf88cdeb52cfbd9b7891bd0104565f5c75083759e3ad4e400c6eab5e28be6642"
    }
   }
  },
  "language_info": {
   "codemirror_mode": {
    "name": "ipython",
    "version": 3
   },
   "file_extension": ".py",
   "mimetype": "text/x-python",
   "name": "python",
   "nbconvert_exporter": "python",
   "pygments_lexer": "ipython3",
   "version": "3.9.0-final"
  }
 },
 "nbformat": 4,
 "nbformat_minor": 4
}