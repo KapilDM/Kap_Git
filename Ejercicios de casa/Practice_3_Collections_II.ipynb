{
 "cells": [
  {
   "cell_type": "markdown",
   "metadata": {},
   "source": [
    "# Python | day 3 | collections & if/else"
   ]
  },
  {
   "cell_type": "markdown",
   "metadata": {},
   "source": [
    "### Exercise 1. "
   ]
  },
  {
   "cell_type": "markdown",
   "metadata": {},
   "source": [
    "1. Create a variable called **num_bridge** with a value of 15."
   ]
  },
  {
   "cell_type": "code",
   "execution_count": 53,
   "metadata": {},
   "outputs": [
    {
     "output_type": "execute_result",
     "data": {
      "text/plain": [
       "15"
      ]
     },
     "metadata": {},
     "execution_count": 53
    }
   ],
   "source": [
    "num_bridge = 15\n",
    "num_bridge"
   ]
  },
  {
   "cell_type": "markdown",
   "metadata": {},
   "source": [
    "2. Create a variable called **name_street** with the value \"Recoletos\".\n",
    "\n"
   ]
  },
  {
   "cell_type": "code",
   "execution_count": 54,
   "metadata": {},
   "outputs": [],
   "source": [
    "name_street = \"Recoletos\""
   ]
  },
  {
   "cell_type": "markdown",
   "metadata": {},
   "source": [
    "3. Create a variable called **personal_taste** which should be `True` if you like the beach better or `False` if you rather choose mountain. "
   ]
  },
  {
   "cell_type": "code",
   "execution_count": 55,
   "metadata": {},
   "outputs": [
    {
     "output_type": "execute_result",
     "data": {
      "text/plain": [
       "bool"
      ]
     },
     "metadata": {},
     "execution_count": 55
    }
   ],
   "source": [
    "personal_taste = True\n",
    "type(personal_taste)"
   ]
  },
  {
   "cell_type": "markdown",
   "metadata": {},
   "source": [
    "4. Create a variable called **nothing** like follows: `nothing = None`. `None`doesn't represent any value, something you should keep in mind if you do `if nothing:` then `nothing` acts as a boolean `False`. "
   ]
  },
  {
   "cell_type": "code",
   "execution_count": 56,
   "metadata": {},
   "outputs": [
    {
     "output_type": "execute_result",
     "data": {
      "text/plain": [
       "NoneType"
      ]
     },
     "metadata": {},
     "execution_count": 56
    }
   ],
   "source": [
    "nothing = None\n",
    "type(nothing)"
   ]
  },
  {
   "cell_type": "markdown",
   "metadata": {},
   "source": [
    "5. Create a variable called **address_list**. This should be a list which contains the following: first element **name_street** and second element **num_bridge**. "
   ]
  },
  {
   "cell_type": "code",
   "execution_count": 57,
   "metadata": {},
   "outputs": [
    {
     "output_type": "execute_result",
     "data": {
      "text/plain": [
       "['Recoletos', 15]"
      ]
     },
     "metadata": {},
     "execution_count": 57
    }
   ],
   "source": [
    "address_list = [name_street, num_bridge]\n",
    "address_list"
   ]
  },
  {
   "cell_type": "markdown",
   "metadata": {},
   "source": [
    "6. Create a variable called **sleep_hours** that should contains, as a string, the hours you've slept today."
   ]
  },
  {
   "cell_type": "code",
   "execution_count": 58,
   "metadata": {},
   "outputs": [],
   "source": [
    "sleep_hours = \"6\""
   ]
  },
  {
   "cell_type": "markdown",
   "metadata": {},
   "source": [
    "7. Create a list called **info_list** containing every variable you've just created in the order you have done it.\n",
    "\n",
    "```python\n",
    "len(info_list) == 6\n",
    "True\n",
    "```\n",
    "\n",
    "**IMPORTANT: you will use `info_list` at some point next week**"
   ]
  },
  {
   "source": [
    "info_list = [num_bridge, name_street, personal_taste, nothing, add_list, sleep_hours]\n",
    "info_list"
   ],
   "cell_type": "code",
   "metadata": {},
   "execution_count": 59,
   "outputs": [
    {
     "output_type": "execute_result",
     "data": {
      "text/plain": [
       "[15, 'Recoletos', True, None, ['Recoletos', 15], '6']"
      ]
     },
     "metadata": {},
     "execution_count": 59
    }
   ]
  },
  {
   "cell_type": "markdown",
   "metadata": {},
   "source": [
    "8. Run the following cell in order to delete every variable you've just created and keep **info_list** only.\n",
    "Print **info_list** once you've done it to check the list still exists."
   ]
  },
  {
   "cell_type": "code",
   "execution_count": 60,
   "metadata": {},
   "outputs": [],
   "source": [
    "#run this\n",
    "del num_bridge\n",
    "del name_street\n",
    "del personal_taste\n",
    "del nothing\n",
    "del address_list\n",
    "del sleep_hours"
   ]
  },
  {
   "cell_type": "code",
   "execution_count": 63,
   "metadata": {},
   "outputs": [
    {
     "output_type": "execute_result",
     "data": {
      "text/plain": [
       "[15, 'Recoletos', True, None, ['Recoletos', 15], '6']"
      ]
     },
     "metadata": {},
     "execution_count": 63
    }
   ],
   "source": [
    "info_list   "
   ]
  },
  {
   "cell_type": "markdown",
   "metadata": {},
   "source": [
    "### Exercise 2."
   ]
  },
  {
   "cell_type": "markdown",
   "metadata": {},
   "source": [
    "You'll need `info_list` in order to continue with this exercise. Remember don't use any variable except `info_list`. \n",
    "\n",
    "Print the following. Don't use functions and/or loops. "
   ]
  },
  {
   "cell_type": "markdown",
   "metadata": {},
   "source": [
    " 1. Add the number of The Bridge and the hours you slept last night. "
   ]
  },
  {
   "cell_type": "code",
   "execution_count": 81,
   "metadata": {},
   "outputs": [
    {
     "output_type": "stream",
     "name": "stdout",
     "text": [
      "[15, 'Recoletos', True, None, ['Recoletos', 15], '6']\n<class 'int'>\n"
     ]
    },
    {
     "output_type": "execute_result",
     "data": {
      "text/plain": [
       "21"
      ]
     },
     "metadata": {},
     "execution_count": 81
    }
   ],
   "source": [
    "#Creo la variable horas_sueno para no modificar la lista\n",
    "print(info_list)\n",
    "print(type(info_list[0]))\n",
    "horas_sueno = int(info_list[-1])\n",
    "info_list[0] + horas_sueno \n",
    "\n"
   ]
  },
  {
   "cell_type": "markdown",
   "metadata": {},
   "source": [
    "2. Concatenate the number of The Bridge, the name of the street, your personal taste and the hours you slept. All of them should be separated by `\" --> \"`."
   ]
  },
  {
   "cell_type": "code",
   "execution_count": 140,
   "metadata": {},
   "outputs": [
    {
     "output_type": "stream",
     "name": "stdout",
     "text": [
      "['15', 'Recoletos', 'True', None, ['Recoletos', 15], '6']\n"
     ]
    },
    {
     "output_type": "execute_result",
     "data": {
      "text/plain": [
       "'15 --> Recoletos --> True --> 6'"
      ]
     },
     "metadata": {},
     "execution_count": 140
    }
   ],
   "source": [
    "#Pasamos todo a String para poder concatena\n",
    "print(info_list)\n",
    "info_list[0] = str(info_list[0])\n",
    "info_list[2]= str(info_list[2])\n",
    "Concatenar = (info_list[0] + \" --> \" + info_list[1] + \" --> \" + info_list[2] + \" --> \" + info_list[-1])\n",
    "Concatenar"
   ]
  },
  {
   "cell_type": "markdown",
   "metadata": {},
   "source": [
    "3. Access to the list which is at the fourth position of **info_list** and print the result of: \n",
    "     - The concatenation of both elements contained in the list found in fourth position of **info_list**. \n",
    "     - The multiplication of the lenght of the list and the lenght of the street's name.\n",
    "    \n",
    "   If at the fourth position of **info_list** you don't find a list, go back to Exercise 1, please. "
   ]
  },
  {
   "cell_type": "code",
   "execution_count": 156,
   "metadata": {},
   "outputs": [
    {
     "output_type": "stream",
     "name": "stdout",
     "text": [
      "['Recoletos', '15']\nRecoletos15\n54\n"
     ]
    }
   ],
   "source": [
    "print(info_list[4])\n",
    "info_list[4][1] = str(info_list[4][1])\n",
    "Concatenacion = info_list[4][0] + info_list[4][1]\n",
    "print(Concatenacion)\n",
    "\n",
    "Multiplicacion = len(info_list) * len(info_list[1])\n",
    "print(Multiplicacion)"
   ]
  },
  {
   "cell_type": "markdown",
   "metadata": {},
   "source": [
    "### Exercise 3."
   ]
  },
  {
   "cell_type": "markdown",
   "metadata": {},
   "source": [
    "1. Get user input using input(“Enter your age: ”). If user is 18 or older, give feedback: You are old enough to drive. If below 18 give feedback to wait for the missing amount of years."
   ]
  },
  {
   "cell_type": "code",
   "execution_count": 102,
   "metadata": {},
   "outputs": [
    {
     "output_type": "stream",
     "name": "stdout",
     "text": [
      "16\nWait for 2 years\n"
     ]
    }
   ],
   "source": [
    "Edad = input(\"Enter your age: \")\n",
    "print(Edad)\n",
    "Edad = int(Edad)\n",
    "if Edad >= 18:\n",
    "     print(\"You are old enough to drive\")\n",
    "else:\n",
    "     print(\"Wait for\", 18 - Edad,\"years\")\n"
   ]
  },
  {
   "cell_type": "markdown",
   "metadata": {},
   "source": [
    "2. Compare the values of **my_age** and **your_age** using if/else. Who is older (me or you)? Use input(“Enter your age: ”) to get **your_age** as input. **my_age** is always your age, cause you are the one coding the program. "
   ]
  },
  {
   "cell_type": "code",
   "execution_count": 114,
   "metadata": {},
   "outputs": [
    {
     "output_type": "stream",
     "name": "stdout",
     "text": [
      "Your age =  38\nMy age =  35\nYou are older than me\n"
     ]
    }
   ],
   "source": [
    "your_age = input(\"Enter your age: \")\n",
    "your_age = int(your_age)\n",
    "my_age = 35\n",
    "print(\"Your age = \", your_age)\n",
    "print(\"My age = \", my_age)\n",
    "\n",
    "if my_age > your_age:\n",
    "    print(\"I am older to you\")\n",
    "elif my_age < your_age:\n",
    "    print(\"You are older than me\")\n",
    "else:\n",
    "    print(\"We are of the same age\")\n"
   ]
  },
  {
   "cell_type": "markdown",
   "metadata": {},
   "source": [
    "3. Get two numbers from the user using input prompt. If a is greater than b return \"a is greater than b\", if a is less b return \"a is smaller than b\", else \"a is equal to b\"."
   ]
  },
  {
   "cell_type": "code",
   "execution_count": 158,
   "metadata": {},
   "outputs": [
    {
     "output_type": "stream",
     "name": "stdout",
     "text": [
      "a = 2\nb = 3\na is smallar than b\n"
     ]
    }
   ],
   "source": [
    "a = input(\"Introduce a number(a)\")\n",
    "b = input(\"Introduce a number(b)\")\n",
    "print(\"a =\",a)\n",
    "print(\"b =\",b)\n",
    "\n",
    "if a > b:\n",
    "    print(\"a is greater than b\")\n",
    "elif a < b:\n",
    "    print(\"a is smallar than b\")\n",
    "else:\n",
    "    print(\"a is equal to b\")"
   ]
  },
  {
   "cell_type": "markdown",
   "metadata": {},
   "source": [
    "### Bonus track. \n",
    "\n",
    "Learn about **for loop**\n",
    "\n",
    "Watch this video: https://www.youtube.com/watch?v=wxds6MAtUQ0\n",
    "\n",
    "Read this: https://www.w3schools.com/python/python_for_loops.asp\n",
    "\n",
    "You may need this to understand what the f*** you're doing: http://www.pythontutor.com/visualize.html#mode=edit"
   ]
  },
  {
   "cell_type": "markdown",
   "metadata": {},
   "source": [
    "Declare four variables: \n",
    "- A string variable containing your surname. \n",
    "- Two integers variables: one, with the number of the street in which you live, and two, the age of the classmate sitting on your right. \n",
    "    If you are on the right edge of the table, look for your classmate on your left.\n",
    "    If you are on remote, choose one of your mates who are on remote too. \n",
    "- A list containing the variables you have just declared."
   ]
  },
  {
   "cell_type": "code",
   "execution_count": 159,
   "metadata": {},
   "outputs": [
    {
     "output_type": "execute_result",
     "data": {
      "text/plain": [
       "['Dadlani', 30, 31]"
      ]
     },
     "metadata": {},
     "execution_count": 159
    }
   ],
   "source": [
    "surname = \"Dadlani\"\n",
    "num_street = 30\n",
    "age_classmate = 31\n",
    "lista = [surname, num_street, age_classmate]\n",
    "lista"
   ]
  },
  {
   "cell_type": "markdown",
   "metadata": {},
   "source": [
    "Using a **for loop** print every element of the list you've just created. \n",
    "    \n"
   ]
  },
  {
   "cell_type": "code",
   "execution_count": 160,
   "metadata": {},
   "outputs": [
    {
     "output_type": "stream",
     "name": "stdout",
     "text": [
      "Dadlani\n30\n31\n"
     ]
    }
   ],
   "source": [
    "for x in lista:\n",
    "    print(x)"
   ]
  },
  {
   "cell_type": "markdown",
   "metadata": {},
   "source": [
    "Using a **for loop** and a **if** make sure you only print the element in the list which is a string\n",
    "(Your surname). "
   ]
  },
  {
   "cell_type": "code",
   "execution_count": 163,
   "metadata": {},
   "outputs": [
    {
     "output_type": "stream",
     "name": "stdout",
     "text": [
      "Dadlani\n"
     ]
    }
   ],
   "source": [
    "for x in lista:\n",
    "    if type(x) == str:\n",
    "        print(x)"
   ]
  },
  {
   "cell_type": "markdown",
   "metadata": {},
   "source": [
    "**Well done!**"
   ]
  },
  {
   "cell_type": "markdown",
   "metadata": {},
   "source": [
    "### Bonus track of the bonus track.\n",
    "\n",
    "The following list contains some fruits:\n",
    "    \n",
    "`fruits = ['banana', 'orange', 'mango', 'lemon']`\n",
    "\n",
    "If a fruit doesn't exist in the list add the fruit to the list and print the modified list. If the fruit exists print('That fruit already exist in the list')"
   ]
  },
  {
   "cell_type": "code",
   "execution_count": 169,
   "metadata": {},
   "outputs": [
    {
     "output_type": "stream",
     "name": "stdout",
     "text": [
      "['banana', 'orange', 'mango', 'lemon']\n",
      "melon\n",
      "That fruit already exists in the list\n",
      "That fruit already exists in the list\n",
      "That fruit already exists in the list\n",
      "That fruit already exists in the list\n"
     ]
    },
    {
     "output_type": "execute_result",
     "data": {
      "text/plain": [
       "['banana', 'orange', 'mango', 'lemon', 'melon', 'melon', 'melon', 'melon']"
      ]
     },
     "metadata": {},
     "execution_count": 169
    }
   ],
   "source": [
    "#INTENTO.\n",
    "fruits = ['banana', 'orange', 'mango', 'lemon']\n",
    "print(\"Fruta introducida es =\",fruits)\n",
    "fruta = input(\"Introduce un tipo de fruta= \")\n",
    "print(fruta)\n",
    "for x in fruits:\n",
    "    if x != fruta:\n",
    "        fruits.append(fruta)\n",
    "    else:\n",
    "        print(\"That fruit already exists in the list\")\n",
    "    \n",
    "fruits"
   ]
  },
  {
   "cell_type": "markdown",
   "metadata": {},
   "source": [
    "![\"hola\"](https://preview.redd.it/wk843smkri441.jpg?width=960&crop=smart&auto=webp&s=1a4d7a5ddeef38c03334d275afe3a9dd33866ce8)"
   ]
  },
  {
   "cell_type": "code",
   "execution_count": null,
   "metadata": {},
   "outputs": [],
   "source": []
  }
 ],
 "metadata": {
  "kernelspec": {
   "name": "python3",
   "display_name": "Python 3.9.0 64-bit",
   "metadata": {
    "interpreter": {
     "hash": "cf88cdeb52cfbd9b7891bd0104565f5c75083759e3ad4e400c6eab5e28be6642"
    }
   }
  },
  "language_info": {
   "codemirror_mode": {
    "name": "ipython",
    "version": 3
   },
   "file_extension": ".py",
   "mimetype": "text/x-python",
   "name": "python",
   "nbconvert_exporter": "python",
   "pygments_lexer": "ipython3",
   "version": "3.9.0-final"
  }
 },
 "nbformat": 4,
 "nbformat_minor": 4
}