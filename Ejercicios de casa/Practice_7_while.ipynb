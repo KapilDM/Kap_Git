{
 "cells": [
  {
   "cell_type": "markdown",
   "metadata": {},
   "source": [
    "# Python | day 7 | while"
   ]
  },
  {
   "cell_type": "markdown",
   "metadata": {},
   "source": [
    "With the **while** loop we can execute a set of statements as long as a condition is true."
   ]
  },
  {
   "cell_type": "markdown",
   "metadata": {},
   "source": [
    "```python\n",
    "i = 1\n",
    "while i < 6:\n",
    "  print(i)\n",
    "  i += 1\n",
    "```"
   ]
  },
  {
   "cell_type": "markdown",
   "metadata": {},
   "source": [
    "https://www.w3schools.com/python/python_while_loops.asp"
   ]
  },
  {
   "cell_type": "markdown",
   "metadata": {},
   "source": [
    "### Exercise 1. "
   ]
  },
  {
   "cell_type": "markdown",
   "metadata": {},
   "source": [
    "Do as described below:\n",
    "\n",
    "- Make a variable called strength, and set its initial value to 5.\n",
    "\n",
    "- Print a message reporting the player's strength.\n",
    "\n",
    "- Set up a while loop that runs until the player's strength increases to a value such as 10.\n",
    "\n",
    "- Inside the while loop, print a message that reports the player's current strength.\n",
    "\n",
    "- Inside the while loop, write a statement that increases the player's strength.\n",
    "\n",
    "- Outside the while loop, print a message reporting that the player has grown too strong, and that they have moved up to a new level of the game.\n",
    "\n",
    "Play around with different cutoff levels for the value of strength, and play around with different ways to increase the strength value within the while loop.\n"
   ]
  },
  {
   "cell_type": "code",
   "execution_count": 1,
   "metadata": {},
   "outputs": [
    {
     "output_type": "stream",
     "name": "stdout",
     "text": [
      "player strenght = 5\nplayer's current strenght  5\nplayer's current strenght  6\nplayer's current strenght  7\nplayer's current strenght  8\nplayer's current strenght  9\nThe player with strenght 10 has grown too strong and has moved to a new level\n"
     ]
    }
   ],
   "source": [
    "strenght = 5\n",
    "print(\"player strenght =\", strenght)\n",
    "while strenght < 10:\n",
    "    print(\"player's current strenght \", strenght)\n",
    "    strenght += 1\n",
    "print(\"The player with strenght\",strenght,\"has grown too strong and has moved to a new level\")"
   ]
  },
  {
   "cell_type": "markdown",
   "metadata": {},
   "source": [
    "### Exercise 2. "
   ]
  },
  {
   "cell_type": "markdown",
   "metadata": {},
   "source": [
    "To solve the following exercises it will be necessary to define a function for each section. You choose the name of those functions unless specified, but make sure you define a single parameter `whichever_list`, when calling the function it will correspond to the variable `info_list`."
   ]
  },
  {
   "cell_type": "code",
   "execution_count": 10,
   "metadata": {},
   "outputs": [],
   "source": [
    "# you can use this list or take yours from Practice 3\n",
    "info_list = [15, 'Recoletos', True, ['Recoletos', 15],  None, '8'] "
   ]
  },
  {
   "cell_type": "markdown",
   "metadata": {},
   "source": [
    "You have already read these questions below, but this time you are asked to solve it using `while` loop instead of `for`. \n",
    "\n",
    "   - Loop through `whichever_list` to print all the elements it contains. This function should return the list turned into a tuple. \n",
    "   - Loop through `whichever_list` to print all the elements it contains concatenated with the string` \"--> OK\" `. This function should return a message saying, `\"everything will be ok\"`. \n",
    "   - Loop through `whichever_list` to display all items it contains except the first one. This function should return the first element of the list. \n",
    "   - Loop through `whichever_list` to display all the items it contains except the last one. This function should return the last element of the list. "
   ]
  },
  {
   "cell_type": "code",
   "execution_count": 2,
   "metadata": {
    "tags": []
   },
   "outputs": [
    {
     "output_type": "stream",
     "name": "stdout",
     "text": [
      "15\nRecoletos\nTrue\n['Recoletos', 15]\nNone\n8\n"
     ]
    },
    {
     "output_type": "execute_result",
     "data": {
      "text/plain": [
       "(15, 'Recoletos', True, ['Recoletos', 15], None, '8')"
      ]
     },
     "metadata": {},
     "execution_count": 2
    }
   ],
   "source": [
    "info_list = [15, 'Recoletos', True, ['Recoletos', 15],  None, '8'] \n",
    "\n",
    "def all_elem_func(whichever_list):\n",
    "    acum = 0\n",
    "    while acum < len(whichever_list):\n",
    "        print(whichever_list[acum])\n",
    "        acum += 1\n",
    "    whichever_list = tuple(whichever_list)\n",
    "    return whichever_list\n",
    "\n",
    "all_elem_func(info_list)\n",
    "\n",
    "\n"
   ]
  },
  {
   "cell_type": "code",
   "execution_count": 3,
   "metadata": {},
   "outputs": [
    {
     "output_type": "stream",
     "name": "stdout",
     "text": [
      "15---> OK - Recoletos---> OK - True---> OK - ['Recoletos', 15]---> OK - None---> OK - 8---> OK - "
     ]
    },
    {
     "output_type": "execute_result",
     "data": {
      "text/plain": [
       "'everything will be ok'"
      ]
     },
     "metadata": {},
     "execution_count": 3
    }
   ],
   "source": [
    "info_list = [15, 'Recoletos', True, ['Recoletos', 15],  None, '8'] \n",
    "def func_concatenar(whichever_list):\n",
    "    acum = 0\n",
    "    while acum < len(whichever_list):\n",
    "        whichever_list[acum] = str(whichever_list[acum])\n",
    "        print(whichever_list[acum] + \"---> OK\", end=\" - \")\n",
    "        acum += 1\n",
    "    return \"everything will be ok\"\n",
    "\n",
    "func_concatenar(info_list)\n",
    "\n"
   ]
  },
  {
   "cell_type": "code",
   "execution_count": 4,
   "metadata": {},
   "outputs": [
    {
     "output_type": "stream",
     "name": "stdout",
     "text": [
      "Recoletos\nTrue\n['Recoletos', 15]\nNone\n8\n"
     ]
    },
    {
     "output_type": "execute_result",
     "data": {
      "text/plain": [
       "15"
      ]
     },
     "metadata": {},
     "execution_count": 4
    }
   ],
   "source": [
    "info_list = [15, 'Recoletos', True, ['Recoletos', 15],  None, '8'] \n",
    "def except_first_func(whichever_list):\n",
    "    acum = 0\n",
    "    while acum < len(whichever_list):\n",
    "        if acum != 0:\n",
    "            print(whichever_list[acum])\n",
    "        acum += 1\n",
    "    return whichever_list[0]\n",
    "\n",
    "except_first_func(info_list)\n",
    "\n",
    "\n"
   ]
  },
  {
   "cell_type": "code",
   "execution_count": 5,
   "metadata": {},
   "outputs": [
    {
     "output_type": "stream",
     "name": "stdout",
     "text": [
      "15\nRecoletos\nTrue\n['Recoletos', 15]\nNone\n"
     ]
    },
    {
     "output_type": "execute_result",
     "data": {
      "text/plain": [
       "'8'"
      ]
     },
     "metadata": {},
     "execution_count": 5
    }
   ],
   "source": [
    "info_list = [15, 'Recoletos', True, ['Recoletos', 15],  None, '8']\n",
    "\n",
    "#Loop through whichever_list to display all the items it contains except the last one. This function #should return the last element of the list.\n",
    "\n",
    "def exc_last_func(whichever_list):\n",
    "    acum = 0\n",
    "    while acum < len(whichever_list):\n",
    "        if acum != len(whichever_list) -1:\n",
    "            print(whichever_list[acum])\n",
    "        acum += 1\n",
    "    return whichever_list[len(whichever_list)-1]\n",
    "\n",
    "exc_last_func(info_list)"
   ]
  },
  {
   "cell_type": "code",
   "execution_count": null,
   "metadata": {},
   "outputs": [],
   "source": []
  },
  {
   "cell_type": "markdown",
   "metadata": {},
   "source": [
    "### Exercise 3. "
   ]
  },
  {
   "cell_type": "markdown",
   "metadata": {},
   "source": [
    "1. Define a function that performs the [Fibonacci series](https://quantdare.com/numeros-de-fibonacci/#:~:text=En%20matem%C3%A1ticas%2C%20la%20sucesi%C3%B3n%20o,nombre%20de%20n%C3%BAmero%20de%20Fibonacci.) with a `while`."
   ]
  },
  {
   "cell_type": "code",
   "execution_count": 3,
   "metadata": {},
   "outputs": [
    {
     "output_type": "stream",
     "name": "stdout",
     "text": [
      "[0, 1, 1, 2, 3, 5, 8, 13, 21, 34, 55, 89]\n"
     ]
    }
   ],
   "source": [
    "#ESTO ESTÁ EJECUTADO CON WHILE ACUM < 10.  NO LO EJECUTO CON WHILE TRUE PORQUE ME DA UN BUCLE INFINITO.  LO HICE UNA VEZ Y TUVE QUE CERRAR EL VISUAL STUDIO CODE PQ NO HABIA MANERA DE PARAR ESO, INCLUSO DÁNDOLE AL INTERRUPTOR DE JUPYTER (EL CUADRADO). SÉ QUE LOS NÚMEROS DE FIBONACCI SON INFINITOS PERO PREFERÍ DEJARLO ASÍ PARA QUE SE VEA EL RESULTADO \n",
    "\n",
    "fibonacci = [0,1]\n",
    "acum = 0\n",
    "#while acum < 10:\n",
    "while True:\n",
    "    suma = fibonacci[acum] + fibonacci[acum+1]\n",
    "    fibonacci.append(suma)\n",
    "    acum += 1\n",
    "print(fibonacci)\n",
    "\n"
   ]
  },
  {
   "cell_type": "markdown",
   "metadata": {},
   "source": [
    "### Exercise 4."
   ]
  },
  {
   "cell_type": "markdown",
   "metadata": {},
   "source": [
    "To solve the following exercises it will be necessary to define a function for each section. You choose the name of those functions unless specified, but make sure you define a single parameter `whichever_list`, when calling the function it will correspond to the variable `info_list`."
   ]
  },
  {
   "cell_type": "code",
   "execution_count": 1,
   "metadata": {},
   "outputs": [],
   "source": [
    "# you can use this list or take yours from Practice 3\n",
    "info_list = [15, 'Recoletos', True, ['Recoletos', 15],  None, '8'] "
   ]
  },
  {
   "cell_type": "markdown",
   "metadata": {},
   "source": [
    "1. Define a function that saves the value of `\"nothing\"` in a variable and print it. Also, concatenate its value with the number of The Bridge and display it on the screen. \n",
    "\n",
    "   Also, display a boolean **True** if the length of the concatenated word is 6. If not, it will be **False**. The function must return the value **True** or **False** and the name of this function will be `f_s`."
   ]
  },
  {
   "cell_type": "code",
   "execution_count": 96,
   "metadata": {},
   "outputs": [
    {
     "output_type": "stream",
     "name": "stdout",
     "text": [
      "nothing\nnothing15\n"
     ]
    },
    {
     "output_type": "execute_result",
     "data": {
      "text/plain": [
       "False"
      ]
     },
     "metadata": {},
     "execution_count": 96
    }
   ],
   "source": [
    "#Nunca me va a dar True nunca porque ya la palabra nothing tiene mas de 6 caracteres\n",
    "info_list = [15, 'Recoletos', True, ['Recoletos', 15],  None, '8'] \n",
    "\n",
    "def f_s(whichever_list):\n",
    "    nothing = \"nothing\"\n",
    "    print(nothing)\n",
    "    concatenar = nothing + str(whichever_list[0])\n",
    "    print(concatenar)\n",
    "    if len(concatenar) == 6:\n",
    "        boolean = True\n",
    "    else:\n",
    "        boolean = False\n",
    "    return boolean\n",
    "\n",
    "\n",
    "f_s(info_list)\n",
    "\n"
   ]
  },
  {
   "cell_type": "markdown",
   "metadata": {},
   "source": [
    "### Bonus Track."
   ]
  },
  {
   "source": [
    "2. Create a list `list_aux` with 7 elements, whichever you want. Next, create a function `function_use_f_s` which receives as parameters a function `some_function` and whichever list `whichever_list`. If the value of `some_function` is **True**, then delete an item from `whichever_list`. Repeat the process until `whichever_list` has no elements. The argument for `whichever_list` must be `list_aux` and for `some_function` it will be the function `f_s` from the previous point."
   ],
   "cell_type": "markdown",
   "metadata": {}
  },
  {
   "cell_type": "code",
   "execution_count": 100,
   "metadata": {},
   "outputs": [
    {
     "output_type": "stream",
     "name": "stdout",
     "text": [
      "nothing\nnothingA\nLuego\n"
     ]
    }
   ],
   "source": [
    "#Aquí nunca vamos a entrar en el while no? Es que la palabra nothing de la f_s() que tengo arriba dice que la condicion para devolver True es que la concatenacion de la palabra nothing + str(de lo que le metamos) tiene que ser == 6.  Pero la palabra nothing ya tiene 7 caracteres, por lo tanto, no va a ser True nunca.  O eso, o no he entendido el enunciado anterior bien\n",
    "list_aux = [\"A\",2,\"C\",4,\"E\",6,\"G\"]\n",
    "\n",
    "def function_use_f_s(some_function, whichever_list):\n",
    "    while some_function == True:\n",
    "        whichever_list.pop()\n",
    "        print(\"whicheverlist\",whichever_list)\n",
    "    return print(\"Luego\")\n",
    "\n",
    "function_use_f_s(some_function=f_s(list_aux),whichever_list= list_aux)"
   ]
  },
  {
   "cell_type": "markdown",
   "metadata": {},
   "source": [
    "3. Define a function `even_numbers` that has an input parameter `arg1`, type integer. The function must return a list of numbers of size `arg1`, all of them being even numbers. \n",
    "\n",
    "   Don't use the function `print()` inside the function, but print what `even_numbers` returns when calling it with the argument `10`, just to check your function works.\n",
    "   \n",
    "```python\n",
    "print(even_numbers(10))\n",
    "```"
   ]
  },
  {
   "cell_type": "code",
   "execution_count": 104,
   "metadata": {},
   "outputs": [
    {
     "output_type": "execute_result",
     "data": {
      "text/plain": [
       "[2, 4, 8, 16, 32, 64, 128, 256, 512, 1024]"
      ]
     },
     "metadata": {},
     "execution_count": 104
    }
   ],
   "source": [
    "# INTENTO 1. SE ME OCURRIÓ ESTA FORMA.  SÉ QUE LO DE NUM =2 Y LUEGO LA MULTIPLICACION POR 2 NO ES LA MEJOR FORMA DE HACERLO (AHORA NO SE ME OCURRE OTRA, QUE LLEVO HORAS SENTADO Y NO SOY PERSONA JAJA). PODRÍA TAMBIEN UTILIZAR EL % PARA SABER SI UN NUMERO ES PAR. PERO IMAGINO QUE HABRÁ ALGUNA FUNCIÓN QUE GENERE NUMEROS PARES AL AZAR?\n",
    "def even_numbers(arg1):\n",
    "    num = 2\n",
    "    lista_de_numeros = []\n",
    "    for pos in range(arg1):\n",
    "        lista_de_numeros.append(num)\n",
    "        num *= 2\n",
    "    return lista_de_numeros\n",
    "    \n",
    "even_numbers(10)\n"
   ]
  },
  {
   "cell_type": "markdown",
   "metadata": {},
   "source": [
    "4. Create a function that has an input variable `arg1`, which will be the list of even numbers from the previous section, and that removes elements from the list, one by one, if `arg1` has a size divisible by 2 and, if not, it adds just once, the value of the function `f_s` that should be a boolean (`True` or `False`).\n"
   ]
  },
  {
   "cell_type": "code",
   "execution_count": null,
   "metadata": {},
   "outputs": [],
   "source": [
    "#NO ME DA TIEMPO DE HACERLO :("
   ]
  },
  {
   "cell_type": "markdown",
   "metadata": {},
   "source": [
    "!['nicetry'](https://i.pinimg.com/originals/36/ab/81/36ab81cd8d63cf7c4a08f39403698c77.jpg)"
   ]
  },
  {
   "cell_type": "code",
   "execution_count": null,
   "metadata": {},
   "outputs": [],
   "source": []
  }
 ],
 "metadata": {
  "kernelspec": {
   "name": "python3",
   "display_name": "Python 3.9.0 64-bit",
   "metadata": {
    "interpreter": {
     "hash": "cf88cdeb52cfbd9b7891bd0104565f5c75083759e3ad4e400c6eab5e28be6642"
    }
   }
  },
  "language_info": {
   "codemirror_mode": {
    "name": "ipython",
    "version": 3
   },
   "file_extension": ".py",
   "mimetype": "text/x-python",
   "name": "python",
   "nbconvert_exporter": "python",
   "pygments_lexer": "ipython3",
   "version": "3.9.0-final"
  }
 },
 "nbformat": 4,
 "nbformat_minor": 4
}