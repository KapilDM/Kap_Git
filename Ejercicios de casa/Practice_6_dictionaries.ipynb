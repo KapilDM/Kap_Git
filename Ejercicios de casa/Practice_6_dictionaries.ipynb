{
 "cells": [
  {
   "cell_type": "markdown",
   "metadata": {},
   "source": [
    "# Python | day 6 | dictionaries"
   ]
  },
  {
   "cell_type": "markdown",
   "metadata": {},
   "source": [
    "Dictionaries are used to store data values in key:value pairs.\n",
    "\n",
    "A dictionary is a collection which is unordered, changeable and does not allow duplicates.\n",
    "\n",
    "Dictionaries are written with curly brackets, and have keys and values:"
   ]
  },
  {
   "cell_type": "markdown",
   "metadata": {},
   "source": [
    "```python\n",
    "thisdict = {\n",
    "  \"brand\": \"Ford\",\n",
    "  \"model\": \"Mustang\",\n",
    "  \"year\": 1964\n",
    "}\n",
    "```"
   ]
  },
  {
   "cell_type": "markdown",
   "metadata": {},
   "source": [
    "https://www.w3schools.com/python/python_dictionaries.asp"
   ]
  },
  {
   "cell_type": "markdown",
   "metadata": {},
   "source": [
    "### Exercise 1. \n",
    "\n",
    "1. Create a dictionary with an integer 5 as the key and \"val\" as its value."
   ]
  },
  {
   "cell_type": "code",
   "execution_count": 229,
   "metadata": {},
   "outputs": [],
   "source": [
    "dictionary = {5:\"val\"}"
   ]
  },
  {
   "cell_type": "markdown",
   "metadata": {},
   "source": [
    "2. Create two lists: one that has 4 city names and another that has 4 landmarks in the city."
   ]
  },
  {
   "cell_type": "code",
   "execution_count": 10,
   "metadata": {},
   "outputs": [],
   "source": [
    "cities = [\"Malaga\",\"Madrid\",\"Granada\",\"Barcelona\"]\n",
    "landmarks = [\"Gibralfaro\", \"Templo de Debod\", \"La Alcazaba\",\"Sagrada Familia\"]"
   ]
  },
  {
   "cell_type": "markdown",
   "metadata": {},
   "source": [
    "3. Create a dictionary where the cities contained in the first list are the **keys** and the landmarks are the **values**.\n",
    "```python\n",
    "#example\n",
    "places = {\"Malaga\": \"Gibralfaro\", \n",
    "         \"Madrid\": \"Templo de Debod\",\n",
    "         \"Granada\": \"La Alcazaba\",\n",
    "         \"Barcelona\": \"Sagrada Familia\"}\n",
    "```"
   ]
  },
  {
   "cell_type": "code",
   "execution_count": 6,
   "metadata": {},
   "outputs": [
    {
     "output_type": "stream",
     "name": "stdout",
     "text": [
      "Malaga\nMadrid\n"
     ]
    }
   ],
   "source": [
    "city_lm = {\"Malaga\":\"Gibralfaro\", \"Madrid\":\"Templo de Debod\", \"Granada\": \"La Alcazaba\", \"Barcelona\" : \"Sagrada Familia\"}\n",
    "\n",
    "for e in city_lm.keys():\n",
    "    if e[0]==\"M\":\n",
    "        print(e)"
   ]
  },
  {
   "cell_type": "markdown",
   "metadata": {},
   "source": [
    "4. Loop through the dictionary and print only the values of those keys starting with the letter **M**.\n",
    "\n",
    "https://realpython.com/iterate-through-dictionary-python/"
   ]
  },
  {
   "cell_type": "code",
   "execution_count": 228,
   "metadata": {},
   "outputs": [
    {
     "output_type": "stream",
     "name": "stdout",
     "text": [
      "Gibralfaro\nTemplo de Debod\n"
     ]
    }
   ],
   "source": [
    "city_lm = {\"Malaga\":\"Gibralfaro\", \"Madrid\":\"Templo de Debod\", \"Granada\": \"La Alcazaba\", \"Barcelona\" : \"Sagrada Familia\"}\n",
    "nueva = []\n",
    "for pos, val in enumerate(city_lm.keys()):\n",
    "    val_lista = list(val) #paso a lista la ciudad para poder ir al primer valor y ver que es una M. \n",
    "    if val_lista[0] == \"M\":\n",
    "        print(city_lm[val])\n"
   ]
  },
  {
   "cell_type": "markdown",
   "metadata": {},
   "source": [
    "5. Create a function that receives two lists `list1` and `list2` by parameter and returns a dictionary with each element of `list1` as keys and the elements of `list2` as values. Call the function with the lists you have created before to return the same dictionary you've created in question 3. "
   ]
  },
  {
   "cell_type": "code",
   "execution_count": 197,
   "metadata": {},
   "outputs": [
    {
     "output_type": "execute_result",
     "data": {
      "text/plain": [
       "{'Malaga': 'Gibralfaro',\n",
       " 'Madrid': 'Templo de Debod',\n",
       " 'Granada': 'La Alcazaba',\n",
       " 'Barcelona': 'Sagrada Familia'}"
      ]
     },
     "metadata": {},
     "execution_count": 197
    }
   ],
   "source": [
    "cities = [\"Malaga\",\"Madrid\",\"Granada\",\"Barcelona\"]\n",
    "landmarks = [\"Gibralfaro\", \"Templo de Debod\", \"La Alcazaba\",\"Sagrada Familia\"]\n",
    "\n",
    "def func_listas(list1,list2):\n",
    "    lugares_dict = {}\n",
    "    for pos, val in enumerate(cities):\n",
    "       for pos2, val2 in enumerate(landmarks):\n",
    "            if pos == pos2:\n",
    "                lugares_dict[cities[pos]] = landmarks[pos2]\n",
    "    return lugares_dict\n",
    "\n",
    "func_listas(list1=cities,list2=landmarks)"
   ]
  },
  {
   "cell_type": "markdown",
   "metadata": {},
   "source": [
    "### Exercise 2. "
   ]
  },
  {
   "cell_type": "markdown",
   "metadata": {},
   "source": [
    "1. Create an empty dictionary called dog."
   ]
  },
  {
   "cell_type": "code",
   "execution_count": 88,
   "metadata": {},
   "outputs": [],
   "source": [
    "dog_dict ={}"
   ]
  },
  {
   "cell_type": "markdown",
   "metadata": {},
   "source": [
    "2. Add name, color, breed, legs, age to the dog dictionary."
   ]
  },
  {
   "cell_type": "code",
   "execution_count": 90,
   "metadata": {},
   "outputs": [
    {
     "output_type": "execute_result",
     "data": {
      "text/plain": [
       "{'Name': 'firulais', 'color': 'white', 'breed': 'spitz', 'age': 7}"
      ]
     },
     "metadata": {},
     "execution_count": 90
    }
   ],
   "source": [
    "dog_dict = {\"Name\": \"firulais\", \"color\": \"white\", \"breed\": \"spitz\", \"age\" : 7}\n",
    "dog_dict"
   ]
  },
  {
   "cell_type": "markdown",
   "metadata": {},
   "source": [
    "3. Create a student dictionary and add first_name, last_name, age, skills, country, city and address as keys for the dictionary.\n"
   ]
  },
  {
   "cell_type": "code",
   "execution_count": 150,
   "metadata": {},
   "outputs": [
    {
     "output_type": "execute_result",
     "data": {
      "text/plain": [
       "{'first_name': 'Pablo',\n",
       " 'last_name': 'socas',\n",
       " 'age': 23,\n",
       " 'skills': ['marketing'],\n",
       " 'country': 'spain',\n",
       " 'city': 'Madrid',\n",
       " 'address': 'calle hermosilla'}"
      ]
     },
     "metadata": {},
     "execution_count": 150
    }
   ],
   "source": [
    "student_dict = {\"first_name\":\"Pablo\",\"last_name\":\"socas\", \"age\": 23, \"skills\":[\"marketing\"], \"country\":\"spain\", \"city\": \"Madrid\", \"address\":\"calle hermosilla\"}\n",
    "student_dict"
   ]
  },
  {
   "cell_type": "markdown",
   "metadata": {},
   "source": [
    "4. Get the length of the student dictionary.\n"
   ]
  },
  {
   "cell_type": "code",
   "execution_count": 151,
   "metadata": {},
   "outputs": [
    {
     "output_type": "execute_result",
     "data": {
      "text/plain": [
       "7"
      ]
     },
     "metadata": {},
     "execution_count": 151
    }
   ],
   "source": [
    "len(student_dict)"
   ]
  },
  {
   "cell_type": "markdown",
   "metadata": {},
   "source": [
    "5. Get the value of skills and check the data type, it should be a list."
   ]
  },
  {
   "cell_type": "code",
   "execution_count": 152,
   "metadata": {},
   "outputs": [
    {
     "output_type": "stream",
     "name": "stdout",
     "text": [
      "['marketing']\n"
     ]
    },
    {
     "output_type": "execute_result",
     "data": {
      "text/plain": [
       "list"
      ]
     },
     "metadata": {},
     "execution_count": 152
    }
   ],
   "source": [
    "print(student_dict[\"skills\"])\n",
    "type(student_dict[\"skills\"])\n"
   ]
  },
  {
   "cell_type": "markdown",
   "metadata": {},
   "source": [
    "6. Modify the skills values by adding one or two skills."
   ]
  },
  {
   "cell_type": "code",
   "execution_count": 153,
   "metadata": {},
   "outputs": [
    {
     "output_type": "execute_result",
     "data": {
      "text/plain": [
       "{'first_name': 'Pablo',\n",
       " 'last_name': 'socas',\n",
       " 'age': 23,\n",
       " 'skills': ['marketing', 'java'],\n",
       " 'country': 'spain',\n",
       " 'city': 'Madrid',\n",
       " 'address': 'calle hermosilla'}"
      ]
     },
     "metadata": {},
     "execution_count": 153
    }
   ],
   "source": [
    "student_dict[\"skills\"].append(\"java\")\n",
    "student_dict"
   ]
  },
  {
   "cell_type": "markdown",
   "metadata": {},
   "source": [
    "7. Get the dictionary keys as a list."
   ]
  },
  {
   "cell_type": "code",
   "execution_count": 135,
   "metadata": {},
   "outputs": [
    {
     "output_type": "stream",
     "name": "stdout",
     "text": [
      "<class 'list'>\n"
     ]
    },
    {
     "output_type": "execute_result",
     "data": {
      "text/plain": [
       "['first_name', 'last_name', 'age', 'skills', 'country', 'adress']"
      ]
     },
     "metadata": {},
     "execution_count": 135
    }
   ],
   "source": [
    "kl = list(student_dict.keys())\n",
    "print(type(kl))\n",
    "kl"
   ]
  },
  {
   "cell_type": "markdown",
   "metadata": {},
   "source": [
    "8. Get the dictionary values as a list.\n"
   ]
  },
  {
   "cell_type": "code",
   "execution_count": 136,
   "metadata": {},
   "outputs": [
    {
     "output_type": "stream",
     "name": "stdout",
     "text": [
      "<class 'list'>\n"
     ]
    },
    {
     "output_type": "execute_result",
     "data": {
      "text/plain": [
       "['Pablo', 'socas', 23, ['marketing', 'java'], 'spain', 'calle hermosilla']"
      ]
     },
     "metadata": {},
     "execution_count": 136
    }
   ],
   "source": [
    "vl =list(student_dict.values())\n",
    "print(type(vl))\n",
    "vl"
   ]
  },
  {
   "cell_type": "markdown",
   "metadata": {},
   "source": [
    "9. Change the dictionary to a list of tuples using `items()` method"
   ]
  },
  {
   "cell_type": "code",
   "execution_count": 137,
   "metadata": {},
   "outputs": [
    {
     "output_type": "execute_result",
     "data": {
      "text/plain": [
       "[('first_name', 'Pablo'),\n",
       " ('last_name', 'socas'),\n",
       " ('age', 23),\n",
       " ('skills', ['marketing', 'java']),\n",
       " ('country', 'spain'),\n",
       " ('adress', 'calle hermosilla')]"
      ]
     },
     "metadata": {},
     "execution_count": 137
    }
   ],
   "source": [
    "list(student_dict.items())"
   ]
  },
  {
   "cell_type": "markdown",
   "metadata": {},
   "source": [
    "10. Delete one of the items in the dictionary.\n"
   ]
  },
  {
   "cell_type": "code",
   "execution_count": 138,
   "metadata": {},
   "outputs": [
    {
     "output_type": "execute_result",
     "data": {
      "text/plain": [
       "{'first_name': 'Pablo',\n",
       " 'last_name': 'socas',\n",
       " 'age': 23,\n",
       " 'skills': ['marketing', 'java'],\n",
       " 'adress': 'calle hermosilla'}"
      ]
     },
     "metadata": {},
     "execution_count": 138
    }
   ],
   "source": [
    "del student_dict[\"country\"]\n",
    "student_dict"
   ]
  },
  {
   "cell_type": "markdown",
   "metadata": {},
   "source": [
    "### Bonus Track"
   ]
  },
  {
   "cell_type": "markdown",
   "metadata": {},
   "source": [
    "**Tómate una cervecita o un zumito a tu salud.**"
   ]
  },
  {
   "cell_type": "markdown",
   "metadata": {},
   "source": [
    "!['daughter'](https://i.pinimg.com/originals/8f/35/28/8f35281e742e71be09697e7e6789b819.png)"
   ]
  },
  {
   "cell_type": "code",
   "execution_count": null,
   "metadata": {},
   "outputs": [],
   "source": []
  }
 ],
 "metadata": {
  "kernelspec": {
   "name": "python3",
   "display_name": "Python 3.9.0 64-bit",
   "metadata": {
    "interpreter": {
     "hash": "cf88cdeb52cfbd9b7891bd0104565f5c75083759e3ad4e400c6eab5e28be6642"
    }
   }
  },
  "language_info": {
   "codemirror_mode": {
    "name": "ipython",
    "version": 3
   },
   "file_extension": ".py",
   "mimetype": "text/x-python",
   "name": "python",
   "nbconvert_exporter": "python",
   "pygments_lexer": "ipython3",
   "version": "3.9.0-final"
  }
 },
 "nbformat": 4,
 "nbformat_minor": 2
}