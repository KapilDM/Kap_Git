{
 "metadata": {
  "language_info": {
   "codemirror_mode": {
    "name": "ipython",
    "version": 3
   },
   "file_extension": ".py",
   "mimetype": "text/x-python",
   "name": "python",
   "nbconvert_exporter": "python",
   "pygments_lexer": "ipython3",
   "version": "3.9.0-final"
  },
  "orig_nbformat": 2,
  "kernelspec": {
   "name": "python3",
   "display_name": "Python 3.9.0 64-bit",
   "metadata": {
    "interpreter": {
     "hash": "cf88cdeb52cfbd9b7891bd0104565f5c75083759e3ad4e400c6eab5e28be6642"
    }
   }
  }
 },
 "nbformat": 4,
 "nbformat_minor": 2,
 "cells": [
  {
   "cell_type": "code",
   "execution_count": 1,
   "metadata": {},
   "outputs": [],
   "source": [
    "import numpy as np"
   ]
  },
  {
   "cell_type": "markdown",
   "metadata": {},
   "source": [
    "Here's your coding interview problem for today.\n",
    "\n",
    "This problem was asked by Google.\n",
    "\n",
    "You are given an M by N matrix consisting of booleans that represents a board. Each True boolean represents a wall. Each False boolean represents a tile you can walk on.\n",
    "\n",
    "Given this matrix, a start coordinate, and an end coordinate, return the minimum number of steps required to reach the end coordinate from the start. If there is no possible path, then return null. You can move up, left, down, and right. You cannot move through walls. You cannot wrap around the edges of the board.\n",
    "\n",
    "For example, given the following board:\n",
    "\n",
    ">f, f, f, f,        \n",
    "\n",
    ">t, t, f, t,        \n",
    "\n",
    ">f, f, f, f,\n",
    "\n",
    ">f, f, f, f\n",
    "\n",
    "and start = (3, 0) (bottom left) and end = (0, 0) (top left), the minimum number of steps required to reach the end is 7, since we would need to go through (1, 2) because there is a wall everywhere else on the second row."
   ]
  },
  {
   "cell_type": "code",
   "execution_count": 27,
   "metadata": {},
   "outputs": [
    {
     "output_type": "execute_result",
     "data": {
      "text/plain": [
       "array([[False, False, False, False],\n",
       "       [ True,  True, False,  True],\n",
       "       [False, False, False, False],\n",
       "       [False, False, False, False]])"
      ]
     },
     "metadata": {},
     "execution_count": 27
    }
   ],
   "source": [
    "matrix = [[False, False,  False,  False],\n",
    "        [True,  True,   False,  True],\n",
    "        [False, False,  False,  False],\n",
    "        [False, False,  False,  False]]\n",
    "\n",
    "matrix = np.array(matrix)\n",
    "matrix"
   ]
  },
  {
   "cell_type": "code",
   "execution_count": null,
   "metadata": {},
   "outputs": [],
   "source": [
    ">f, f, f, f,        (0,0) (0,1) (0,2) (0,3)    minimum steps = 7\n",
    ">t, t, f, t,        (1,0) (1,1) (1,2) (1,3)    pasamos por (1,2) seguro\n",
    ">f, f, f, f,        (2,0) (2,1) (2,2) (2,3)    if there is no possible path return null\n",
    ">f, f, f, f         (3,0) (3,1) (3,2) (3,3)     start (3,0)   end (0,0)"
   ]
  },
  {
   "cell_type": "code",
   "execution_count": 79,
   "metadata": {},
   "outputs": [],
   "source": [
    "def funcion_juego(matrix, start, end):\n",
    "    inicio = [start]\n",
    "    x,y = start\n",
    "    while True:\n",
    "        if (x,y) == end:\n",
    "            return len(inicio)-1\n",
    "\n",
    "        #Condiciones de movimientos permitidos\n",
    "        #1. Si puedo avanzar hacia esa direccion\n",
    "        #2. Si esa posicion es False y no tengo un muro\n",
    "        #3. Si esa posicion no es start\n",
    "        arriba = (x-1 >= 0) and (matrix[x-1][y] == False) and ((x-1,y) not in inicio)\n",
    "        izquierda = (y-1 >= 0) and (matrix[x][y-1] == False) and ((x,y-1) not in inicio)\n",
    "        #1. Si la posicion no sobrepasa los limites (vertical y horizontal) del matrix\n",
    "        #2. Si esa posicion es False (no es muro)\n",
    "        #3. Si no es posicion start\n",
    "        abajo = (x+1 < len(matrix)) and (matrix[x+1][y] == False) and ((x+1,y) not in inicio)\n",
    "        derecha = (y+1 < len(matrix[x])) and (matrix[x][y+1]  == False) and ((x, y+1) not in inicio)\n",
    "\n",
    "        if x >= end[0] and y >= end[1]: #Si posicion Start esta mas abajo o en la misma horizontal y Si  esta en la misma vertical o mas a la derecha que end\n",
    "            if arriba and (x > end[0] or not abajo) :  #Si puedo subir arriba y estoy mas abajo del destino y no puedo ir abajo\n",
    "                x = x-1\n",
    "                inicio.append((x,y))\n",
    "            elif izquierda and (y > end[1] or not derecha) : \n",
    "                y = y-1\n",
    "                inicio.append((x,y))\n",
    "            elif derecha and (y < end[1] or not izquierda):  \n",
    "                y = y+1\n",
    "                inicio.append((x,y))\n",
    "            elif abajo and (x < end[0] or not arriba): \n",
    "                x = x+1\n",
    "                inicio.append((x,y))\n",
    "       "
   ]
  },
  {
   "source": [
    "funcion_juego(matrix= matrix, start=(3, 0), end=(0, 0))"
   ],
   "cell_type": "code",
   "metadata": {},
   "execution_count": 80,
   "outputs": [
    {
     "output_type": "execute_result",
     "data": {
      "text/plain": [
       "7"
      ]
     },
     "metadata": {},
     "execution_count": 80
    }
   ]
  },
  {
   "cell_type": "code",
   "execution_count": null,
   "metadata": {},
   "outputs": [],
   "source": []
  }
 ]
}