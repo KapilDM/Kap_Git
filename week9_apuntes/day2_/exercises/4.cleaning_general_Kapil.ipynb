{
 "metadata": {
  "language_info": {
   "codemirror_mode": {
    "name": "ipython",
    "version": 3
   },
   "file_extension": ".py",
   "mimetype": "text/x-python",
   "name": "python",
   "nbconvert_exporter": "python",
   "pygments_lexer": "ipython3",
   "version": "3.9.0-final"
  },
  "orig_nbformat": 2,
  "kernelspec": {
   "name": "python3",
   "display_name": "Python 3.9.0 64-bit",
   "metadata": {
    "interpreter": {
     "hash": "cf88cdeb52cfbd9b7891bd0104565f5c75083759e3ad4e400c6eab5e28be6642"
    }
   }
  }
 },
 "nbformat": 4,
 "nbformat_minor": 2,
 "cells": [
  {
   "cell_type": "markdown",
   "metadata": {},
   "source": [
    "Crea un programa que, llamando a una función clean_df(path), lea un archivo leíble por pandas, lo transforme a dataframe y lo limpie si es posible. \n",
    "\n",
    "La función clean_df() retornará el dataframe limpiado."
   ]
  },
  {
   "cell_type": "markdown",
   "metadata": {},
   "source": [
    "En la función clean_df:\n",
    "\n",
    "- path: representa la ubicación o url de donde pandas lee el archivo a cargar."
   ]
  },
  {
   "cell_type": "code",
   "execution_count": 33,
   "metadata": {},
   "outputs": [],
   "source": [
    "import pandas as pd \n",
    "import numpy as np \n",
    "import os, sys\n",
    "from sklearn.preprocessing import LabelEncoder"
   ]
  },
  {
   "cell_type": "code",
   "execution_count": 43,
   "metadata": {},
   "outputs": [],
   "source": [
    "root_path = os.path.dirname(os.path.dirname(os.path.dirname(os.getcwd())))\n",
    "sys.path.append(root_path)\n",
    "sys.path = list(set(sys.path)) "
   ]
  },
  {
   "cell_type": "code",
   "execution_count": 48,
   "metadata": {},
   "outputs": [],
   "source": [
    "def clean_df(path):\n",
    "    \"\"\"Esta funcion pretende transformar un archivo a dataframe, limpiarlo y prepararlo para poder ser utilizado con algoritmos de Machine Learning\"\"\"\n",
    "    df = pd.read_csv(path)\n",
    "    print(df.shape)\n",
    "    #delete rows with any nans\n",
    "    df.dropna(axis=0, how='any', inplace=True) \n",
    "    #le will be our label encoder\n",
    "    le = LabelEncoder()\n",
    "    # #Transforming categoric columns to numeric with encoder\n",
    "    X_categorical_no_numbers = df[df.select_dtypes('object').columns].apply(le.fit_transform)\n",
    "    #Saving None Object columns in the variable X_others\n",
    "    X_others = df.select_dtypes(exclude=['object'])\n",
    "    #Concatenating in a new dataframe both transformed columns with the other columns\n",
    "    df_cleaned = pd.concat([X_others, X_categorical_no_numbers], axis=1)\n",
    "\n",
    "    return df_cleaned #df_cleaned"
   ]
  },
  {
   "cell_type": "code",
   "execution_count": 47,
   "metadata": {},
   "outputs": [
    {
     "output_type": "stream",
     "name": "stdout",
     "text": [
      "(395, 33)\n"
     ]
    },
    {
     "output_type": "execute_result",
     "data": {
      "text/plain": [
       "     age  Medu  Fedu  traveltime  studytime  failures  famrel  freetime  \\\n",
       "0     18     4     4           2          2         0       4         3   \n",
       "1     17     1     1           1          2         0       5         3   \n",
       "2     15     1     1           1          2         3       4         3   \n",
       "3     15     4     2           1          3         0       3         2   \n",
       "4     16     3     3           1          2         0       4         3   \n",
       "..   ...   ...   ...         ...        ...       ...     ...       ...   \n",
       "390   20     2     2           1          2         2       5         5   \n",
       "391   17     3     1           2          1         0       2         4   \n",
       "392   21     1     1           1          1         3       5         5   \n",
       "393   18     3     2           3          1         0       4         4   \n",
       "394   19     1     1           1          1         0       3         2   \n",
       "\n",
       "     goout  Dalc  ...  reason  guardian  schoolsup  famsup  paid  activities  \\\n",
       "0        4     1  ...       0         1          1       0     0           0   \n",
       "1        3     1  ...       0         0          0       1     0           0   \n",
       "2        2     2  ...       2         1          1       0     1           0   \n",
       "3        2     1  ...       1         1          0       1     1           1   \n",
       "4        2     1  ...       1         0          0       1     1           0   \n",
       "..     ...   ...  ...     ...       ...        ...     ...   ...         ...   \n",
       "390      4     4  ...       0         2          0       1     1           0   \n",
       "391      5     3  ...       0         1          0       0     0           0   \n",
       "392      3     3  ...       0         2          0       0     0           0   \n",
       "393      1     3  ...       0         1          0       0     0           0   \n",
       "394      3     3  ...       0         0          0       0     0           0   \n",
       "\n",
       "     nursery  higher  internet  romantic  \n",
       "0          1       1         0         0  \n",
       "1          0       1         1         0  \n",
       "2          1       1         1         0  \n",
       "3          1       1         1         1  \n",
       "4          1       1         0         0  \n",
       "..       ...     ...       ...       ...  \n",
       "390        1       1         0         0  \n",
       "391        0       1         1         0  \n",
       "392        0       1         0         0  \n",
       "393        0       1         1         0  \n",
       "394        1       1         1         0  \n",
       "\n",
       "[395 rows x 33 columns]"
      ],
      "text/html": "<div>\n<style scoped>\n    .dataframe tbody tr th:only-of-type {\n        vertical-align: middle;\n    }\n\n    .dataframe tbody tr th {\n        vertical-align: top;\n    }\n\n    .dataframe thead th {\n        text-align: right;\n    }\n</style>\n<table border=\"1\" class=\"dataframe\">\n  <thead>\n    <tr style=\"text-align: right;\">\n      <th></th>\n      <th>age</th>\n      <th>Medu</th>\n      <th>Fedu</th>\n      <th>traveltime</th>\n      <th>studytime</th>\n      <th>failures</th>\n      <th>famrel</th>\n      <th>freetime</th>\n      <th>goout</th>\n      <th>Dalc</th>\n      <th>...</th>\n      <th>reason</th>\n      <th>guardian</th>\n      <th>schoolsup</th>\n      <th>famsup</th>\n      <th>paid</th>\n      <th>activities</th>\n      <th>nursery</th>\n      <th>higher</th>\n      <th>internet</th>\n      <th>romantic</th>\n    </tr>\n  </thead>\n  <tbody>\n    <tr>\n      <th>0</th>\n      <td>18</td>\n      <td>4</td>\n      <td>4</td>\n      <td>2</td>\n      <td>2</td>\n      <td>0</td>\n      <td>4</td>\n      <td>3</td>\n      <td>4</td>\n      <td>1</td>\n      <td>...</td>\n      <td>0</td>\n      <td>1</td>\n      <td>1</td>\n      <td>0</td>\n      <td>0</td>\n      <td>0</td>\n      <td>1</td>\n      <td>1</td>\n      <td>0</td>\n      <td>0</td>\n    </tr>\n    <tr>\n      <th>1</th>\n      <td>17</td>\n      <td>1</td>\n      <td>1</td>\n      <td>1</td>\n      <td>2</td>\n      <td>0</td>\n      <td>5</td>\n      <td>3</td>\n      <td>3</td>\n      <td>1</td>\n      <td>...</td>\n      <td>0</td>\n      <td>0</td>\n      <td>0</td>\n      <td>1</td>\n      <td>0</td>\n      <td>0</td>\n      <td>0</td>\n      <td>1</td>\n      <td>1</td>\n      <td>0</td>\n    </tr>\n    <tr>\n      <th>2</th>\n      <td>15</td>\n      <td>1</td>\n      <td>1</td>\n      <td>1</td>\n      <td>2</td>\n      <td>3</td>\n      <td>4</td>\n      <td>3</td>\n      <td>2</td>\n      <td>2</td>\n      <td>...</td>\n      <td>2</td>\n      <td>1</td>\n      <td>1</td>\n      <td>0</td>\n      <td>1</td>\n      <td>0</td>\n      <td>1</td>\n      <td>1</td>\n      <td>1</td>\n      <td>0</td>\n    </tr>\n    <tr>\n      <th>3</th>\n      <td>15</td>\n      <td>4</td>\n      <td>2</td>\n      <td>1</td>\n      <td>3</td>\n      <td>0</td>\n      <td>3</td>\n      <td>2</td>\n      <td>2</td>\n      <td>1</td>\n      <td>...</td>\n      <td>1</td>\n      <td>1</td>\n      <td>0</td>\n      <td>1</td>\n      <td>1</td>\n      <td>1</td>\n      <td>1</td>\n      <td>1</td>\n      <td>1</td>\n      <td>1</td>\n    </tr>\n    <tr>\n      <th>4</th>\n      <td>16</td>\n      <td>3</td>\n      <td>3</td>\n      <td>1</td>\n      <td>2</td>\n      <td>0</td>\n      <td>4</td>\n      <td>3</td>\n      <td>2</td>\n      <td>1</td>\n      <td>...</td>\n      <td>1</td>\n      <td>0</td>\n      <td>0</td>\n      <td>1</td>\n      <td>1</td>\n      <td>0</td>\n      <td>1</td>\n      <td>1</td>\n      <td>0</td>\n      <td>0</td>\n    </tr>\n    <tr>\n      <th>...</th>\n      <td>...</td>\n      <td>...</td>\n      <td>...</td>\n      <td>...</td>\n      <td>...</td>\n      <td>...</td>\n      <td>...</td>\n      <td>...</td>\n      <td>...</td>\n      <td>...</td>\n      <td>...</td>\n      <td>...</td>\n      <td>...</td>\n      <td>...</td>\n      <td>...</td>\n      <td>...</td>\n      <td>...</td>\n      <td>...</td>\n      <td>...</td>\n      <td>...</td>\n      <td>...</td>\n    </tr>\n    <tr>\n      <th>390</th>\n      <td>20</td>\n      <td>2</td>\n      <td>2</td>\n      <td>1</td>\n      <td>2</td>\n      <td>2</td>\n      <td>5</td>\n      <td>5</td>\n      <td>4</td>\n      <td>4</td>\n      <td>...</td>\n      <td>0</td>\n      <td>2</td>\n      <td>0</td>\n      <td>1</td>\n      <td>1</td>\n      <td>0</td>\n      <td>1</td>\n      <td>1</td>\n      <td>0</td>\n      <td>0</td>\n    </tr>\n    <tr>\n      <th>391</th>\n      <td>17</td>\n      <td>3</td>\n      <td>1</td>\n      <td>2</td>\n      <td>1</td>\n      <td>0</td>\n      <td>2</td>\n      <td>4</td>\n      <td>5</td>\n      <td>3</td>\n      <td>...</td>\n      <td>0</td>\n      <td>1</td>\n      <td>0</td>\n      <td>0</td>\n      <td>0</td>\n      <td>0</td>\n      <td>0</td>\n      <td>1</td>\n      <td>1</td>\n      <td>0</td>\n    </tr>\n    <tr>\n      <th>392</th>\n      <td>21</td>\n      <td>1</td>\n      <td>1</td>\n      <td>1</td>\n      <td>1</td>\n      <td>3</td>\n      <td>5</td>\n      <td>5</td>\n      <td>3</td>\n      <td>3</td>\n      <td>...</td>\n      <td>0</td>\n      <td>2</td>\n      <td>0</td>\n      <td>0</td>\n      <td>0</td>\n      <td>0</td>\n      <td>0</td>\n      <td>1</td>\n      <td>0</td>\n      <td>0</td>\n    </tr>\n    <tr>\n      <th>393</th>\n      <td>18</td>\n      <td>3</td>\n      <td>2</td>\n      <td>3</td>\n      <td>1</td>\n      <td>0</td>\n      <td>4</td>\n      <td>4</td>\n      <td>1</td>\n      <td>3</td>\n      <td>...</td>\n      <td>0</td>\n      <td>1</td>\n      <td>0</td>\n      <td>0</td>\n      <td>0</td>\n      <td>0</td>\n      <td>0</td>\n      <td>1</td>\n      <td>1</td>\n      <td>0</td>\n    </tr>\n    <tr>\n      <th>394</th>\n      <td>19</td>\n      <td>1</td>\n      <td>1</td>\n      <td>1</td>\n      <td>1</td>\n      <td>0</td>\n      <td>3</td>\n      <td>2</td>\n      <td>3</td>\n      <td>3</td>\n      <td>...</td>\n      <td>0</td>\n      <td>0</td>\n      <td>0</td>\n      <td>0</td>\n      <td>0</td>\n      <td>0</td>\n      <td>1</td>\n      <td>1</td>\n      <td>1</td>\n      <td>0</td>\n    </tr>\n  </tbody>\n</table>\n<p>395 rows × 33 columns</p>\n</div>"
     },
     "metadata": {},
     "execution_count": 47
    }
   ],
   "source": [
    "clean_df(path = root_path + \"\\\\week9_apuntes\\\\day3\\\\data\\\\student-mat.csv\")"
   ]
  },
  {
   "cell_type": "code",
   "execution_count": null,
   "metadata": {},
   "outputs": [],
   "source": []
  }
 ]
}