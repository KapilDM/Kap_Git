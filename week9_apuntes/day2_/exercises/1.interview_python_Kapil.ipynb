{
 "metadata": {
  "language_info": {
   "codemirror_mode": {
    "name": "ipython",
    "version": 3
   },
   "file_extension": ".py",
   "mimetype": "text/x-python",
   "name": "python",
   "nbconvert_exporter": "python",
   "pygments_lexer": "ipython3",
   "version": "3.9.0-final"
  },
  "orig_nbformat": 2,
  "kernelspec": {
   "name": "python3",
   "display_name": "Python 3.9.0 64-bit",
   "metadata": {
    "interpreter": {
     "hash": "cf88cdeb52cfbd9b7891bd0104565f5c75083759e3ad4e400c6eab5e28be6642"
    }
   }
  }
 },
 "nbformat": 4,
 "nbformat_minor": 2,
 "cells": [
  {
   "cell_type": "markdown",
   "metadata": {},
   "source": [
    "Here's your coding interview problem for today.\n",
    "\n",
    "This problem was asked by Facebook.\n",
    "\n",
    "Given a string of round, curly, and square open and closing brackets, return whether the brackets are balanced (well-formed).\n",
    "\n",
    "For example, given the string \"([])[]({})\", you should return true.\n",
    "\n",
    "{}\n",
    "\n",
    "Given the string \"([)]\" or \"((()\", you should return false."
   ]
  },
  {
   "cell_type": "code",
   "execution_count": 3,
   "metadata": {},
   "outputs": [],
   "source": [
    "def funcion_simbolos(simbolos):\n",
    "    acum_dicc = 0\n",
    "    acum_list = 0\n",
    "    acum_paren = 0\n",
    "\n",
    "    diccionario = [\"{\",\"}\"]\n",
    "    lista = [\"[\",\"]\"]\n",
    "    parentesis = [\"(\", \")\"]\n",
    "\n",
    "    for simbolo in simbolos:\n",
    "        if simbolo in diccionario[0]:\n",
    "            acum_dicc +=1\n",
    "        elif simbolo in lista[0]:\n",
    "            acum_list +=1\n",
    "        elif simbolo in parentesis[0]:\n",
    "            acum_paren +=1\n",
    "        elif simbolo in diccionario[1]:\n",
    "            acum_dicc -=1\n",
    "        elif simbolo in lista[1]:\n",
    "            acum_list -=1\n",
    "        elif simbolo in parentesis[1]:\n",
    "            acum_paren -=1\n",
    "\n",
    "    if (acum_paren  == 0) and (acum_list == 0) and (acum_dicc == 0):\n",
    "        acierto = True\n",
    "    else:\n",
    "        acierto = False\n",
    "    return acierto\n"
   ]
  },
  {
   "cell_type": "code",
   "execution_count": 7,
   "metadata": {},
   "outputs": [
    {
     "output_type": "execute_result",
     "data": {
      "text/plain": [
       "False"
      ]
     },
     "metadata": {},
     "execution_count": 7
    }
   ],
   "source": [
    "funcion_simbolos(simbolos=\"{[()\")"
   ]
  },
  {
   "cell_type": "code",
   "execution_count": null,
   "metadata": {},
   "outputs": [],
   "source": []
  }
 ]
}