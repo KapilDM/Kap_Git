{
 "metadata": {
  "language_info": {
   "codemirror_mode": {
    "name": "ipython",
    "version": 3
   },
   "file_extension": ".py",
   "mimetype": "text/x-python",
   "name": "python",
   "nbconvert_exporter": "python",
   "pygments_lexer": "ipython3",
   "version": "3.9.0-final"
  },
  "orig_nbformat": 2,
  "kernelspec": {
   "name": "python3",
   "display_name": "Python 3.9.0 64-bit",
   "metadata": {
    "interpreter": {
     "hash": "cf88cdeb52cfbd9b7891bd0104565f5c75083759e3ad4e400c6eab5e28be6642"
    }
   }
  }
 },
 "nbformat": 4,
 "nbformat_minor": 2,
 "cells": [
  {
   "cell_type": "markdown",
   "metadata": {},
   "source": [
    "Añade los dos algoritmos que hemos aprendido hoy (Polynomial, SVM) al programa del archivo \"3.regression_classification_exercise\" del CW8D4/exercises.\n",
    "\n",
    "Haz que se puedan ejecutar de forma genérica para varias features de los algoritmos. Por ejemplo, que se ejecute con \"param\" para diferentes grados del polinomio y para usar diferentes kernels en SVM. "
   ]
  },
  {
   "cell_type": "code",
   "execution_count": 1,
   "metadata": {},
   "outputs": [],
   "source": [
    "import pandas as pd\n",
    "import numpy as np\n",
    "\n",
    "from sklearn.linear_model import LinearRegression\n",
    "from sklearn.linear_model import LogisticRegression\n",
    "from sklearn.neighbors import KNeighborsClassifier\n",
    "from sklearn.preprocessing import PolynomialFeatures\n",
    "from sklearn import svm\n",
    "\n",
    "from sklearn.model_selection import train_test_split\n",
    "from sklearn import preprocessing #Para label_encoder\n",
    "from sklearn.metrics import r2_score"
   ]
  },
  {
   "cell_type": "code",
   "execution_count": 2,
   "metadata": {},
   "outputs": [
    {
     "output_type": "stream",
     "name": "stdout",
     "text": [
      "(150, 5)\n"
     ]
    },
    {
     "output_type": "execute_result",
     "data": {
      "text/plain": [
       "   sepal.length  sepal.width  petal.length  petal.width variety\n",
       "0           5.1          3.5           1.4          0.2  Setosa\n",
       "1           4.9          3.0           1.4          0.2  Setosa\n",
       "2           4.7          3.2           1.3          0.2  Setosa\n",
       "3           4.6          3.1           1.5          0.2  Setosa\n",
       "4           5.0          3.6           1.4          0.2  Setosa"
      ],
      "text/html": "<div>\n<style scoped>\n    .dataframe tbody tr th:only-of-type {\n        vertical-align: middle;\n    }\n\n    .dataframe tbody tr th {\n        vertical-align: top;\n    }\n\n    .dataframe thead th {\n        text-align: right;\n    }\n</style>\n<table border=\"1\" class=\"dataframe\">\n  <thead>\n    <tr style=\"text-align: right;\">\n      <th></th>\n      <th>sepal.length</th>\n      <th>sepal.width</th>\n      <th>petal.length</th>\n      <th>petal.width</th>\n      <th>variety</th>\n    </tr>\n  </thead>\n  <tbody>\n    <tr>\n      <th>0</th>\n      <td>5.1</td>\n      <td>3.5</td>\n      <td>1.4</td>\n      <td>0.2</td>\n      <td>Setosa</td>\n    </tr>\n    <tr>\n      <th>1</th>\n      <td>4.9</td>\n      <td>3.0</td>\n      <td>1.4</td>\n      <td>0.2</td>\n      <td>Setosa</td>\n    </tr>\n    <tr>\n      <th>2</th>\n      <td>4.7</td>\n      <td>3.2</td>\n      <td>1.3</td>\n      <td>0.2</td>\n      <td>Setosa</td>\n    </tr>\n    <tr>\n      <th>3</th>\n      <td>4.6</td>\n      <td>3.1</td>\n      <td>1.5</td>\n      <td>0.2</td>\n      <td>Setosa</td>\n    </tr>\n    <tr>\n      <th>4</th>\n      <td>5.0</td>\n      <td>3.6</td>\n      <td>1.4</td>\n      <td>0.2</td>\n      <td>Setosa</td>\n    </tr>\n  </tbody>\n</table>\n</div>"
     },
     "metadata": {},
     "execution_count": 2
    }
   ],
   "source": [
    "df = pd.read_csv(\"../data/iris.csv\")\n",
    "print(df.shape)\n",
    "df.head()"
   ]
  },
  {
   "cell_type": "code",
   "execution_count": 3,
   "metadata": {},
   "outputs": [
    {
     "output_type": "execute_result",
     "data": {
      "text/plain": [
       "   Avg. Area Income  Avg. Area House Age  Avg. Area Number of Rooms  \\\n",
       "0      79545.458574             5.682861                   7.009188   \n",
       "1      79248.642455             6.002900                   6.730821   \n",
       "2      61287.067179             5.865890                   8.512727   \n",
       "3      63345.240046             7.188236                   5.586729   \n",
       "4      59982.197226             5.040555                   7.839388   \n",
       "\n",
       "   Avg. Area Number of Bedrooms  Area Population         Price  \\\n",
       "0                          4.09     23086.800503  1.059034e+06   \n",
       "1                          3.09     40173.072174  1.505891e+06   \n",
       "2                          5.13     36882.159400  1.058988e+06   \n",
       "3                          3.26     34310.242831  1.260617e+06   \n",
       "4                          4.23     26354.109472  6.309435e+05   \n",
       "\n",
       "                                             Address  \n",
       "0  208 Michael Ferry Apt. 674\\nLaurabury, NE 3701...  \n",
       "1  188 Johnson Views Suite 079\\nLake Kathleen, CA...  \n",
       "2  9127 Elizabeth Stravenue\\nDanieltown, WI 06482...  \n",
       "3                          USS Barnett\\nFPO AP 44820  \n",
       "4                         USNS Raymond\\nFPO AE 09386  "
      ],
      "text/html": "<div>\n<style scoped>\n    .dataframe tbody tr th:only-of-type {\n        vertical-align: middle;\n    }\n\n    .dataframe tbody tr th {\n        vertical-align: top;\n    }\n\n    .dataframe thead th {\n        text-align: right;\n    }\n</style>\n<table border=\"1\" class=\"dataframe\">\n  <thead>\n    <tr style=\"text-align: right;\">\n      <th></th>\n      <th>Avg. Area Income</th>\n      <th>Avg. Area House Age</th>\n      <th>Avg. Area Number of Rooms</th>\n      <th>Avg. Area Number of Bedrooms</th>\n      <th>Area Population</th>\n      <th>Price</th>\n      <th>Address</th>\n    </tr>\n  </thead>\n  <tbody>\n    <tr>\n      <th>0</th>\n      <td>79545.458574</td>\n      <td>5.682861</td>\n      <td>7.009188</td>\n      <td>4.09</td>\n      <td>23086.800503</td>\n      <td>1.059034e+06</td>\n      <td>208 Michael Ferry Apt. 674\\nLaurabury, NE 3701...</td>\n    </tr>\n    <tr>\n      <th>1</th>\n      <td>79248.642455</td>\n      <td>6.002900</td>\n      <td>6.730821</td>\n      <td>3.09</td>\n      <td>40173.072174</td>\n      <td>1.505891e+06</td>\n      <td>188 Johnson Views Suite 079\\nLake Kathleen, CA...</td>\n    </tr>\n    <tr>\n      <th>2</th>\n      <td>61287.067179</td>\n      <td>5.865890</td>\n      <td>8.512727</td>\n      <td>5.13</td>\n      <td>36882.159400</td>\n      <td>1.058988e+06</td>\n      <td>9127 Elizabeth Stravenue\\nDanieltown, WI 06482...</td>\n    </tr>\n    <tr>\n      <th>3</th>\n      <td>63345.240046</td>\n      <td>7.188236</td>\n      <td>5.586729</td>\n      <td>3.26</td>\n      <td>34310.242831</td>\n      <td>1.260617e+06</td>\n      <td>USS Barnett\\nFPO AP 44820</td>\n    </tr>\n    <tr>\n      <th>4</th>\n      <td>59982.197226</td>\n      <td>5.040555</td>\n      <td>7.839388</td>\n      <td>4.23</td>\n      <td>26354.109472</td>\n      <td>6.309435e+05</td>\n      <td>USNS Raymond\\nFPO AE 09386</td>\n    </tr>\n  </tbody>\n</table>\n</div>"
     },
     "metadata": {},
     "execution_count": 3
    }
   ],
   "source": [
    "df2 = pd.read_csv(\"../data/USA_Housing.csv\")\n",
    "df2.head()"
   ]
  },
  {
   "cell_type": "code",
   "execution_count": 4,
   "metadata": {},
   "outputs": [],
   "source": [
    "def choose_model(option_user, params=None): \n",
    "    if option_user == 1:\n",
    "        model = LinearRegression()\n",
    "        return model\n",
    "    if option_user == 2:\n",
    "        model = LogisticRegression()\n",
    "        return model\n",
    "    if option_user == 3:\n",
    "        model = KNeighborsClassifier()\n",
    "        if \"k\" in params.keys():\n",
    "            k = params[\"k\"]\n",
    "            model = KNeighborsClassifier(n_neighbors=k)\n",
    "            return model\n",
    "        else:\n",
    "            print(\"k value is mandatory for KNN model\")\n",
    "    if option_user == 4:\n",
    "        if \"degree\" in params.keys():\n",
    "            degree = params[\"degree\"]\n",
    "            model = PolynomialFeatures(degree) \n",
    "            return model\n",
    "        else:\n",
    "            print(\"There is no value = grados\")\n",
    "    if option_user == 5:\n",
    "         if \"C\" in params.keys() and \"gamma\" in params.keys() and \"kernel\" in params.keys():\n",
    "             C = params[\"C\"]\n",
    "             gamma = params[\"gamma\"]\n",
    "             kernel = params[\"kernel\"]\n",
    "             model =svm.SVC(C, kernel, gamma) \n",
    "             return model\n",
    "         else:\n",
    "            print(\"falta C, kernel ó gamma\")\n",
    "\n",
    "    \n",
    "\n",
    "def train_model(model, df, target_name):\n",
    "    cambiando_tipo = str(model)\n",
    "    X = df.drop(columns=[target_name])\n",
    "    y = df[target_name]\n",
    "    if cambiando_tipo == \"LinearRegression()\":\n",
    "        le = preprocessing.LabelEncoder()\n",
    "        y_label_encoded = le.fit_transform(y)\n",
    "        X = np.array(X)\n",
    "        y = np.array(y_label_encoded)\n",
    "        X_train, X_test, y_train, y_test = train_test_split(X, y, test_size=0.20)\n",
    "        model_trained = model.fit(X_train,y_train)\n",
    "        accuracy = model.score(X_test, y_test)\n",
    "    elif (\"KNeighborsClassifier\" in cambiando_tipo) or (\"LogisticRegression\" in cambiando_tipo) or (\"SVC\" in cambiando_tipo):\n",
    "        X = np.array(X)\n",
    "        y = np.array(y)\n",
    "        X_train, X_test, y_train, y_test = train_test_split(X, y, test_size=0.20)\n",
    "        model_trained = model.fit(X_train,y_train)\n",
    "        accuracy = model.score(X_test, y_test)\n",
    "    if \"PolynomialFeatures\" in cambiando_tipo:\n",
    "        le1 = preprocessing.LabelEncoder()\n",
    "        y_label_encoded = le1.fit_transform(y)\n",
    "        X = np.array(X)\n",
    "        y = np.array(y_label_encoded)\n",
    "        X_train, X_test, y_train, y_test = train_test_split(X, y, test_size=0.20)\n",
    "\n",
    "        X_poly = model.fit_transform(X_train, y_train)\n",
    "        model_lin = LinearRegression()\n",
    "        model_trained = model_lin.fit(X_poly, y_train)\n",
    "        y_pred = model_lin.predict(X_poly)\n",
    "        accuracy = r2_score(y_train, y_pred)\n",
    "\n",
    "    return accuracy,model_trained\n",
    "\n",
    "\n",
    "def predict_new_data(model_trained, to_pred): #recibe un modelo y un nuevo ejemplo a predecir\n",
    "    modelo1 = model_trained\n",
    "    y_pred = modelo1.predict([to_pred])\n",
    "    return y_pred\n",
    "\n",
    "def main():\n",
    "    print(\"1 = regresión lineal , 2 = regresión logística, 3 = KNN, 4 = PolynomialFeatures, 5 = SVC\" ) \n",
    "    option = input(\"Choose 1,2,3,4,5 \")\n",
    "    print(\"----------------------------------------------------------------------------\")\n",
    "    parametros=None\n",
    "    if option == \"3\" or option ==\"4\" or option == \"5\":\n",
    "        parametros = {\"k\":3, \"degree\":3, \"C\":1000, \"kernel\": \"rbf\" ,\"gamma\":10 }\n",
    "    modelo = choose_model(option_user=int(option),params=parametros)\n",
    "    accuracy, model_trained = train_model(model=modelo, df=df, target_name=\"variety\")\n",
    "    print(\"accuracy of this model =\",accuracy)\n",
    "    option1 = input(\"Quieres predecir unos datos en concreto? s/n\")\n",
    "    if option1 == \"s\":\n",
    "        y_predecido = predict_new_data(model_trained=model_trained, to_pred=[5.1,3.5,1.4,0.2])\n",
    "        return model_trained\n",
    "    else:\n",
    "        return model_trained\n"
   ]
  },
  {
   "cell_type": "code",
   "execution_count": 5,
   "metadata": {},
   "outputs": [
    {
     "output_type": "stream",
     "name": "stdout",
     "text": [
      "1 = regresión lineal , 2 = regresión logística, 3 = KNN, 4 = PolynomialFeatures, 5 = SVC\n",
      "----------------------------------------------------------------------------\n",
      "accuracy of this model = 0.9427225940774276\n"
     ]
    },
    {
     "output_type": "execute_result",
     "data": {
      "text/plain": [
       "LinearRegression()"
      ]
     },
     "metadata": {},
     "execution_count": 5
    }
   ],
   "source": [
    "main()"
   ]
  },
  {
   "cell_type": "code",
   "execution_count": null,
   "metadata": {},
   "outputs": [],
   "source": []
  }
 ]
}