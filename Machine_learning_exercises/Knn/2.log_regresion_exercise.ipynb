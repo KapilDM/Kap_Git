{
 "metadata": {
  "language_info": {
   "codemirror_mode": {
    "name": "ipython",
    "version": 3
   },
   "file_extension": ".py",
   "mimetype": "text/x-python",
   "name": "python",
   "nbconvert_exporter": "python",
   "pygments_lexer": "ipython3",
   "version": "3.9.0-final"
  },
  "orig_nbformat": 2,
  "kernelspec": {
   "name": "python3",
   "display_name": "Python 3.9.0 64-bit",
   "metadata": {
    "interpreter": {
     "hash": "cf88cdeb52cfbd9b7891bd0104565f5c75083759e3ad4e400c6eab5e28be6642"
    }
   }
  }
 },
 "nbformat": 4,
 "nbformat_minor": 2,
 "cells": [
  {
   "cell_type": "markdown",
   "metadata": {},
   "source": [
    "1. \n",
    "\n",
    "(X_train=80%)\n",
    "(X_test=20%)\n",
    "\n",
    "A partir del archivo \"iris.csv\" que se corresponde con datos relacionados con tres tipos de plantas (el target es el tipo de planta):\n",
    "\n",
    "- Mediante regresión logística, predice qué planta se corresponde con los ejemplos: [[15.7,2.8,9.5,0.1]] y [[1.7,3.8,4.5,11.3]]\n",
    "- ¿Qué acierto tiene tu modelo? (score)\n",
    "- Utiliza un conjunto de test con el 40% de los datos: ¿cambian los resultados anteriores? ¿por qué?\n",
    "- Elimina la clase \"Virginica\" de tus datos. Repite el proceso anterior, ¿cambian los resultados?\n",
    "- ¿Consideras la regresión logística un buen algoritmo para estos datos? ¿por qué?"
   ]
  },
  {
   "cell_type": "code",
   "execution_count": 1,
   "metadata": {},
   "outputs": [],
   "source": [
    "import pandas as pd\n",
    "import numpy as np\n",
    "from sklearn.linear_model import LogisticRegression"
   ]
  },
  {
   "cell_type": "code",
   "execution_count": 8,
   "metadata": {},
   "outputs": [
    {
     "output_type": "stream",
     "name": "stdout",
     "text": [
      "(150, 5)\n"
     ]
    },
    {
     "output_type": "execute_result",
     "data": {
      "text/plain": [
       "   sepal.length  sepal.width  petal.length  petal.width variety\n",
       "0           5.1          3.5           1.4          0.2  Setosa\n",
       "1           4.9          3.0           1.4          0.2  Setosa\n",
       "2           4.7          3.2           1.3          0.2  Setosa\n",
       "3           4.6          3.1           1.5          0.2  Setosa\n",
       "4           5.0          3.6           1.4          0.2  Setosa"
      ],
      "text/html": "<div>\n<style scoped>\n    .dataframe tbody tr th:only-of-type {\n        vertical-align: middle;\n    }\n\n    .dataframe tbody tr th {\n        vertical-align: top;\n    }\n\n    .dataframe thead th {\n        text-align: right;\n    }\n</style>\n<table border=\"1\" class=\"dataframe\">\n  <thead>\n    <tr style=\"text-align: right;\">\n      <th></th>\n      <th>sepal.length</th>\n      <th>sepal.width</th>\n      <th>petal.length</th>\n      <th>petal.width</th>\n      <th>variety</th>\n    </tr>\n  </thead>\n  <tbody>\n    <tr>\n      <th>0</th>\n      <td>5.1</td>\n      <td>3.5</td>\n      <td>1.4</td>\n      <td>0.2</td>\n      <td>Setosa</td>\n    </tr>\n    <tr>\n      <th>1</th>\n      <td>4.9</td>\n      <td>3.0</td>\n      <td>1.4</td>\n      <td>0.2</td>\n      <td>Setosa</td>\n    </tr>\n    <tr>\n      <th>2</th>\n      <td>4.7</td>\n      <td>3.2</td>\n      <td>1.3</td>\n      <td>0.2</td>\n      <td>Setosa</td>\n    </tr>\n    <tr>\n      <th>3</th>\n      <td>4.6</td>\n      <td>3.1</td>\n      <td>1.5</td>\n      <td>0.2</td>\n      <td>Setosa</td>\n    </tr>\n    <tr>\n      <th>4</th>\n      <td>5.0</td>\n      <td>3.6</td>\n      <td>1.4</td>\n      <td>0.2</td>\n      <td>Setosa</td>\n    </tr>\n  </tbody>\n</table>\n</div>"
     },
     "metadata": {},
     "execution_count": 8
    }
   ],
   "source": [
    "df = pd.read_csv(\"iris.csv\")\n",
    "print(df.shape)\n",
    "df.head()"
   ]
  },
  {
   "cell_type": "code",
   "execution_count": 9,
   "metadata": {},
   "outputs": [
    {
     "output_type": "execute_result",
     "data": {
      "text/plain": [
       "array(['Setosa', 'Versicolor', 'Virginica'], dtype=object)"
      ]
     },
     "metadata": {},
     "execution_count": 9
    }
   ],
   "source": [
    "df.variety.unique() #Este es mi target (variety)"
   ]
  },
  {
   "cell_type": "code",
   "execution_count": 28,
   "metadata": {},
   "outputs": [],
   "source": [
    "X = np.array(df.drop([\"variety\"], axis=1))\n",
    "y = np.array(df[\"variety\"])"
   ]
  },
  {
   "cell_type": "code",
   "execution_count": null,
   "metadata": {},
   "outputs": [],
   "source": [
    "#Lo uso en segun que modelos mios\n",
    "from sklearn.model_selection import train_test_split\n",
    "seed = 7\n",
    "X_train, X_test, Y_train, Y_test = train_test_split(X,y,test_size=0.20,random_state=seed)"
   ]
  },
  {
   "cell_type": "code",
   "execution_count": 36,
   "metadata": {},
   "outputs": [
    {
     "output_type": "stream",
     "name": "stdout",
     "text": [
      "['Virginica' 'Versicolor' 'Setosa' 'Versicolor' 'Versicolor' 'Setosa'\n 'Versicolor' 'Versicolor' 'Setosa' 'Versicolor' 'Virginica' 'Versicolor'\n 'Setosa' 'Virginica' 'Setosa' 'Virginica' 'Virginica' 'Virginica'\n 'Setosa' 'Setosa' 'Versicolor' 'Virginica' 'Versicolor' 'Virginica'\n 'Virginica' 'Virginica' 'Versicolor' 'Versicolor' 'Virginica' 'Virginica']\n0.9733333333333334\n0.9916666666666667\n0.9\n"
     ]
    }
   ],
   "source": [
    "#MODELO 1\n",
    "model_1 = LogisticRegression()\n",
    "model_1.fit(X,y)\n",
    "y_total_predictions = model_1.predict(X)# Para cada X, el modelo ha predecido esos valores de clase según las probabilidades\n",
    "y_ty = model_1.predict(X_test)\n",
    "print(y_ty)\n",
    "print(model_1.score(X,y))\n",
    "print(model_1.score(X_train,Y_train))\n",
    "print(model_1.score(X_test,Y_test)) #YO CREO QUE ESTE ES EL QUE HAY QUE UTIILIZAR"
   ]
  },
  {
   "cell_type": "code",
   "execution_count": 37,
   "metadata": {},
   "outputs": [
    {
     "output_type": "stream",
     "name": "stdout",
     "text": [
      "['Virginica' 'Versicolor' 'Setosa' 'Versicolor' 'Versicolor' 'Setosa'\n 'Versicolor' 'Versicolor' 'Setosa' 'Versicolor' 'Virginica' 'Versicolor'\n 'Setosa' 'Virginica' 'Setosa' 'Virginica' 'Virginica' 'Virginica'\n 'Setosa' 'Setosa' 'Versicolor' 'Virginica' 'Versicolor' 'Versicolor'\n 'Virginica' 'Virginica' 'Versicolor' 'Versicolor' 'Virginica' 'Virginica']\n0.9666666666666667\n0.9916666666666667\n0.8666666666666667\n"
     ]
    }
   ],
   "source": [
    "#MODELO 2\n",
    "model_2 = LogisticRegression()\n",
    "model_2.fit(X_train, Y_train ) #Entrenando el modelo\n",
    "y_predictions = model_2.predict(X_test) #y-test es lo que deberia dar y Predictions LO QUE DA\n",
    "print(y_predictions)\n",
    "print(model_2.score(X,y))\n",
    "print(model_2.score(X_train,Y_train))\n",
    "print(model_2.score(X_test,Y_test)) #YO CREO QUE ESTE ES EL QUE HAY QUE UTIILIZAR"
   ]
  },
  {
   "cell_type": "code",
   "execution_count": 41,
   "metadata": {},
   "outputs": [],
   "source": [
    "from sklearn import model_selection\n",
    "kfold = model_selection.KFold(n_splits=10)#, random_state=seed)"
   ]
  },
  {
   "cell_type": "code",
   "execution_count": 42,
   "metadata": {},
   "outputs": [
    {
     "output_type": "stream",
     "name": "stdout",
     "text": [
      "[1.         1.         1.         1.         1.         1.\n 0.91666667 1.         0.91666667 1.        ]\n0.9833333333333332\n0.03333333333333335\n"
     ]
    }
   ],
   "source": [
    "#MODELO 1 CROSS_val\n",
    "from sklearn import model_selection\n",
    "cv_results_1 = model_selection.cross_val_score(model_1, X_train, Y_train, cv=kfold, scoring='accuracy')\n",
    "print(cv_results_1) \n",
    "print(cv_results_1.mean()) #media de los porcentajes de aciertos que ha habido\n",
    "print(cv_results_1.std())"
   ]
  },
  {
   "cell_type": "code",
   "execution_count": 44,
   "metadata": {},
   "outputs": [
    {
     "output_type": "stream",
     "name": "stdout",
     "text": [
      "[1.         1.         1.         1.         1.         1.\n 0.91666667 1.         0.91666667 1.        ]\n0.9833333333333332\n0.03333333333333335\n"
     ]
    }
   ],
   "source": [
    "#MODELO 2 CROSS_VAL\n",
    "from sklearn import model_selection\n",
    "cv_results_2 = model_selection.cross_val_score(model_2, X_train, Y_train, cv=kfold, scoring='accuracy')\n",
    "print(cv_results_2) \n",
    "print(cv_results_2.mean()) #Media de los porcentajes de aciertos que ha habido\n",
    "print(cv_results_2.std())"
   ]
  },
  {
   "cell_type": "code",
   "execution_count": null,
   "metadata": {},
   "outputs": [],
   "source": []
  }
 ]
}