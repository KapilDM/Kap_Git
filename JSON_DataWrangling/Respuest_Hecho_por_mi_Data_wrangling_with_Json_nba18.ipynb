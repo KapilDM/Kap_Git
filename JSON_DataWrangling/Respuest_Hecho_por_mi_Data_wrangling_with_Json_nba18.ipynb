{
 "cells": [
  {
   "cell_type": "markdown",
   "metadata": {},
   "source": [
    "## Working on Jsons"
   ]
  },
  {
   "cell_type": "code",
   "execution_count": 24,
   "metadata": {},
   "outputs": [],
   "source": [
    "import requests\n",
    "import json\n",
    "import pandas as pd"
   ]
  },
  {
   "cell_type": "code",
   "execution_count": 25,
   "metadata": {
    "tags": []
   },
   "outputs": [],
   "source": [
    "r = requests.get(url='http://data.nba.net/prod/v2/2018/teams.json')\n",
    "json_readed = json.loads(r.text)"
   ]
  },
  {
   "cell_type": "code",
   "execution_count": 26,
   "metadata": {
    "tags": []
   },
   "outputs": [],
   "source": [
    "#print(json_readed)\n",
    "df = pd.DataFrame(json_readed) "
   ]
  },
  {
   "cell_type": "code",
   "execution_count": 36,
   "metadata": {},
   "outputs": [
    {
     "output_type": "execute_result",
     "data": {
      "text/plain": [
       "                                                       league\n",
       "standard    [{'isNBAFranchise': False, 'isAllStar': True, ...\n",
       "africa      [{'isNBAFranchise': False, 'isAllStar': False,...\n",
       "sacramento  [{'isNBAFranchise': True, 'isAllStar': False, ...\n",
       "vegas       [{'isNBAFranchise': True, 'isAllStar': False, ...\n",
       "utah        [{'isNBAFranchise': True, 'isAllStar': False, ..."
      ],
      "text/html": "<div>\n<style scoped>\n    .dataframe tbody tr th:only-of-type {\n        vertical-align: middle;\n    }\n\n    .dataframe tbody tr th {\n        vertical-align: top;\n    }\n\n    .dataframe thead th {\n        text-align: right;\n    }\n</style>\n<table border=\"1\" class=\"dataframe\">\n  <thead>\n    <tr style=\"text-align: right;\">\n      <th></th>\n      <th>league</th>\n    </tr>\n  </thead>\n  <tbody>\n    <tr>\n      <th>standard</th>\n      <td>[{'isNBAFranchise': False, 'isAllStar': True, ...</td>\n    </tr>\n    <tr>\n      <th>africa</th>\n      <td>[{'isNBAFranchise': False, 'isAllStar': False,...</td>\n    </tr>\n    <tr>\n      <th>sacramento</th>\n      <td>[{'isNBAFranchise': True, 'isAllStar': False, ...</td>\n    </tr>\n    <tr>\n      <th>vegas</th>\n      <td>[{'isNBAFranchise': True, 'isAllStar': False, ...</td>\n    </tr>\n    <tr>\n      <th>utah</th>\n      <td>[{'isNBAFranchise': True, 'isAllStar': False, ...</td>\n    </tr>\n  </tbody>\n</table>\n</div>"
     },
     "metadata": {},
     "execution_count": 36
    }
   ],
   "source": [
    "#HECHO POR EL PROFESOR. lo PRIMERO QUE HACEMOS ES COGER LOS ROWS DESDE STANDARTD HASTA UTAH Y SOLO COGEMOS LEAGU\n",
    "df2 = df.loc[\"standard\":,\"league\"]  #Si no ponemos los : en league aunque solo haya una columna, seria una serie, con los : se ve como un dataframe.  Hacer los ejemplos de los print con y sin : despues de league para ver la diferencia. siempre tiene q haber un : en la segunda parte para que sea un dataframe. Es decir, que si hubiese mas columnas que league pondriamos \"league\":\"league\" para que esten los : y y sea un dataframe\n",
    "#La otra forma sería:\n",
    "#que si df2 es una serie y se imprime como una serie....pues le hacemos un \n",
    "df3 = pd.DataFrame(df2) \n",
    "df3\n"
   ]
  },
  {
   "cell_type": "code",
   "execution_count": 33,
   "metadata": {},
   "outputs": [
    {
     "output_type": "error",
     "ename": "KeyError",
     "evalue": "'league'",
     "traceback": [
      "\u001b[1;31m---------------------------------------------------------------------------\u001b[0m",
      "\u001b[1;31mKeyError\u001b[0m                                  Traceback (most recent call last)",
      "\u001b[1;32m~\\AppData\\Local\\Programs\\Python\\Python39\\lib\\site-packages\\pandas\\core\\indexes\\base.py\u001b[0m in \u001b[0;36mget_loc\u001b[1;34m(self, key, method, tolerance)\u001b[0m\n\u001b[0;32m   2897\u001b[0m             \u001b[1;32mtry\u001b[0m\u001b[1;33m:\u001b[0m\u001b[1;33m\u001b[0m\u001b[1;33m\u001b[0m\u001b[0m\n\u001b[1;32m-> 2898\u001b[1;33m                 \u001b[1;32mreturn\u001b[0m \u001b[0mself\u001b[0m\u001b[1;33m.\u001b[0m\u001b[0m_engine\u001b[0m\u001b[1;33m.\u001b[0m\u001b[0mget_loc\u001b[0m\u001b[1;33m(\u001b[0m\u001b[0mcasted_key\u001b[0m\u001b[1;33m)\u001b[0m\u001b[1;33m\u001b[0m\u001b[1;33m\u001b[0m\u001b[0m\n\u001b[0m\u001b[0;32m   2899\u001b[0m             \u001b[1;32mexcept\u001b[0m \u001b[0mKeyError\u001b[0m \u001b[1;32mas\u001b[0m \u001b[0merr\u001b[0m\u001b[1;33m:\u001b[0m\u001b[1;33m\u001b[0m\u001b[1;33m\u001b[0m\u001b[0m\n",
      "\u001b[1;32mpandas\\_libs\\index.pyx\u001b[0m in \u001b[0;36mpandas._libs.index.IndexEngine.get_loc\u001b[1;34m()\u001b[0m\n",
      "\u001b[1;32mpandas\\_libs\\index.pyx\u001b[0m in \u001b[0;36mpandas._libs.index.IndexEngine.get_loc\u001b[1;34m()\u001b[0m\n",
      "\u001b[1;32mpandas\\_libs\\hashtable_class_helper.pxi\u001b[0m in \u001b[0;36mpandas._libs.hashtable.PyObjectHashTable.get_item\u001b[1;34m()\u001b[0m\n",
      "\u001b[1;32mpandas\\_libs\\hashtable_class_helper.pxi\u001b[0m in \u001b[0;36mpandas._libs.hashtable.PyObjectHashTable.get_item\u001b[1;34m()\u001b[0m\n",
      "\u001b[1;31mKeyError\u001b[0m: 'league'",
      "\nThe above exception was the direct cause of the following exception:\n",
      "\u001b[1;31mKeyError\u001b[0m                                  Traceback (most recent call last)",
      "\u001b[1;32m<ipython-input-33-beac671008bb>\u001b[0m in \u001b[0;36m<module>\u001b[1;34m\u001b[0m\n\u001b[0;32m      1\u001b[0m \u001b[1;31m#VAMOS A UTILIZAR DF2 QUE ES LO MISMO QUE CON DF3, ES LA MISMA INFORMACION\u001b[0m\u001b[1;33m\u001b[0m\u001b[1;33m\u001b[0m\u001b[1;33m\u001b[0m\u001b[0m\n\u001b[1;32m----> 2\u001b[1;33m \u001b[0mdf2\u001b[0m\u001b[1;33m[\u001b[0m\u001b[1;34m\"league\"\u001b[0m\u001b[1;33m]\u001b[0m\u001b[1;33m[\u001b[0m\u001b[1;36m0\u001b[0m\u001b[1;33m]\u001b[0m\u001b[1;33m\u001b[0m\u001b[1;33m\u001b[0m\u001b[0m\n\u001b[0m",
      "\u001b[1;32m~\\AppData\\Local\\Programs\\Python\\Python39\\lib\\site-packages\\pandas\\core\\series.py\u001b[0m in \u001b[0;36m__getitem__\u001b[1;34m(self, key)\u001b[0m\n\u001b[0;32m    880\u001b[0m \u001b[1;33m\u001b[0m\u001b[0m\n\u001b[0;32m    881\u001b[0m         \u001b[1;32melif\u001b[0m \u001b[0mkey_is_scalar\u001b[0m\u001b[1;33m:\u001b[0m\u001b[1;33m\u001b[0m\u001b[1;33m\u001b[0m\u001b[0m\n\u001b[1;32m--> 882\u001b[1;33m             \u001b[1;32mreturn\u001b[0m \u001b[0mself\u001b[0m\u001b[1;33m.\u001b[0m\u001b[0m_get_value\u001b[0m\u001b[1;33m(\u001b[0m\u001b[0mkey\u001b[0m\u001b[1;33m)\u001b[0m\u001b[1;33m\u001b[0m\u001b[1;33m\u001b[0m\u001b[0m\n\u001b[0m\u001b[0;32m    883\u001b[0m \u001b[1;33m\u001b[0m\u001b[0m\n\u001b[0;32m    884\u001b[0m         \u001b[1;32mif\u001b[0m \u001b[0mis_hashable\u001b[0m\u001b[1;33m(\u001b[0m\u001b[0mkey\u001b[0m\u001b[1;33m)\u001b[0m\u001b[1;33m:\u001b[0m\u001b[1;33m\u001b[0m\u001b[1;33m\u001b[0m\u001b[0m\n",
      "\u001b[1;32m~\\AppData\\Local\\Programs\\Python\\Python39\\lib\\site-packages\\pandas\\core\\series.py\u001b[0m in \u001b[0;36m_get_value\u001b[1;34m(self, label, takeable)\u001b[0m\n\u001b[0;32m    988\u001b[0m \u001b[1;33m\u001b[0m\u001b[0m\n\u001b[0;32m    989\u001b[0m         \u001b[1;31m# Similar to Index.get_value, but we do not fall back to positional\u001b[0m\u001b[1;33m\u001b[0m\u001b[1;33m\u001b[0m\u001b[1;33m\u001b[0m\u001b[0m\n\u001b[1;32m--> 990\u001b[1;33m         \u001b[0mloc\u001b[0m \u001b[1;33m=\u001b[0m \u001b[0mself\u001b[0m\u001b[1;33m.\u001b[0m\u001b[0mindex\u001b[0m\u001b[1;33m.\u001b[0m\u001b[0mget_loc\u001b[0m\u001b[1;33m(\u001b[0m\u001b[0mlabel\u001b[0m\u001b[1;33m)\u001b[0m\u001b[1;33m\u001b[0m\u001b[1;33m\u001b[0m\u001b[0m\n\u001b[0m\u001b[0;32m    991\u001b[0m         \u001b[1;32mreturn\u001b[0m \u001b[0mself\u001b[0m\u001b[1;33m.\u001b[0m\u001b[0mindex\u001b[0m\u001b[1;33m.\u001b[0m\u001b[0m_get_values_for_loc\u001b[0m\u001b[1;33m(\u001b[0m\u001b[0mself\u001b[0m\u001b[1;33m,\u001b[0m \u001b[0mloc\u001b[0m\u001b[1;33m,\u001b[0m \u001b[0mlabel\u001b[0m\u001b[1;33m)\u001b[0m\u001b[1;33m\u001b[0m\u001b[1;33m\u001b[0m\u001b[0m\n\u001b[0;32m    992\u001b[0m \u001b[1;33m\u001b[0m\u001b[0m\n",
      "\u001b[1;32m~\\AppData\\Local\\Programs\\Python\\Python39\\lib\\site-packages\\pandas\\core\\indexes\\base.py\u001b[0m in \u001b[0;36mget_loc\u001b[1;34m(self, key, method, tolerance)\u001b[0m\n\u001b[0;32m   2898\u001b[0m                 \u001b[1;32mreturn\u001b[0m \u001b[0mself\u001b[0m\u001b[1;33m.\u001b[0m\u001b[0m_engine\u001b[0m\u001b[1;33m.\u001b[0m\u001b[0mget_loc\u001b[0m\u001b[1;33m(\u001b[0m\u001b[0mcasted_key\u001b[0m\u001b[1;33m)\u001b[0m\u001b[1;33m\u001b[0m\u001b[1;33m\u001b[0m\u001b[0m\n\u001b[0;32m   2899\u001b[0m             \u001b[1;32mexcept\u001b[0m \u001b[0mKeyError\u001b[0m \u001b[1;32mas\u001b[0m \u001b[0merr\u001b[0m\u001b[1;33m:\u001b[0m\u001b[1;33m\u001b[0m\u001b[1;33m\u001b[0m\u001b[0m\n\u001b[1;32m-> 2900\u001b[1;33m                 \u001b[1;32mraise\u001b[0m \u001b[0mKeyError\u001b[0m\u001b[1;33m(\u001b[0m\u001b[0mkey\u001b[0m\u001b[1;33m)\u001b[0m \u001b[1;32mfrom\u001b[0m \u001b[0merr\u001b[0m\u001b[1;33m\u001b[0m\u001b[1;33m\u001b[0m\u001b[0m\n\u001b[0m\u001b[0;32m   2901\u001b[0m \u001b[1;33m\u001b[0m\u001b[0m\n\u001b[0;32m   2902\u001b[0m         \u001b[1;32mif\u001b[0m \u001b[0mtolerance\u001b[0m \u001b[1;32mis\u001b[0m \u001b[1;32mnot\u001b[0m \u001b[1;32mNone\u001b[0m\u001b[1;33m:\u001b[0m\u001b[1;33m\u001b[0m\u001b[1;33m\u001b[0m\u001b[0m\n",
      "\u001b[1;31mKeyError\u001b[0m: 'league'"
     ]
    }
   ],
   "source": [
    "#VAMOS A UTILIZAR DF2 QUE ES LO MISMO QUE CON DF3, ES LA MISMA INFORMACION\n",
    "df2[\"league\"][0]"
   ]
  },
  {
   "cell_type": "code",
   "execution_count": null,
   "metadata": {},
   "outputs": [],
   "source": []
  },
  {
   "cell_type": "code",
   "execution_count": null,
   "metadata": {},
   "outputs": [],
   "source": []
  },
  {
   "cell_type": "code",
   "execution_count": null,
   "metadata": {},
   "outputs": [],
   "source": []
  },
  {
   "cell_type": "code",
   "execution_count": null,
   "metadata": {},
   "outputs": [],
   "source": []
  },
  {
   "cell_type": "code",
   "execution_count": null,
   "metadata": {},
   "outputs": [],
   "source": []
  },
  {
   "cell_type": "code",
   "execution_count": null,
   "metadata": {},
   "outputs": [],
   "source": [
    "#LO QUE ESTÁ AQUI DEBAJO ES LO QUE HE HECHO YO"
   ]
  },
  {
   "cell_type": "markdown",
   "metadata": {},
   "source": [
    "### Data Mining & Data Wrangling\n",
    "As you can see, there are jsons inside the original json. For that, we have to mining the json (data mining) to be able to use it correctly (data wrangling). \n",
    "\n",
    "How do you solve this issue? Research about this and try a solution. "
   ]
  },
  {
   "cell_type": "code",
   "execution_count": 15,
   "metadata": {},
   "outputs": [
    {
     "output_type": "execute_result",
     "data": {
      "text/plain": [
       "                                          _internal  \\\n",
       "pubDateTime                 2018-08-30 20:00:04.422   \n",
       "xslt         xsl/league/roster/marty_teams_list.xsl   \n",
       "eventName                             league_roster   \n",
       "standard                                        NaN   \n",
       "africa                                          NaN   \n",
       "sacramento                                      NaN   \n",
       "vegas                                           NaN   \n",
       "utah                                            NaN   \n",
       "\n",
       "                                                        league  \n",
       "pubDateTime                                                NaN  \n",
       "xslt                                                       NaN  \n",
       "eventName                                                  NaN  \n",
       "standard     [{'isNBAFranchise': False, 'isAllStar': True, ...  \n",
       "africa       [{'isNBAFranchise': False, 'isAllStar': False,...  \n",
       "sacramento   [{'isNBAFranchise': True, 'isAllStar': False, ...  \n",
       "vegas        [{'isNBAFranchise': True, 'isAllStar': False, ...  \n",
       "utah         [{'isNBAFranchise': True, 'isAllStar': False, ...  "
      ],
      "text/html": "<div>\n<style scoped>\n    .dataframe tbody tr th:only-of-type {\n        vertical-align: middle;\n    }\n\n    .dataframe tbody tr th {\n        vertical-align: top;\n    }\n\n    .dataframe thead th {\n        text-align: right;\n    }\n</style>\n<table border=\"1\" class=\"dataframe\">\n  <thead>\n    <tr style=\"text-align: right;\">\n      <th></th>\n      <th>_internal</th>\n      <th>league</th>\n    </tr>\n  </thead>\n  <tbody>\n    <tr>\n      <th>pubDateTime</th>\n      <td>2018-08-30 20:00:04.422</td>\n      <td>NaN</td>\n    </tr>\n    <tr>\n      <th>xslt</th>\n      <td>xsl/league/roster/marty_teams_list.xsl</td>\n      <td>NaN</td>\n    </tr>\n    <tr>\n      <th>eventName</th>\n      <td>league_roster</td>\n      <td>NaN</td>\n    </tr>\n    <tr>\n      <th>standard</th>\n      <td>NaN</td>\n      <td>[{'isNBAFranchise': False, 'isAllStar': True, ...</td>\n    </tr>\n    <tr>\n      <th>africa</th>\n      <td>NaN</td>\n      <td>[{'isNBAFranchise': False, 'isAllStar': False,...</td>\n    </tr>\n    <tr>\n      <th>sacramento</th>\n      <td>NaN</td>\n      <td>[{'isNBAFranchise': True, 'isAllStar': False, ...</td>\n    </tr>\n    <tr>\n      <th>vegas</th>\n      <td>NaN</td>\n      <td>[{'isNBAFranchise': True, 'isAllStar': False, ...</td>\n    </tr>\n    <tr>\n      <th>utah</th>\n      <td>NaN</td>\n      <td>[{'isNBAFranchise': True, 'isAllStar': False, ...</td>\n    </tr>\n  </tbody>\n</table>\n</div>"
     },
     "metadata": {},
     "execution_count": 15
    }
   ],
   "source": [
    "df = pd.DataFrame(json_readed) \n",
    "df"
   ]
  },
  {
   "cell_type": "code",
   "execution_count": 16,
   "metadata": {},
   "outputs": [
    {
     "output_type": "execute_result",
     "data": {
      "text/plain": [
       "[{'isNBAFranchise': False,\n",
       "  'isAllStar': False,\n",
       "  'city': 'Team',\n",
       "  'altCityName': 'Team',\n",
       "  'fullName': 'Team Africa',\n",
       "  'tricode': 'AFR',\n",
       "  'teamId': '12326',\n",
       "  'nickname': 'Africa',\n",
       "  'urlName': 'africa',\n",
       "  'confName': '',\n",
       "  'divName': ''},\n",
       " {'isNBAFranchise': False,\n",
       "  'isAllStar': False,\n",
       "  'city': 'Team',\n",
       "  'altCityName': 'Team',\n",
       "  'fullName': 'Team World',\n",
       "  'tricode': 'WLD',\n",
       "  'teamId': '12327',\n",
       "  'nickname': 'World',\n",
       "  'urlName': 'world',\n",
       "  'confName': '',\n",
       "  'divName': ''}]"
      ]
     },
     "metadata": {},
     "execution_count": 16
    }
   ],
   "source": [
    "#Muestro el json que está dentro de league y row=africa para mostrarlo\n",
    "#df[\"league\"][\"africa\"]\n",
    "\n",
    "#Tabién lo podría hacer así:\n",
    "df[\"league\"][4]\n"
   ]
  },
  {
   "cell_type": "code",
   "execution_count": 23,
   "metadata": {},
   "outputs": [
    {
     "output_type": "execute_result",
     "data": {
      "text/plain": [
       "   isNBAFranchise  isAllStar          city   altCityName      fullName  \\\n",
       "0           False       True           USA           USA           USA   \n",
       "1           False       True         World         World         World   \n",
       "2           False       True          Team          Team     All-Stars   \n",
       "3           False       True          Team          Team     All-Stars   \n",
       "4           False       True  Team Giannis  Team Giannis  Team Giannis   \n",
       "\n",
       "  tricode      teamId      nickname       urlName confName divName  \n",
       "0     USA  1610616843           USA           usa     East    East  \n",
       "1     WLD  1610616844         World         world     East    East  \n",
       "2     EST  1699999999     All-Stars     assn_away     East    East  \n",
       "3     WST  1699999998     All-Stars     assn_home     West    West  \n",
       "4     GNS  1610616833  Team Giannis  team_giannis     East    East  "
      ],
      "text/html": "<div>\n<style scoped>\n    .dataframe tbody tr th:only-of-type {\n        vertical-align: middle;\n    }\n\n    .dataframe tbody tr th {\n        vertical-align: top;\n    }\n\n    .dataframe thead th {\n        text-align: right;\n    }\n</style>\n<table border=\"1\" class=\"dataframe\">\n  <thead>\n    <tr style=\"text-align: right;\">\n      <th></th>\n      <th>isNBAFranchise</th>\n      <th>isAllStar</th>\n      <th>city</th>\n      <th>altCityName</th>\n      <th>fullName</th>\n      <th>tricode</th>\n      <th>teamId</th>\n      <th>nickname</th>\n      <th>urlName</th>\n      <th>confName</th>\n      <th>divName</th>\n    </tr>\n  </thead>\n  <tbody>\n    <tr>\n      <th>0</th>\n      <td>False</td>\n      <td>True</td>\n      <td>USA</td>\n      <td>USA</td>\n      <td>USA</td>\n      <td>USA</td>\n      <td>1610616843</td>\n      <td>USA</td>\n      <td>usa</td>\n      <td>East</td>\n      <td>East</td>\n    </tr>\n    <tr>\n      <th>1</th>\n      <td>False</td>\n      <td>True</td>\n      <td>World</td>\n      <td>World</td>\n      <td>World</td>\n      <td>WLD</td>\n      <td>1610616844</td>\n      <td>World</td>\n      <td>world</td>\n      <td>East</td>\n      <td>East</td>\n    </tr>\n    <tr>\n      <th>2</th>\n      <td>False</td>\n      <td>True</td>\n      <td>Team</td>\n      <td>Team</td>\n      <td>All-Stars</td>\n      <td>EST</td>\n      <td>1699999999</td>\n      <td>All-Stars</td>\n      <td>assn_away</td>\n      <td>East</td>\n      <td>East</td>\n    </tr>\n    <tr>\n      <th>3</th>\n      <td>False</td>\n      <td>True</td>\n      <td>Team</td>\n      <td>Team</td>\n      <td>All-Stars</td>\n      <td>WST</td>\n      <td>1699999998</td>\n      <td>All-Stars</td>\n      <td>assn_home</td>\n      <td>West</td>\n      <td>West</td>\n    </tr>\n    <tr>\n      <th>4</th>\n      <td>False</td>\n      <td>True</td>\n      <td>Team Giannis</td>\n      <td>Team Giannis</td>\n      <td>Team Giannis</td>\n      <td>GNS</td>\n      <td>1610616833</td>\n      <td>Team Giannis</td>\n      <td>team_giannis</td>\n      <td>East</td>\n      <td>East</td>\n    </tr>\n  </tbody>\n</table>\n</div>"
     },
     "metadata": {},
     "execution_count": 23
    }
   ],
   "source": [
    "data_standard = []\n",
    "data_standard.extend(df[\"league\"][\"standard\"]) # Pasamos la info del json dentro del dataframe dentro de esa posicion a una lista normal\n",
    "data_standard = pd.DataFrame(data_standard) #pasamos la lista a dataframe para mostrarlo como tal\n",
    "data_standard.head()"
   ]
  },
  {
   "cell_type": "code",
   "execution_count": 18,
   "metadata": {},
   "outputs": [
    {
     "output_type": "execute_result",
     "data": {
      "text/plain": [
       "   isNBAFranchise  isAllStar  city altCityName     fullName tricode teamId  \\\n",
       "0           False      False  Team        Team  Team Africa     AFR  12326   \n",
       "1           False      False  Team        Team   Team World     WLD  12327   \n",
       "\n",
       "  nickname urlName confName divName  \n",
       "0   Africa  africa                   \n",
       "1    World   world                   "
      ],
      "text/html": "<div>\n<style scoped>\n    .dataframe tbody tr th:only-of-type {\n        vertical-align: middle;\n    }\n\n    .dataframe tbody tr th {\n        vertical-align: top;\n    }\n\n    .dataframe thead th {\n        text-align: right;\n    }\n</style>\n<table border=\"1\" class=\"dataframe\">\n  <thead>\n    <tr style=\"text-align: right;\">\n      <th></th>\n      <th>isNBAFranchise</th>\n      <th>isAllStar</th>\n      <th>city</th>\n      <th>altCityName</th>\n      <th>fullName</th>\n      <th>tricode</th>\n      <th>teamId</th>\n      <th>nickname</th>\n      <th>urlName</th>\n      <th>confName</th>\n      <th>divName</th>\n    </tr>\n  </thead>\n  <tbody>\n    <tr>\n      <th>0</th>\n      <td>False</td>\n      <td>False</td>\n      <td>Team</td>\n      <td>Team</td>\n      <td>Team Africa</td>\n      <td>AFR</td>\n      <td>12326</td>\n      <td>Africa</td>\n      <td>africa</td>\n      <td></td>\n      <td></td>\n    </tr>\n    <tr>\n      <th>1</th>\n      <td>False</td>\n      <td>False</td>\n      <td>Team</td>\n      <td>Team</td>\n      <td>Team World</td>\n      <td>WLD</td>\n      <td>12327</td>\n      <td>World</td>\n      <td>world</td>\n      <td></td>\n      <td></td>\n    </tr>\n  </tbody>\n</table>\n</div>"
     },
     "metadata": {},
     "execution_count": 18
    }
   ],
   "source": [
    "data_africa = []\n",
    "data_africa.extend(df[\"league\"][\"africa\"])# Pasamos la indo del dataframe a una lista normal\n",
    "data_africa = pd.DataFrame(data_africa)#pasamos la lista a dataframe para mostrarlo como tal\n",
    "data_africa\n"
   ]
  },
  {
   "cell_type": "code",
   "execution_count": 19,
   "metadata": {},
   "outputs": [
    {
     "output_type": "execute_result",
     "data": {
      "text/plain": [
       "   isNBAFranchise  isAllStar          city         altCityName  \\\n",
       "0            True      False  Golden State        Golden State   \n",
       "1            True      False   Los Angeles  Los Angeles Lakers   \n",
       "2            True      False         Miami               Miami   \n",
       "3            True      False    Sacramento          Sacramento   \n",
       "\n",
       "                fullName tricode      teamId  nickname   urlName    confName  \\\n",
       "0  Golden State Warriors     GSW  1610612744  Warriors  warriors  Sacramento   \n",
       "1     Los Angeles Lakers     LAL  1610612747    Lakers    lakers  Sacramento   \n",
       "2             Miami Heat     MIA  1610612748      Heat      heat  Sacramento   \n",
       "3       Sacramento Kings     SAC  1610612758     Kings     kings  Sacramento   \n",
       "\n",
       "  divName  \n",
       "0          \n",
       "1          \n",
       "2          \n",
       "3          "
      ],
      "text/html": "<div>\n<style scoped>\n    .dataframe tbody tr th:only-of-type {\n        vertical-align: middle;\n    }\n\n    .dataframe tbody tr th {\n        vertical-align: top;\n    }\n\n    .dataframe thead th {\n        text-align: right;\n    }\n</style>\n<table border=\"1\" class=\"dataframe\">\n  <thead>\n    <tr style=\"text-align: right;\">\n      <th></th>\n      <th>isNBAFranchise</th>\n      <th>isAllStar</th>\n      <th>city</th>\n      <th>altCityName</th>\n      <th>fullName</th>\n      <th>tricode</th>\n      <th>teamId</th>\n      <th>nickname</th>\n      <th>urlName</th>\n      <th>confName</th>\n      <th>divName</th>\n    </tr>\n  </thead>\n  <tbody>\n    <tr>\n      <th>0</th>\n      <td>True</td>\n      <td>False</td>\n      <td>Golden State</td>\n      <td>Golden State</td>\n      <td>Golden State Warriors</td>\n      <td>GSW</td>\n      <td>1610612744</td>\n      <td>Warriors</td>\n      <td>warriors</td>\n      <td>Sacramento</td>\n      <td></td>\n    </tr>\n    <tr>\n      <th>1</th>\n      <td>True</td>\n      <td>False</td>\n      <td>Los Angeles</td>\n      <td>Los Angeles Lakers</td>\n      <td>Los Angeles Lakers</td>\n      <td>LAL</td>\n      <td>1610612747</td>\n      <td>Lakers</td>\n      <td>lakers</td>\n      <td>Sacramento</td>\n      <td></td>\n    </tr>\n    <tr>\n      <th>2</th>\n      <td>True</td>\n      <td>False</td>\n      <td>Miami</td>\n      <td>Miami</td>\n      <td>Miami Heat</td>\n      <td>MIA</td>\n      <td>1610612748</td>\n      <td>Heat</td>\n      <td>heat</td>\n      <td>Sacramento</td>\n      <td></td>\n    </tr>\n    <tr>\n      <th>3</th>\n      <td>True</td>\n      <td>False</td>\n      <td>Sacramento</td>\n      <td>Sacramento</td>\n      <td>Sacramento Kings</td>\n      <td>SAC</td>\n      <td>1610612758</td>\n      <td>Kings</td>\n      <td>kings</td>\n      <td>Sacramento</td>\n      <td></td>\n    </tr>\n  </tbody>\n</table>\n</div>"
     },
     "metadata": {},
     "execution_count": 19
    }
   ],
   "source": [
    "data_sacramento = []\n",
    "data_sacramento.extend(df[\"league\"][\"sacramento\"])# Pasamos la indo del dataframe a una lista normal\n",
    "data_sacramento = pd.DataFrame(data_sacramento)#pasamos la lista a dataframe para mostrarlo como tal\n",
    "data_sacramento"
   ]
  },
  {
   "cell_type": "code",
   "execution_count": 20,
   "metadata": {},
   "outputs": [
    {
     "output_type": "execute_result",
     "data": {
      "text/plain": [
       "    isNBAFranchise  isAllStar           city         altCityName  \\\n",
       "0             True      False        Atlanta             Atlanta   \n",
       "1             True      False         Boston              Boston   \n",
       "2             True      False       Brooklyn            Brooklyn   \n",
       "3             True      False      Charlotte           Charlotte   \n",
       "4             True      False        Chicago             Chicago   \n",
       "5             True      False      Cleveland           Cleveland   \n",
       "6             True      False         Dallas              Dallas   \n",
       "7             True      False         Denver              Denver   \n",
       "8             True      False        Detroit             Detroit   \n",
       "9             True      False   Golden State        Golden State   \n",
       "10            True      False        Houston             Houston   \n",
       "11            True      False        Indiana             Indiana   \n",
       "12            True      False             LA         LA Clippers   \n",
       "13            True      False    Los Angeles  Los Angeles Lakers   \n",
       "14            True      False        Memphis             Memphis   \n",
       "15            True      False          Miami               Miami   \n",
       "16            True      False      Milwaukee           Milwaukee   \n",
       "17            True      False      Minnesota           Minnesota   \n",
       "18            True      False    New Orleans         New Orleans   \n",
       "19            True      False       New York            New York   \n",
       "20            True      False  Oklahoma City       Oklahoma City   \n",
       "21            True      False        Orlando             Orlando   \n",
       "22            True      False   Philadelphia        Philadelphia   \n",
       "23            True      False        Phoenix             Phoenix   \n",
       "24            True      False       Portland            Portland   \n",
       "25            True      False     Sacramento          Sacramento   \n",
       "26            True      False    San Antonio         San Antonio   \n",
       "27            True      False        Toronto             Toronto   \n",
       "28            True      False           Utah                Utah   \n",
       "29            True      False     Washington          Washington   \n",
       "\n",
       "                  fullName tricode      teamId       nickname       urlName  \\\n",
       "0            Atlanta Hawks     ATL  1610612737          Hawks         hawks   \n",
       "1           Boston Celtics     BOS  1610612738        Celtics       celtics   \n",
       "2            Brooklyn Nets     BKN  1610612751           Nets          nets   \n",
       "3        Charlotte Hornets     CHA  1610612766        Hornets       hornets   \n",
       "4            Chicago Bulls     CHI  1610612741          Bulls         bulls   \n",
       "5      Cleveland Cavaliers     CLE  1610612739      Cavaliers     cavaliers   \n",
       "6         Dallas Mavericks     DAL  1610612742      Mavericks     mavericks   \n",
       "7           Denver Nuggets     DEN  1610612743        Nuggets       nuggets   \n",
       "8          Detroit Pistons     DET  1610612765        Pistons       pistons   \n",
       "9    Golden State Warriors     GSW  1610612744       Warriors      warriors   \n",
       "10         Houston Rockets     HOU  1610612745        Rockets       rockets   \n",
       "11          Indiana Pacers     IND  1610612754         Pacers        pacers   \n",
       "12             LA Clippers     LAC  1610612746       Clippers      clippers   \n",
       "13      Los Angeles Lakers     LAL  1610612747         Lakers        lakers   \n",
       "14       Memphis Grizzlies     MEM  1610612763      Grizzlies     grizzlies   \n",
       "15              Miami Heat     MIA  1610612748           Heat          heat   \n",
       "16         Milwaukee Bucks     MIL  1610612749          Bucks         bucks   \n",
       "17  Minnesota Timberwolves     MIN  1610612750   Timberwolves  timberwolves   \n",
       "18    New Orleans Pelicans     NOP  1610612740       Pelicans      pelicans   \n",
       "19         New York Knicks     NYK  1610612752         Knicks        knicks   \n",
       "20   Oklahoma City Thunder     OKC  1610612760        Thunder       thunder   \n",
       "21           Orlando Magic     ORL  1610612753          Magic         magic   \n",
       "22      Philadelphia 76ers     PHI  1610612755          76ers        sixers   \n",
       "23            Phoenix Suns     PHX  1610612756           Suns          suns   \n",
       "24  Portland Trail Blazers     POR  1610612757  Trail Blazers       blazers   \n",
       "25        Sacramento Kings     SAC  1610612758          Kings         kings   \n",
       "26       San Antonio Spurs     SAS  1610612759          Spurs         spurs   \n",
       "27         Toronto Raptors     TOR  1610612761        Raptors       raptors   \n",
       "28               Utah Jazz     UTA  1610612762           Jazz          jazz   \n",
       "29      Washington Wizards     WAS  1610612764        Wizards       wizards   \n",
       "\n",
       "   confName divName  \n",
       "0    summer          \n",
       "1    summer          \n",
       "2    summer          \n",
       "3    summer          \n",
       "4    summer          \n",
       "5    summer          \n",
       "6    summer          \n",
       "7    summer          \n",
       "8    summer          \n",
       "9    summer          \n",
       "10   summer          \n",
       "11   summer          \n",
       "12   summer          \n",
       "13   summer          \n",
       "14   summer          \n",
       "15   summer          \n",
       "16   summer          \n",
       "17   summer          \n",
       "18   summer          \n",
       "19   summer          \n",
       "20   summer          \n",
       "21   summer          \n",
       "22   summer          \n",
       "23   summer          \n",
       "24   summer          \n",
       "25   summer          \n",
       "26   summer          \n",
       "27   summer          \n",
       "28   summer          \n",
       "29   summer          "
      ],
      "text/html": "<div>\n<style scoped>\n    .dataframe tbody tr th:only-of-type {\n        vertical-align: middle;\n    }\n\n    .dataframe tbody tr th {\n        vertical-align: top;\n    }\n\n    .dataframe thead th {\n        text-align: right;\n    }\n</style>\n<table border=\"1\" class=\"dataframe\">\n  <thead>\n    <tr style=\"text-align: right;\">\n      <th></th>\n      <th>isNBAFranchise</th>\n      <th>isAllStar</th>\n      <th>city</th>\n      <th>altCityName</th>\n      <th>fullName</th>\n      <th>tricode</th>\n      <th>teamId</th>\n      <th>nickname</th>\n      <th>urlName</th>\n      <th>confName</th>\n      <th>divName</th>\n    </tr>\n  </thead>\n  <tbody>\n    <tr>\n      <th>0</th>\n      <td>True</td>\n      <td>False</td>\n      <td>Atlanta</td>\n      <td>Atlanta</td>\n      <td>Atlanta Hawks</td>\n      <td>ATL</td>\n      <td>1610612737</td>\n      <td>Hawks</td>\n      <td>hawks</td>\n      <td>summer</td>\n      <td></td>\n    </tr>\n    <tr>\n      <th>1</th>\n      <td>True</td>\n      <td>False</td>\n      <td>Boston</td>\n      <td>Boston</td>\n      <td>Boston Celtics</td>\n      <td>BOS</td>\n      <td>1610612738</td>\n      <td>Celtics</td>\n      <td>celtics</td>\n      <td>summer</td>\n      <td></td>\n    </tr>\n    <tr>\n      <th>2</th>\n      <td>True</td>\n      <td>False</td>\n      <td>Brooklyn</td>\n      <td>Brooklyn</td>\n      <td>Brooklyn Nets</td>\n      <td>BKN</td>\n      <td>1610612751</td>\n      <td>Nets</td>\n      <td>nets</td>\n      <td>summer</td>\n      <td></td>\n    </tr>\n    <tr>\n      <th>3</th>\n      <td>True</td>\n      <td>False</td>\n      <td>Charlotte</td>\n      <td>Charlotte</td>\n      <td>Charlotte Hornets</td>\n      <td>CHA</td>\n      <td>1610612766</td>\n      <td>Hornets</td>\n      <td>hornets</td>\n      <td>summer</td>\n      <td></td>\n    </tr>\n    <tr>\n      <th>4</th>\n      <td>True</td>\n      <td>False</td>\n      <td>Chicago</td>\n      <td>Chicago</td>\n      <td>Chicago Bulls</td>\n      <td>CHI</td>\n      <td>1610612741</td>\n      <td>Bulls</td>\n      <td>bulls</td>\n      <td>summer</td>\n      <td></td>\n    </tr>\n    <tr>\n      <th>5</th>\n      <td>True</td>\n      <td>False</td>\n      <td>Cleveland</td>\n      <td>Cleveland</td>\n      <td>Cleveland Cavaliers</td>\n      <td>CLE</td>\n      <td>1610612739</td>\n      <td>Cavaliers</td>\n      <td>cavaliers</td>\n      <td>summer</td>\n      <td></td>\n    </tr>\n    <tr>\n      <th>6</th>\n      <td>True</td>\n      <td>False</td>\n      <td>Dallas</td>\n      <td>Dallas</td>\n      <td>Dallas Mavericks</td>\n      <td>DAL</td>\n      <td>1610612742</td>\n      <td>Mavericks</td>\n      <td>mavericks</td>\n      <td>summer</td>\n      <td></td>\n    </tr>\n    <tr>\n      <th>7</th>\n      <td>True</td>\n      <td>False</td>\n      <td>Denver</td>\n      <td>Denver</td>\n      <td>Denver Nuggets</td>\n      <td>DEN</td>\n      <td>1610612743</td>\n      <td>Nuggets</td>\n      <td>nuggets</td>\n      <td>summer</td>\n      <td></td>\n    </tr>\n    <tr>\n      <th>8</th>\n      <td>True</td>\n      <td>False</td>\n      <td>Detroit</td>\n      <td>Detroit</td>\n      <td>Detroit Pistons</td>\n      <td>DET</td>\n      <td>1610612765</td>\n      <td>Pistons</td>\n      <td>pistons</td>\n      <td>summer</td>\n      <td></td>\n    </tr>\n    <tr>\n      <th>9</th>\n      <td>True</td>\n      <td>False</td>\n      <td>Golden State</td>\n      <td>Golden State</td>\n      <td>Golden State Warriors</td>\n      <td>GSW</td>\n      <td>1610612744</td>\n      <td>Warriors</td>\n      <td>warriors</td>\n      <td>summer</td>\n      <td></td>\n    </tr>\n    <tr>\n      <th>10</th>\n      <td>True</td>\n      <td>False</td>\n      <td>Houston</td>\n      <td>Houston</td>\n      <td>Houston Rockets</td>\n      <td>HOU</td>\n      <td>1610612745</td>\n      <td>Rockets</td>\n      <td>rockets</td>\n      <td>summer</td>\n      <td></td>\n    </tr>\n    <tr>\n      <th>11</th>\n      <td>True</td>\n      <td>False</td>\n      <td>Indiana</td>\n      <td>Indiana</td>\n      <td>Indiana Pacers</td>\n      <td>IND</td>\n      <td>1610612754</td>\n      <td>Pacers</td>\n      <td>pacers</td>\n      <td>summer</td>\n      <td></td>\n    </tr>\n    <tr>\n      <th>12</th>\n      <td>True</td>\n      <td>False</td>\n      <td>LA</td>\n      <td>LA Clippers</td>\n      <td>LA Clippers</td>\n      <td>LAC</td>\n      <td>1610612746</td>\n      <td>Clippers</td>\n      <td>clippers</td>\n      <td>summer</td>\n      <td></td>\n    </tr>\n    <tr>\n      <th>13</th>\n      <td>True</td>\n      <td>False</td>\n      <td>Los Angeles</td>\n      <td>Los Angeles Lakers</td>\n      <td>Los Angeles Lakers</td>\n      <td>LAL</td>\n      <td>1610612747</td>\n      <td>Lakers</td>\n      <td>lakers</td>\n      <td>summer</td>\n      <td></td>\n    </tr>\n    <tr>\n      <th>14</th>\n      <td>True</td>\n      <td>False</td>\n      <td>Memphis</td>\n      <td>Memphis</td>\n      <td>Memphis Grizzlies</td>\n      <td>MEM</td>\n      <td>1610612763</td>\n      <td>Grizzlies</td>\n      <td>grizzlies</td>\n      <td>summer</td>\n      <td></td>\n    </tr>\n    <tr>\n      <th>15</th>\n      <td>True</td>\n      <td>False</td>\n      <td>Miami</td>\n      <td>Miami</td>\n      <td>Miami Heat</td>\n      <td>MIA</td>\n      <td>1610612748</td>\n      <td>Heat</td>\n      <td>heat</td>\n      <td>summer</td>\n      <td></td>\n    </tr>\n    <tr>\n      <th>16</th>\n      <td>True</td>\n      <td>False</td>\n      <td>Milwaukee</td>\n      <td>Milwaukee</td>\n      <td>Milwaukee Bucks</td>\n      <td>MIL</td>\n      <td>1610612749</td>\n      <td>Bucks</td>\n      <td>bucks</td>\n      <td>summer</td>\n      <td></td>\n    </tr>\n    <tr>\n      <th>17</th>\n      <td>True</td>\n      <td>False</td>\n      <td>Minnesota</td>\n      <td>Minnesota</td>\n      <td>Minnesota Timberwolves</td>\n      <td>MIN</td>\n      <td>1610612750</td>\n      <td>Timberwolves</td>\n      <td>timberwolves</td>\n      <td>summer</td>\n      <td></td>\n    </tr>\n    <tr>\n      <th>18</th>\n      <td>True</td>\n      <td>False</td>\n      <td>New Orleans</td>\n      <td>New Orleans</td>\n      <td>New Orleans Pelicans</td>\n      <td>NOP</td>\n      <td>1610612740</td>\n      <td>Pelicans</td>\n      <td>pelicans</td>\n      <td>summer</td>\n      <td></td>\n    </tr>\n    <tr>\n      <th>19</th>\n      <td>True</td>\n      <td>False</td>\n      <td>New York</td>\n      <td>New York</td>\n      <td>New York Knicks</td>\n      <td>NYK</td>\n      <td>1610612752</td>\n      <td>Knicks</td>\n      <td>knicks</td>\n      <td>summer</td>\n      <td></td>\n    </tr>\n    <tr>\n      <th>20</th>\n      <td>True</td>\n      <td>False</td>\n      <td>Oklahoma City</td>\n      <td>Oklahoma City</td>\n      <td>Oklahoma City Thunder</td>\n      <td>OKC</td>\n      <td>1610612760</td>\n      <td>Thunder</td>\n      <td>thunder</td>\n      <td>summer</td>\n      <td></td>\n    </tr>\n    <tr>\n      <th>21</th>\n      <td>True</td>\n      <td>False</td>\n      <td>Orlando</td>\n      <td>Orlando</td>\n      <td>Orlando Magic</td>\n      <td>ORL</td>\n      <td>1610612753</td>\n      <td>Magic</td>\n      <td>magic</td>\n      <td>summer</td>\n      <td></td>\n    </tr>\n    <tr>\n      <th>22</th>\n      <td>True</td>\n      <td>False</td>\n      <td>Philadelphia</td>\n      <td>Philadelphia</td>\n      <td>Philadelphia 76ers</td>\n      <td>PHI</td>\n      <td>1610612755</td>\n      <td>76ers</td>\n      <td>sixers</td>\n      <td>summer</td>\n      <td></td>\n    </tr>\n    <tr>\n      <th>23</th>\n      <td>True</td>\n      <td>False</td>\n      <td>Phoenix</td>\n      <td>Phoenix</td>\n      <td>Phoenix Suns</td>\n      <td>PHX</td>\n      <td>1610612756</td>\n      <td>Suns</td>\n      <td>suns</td>\n      <td>summer</td>\n      <td></td>\n    </tr>\n    <tr>\n      <th>24</th>\n      <td>True</td>\n      <td>False</td>\n      <td>Portland</td>\n      <td>Portland</td>\n      <td>Portland Trail Blazers</td>\n      <td>POR</td>\n      <td>1610612757</td>\n      <td>Trail Blazers</td>\n      <td>blazers</td>\n      <td>summer</td>\n      <td></td>\n    </tr>\n    <tr>\n      <th>25</th>\n      <td>True</td>\n      <td>False</td>\n      <td>Sacramento</td>\n      <td>Sacramento</td>\n      <td>Sacramento Kings</td>\n      <td>SAC</td>\n      <td>1610612758</td>\n      <td>Kings</td>\n      <td>kings</td>\n      <td>summer</td>\n      <td></td>\n    </tr>\n    <tr>\n      <th>26</th>\n      <td>True</td>\n      <td>False</td>\n      <td>San Antonio</td>\n      <td>San Antonio</td>\n      <td>San Antonio Spurs</td>\n      <td>SAS</td>\n      <td>1610612759</td>\n      <td>Spurs</td>\n      <td>spurs</td>\n      <td>summer</td>\n      <td></td>\n    </tr>\n    <tr>\n      <th>27</th>\n      <td>True</td>\n      <td>False</td>\n      <td>Toronto</td>\n      <td>Toronto</td>\n      <td>Toronto Raptors</td>\n      <td>TOR</td>\n      <td>1610612761</td>\n      <td>Raptors</td>\n      <td>raptors</td>\n      <td>summer</td>\n      <td></td>\n    </tr>\n    <tr>\n      <th>28</th>\n      <td>True</td>\n      <td>False</td>\n      <td>Utah</td>\n      <td>Utah</td>\n      <td>Utah Jazz</td>\n      <td>UTA</td>\n      <td>1610612762</td>\n      <td>Jazz</td>\n      <td>jazz</td>\n      <td>summer</td>\n      <td></td>\n    </tr>\n    <tr>\n      <th>29</th>\n      <td>True</td>\n      <td>False</td>\n      <td>Washington</td>\n      <td>Washington</td>\n      <td>Washington Wizards</td>\n      <td>WAS</td>\n      <td>1610612764</td>\n      <td>Wizards</td>\n      <td>wizards</td>\n      <td>summer</td>\n      <td></td>\n    </tr>\n  </tbody>\n</table>\n</div>"
     },
     "metadata": {},
     "execution_count": 20
    }
   ],
   "source": [
    "data_vegas = []\n",
    "data_vegas.extend(df[\"league\"][\"vegas\"])# Pasamos la indo del dataframe a una lista normal\n",
    "data_vegas = pd.DataFrame(data_vegas)\n",
    "data_vegas"
   ]
  },
  {
   "cell_type": "code",
   "execution_count": 21,
   "metadata": {},
   "outputs": [
    {
     "output_type": "execute_result",
     "data": {
      "text/plain": [
       "   isNBAFranchise  isAllStar         city  altCityName           fullName  \\\n",
       "0            True      False      Atlanta      Atlanta      Atlanta Hawks   \n",
       "1            True      False      Memphis      Memphis  Memphis Grizzlies   \n",
       "2            True      False  San Antonio  San Antonio  San Antonio Spurs   \n",
       "3            True      False         Utah         Utah          Utah Jazz   \n",
       "\n",
       "  tricode      teamId   nickname    urlName confName divName  \n",
       "0     ATL  1610612737      Hawks      hawks     Utah          \n",
       "1     MEM  1610612763  Grizzlies  grizzlies     Utah          \n",
       "2     SAS  1610612759      Spurs      spurs     Utah          \n",
       "3     UTA  1610612762       Jazz       jazz     Utah          "
      ],
      "text/html": "<div>\n<style scoped>\n    .dataframe tbody tr th:only-of-type {\n        vertical-align: middle;\n    }\n\n    .dataframe tbody tr th {\n        vertical-align: top;\n    }\n\n    .dataframe thead th {\n        text-align: right;\n    }\n</style>\n<table border=\"1\" class=\"dataframe\">\n  <thead>\n    <tr style=\"text-align: right;\">\n      <th></th>\n      <th>isNBAFranchise</th>\n      <th>isAllStar</th>\n      <th>city</th>\n      <th>altCityName</th>\n      <th>fullName</th>\n      <th>tricode</th>\n      <th>teamId</th>\n      <th>nickname</th>\n      <th>urlName</th>\n      <th>confName</th>\n      <th>divName</th>\n    </tr>\n  </thead>\n  <tbody>\n    <tr>\n      <th>0</th>\n      <td>True</td>\n      <td>False</td>\n      <td>Atlanta</td>\n      <td>Atlanta</td>\n      <td>Atlanta Hawks</td>\n      <td>ATL</td>\n      <td>1610612737</td>\n      <td>Hawks</td>\n      <td>hawks</td>\n      <td>Utah</td>\n      <td></td>\n    </tr>\n    <tr>\n      <th>1</th>\n      <td>True</td>\n      <td>False</td>\n      <td>Memphis</td>\n      <td>Memphis</td>\n      <td>Memphis Grizzlies</td>\n      <td>MEM</td>\n      <td>1610612763</td>\n      <td>Grizzlies</td>\n      <td>grizzlies</td>\n      <td>Utah</td>\n      <td></td>\n    </tr>\n    <tr>\n      <th>2</th>\n      <td>True</td>\n      <td>False</td>\n      <td>San Antonio</td>\n      <td>San Antonio</td>\n      <td>San Antonio Spurs</td>\n      <td>SAS</td>\n      <td>1610612759</td>\n      <td>Spurs</td>\n      <td>spurs</td>\n      <td>Utah</td>\n      <td></td>\n    </tr>\n    <tr>\n      <th>3</th>\n      <td>True</td>\n      <td>False</td>\n      <td>Utah</td>\n      <td>Utah</td>\n      <td>Utah Jazz</td>\n      <td>UTA</td>\n      <td>1610612762</td>\n      <td>Jazz</td>\n      <td>jazz</td>\n      <td>Utah</td>\n      <td></td>\n    </tr>\n  </tbody>\n</table>\n</div>"
     },
     "metadata": {},
     "execution_count": 21
    }
   ],
   "source": [
    "data_utah = []\n",
    "data_utah.extend(df[\"league\"][\"utah\"])\n",
    "data_utah = pd.DataFrame(data_utah)\n",
    "data_utah"
   ]
  },
  {
   "cell_type": "code",
   "execution_count": 22,
   "metadata": {},
   "outputs": [
    {
     "output_type": "execute_result",
     "data": {
      "text/plain": [
       "             isNBAFranchise  isAllStar          city   altCityName  \\\n",
       "standard 0            False       True           USA           USA   \n",
       "         1            False       True         World         World   \n",
       "         2            False       True          Team          Team   \n",
       "         3            False       True          Team          Team   \n",
       "         4            False       True  Team Giannis  Team Giannis   \n",
       "...                     ...        ...           ...           ...   \n",
       "vegas    29            True      False    Washington    Washington   \n",
       "utah     0             True      False       Atlanta       Atlanta   \n",
       "         1             True      False       Memphis       Memphis   \n",
       "         2             True      False   San Antonio   San Antonio   \n",
       "         3             True      False          Utah          Utah   \n",
       "\n",
       "                       fullName tricode      teamId      nickname  \\\n",
       "standard 0                  USA     USA  1610616843           USA   \n",
       "         1                World     WLD  1610616844         World   \n",
       "         2            All-Stars     EST  1699999999     All-Stars   \n",
       "         3            All-Stars     WST  1699999998     All-Stars   \n",
       "         4         Team Giannis     GNS  1610616833  Team Giannis   \n",
       "...                         ...     ...         ...           ...   \n",
       "vegas    29  Washington Wizards     WAS  1610612764       Wizards   \n",
       "utah     0        Atlanta Hawks     ATL  1610612737         Hawks   \n",
       "         1    Memphis Grizzlies     MEM  1610612763     Grizzlies   \n",
       "         2    San Antonio Spurs     SAS  1610612759         Spurs   \n",
       "         3            Utah Jazz     UTA  1610612762          Jazz   \n",
       "\n",
       "                  urlName confName divName  \n",
       "standard 0            usa     East    East  \n",
       "         1          world     East    East  \n",
       "         2      assn_away     East    East  \n",
       "         3      assn_home     West    West  \n",
       "         4   team_giannis     East    East  \n",
       "...                   ...      ...     ...  \n",
       "vegas    29       wizards   summer          \n",
       "utah     0          hawks     Utah          \n",
       "         1      grizzlies     Utah          \n",
       "         2          spurs     Utah          \n",
       "         3           jazz     Utah          \n",
       "\n",
       "[88 rows x 11 columns]"
      ],
      "text/html": "<div>\n<style scoped>\n    .dataframe tbody tr th:only-of-type {\n        vertical-align: middle;\n    }\n\n    .dataframe tbody tr th {\n        vertical-align: top;\n    }\n\n    .dataframe thead th {\n        text-align: right;\n    }\n</style>\n<table border=\"1\" class=\"dataframe\">\n  <thead>\n    <tr style=\"text-align: right;\">\n      <th></th>\n      <th></th>\n      <th>isNBAFranchise</th>\n      <th>isAllStar</th>\n      <th>city</th>\n      <th>altCityName</th>\n      <th>fullName</th>\n      <th>tricode</th>\n      <th>teamId</th>\n      <th>nickname</th>\n      <th>urlName</th>\n      <th>confName</th>\n      <th>divName</th>\n    </tr>\n  </thead>\n  <tbody>\n    <tr>\n      <th rowspan=\"5\" valign=\"top\">standard</th>\n      <th>0</th>\n      <td>False</td>\n      <td>True</td>\n      <td>USA</td>\n      <td>USA</td>\n      <td>USA</td>\n      <td>USA</td>\n      <td>1610616843</td>\n      <td>USA</td>\n      <td>usa</td>\n      <td>East</td>\n      <td>East</td>\n    </tr>\n    <tr>\n      <th>1</th>\n      <td>False</td>\n      <td>True</td>\n      <td>World</td>\n      <td>World</td>\n      <td>World</td>\n      <td>WLD</td>\n      <td>1610616844</td>\n      <td>World</td>\n      <td>world</td>\n      <td>East</td>\n      <td>East</td>\n    </tr>\n    <tr>\n      <th>2</th>\n      <td>False</td>\n      <td>True</td>\n      <td>Team</td>\n      <td>Team</td>\n      <td>All-Stars</td>\n      <td>EST</td>\n      <td>1699999999</td>\n      <td>All-Stars</td>\n      <td>assn_away</td>\n      <td>East</td>\n      <td>East</td>\n    </tr>\n    <tr>\n      <th>3</th>\n      <td>False</td>\n      <td>True</td>\n      <td>Team</td>\n      <td>Team</td>\n      <td>All-Stars</td>\n      <td>WST</td>\n      <td>1699999998</td>\n      <td>All-Stars</td>\n      <td>assn_home</td>\n      <td>West</td>\n      <td>West</td>\n    </tr>\n    <tr>\n      <th>4</th>\n      <td>False</td>\n      <td>True</td>\n      <td>Team Giannis</td>\n      <td>Team Giannis</td>\n      <td>Team Giannis</td>\n      <td>GNS</td>\n      <td>1610616833</td>\n      <td>Team Giannis</td>\n      <td>team_giannis</td>\n      <td>East</td>\n      <td>East</td>\n    </tr>\n    <tr>\n      <th>...</th>\n      <th>...</th>\n      <td>...</td>\n      <td>...</td>\n      <td>...</td>\n      <td>...</td>\n      <td>...</td>\n      <td>...</td>\n      <td>...</td>\n      <td>...</td>\n      <td>...</td>\n      <td>...</td>\n      <td>...</td>\n    </tr>\n    <tr>\n      <th>vegas</th>\n      <th>29</th>\n      <td>True</td>\n      <td>False</td>\n      <td>Washington</td>\n      <td>Washington</td>\n      <td>Washington Wizards</td>\n      <td>WAS</td>\n      <td>1610612764</td>\n      <td>Wizards</td>\n      <td>wizards</td>\n      <td>summer</td>\n      <td></td>\n    </tr>\n    <tr>\n      <th rowspan=\"4\" valign=\"top\">utah</th>\n      <th>0</th>\n      <td>True</td>\n      <td>False</td>\n      <td>Atlanta</td>\n      <td>Atlanta</td>\n      <td>Atlanta Hawks</td>\n      <td>ATL</td>\n      <td>1610612737</td>\n      <td>Hawks</td>\n      <td>hawks</td>\n      <td>Utah</td>\n      <td></td>\n    </tr>\n    <tr>\n      <th>1</th>\n      <td>True</td>\n      <td>False</td>\n      <td>Memphis</td>\n      <td>Memphis</td>\n      <td>Memphis Grizzlies</td>\n      <td>MEM</td>\n      <td>1610612763</td>\n      <td>Grizzlies</td>\n      <td>grizzlies</td>\n      <td>Utah</td>\n      <td></td>\n    </tr>\n    <tr>\n      <th>2</th>\n      <td>True</td>\n      <td>False</td>\n      <td>San Antonio</td>\n      <td>San Antonio</td>\n      <td>San Antonio Spurs</td>\n      <td>SAS</td>\n      <td>1610612759</td>\n      <td>Spurs</td>\n      <td>spurs</td>\n      <td>Utah</td>\n      <td></td>\n    </tr>\n    <tr>\n      <th>3</th>\n      <td>True</td>\n      <td>False</td>\n      <td>Utah</td>\n      <td>Utah</td>\n      <td>Utah Jazz</td>\n      <td>UTA</td>\n      <td>1610612762</td>\n      <td>Jazz</td>\n      <td>jazz</td>\n      <td>Utah</td>\n      <td></td>\n    </tr>\n  </tbody>\n</table>\n<p>88 rows × 11 columns</p>\n</div>"
     },
     "metadata": {},
     "execution_count": 22
    }
   ],
   "source": [
    "Final = pd.concat([data_standard,data_africa,data_sacramento,data_vegas,data_utah],keys=[\"standard\",\"africa\",\"sacramento\",\"vegas\",\"utah\"])\n",
    "Final"
   ]
  },
  {
   "cell_type": "code",
   "execution_count": null,
   "metadata": {},
   "outputs": [],
   "source": []
  }
 ],
 "metadata": {
  "language_info": {
   "name": "python",
   "codemirror_mode": {
    "name": "ipython",
    "version": 3
   },
   "version": "3.9.0-final"
  },
  "orig_nbformat": 2,
  "file_extension": ".py",
  "mimetype": "text/x-python",
  "name": "python",
  "npconvert_exporter": "python",
  "pygments_lexer": "ipython3",
  "version": 3,
  "kernelspec": {
   "name": "python3",
   "display_name": "Python 3.9.0 64-bit",
   "metadata": {
    "interpreter": {
     "hash": "cf88cdeb52cfbd9b7891bd0104565f5c75083759e3ad4e400c6eab5e28be6642"
    }
   }
  }
 },
 "nbformat": 4,
 "nbformat_minor": 2
}