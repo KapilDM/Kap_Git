{
 "metadata": {
  "language_info": {
   "codemirror_mode": {
    "name": "ipython",
    "version": 3
   },
   "file_extension": ".py",
   "mimetype": "text/x-python",
   "name": "python",
   "nbconvert_exporter": "python",
   "pygments_lexer": "ipython3",
   "version": "3.9.0-final"
  },
  "orig_nbformat": 2,
  "kernelspec": {
   "name": "python3",
   "display_name": "Python 3.9.0 64-bit",
   "metadata": {
    "interpreter": {
     "hash": "cf88cdeb52cfbd9b7891bd0104565f5c75083759e3ad4e400c6eab5e28be6642"
    }
   }
  }
 },
 "nbformat": 4,
 "nbformat_minor": 2,
 "cells": [
  {
   "source": [
    "### Ejercicio 1\n",
    "\n",
    "A partir de la API de Pokemon, se pide generar un DataFrame como el de la imagen con las columnas: \n",
    "\n",
    "- **\"height\",\"id\",\"order\",\"weight\",\"types\"**\n",
    "\n",
    "### Ejercicio 2\n",
    "\n",
    "¿Has visto que dentro del DataFrame la columna \"types\" hay diccionarios? Se pide agregar, por cada pokemon, las columnas necesarias al DataFrame para albergar toda la información de \"types\".\n",
    "\n",
    "![](df_pk.PNG)"
   ],
   "cell_type": "markdown",
   "metadata": {}
  },
  {
   "cell_type": "code",
   "execution_count": 2,
   "metadata": {},
   "outputs": [],
   "source": [
    "import json\n",
    "import requests\n",
    "import pandas as pd"
   ]
  },
  {
   "cell_type": "code",
   "execution_count": 12,
   "metadata": {},
   "outputs": [
    {
     "output_type": "execute_result",
     "data": {
      "text/plain": [
       "   count                                               next previous  \\\n",
       "0   1118  https://pokeapi.co/api/v2/pokemon?offset=20&li...     None   \n",
       "1   1118  https://pokeapi.co/api/v2/pokemon?offset=20&li...     None   \n",
       "2   1118  https://pokeapi.co/api/v2/pokemon?offset=20&li...     None   \n",
       "3   1118  https://pokeapi.co/api/v2/pokemon?offset=20&li...     None   \n",
       "4   1118  https://pokeapi.co/api/v2/pokemon?offset=20&li...     None   \n",
       "\n",
       "                                             results  \n",
       "0  {'name': 'bulbasaur', 'url': 'https://pokeapi....  \n",
       "1  {'name': 'ivysaur', 'url': 'https://pokeapi.co...  \n",
       "2  {'name': 'venusaur', 'url': 'https://pokeapi.c...  \n",
       "3  {'name': 'charmander', 'url': 'https://pokeapi...  \n",
       "4  {'name': 'charmeleon', 'url': 'https://pokeapi...  "
      ],
      "text/html": "<div>\n<style scoped>\n    .dataframe tbody tr th:only-of-type {\n        vertical-align: middle;\n    }\n\n    .dataframe tbody tr th {\n        vertical-align: top;\n    }\n\n    .dataframe thead th {\n        text-align: right;\n    }\n</style>\n<table border=\"1\" class=\"dataframe\">\n  <thead>\n    <tr style=\"text-align: right;\">\n      <th></th>\n      <th>count</th>\n      <th>next</th>\n      <th>previous</th>\n      <th>results</th>\n    </tr>\n  </thead>\n  <tbody>\n    <tr>\n      <th>0</th>\n      <td>1118</td>\n      <td>https://pokeapi.co/api/v2/pokemon?offset=20&amp;li...</td>\n      <td>None</td>\n      <td>{'name': 'bulbasaur', 'url': 'https://pokeapi....</td>\n    </tr>\n    <tr>\n      <th>1</th>\n      <td>1118</td>\n      <td>https://pokeapi.co/api/v2/pokemon?offset=20&amp;li...</td>\n      <td>None</td>\n      <td>{'name': 'ivysaur', 'url': 'https://pokeapi.co...</td>\n    </tr>\n    <tr>\n      <th>2</th>\n      <td>1118</td>\n      <td>https://pokeapi.co/api/v2/pokemon?offset=20&amp;li...</td>\n      <td>None</td>\n      <td>{'name': 'venusaur', 'url': 'https://pokeapi.c...</td>\n    </tr>\n    <tr>\n      <th>3</th>\n      <td>1118</td>\n      <td>https://pokeapi.co/api/v2/pokemon?offset=20&amp;li...</td>\n      <td>None</td>\n      <td>{'name': 'charmander', 'url': 'https://pokeapi...</td>\n    </tr>\n    <tr>\n      <th>4</th>\n      <td>1118</td>\n      <td>https://pokeapi.co/api/v2/pokemon?offset=20&amp;li...</td>\n      <td>None</td>\n      <td>{'name': 'charmeleon', 'url': 'https://pokeapi...</td>\n    </tr>\n  </tbody>\n</table>\n</div>"
     },
     "metadata": {},
     "execution_count": 12
    }
   ],
   "source": [
    "poke_json = requests.get(\"https://pokeapi.co/api/v2/pokemon\").json()\n",
    "df_pokemons = pd.DataFrame(poke_json)\n",
    "df_pokemons.head(5)"
   ]
  },
  {
   "cell_type": "code",
   "execution_count": 16,
   "metadata": {},
   "outputs": [
    {
     "output_type": "execute_result",
     "data": {
      "text/plain": [
       "         name                                   url\n",
       "0   bulbasaur  https://pokeapi.co/api/v2/pokemon/1/\n",
       "1     ivysaur  https://pokeapi.co/api/v2/pokemon/2/\n",
       "2    venusaur  https://pokeapi.co/api/v2/pokemon/3/\n",
       "3  charmander  https://pokeapi.co/api/v2/pokemon/4/\n",
       "4  charmeleon  https://pokeapi.co/api/v2/pokemon/5/"
      ],
      "text/html": "<div>\n<style scoped>\n    .dataframe tbody tr th:only-of-type {\n        vertical-align: middle;\n    }\n\n    .dataframe tbody tr th {\n        vertical-align: top;\n    }\n\n    .dataframe thead th {\n        text-align: right;\n    }\n</style>\n<table border=\"1\" class=\"dataframe\">\n  <thead>\n    <tr style=\"text-align: right;\">\n      <th></th>\n      <th>name</th>\n      <th>url</th>\n    </tr>\n  </thead>\n  <tbody>\n    <tr>\n      <th>0</th>\n      <td>bulbasaur</td>\n      <td>https://pokeapi.co/api/v2/pokemon/1/</td>\n    </tr>\n    <tr>\n      <th>1</th>\n      <td>ivysaur</td>\n      <td>https://pokeapi.co/api/v2/pokemon/2/</td>\n    </tr>\n    <tr>\n      <th>2</th>\n      <td>venusaur</td>\n      <td>https://pokeapi.co/api/v2/pokemon/3/</td>\n    </tr>\n    <tr>\n      <th>3</th>\n      <td>charmander</td>\n      <td>https://pokeapi.co/api/v2/pokemon/4/</td>\n    </tr>\n    <tr>\n      <th>4</th>\n      <td>charmeleon</td>\n      <td>https://pokeapi.co/api/v2/pokemon/5/</td>\n    </tr>\n  </tbody>\n</table>\n</div>"
     },
     "metadata": {},
     "execution_count": 16
    }
   ],
   "source": [
    "#data_res = []\n",
    "#data_res.extend(df_pokemons[\"results\"])\n",
    "#data_res = pd.DataFrame(data_res)\n",
    "#data_res\n",
    "data_res = pd.DataFrame(poke_json[\"results\"])\n",
    "data_res.head()"
   ]
  },
  {
   "cell_type": "code",
   "execution_count": 26,
   "metadata": {
    "tags": []
   },
   "outputs": [
    {
     "output_type": "execute_result",
     "data": {
      "text/plain": [
       "   index  height  id  order  weight  \\\n",
       "0      0       7   1      1      69   \n",
       "1      0      10   2      2     130   \n",
       "2      0      20   3      3    1000   \n",
       "3      0       6   4      5      85   \n",
       "4      0      11   5      6     190   \n",
       "\n",
       "                                               types  \n",
       "0  [{'slot': 1, 'type': {'name': 'grass', 'url': ...  \n",
       "1  [{'slot': 1, 'type': {'name': 'grass', 'url': ...  \n",
       "2  [{'slot': 1, 'type': {'name': 'grass', 'url': ...  \n",
       "3  [{'slot': 1, 'type': {'name': 'fire', 'url': '...  \n",
       "4  [{'slot': 1, 'type': {'name': 'fire', 'url': '...  "
      ],
      "text/html": "<div>\n<style scoped>\n    .dataframe tbody tr th:only-of-type {\n        vertical-align: middle;\n    }\n\n    .dataframe tbody tr th {\n        vertical-align: top;\n    }\n\n    .dataframe thead th {\n        text-align: right;\n    }\n</style>\n<table border=\"1\" class=\"dataframe\">\n  <thead>\n    <tr style=\"text-align: right;\">\n      <th></th>\n      <th>index</th>\n      <th>height</th>\n      <th>id</th>\n      <th>order</th>\n      <th>weight</th>\n      <th>types</th>\n    </tr>\n  </thead>\n  <tbody>\n    <tr>\n      <th>0</th>\n      <td>0</td>\n      <td>7</td>\n      <td>1</td>\n      <td>1</td>\n      <td>69</td>\n      <td>[{'slot': 1, 'type': {'name': 'grass', 'url': ...</td>\n    </tr>\n    <tr>\n      <th>1</th>\n      <td>0</td>\n      <td>10</td>\n      <td>2</td>\n      <td>2</td>\n      <td>130</td>\n      <td>[{'slot': 1, 'type': {'name': 'grass', 'url': ...</td>\n    </tr>\n    <tr>\n      <th>2</th>\n      <td>0</td>\n      <td>20</td>\n      <td>3</td>\n      <td>3</td>\n      <td>1000</td>\n      <td>[{'slot': 1, 'type': {'name': 'grass', 'url': ...</td>\n    </tr>\n    <tr>\n      <th>3</th>\n      <td>0</td>\n      <td>6</td>\n      <td>4</td>\n      <td>5</td>\n      <td>85</td>\n      <td>[{'slot': 1, 'type': {'name': 'fire', 'url': '...</td>\n    </tr>\n    <tr>\n      <th>4</th>\n      <td>0</td>\n      <td>11</td>\n      <td>5</td>\n      <td>6</td>\n      <td>190</td>\n      <td>[{'slot': 1, 'type': {'name': 'fire', 'url': '...</td>\n    </tr>\n  </tbody>\n</table>\n</div>"
     },
     "metadata": {},
     "execution_count": 26
    }
   ],
   "source": [
    "lista =[]\n",
    "URLS = len(data_res[\"url\"])\n",
    "\n",
    "for i in range(URLS):\n",
    "   lista.append([requests.get(data_res[\"url\"][i]).json()])\n",
    "   \n",
    "pd.DataFrame(lista)\n",
    "\n",
    "lista_2=[]\n",
    "for i in range(len(lista)):\n",
    "    lista_2.append(pd.DataFrame(lista[i])[[\"height\",\"id\",\"order\",\"weight\",\"types\"]])\n",
    "\n",
    "df_conc= pd.concat([lista_2[0],lista_2[1]])\n",
    "\n",
    "for i in range(2,len(lista_2)):\n",
    "    df_conc= pd.concat([df_conc,lista_2[i]])\n",
    "\n",
    "df_conc=df_conc.reset_index()\n",
    "df_conc.head()"
   ]
  },
  {
   "cell_type": "code",
   "execution_count": 20,
   "metadata": {},
   "outputs": [
    {
     "output_type": "execute_result",
     "data": {
      "text/plain": [
       "         name                                   url  index  height  id  order  \\\n",
       "0   bulbasaur  https://pokeapi.co/api/v2/pokemon/1/      0       7   1      1   \n",
       "1     ivysaur  https://pokeapi.co/api/v2/pokemon/2/      0      10   2      2   \n",
       "2    venusaur  https://pokeapi.co/api/v2/pokemon/3/      0      20   3      3   \n",
       "3  charmander  https://pokeapi.co/api/v2/pokemon/4/      0       6   4      5   \n",
       "4  charmeleon  https://pokeapi.co/api/v2/pokemon/5/      0      11   5      6   \n",
       "\n",
       "   weight                                              types  \n",
       "0      69  [{'slot': 1, 'type': {'name': 'grass', 'url': ...  \n",
       "1     130  [{'slot': 1, 'type': {'name': 'grass', 'url': ...  \n",
       "2    1000  [{'slot': 1, 'type': {'name': 'grass', 'url': ...  \n",
       "3      85  [{'slot': 1, 'type': {'name': 'fire', 'url': '...  \n",
       "4     190  [{'slot': 1, 'type': {'name': 'fire', 'url': '...  "
      ],
      "text/html": "<div>\n<style scoped>\n    .dataframe tbody tr th:only-of-type {\n        vertical-align: middle;\n    }\n\n    .dataframe tbody tr th {\n        vertical-align: top;\n    }\n\n    .dataframe thead th {\n        text-align: right;\n    }\n</style>\n<table border=\"1\" class=\"dataframe\">\n  <thead>\n    <tr style=\"text-align: right;\">\n      <th></th>\n      <th>name</th>\n      <th>url</th>\n      <th>index</th>\n      <th>height</th>\n      <th>id</th>\n      <th>order</th>\n      <th>weight</th>\n      <th>types</th>\n    </tr>\n  </thead>\n  <tbody>\n    <tr>\n      <th>0</th>\n      <td>bulbasaur</td>\n      <td>https://pokeapi.co/api/v2/pokemon/1/</td>\n      <td>0</td>\n      <td>7</td>\n      <td>1</td>\n      <td>1</td>\n      <td>69</td>\n      <td>[{'slot': 1, 'type': {'name': 'grass', 'url': ...</td>\n    </tr>\n    <tr>\n      <th>1</th>\n      <td>ivysaur</td>\n      <td>https://pokeapi.co/api/v2/pokemon/2/</td>\n      <td>0</td>\n      <td>10</td>\n      <td>2</td>\n      <td>2</td>\n      <td>130</td>\n      <td>[{'slot': 1, 'type': {'name': 'grass', 'url': ...</td>\n    </tr>\n    <tr>\n      <th>2</th>\n      <td>venusaur</td>\n      <td>https://pokeapi.co/api/v2/pokemon/3/</td>\n      <td>0</td>\n      <td>20</td>\n      <td>3</td>\n      <td>3</td>\n      <td>1000</td>\n      <td>[{'slot': 1, 'type': {'name': 'grass', 'url': ...</td>\n    </tr>\n    <tr>\n      <th>3</th>\n      <td>charmander</td>\n      <td>https://pokeapi.co/api/v2/pokemon/4/</td>\n      <td>0</td>\n      <td>6</td>\n      <td>4</td>\n      <td>5</td>\n      <td>85</td>\n      <td>[{'slot': 1, 'type': {'name': 'fire', 'url': '...</td>\n    </tr>\n    <tr>\n      <th>4</th>\n      <td>charmeleon</td>\n      <td>https://pokeapi.co/api/v2/pokemon/5/</td>\n      <td>0</td>\n      <td>11</td>\n      <td>5</td>\n      <td>6</td>\n      <td>190</td>\n      <td>[{'slot': 1, 'type': {'name': 'fire', 'url': '...</td>\n    </tr>\n  </tbody>\n</table>\n</div>"
     },
     "metadata": {},
     "execution_count": 20
    }
   ],
   "source": [
    "df_final=pd.concat([data_res,df_conc], axis=1)\n",
    "df_final.head()"
   ]
  },
  {
   "cell_type": "code",
   "execution_count": null,
   "metadata": {},
   "outputs": [],
   "source": []
  }
 ]
}