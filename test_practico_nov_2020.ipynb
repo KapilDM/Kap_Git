{
 "metadata": {
  "language_info": {
   "codemirror_mode": {
    "name": "ipython",
    "version": 3
   },
   "file_extension": ".py",
   "mimetype": "text/x-python",
   "name": "python",
   "nbconvert_exporter": "python",
   "pygments_lexer": "ipython3",
   "version": "3.9.0-final"
  },
  "orig_nbformat": 2,
  "kernelspec": {
   "name": "python3",
   "display_name": "Python 3.9.0 64-bit",
   "metadata": {
    "interpreter": {
     "hash": "cf88cdeb52cfbd9b7891bd0104565f5c75083759e3ad4e400c6eab5e28be6642"
    }
   }
  }
 },
 "nbformat": 4,
 "nbformat_minor": 2,
 "cells": [
  {
   "source": [
    "# Test DS-FT Nov 2020\n",
    "\n"
   ],
   "cell_type": "markdown",
   "metadata": {}
  },
  {
   "source": [
    "## Primera parte:\n",
    "\n",
    "https://forms.gle/k1eyHnAXiQFyjk6X7"
   ],
   "cell_type": "markdown",
   "metadata": {}
  },
  {
   "source": [
    "-----------------"
   ],
   "cell_type": "markdown",
   "metadata": {}
  },
  {
   "source": [
    "## Segunda parte, ejercicios prácticos:"
   ],
   "cell_type": "markdown",
   "metadata": {}
  },
  {
   "source": [
    "#### Notas y pruebas de apoyo para contestar las preguntas tipo test\n",
    "Esto no es necesario usarlo, aunque verlo aquí te puede dar la respuesta a alguna de las preguntas tipo test.\n",
    "\n",
    "Cualquier código aunque no esté correcto, nos dirá más de ti, que no escribir nada. "
   ],
   "cell_type": "markdown",
   "metadata": {}
  },
  {
   "cell_type": "code",
   "execution_count": null,
   "metadata": {},
   "outputs": [],
   "source": [
    "# Ejemplo de como queremos ver el código para más de un intento:\n",
    "\n",
    "# intento 1\n",
    "your code\n",
    "# intento 2\n",
    "your code"
   ]
  },
  {
   "cell_type": "code",
   "execution_count": null,
   "metadata": {},
   "outputs": [],
   "source": [
    "# crea todas las celdas que necesites\n",
    "\n"
   ]
  },
  {
   "source": [
    "## Ejercicios prácticos"
   ],
   "cell_type": "markdown",
   "metadata": {}
  },
  {
   "source": [
    "#### Ejercicio 1.\n",
    "En este ejercicio se va a crear una lista con los siguientes elementos. Primero, crearemos las variables que luego añadiremos a la lista. Las variables son las siguientes:\n",
    "\n",
    "1. Crea una variable llamada `num_dni` de tipo Integer que represente el primer número de tu DNI. \n",
    "2. Crea una variable llamada `let_dni` de tipo String y que represente la letra de vuestro DNI.\n",
    "3. Crea una variable llamada `tip_ord` de tipo Boolean True si usas Windows y False si usas Mac.\n",
    "4. Crea una variable llamada `nada` de tipo None cuyo valor sea None.\n",
    "5. Crea una variable llamada `lista_deseo` de tipo List que contenga los cuatro objetos que te llevarías a una isla desierta. Cada elemento ha de ser de tipo String y el tamaño de la lista ha de ser 4.\n",
    "6. Crea una variable llamada `tupla_ropa` de tipo Tuple con la marca de la prenda superior, inferior y calzado que llevas puesto.\n",
    "7. Crea una variable llamada `dict_info` con dos keys y dos values. Una key es 'nombre', teniendo como value vuestro nombre. Otra key es 'edad', teniendo como value vuestra edad.\n",
    "8. Crea una variable llamada `flo_hor` con la hora actual separada por punto en vez de dos puntos. Ejemplo: si son las 10:06, el valor de la variable sería 10.06.\n",
    "\n",
    "Añade todos estos elementos en una lista llamada `lista_examen` en el orden de aparición."
   ],
   "cell_type": "markdown",
   "metadata": {}
  },
  {
   "cell_type": "code",
   "execution_count": 19,
   "metadata": {},
   "outputs": [
    {
     "output_type": "execute_result",
     "data": {
      "text/plain": [
       "[7,\n",
       " 'K',\n",
       " True,\n",
       " None,\n",
       " ['mechero', 'cuchillo', 'movil', 'conservas'],\n",
       " ('springfield', 'Zara', 'pull&Bear'),\n",
       " {'Nombre': 'Kapil', 'Edad': 35},\n",
       " 10.32]"
      ]
     },
     "metadata": {},
     "execution_count": 19
    }
   ],
   "source": [
    "num_dni = 7\n",
    "let_dni = \"K\"\n",
    "tip_ord = True #Uso windows\n",
    "nada = None\n",
    "lista_deseo = [\"mechero\",\"cuchillo\",\"movil\",\"conservas\"]\n",
    "tupla_ropa = \"springfield\", \"Zara\", \"pull&Bear\"\n",
    "dict_info = {\"Nombre\":\"Kapil\", \"Edad\":35}\n",
    "flo_hor = 10.32\n",
    "\n",
    "lista_examen =[num_dni,let_dni,tip_ord,nada,lista_deseo,tupla_ropa, dict_info,flo_hor]\n",
    "lista_examen"
   ]
  },
  {
   "source": [
    "#### Ejercicio 2. \n",
    "\n",
    "Para resolver este ejercicio necesitarás la lista del ejercicio anterior (`lista_examen`). Se recomeinda leer cada punto hasta el final antes de resolver el ejercicio.\n",
    "\n",
    "Se repite para que quede aún más claro: **SOLO USAR LA VARIABLE** `lista_examen`. Usar las demás variables se calificará como error.  \n",
    "\n",
    "1. Mostrar por pantalla, sin uso de funciones ni bucles: \n",
    "    - El segundo elemento de `lista_deseo` desde `lista_examen`.\n",
    "    - El calzado que llevas puesto.\n",
    "    - Vuestro nombre.\n",
    "    - La hora almacenada concatenada con vuestra edad y el número de vuestro de DNI. No debe haber espacios entre la concatenación.\n",
    "    - Si tenéis más de 20 años, el primer número de vuestro DNI es mayor a 7 y usas Mac, mostrar la posición 5 de `lista_examen`.\n",
    "    "
   ],
   "cell_type": "markdown",
   "metadata": {}
  },
  {
   "cell_type": "code",
   "execution_count": 23,
   "metadata": {},
   "outputs": [
    {
     "output_type": "stream",
     "name": "stdout",
     "text": [
      "cuchillo\npull&Bear\nKapil\n10.32357\nNo mostramos la posicion 5 porque no se cumplen las condiciones\n"
     ]
    }
   ],
   "source": [
    "#Para la parte d: concatenar hora, edad y dni, lo he hecho de 2 formas ya que no sé a cual de las 2 se refiere en el enunciado.  He hecho una forma concatenando floats e ints (comentado) y otra forma concatenando tipos string.. Imagino que piden el de los strings pero pongo las 2 opciones por si acaso.\n",
    "\n",
    "print(lista_examen[4][1])\n",
    "print(lista_examen[5][2])\n",
    "print(lista_examen[6][\"Nombre\"])\n",
    "#print(lista_examen[7] + lista_examen[6][\"Edad\"] + lista_examen[0]) #forma 1 con valores iniciales (float e Ints)\n",
    "print(str(lista_examen[7]) + str(lista_examen[6][\"Edad\"]) + str(lista_examen[0])) #forma 2 con strings\n",
    "\n",
    "if (lista_examen[6][\"Edad\"] > 20) and (lista_examen[0] > 7) and (lista_examen[2] == False):\n",
    "    print(lista_examen[5])\n",
    "else:\n",
    "    print(\"No mostramos la posicion 5 porque no se cumplen las condiciones\")\n"
   ]
  },
  {
   "source": [
    "2. Mostrar por pantalla, con uso de un bucle `for`:\n",
    "    - Todos los elementos de `lista_examen`.\n",
    "    - Todos los elementos de `lista_deseo` desde `lista_examen`.\n",
    "    - Todos los elementos que ocupen una posición menor a 4 en `lista_examen`.\n"
   ],
   "cell_type": "markdown",
   "metadata": {}
  },
  {
   "cell_type": "code",
   "execution_count": 24,
   "metadata": {},
   "outputs": [
    {
     "output_type": "stream",
     "name": "stdout",
     "text": [
      "7\nK\nTrue\nNone\n['mechero', 'cuchillo', 'movil', 'conservas']\n('springfield', 'Zara', 'pull&Bear')\n{'Nombre': 'Kapil', 'Edad': 35}\n10.32\n------\n['mechero', 'cuchillo', 'movil', 'conservas']\n-------\n7\nK\nTrue\nNone\n"
     ]
    }
   ],
   "source": [
    "#Todos los elementos de lista examen\n",
    "for i in lista_examen:\n",
    "    print(i)\n",
    "print(\"------\")\n",
    "#Todos los elementos de lista_deseo\n",
    "for i in lista_examen:\n",
    "    if i == lista_deseo:\n",
    "        print(i)\n",
    "print(\"-------\")\n",
    "#Todos los elementos que ocupen posicion menor a 4\n",
    "for pos,val in enumerate(lista_examen):\n",
    "    if pos < 4:\n",
    "        print(lista_examen[pos])"
   ]
  },
  {
   "source": [
    "3. Mostrar por pantalla, con uso de un bucle while: \n",
    "    - Todos los elementos de `tupla_ropa` seguido de la cadena `\"-->\"` y la `posición` (int) que ocupa en la tupla accediendo desde `lista_examen`. Se aconseja utilizar *`enumerate`*.\n",
    "    - Cada key de `dict_info` seguido de la cadena \":\" seguido de su value desde `lista_examen`."
   ],
   "cell_type": "markdown",
   "metadata": {}
  },
  {
   "cell_type": "code",
   "execution_count": 25,
   "metadata": {},
   "outputs": [
    {
     "output_type": "stream",
     "name": "stdout",
     "text": [
      "springfield --> 0\nZara --> 1\npull&Bear --> 2\nNombre  :  Kapil\nEdad  :  35\n"
     ]
    }
   ],
   "source": [
    "#Muestro los elementos de tupla_ropa, --> y la posicion\n",
    "acum = 0\n",
    "while acum <= len(lista_examen)-1:\n",
    "    if acum == 5:\n",
    "        for pos,val in enumerate(lista_examen[acum]):\n",
    "            print(val,\"-->\",pos)\n",
    "    acum += 1\n",
    "\n",
    "       \n",
    "#Muestro cada key de dict_info seguido de \":\", seguido de su value:\n",
    "clave=list(dict_info.keys())\n",
    "acum2=0\n",
    "while acum2<len(clave):\n",
    "    print(clave[acum2],\" : \",dict_info[clave[acum2]])\n",
    "    acum2+=1"
   ]
  },
  {
   "source": [
    "#### Ejercicio 3. \n",
    "\n",
    "Crea una clase \"Humano\" que tenga 3 atributos: \"edad\", \"altura\" y \"nombre\". Además, debe contar con dos funciones: \n",
    "\n",
    "- `cumplir_edad`: al llamar a esta función se debe sumar 1 a la edad actual del humano. \n",
    "- `registro_nombre` que recibe parametro \"nuevo_nombre\": al llamar a esta función con un parámetro de entrada, esta función debe cambiar el nombre del humano por el \"nuevo_nombre\"\n",
    "\n",
    "Crea un humano llamado \"Wolfram\" que tiene 23 años de edad y mide 173 centímetros. A \"Wolfram\" nunca le gustó su nombre. Por eso, usa la función correspondiente para cambiarle su nombre por \"Benacio\". Además, hoy es su cumpleaños por lo que usa la función para aumentar su edad. \n",
    "\n",
    "Muestra por pantalla el nombre del humano antes y después de cambiarse de nombre. Muestra también la edad de Benacio antes y después de cumplir años."
   ],
   "cell_type": "markdown",
   "metadata": {}
  },
  {
   "cell_type": "code",
   "execution_count": null,
   "metadata": {},
   "outputs": [],
   "source": [
    "# tu respuesta aquí"
   ]
  },
  {
   "source": [
    "#### Ejercicio 4. \n",
    "\n",
    "Escribe una función `reverse_number` que reciba dos parámetros. Los parámetros son `cadena` y `n`. `cadena` será un string y `n` un entero. La función debe retornar un string que sea el string `cadena` al revés y que tenga concatenado el número `n` por cada caracter de `cadena`.  \n",
    "\n",
    "*No se permite usar la función built-in `reverse` ni pasar el string `cadena` a otro tipo de variable (como list)* \n",
    "\n",
    "Ejemplos de llamada a la función y lo que devuelve la función:\n",
    "\n",
    "--------\n",
    "\n",
    ">> print(reverse_number(cadena=\"aloh\", n=3))\n",
    "\n",
    ">>> h3o3l3a3\n",
    "\n",
    "--------\n",
    "\n",
    ">> print(reverse_number(cadena=\"otipep\", n=85))\n",
    "\n",
    ">>> p85e85p85i85t85o85\n",
    "\n",
    "\n",
    "\n"
   ],
   "cell_type": "markdown",
   "metadata": {}
  },
  {
   "cell_type": "code",
   "execution_count": null,
   "metadata": {},
   "outputs": [],
   "source": []
  }
 ]
}